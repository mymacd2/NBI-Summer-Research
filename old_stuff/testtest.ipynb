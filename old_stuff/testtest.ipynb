{
 "cells": [
  {
   "cell_type": "code",
   "execution_count": 13,
   "metadata": {},
   "outputs": [],
   "source": [
    "# push!(LOAD_PATH, \"/Users/millermacdonald/Desktop/Research_shit/NBI_Research\")\n",
    "using dsnbIOmodule"
   ]
  },
  {
   "cell_type": "code",
   "execution_count": 14,
   "metadata": {},
   "outputs": [
    {
     "name": "stdout",
     "output_type": "stream",
     "text": [
      "  0.317033 seconds (4.37 M allocations: 71.135 MiB, 8.88% gc time)\n"
     ]
    },
    {
     "data": {
      "text/plain": [
       "58.183082753662596"
      ]
     },
     "execution_count": 14,
     "metadata": {},
     "output_type": "execute_result"
    }
   ],
   "source": [
    "@time DSNB_vdecay_3ν_νe_IO_1pc(1, 10^(-25), 10^(-25), true, \"B\", \"small\", 1)"
   ]
  }
 ],
 "metadata": {
  "kernelspec": {
   "display_name": "Julia 1.9.2",
   "language": "julia",
   "name": "julia-1.9"
  },
  "language_info": {
   "file_extension": ".jl",
   "mimetype": "application/julia",
   "name": "julia",
   "version": "1.9.2"
  },
  "orig_nbformat": 4
 },
 "nbformat": 4,
 "nbformat_minor": 2
}
