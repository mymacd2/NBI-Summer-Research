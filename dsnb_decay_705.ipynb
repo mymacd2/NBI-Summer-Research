{
 "cells": [
  {
   "cell_type": "code",
   "execution_count": 1,
   "metadata": {},
   "outputs": [],
   "source": [
    "include(\"F_calculations.jl\");\n",
    "using BenchmarkTools"
   ]
  },
  {
   "cell_type": "code",
   "execution_count": 2,
   "metadata": {},
   "outputs": [],
   "source": [
    "# We can take normchoice to be SNRnorm, SNRnorm_low, or SNRnorm_high\n",
    "function DSNB_integrand(E, z0, z, i, nubar, ordering, bh_frac, normchoice)\n",
    "    c0 = 3e8 # m s^(-1)\n",
    "    if bh_frac == \"21\"\n",
    "        return 0.00208 * (c0*normchoice*SFR(z)/Hubble(z)) * (ηAD(15, 8)*Fmass(E*(1+z)/(1+z0), i, \"small\", ordering, nubar) \n",
    "        + (ηAD(22, 15)+ηAD(27, 25))*Fmass(E*(1+z)/(1+z0), i, \"large\", ordering, nubar) + (ηAD(25, 22)+ηAD(125, 27))*Fmass(E*(1+z)/(1+z0), i, \"bh\", ordering, nubar))\n",
    "    elseif bh_frac == \"41\"\n",
    "        return 0.00208 * (c0*normchoice*SFR(z)/Hubble(z)) * (ηAD(15, 8)*Fmass(E*(1+z)/(1+z0), i, \"small\", ordering, nubar) \n",
    "        + ηAD(125, 15)*Fmass(E*(1+z)/(1+z0), i, \"bh\", ordering, nubar))\n",
    "    elseif bh_frac == \"09\"\n",
    "        return 0.00208 * (c0*normchoice*SFR(z)/Hubble(z)) * (ηAD(15, 8)*Fmass(E*(1+z)/(1+z0), i, \"small\", ordering, nubar)\n",
    "        + ηAD(40, 15)*Fmass(E*(1+z)/(1+z0), i, \"large\", ordering, nubar) + ηAD(125, 40)*Fmass(E*(1+z)/(1+z0), i, \"bh\", ordering, nubar))\n",
    "    else\n",
    "        return 0\n",
    "    end\n",
    "end\n",
    "\n",
    "# Mass method\n",
    "DSNB(E, z0, i, nubar, ordering, bh_frac, normchoice) = 1/(1+z0) * quadgk(z -> DSNB_integrand(E, z0, z, i, nubar, ordering, bh_frac, normchoice), z0, 5, rtol=1e-2)[1]\n",
    "\n",
    "# νe method\n",
    "function DSNB(E, z0, nubar, ordering, bh_frac, normchoice)\n",
    "    ν1 = DSNB(E, z0, 1, nubar, ordering, bh_frac, normchoice)\n",
    "    ν2 = DSNB(E, z0, 2, nubar, ordering, bh_frac, normchoice)\n",
    "    ν3 = DSNB(E, z0, 3, nubar, ordering, bh_frac, normchoice)\n",
    "    return Usqred(ordering)[1, 1]*ν1 + Usqred(ordering)[1, 2]*ν2 + Usqred(ordering)[1, 3]*ν3\n",
    "end\n",
    "\n",
    "\n",
    "# Separating the progenitors: 1pc ≡ one progenitor contribution\n",
    "\n",
    "function DSNB_integrand_1pc(E, z0, z, i, nubar, ordering, sm, normchoice)\n",
    "    c0 = 3e8 # m s^(-1)\n",
    "    # Adding in this integrated mass function so we can multiply by bh fractions at the end\n",
    "    return 0.00208 * ηAD(125, 8) * (c0*normchoice*SFR(z)/Hubble(z)) * Fmass(E*(1+z)/(1+z0), i, sm, ordering, nubar)\n",
    "end\n",
    "\n",
    "DSNB_1pc(E, z0, i, nubar, ordering, sm, normchoice) = 1/(1+z0) * quadgk(z -> DSNB_integrand_1pc(E, z0, z, i, nubar, ordering, sm, normchoice), z0, 5, rtol=1e-2)[1]\n",
    "\n",
    "function DSNB_1pc(E, z0, nubar, ordering, sm, normchoice)\n",
    "    ν1 = DSNB_1pc(E, z0, 1, nubar, ordering, sm, normchoice)\n",
    "    ν2 = DSNB_1pc(E, z0, 2, nubar, ordering, sm, normchoice)\n",
    "    ν3 = DSNB_1pc(E, z0, 3, nubar, ordering, sm, normchoice)\n",
    "    return Usqred(ordering)[1, 1]*ν1 + Usqred(ordering)[1, 2]*ν2 + Usqred(ordering)[1, 3]*ν3\n",
    "end;"
   ]
  },
  {
   "cell_type": "code",
   "execution_count": 4,
   "metadata": {},
   "outputs": [
    {
     "name": "stdout",
     "output_type": "stream",
     "text": [
      "  0.000075 seconds (12 allocations: 192 bytes)\n"
     ]
    },
    {
     "data": {
      "text/plain": [
       "0.013501347362099852"
      ]
     },
     "execution_count": 4,
     "metadata": {},
     "output_type": "execute_result"
    }
   ],
   "source": [
    "@time DSNB_integrand(1, 0, 0.1, 1, true, \"IO\", \"21\", SNRnorm)"
   ]
  },
  {
   "cell_type": "code",
   "execution_count": 7,
   "metadata": {},
   "outputs": [
    {
     "name": "stdout",
     "output_type": "stream",
     "text": [
      "  0.000574 seconds (730 allocations: 12.047 KiB)\n"
     ]
    },
    {
     "data": {
      "text/plain": [
       "0.7095897823701633"
      ]
     },
     "execution_count": 7,
     "metadata": {},
     "output_type": "execute_result"
    }
   ],
   "source": [
    "@time DSNB(1, 0, 1, true, \"IO\", \"21\", SNRnorm)"
   ]
  },
  {
   "cell_type": "code",
   "execution_count": 8,
   "metadata": {},
   "outputs": [
    {
     "data": {
      "text/plain": [
       "decay (generic function with 1 method)"
      ]
     },
     "execution_count": 8,
     "metadata": {},
     "output_type": "execute_result"
    }
   ],
   "source": [
    "# Define this effective length function\n",
    "LeffIntegrand(z) = (H0*sqrt(energy_matter*(1+z)^3 + energy_dark))^(-1)*(1+z)^(-2)\n",
    "\n",
    "leff_quadint(z0) = quadgk(z -> LeffIntegrand(z), 0, z0)[1]\n",
    "\n",
    "zs_leff = range(0, 5, 1000)\n",
    "leff_ne = Interpolations.interpolate((vec(zs_leff),), leff_quadint.(zs_leff), Gridded(Linear()))\n",
    "lefftrue = extrapolate(leff_ne, 0.0)\n",
    "\n",
    "# Approximating with a 14 degree polynomial\n",
    "\n",
    "# Procedure for fitting the polynomial\n",
    "#=\n",
    "xsvec = range(0, 5, 100)\n",
    "leffsvec = 70*leff.(xsvec)\n",
    "\n",
    "p = Polynomials.fit(xsvec, leffsvec, 14)\n",
    "=#\n",
    "\n",
    "function leff(x) \n",
    "    if x == 0.0\n",
    "        return 0.0\n",
    "    else\n",
    "        (3.844126829887412e-6 + 0.9994711237154343*x - 1.2171757160998375*x^2 + 1.2011732904692138*x^3 - 1.0258795580085436*x^4 + 0.7535135022231549*x^5 - 0.4576091931617817*x^6 + 0.2207326320476638*x^7 - 0.0820545498767346*x^8 + 0.022953521018636694*x^9 - 0.004712524469463747*x^(10) + 0.0006858791896371295*x^(11) - 6.682066367256103e-5*x^(12) + 3.9015397017829775e-6*x^(13) - 1.0310563080271216e-7*x^(14))/70\n",
    "    end\n",
    "end\n",
    "\n",
    "# Decay function \n",
    "function decay(E, α, z0, z)\n",
    "    scalefactor = 4.68e28\n",
    "    return exp(-scalefactor*α*(leff(z) - leff(z0))*(1+z0)/E)\n",
    "end"
   ]
  },
  {
   "cell_type": "code",
   "execution_count": 10,
   "metadata": {},
   "outputs": [
    {
     "name": "stdout",
     "output_type": "stream",
     "text": [
      "  0.000001 seconds\n"
     ]
    },
    {
     "data": {
      "text/plain": [
       "0.09355412803774756"
      ]
     },
     "execution_count": 10,
     "metadata": {},
     "output_type": "execute_result"
    }
   ],
   "source": [
    "@time decay(1, 10^(-26), 0.1, 1)"
   ]
  },
  {
   "cell_type": "code",
   "execution_count": 11,
   "metadata": {},
   "outputs": [],
   "source": [
    "# This function returns the redshift point where the decay function has attenuated by \n",
    "# roughly two orders of magnitude, and if we break the integral bounds at this point the integral might run faster\n",
    "# with QuadGK.jl\n",
    "function zcutoff(E, α, z0)\n",
    "    innerpart = 0.007+(E/(4.68e28*α))*log(0.01*exp(-4.68e28*α*leff(z0)/E))\n",
    "    if innerpart > 0.0\n",
    "        return -0.555*(log(350*(innerpart))-0.9)\n",
    "    else\n",
    "        return 0.0\n",
    "    end\n",
    "end;"
   ]
  },
  {
   "cell_type": "code",
   "execution_count": 12,
   "metadata": {},
   "outputs": [],
   "source": [
    "# Invisible decay implementation\n",
    "\n",
    "# Mass method\n",
    "function DSNB_idecay(E, z0, α, i, nubar, ordering, bh_frac, normchoice)\n",
    "    zcut = zcutoff(E, α, z0)\n",
    "    if zcut > z0 && zcut < 5 && decay(E, α, z0, zcut) < 0.1\n",
    "        return quadgk(z -> 1/(1+z0) * DSNB_integrand(E, z0, z, i, nubar, ordering, bh_frac, normchoice)*decay(E, α, z0, z), z0, zcut, 5, rtol=1e-2)[1]\n",
    "    else\n",
    "        return quadgk(z -> 1/(1+z0) * DSNB_integrand(E, z0, z, i, nubar, ordering, bh_frac, normchoice)*decay(E, α, z0, z), z0, 5, rtol=1e-2)[1]\n",
    "    end\n",
    "end\n",
    "\n",
    "# νe method\n",
    "function DSNB_idecay(E, z0, α1, α2, α3, nubar, ordering, bh_frac, normchoice)\n",
    "    ν1 = DSNB_idecay(E, z0, α1, 1, nubar, ordering, bh_frac, normchoice)\n",
    "    ν2 = DSNB_idecay(E, z0, α2, 2, nubar, ordering, bh_frac, normchoice)\n",
    "    ν3 = DSNB_idecay(E, z0, α3, 3, nubar, ordering, bh_frac, normchoice)\n",
    "    return Usqred(ordering)[1, 1]*ν1 + Usqred(ordering)[1, 2]*ν2 + Usqred(ordering)[1, 3]*ν3\n",
    "end\n",
    "\n",
    "# Single progenitor versions\n",
    "function DSNB_idecay_1pc(E, z0, α, i, nubar, ordering, sm, normchoice)\n",
    "    zcut = zcutoff(E, α, z0)\n",
    "    if zcut > z0 && zcut < 5 && decay(E, α, z0, zcut) < 0.1\n",
    "        return quadgk(z -> 1/(1+z0) * DSNB_integrand_1pc(E, z0, z, i, nubar, ordering, sm, normchoice)*decay(E, α, z0, z), z0, zcut, 5, rtol=1e-2)[1]\n",
    "    else\n",
    "        return quadgk(z -> 1/(1+z0) * DSNB_integrand_1pc(E, z0, z, i, nubar, ordering, sm, normchoice)*decay(E, α, z0, z), z0, 5, rtol=1e-2)[1]\n",
    "    end\n",
    "end\n",
    "\n",
    "function DSNB_idecay_1pc(E, z0, α1, α2, α3, nubar, ordering, sm, normchoice)\n",
    "    ν1 = DSNB_idecay_1pc(E, z0, α1, 1, nubar, ordering, sm, normchoice)\n",
    "    ν2 = DSNB_idecay_1pc(E, z0, α2, 2, nubar, ordering, sm, normchoice)\n",
    "    ν3 = DSNB_idecay_1pc(E, z0, α3, 3, nubar, ordering, sm, normchoice)\n",
    "    return Usqred(ordering)[1, 1]*ν1 + Usqred(ordering)[1, 2]*ν2 + Usqred(ordering)[1, 3]*ν3\n",
    "end;"
   ]
  },
  {
   "cell_type": "code",
   "execution_count": 14,
   "metadata": {},
   "outputs": [
    {
     "name": "stdout",
     "output_type": "stream",
     "text": [
      "  0.000134 seconds (1.07 k allocations: 17.828 KiB)\n"
     ]
    },
    {
     "data": {
      "text/plain": [
       "0.0026975589069186266"
      ]
     },
     "execution_count": 14,
     "metadata": {},
     "output_type": "execute_result"
    }
   ],
   "source": [
    "@time DSNB_idecay_1pc(10, 0, 10^(-24), 10^(-24), 10^(-24), true, \"IO\", \"small\", SNRnorm)"
   ]
  },
  {
   "cell_type": "code",
   "execution_count": 15,
   "metadata": {},
   "outputs": [],
   "source": [
    "# Energy spectrum function for SH case\n",
    "function ψSH(Eh, El, hc)\n",
    "    if hc\n",
    "        return 2*El/Eh^2\n",
    "    else\n",
    "        return (2/Eh)*(1-(El/Eh))\n",
    "    end\n",
    "end;"
   ]
  },
  {
   "cell_type": "code",
   "execution_count": 16,
   "metadata": {},
   "outputs": [],
   "source": [
    "# 2ν SH treatment assuming the smallest mass state has a mass of ≈0 (so all channels are SH except for IO ν2 → ν1, which is QD)\n",
    "\n",
    "# We take m_j > m_i\n",
    "function qcontrib_2ν(E, z0, z, j, jbar, i, ibar, αj, ordering, bh_frac, normchoice)\n",
    "\n",
    "    if ordering == \"NO\" && j <= i\n",
    "        return println(\"error: not kinematically allowed\")\n",
    "    elseif ordering == \"IO\" && j == 1 && i == 2\n",
    "        return println(\"error: not kinematically allowed\")\n",
    "    elseif ordering == \"IO\" && j == 3 && i == 1\n",
    "        return println(\"error: not kinematically allowed\")\n",
    "    elseif ordering == \"IO\" && j == 3 && i == 2\n",
    "        return println(\"error: not kinematically allowed\")\n",
    "    elseif ordering == \"IO\" && j == 2 && i == 1\n",
    "        if jbar != ibar\n",
    "            return 0.0\n",
    "        else\n",
    "            Ers = E*(1+z)/(1+z0)\n",
    "            qnorm = 3.086e19 * 1.516e15 * 1e6 / (3e8 * 1e12)\n",
    "            return qnorm * (c0/Hubble(z))*DSNB_idecay(Ers, z, αj, j, jbar, ordering, bh_frac, normchoice) * (αj/Ers)\n",
    "        end\n",
    "    else\n",
    "        if jbar == ibar\n",
    "            hc = true\n",
    "        else\n",
    "            hc = false\n",
    "        end\n",
    "\n",
    "        Ers = E*(1+z)/(1+z0)\n",
    "\n",
    "        qnorm = 3.086e19 * 1.516e15 * 1e6 / (3e8 * 1e12)\n",
    "        integrand(Eprime) = qnorm * (c0/Hubble(z))*DSNB_idecay(Eprime, z, αj, j, jbar, ordering, bh_frac, normchoice) * (αj * 0.5/Eprime) * ψSH(Eprime, Ers, hc)\n",
    "        Emax = Ers + 50\n",
    "\n",
    "        return quadgk(Eprime -> integrand(Eprime), Ers, Emax, rtol=1e-2)[1]\n",
    "    end\n",
    "end\n",
    "\n",
    "function DSNB_vdecay_2ν(E, αj, i, ibar, ordering, bh_frac, normchoice)\n",
    "    if αj == 0\n",
    "        return DSNB_idecay(E, 0, 0, i, ibar, ordering, bh_frac, normchoice)\n",
    "    elseif ordering == \"NO\" && i == 3\n",
    "        return DSNB_idecay(E, 0, αj, i, ibar, \"NO\", bh_frac, normchoice)\n",
    "    elseif ordering == \"IO\" && i == 2\n",
    "        return DSNB_idecay(E, 0, αj, i, ibar, \"IO\", bh_frac, normchoice)\n",
    "    else\n",
    "        # Here, for NO we take ν2 to be stable and for IO we take ν1 to be stable, and we take the lightest mass states to be stable as well\n",
    "        if ordering == \"NO\"\n",
    "            qint = quadgk(z -> (qcontrib_2ν(E, 0, z, 3, false, i, ibar, αj, \"NO\", bh_frac, normchoice)+qcontrib_2ν(E, 0, z, 3, true, i, ibar, αj, \"NO\", bh_frac, normchoice)), 0, 5, rtol=1e-2)[1]\n",
    "        elseif ordering == \"IO\"\n",
    "            qint = quadgk(z -> (qcontrib_2ν(E, 0, z, 2, false, i, ibar, αj, \"IO\", bh_frac, normchoice)+qcontrib_2ν(E, 0, z, 2, true, i, ibar, αj, \"IO\", bh_frac, normchoice)), 0, 5, rtol=1e-2)[1]\n",
    "        else\n",
    "            return println(\"error: ordering takes either 'NO' or 'IO'\")\n",
    "        end\n",
    "        return DSNB_idecay(E, 0, 0, i, ibar, ordering, bh_frac, normchoice) + qint\n",
    "    end\n",
    "end;\n",
    "\n",
    "# Other few cases where the heaviest mass state and lightest mass state are stable, and the middle mass state decays into the lightest mass state\n",
    "function DSNB_vdecay_2ν_alt(E, αj, i, ibar, ordering, bh_frac, normchoice)\n",
    "    if αj == 0\n",
    "        return DSNB_idecay(E, 0, 0, i, ibar, ordering, bh_frac, normchoice)\n",
    "    elseif ordering == \"NO\" && i == 2\n",
    "        return DSNB_idecay(E, 0, αj, i, ibar, \"NO\", bh_frac, normchoice)\n",
    "    elseif ordering == \"IO\" && i == 1\n",
    "        return DSNB_idecay(E, 0, αj, i, ibar, \"IO\", bh_frac, normchoice)\n",
    "    elseif ordering == \"NO\" && i == 3\n",
    "        return DSNB_idecay(E, 0, 0, i, ibar, \"NO\", bh_frac, normchoice)\n",
    "    elseif ordering == \"IO\" && i == 2\n",
    "        return DSNB_idecay(E, 0, 0, i, ibar, \"IO\", bh_frac, normchoice)\n",
    "    else\n",
    "        # Here, for NO we take ν1 to be stable and for IO we take ν2 to be stable, and we take the lightest mass states to be stable as well\n",
    "        if ordering == \"NO\"\n",
    "            qint = quadgk(z -> (qcontrib_2ν(E, 0, z, 2, false, i, ibar, αj, \"NO\", bh_frac, normchoice)+qcontrib_2ν(E, 0, z, 2, true, i, ibar, αj, \"NO\", bh_frac, normchoice)), 0, 5, rtol=1e-2)[1]\n",
    "        elseif ordering == \"IO\"\n",
    "            qint = quadgk(z -> (qcontrib_2ν(E, 0, z, 1, false, i, ibar, αj, \"IO\", bh_frac, normchoice)+qcontrib_2ν(E, 0, z, 1, true, i, ibar, αj, \"IO\", bh_frac, normchoice)), 0, 5, rtol=1e-2)[1]\n",
    "        else\n",
    "            return println(\"error: ordering takes either 'NO' or 'IO'\")\n",
    "        end\n",
    "        return DSNB_idecay(E, 0, 0, i, ibar, ordering, bh_frac, normchoice) + qint\n",
    "    end\n",
    "end\n",
    "\n",
    "# daughter specifies the state the heaviest mass state decays into in our 2ν framework\n",
    "function DSNB_vdecay_2ν_νe(E, α, daughter, ebar, ordering, bh_frac, normchoice)\n",
    "    if ordering == \"NO\"\n",
    "        if daughter == 1\n",
    "            α1, α2, α3 = α, 0.0, α\n",
    "        elseif daughter == 2\n",
    "            α1, α2, α3 = 0.0, α, α\n",
    "        else\n",
    "            return println(\"error: for NO, 'daughter' must be either ν1 or ν2\")\n",
    "        end\n",
    "    elseif ordering == \"IO\"\n",
    "        if daughter == 3\n",
    "            α3, α1, α2 = α, 0.0, α\n",
    "        elseif daughter == 1\n",
    "            α3, α1, α2 = 0.0, α, α\n",
    "        else\n",
    "            return println(\"error: for IO, 'daughter' must be either ν1 or ν3\")\n",
    "        end\n",
    "    else\n",
    "        return println(\"error: ordering must take either 'NO' or 'IO'\")\n",
    "    end\n",
    "    ν3 = DSNB_vdecay_2ν(E, α3, 3, ebar, ordering, bh_frac, normchoice)\n",
    "    ν2 = DSNB_vdecay_2ν(E, α2, 2, ebar, ordering, bh_frac, normchoice)\n",
    "    ν1 = DSNB_vdecay_2ν(E, α1, 1, ebar, ordering, bh_frac, normchoice)\n",
    "    return Usqred(\"NO\")[1, 1]*ν1 + Usqred(\"NO\")[1, 2]*ν2 + Usqred(\"NO\")[1, 3]*ν3\n",
    "end\n",
    "\n",
    "# If we don't specify a daughter, the decay channel is assumed to be from the second lightest to the lightest state\n",
    "function DSNB_vdecay_2ν_νe(E, α, ebar, ordering, bh_frac, normchoice)\n",
    "    if ordering == \"NO\"\n",
    "        α1, α2, α3 = α, α, 0.0\n",
    "    elseif ordering == \"IO\"\n",
    "        α1, α2, α3 = α, 0.0, α\n",
    "    else\n",
    "        return println(\"error: ordering must take either 'NO' or 'IO'\")\n",
    "    end\n",
    "    ν3 = DSNB_vdecay_2ν_alt(E, α3, 3, ebar, ordering, bh_frac, normchoice)\n",
    "    ν2 = DSNB_vdecay_2ν_alt(E, α2, 2, ebar, ordering, bh_frac, normchoice)\n",
    "    ν1 = DSNB_vdecay_2ν_alt(E, α1, 1, ebar, ordering, bh_frac, normchoice)\n",
    "    return Usqred(\"NO\")[1, 1]*ν1 + Usqred(\"NO\")[1, 2]*ν2 + Usqred(\"NO\")[1, 3]*ν3\n",
    "end\n",
    "\n",
    "\n",
    "# Single progenitor versions\n",
    "function qcontrib_2ν_1pc(E, z0, z, j, jbar, i, ibar, αj, ordering, sm, normchoice)\n",
    "\n",
    "    if ordering == \"NO\" && j <= i\n",
    "        return println(\"error: not kinematically allowed\")\n",
    "    elseif ordering == \"IO\" && j == 1 && i == 2\n",
    "        return println(\"error: not kinematically allowed\")\n",
    "    elseif ordering == \"IO\" && j == 3 && i == 1\n",
    "        return println(\"error: not kinematically allowed\")\n",
    "    elseif ordering == \"IO\" && j == 3 && i == 2\n",
    "        return println(\"error: not kinematically allowed\")\n",
    "    elseif ordering == \"IO\" && j == 2 && i == 1\n",
    "        if jbar != ibar\n",
    "            return 0.0\n",
    "        else\n",
    "            Ers = E*(1+z)/(1+z0)\n",
    "            qnorm = 3.086e19 * 1.516e15 * 1e6 / (3e8 * 1e12)\n",
    "            return qnorm * (c0/Hubble(z))*DSNB_idecay_1pc(Ers, z, αj, j, jbar, ordering, sm, normchoice) * (αj/Ers)\n",
    "        end\n",
    "    else\n",
    "        if jbar == ibar\n",
    "            hc = true\n",
    "        else\n",
    "            hc = false\n",
    "        end\n",
    "\n",
    "        Ers = E*(1+z)/(1+z0)\n",
    "\n",
    "        qnorm = 3.086e19 * 1.516e15 * 1e6 / (3e8 * 1e12)\n",
    "        integrand(Eprime) = qnorm * (c0/Hubble(z))*DSNB_idecay_1pc(Eprime, z, αj, j, jbar, ordering, sm, normchoice) * (αj * 0.5/Eprime) * ψSH(Eprime, Ers, hc)\n",
    "        Emax = Ers + 50\n",
    "\n",
    "        return quadgk(Eprime -> integrand(Eprime), Ers, Emax, rtol=1e-2)[1]\n",
    "    end\n",
    "end\n",
    "\n",
    "function DSNB_vdecay_2ν_1pc(E, αj, i, ibar, ordering, sm, normchoice)\n",
    "    if αj == 0\n",
    "        return DSNB_idecay_1pc(E, 0, 0, i, ibar, ordering, sm, normchoice)\n",
    "    elseif ordering == \"NO\" && i == 3\n",
    "        return DSNB_idecay_1pc(E, 0, αj, i, ibar, \"NO\", sm, normchoice)\n",
    "    elseif ordering == \"IO\" && i == 2\n",
    "        return DSNB_idecay_1pc(E, 0, αj, i, ibar, \"IO\", sm, normchoice)\n",
    "    else\n",
    "        # Here, for NO we take ν2 to be stable and for IO we take ν1 to be stable, and we take the lightest mass states to be stable as well\n",
    "        if ordering == \"NO\"\n",
    "            qint = quadgk(z -> (qcontrib_2ν_1pc(E, 0, z, 3, false, i, ibar, αj, \"NO\", sm, normchoice)+qcontrib_2ν_1pc(E, 0, z, 3, true, i, ibar, αj, \"NO\", sm, normchoice)), 0, 5, rtol=1e-2)[1]\n",
    "        elseif ordering == \"IO\"\n",
    "            qint = quadgk(z -> (qcontrib_2ν_1pc(E, 0, z, 2, false, i, ibar, αj, \"IO\", sm, normchoice)+qcontrib_2ν_1pc(E, 0, z, 2, true, i, ibar, αj, \"IO\", sm, normchoice)), 0, 5, rtol=1e-2)[1]\n",
    "        else\n",
    "            return println(\"error: ordering takes either 'NO' or 'IO'\")\n",
    "        end\n",
    "        return DSNB_idecay_1pc(E, 0, 0, i, ibar, ordering, sm, normchoice) + qint\n",
    "    end\n",
    "end;\n",
    "\n",
    "# Other few cases where the heaviest mass state and lightest mass state are stable, and the middle mass state decays into the lightest mass state\n",
    "function DSNB_vdecay_2ν_alt_1pc(E, αj, i, ibar, ordering, sm, normchoice)\n",
    "    if αj == 0\n",
    "        return DSNB_idecay_1pc(E, 0, 0, i, ibar, ordering, sm, normchoice)\n",
    "    elseif ordering == \"NO\" && i == 2\n",
    "        return DSNB_idecay_1pc(E, 0, αj, i, ibar, \"NO\", sm, normchoice)\n",
    "    elseif ordering == \"IO\" && i == 1\n",
    "        return DSNB_idecay_1pc(E, 0, αj, i, ibar, \"IO\", sm, normchoice)\n",
    "    elseif ordering == \"NO\" && i == 3\n",
    "        return DSNB_idecay_1pc(E, 0, 0, i, ibar, \"NO\", sm, normchoice)\n",
    "    elseif ordering == \"IO\" && i == 2\n",
    "        return DSNB_idecay_1pc(E, 0, 0, i, ibar, \"IO\", sm, normchoice)\n",
    "    else\n",
    "        # Here, for NO we take ν1 to be stable and for IO we take ν2 to be stable, and we take the lightest mass states to be stable as well\n",
    "        if ordering == \"NO\"\n",
    "            qint = quadgk(z -> (qcontrib_2ν_1pc(E, 0, z, 2, false, i, ibar, αj, \"NO\", sm, normchoice)+qcontrib_2ν_1pc(E, 0, z, 2, true, i, ibar, αj, \"NO\", sm, normchoice)), 0, 5, rtol=1e-2)[1]\n",
    "        elseif ordering == \"IO\"\n",
    "            qint = quadgk(z -> (qcontrib_2ν_1pc(E, 0, z, 1, false, i, ibar, αj, \"IO\", sm, normchoice)+qcontrib_2ν_1pc(E, 0, z, 1, true, i, ibar, αj, \"IO\", sm, normchoice)), 0, 5, rtol=1e-2)[1]\n",
    "        else\n",
    "            return println(\"error: ordering takes either 'NO' or 'IO'\")\n",
    "        end\n",
    "        return DSNB_idecay_1pc(E, 0, 0, i, ibar, ordering, sm, normchoice) + qint\n",
    "    end\n",
    "end\n",
    "\n",
    "# daughter specifies the state the heaviest mass state decays into in our 2ν framework\n",
    "function DSNB_vdecay_2ν_νe_1pc(E, α, daughter, ebar, ordering, sm, normchoice)\n",
    "    if ordering == \"NO\"\n",
    "        if daughter == 1\n",
    "            α1, α2, α3 = α, 0.0, α\n",
    "        elseif daughter == 2\n",
    "            α1, α2, α3 = 0.0, α, α\n",
    "        else\n",
    "            return println(\"error: for NO, 'daughter' must be either ν1 or ν2\")\n",
    "        end\n",
    "    elseif ordering == \"IO\"\n",
    "        if daughter == 3\n",
    "            α3, α1, α2 = α, 0.0, α\n",
    "        elseif daughter == 1\n",
    "            α3, α1, α2 = 0.0, α, α\n",
    "        else\n",
    "            return println(\"error: for IO, 'daughter' must be either ν1 or ν3\")\n",
    "        end\n",
    "    else\n",
    "        return println(\"error: ordering must take either 'NO' or 'IO'\")\n",
    "    end\n",
    "    ν3 = DSNB_vdecay_2ν_1pc(E, α3, 3, ebar, ordering, sm, normchoice)\n",
    "    ν2 = DSNB_vdecay_2ν_1pc(E, α2, 2, ebar, ordering, sm, normchoice)\n",
    "    ν1 = DSNB_vdecay_2ν_1pc(E, α1, 1, ebar, ordering, sm, normchoice)\n",
    "    return Usqred(\"NO\")[1, 1]*ν1 + Usqred(\"NO\")[1, 2]*ν2 + Usqred(\"NO\")[1, 3]*ν3\n",
    "end\n",
    "\n",
    "# If we don't specify a daughter, the decay channel is assumed to be from the second lightest to the lightest state\n",
    "function DSNB_vdecay_2ν_νe_1pc(E, α, ebar, ordering, sm, normchoice)\n",
    "    if ordering == \"NO\"\n",
    "        α1, α2, α3 = α, α, 0.0\n",
    "    elseif ordering == \"IO\"\n",
    "        α1, α2, α3 = α, 0.0, α\n",
    "    else\n",
    "        return println(\"error: ordering must take either 'NO' or 'IO'\")\n",
    "    end\n",
    "    ν3 = DSNB_vdecay_2ν_alt_1pc(E, α3, 3, ebar, ordering, sm, normchoice)\n",
    "    ν2 = DSNB_vdecay_2ν_alt_1pc(E, α2, 2, ebar, ordering, sm, normchoice)\n",
    "    ν1 = DSNB_vdecay_2ν_alt_1pc(E, α1, 1, ebar, ordering, sm, normchoice)\n",
    "    return Usqred(\"NO\")[1, 1]*ν1 + Usqred(\"NO\")[1, 2]*ν2 + Usqred(\"NO\")[1, 3]*ν3\n",
    "end;"
   ]
  },
  {
   "cell_type": "code",
   "execution_count": 126,
   "metadata": {},
   "outputs": [],
   "source": [
    "function DSNB_vdecay_2ν_νe_1pc_tot(E, α, daughter, ebar, ordering, sm, normchoice)\n",
    "    if daughter == \"alt\"\n",
    "        return DSNB_vdecay_2ν_νe_1pc(E, α, ebar, ordering, sm, normchoice)\n",
    "    elseif daughter == 1 || daughter == 2\n",
    "        return DSNB_vdecay_2ν_νe_1pc(E, α, daughter, ebar, ordering, sm, normchoice)\n",
    "    else\n",
    "        return println(\"error: incorrect decay channel specification\")\n",
    "    end\n",
    "end;"
   ]
  },
  {
   "cell_type": "code",
   "execution_count": 131,
   "metadata": {},
   "outputs": [
    {
     "data": {
      "text/plain": [
       "0.4692602619522594"
      ]
     },
     "execution_count": 131,
     "metadata": {},
     "output_type": "execute_result"
    }
   ],
   "source": [
    "DSNB_vdecay_2ν_νe_1pc(0.5, 3.9810717055349856e-26, 1, true, \"IO\", \"large\", SNRnorm)"
   ]
  },
  {
   "cell_type": "code",
   "execution_count": null,
   "metadata": {},
   "outputs": [],
   "source": [
    "/groups/astro/mymacd2/2nuIO/outputs"
   ]
  },
  {
   "cell_type": "code",
   "execution_count": 129,
   "metadata": {},
   "outputs": [
    {
     "data": {
      "text/plain": [
       "3.1176398282660562"
      ]
     },
     "execution_count": 129,
     "metadata": {},
     "output_type": "execute_result"
    }
   ],
   "source": [
    "DSNB_vdecay_2ν_νe_1pc_tot(0.5, 10^(-24), 1, true, \"NO\", \"small\", SNRnorm)"
   ]
  },
  {
   "cell_type": "code",
   "execution_count": 36,
   "metadata": {},
   "outputs": [
    {
     "name": "stdout",
     "output_type": "stream",
     "text": [
      "  0.475500 seconds (7.70 M allocations: 120.603 MiB, 3.55% gc time)\n"
     ]
    },
    {
     "data": {
      "text/plain": [
       "1.5877639437780338"
      ]
     },
     "execution_count": 36,
     "metadata": {},
     "output_type": "execute_result"
    }
   ],
   "source": [
    "@time DSNB_vdecay_2ν_νe(0.5, 10^(-22), 2, true, \"NO\", \"21\", SNRnorm)"
   ]
  },
  {
   "cell_type": "code",
   "execution_count": 20,
   "metadata": {},
   "outputs": [],
   "source": [
    "es_dsnb = range(0.5, 40, 100);"
   ]
  },
  {
   "cell_type": "code",
   "execution_count": 40,
   "metadata": {},
   "outputs": [],
   "source": [
    "dsnb_nodecay_nuebar = DSNB.(es_dsnb, 0, true, \"NO\", \"21\", SNRnorm)\n",
    "dsnb_nodecay_nue = DSNB.(es_dsnb, 0, false, \"NO\", \"21\", SNRnorm)\n",
    "dsnb_nodecay_nuebar_low, dsnb_nodecay_nuebar_high = DSNB.(es_dsnb, 0, true, \"NO\", \"21\", SNRnorm_low), DSNB.(es_dsnb, 0, true, \"NO\", \"21\", SNRnorm_high)\n",
    "dsnb_nodecay_nue_low, dsnb_nodecay_nue_high = DSNB.(es_dsnb, 0, false, \"NO\", \"21\", SNRnorm_low), DSNB.(es_dsnb, 0, false, \"NO\", \"21\", SNRnorm_high);"
   ]
  },
  {
   "cell_type": "code",
   "execution_count": 94,
   "metadata": {},
   "outputs": [],
   "source": [
    "dsnb_nodecay_IO_nuebar = DSNB.(es_dsnb, 0, true, \"IO\", \"21\", SNRnorm)\n",
    "dsnb_nodecay_IO_nue = DSNB.(es_dsnb, 0, false, \"IO\", \"21\", SNRnorm)\n",
    "dsnb_nodecay_IO_nuebar_low, dsnb_nodecay_IO_nuebar_high = DSNB.(es_dsnb, 0, true, \"IO\", \"21\", SNRnorm_low), DSNB.(es_dsnb, 0, true, \"IO\", \"21\", SNRnorm_high)\n",
    "dsnb_nodecay_IO_nue_low, dsnb_nodecay_IO_nue_high = DSNB.(es_dsnb, 0, false, \"IO\", \"21\", SNRnorm_low), DSNB.(es_dsnb, 0, false, \"IO\", \"21\", SNRnorm_high);"
   ]
  },
  {
   "cell_type": "code",
   "execution_count": 37,
   "metadata": {},
   "outputs": [],
   "source": [
    "dsnb_vdecay_3to2_21_nuebar = DSNB_vdecay_2ν_νe.(es_dsnb, 10^(-21), 2, true, \"NO\", \"21\", SNRnorm)\n",
    "dsnb_vdecay_3to2_24_nuebar = DSNB_vdecay_2ν_νe.(es_dsnb, 10^(-24), 2, true, \"NO\", \"21\", SNRnorm)\n",
    "dsnb_vdecay_3to2_25_nuebar = DSNB_vdecay_2ν_νe.(es_dsnb, 10^(-25), 2, true, \"NO\", \"21\", SNRnorm)\n",
    "dsnb_vdecay_3to2_26_nuebar = DSNB_vdecay_2ν_νe.(es_dsnb, 10^(-26), 2, true, \"NO\", \"21\", SNRnorm)\n",
    "dsnb_vdecay_3to2_21_nue = DSNB_vdecay_2ν_νe.(es_dsnb, 10^(-21), 2, false, \"NO\", \"21\", SNRnorm)\n",
    "dsnb_vdecay_3to2_24_nue = DSNB_vdecay_2ν_νe.(es_dsnb, 10^(-24), 2, false, \"NO\", \"21\", SNRnorm)\n",
    "dsnb_vdecay_3to2_25_nue = DSNB_vdecay_2ν_νe.(es_dsnb, 10^(-25), 2, false, \"NO\", \"21\", SNRnorm)\n",
    "dsnb_vdecay_3to2_26_nue = DSNB_vdecay_2ν_νe.(es_dsnb, 10^(-26), 2, false, \"NO\", \"21\", SNRnorm);"
   ]
  },
  {
   "cell_type": "code",
   "execution_count": 62,
   "metadata": {},
   "outputs": [],
   "source": [
    "dsnb_vdecay_3to1_24_nuebar = DSNB_vdecay_2ν_νe.(es_dsnb, 10^(-24), 1, true, \"NO\", \"21\", SNRnorm)\n",
    "dsnb_vdecay_3to1_25_nuebar = DSNB_vdecay_2ν_νe.(es_dsnb, 10^(-25), 1, true, \"NO\", \"21\", SNRnorm)\n",
    "dsnb_vdecay_3to1_26_nuebar = DSNB_vdecay_2ν_νe.(es_dsnb, 10^(-26), 1, true, \"NO\", \"21\", SNRnorm)\n",
    "dsnb_vdecay_3to1_24_nue = DSNB_vdecay_2ν_νe.(es_dsnb, 10^(-24), 1, false, \"NO\", \"21\", SNRnorm)\n",
    "dsnb_vdecay_3to1_25_nue = DSNB_vdecay_2ν_νe.(es_dsnb, 10^(-25), 1, false, \"NO\", \"21\", SNRnorm)\n",
    "dsnb_vdecay_3to1_26_nue = DSNB_vdecay_2ν_νe.(es_dsnb, 10^(-26), 1, false, \"NO\", \"21\", SNRnorm);"
   ]
  },
  {
   "cell_type": "code",
   "execution_count": 69,
   "metadata": {},
   "outputs": [],
   "source": [
    "dsnb_vdecay_3to1_21_nuebar = DSNB_vdecay_2ν_νe.(es_dsnb, 10^(-21), 1, true, \"NO\", \"21\", SNRnorm);"
   ]
  },
  {
   "cell_type": "code",
   "execution_count": 86,
   "metadata": {},
   "outputs": [],
   "source": [
    "dsnb_vdecay_3to1_21_nue = DSNB_vdecay_2ν_νe.(es_dsnb, 10^(-21), 1, false, \"NO\", \"21\", SNRnorm);"
   ]
  },
  {
   "cell_type": "code",
   "execution_count": 93,
   "metadata": {},
   "outputs": [],
   "source": [
    "dsnb_vdecay_2to1_24_NO_nuebar = DSNB_vdecay_2ν_νe.(es_dsnb, 10^(-24), true, \"NO\", \"21\", SNRnorm)\n",
    "dsnb_vdecay_2to1_25_NO_nuebar = DSNB_vdecay_2ν_νe.(es_dsnb, 10^(-25), true, \"NO\", \"21\", SNRnorm)\n",
    "dsnb_vdecay_2to1_26_NO_nuebar = DSNB_vdecay_2ν_νe.(es_dsnb, 10^(-26), true, \"NO\", \"21\", SNRnorm)\n",
    "dsnb_vdecay_2to1_24_NO_nue = DSNB_vdecay_2ν_νe.(es_dsnb, 10^(-24), false, \"NO\", \"21\", SNRnorm)\n",
    "dsnb_vdecay_2to1_25_NO_nue = DSNB_vdecay_2ν_νe.(es_dsnb, 10^(-25), false, \"NO\", \"21\", SNRnorm)\n",
    "dsnb_vdecay_2to1_26_NO_nue = DSNB_vdecay_2ν_νe.(es_dsnb, 10^(-26), false, \"NO\", \"21\", SNRnorm);"
   ]
  },
  {
   "cell_type": "code",
   "execution_count": 124,
   "metadata": {},
   "outputs": [
    {
     "data": {
      "text/plain": [
       "-27.0:0.2:-23.0"
      ]
     },
     "execution_count": 124,
     "metadata": {},
     "output_type": "execute_result"
    }
   ],
   "source": [
    "range(-27, -23, 21)"
   ]
  },
  {
   "cell_type": "code",
   "execution_count": 125,
   "metadata": {},
   "outputs": [
    {
     "name": "stdout",
     "output_type": "stream",
     "text": [
      " 11.487728 seconds (48.30 M allocations: 1.054 GiB, 12.58% gc time, 73.66% compilation time)\n"
     ]
    },
    {
     "data": {
      "text/plain": [
       "100-element Vector{Float64}:\n",
       " 2.667269474974689\n",
       " 2.8998770499220097\n",
       " 3.037600017086152\n",
       " 3.061568774999338\n",
       " 2.991999459033504\n",
       " 2.857768842909958\n",
       " 2.6842564770125095\n",
       " 2.4905858985406444\n",
       " 2.2901160825752984\n",
       " 2.091703458153754\n",
       " 1.900884105962092\n",
       " 1.72098249033405\n",
       " 1.553012571147323\n",
       " ⋮\n",
       " 0.0007754972150714277\n",
       " 0.0007080375813338429\n",
       " 0.0006465118443849857\n",
       " 0.0005903857641579546\n",
       " 0.000539178704427172\n",
       " 0.0004924563141545937\n",
       " 0.0004498186755329337\n",
       " 0.00041090450281825976\n",
       " 0.0003753861625554075\n",
       " 0.0003429622131582855\n",
       " 0.00031335956580775507\n",
       " 0.00028633157037121637"
      ]
     },
     "execution_count": 125,
     "metadata": {},
     "output_type": "execute_result"
    }
   ],
   "source": [
    "@time dsnb_vdecay_2to1_26_NO_nue = DSNB_vdecay_2ν_νe_1pc.(es_dsnb, 10^(-24), false, \"NO\", \"small\", SNRnorm)"
   ]
  },
  {
   "cell_type": "code",
   "execution_count": 103,
   "metadata": {},
   "outputs": [],
   "source": [
    "dsnb_vdecay_2to1_24_IO_nuebar = DSNB_vdecay_2ν_νe.(es_dsnb, 10^(-24), 1, true, \"IO\", \"21\", SNRnorm)\n",
    "dsnb_vdecay_2to1_25_IO_nuebar = DSNB_vdecay_2ν_νe.(es_dsnb, 10^(-25), 1, true, \"IO\", \"21\", SNRnorm)\n",
    "dsnb_vdecay_2to1_26_IO_nuebar = DSNB_vdecay_2ν_νe.(es_dsnb, 10^(-26), 1, true, \"IO\", \"21\", SNRnorm)\n",
    "dsnb_vdecay_2to1_24_IO_nue = DSNB_vdecay_2ν_νe.(es_dsnb, 10^(-24), 1, false, \"IO\", \"21\", SNRnorm)\n",
    "dsnb_vdecay_2to1_25_IO_nue = DSNB_vdecay_2ν_νe.(es_dsnb, 10^(-25), 1, false, \"IO\", \"21\", SNRnorm)\n",
    "dsnb_vdecay_2to1_26_IO_nue = DSNB_vdecay_2ν_νe.(es_dsnb, 10^(-26), 1, false, \"IO\", \"21\", SNRnorm);"
   ]
  },
  {
   "cell_type": "code",
   "execution_count": 109,
   "metadata": {},
   "outputs": [],
   "source": [
    "dsnb_vdecay_2to3_nuebar = DSNB_vdecay_2ν_νe.(es_dsnb, 10^(-24), 3, true, \"IO\", \"21\", SNRnorm)\n",
    "dsnb_vdecay_1to3_nuebar = DSNB_vdecay_2ν_νe.(es_dsnb, 10^(-24), true, \"IO\", \"21\", SNRnorm);"
   ]
  },
  {
   "cell_type": "code",
   "execution_count": 110,
   "metadata": {},
   "outputs": [],
   "source": [
    "dsnb_vdecay_2to3_21_nuebar = DSNB_vdecay_2ν_νe.(es_dsnb, 10^(-21), 3, true, \"IO\", \"21\", SNRnorm)\n",
    "dsnb_vdecay_1to3_21_nuebar = DSNB_vdecay_2ν_νe.(es_dsnb, 10^(-21), true, \"IO\", \"21\", SNRnorm);"
   ]
  },
  {
   "cell_type": "code",
   "execution_count": 119,
   "metadata": {},
   "outputs": [
    {
     "data": {
      "image/png": "[encoded data removed]",
      "image/svg+xml": "<?xml version=\"1.0\" encoding=\"utf-8\"?>\n<svg xmlns=\"http://www.w3.org/2000/svg\" xmlns:xlink=\"http://www.w3.org/1999/xlink\" width=\"600\" height=\"400\" viewBox=\"0 0 2400 1600\">\n<defs>\n  <clipPath id=\"clip640\">\n    <rect x=\"0\" y=\"0\" width=\"2400\" height=\"1600\"/>\n  </clipPath>\n</defs>\n<path clip-path=\"url(#clip640)\" d=\"M0 1600 L2400 1600 L2400 0 L0 0  Z\" fill=\"#ffffff\" fill-rule=\"evenodd\" fill-opacity=\"1\"/>\n<defs>\n  <clipPath id=\"clip641\">\n    <rect x=\"480\" y=\"0\" width=\"1681\" height=\"1600\"/>\n  </clipPath>\n</defs>\n<path clip-path=\"url(#clip640)\" d=\"M329.462 1374.4 L2321.26 1374.4 L2321.26 159.288 L329.462 159.288  Z\" fill=\"#ffffff\" fill-rule=\"evenodd\" fill-opacity=\"1\"/>\n<defs>\n  <clipPath id=\"clip642\">\n    <rect x=\"329\" y=\"159\" width=\"1993\" height=\"1216\"/>\n  </clipPath>\n</defs>\n<polyline clip-path=\"url(#clip642)\" style=\"stroke:#000000; stroke-linecap:round; stroke-linejoin:round; stroke-width:2; stroke-opacity:0.1; fill:none\" points=\"362.048,1374.4 362.048,159.288 \"/>\n<polyline clip-path=\"url(#clip642)\" style=\"stroke:#000000; stroke-linecap:round; stroke-linejoin:round; stroke-width:2; stroke-opacity:0.1; fill:none\" points=\"837.758,1374.4 837.758,159.288 \"/>\n<polyline clip-path=\"url(#clip642)\" style=\"stroke:#000000; stroke-linecap:round; stroke-linejoin:round; stroke-width:2; stroke-opacity:0.1; fill:none\" points=\"1313.47,1374.4 1313.47,159.288 \"/>\n<polyline clip-path=\"url(#clip642)\" style=\"stroke:#000000; stroke-linecap:round; stroke-linejoin:round; stroke-width:2; stroke-opacity:0.1; fill:none\" points=\"1789.18,1374.4 1789.18,159.288 \"/>\n<polyline clip-path=\"url(#clip642)\" style=\"stroke:#000000; stroke-linecap:round; stroke-linejoin:round; stroke-width:2; stroke-opacity:0.1; fill:none\" points=\"2264.89,1374.4 2264.89,159.288 \"/>\n<polyline clip-path=\"url(#clip640)\" style=\"stroke:#000000; stroke-linecap:round; stroke-linejoin:round; stroke-width:4; stroke-opacity:1; fill:none\" points=\"329.462,1374.4 2321.26,1374.4 \"/>\n<polyline clip-path=\"url(#clip640)\" style=\"stroke:#000000; stroke-linecap:round; stroke-linejoin:round; stroke-width:4; stroke-opacity:1; fill:none\" points=\"362.048,1374.4 362.048,1355.51 \"/>\n<polyline clip-path=\"url(#clip640)\" style=\"stroke:#000000; stroke-linecap:round; stroke-linejoin:round; stroke-width:4; stroke-opacity:1; fill:none\" points=\"837.758,1374.4 837.758,1355.51 \"/>\n<polyline clip-path=\"url(#clip640)\" style=\"stroke:#000000; stroke-linecap:round; stroke-linejoin:round; stroke-width:4; stroke-opacity:1; fill:none\" points=\"1313.47,1374.4 1313.47,1355.51 \"/>\n<polyline clip-path=\"url(#clip640)\" style=\"stroke:#000000; stroke-linecap:round; stroke-linejoin:round; stroke-width:4; stroke-opacity:1; fill:none\" points=\"1789.18,1374.4 1789.18,1355.51 \"/>\n<polyline clip-path=\"url(#clip640)\" style=\"stroke:#000000; stroke-linecap:round; stroke-linejoin:round; stroke-width:4; stroke-opacity:1; fill:none\" points=\"2264.89,1374.4 2264.89,1355.51 \"/>\n<path clip-path=\"url(#clip640)\" d=\"M362.048 1405.32 Q358.437 1405.32 356.609 1408.89 Q354.803 1412.43 354.803 1419.56 Q354.803 1426.66 356.609 1430.23 Q358.437 1433.77 362.048 1433.77 Q365.683 1433.77 367.488 1430.23 Q369.317 1426.66 369.317 1419.56 Q369.317 1412.43 367.488 1408.89 Q365.683 1405.32 362.048 1405.32 M362.048 1401.62 Q367.859 1401.62 370.914 1406.23 Q373.993 1410.81 373.993 1419.56 Q373.993 1428.29 370.914 1432.89 Q367.859 1437.48 362.048 1437.48 Q356.238 1437.48 353.16 1432.89 Q350.104 1428.29 350.104 1419.56 Q350.104 1410.81 353.16 1406.23 Q356.238 1401.62 362.048 1401.62 Z\" fill=\"#000000\" fill-rule=\"nonzero\" fill-opacity=\"1\" /><path clip-path=\"url(#clip640)\" d=\"M812.446 1432.87 L820.085 1432.87 L820.085 1406.5 L811.775 1408.17 L811.775 1403.91 L820.039 1402.24 L824.714 1402.24 L824.714 1432.87 L832.353 1432.87 L832.353 1436.8 L812.446 1436.8 L812.446 1432.87 Z\" fill=\"#000000\" fill-rule=\"nonzero\" fill-opacity=\"1\" /><path clip-path=\"url(#clip640)\" d=\"M851.798 1405.32 Q848.187 1405.32 846.358 1408.89 Q844.552 1412.43 844.552 1419.56 Q844.552 1426.66 846.358 1430.23 Q848.187 1433.77 851.798 1433.77 Q855.432 1433.77 857.237 1430.23 Q859.066 1426.66 859.066 1419.56 Q859.066 1412.43 857.237 1408.89 Q855.432 1405.32 851.798 1405.32 M851.798 1401.62 Q857.608 1401.62 860.663 1406.23 Q863.742 1410.81 863.742 1419.56 Q863.742 1428.29 860.663 1432.89 Q857.608 1437.48 851.798 1437.48 Q845.987 1437.48 842.909 1432.89 Q839.853 1428.29 839.853 1419.56 Q839.853 1410.81 842.909 1406.23 Q845.987 1401.62 851.798 1401.62 Z\" fill=\"#000000\" fill-rule=\"nonzero\" fill-opacity=\"1\" /><path clip-path=\"url(#clip640)\" d=\"M1292.24 1432.87 L1308.56 1432.87 L1308.56 1436.8 L1286.62 1436.8 L1286.62 1432.87 Q1289.28 1430.11 1293.86 1425.48 Q1298.47 1420.83 1299.65 1419.49 Q1301.89 1416.97 1302.77 1415.23 Q1303.68 1413.47 1303.68 1411.78 Q1303.68 1409.03 1301.73 1407.29 Q1299.81 1405.55 1296.71 1405.55 Q1294.51 1405.55 1292.06 1406.32 Q1289.63 1407.08 1286.85 1408.63 L1286.85 1403.91 Q1289.67 1402.78 1292.13 1402.2 Q1294.58 1401.62 1296.62 1401.62 Q1301.99 1401.62 1305.18 1404.3 Q1308.38 1406.99 1308.38 1411.48 Q1308.38 1413.61 1307.57 1415.53 Q1306.78 1417.43 1304.67 1420.02 Q1304.09 1420.69 1300.99 1423.91 Q1297.89 1427.1 1292.24 1432.87 Z\" fill=\"#000000\" fill-rule=\"nonzero\" fill-opacity=\"1\" /><path clip-path=\"url(#clip640)\" d=\"M1328.38 1405.32 Q1324.76 1405.32 1322.94 1408.89 Q1321.13 1412.43 1321.13 1419.56 Q1321.13 1426.66 1322.94 1430.23 Q1324.76 1433.77 1328.38 1433.77 Q1332.01 1433.77 1333.82 1430.23 Q1335.64 1426.66 1335.64 1419.56 Q1335.64 1412.43 1333.82 1408.89 Q1332.01 1405.32 1328.38 1405.32 M1328.38 1401.62 Q1334.19 1401.62 1337.24 1406.23 Q1340.32 1410.81 1340.32 1419.56 Q1340.32 1428.29 1337.24 1432.89 Q1334.19 1437.48 1328.38 1437.48 Q1322.57 1437.48 1319.49 1432.89 Q1316.43 1428.29 1316.43 1419.56 Q1316.43 1410.81 1319.49 1406.23 Q1322.57 1401.62 1328.38 1401.62 Z\" fill=\"#000000\" fill-rule=\"nonzero\" fill-opacity=\"1\" /><path clip-path=\"url(#clip640)\" d=\"M1778.02 1418.17 Q1781.38 1418.89 1783.25 1421.16 Q1785.15 1423.42 1785.15 1426.76 Q1785.15 1431.87 1781.63 1434.67 Q1778.11 1437.48 1771.63 1437.48 Q1769.46 1437.48 1767.14 1437.04 Q1764.85 1436.62 1762.4 1435.76 L1762.4 1431.25 Q1764.34 1432.38 1766.66 1432.96 Q1768.97 1433.54 1771.49 1433.54 Q1775.89 1433.54 1778.18 1431.8 Q1780.5 1430.07 1780.5 1426.76 Q1780.5 1423.7 1778.34 1421.99 Q1776.22 1420.25 1772.4 1420.25 L1768.37 1420.25 L1768.37 1416.41 L1772.58 1416.41 Q1776.03 1416.41 1777.86 1415.04 Q1779.69 1413.66 1779.69 1411.06 Q1779.69 1408.4 1777.79 1406.99 Q1775.91 1405.55 1772.4 1405.55 Q1770.47 1405.55 1768.28 1405.97 Q1766.08 1406.39 1763.44 1407.27 L1763.44 1403.1 Q1766.1 1402.36 1768.41 1401.99 Q1770.75 1401.62 1772.81 1401.62 Q1778.14 1401.62 1781.24 1404.05 Q1784.34 1406.46 1784.34 1410.58 Q1784.34 1413.45 1782.7 1415.44 Q1781.05 1417.41 1778.02 1418.17 Z\" fill=\"#000000\" fill-rule=\"nonzero\" fill-opacity=\"1\" /><path clip-path=\"url(#clip640)\" d=\"M1804.02 1405.32 Q1800.41 1405.32 1798.58 1408.89 Q1796.77 1412.43 1796.77 1419.56 Q1796.77 1426.66 1798.58 1430.23 Q1800.41 1433.77 1804.02 1433.77 Q1807.65 1433.77 1809.46 1430.23 Q1811.28 1426.66 1811.28 1419.56 Q1811.28 1412.43 1809.46 1408.89 Q1807.65 1405.32 1804.02 1405.32 M1804.02 1401.62 Q1809.83 1401.62 1812.88 1406.23 Q1815.96 1410.81 1815.96 1419.56 Q1815.96 1428.29 1812.88 1432.89 Q1809.83 1437.48 1804.02 1437.48 Q1798.21 1437.48 1795.13 1432.89 Q1792.07 1428.29 1792.07 1419.56 Q1792.07 1410.81 1795.13 1406.23 Q1798.21 1401.62 1804.02 1401.62 Z\" fill=\"#000000\" fill-rule=\"nonzero\" fill-opacity=\"1\" /><path clip-path=\"url(#clip640)\" d=\"M2253.06 1406.32 L2241.25 1424.77 L2253.06 1424.77 L2253.06 1406.32 M2251.83 1402.24 L2257.71 1402.24 L2257.71 1424.77 L2262.64 1424.77 L2262.64 1428.66 L2257.71 1428.66 L2257.71 1436.8 L2253.06 1436.8 L2253.06 1428.66 L2237.46 1428.66 L2237.46 1424.14 L2251.83 1402.24 Z\" fill=\"#000000\" fill-rule=\"nonzero\" fill-opacity=\"1\" /><path clip-path=\"url(#clip640)\" d=\"M2280.37 1405.32 Q2276.76 1405.32 2274.93 1408.89 Q2273.13 1412.43 2273.13 1419.56 Q2273.13 1426.66 2274.93 1430.23 Q2276.76 1433.77 2280.37 1433.77 Q2284.01 1433.77 2285.81 1430.23 Q2287.64 1426.66 2287.64 1419.56 Q2287.64 1412.43 2285.81 1408.89 Q2284.01 1405.32 2280.37 1405.32 M2280.37 1401.62 Q2286.18 1401.62 2289.24 1406.23 Q2292.32 1410.81 2292.32 1419.56 Q2292.32 1428.29 2289.24 1432.89 Q2286.18 1437.48 2280.37 1437.48 Q2274.56 1437.48 2271.49 1432.89 Q2268.43 1428.29 2268.43 1419.56 Q2268.43 1410.81 2271.49 1406.23 Q2274.56 1401.62 2280.37 1401.62 Z\" fill=\"#000000\" fill-rule=\"nonzero\" fill-opacity=\"1\" /><path clip-path=\"url(#clip640)\" d=\"M1197.23 1464.68 L1195.43 1480.23 Q1195.3 1481.63 1195.08 1482.07 Q1194.86 1482.47 1194.15 1482.47 Q1193.63 1482.47 1193.32 1482.16 Q1193.06 1481.81 1193.06 1481.41 Q1193.06 1481.19 1193.1 1480.62 Q1193.14 1480.05 1193.14 1479.79 Q1193.54 1477.06 1193.54 1475 Q1193.54 1471.18 1192.4 1469.12 Q1191.26 1467.01 1188.31 1466.04 Q1185.37 1465.03 1179.84 1465.03 L1167.19 1465.03 Q1164.29 1465.03 1163.59 1465.56 Q1162.93 1466.09 1162.31 1468.54 L1156.91 1490.2 L1165.39 1490.2 Q1168.55 1490.2 1170.44 1489.8 Q1172.37 1489.41 1173.65 1488.31 Q1174.96 1487.17 1175.67 1485.63 Q1176.41 1484.09 1177.16 1481.32 Q1177.38 1480.4 1177.6 1480.05 Q1177.86 1479.7 1178.43 1479.7 Q1178.87 1479.7 1179.18 1480.01 Q1179.49 1480.27 1179.49 1480.67 L1174.35 1501.7 Q1174.08 1502.76 1173.82 1503.15 Q1173.56 1503.5 1173.03 1503.5 Q1172.46 1503.5 1172.15 1503.2 Q1171.84 1502.89 1171.84 1502.54 Q1171.84 1502.19 1172.11 1501.53 Q1172.77 1498.67 1172.77 1497.13 Q1172.77 1496.26 1172.68 1495.82 Q1172.64 1495.38 1172.24 1494.76 Q1171.89 1494.1 1171.1 1493.8 Q1170.31 1493.49 1168.81 1493.27 Q1167.32 1493.01 1165.08 1493.01 L1156.21 1493.01 L1150.06 1517.56 Q1149.62 1519.18 1149.62 1519.62 Q1149.62 1520.1 1149.84 1520.28 Q1150.11 1520.41 1150.81 1520.5 Q1151.6 1520.63 1152.78 1520.63 L1165.92 1520.63 Q1168.81 1520.63 1171.14 1520.37 Q1173.47 1520.1 1175.4 1519.44 Q1177.38 1518.79 1178.87 1518.04 Q1180.36 1517.29 1181.77 1515.93 Q1183.18 1514.53 1184.14 1513.3 Q1185.15 1512.02 1186.34 1509.87 Q1187.52 1507.72 1188.36 1505.96 Q1189.19 1504.16 1190.47 1501.26 Q1190.82 1500.21 1191.65 1500.21 Q1192.13 1500.21 1192.4 1500.47 Q1192.66 1500.69 1192.71 1500.91 L1192.71 1501.18 Q1192.44 1502.01 1192.27 1502.45 L1184.01 1521.86 Q1183.53 1522.96 1183.13 1523.18 Q1182.74 1523.4 1181.2 1523.4 L1134.52 1523.4 Q1133.46 1523.4 1133.02 1523.35 Q1132.63 1523.31 1132.32 1523.09 Q1132.01 1522.83 1132.01 1522.3 Q1132.01 1521.46 1132.36 1521.11 Q1132.71 1520.72 1133.11 1520.67 Q1133.51 1520.63 1134.52 1520.63 Q1136.71 1520.63 1138.03 1520.5 Q1139.35 1520.37 1140.18 1520.19 Q1141.06 1519.97 1141.5 1519.36 Q1141.98 1518.74 1142.2 1518.22 Q1142.42 1517.64 1142.73 1516.37 L1154.59 1468.81 Q1155.02 1467.18 1155.02 1466.66 Q1155.02 1466.09 1154.63 1465.73 Q1154.28 1465.38 1153.31 1465.25 Q1152.35 1465.08 1151.55 1465.08 Q1150.81 1465.03 1149.18 1465.03 Q1148.13 1465.03 1147.69 1464.99 Q1147.3 1464.94 1146.99 1464.72 Q1146.68 1464.5 1146.68 1464.02 Q1146.68 1462.79 1147.21 1462.53 Q1147.78 1462.22 1149.36 1462.22 L1194.77 1462.22 Q1196.57 1462.22 1196.97 1462.62 Q1197.4 1462.97 1197.23 1464.68 Z\" fill=\"#000000\" fill-rule=\"nonzero\" fill-opacity=\"1\" /><path clip-path=\"url(#clip640)\" d=\"M1236 1513.8 Q1236 1514.07 1235.75 1515.03 Q1235.54 1515.95 1234.83 1517.76 Q1234.15 1519.55 1233.11 1521.54 Q1232.09 1523.51 1230.22 1526 Q1228.34 1528.49 1226.01 1530.67 Q1221.61 1534.79 1216.91 1537.01 Q1212.23 1539.22 1208.24 1539.93 L1207.35 1539.93 Q1206.36 1539.93 1206.36 1539.16 L1207.04 1536.33 L1210.88 1520.93 Q1212.08 1516.23 1212.08 1515.83 Q1212.08 1515.46 1211.93 1515.27 Q1211.8 1515.06 1211.07 1514.9 Q1210.36 1514.75 1208.94 1514.75 Q1208.36 1514.75 1208.08 1514.72 Q1207.84 1514.69 1207.62 1514.54 Q1207.41 1514.35 1207.41 1513.98 Q1207.41 1513.46 1207.62 1513.18 Q1207.87 1512.88 1208.05 1512.81 Q1208.24 1512.75 1208.61 1512.72 Q1209.13 1512.69 1210.88 1512.54 Q1212.63 1512.35 1214.14 1512.23 Q1215.65 1512.11 1216.29 1512.11 Q1216.66 1512.11 1216.88 1512.29 Q1217.09 1512.44 1217.09 1512.63 L1217.12 1512.78 L1210.94 1537.84 Q1213.22 1537.1 1215.46 1535.87 Q1217.74 1534.64 1220.2 1532.61 Q1222.66 1530.55 1224.75 1528 Q1226.84 1525.45 1228.68 1521.88 Q1230.56 1518.29 1231.72 1514.17 Q1231.94 1513.34 1232.46 1512.84 Q1233.02 1512.35 1233.41 1512.23 Q1233.81 1512.11 1234.18 1512.11 Q1235.01 1512.11 1235.51 1512.57 Q1236 1513 1236 1513.8 Z\" fill=\"#000000\" fill-rule=\"nonzero\" fill-opacity=\"1\" /><path clip-path=\"url(#clip640)\" d=\"M1269.07 1545.88 L1269.07 1455.94 L1282.64 1455.94 L1282.64 1458 L1275.09 1458 L1275.09 1543.82 L1282.64 1543.82 L1282.64 1545.88 L1269.07 1545.88 Z\" fill=\"#000000\" fill-rule=\"nonzero\" fill-opacity=\"1\" /><path clip-path=\"url(#clip640)\" d=\"M1293.82 1523.4 L1293.82 1520.63 Q1297.07 1520.63 1299.14 1520.02 Q1301.2 1519.36 1301.95 1518.17 Q1302.74 1516.94 1302.91 1516.15 Q1303.09 1515.32 1303.09 1513.96 L1303.09 1468.98 Q1303.09 1466.39 1301.95 1465.6 Q1300.85 1464.77 1295.97 1464.77 L1293.82 1464.77 L1293.82 1461.96 L1309.02 1461.96 Q1310.64 1461.96 1311.08 1462.26 Q1311.52 1462.53 1312.18 1463.93 L1331.68 1514.31 L1351.35 1463.67 Q1351.79 1462.4 1352.19 1462.18 Q1352.63 1461.96 1354.34 1461.96 L1369.54 1461.96 L1369.54 1464.77 L1367.38 1464.77 Q1362.51 1464.77 1361.37 1465.6 Q1360.27 1466.39 1360.27 1468.98 L1360.27 1516.37 Q1360.27 1518.96 1361.37 1519.8 Q1362.51 1520.63 1367.38 1520.63 L1369.54 1520.63 L1369.54 1523.4 Q1366.2 1523.13 1356.67 1523.13 Q1347.05 1523.13 1343.71 1523.4 L1343.71 1520.63 L1345.91 1520.63 Q1350.78 1520.63 1351.88 1519.84 Q1352.98 1519.01 1352.98 1516.37 L1352.98 1464.77 L1352.89 1464.77 L1330.8 1521.68 Q1330.19 1523.4 1329.18 1523.4 Q1328.08 1523.4 1327.37 1521.42 L1305.68 1465.47 L1305.59 1465.47 L1305.59 1513.96 Q1305.59 1515.32 1305.77 1516.15 Q1305.94 1516.94 1306.69 1518.17 Q1307.48 1519.36 1309.54 1520.02 Q1311.61 1520.63 1314.86 1520.63 L1314.86 1523.4 Q1305.42 1523.13 1304.32 1523.13 Q1303.26 1523.13 1293.82 1523.4 Z\" fill=\"#000000\" fill-rule=\"nonzero\" fill-opacity=\"1\" /><path clip-path=\"url(#clip640)\" d=\"M1385.82 1503.59 Q1385.82 1495.11 1391.26 1489.1 Q1396.71 1483.08 1404.52 1483.08 Q1412.43 1483.08 1416.51 1488.22 Q1420.64 1493.36 1420.64 1500.74 Q1420.64 1502.1 1420.29 1502.36 Q1419.94 1502.62 1418.4 1502.62 L1393.28 1502.62 Q1393.28 1511.8 1396 1516.11 Q1399.78 1522.12 1406.15 1522.12 Q1407.03 1522.12 1408.08 1521.95 Q1409.14 1521.77 1411.29 1521.03 Q1413.44 1520.24 1415.33 1518.17 Q1417.22 1516.11 1418.31 1512.86 Q1418.58 1511.58 1419.46 1511.63 Q1420.64 1511.63 1420.64 1512.68 Q1420.64 1513.47 1419.76 1515.27 Q1418.93 1517.03 1417.3 1519.14 Q1415.68 1521.25 1412.52 1522.83 Q1409.4 1524.41 1405.62 1524.41 Q1397.72 1524.41 1391.74 1518.43 Q1385.82 1512.42 1385.82 1503.59 M1393.37 1500.74 L1414.71 1500.74 Q1414.71 1498.85 1414.36 1496.74 Q1414.05 1494.63 1413.09 1491.73 Q1412.17 1488.79 1409.97 1486.95 Q1407.77 1485.1 1404.52 1485.1 Q1403.08 1485.1 1401.49 1485.72 Q1399.96 1486.33 1398.07 1487.82 Q1396.18 1489.32 1394.86 1492.7 Q1393.55 1496.08 1393.37 1500.74 Z\" fill=\"#000000\" fill-rule=\"nonzero\" fill-opacity=\"1\" /><path clip-path=\"url(#clip640)\" d=\"M1427.15 1464.77 L1427.15 1461.96 Q1436.86 1462.22 1438.57 1462.22 Q1448.19 1462.22 1451.44 1461.96 L1451.44 1464.77 Q1444.06 1464.77 1444.06 1467.36 Q1444.06 1467.71 1444.59 1468.98 L1461.76 1514.39 L1478.23 1471.05 Q1478.67 1469.69 1478.67 1469.25 Q1478.67 1467.45 1477 1466.17 Q1475.37 1464.86 1472.12 1464.77 L1472.12 1461.96 Q1479.15 1462.22 1482.36 1462.22 Q1486.92 1462.22 1491.1 1461.96 L1491.1 1464.77 Q1483.54 1464.86 1481.3 1470.78 L1461.23 1523.66 Q1460.88 1524.76 1460.53 1525.07 Q1460.18 1525.37 1459.08 1525.37 Q1458.2 1525.37 1457.72 1525.02 Q1457.28 1524.67 1456.84 1523.4 L1435.98 1468.19 Q1435.1 1465.78 1433.52 1465.29 Q1431.94 1464.77 1427.15 1464.77 Z\" fill=\"#000000\" fill-rule=\"nonzero\" fill-opacity=\"1\" /><path clip-path=\"url(#clip640)\" d=\"M1493.96 1543.82 L1501.52 1543.82 L1501.52 1458 L1493.96 1458 L1493.96 1455.94 L1507.53 1455.94 L1507.53 1545.88 L1493.96 1545.88 L1493.96 1543.82 Z\" fill=\"#000000\" fill-rule=\"nonzero\" fill-opacity=\"1\" /><polyline clip-path=\"url(#clip642)\" style=\"stroke:#000000; stroke-linecap:round; stroke-linejoin:round; stroke-width:2; stroke-opacity:0.1; fill:none\" points=\"329.462,955.106 2321.26,955.106 \"/>\n<polyline clip-path=\"url(#clip642)\" style=\"stroke:#000000; stroke-linecap:round; stroke-linejoin:round; stroke-width:2; stroke-opacity:0.1; fill:none\" points=\"329.462,317.101 2321.26,317.101 \"/>\n<polyline clip-path=\"url(#clip640)\" style=\"stroke:#000000; stroke-linecap:round; stroke-linejoin:round; stroke-width:4; stroke-opacity:1; fill:none\" points=\"329.462,1374.4 329.462,159.288 \"/>\n<polyline clip-path=\"url(#clip640)\" style=\"stroke:#000000; stroke-linecap:round; stroke-linejoin:round; stroke-width:4; stroke-opacity:1; fill:none\" points=\"329.462,955.106 348.36,955.106 \"/>\n<polyline clip-path=\"url(#clip640)\" style=\"stroke:#000000; stroke-linecap:round; stroke-linejoin:round; stroke-width:4; stroke-opacity:1; fill:none\" points=\"329.462,317.101 348.36,317.101 \"/>\n<path clip-path=\"url(#clip640)\" d=\"M193.322 974.898 L200.961 974.898 L200.961 948.533 L192.651 950.2 L192.651 945.94 L200.915 944.274 L205.591 944.274 L205.591 974.898 L213.23 974.898 L213.23 978.834 L193.322 978.834 L193.322 974.898 Z\" fill=\"#000000\" fill-rule=\"nonzero\" fill-opacity=\"1\" /><path clip-path=\"url(#clip640)\" d=\"M232.674 947.352 Q229.063 947.352 227.234 950.917 Q225.429 954.459 225.429 961.588 Q225.429 968.695 227.234 972.26 Q229.063 975.801 232.674 975.801 Q236.308 975.801 238.114 972.26 Q239.943 968.695 239.943 961.588 Q239.943 954.459 238.114 950.917 Q236.308 947.352 232.674 947.352 M232.674 943.649 Q238.484 943.649 241.54 948.255 Q244.618 952.838 244.618 961.588 Q244.618 970.315 241.54 974.922 Q238.484 979.505 232.674 979.505 Q226.864 979.505 223.785 974.922 Q220.73 970.315 220.73 961.588 Q220.73 952.838 223.785 948.255 Q226.864 943.649 232.674 943.649 Z\" fill=\"#000000\" fill-rule=\"nonzero\" fill-opacity=\"1\" /><path clip-path=\"url(#clip640)\" d=\"M244.618 937.75 L268.73 937.75 L268.73 940.947 L244.618 940.947 L244.618 937.75 Z\" fill=\"#000000\" fill-rule=\"nonzero\" fill-opacity=\"1\" /><path clip-path=\"url(#clip640)\" d=\"M280.203 948.226 L293.462 948.226 L293.462 951.423 L275.633 951.423 L275.633 948.226 Q277.795 945.988 281.519 942.226 Q285.262 938.446 286.221 937.355 Q288.046 935.305 288.76 933.894 Q289.494 932.465 289.494 931.092 Q289.494 928.854 287.914 927.443 Q286.353 926.033 283.833 926.033 Q282.046 926.033 280.052 926.653 Q278.078 927.274 275.821 928.534 L275.821 924.697 Q278.115 923.776 280.109 923.306 Q282.102 922.835 283.757 922.835 Q288.121 922.835 290.716 925.017 Q293.312 927.199 293.312 930.848 Q293.312 932.578 292.654 934.139 Q292.014 935.681 290.303 937.788 Q289.832 938.333 287.312 940.947 Q284.792 943.543 280.203 948.226 Z\" fill=\"#000000\" fill-rule=\"nonzero\" fill-opacity=\"1\" /><path clip-path=\"url(#clip640)\" d=\"M222.757 336.893 L230.395 336.893 L230.395 310.527 L222.085 312.194 L222.085 307.935 L230.349 306.268 L235.025 306.268 L235.025 336.893 L242.664 336.893 L242.664 340.828 L222.757 340.828 L222.757 336.893 Z\" fill=\"#000000\" fill-rule=\"nonzero\" fill-opacity=\"1\" /><path clip-path=\"url(#clip640)\" d=\"M262.108 309.347 Q258.497 309.347 256.668 312.912 Q254.863 316.453 254.863 323.583 Q254.863 330.689 256.668 334.254 Q258.497 337.796 262.108 337.796 Q265.743 337.796 267.548 334.254 Q269.377 330.689 269.377 323.583 Q269.377 316.453 267.548 312.912 Q265.743 309.347 262.108 309.347 M262.108 305.643 Q267.918 305.643 270.974 310.25 Q274.053 314.833 274.053 323.583 Q274.053 332.31 270.974 336.916 Q267.918 341.5 262.108 341.5 Q256.298 341.5 253.219 336.916 Q250.164 332.31 250.164 323.583 Q250.164 314.833 253.219 310.25 Q256.298 305.643 262.108 305.643 Z\" fill=\"#000000\" fill-rule=\"nonzero\" fill-opacity=\"1\" /><path clip-path=\"url(#clip640)\" d=\"M283.757 287.839 Q280.823 287.839 279.338 290.736 Q277.871 293.613 277.871 299.406 Q277.871 305.18 279.338 308.076 Q280.823 310.954 283.757 310.954 Q286.71 310.954 288.177 308.076 Q289.663 305.18 289.663 299.406 Q289.663 293.613 288.177 290.736 Q286.71 287.839 283.757 287.839 M283.757 284.83 Q288.478 284.83 290.961 288.573 Q293.462 292.297 293.462 299.406 Q293.462 306.497 290.961 310.239 Q288.478 313.963 283.757 313.963 Q279.037 313.963 276.535 310.239 Q274.053 306.497 274.053 299.406 Q274.053 292.297 276.535 288.573 Q279.037 284.83 283.757 284.83 Z\" fill=\"#000000\" fill-rule=\"nonzero\" fill-opacity=\"1\" /><path clip-path=\"url(#clip640)\" d=\"M95.522 1154.94 Q99.9577 1154.94 104.393 1157.22 Q108.829 1159.51 112.254 1163.24 Q115.636 1166.97 117.832 1172.07 Q120.028 1177.16 120.203 1182.47 L133.598 1185.9 Q136.848 1186.56 137.199 1186.91 Q137.551 1187.26 137.551 1187.79 Q137.551 1188.89 136.541 1188.89 Q136.233 1188.89 128.636 1186.91 L120.203 1184.8 Q119.764 1192.8 115.153 1197.45 Q110.542 1202.11 103.91 1202.11 Q99.4307 1202.11 94.995 1199.82 Q90.5155 1197.49 87.1339 1193.76 Q83.7523 1189.98 81.6003 1184.89 Q79.4484 1179.8 79.2727 1174.57 L58.4999 1169.34 Q57.3142 1169.08 57.0068 1168.86 Q56.6993 1168.64 56.6993 1167.98 Q56.6993 1167.5 56.9189 1167.24 Q57.1385 1166.97 57.3581 1166.97 L57.5777 1166.93 L58.8513 1167.19 L79.2727 1172.24 Q79.5801 1167.76 81.1612 1164.29 Q82.7422 1160.82 85.1137 1158.85 Q87.4413 1156.87 90.0763 1155.91 Q92.7113 1154.94 95.522 1154.94 M81.249 1175.1 Q81.6882 1179.93 84.0597 1184.01 Q86.4312 1188.1 89.9446 1190.73 Q93.414 1193.37 97.5861 1194.82 Q101.714 1196.26 105.799 1196.26 Q109.005 1196.26 111.464 1195.21 Q113.923 1194.11 115.329 1192.31 Q116.69 1190.51 117.437 1188.54 Q118.139 1186.52 118.227 1184.36 L81.249 1175.1 M93.6336 1160.82 Q87.9244 1160.82 84.7184 1164.12 Q81.5125 1167.41 81.249 1172.77 L118.227 1182.04 Q117.92 1178.13 116.295 1174.7 Q114.626 1171.23 112.167 1168.73 Q109.663 1166.23 106.589 1164.42 Q103.471 1162.62 100.177 1161.75 Q96.8396 1160.82 93.6336 1160.82 Z\" fill=\"#000000\" fill-rule=\"nonzero\" fill-opacity=\"1\" /><path clip-path=\"url(#clip640)\" d=\"M124.22 1117.77 L124.22 1133.67 L122.843 1133.67 L122.843 1117.77 L124.22 1117.77 Z\" fill=\"#000000\" fill-rule=\"nonzero\" fill-opacity=\"1\" /><path clip-path=\"url(#clip640)\" d=\"M132.621 1115.17 Q132.898 1115.17 133.851 1115.41 Q134.773 1115.63 136.587 1116.34 Q138.37 1117.01 140.368 1118.06 Q142.336 1119.07 144.826 1120.95 Q147.316 1122.82 149.498 1125.16 Q153.618 1129.55 155.831 1134.26 Q158.045 1138.93 158.752 1142.93 L158.752 1143.82 Q158.752 1144.8 157.983 1144.8 L155.155 1144.13 L139.753 1140.28 Q135.05 1139.08 134.65 1139.08 Q134.281 1139.08 134.097 1139.24 Q133.882 1139.36 133.728 1140.1 Q133.574 1140.81 133.574 1142.22 Q133.574 1142.8 133.543 1143.08 Q133.513 1143.33 133.359 1143.54 Q133.174 1143.76 132.806 1143.76 Q132.283 1143.76 132.006 1143.54 Q131.699 1143.3 131.637 1143.11 Q131.576 1142.93 131.545 1142.56 Q131.514 1142.04 131.361 1140.28 Q131.176 1138.53 131.053 1137.02 Q130.93 1135.52 130.93 1134.87 Q130.93 1134.5 131.115 1134.29 Q131.268 1134.07 131.453 1134.07 L131.607 1134.04 L156.661 1140.22 Q155.924 1137.95 154.694 1135.7 Q153.464 1133.43 151.435 1130.97 Q149.375 1128.51 146.824 1126.42 Q144.272 1124.33 140.706 1122.48 Q137.109 1120.61 132.99 1119.44 Q132.16 1119.23 131.668 1118.7 Q131.176 1118.15 131.053 1117.75 Q130.93 1117.35 130.93 1116.98 Q130.93 1116.15 131.391 1115.66 Q131.822 1115.17 132.621 1115.17 Z\" fill=\"#000000\" fill-rule=\"nonzero\" fill-opacity=\"1\" /><path clip-path=\"url(#clip640)\" d=\"M165.223 1090.82 Q165.417 1090.65 165.611 1090.65 Q165.804 1090.65 166.364 1091.08 Q166.923 1091.49 167.677 1092.37 Q168.43 1093.25 169.14 1094.39 Q169.85 1095.53 170.323 1097.21 Q170.818 1098.89 170.818 1100.65 Q170.818 1103.82 168.559 1105.71 Q166.299 1107.58 162.835 1107.58 Q160.618 1107.58 158.66 1106.85 Q156.68 1106.12 155.281 1104.94 Q153.883 1103.73 152.871 1102.22 Q151.838 1100.7 151.343 1099.1 Q150.848 1097.51 150.848 1096.03 Q150.848 1093.85 151.946 1092.58 Q153.043 1091.31 154.593 1091.31 Q154.959 1091.31 155.41 1091.42 Q155.862 1091.51 156.573 1091.81 Q157.283 1092.09 157.993 1092.82 Q158.681 1093.55 159.133 1094.63 Q160.145 1097.02 160.145 1101.36 L160.145 1103.71 Q162.921 1104.4 164.728 1104.4 Q165.439 1104.4 166.17 1104.27 Q166.88 1104.14 167.784 1103.8 Q168.688 1103.43 169.269 1102.61 Q169.828 1101.77 169.828 1100.57 Q169.828 1100.18 169.807 1099.77 Q169.785 1099.34 169.549 1098.27 Q169.312 1097.17 168.903 1096.2 Q168.494 1095.23 167.612 1094 Q166.708 1092.76 165.482 1091.77 Q165.03 1091.42 165.03 1091.19 Q165.03 1090.99 165.223 1090.82 M154.593 1092.78 Q153.409 1092.78 152.613 1093.66 Q151.817 1094.52 151.817 1096.03 Q151.817 1096.5 151.924 1097.08 Q152.032 1097.66 152.484 1098.63 Q152.936 1099.58 153.689 1100.42 Q154.421 1101.26 155.862 1102.1 Q157.283 1102.93 159.176 1103.43 L159.176 1101.62 Q159.176 1101 159.176 1100.55 Q159.155 1100.09 159.069 1099.1 Q158.983 1098.09 158.832 1097.36 Q158.66 1096.63 158.316 1095.7 Q157.971 1094.78 157.519 1094.2 Q157.046 1093.6 156.293 1093.19 Q155.54 1092.78 154.593 1092.78 Z\" fill=\"#000000\" fill-rule=\"nonzero\" fill-opacity=\"1\" /><path clip-path=\"url(#clip640)\" d=\"M141.591 1050.73 L51.6489 1050.73 L51.6489 1037.16 L53.713 1037.16 L53.713 1044.71 L139.527 1044.71 L139.527 1037.16 L141.591 1037.16 L141.591 1050.73 Z\" fill=\"#000000\" fill-rule=\"nonzero\" fill-opacity=\"1\" /><path clip-path=\"url(#clip640)\" d=\"M119.106 1033.54 L116.339 1033.54 Q116.339 1030.29 115.724 1028.23 Q115.065 1026.16 113.879 1025.42 Q112.65 1024.63 111.859 1024.45 Q111.025 1024.27 109.663 1024.27 L64.6922 1024.27 Q62.1011 1024.27 61.3106 1025.42 Q60.4762 1026.51 60.4762 1031.39 L60.4762 1033.54 L57.6655 1033.54 L57.6655 1018.35 Q57.6655 1016.72 57.9729 1016.28 Q58.2364 1015.84 59.6418 1015.18 L110.015 995.684 L59.3783 976.009 Q58.1047 975.57 57.8851 975.175 Q57.6655 974.736 57.6655 973.023 L57.6655 957.828 L60.4762 957.828 L60.4762 959.979 Q60.4762 964.854 61.3106 965.996 Q62.1011 967.094 64.6922 967.094 L112.079 967.094 Q114.67 967.094 115.504 965.996 Q116.339 964.854 116.339 959.979 L116.339 957.828 L119.106 957.828 Q118.842 961.165 118.842 970.695 Q118.842 980.313 119.106 983.651 L116.339 983.651 L116.339 981.455 Q116.339 976.58 115.548 975.482 Q114.714 974.384 112.079 974.384 L60.4762 974.384 L60.4762 974.472 L117.393 996.562 Q119.106 997.177 119.106 998.187 Q119.106 999.285 117.129 999.988 L61.1789 1021.68 L61.1789 1021.77 L109.663 1021.77 Q111.025 1021.77 111.859 1021.6 Q112.65 1021.42 113.879 1020.67 Q115.065 1019.88 115.724 1017.82 Q116.339 1015.75 116.339 1012.5 L119.106 1012.5 Q118.842 1021.95 118.842 1023.04 Q118.842 1024.1 119.106 1033.54 Z\" fill=\"#000000\" fill-rule=\"nonzero\" fill-opacity=\"1\" /><path clip-path=\"url(#clip640)\" d=\"M99.2989 941.547 Q90.8229 941.547 84.8063 936.101 Q78.7896 930.656 78.7896 922.838 Q78.7896 914.933 83.9279 910.849 Q89.0662 906.721 96.4443 906.721 Q97.8057 906.721 98.0692 907.072 Q98.3327 907.424 98.3327 908.961 L98.3327 934.081 Q107.511 934.081 111.815 931.358 Q117.832 927.582 117.832 921.214 Q117.832 920.335 117.656 919.281 Q117.481 918.227 116.734 916.075 Q115.943 913.923 113.879 912.035 Q111.815 910.146 108.565 909.048 Q107.292 908.785 107.336 907.907 Q107.336 906.721 108.39 906.721 Q109.18 906.721 110.981 907.599 Q112.738 908.434 114.846 910.059 Q116.954 911.684 118.535 914.846 Q120.116 917.964 120.116 921.741 Q120.116 929.646 114.143 935.618 Q108.126 941.547 99.2989 941.547 M96.4443 933.993 L96.4443 912.65 Q94.5559 912.65 92.4478 913.001 Q90.3398 913.308 87.4413 914.275 Q84.4989 915.197 82.6543 917.393 Q80.8098 919.589 80.8098 922.838 Q80.8098 924.288 81.4247 925.869 Q82.0395 927.406 83.5327 929.294 Q85.0259 931.183 88.4075 932.5 Q91.7891 933.818 96.4443 933.993 Z\" fill=\"#000000\" fill-rule=\"nonzero\" fill-opacity=\"1\" /><path clip-path=\"url(#clip640)\" d=\"M60.4762 902.01 L57.6655 902.01 Q57.929 892.304 57.929 890.592 Q57.929 880.974 57.6655 877.724 L60.4762 877.724 Q60.4762 885.102 63.0673 885.102 Q63.4187 885.102 64.6922 884.575 L110.103 867.403 L66.7564 850.934 Q65.3949 850.495 64.9558 850.495 Q63.1552 850.495 61.8816 852.164 Q60.564 853.789 60.4762 857.039 L57.6655 857.039 Q57.929 850.012 57.929 846.806 Q57.929 842.239 57.6655 838.067 L60.4762 838.067 Q60.564 845.62 66.4929 847.86 L119.369 867.93 Q120.467 868.282 120.774 868.633 Q121.082 868.984 121.082 870.082 Q121.082 870.961 120.73 871.444 Q120.379 871.883 119.106 872.322 L63.9017 893.183 Q61.4863 894.061 61.0032 895.642 Q60.4762 897.223 60.4762 902.01 Z\" fill=\"#000000\" fill-rule=\"nonzero\" fill-opacity=\"1\" /><path clip-path=\"url(#clip640)\" d=\"M54.0893 787.519 Q54.4582 787.15 54.9808 787.15 Q55.5034 787.15 55.8723 787.519 Q56.2412 787.888 56.2412 788.41 L56.2412 827.821 Q56.2412 828.344 55.8723 828.713 Q55.5034 829.082 54.9808 829.082 Q54.4582 829.082 54.0893 828.713 Q53.7204 828.344 53.7204 827.821 L53.7204 788.41 Q53.7204 787.888 54.0893 787.519 Z\" fill=\"#000000\" fill-rule=\"nonzero\" fill-opacity=\"1\" /><path clip-path=\"url(#clip640)\" d=\"M34.7833 780.58 L32.8158 780.58 Q32.8158 773.018 28.7886 769.114 Q28.7886 768.038 29.0346 767.853 Q29.2805 767.669 30.418 767.669 L65.7405 767.669 Q67.6157 767.669 68.1998 766.747 Q68.7839 765.824 68.7839 761.797 L68.7839 759.799 L70.7207 759.799 Q70.5362 762.012 70.5362 770.005 Q70.5362 777.998 70.7207 780.181 L68.7839 780.181 L68.7839 778.183 Q68.7839 774.217 68.2306 773.264 Q67.6465 772.311 65.7405 772.311 L33.1233 772.311 Q34.7833 775.6 34.7833 780.58 Z\" fill=\"#000000\" fill-rule=\"nonzero\" fill-opacity=\"1\" /><path clip-path=\"url(#clip640)\" d=\"M114.187 710.327 Q108.214 716.037 99.6942 716.037 Q91.1303 716.037 84.9819 710.415 Q78.7896 704.794 78.7896 696.538 Q78.7896 691.048 81.4247 686.92 Q84.0158 682.791 88.4514 682.791 Q90.4277 682.791 91.5695 683.977 Q92.6674 685.119 92.6674 686.92 Q92.6674 688.808 91.5256 689.95 Q90.3398 691.048 88.5392 691.048 Q87.7487 691.048 86.9582 690.784 Q86.1677 690.521 85.3333 689.555 Q84.4989 688.545 84.3671 686.832 Q81.0733 690.038 81.0733 696.274 Q81.0733 696.362 81.0733 696.45 Q81.0733 701.017 85.3772 704.794 Q89.6811 708.571 99.5185 708.571 Q104.657 708.571 108.434 707.341 Q112.167 706.068 114.099 704.003 Q116.031 701.939 116.954 699.919 Q117.832 697.899 117.832 695.923 Q117.832 687.095 108.39 684.109 Q107.511 683.845 107.511 682.967 Q107.511 681.781 108.39 681.781 Q108.829 681.781 109.971 682.133 Q111.113 682.484 112.913 683.582 Q114.714 684.68 116.295 686.261 Q117.832 687.798 118.974 690.565 Q120.116 693.288 120.116 696.713 Q120.116 704.618 114.187 710.327 Z\" fill=\"#000000\" fill-rule=\"nonzero\" fill-opacity=\"1\" /><path clip-path=\"url(#clip640)\" d=\"M119.106 676.5 L116.339 676.5 Q116.339 671.713 115.768 670.615 Q115.153 669.517 112.254 669.517 L88.144 669.517 Q84.8063 669.517 83.9718 670.703 Q83.1374 671.844 83.1374 676.5 L80.3267 676.5 L79.3606 663.851 L88.8027 663.851 Q79.3606 659.635 79.3606 650.545 Q79.3606 640.004 88.144 638.555 Q84.7184 637.018 82.0395 633.812 Q79.3606 630.562 79.3606 625.512 Q79.3606 618.749 82.6983 616.07 Q84.938 614.093 87.4413 613.698 Q89.9446 613.303 96.4443 613.303 L113.616 613.303 Q115.504 613.215 115.943 611.766 Q116.339 610.317 116.339 606.276 L119.106 606.276 Q118.842 615.455 118.842 616.333 Q118.842 617.036 119.106 626.522 L116.339 626.522 Q116.339 621.735 115.768 620.637 Q115.153 619.495 112.254 619.495 L91.306 619.495 Q86.7386 619.495 84.0597 620.901 Q81.3368 622.306 81.3368 626.171 Q81.3368 630.826 85.2454 634.559 Q89.1541 638.292 95.7416 638.292 L112.254 638.292 Q115.153 638.292 115.768 637.194 Q116.339 636.052 116.339 631.265 L119.106 631.265 Q118.842 640.444 118.842 641.366 Q118.842 642.069 119.106 651.511 L116.339 651.511 Q116.339 646.724 115.768 645.626 Q115.153 644.484 112.254 644.484 L91.306 644.484 Q86.7386 644.484 84.0597 645.889 Q81.3368 647.295 81.3368 651.159 Q81.3368 655.815 85.2454 659.548 Q89.1541 663.281 95.7416 663.281 L112.254 663.281 Q115.153 663.281 115.768 662.183 Q116.339 661.041 116.339 656.298 L119.106 656.298 Q118.842 665.476 118.842 666.355 Q118.842 667.057 119.106 676.5 Z\" fill=\"#000000\" fill-rule=\"nonzero\" fill-opacity=\"1\" /><path clip-path=\"url(#clip640)\" d=\"M75.5736 555.79 Q75.9426 555.421 76.4652 555.421 Q76.9878 555.421 77.3567 555.79 Q77.7256 556.158 77.7256 556.681 L77.7256 596.092 Q77.7256 596.615 77.3567 596.984 Q76.9878 597.353 76.4652 597.353 Q75.9426 597.353 75.5736 596.984 Q75.2047 596.615 75.2047 596.092 L75.2047 556.681 Q75.2047 556.158 75.5736 555.79 Z\" fill=\"#000000\" fill-rule=\"nonzero\" fill-opacity=\"1\" /><path clip-path=\"url(#clip640)\" d=\"M92.205 548.851 Q91.0676 548.851 90.7294 548.759 Q90.3913 548.636 89.8687 548.144 L76.4037 536.063 Q68.9641 529.453 62.4776 529.453 Q58.2659 529.453 55.2532 531.666 Q52.2405 533.849 52.2405 537.876 Q52.2405 540.643 53.9313 542.98 Q55.6221 545.316 58.6348 546.392 Q58.5733 546.207 58.5733 545.562 Q58.5733 543.994 59.5571 543.133 Q60.5408 542.242 61.8627 542.242 Q63.5535 542.242 64.3836 543.348 Q65.1829 544.424 65.1829 545.5 Q65.1829 545.931 65.0906 546.515 Q64.9984 547.068 64.1376 547.96 Q63.2461 548.851 61.6783 548.851 Q57.2822 548.851 53.7776 545.531 Q50.273 542.18 50.273 537.077 Q50.273 531.298 53.7161 527.516 Q57.1285 523.704 62.4776 523.704 Q64.3528 523.704 66.0744 524.288 Q67.7652 524.842 69.0871 525.61 Q70.409 526.348 72.5302 528.377 Q74.6514 530.406 76.1577 532.035 Q77.6641 533.665 80.8613 537.323 L87.3478 543.994 L87.3478 532.65 Q87.3478 527.117 86.8559 526.686 Q85.9644 526.071 81.2609 525.303 L81.2609 523.704 L92.205 525.487 L92.205 548.851 Z\" fill=\"#000000\" fill-rule=\"nonzero\" fill-opacity=\"1\" /><path clip-path=\"url(#clip640)\" d=\"M117.92 484.308 L106.062 484.308 Q105.052 484.308 104.701 484.264 Q104.349 484.22 104.086 483.956 Q103.822 483.693 103.822 483.166 Q103.822 482.551 104.086 482.331 Q104.349 482.068 105.359 481.892 Q111.552 480.531 114.846 477.632 Q118.095 474.69 118.095 469.376 Q118.095 464.325 115.856 461.778 Q113.616 459.231 109.927 459.231 Q103.339 459.231 101.67 468.585 Q100.573 473.987 99.8698 476.227 Q99.1232 478.467 97.4983 480.443 Q94.3363 484.308 89.8567 484.308 Q85.3772 484.308 82.0834 480.926 Q78.7896 477.5 78.7896 469.947 Q78.7896 464.896 81.3368 461.471 Q80.5463 460.461 79.8876 459.934 Q78.7896 458.748 78.7896 458.133 Q78.7896 457.43 79.2727 457.299 Q79.7119 457.167 80.9855 457.167 L90.0324 457.167 Q91.0425 457.167 91.3938 457.211 Q91.7452 457.255 92.0087 457.518 Q92.2283 457.782 92.2283 458.353 Q92.2283 459.363 91.3938 459.407 Q80.5024 460.109 80.5024 469.947 Q80.5024 475.261 82.5665 477.632 Q84.5867 480.004 87.3535 480.004 Q88.8906 480.004 90.0763 479.301 Q91.2182 478.554 91.9208 477.632 Q92.5796 476.666 93.2384 474.909 Q93.8532 473.153 94.0728 472.099 Q94.2924 471.001 94.7315 468.937 Q96.093 461.734 99.0354 458.704 Q102.812 454.927 107.599 454.927 Q112.913 454.927 116.514 458.528 Q120.116 462.129 120.116 469.376 Q120.116 475.217 116.207 479.301 Q116.734 479.828 117.217 480.223 Q117.656 480.618 117.832 480.794 Q118.008 480.926 118.139 480.97 Q118.227 481.014 118.315 481.102 Q120.116 482.902 120.116 483.341 Q120.116 484.044 119.633 484.176 Q119.193 484.308 117.92 484.308 Z\" fill=\"#000000\" fill-rule=\"nonzero\" fill-opacity=\"1\" /><path clip-path=\"url(#clip640)\" d=\"M75.0111 404.051 Q75.3801 403.682 75.9027 403.682 Q76.4253 403.682 76.7942 404.051 Q77.1631 404.42 77.1631 404.942 L77.1631 444.353 Q77.1631 444.876 76.7942 445.245 Q76.4253 445.614 75.9027 445.614 Q75.3801 445.614 75.0111 445.245 Q74.6422 444.876 74.6422 444.353 L74.6422 404.942 Q74.6422 404.42 75.0111 404.051 Z\" fill=\"#000000\" fill-rule=\"nonzero\" fill-opacity=\"1\" /><path clip-path=\"url(#clip640)\" d=\"M55.7052 397.112 L53.7377 397.112 Q53.7377 389.55 49.7105 385.646 Q49.7105 384.57 49.9565 384.385 Q50.2024 384.201 51.3398 384.201 L86.6624 384.201 Q88.5376 384.201 89.1217 383.278 Q89.7058 382.356 89.7058 378.329 L89.7058 376.331 L91.6425 376.331 Q91.4581 378.544 91.4581 386.537 Q91.4581 394.53 91.6425 396.713 L89.7058 396.713 L89.7058 394.714 Q89.7058 390.749 89.1524 389.796 Q88.5684 388.843 86.6624 388.843 L54.0451 388.843 Q55.7052 392.132 55.7052 397.112 Z\" fill=\"#000000\" fill-rule=\"nonzero\" fill-opacity=\"1\" /><path clip-path=\"url(#clip640)\" d=\"M139.527 356.335 L139.527 348.781 L53.713 348.781 L53.713 356.335 L51.6489 356.335 L51.6489 342.765 L141.591 342.765 L141.591 356.335 L139.527 356.335 Z\" fill=\"#000000\" fill-rule=\"nonzero\" fill-opacity=\"1\" /><path clip-path=\"url(#clip640)\" d=\"M1147.66 41.1683 Q1147.66 41.5635 1147.31 42.925 Q1147 44.2425 1145.99 46.8336 Q1145.03 49.3808 1143.53 52.2354 Q1142.08 55.0461 1139.4 58.6034 Q1136.73 62.1607 1133.39 65.2788 Q1127.11 71.1637 1120.39 74.3257 Q1113.71 77.4877 1108 78.4978 L1106.73 78.4978 Q1105.32 78.4978 1105.32 77.3999 L1106.29 73.3595 L1111.78 51.3571 Q1113.49 44.6377 1113.49 44.0668 Q1113.49 43.5398 1113.27 43.2763 Q1113.1 42.9689 1112.04 42.7493 Q1111.03 42.5297 1109.01 42.5297 Q1108.18 42.5297 1107.78 42.4858 Q1107.43 42.4419 1107.13 42.2223 Q1106.82 41.9588 1106.82 41.4318 Q1106.82 40.6852 1107.13 40.2899 Q1107.48 39.8508 1107.74 39.7629 Q1108 39.6751 1108.53 39.6312 Q1109.28 39.5873 1111.78 39.3677 Q1114.28 39.1042 1116.44 38.9285 Q1118.59 38.7529 1119.51 38.7529 Q1120.04 38.7529 1120.34 39.0164 Q1120.65 39.2359 1120.65 39.4994 L1120.7 39.719 L1111.87 75.5115 Q1115.12 74.4574 1118.32 72.7008 Q1121.57 70.9441 1125.09 68.0455 Q1128.6 65.1031 1131.59 61.458 Q1134.57 57.8129 1137.21 52.7185 Q1139.89 47.5802 1141.56 41.6953 Q1141.86 40.5095 1142.61 39.8069 Q1143.4 39.1042 1143.97 38.9285 Q1144.54 38.7529 1145.07 38.7529 Q1146.26 38.7529 1146.96 39.4116 Q1147.66 40.0264 1147.66 41.1683 Z\" fill=\"#000000\" fill-rule=\"nonzero\" fill-opacity=\"1\" /><path clip-path=\"url(#clip640)\" d=\"M1156.85 67.4783 L1156.85 65.5108 Q1164.41 65.5108 1168.31 61.4836 Q1169.39 61.4836 1169.57 61.7295 Q1169.76 61.9755 1169.76 63.1129 L1169.76 98.4354 Q1169.76 100.311 1170.68 100.895 Q1171.6 101.479 1175.63 101.479 L1177.63 101.479 L1177.63 103.416 Q1175.41 103.231 1167.42 103.231 Q1159.43 103.231 1157.25 103.416 L1157.25 101.479 L1159.24 101.479 Q1163.21 101.479 1164.16 100.926 Q1165.12 100.341 1165.12 98.4354 L1165.12 65.8182 Q1161.83 67.4783 1156.85 67.4783 Z\" fill=\"#000000\" fill-rule=\"nonzero\" fill-opacity=\"1\" /><path clip-path=\"url(#clip640)\" d=\"M1187.02 99.7098 Q1187.02 99.2706 1187.37 98.3044 L1219.12 13.4566 Q1219.12 13.3688 1219.34 12.8857 Q1219.56 12.4026 1219.69 12.0952 Q1219.83 11.7438 1220.09 11.4803 Q1220.4 11.2168 1220.75 11.2168 Q1221.63 11.2168 1221.63 12.3148 Q1221.63 12.4026 1221.36 13.4566 L1189.52 98.3923 Q1189 99.9293 1188.64 100.369 Q1188.34 100.808 1187.81 100.808 Q1187.02 100.808 1187.02 99.7098 Z\" fill=\"#000000\" fill-rule=\"nonzero\" fill-opacity=\"1\" /><path clip-path=\"url(#clip640)\" d=\"M1271.6 29.1673 L1248.89 29.1673 L1248.89 27.1998 L1271.6 27.1998 L1271.6 29.1673 Z\" fill=\"#000000\" fill-rule=\"nonzero\" fill-opacity=\"1\" /><path clip-path=\"url(#clip640)\" d=\"M1275.89 41.1683 Q1275.89 41.5635 1275.54 42.925 Q1275.24 44.2425 1274.23 46.8336 Q1273.26 49.3808 1271.77 52.2354 Q1270.32 55.0461 1267.64 58.6034 Q1264.96 62.1607 1261.62 65.2788 Q1255.34 71.1637 1248.62 74.3257 Q1241.95 77.4877 1236.24 78.4978 L1234.96 78.4978 Q1233.56 78.4978 1233.56 77.3999 L1234.53 73.3595 L1240.01 51.3571 Q1241.73 44.6377 1241.73 44.0668 Q1241.73 43.5398 1241.51 43.2763 Q1241.33 42.9689 1240.28 42.7493 Q1239.27 42.5297 1237.25 42.5297 Q1236.41 42.5297 1236.02 42.4858 Q1235.67 42.4419 1235.36 42.2223 Q1235.05 41.9588 1235.05 41.4318 Q1235.05 40.6852 1235.36 40.2899 Q1235.71 39.8508 1235.97 39.7629 Q1236.24 39.6751 1236.76 39.6312 Q1237.51 39.5873 1240.01 39.3677 Q1242.52 39.1042 1244.67 38.9285 Q1246.82 38.7529 1247.74 38.7529 Q1248.27 38.7529 1248.58 39.0164 Q1248.89 39.2359 1248.89 39.4994 L1248.93 39.719 L1240.1 75.5115 Q1243.35 74.4574 1246.56 72.7008 Q1249.81 70.9441 1253.32 68.0455 Q1256.83 65.1031 1259.82 61.458 Q1262.81 57.8129 1265.44 52.7185 Q1268.12 47.5802 1269.79 41.6953 Q1270.1 40.5095 1270.84 39.8069 Q1271.63 39.1042 1272.21 38.9285 Q1272.78 38.7529 1273.3 38.7529 Q1274.49 38.7529 1275.19 39.4116 Q1275.89 40.0264 1275.89 41.1683 Z\" fill=\"#000000\" fill-rule=\"nonzero\" fill-opacity=\"1\" /><path clip-path=\"url(#clip640)\" d=\"M1286.16 67.4783 L1286.16 65.5108 Q1293.72 65.5108 1297.63 61.4836 Q1298.7 61.4836 1298.89 61.7295 Q1299.07 61.9755 1299.07 63.1129 L1299.07 98.4354 Q1299.07 100.311 1299.99 100.895 Q1300.91 101.479 1304.94 101.479 L1306.94 101.479 L1306.94 103.416 Q1304.73 103.231 1296.73 103.231 Q1288.74 103.231 1286.56 103.416 L1286.56 101.479 L1288.56 101.479 Q1292.52 101.479 1293.48 100.926 Q1294.43 100.341 1294.43 98.4354 L1294.43 65.8182 Q1291.14 67.4783 1286.16 67.4783 Z\" fill=\"#000000\" fill-rule=\"nonzero\" fill-opacity=\"1\" /><path clip-path=\"url(#clip640)\" d=\"M1420.07 54.8265 Q1420.86 55.1339 1420.86 56.0123 Q1420.86 56.8906 1420.07 57.198 Q1413.49 59.3939 1407.73 66.5524 Q1403.65 71.8663 1402.51 77.9708 Q1402.38 78.5856 1401.89 78.9809 Q1401.41 79.3762 1400.75 79.3762 Q1400 79.3762 1399.48 78.8491 Q1398.95 78.3661 1398.95 77.6195 Q1398.95 77.5756 1398.99 77.4438 Q1399.04 77.2681 1399.04 77.2242 Q1400.36 70.1096 1404.97 64.2687 Q1407.87 60.5796 1411.99 57.8129 L1343.09 57.8129 Q1342.34 57.8129 1341.81 57.2859 Q1341.29 56.7589 1341.29 56.0123 Q1341.29 55.2657 1341.81 54.7387 Q1342.34 54.2117 1343.09 54.2117 L1411.99 54.2117 Q1407.87 51.4449 1404.97 47.7559 Q1400.36 41.9149 1399.04 34.8003 Q1399.04 34.7564 1398.99 34.6246 Q1398.95 34.449 1398.95 34.4051 Q1398.95 33.6585 1399.48 33.1754 Q1400 32.6484 1400.75 32.6484 Q1401.41 32.6484 1401.89 33.0436 Q1402.38 33.4389 1402.51 34.0537 Q1403.65 40.1582 1407.73 45.4722 Q1413.49 52.6307 1420.07 54.8265 Z\" fill=\"#000000\" fill-rule=\"nonzero\" fill-opacity=\"1\" /><path clip-path=\"url(#clip640)\" d=\"M1495.37 29.1673 L1472.65 29.1673 L1472.65 27.1998 L1495.37 27.1998 L1495.37 29.1673 Z\" fill=\"#000000\" fill-rule=\"nonzero\" fill-opacity=\"1\" /><path clip-path=\"url(#clip640)\" d=\"M1499.66 41.1683 Q1499.66 41.5635 1499.3 42.925 Q1499 44.2425 1497.99 46.8336 Q1497.02 49.3808 1495.53 52.2354 Q1494.08 55.0461 1491.4 58.6034 Q1488.72 62.1607 1485.38 65.2788 Q1479.1 71.1637 1472.38 74.3257 Q1465.71 77.4877 1460 78.4978 L1458.73 78.4978 Q1457.32 78.4978 1457.32 77.3999 L1458.29 73.3595 L1463.78 51.3571 Q1465.49 44.6377 1465.49 44.0668 Q1465.49 43.5398 1465.27 43.2763 Q1465.09 42.9689 1464.04 42.7493 Q1463.03 42.5297 1461.01 42.5297 Q1460.17 42.5297 1459.78 42.4858 Q1459.43 42.4419 1459.12 42.2223 Q1458.81 41.9588 1458.81 41.4318 Q1458.81 40.6852 1459.12 40.2899 Q1459.47 39.8508 1459.74 39.7629 Q1460 39.6751 1460.53 39.6312 Q1461.27 39.5873 1463.78 39.3677 Q1466.28 39.1042 1468.43 38.9285 Q1470.58 38.7529 1471.51 38.7529 Q1472.03 38.7529 1472.34 39.0164 Q1472.65 39.2359 1472.65 39.4994 L1472.69 39.719 L1463.86 75.5115 Q1467.11 74.4574 1470.32 72.7008 Q1473.57 70.9441 1477.08 68.0455 Q1480.6 65.1031 1483.58 61.458 Q1486.57 57.8129 1489.2 52.7185 Q1491.88 47.5802 1493.55 41.6953 Q1493.86 40.5095 1494.61 39.8069 Q1495.4 39.1042 1495.97 38.9285 Q1496.54 38.7529 1497.06 38.7529 Q1498.25 38.7529 1498.95 39.4116 Q1499.66 40.0264 1499.66 41.1683 Z\" fill=\"#000000\" fill-rule=\"nonzero\" fill-opacity=\"1\" /><path clip-path=\"url(#clip640)\" d=\"M1509.92 94.9308 Q1509.92 93.0556 1511 92.1641 Q1512.07 91.2726 1513.45 91.2726 Q1514.9 91.2726 1515.91 92.2256 Q1516.96 93.1478 1516.96 94.7771 Q1516.96 96.5294 1515.73 97.5132 Q1514.53 98.4969 1512.81 98.251 Q1514.32 100.772 1517.08 101.909 Q1519.88 103.047 1522.46 103.047 Q1525.17 103.047 1527.35 100.71 Q1529.56 98.3739 1529.56 92.6559 Q1529.56 87.7987 1527.66 85.0012 Q1525.78 82.2037 1522.06 82.2037 L1519.3 82.2037 Q1518.34 82.2037 1518.07 82.1114 Q1517.79 82.0192 1517.79 81.4966 Q1517.79 80.8818 1518.74 80.7588 Q1519.7 80.7588 1521.2 80.5743 Q1524.86 80.4514 1526.8 77.285 Q1528.55 74.3337 1528.55 70.1221 Q1528.55 66.2793 1526.7 64.6808 Q1524.89 63.0514 1522.52 63.0514 Q1520.31 63.0514 1517.88 63.9737 Q1515.45 64.896 1514.13 66.9557 Q1518.04 66.9557 1518.04 70.1221 Q1518.04 71.5055 1517.14 72.4277 Q1516.28 73.3192 1514.84 73.3192 Q1513.45 73.3192 1512.53 72.4585 Q1511.61 71.567 1511.61 70.0606 Q1511.61 66.4638 1514.81 63.9737 Q1518.04 61.4836 1522.77 61.4836 Q1527.44 61.4836 1530.89 63.943 Q1534.36 66.4023 1534.36 70.1836 Q1534.36 73.9033 1531.9 76.9468 Q1529.44 79.9903 1525.54 81.2507 Q1530.33 82.2037 1533.19 85.4623 Q1536.05 88.6902 1536.05 92.6559 Q1536.05 97.5747 1532.18 101.202 Q1528.3 104.799 1522.65 104.799 Q1517.42 104.799 1513.67 101.971 Q1509.92 99.1425 1509.92 94.9308 Z\" fill=\"#000000\" fill-rule=\"nonzero\" fill-opacity=\"1\" /><path clip-path=\"url(#clip642)\" d=\"M385.834 591.173 L404.814 457.464 L423.795 390.56 L442.775 352.721 L461.755 330.735 L480.736 318.458 L499.716 312.562 L518.696 311.064 L537.677 312.707 L556.657 316.657 L575.637 322.341 L594.618 329.355 L613.598 337.406 L632.578 346.368 L651.559 355.904 L670.539 365.972 L689.519 376.478 L708.5 387.342 L727.48 398.503 L746.46 409.91 L765.441 421.521 L784.421 433.301 L803.402 445.22 L822.382 457.254 L841.362 469.379 L860.343 481.579 L879.323 493.837 L898.303 506.138 L917.284 518.38 L936.264 530.736 L955.244 543.104 L974.225 555.475 L993.205 567.842 L1012.19 580.199 L1031.17 592.541 L1050.15 604.862 L1069.13 617.158 L1088.11 629.425 L1107.09 641.661 L1126.07 653.861 L1145.05 666.024 L1164.03 678.148 L1183.01 690.23 L1201.99 702.27 L1220.97 714.264 L1239.95 726.213 L1258.93 738.114 L1277.91 749.969 L1296.89 761.771 L1315.87 773.496 L1334.85 785.137 L1353.83 796.799 L1372.81 808.41 L1391.79 819.971 L1410.77 831.48 L1429.75 842.946 L1448.73 854.351 L1467.71 865.705 L1486.69 877.008 L1505.67 888.259 L1524.65 899.458 L1543.64 910.607 L1562.62 921.723 L1581.6 932.767 L1600.58 943.76 L1619.56 954.703 L1638.54 965.594 L1657.52 976.435 L1676.5 987.226 L1695.48 997.966 L1714.46 1008.66 L1733.44 1019.35 L1752.42 1029.93 L1771.4 1040.47 L1790.38 1050.96 L1809.36 1061.39 L1828.34 1071.78 L1847.32 1082.12 L1866.3 1092.41 L1885.28 1102.65 L1904.26 1112.85 L1923.24 1122.99 L1942.22 1133.09 L1961.2 1143.32 L1980.18 1153.3 L1999.16 1163.25 L2018.14 1173.14 L2037.12 1182.99 L2056.1 1192.79 L2075.08 1202.54 L2094.07 1212.25 L2113.05 1221.91 L2132.03 1231.53 L2151.01 1241.1 L2169.99 1250.62 L2188.97 1260.1 L2207.95 1269.53 L2226.93 1278.92 L2245.91 1288.27 L2264.89 1297.57 L2264.89 1180.18 L2245.91 1170.88 L2226.93 1161.54 L2207.95 1152.15 L2188.97 1142.72 L2169.99 1133.24 L2151.01 1123.71 L2132.03 1114.14 L2113.05 1104.53 L2094.07 1094.87 L2075.08 1085.16 L2056.1 1075.4 L2037.12 1065.6 L2018.14 1055.76 L1999.16 1045.86 L1980.18 1035.92 L1961.2 1025.93 L1942.22 1015.7 L1923.24 1005.6 L1904.26 995.46 L1885.28 985.267 L1866.3 975.026 L1847.32 964.736 L1828.34 954.397 L1809.36 944.009 L1790.38 933.572 L1771.4 923.085 L1752.42 912.549 L1733.44 901.963 L1714.46 891.27 L1695.48 880.58 L1676.5 869.84 L1657.52 859.05 L1638.54 848.209 L1619.56 837.317 L1600.58 826.375 L1581.6 815.381 L1562.62 804.337 L1543.64 793.221 L1524.65 782.073 L1505.67 770.873 L1486.69 759.622 L1467.71 748.319 L1448.73 736.966 L1429.75 725.56 L1410.77 714.094 L1391.79 702.585 L1372.81 691.025 L1353.83 679.414 L1334.85 667.752 L1315.87 656.11 L1296.89 644.386 L1277.91 632.583 L1258.93 620.728 L1239.95 608.827 L1220.97 596.878 L1201.99 584.884 L1183.01 572.845 L1164.03 560.762 L1145.05 548.639 L1126.07 536.476 L1107.09 524.275 L1088.11 512.04 L1069.13 499.772 L1050.15 487.476 L1031.17 475.155 L1012.19 462.814 L993.205 450.456 L974.225 438.089 L955.244 425.718 L936.264 413.35 L917.284 400.994 L898.303 388.753 L879.323 376.451 L860.343 364.194 L841.362 351.994 L822.382 339.868 L803.402 327.835 L784.421 315.916 L765.441 304.136 L746.46 292.525 L727.48 281.117 L708.5 269.956 L689.519 259.092 L670.539 248.587 L651.559 238.518 L632.578 228.983 L613.598 220.021 L594.618 211.969 L575.637 204.955 L556.657 199.271 L537.677 195.321 L518.696 193.678 L499.716 195.176 L480.736 201.073 L461.755 213.349 L442.775 235.335 L423.795 273.174 L404.814 340.079 L385.834 473.787  Z\" fill=\"#008000\" fill-rule=\"evenodd\" fill-opacity=\"0.2\"/>\n<polyline clip-path=\"url(#clip642)\" style=\"stroke:#009af9; stroke-linecap:round; stroke-linejoin:round; stroke-width:4; stroke-opacity:0; fill:none\" points=\"385.834,591.173 404.814,457.464 423.795,390.56 442.775,352.721 461.755,330.735 480.736,318.458 499.716,312.562 518.696,311.064 537.677,312.707 556.657,316.657 575.637,322.341 594.618,329.355 613.598,337.406 632.578,346.368 651.559,355.904 670.539,365.972 689.519,376.478 708.5,387.342 727.48,398.503 746.46,409.91 765.441,421.521 784.421,433.301 803.402,445.22 822.382,457.254 841.362,469.379 860.343,481.579 879.323,493.837 898.303,506.138 917.284,518.38 936.264,530.736 955.244,543.104 974.225,555.475 993.205,567.842 1012.19,580.199 1031.17,592.541 1050.15,604.862 1069.13,617.158 1088.11,629.425 1107.09,641.661 1126.07,653.861 1145.05,666.024 1164.03,678.148 1183.01,690.23 1201.99,702.27 1220.97,714.264 1239.95,726.213 1258.93,738.114 1277.91,749.969 1296.89,761.771 1315.87,773.496 1334.85,785.137 1353.83,796.799 1372.81,808.41 1391.79,819.971 1410.77,831.48 1429.75,842.946 1448.73,854.351 1467.71,865.705 1486.69,877.008 1505.67,888.259 1524.65,899.458 1543.64,910.607 1562.62,921.723 1581.6,932.767 1600.58,943.76 1619.56,954.703 1638.54,965.594 1657.52,976.435 1676.5,987.226 1695.48,997.966 1714.46,1008.66 1733.44,1019.35 1752.42,1029.93 1771.4,1040.47 1790.38,1050.96 1809.36,1061.39 1828.34,1071.78 1847.32,1082.12 1866.3,1092.41 1885.28,1102.65 1904.26,1112.85 1923.24,1122.99 1942.22,1133.09 1961.2,1143.32 1980.18,1153.3 1999.16,1163.25 2018.14,1173.14 2037.12,1182.99 2056.1,1192.79 2075.08,1202.54 2094.07,1212.25 2113.05,1221.91 2132.03,1231.53 2151.01,1241.1 2169.99,1250.62 2188.97,1260.1 2207.95,1269.53 2226.93,1278.92 2245.91,1288.27 2264.89,1297.57 \"/>\n<polyline clip-path=\"url(#clip642)\" style=\"stroke:#000000; stroke-linecap:round; stroke-linejoin:round; stroke-width:6; stroke-opacity:1; fill:none\" points=\"385.834,520.402 404.814,386.694 423.795,319.789 442.775,281.95 461.755,259.964 480.736,247.688 499.716,241.792 518.696,240.293 537.677,241.937 556.657,245.886 575.637,251.57 594.618,258.584 613.598,266.636 632.578,275.598 651.559,285.133 670.539,295.202 689.519,305.707 708.5,316.572 727.48,327.733 746.46,339.14 765.441,350.751 784.421,362.531 803.402,374.45 822.382,386.483 841.362,398.609 860.343,410.809 879.323,423.066 898.303,435.368 917.284,447.61 936.264,459.966 955.244,472.333 974.225,484.704 993.205,497.072 1012.19,509.429 1031.17,521.771 1050.15,534.092 1069.13,546.388 1088.11,558.655 1107.09,570.891 1126.07,583.091 1145.05,595.254 1164.03,607.378 1183.01,619.46 1201.99,631.499 1220.97,643.493 1239.95,655.442 1258.93,667.344 1277.91,679.199 1296.89,691.001 1315.87,702.726 1334.85,714.367 1353.83,726.029 1372.81,737.64 1391.79,749.2 1410.77,760.709 1429.75,772.175 1448.73,783.581 1467.71,794.935 1486.69,806.237 1505.67,817.489 1524.65,828.688 1543.64,839.836 1562.62,850.953 1581.6,861.997 1600.58,872.99 1619.56,883.932 1638.54,894.824 1657.52,905.665 1676.5,916.455 1695.48,927.195 1714.46,937.885 1733.44,948.579 1752.42,959.164 1771.4,969.701 1790.38,980.187 1809.36,990.624 1828.34,1001.01 1847.32,1011.35 1866.3,1021.64 1885.28,1031.88 1904.26,1042.08 1923.24,1052.22 1942.22,1062.32 1961.2,1072.54 1980.18,1082.53 1999.16,1092.48 2018.14,1102.37 2037.12,1112.22 2056.1,1122.02 2075.08,1131.77 2094.07,1141.48 2113.05,1151.14 2132.03,1160.76 2151.01,1170.33 2169.99,1179.85 2188.97,1189.33 2207.95,1198.76 2226.93,1208.15 2245.91,1217.5 2264.89,1226.8 \"/>\n<polyline clip-path=\"url(#clip642)\" style=\"stroke:#0000ff; stroke-linecap:round; stroke-linejoin:round; stroke-width:6; stroke-opacity:1; fill:none\" points=\"385.834,567.849 404.814,494.261 423.795,445.711 442.775,415.557 461.755,397.472 480.736,387.451 499.716,382.987 518.696,382.463 537.677,384.806 556.657,389.278 575.637,395.366 594.618,402.7 613.598,411.01 632.578,420.181 651.559,429.893 670.539,440.109 689.519,450.736 708.5,461.701 727.48,472.944 746.46,484.421 765.441,496.079 784.421,507.89 803.402,519.825 822.382,531.857 841.362,543.967 860.343,556.134 879.323,568.343 898.303,580.58 917.284,592.744 936.264,604.999 955.244,617.252 974.225,629.493 993.205,641.713 1012.19,653.906 1031.17,666.066 1050.15,678.188 1069.13,690.269 1088.11,702.304 1107.09,714.29 1126.07,726.225 1145.05,738.106 1164.03,749.932 1183.01,761.7 1201.99,773.409 1220.97,785.058 1239.95,796.648 1258.93,808.175 1277.91,819.641 1296.89,831.039 1315.87,842.291 1334.85,853.58 1353.83,864.803 1372.81,875.964 1391.79,887.063 1410.77,898.1 1429.75,909.082 1448.73,919.998 1467.71,930.852 1486.69,941.648 1505.67,952.385 1524.65,963.064 1543.64,973.685 1562.62,984.263 1581.6,994.77 1600.58,1005.22 1619.56,1015.62 1638.54,1025.96 1657.52,1036.25 1676.5,1046.48 1695.48,1056.67 1714.46,1066.8 1733.44,1076.92 1752.42,1086.94 1771.4,1096.92 1790.38,1106.85 1809.36,1116.73 1828.34,1126.55 1847.32,1136.34 1866.3,1146.07 1885.28,1155.76 1904.26,1165.39 1923.24,1174.99 1942.22,1184.53 1961.2,1194.16 1980.18,1203.6 1999.16,1213 2018.14,1222.36 2037.12,1231.67 2056.1,1240.94 2075.08,1250.16 2094.07,1259.34 2113.05,1268.48 2132.03,1277.57 2151.01,1286.62 2169.99,1295.63 2188.97,1304.59 2207.95,1313.51 2226.93,1322.39 2245.91,1331.22 2264.89,1340.01 \"/>\n<path clip-path=\"url(#clip640)\" d=\"M1546.44 542.432 L2254.87 542.432 L2254.87 199.792 L1546.44 199.792  Z\" fill=\"#ffffff\" fill-rule=\"evenodd\" fill-opacity=\"1\"/>\n<polyline clip-path=\"url(#clip640)\" style=\"stroke:#000000; stroke-linecap:round; stroke-linejoin:round; stroke-width:4; stroke-opacity:1; fill:none\" points=\"1546.44,542.432 2254.87,542.432 2254.87,199.792 1546.44,199.792 1546.44,542.432 \"/>\n<polyline clip-path=\"url(#clip640)\" style=\"stroke:#000000; stroke-linecap:round; stroke-linejoin:round; stroke-width:9.75; stroke-opacity:1; fill:none\" points=\"1568.57,314.005 1701.36,314.005 \"/>\n<path clip-path=\"url(#clip640)\" d=\"M1723.49 332.873 L1723.49 330.475 Q1727.64 330.475 1728.59 329.98 Q1729.54 329.447 1729.54 326.935 L1729.54 306.039 Q1729.54 303.147 1728.52 302.423 Q1727.53 301.7 1723.49 301.7 L1723.49 299.264 L1734.45 298.427 L1734.45 306.61 Q1738.11 298.427 1745.99 298.427 Q1751.85 298.427 1754.17 301.32 Q1755.88 303.261 1756.22 305.43 Q1756.61 307.6 1756.61 313.233 L1756.61 328.115 Q1756.68 329.751 1757.94 330.132 Q1759.19 330.475 1762.7 330.475 L1762.7 332.873 Q1754.74 332.644 1753.94 332.644 Q1753.33 332.644 1745.15 332.873 L1745.15 330.475 Q1749.3 330.475 1750.25 329.98 Q1751.24 329.447 1751.24 326.935 L1751.24 308.78 Q1751.24 304.821 1750.02 302.499 Q1748.8 300.14 1745.45 300.14 Q1741.42 300.14 1738.18 303.527 Q1734.95 306.915 1734.95 312.624 L1734.95 326.935 Q1734.95 329.447 1735.9 329.98 Q1736.89 330.475 1741 330.475 L1741 332.873 Q1733.05 332.644 1732.28 332.644 Q1731.68 332.644 1723.49 332.873 Z\" fill=\"#000000\" fill-rule=\"nonzero\" fill-opacity=\"1\" /><path clip-path=\"url(#clip640)\" d=\"M1773.33 328.686 Q1768.19 323.586 1768.19 316.202 Q1768.19 308.78 1773.21 303.375 Q1778.27 297.932 1785.51 297.932 Q1792.58 297.932 1797.65 303.337 Q1802.75 308.703 1802.75 316.202 Q1802.75 323.547 1797.61 328.648 Q1792.51 333.748 1785.43 333.748 Q1778.5 333.748 1773.33 328.686 M1774.66 315.555 Q1774.66 323.129 1776.64 326.554 Q1779.68 331.769 1785.51 331.769 Q1788.4 331.769 1790.8 330.208 Q1793.23 328.648 1794.56 326.021 Q1796.28 322.596 1796.28 315.555 Q1796.28 308.056 1794.22 304.745 Q1791.18 299.683 1785.43 299.683 Q1782.92 299.683 1780.44 301.015 Q1778.01 302.309 1776.52 304.897 Q1774.66 308.323 1774.66 315.555 Z\" fill=\"#000000\" fill-rule=\"nonzero\" fill-opacity=\"1\" /><path clip-path=\"url(#clip640)\" d=\"M1827.39 316.125 Q1827.39 308.703 1832.56 303.565 Q1837.74 298.427 1844.74 298.427 Q1850.68 298.427 1854.56 303.261 L1854.56 286.399 Q1854.56 283.507 1853.53 282.784 Q1852.54 282.06 1848.51 282.06 L1848.51 279.625 L1859.74 278.787 L1859.74 326.098 Q1859.74 328.99 1860.73 329.751 Q1861.75 330.475 1865.79 330.475 L1865.79 332.873 L1854.33 333.748 L1854.33 328.572 Q1850.3 333.71 1843.9 333.748 Q1837.2 333.748 1832.29 328.61 Q1827.39 323.471 1827.39 316.125 M1833.86 316.202 Q1833.86 323.433 1836.1 327.011 Q1839.22 331.997 1844.28 331.997 Q1850.07 331.997 1853.5 326.554 Q1854.37 325.222 1854.33 323.662 L1854.33 307.676 Q1854.33 306.115 1853.5 304.821 Q1850.3 300.14 1845.08 300.14 Q1839.64 300.14 1836.25 305.126 Q1833.86 308.856 1833.86 316.202 Z\" fill=\"#000000\" fill-rule=\"nonzero\" fill-opacity=\"1\" /><path clip-path=\"url(#clip640)\" d=\"M1870.52 315.707 Q1870.52 308.361 1875.24 303.147 Q1879.96 297.932 1886.73 297.932 Q1893.59 297.932 1897.13 302.385 Q1900.7 306.838 1900.7 313.233 Q1900.7 314.413 1900.4 314.641 Q1900.09 314.869 1898.76 314.869 L1876.99 314.869 Q1876.99 322.824 1879.35 326.554 Q1882.62 331.769 1888.14 331.769 Q1888.9 331.769 1889.82 331.616 Q1890.73 331.464 1892.6 330.817 Q1894.46 330.132 1896.1 328.343 Q1897.73 326.554 1898.69 323.738 Q1898.91 322.634 1899.68 322.672 Q1900.7 322.672 1900.7 323.586 Q1900.7 324.271 1899.94 325.831 Q1899.22 327.354 1897.81 329.181 Q1896.4 331.007 1893.66 332.378 Q1890.96 333.748 1887.69 333.748 Q1880.84 333.748 1875.66 328.572 Q1870.52 323.357 1870.52 315.707 M1877.07 313.233 L1895.57 313.233 Q1895.57 311.596 1895.26 309.769 Q1894.99 307.942 1894.16 305.43 Q1893.36 302.88 1891.45 301.281 Q1889.55 299.683 1886.73 299.683 Q1885.48 299.683 1884.11 300.216 Q1882.78 300.749 1881.14 302.043 Q1879.5 303.337 1878.36 306.268 Q1877.22 309.198 1877.07 313.233 Z\" fill=\"#000000\" fill-rule=\"nonzero\" fill-opacity=\"1\" /><path clip-path=\"url(#clip640)\" d=\"M1909.74 328.61 Q1904.79 323.433 1904.79 316.049 Q1904.79 308.627 1909.66 303.299 Q1914.53 297.932 1921.69 297.932 Q1926.44 297.932 1930.02 300.216 Q1933.6 302.461 1933.6 306.306 Q1933.6 308.018 1932.57 309.008 Q1931.58 309.96 1930.02 309.96 Q1928.39 309.96 1927.4 308.97 Q1926.44 307.942 1926.44 306.382 Q1926.44 305.697 1926.67 305.012 Q1926.9 304.326 1927.74 303.603 Q1928.61 302.88 1930.1 302.766 Q1927.32 299.911 1921.91 299.911 Q1921.84 299.911 1921.76 299.911 Q1917.8 299.911 1914.53 303.641 Q1911.26 307.371 1911.26 315.897 Q1911.26 320.35 1912.32 323.624 Q1913.43 326.859 1915.22 328.534 Q1917 330.208 1918.76 331.007 Q1920.51 331.769 1922.22 331.769 Q1929.87 331.769 1932.46 323.586 Q1932.69 322.824 1933.45 322.824 Q1934.47 322.824 1934.47 323.586 Q1934.47 323.966 1934.17 324.956 Q1933.87 325.945 1932.91 327.506 Q1931.96 329.066 1930.59 330.437 Q1929.26 331.769 1926.86 332.758 Q1924.5 333.748 1921.53 333.748 Q1914.68 333.748 1909.74 328.61 Z\" fill=\"#000000\" fill-rule=\"nonzero\" fill-opacity=\"1\" /><path clip-path=\"url(#clip640)\" d=\"M1938.43 325.451 Q1938.43 318.828 1946.23 315.326 Q1950.91 313.081 1960.58 312.51 L1960.58 309.655 Q1960.58 304.821 1958.03 302.271 Q1955.52 299.683 1952.32 299.683 Q1946.61 299.683 1943.87 303.261 Q1946.19 303.337 1947.03 304.517 Q1947.87 305.659 1947.87 306.838 Q1947.87 308.399 1946.88 309.427 Q1945.93 310.416 1944.29 310.416 Q1942.73 310.416 1941.7 309.465 Q1940.68 308.475 1940.68 306.762 Q1940.68 302.956 1944.1 300.444 Q1947.56 297.932 1952.47 297.932 Q1958.87 297.932 1963.13 302.233 Q1964.46 303.565 1965.11 305.278 Q1965.8 306.991 1965.87 308.133 Q1965.95 309.236 1965.95 311.444 L1965.95 327.011 Q1965.95 327.468 1966.1 328.229 Q1966.25 328.99 1966.94 329.98 Q1967.66 330.931 1968.84 330.931 Q1971.66 330.931 1971.62 325.945 L1971.62 321.568 L1973.6 321.568 L1973.6 325.945 Q1973.6 330.094 1971.39 331.731 Q1969.22 333.329 1967.2 333.329 Q1964.62 333.329 1962.98 331.426 Q1961.34 329.523 1961.11 326.935 Q1959.93 329.904 1957.23 331.845 Q1954.57 333.748 1950.91 333.748 Q1948.1 333.748 1945.43 333.025 Q1942.81 332.34 1940.6 330.399 Q1938.43 328.419 1938.43 325.451 M1944.44 325.374 Q1944.44 328.267 1946.5 330.132 Q1948.55 331.997 1951.45 331.997 Q1954.72 331.997 1957.65 329.485 Q1960.58 326.935 1960.58 321.949 L1960.58 314.146 Q1951.94 314.451 1948.17 317.914 Q1944.44 321.34 1944.44 325.374 Z\" fill=\"#000000\" fill-rule=\"nonzero\" fill-opacity=\"1\" /><path clip-path=\"url(#clip640)\" d=\"M1972.97 342.54 Q1972.97 340.903 1973.92 340.028 Q1974.91 339.191 1976.24 339.191 Q1977.65 339.191 1978.57 340.066 Q1979.52 340.98 1979.52 342.464 Q1979.52 345.357 1976.47 345.737 Q1977.96 347.146 1980.13 347.146 Q1982.45 347.146 1984.31 345.433 Q1986.22 343.72 1987.02 342.083 Q1987.85 340.447 1989.03 337.478 Q1990.14 335.156 1990.97 332.873 L1979.29 304.403 Q1978.53 302.538 1977.35 302.119 Q1976.17 301.7 1972.97 301.7 L1972.97 299.264 Q1976.47 299.493 1980.55 299.493 Q1982.94 299.493 1989.03 299.264 L1989.03 301.7 Q1984.66 301.7 1984.66 303.717 Q1984.66 303.946 1985.11 305.126 L1993.79 326.098 L2001.67 306.915 Q2002.13 305.811 2002.13 305.05 Q2002.13 301.852 1998.47 301.7 L1998.47 299.264 Q2003.61 299.493 2005.25 299.493 Q2008.44 299.493 2011.07 299.264 L2011.07 301.7 Q2005.86 301.7 2003.84 306.686 L1990.1 339.952 Q1986.37 348.82 1980.13 348.858 Q1977.16 348.858 1975.06 347.031 Q1972.97 345.204 1972.97 342.54 Z\" fill=\"#000000\" fill-rule=\"nonzero\" fill-opacity=\"1\" /><polyline clip-path=\"url(#clip640)\" style=\"stroke:#0000ff; stroke-linecap:round; stroke-linejoin:round; stroke-width:9.75; stroke-opacity:1; fill:none\" points=\"1568.57,428.219 1701.36,428.219 \"/>\n<path clip-path=\"url(#clip640)\" d=\"M1767.22 433.028 Q1767.15 433.409 1767 434.094 Q1766.84 434.741 1766.16 436.797 Q1765.47 438.852 1764.56 440.945 Q1763.68 443.001 1761.97 445.893 Q1760.3 448.748 1758.24 451.336 Q1757.67 452.021 1757.56 452.44 Q1757.48 452.82 1757.48 454.076 Q1757.48 461.993 1759.88 461.993 Q1759.99 461.993 1760.18 461.993 Q1760.41 461.955 1760.98 461.765 Q1761.59 461.537 1762.12 461.194 Q1762.66 460.813 1763.27 460.052 Q1763.88 459.253 1764.26 458.187 Q1764.6 457.426 1765.28 457.426 Q1766.2 457.426 1766.2 458.187 Q1766.2 459.557 1764.29 461.651 Q1762.39 463.744 1759.65 463.744 Q1757.02 463.744 1755.16 462.031 Q1753.33 460.281 1752.57 457.159 Q1744.35 463.744 1736.13 463.744 Q1730.34 463.744 1726.92 459.976 Q1723.49 456.17 1723.49 450.537 Q1723.49 445.132 1726.46 439.994 Q1729.47 434.855 1734.34 431.658 Q1739.25 428.423 1744.46 428.423 Q1746.29 428.423 1748.04 428.918 Q1749.79 429.375 1751.54 430.554 Q1753.29 431.734 1754.59 433.523 Q1755.88 435.312 1756.68 438.129 Q1757.48 440.945 1757.48 444.485 L1757.48 449.319 Q1762.5 442.963 1765.13 433.866 Q1765.51 432.496 1765.74 432.343 Q1765.89 432.229 1766.27 432.229 Q1766.65 432.229 1766.88 432.458 Q1767.15 432.648 1767.19 432.838 L1767.22 433.028 M1752.27 455.142 Q1752.11 453.81 1752.11 446.426 Q1752.11 445.018 1752.11 444.257 Q1752.11 443.457 1752.04 441.935 Q1751.96 440.412 1751.81 439.461 Q1751.7 438.509 1751.43 437.139 Q1751.16 435.769 1750.78 434.894 Q1750.4 434.018 1749.79 433.028 Q1749.22 432.039 1748.46 431.468 Q1747.74 430.897 1746.67 430.516 Q1745.64 430.136 1744.39 430.136 Q1742.83 430.136 1741.19 430.707 Q1739.59 431.24 1737.54 432.952 Q1735.48 434.627 1733.77 437.291 Q1731.98 440.108 1730.61 445.284 Q1729.28 450.423 1729.28 453.506 Q1729.28 457.388 1731.07 459.71 Q1732.85 461.993 1736.28 461.993 Q1744.46 461.993 1752.27 455.142 Z\" fill=\"#000000\" fill-rule=\"nonzero\" fill-opacity=\"1\" /><path clip-path=\"url(#clip640)\" d=\"M1775.12 454.18 L1775.12 452.474 Q1781.68 452.474 1785.06 448.984 Q1785.99 448.984 1786.15 449.197 Q1786.31 449.41 1786.31 450.396 L1786.31 481.009 Q1786.31 482.634 1787.11 483.141 Q1787.91 483.647 1791.4 483.647 L1793.13 483.647 L1793.13 485.325 Q1791.22 485.165 1784.29 485.165 Q1777.36 485.165 1775.47 485.325 L1775.47 483.647 L1777.2 483.647 Q1780.64 483.647 1781.47 483.167 Q1782.29 482.661 1782.29 481.009 L1782.29 452.741 Q1779.44 454.18 1775.12 454.18 Z\" fill=\"#000000\" fill-rule=\"nonzero\" fill-opacity=\"1\" /><path clip-path=\"url(#clip640)\" d=\"M1822.9 451.032 Q1822.97 450.08 1824.46 450.08 L1872.23 450.08 Q1874.47 450.08 1874.51 450.955 Q1874.51 451.907 1872.38 451.869 L1824.99 451.869 Q1822.9 451.907 1822.9 451.032 M1822.9 435.807 Q1822.9 434.855 1824.54 434.894 L1872.15 434.894 Q1874.47 434.894 1874.51 435.807 Q1874.51 436.682 1872.53 436.682 L1824.46 436.682 Q1822.9 436.682 1822.9 435.807 Z\" fill=\"#000000\" fill-rule=\"nonzero\" fill-opacity=\"1\" /><path clip-path=\"url(#clip640)\" d=\"M1904.58 418.375 L1904.58 415.939 Q1913.94 415.939 1918.77 410.953 Q1920.1 410.953 1920.33 411.257 Q1920.56 411.562 1920.56 412.97 L1920.56 456.703 Q1920.56 459.024 1921.7 459.748 Q1922.85 460.471 1927.83 460.471 L1930.31 460.471 L1930.31 462.869 Q1927.56 462.64 1917.67 462.64 Q1907.77 462.64 1905.07 462.869 L1905.07 460.471 L1907.54 460.471 Q1912.45 460.471 1913.63 459.786 Q1914.81 459.063 1914.81 456.703 L1914.81 416.32 Q1910.74 418.375 1904.58 418.375 Z\" fill=\"#000000\" fill-rule=\"nonzero\" fill-opacity=\"1\" /><path clip-path=\"url(#clip640)\" d=\"M1943.18 437.938 Q1943.18 426.482 1946.07 420.24 Q1950.1 410.953 1959.62 410.953 Q1961.64 410.953 1963.73 411.524 Q1965.86 412.057 1968.53 414.15 Q1971.23 416.243 1972.87 419.669 Q1975.99 426.292 1975.99 437.938 Q1975.99 449.319 1973.09 455.523 Q1968.87 464.581 1959.54 464.581 Q1956.04 464.581 1952.46 462.793 Q1948.92 461.004 1946.68 456.703 Q1943.18 450.27 1943.18 437.938 M1949.65 436.987 Q1949.65 448.748 1950.48 453.429 Q1951.44 458.492 1954.02 460.699 Q1956.65 462.869 1959.54 462.869 Q1962.66 462.869 1965.25 460.547 Q1967.88 458.187 1968.68 453.125 Q1969.55 448.139 1969.52 436.987 Q1969.52 426.139 1968.75 421.8 Q1967.73 416.738 1964.99 414.721 Q1962.28 412.666 1959.54 412.666 Q1958.52 412.666 1957.41 412.97 Q1956.35 413.275 1954.79 414.15 Q1953.23 415.025 1952.01 417.195 Q1950.83 419.364 1950.26 422.638 Q1949.65 426.863 1949.65 436.987 Z\" fill=\"#000000\" fill-rule=\"nonzero\" fill-opacity=\"1\" /><path clip-path=\"url(#clip640)\" d=\"M2020 408.012 Q2020.32 408.332 2020.32 408.785 Q2020.32 409.238 2020 409.557 Q2019.68 409.877 2019.23 409.877 L1985.07 409.877 Q1984.62 409.877 1984.3 409.557 Q1983.98 409.238 1983.98 408.785 Q1983.98 408.332 1984.3 408.012 Q1984.62 407.692 1985.07 407.692 L2019.23 407.692 Q2019.68 407.692 2020 408.012 Z\" fill=\"#000000\" fill-rule=\"nonzero\" fill-opacity=\"1\" /><path clip-path=\"url(#clip640)\" d=\"M2026.02 422.426 Q2026.02 421.44 2026.1 421.147 Q2026.2 420.854 2026.63 420.401 L2037.1 408.731 Q2042.83 402.284 2042.83 396.662 Q2042.83 393.012 2040.91 390.401 Q2039.02 387.79 2035.53 387.79 Q2033.13 387.79 2031.11 389.255 Q2029.08 390.721 2028.15 393.332 Q2028.31 393.278 2028.87 393.278 Q2030.23 393.278 2030.97 394.131 Q2031.75 394.984 2031.75 396.129 Q2031.75 397.595 2030.79 398.314 Q2029.85 399.007 2028.92 399.007 Q2028.55 399.007 2028.04 398.927 Q2027.56 398.847 2026.79 398.101 Q2026.02 397.328 2026.02 395.969 Q2026.02 392.159 2028.89 389.122 Q2031.8 386.085 2036.22 386.085 Q2041.23 386.085 2044.51 389.069 Q2047.81 392.026 2047.81 396.662 Q2047.81 398.287 2047.31 399.779 Q2046.83 401.245 2046.16 402.39 Q2045.52 403.536 2043.76 405.374 Q2042 407.213 2040.59 408.518 Q2039.18 409.824 2036.01 412.595 L2030.23 418.216 L2040.06 418.216 Q2044.85 418.216 2045.23 417.79 Q2045.76 417.017 2046.43 412.941 L2047.81 412.941 L2046.27 422.426 L2026.02 422.426 Z\" fill=\"#000000\" fill-rule=\"nonzero\" fill-opacity=\"1\" /><path clip-path=\"url(#clip640)\" d=\"M2047.88 413.421 L2047.88 411.742 L2064.64 386.138 Q2065.06 385.472 2065.73 385.499 Q2066.34 385.499 2066.47 385.738 Q2066.61 385.978 2066.61 386.911 L2066.61 411.742 L2072.07 411.742 L2072.07 413.421 L2066.61 413.421 L2066.61 418.163 Q2066.61 419.735 2067.25 420.241 Q2067.91 420.747 2070.74 420.747 L2071.88 420.747 L2071.88 422.426 Q2069.64 422.266 2064.48 422.266 Q2059.33 422.266 2057.1 422.426 L2057.1 420.747 L2058.24 420.747 Q2061.07 420.747 2061.73 420.268 Q2062.4 419.762 2062.4 418.163 L2062.4 413.421 L2047.88 413.421 M2049.42 411.742 L2062.72 411.742 L2062.72 391.387 L2049.42 411.742 Z\" fill=\"#000000\" fill-rule=\"nonzero\" fill-opacity=\"1\" /><path clip-path=\"url(#clip640)\" d=\"M2103.81 445.703 Q2103.81 438.357 2108.53 433.143 Q2113.25 427.928 2120.03 427.928 Q2126.88 427.928 2130.42 432.381 Q2134 436.835 2134 443.229 Q2134 444.409 2133.69 444.637 Q2133.39 444.866 2132.06 444.866 L2110.28 444.866 Q2110.28 452.82 2112.64 456.55 Q2115.92 461.765 2121.44 461.765 Q2122.2 461.765 2123.11 461.613 Q2124.03 461.46 2125.89 460.813 Q2127.76 460.128 2129.39 458.339 Q2131.03 456.55 2131.98 453.734 Q2132.21 452.63 2132.97 452.668 Q2134 452.668 2134 453.582 Q2134 454.267 2133.24 455.827 Q2132.51 457.35 2131.1 459.177 Q2129.7 461.004 2126.96 462.374 Q2124.25 463.744 2120.98 463.744 Q2114.13 463.744 2108.95 458.568 Q2103.81 453.353 2103.81 445.703 M2110.36 443.229 L2128.86 443.229 Q2128.86 441.592 2128.55 439.765 Q2128.29 437.938 2127.45 435.426 Q2126.65 432.876 2124.75 431.278 Q2122.85 429.679 2120.03 429.679 Q2118.77 429.679 2117.4 430.212 Q2116.07 430.745 2114.43 432.039 Q2112.8 433.333 2111.66 436.264 Q2110.51 439.194 2110.36 443.229 Z\" fill=\"#000000\" fill-rule=\"nonzero\" fill-opacity=\"1\" /><path clip-path=\"url(#clip640)\" d=\"M2139.64 412.057 L2139.64 409.621 Q2148.05 409.849 2149.54 409.849 Q2157.87 409.849 2160.69 409.621 L2160.69 412.057 Q2154.29 412.057 2154.29 414.302 Q2154.29 414.607 2154.75 415.711 L2169.63 455.066 L2183.91 417.499 Q2184.29 416.32 2184.29 415.939 Q2184.29 414.378 2182.84 413.275 Q2181.43 412.133 2178.62 412.057 L2178.62 409.621 Q2184.71 409.849 2187.48 409.849 Q2191.44 409.849 2195.06 409.621 L2195.06 412.057 Q2188.51 412.133 2186.57 417.271 L2169.18 463.097 Q2168.87 464.049 2168.57 464.315 Q2168.26 464.581 2167.31 464.581 Q2166.55 464.581 2166.13 464.277 Q2165.75 463.972 2165.37 462.869 L2147.29 415.025 Q2146.53 412.932 2145.16 412.513 Q2143.79 412.057 2139.64 412.057 Z\" fill=\"#000000\" fill-rule=\"nonzero\" fill-opacity=\"1\" /><path clip-path=\"url(#clip640)\" d=\"M2202.84 407.107 Q2202.84 406.121 2202.92 405.828 Q2203.02 405.535 2203.45 405.082 L2213.92 393.413 Q2219.65 386.965 2219.65 381.343 Q2219.65 377.693 2217.73 375.082 Q2215.84 372.471 2212.35 372.471 Q2209.95 372.471 2207.92 373.937 Q2205.9 375.402 2204.97 378.013 Q2205.13 377.96 2205.69 377.96 Q2207.05 377.96 2207.79 378.812 Q2208.56 379.665 2208.56 380.811 Q2208.56 382.276 2207.6 382.995 Q2206.67 383.688 2205.74 383.688 Q2205.37 383.688 2204.86 383.608 Q2204.38 383.528 2203.61 382.782 Q2202.84 382.01 2202.84 380.651 Q2202.84 376.841 2205.71 373.803 Q2208.62 370.766 2213.04 370.766 Q2218.05 370.766 2221.33 373.75 Q2224.63 376.708 2224.63 381.343 Q2224.63 382.969 2224.12 384.461 Q2223.64 385.926 2222.98 387.072 Q2222.34 388.217 2220.58 390.056 Q2218.82 391.894 2217.41 393.2 Q2216 394.505 2212.83 397.276 L2207.05 402.898 L2216.88 402.898 Q2221.67 402.898 2222.05 402.471 Q2222.58 401.699 2223.24 397.622 L2224.63 397.622 L2223.08 407.107 L2202.84 407.107 Z\" fill=\"#000000\" fill-rule=\"nonzero\" fill-opacity=\"1\" /></svg>\n",
      "text/html": [
       "<?xml version=\"1.0\" encoding=\"utf-8\"?>\n",
       "<svg xmlns=\"http://www.w3.org/2000/svg\" xmlns:xlink=\"http://www.w3.org/1999/xlink\" width=\"600\" height=\"400\" viewBox=\"0 0 2400 1600\">\n",
       "<defs>\n",
       "  <clipPath id=\"clip690\">\n",
       "    <rect x=\"0\" y=\"0\" width=\"2400\" height=\"1600\"/>\n",
       "  </clipPath>\n",
       "</defs>\n",
       "<path clip-path=\"url(#clip690)\" d=\"M0 1600 L2400 1600 L2400 0 L0 0  Z\" fill=\"#ffffff\" fill-rule=\"evenodd\" fill-opacity=\"1\"/>\n",
       "<defs>\n",
       "  <clipPath id=\"clip691\">\n",
       "    <rect x=\"480\" y=\"0\" width=\"1681\" height=\"1600\"/>\n",
       "  </clipPath>\n",
       "</defs>\n",
       "<path clip-path=\"url(#clip690)\" d=\"M329.462 1374.4 L2321.26 1374.4 L2321.26 159.288 L329.462 159.288  Z\" fill=\"#ffffff\" fill-rule=\"evenodd\" fill-opacity=\"1\"/>\n",
       "<defs>\n",
       "  <clipPath id=\"clip692\">\n",
       "    <rect x=\"329\" y=\"159\" width=\"1993\" height=\"1216\"/>\n",
       "  </clipPath>\n",
       "</defs>\n",
       "<polyline clip-path=\"url(#clip692)\" style=\"stroke:#000000; stroke-linecap:round; stroke-linejoin:round; stroke-width:2; stroke-opacity:0.1; fill:none\" points=\"362.048,1374.4 362.048,159.288 \"/>\n",
       "<polyline clip-path=\"url(#clip692)\" style=\"stroke:#000000; stroke-linecap:round; stroke-linejoin:round; stroke-width:2; stroke-opacity:0.1; fill:none\" points=\"837.758,1374.4 837.758,159.288 \"/>\n",
       "<polyline clip-path=\"url(#clip692)\" style=\"stroke:#000000; stroke-linecap:round; stroke-linejoin:round; stroke-width:2; stroke-opacity:0.1; fill:none\" points=\"1313.47,1374.4 1313.47,159.288 \"/>\n",
       "<polyline clip-path=\"url(#clip692)\" style=\"stroke:#000000; stroke-linecap:round; stroke-linejoin:round; stroke-width:2; stroke-opacity:0.1; fill:none\" points=\"1789.18,1374.4 1789.18,159.288 \"/>\n",
       "<polyline clip-path=\"url(#clip692)\" style=\"stroke:#000000; stroke-linecap:round; stroke-linejoin:round; stroke-width:2; stroke-opacity:0.1; fill:none\" points=\"2264.89,1374.4 2264.89,159.288 \"/>\n",
       "<polyline clip-path=\"url(#clip690)\" style=\"stroke:#000000; stroke-linecap:round; stroke-linejoin:round; stroke-width:4; stroke-opacity:1; fill:none\" points=\"329.462,1374.4 2321.26,1374.4 \"/>\n",
       "<polyline clip-path=\"url(#clip690)\" style=\"stroke:#000000; stroke-linecap:round; stroke-linejoin:round; stroke-width:4; stroke-opacity:1; fill:none\" points=\"362.048,1374.4 362.048,1355.51 \"/>\n",
       "<polyline clip-path=\"url(#clip690)\" style=\"stroke:#000000; stroke-linecap:round; stroke-linejoin:round; stroke-width:4; stroke-opacity:1; fill:none\" points=\"837.758,1374.4 837.758,1355.51 \"/>\n",
       "<polyline clip-path=\"url(#clip690)\" style=\"stroke:#000000; stroke-linecap:round; stroke-linejoin:round; stroke-width:4; stroke-opacity:1; fill:none\" points=\"1313.47,1374.4 1313.47,1355.51 \"/>\n",
       "<polyline clip-path=\"url(#clip690)\" style=\"stroke:#000000; stroke-linecap:round; stroke-linejoin:round; stroke-width:4; stroke-opacity:1; fill:none\" points=\"1789.18,1374.4 1789.18,1355.51 \"/>\n",
       "<polyline clip-path=\"url(#clip690)\" style=\"stroke:#000000; stroke-linecap:round; stroke-linejoin:round; stroke-width:4; stroke-opacity:1; fill:none\" points=\"2264.89,1374.4 2264.89,1355.51 \"/>\n",
       "<path clip-path=\"url(#clip690)\" d=\"M362.048 1405.32 Q358.437 1405.32 356.609 1408.89 Q354.803 1412.43 354.803 1419.56 Q354.803 1426.66 356.609 1430.23 Q358.437 1433.77 362.048 1433.77 Q365.683 1433.77 367.488 1430.23 Q369.317 1426.66 369.317 1419.56 Q369.317 1412.43 367.488 1408.89 Q365.683 1405.32 362.048 1405.32 M362.048 1401.62 Q367.859 1401.62 370.914 1406.23 Q373.993 1410.81 373.993 1419.56 Q373.993 1428.29 370.914 1432.89 Q367.859 1437.48 362.048 1437.48 Q356.238 1437.48 353.16 1432.89 Q350.104 1428.29 350.104 1419.56 Q350.104 1410.81 353.16 1406.23 Q356.238 1401.62 362.048 1401.62 Z\" fill=\"#000000\" fill-rule=\"nonzero\" fill-opacity=\"1\" /><path clip-path=\"url(#clip690)\" d=\"M812.446 1432.87 L820.085 1432.87 L820.085 1406.5 L811.775 1408.17 L811.775 1403.91 L820.039 1402.24 L824.714 1402.24 L824.714 1432.87 L832.353 1432.87 L832.353 1436.8 L812.446 1436.8 L812.446 1432.87 Z\" fill=\"#000000\" fill-rule=\"nonzero\" fill-opacity=\"1\" /><path clip-path=\"url(#clip690)\" d=\"M851.798 1405.32 Q848.187 1405.32 846.358 1408.89 Q844.552 1412.43 844.552 1419.56 Q844.552 1426.66 846.358 1430.23 Q848.187 1433.77 851.798 1433.77 Q855.432 1433.77 857.237 1430.23 Q859.066 1426.66 859.066 1419.56 Q859.066 1412.43 857.237 1408.89 Q855.432 1405.32 851.798 1405.32 M851.798 1401.62 Q857.608 1401.62 860.663 1406.23 Q863.742 1410.81 863.742 1419.56 Q863.742 1428.29 860.663 1432.89 Q857.608 1437.48 851.798 1437.48 Q845.987 1437.48 842.909 1432.89 Q839.853 1428.29 839.853 1419.56 Q839.853 1410.81 842.909 1406.23 Q845.987 1401.62 851.798 1401.62 Z\" fill=\"#000000\" fill-rule=\"nonzero\" fill-opacity=\"1\" /><path clip-path=\"url(#clip690)\" d=\"M1292.24 1432.87 L1308.56 1432.87 L1308.56 1436.8 L1286.62 1436.8 L1286.62 1432.87 Q1289.28 1430.11 1293.86 1425.48 Q1298.47 1420.83 1299.65 1419.49 Q1301.89 1416.97 1302.77 1415.23 Q1303.68 1413.47 1303.68 1411.78 Q1303.68 1409.03 1301.73 1407.29 Q1299.81 1405.55 1296.71 1405.55 Q1294.51 1405.55 1292.06 1406.32 Q1289.63 1407.08 1286.85 1408.63 L1286.85 1403.91 Q1289.67 1402.78 1292.13 1402.2 Q1294.58 1401.62 1296.62 1401.62 Q1301.99 1401.62 1305.18 1404.3 Q1308.38 1406.99 1308.38 1411.48 Q1308.38 1413.61 1307.57 1415.53 Q1306.78 1417.43 1304.67 1420.02 Q1304.09 1420.69 1300.99 1423.91 Q1297.89 1427.1 1292.24 1432.87 Z\" fill=\"#000000\" fill-rule=\"nonzero\" fill-opacity=\"1\" /><path clip-path=\"url(#clip690)\" d=\"M1328.38 1405.32 Q1324.76 1405.32 1322.94 1408.89 Q1321.13 1412.43 1321.13 1419.56 Q1321.13 1426.66 1322.94 1430.23 Q1324.76 1433.77 1328.38 1433.77 Q1332.01 1433.77 1333.82 1430.23 Q1335.64 1426.66 1335.64 1419.56 Q1335.64 1412.43 1333.82 1408.89 Q1332.01 1405.32 1328.38 1405.32 M1328.38 1401.62 Q1334.19 1401.62 1337.24 1406.23 Q1340.32 1410.81 1340.32 1419.56 Q1340.32 1428.29 1337.24 1432.89 Q1334.19 1437.48 1328.38 1437.48 Q1322.57 1437.48 1319.49 1432.89 Q1316.43 1428.29 1316.43 1419.56 Q1316.43 1410.81 1319.49 1406.23 Q1322.57 1401.62 1328.38 1401.62 Z\" fill=\"#000000\" fill-rule=\"nonzero\" fill-opacity=\"1\" /><path clip-path=\"url(#clip690)\" d=\"M1778.02 1418.17 Q1781.38 1418.89 1783.25 1421.16 Q1785.15 1423.42 1785.15 1426.76 Q1785.15 1431.87 1781.63 1434.67 Q1778.11 1437.48 1771.63 1437.48 Q1769.46 1437.48 1767.14 1437.04 Q1764.85 1436.62 1762.4 1435.76 L1762.4 1431.25 Q1764.34 1432.38 1766.66 1432.96 Q1768.97 1433.54 1771.49 1433.54 Q1775.89 1433.54 1778.18 1431.8 Q1780.5 1430.07 1780.5 1426.76 Q1780.5 1423.7 1778.34 1421.99 Q1776.22 1420.25 1772.4 1420.25 L1768.37 1420.25 L1768.37 1416.41 L1772.58 1416.41 Q1776.03 1416.41 1777.86 1415.04 Q1779.69 1413.66 1779.69 1411.06 Q1779.69 1408.4 1777.79 1406.99 Q1775.91 1405.55 1772.4 1405.55 Q1770.47 1405.55 1768.28 1405.97 Q1766.08 1406.39 1763.44 1407.27 L1763.44 1403.1 Q1766.1 1402.36 1768.41 1401.99 Q1770.75 1401.62 1772.81 1401.62 Q1778.14 1401.62 1781.24 1404.05 Q1784.34 1406.46 1784.34 1410.58 Q1784.34 1413.45 1782.7 1415.44 Q1781.05 1417.41 1778.02 1418.17 Z\" fill=\"#000000\" fill-rule=\"nonzero\" fill-opacity=\"1\" /><path clip-path=\"url(#clip690)\" d=\"M1804.02 1405.32 Q1800.41 1405.32 1798.58 1408.89 Q1796.77 1412.43 1796.77 1419.56 Q1796.77 1426.66 1798.58 1430.23 Q1800.41 1433.77 1804.02 1433.77 Q1807.65 1433.77 1809.46 1430.23 Q1811.28 1426.66 1811.28 1419.56 Q1811.28 1412.43 1809.46 1408.89 Q1807.65 1405.32 1804.02 1405.32 M1804.02 1401.62 Q1809.83 1401.62 1812.88 1406.23 Q1815.96 1410.81 1815.96 1419.56 Q1815.96 1428.29 1812.88 1432.89 Q1809.83 1437.48 1804.02 1437.48 Q1798.21 1437.48 1795.13 1432.89 Q1792.07 1428.29 1792.07 1419.56 Q1792.07 1410.81 1795.13 1406.23 Q1798.21 1401.62 1804.02 1401.62 Z\" fill=\"#000000\" fill-rule=\"nonzero\" fill-opacity=\"1\" /><path clip-path=\"url(#clip690)\" d=\"M2253.06 1406.32 L2241.25 1424.77 L2253.06 1424.77 L2253.06 1406.32 M2251.83 1402.24 L2257.71 1402.24 L2257.71 1424.77 L2262.64 1424.77 L2262.64 1428.66 L2257.71 1428.66 L2257.71 1436.8 L2253.06 1436.8 L2253.06 1428.66 L2237.46 1428.66 L2237.46 1424.14 L2251.83 1402.24 Z\" fill=\"#000000\" fill-rule=\"nonzero\" fill-opacity=\"1\" /><path clip-path=\"url(#clip690)\" d=\"M2280.37 1405.32 Q2276.76 1405.32 2274.93 1408.89 Q2273.13 1412.43 2273.13 1419.56 Q2273.13 1426.66 2274.93 1430.23 Q2276.76 1433.77 2280.37 1433.77 Q2284.01 1433.77 2285.81 1430.23 Q2287.64 1426.66 2287.64 1419.56 Q2287.64 1412.43 2285.81 1408.89 Q2284.01 1405.32 2280.37 1405.32 M2280.37 1401.62 Q2286.18 1401.62 2289.24 1406.23 Q2292.32 1410.81 2292.32 1419.56 Q2292.32 1428.29 2289.24 1432.89 Q2286.18 1437.48 2280.37 1437.48 Q2274.56 1437.48 2271.49 1432.89 Q2268.43 1428.29 2268.43 1419.56 Q2268.43 1410.81 2271.49 1406.23 Q2274.56 1401.62 2280.37 1401.62 Z\" fill=\"#000000\" fill-rule=\"nonzero\" fill-opacity=\"1\" /><path clip-path=\"url(#clip690)\" d=\"M1197.23 1464.68 L1195.43 1480.23 Q1195.3 1481.63 1195.08 1482.07 Q1194.86 1482.47 1194.15 1482.47 Q1193.63 1482.47 1193.32 1482.16 Q1193.06 1481.81 1193.06 1481.41 Q1193.06 1481.19 1193.1 1480.62 Q1193.14 1480.05 1193.14 1479.79 Q1193.54 1477.06 1193.54 1475 Q1193.54 1471.18 1192.4 1469.12 Q1191.26 1467.01 1188.31 1466.04 Q1185.37 1465.03 1179.84 1465.03 L1167.19 1465.03 Q1164.29 1465.03 1163.59 1465.56 Q1162.93 1466.09 1162.31 1468.54 L1156.91 1490.2 L1165.39 1490.2 Q1168.55 1490.2 1170.44 1489.8 Q1172.37 1489.41 1173.65 1488.31 Q1174.96 1487.17 1175.67 1485.63 Q1176.41 1484.09 1177.16 1481.32 Q1177.38 1480.4 1177.6 1480.05 Q1177.86 1479.7 1178.43 1479.7 Q1178.87 1479.7 1179.18 1480.01 Q1179.49 1480.27 1179.49 1480.67 L1174.35 1501.7 Q1174.08 1502.76 1173.82 1503.15 Q1173.56 1503.5 1173.03 1503.5 Q1172.46 1503.5 1172.15 1503.2 Q1171.84 1502.89 1171.84 1502.54 Q1171.84 1502.19 1172.11 1501.53 Q1172.77 1498.67 1172.77 1497.13 Q1172.77 1496.26 1172.68 1495.82 Q1172.64 1495.38 1172.24 1494.76 Q1171.89 1494.1 1171.1 1493.8 Q1170.31 1493.49 1168.81 1493.27 Q1167.32 1493.01 1165.08 1493.01 L1156.21 1493.01 L1150.06 1517.56 Q1149.62 1519.18 1149.62 1519.62 Q1149.62 1520.1 1149.84 1520.28 Q1150.11 1520.41 1150.81 1520.5 Q1151.6 1520.63 1152.78 1520.63 L1165.92 1520.63 Q1168.81 1520.63 1171.14 1520.37 Q1173.47 1520.1 1175.4 1519.44 Q1177.38 1518.79 1178.87 1518.04 Q1180.36 1517.29 1181.77 1515.93 Q1183.18 1514.53 1184.14 1513.3 Q1185.15 1512.02 1186.34 1509.87 Q1187.52 1507.72 1188.36 1505.96 Q1189.19 1504.16 1190.47 1501.26 Q1190.82 1500.21 1191.65 1500.21 Q1192.13 1500.21 1192.4 1500.47 Q1192.66 1500.69 1192.71 1500.91 L1192.71 1501.18 Q1192.44 1502.01 1192.27 1502.45 L1184.01 1521.86 Q1183.53 1522.96 1183.13 1523.18 Q1182.74 1523.4 1181.2 1523.4 L1134.52 1523.4 Q1133.46 1523.4 1133.02 1523.35 Q1132.63 1523.31 1132.32 1523.09 Q1132.01 1522.83 1132.01 1522.3 Q1132.01 1521.46 1132.36 1521.11 Q1132.71 1520.72 1133.11 1520.67 Q1133.51 1520.63 1134.52 1520.63 Q1136.71 1520.63 1138.03 1520.5 Q1139.35 1520.37 1140.18 1520.19 Q1141.06 1519.97 1141.5 1519.36 Q1141.98 1518.74 1142.2 1518.22 Q1142.42 1517.64 1142.73 1516.37 L1154.59 1468.81 Q1155.02 1467.18 1155.02 1466.66 Q1155.02 1466.09 1154.63 1465.73 Q1154.28 1465.38 1153.31 1465.25 Q1152.35 1465.08 1151.55 1465.08 Q1150.81 1465.03 1149.18 1465.03 Q1148.13 1465.03 1147.69 1464.99 Q1147.3 1464.94 1146.99 1464.72 Q1146.68 1464.5 1146.68 1464.02 Q1146.68 1462.79 1147.21 1462.53 Q1147.78 1462.22 1149.36 1462.22 L1194.77 1462.22 Q1196.57 1462.22 1196.97 1462.62 Q1197.4 1462.97 1197.23 1464.68 Z\" fill=\"#000000\" fill-rule=\"nonzero\" fill-opacity=\"1\" /><path clip-path=\"url(#clip690)\" d=\"M1236 1513.8 Q1236 1514.07 1235.75 1515.03 Q1235.54 1515.95 1234.83 1517.76 Q1234.15 1519.55 1233.11 1521.54 Q1232.09 1523.51 1230.22 1526 Q1228.34 1528.49 1226.01 1530.67 Q1221.61 1534.79 1216.91 1537.01 Q1212.23 1539.22 1208.24 1539.93 L1207.35 1539.93 Q1206.36 1539.93 1206.36 1539.16 L1207.04 1536.33 L1210.88 1520.93 Q1212.08 1516.23 1212.08 1515.83 Q1212.08 1515.46 1211.93 1515.27 Q1211.8 1515.06 1211.07 1514.9 Q1210.36 1514.75 1208.94 1514.75 Q1208.36 1514.75 1208.08 1514.72 Q1207.84 1514.69 1207.62 1514.54 Q1207.41 1514.35 1207.41 1513.98 Q1207.41 1513.46 1207.62 1513.18 Q1207.87 1512.88 1208.05 1512.81 Q1208.24 1512.75 1208.61 1512.72 Q1209.13 1512.69 1210.88 1512.54 Q1212.63 1512.35 1214.14 1512.23 Q1215.65 1512.11 1216.29 1512.11 Q1216.66 1512.11 1216.88 1512.29 Q1217.09 1512.44 1217.09 1512.63 L1217.12 1512.78 L1210.94 1537.84 Q1213.22 1537.1 1215.46 1535.87 Q1217.74 1534.64 1220.2 1532.61 Q1222.66 1530.55 1224.75 1528 Q1226.84 1525.45 1228.68 1521.88 Q1230.56 1518.29 1231.72 1514.17 Q1231.94 1513.34 1232.46 1512.84 Q1233.02 1512.35 1233.41 1512.23 Q1233.81 1512.11 1234.18 1512.11 Q1235.01 1512.11 1235.51 1512.57 Q1236 1513 1236 1513.8 Z\" fill=\"#000000\" fill-rule=\"nonzero\" fill-opacity=\"1\" /><path clip-path=\"url(#clip690)\" d=\"M1269.07 1545.88 L1269.07 1455.94 L1282.64 1455.94 L1282.64 1458 L1275.09 1458 L1275.09 1543.82 L1282.64 1543.82 L1282.64 1545.88 L1269.07 1545.88 Z\" fill=\"#000000\" fill-rule=\"nonzero\" fill-opacity=\"1\" /><path clip-path=\"url(#clip690)\" d=\"M1293.82 1523.4 L1293.82 1520.63 Q1297.07 1520.63 1299.14 1520.02 Q1301.2 1519.36 1301.95 1518.17 Q1302.74 1516.94 1302.91 1516.15 Q1303.09 1515.32 1303.09 1513.96 L1303.09 1468.98 Q1303.09 1466.39 1301.95 1465.6 Q1300.85 1464.77 1295.97 1464.77 L1293.82 1464.77 L1293.82 1461.96 L1309.02 1461.96 Q1310.64 1461.96 1311.08 1462.26 Q1311.52 1462.53 1312.18 1463.93 L1331.68 1514.31 L1351.35 1463.67 Q1351.79 1462.4 1352.19 1462.18 Q1352.63 1461.96 1354.34 1461.96 L1369.54 1461.96 L1369.54 1464.77 L1367.38 1464.77 Q1362.51 1464.77 1361.37 1465.6 Q1360.27 1466.39 1360.27 1468.98 L1360.27 1516.37 Q1360.27 1518.96 1361.37 1519.8 Q1362.51 1520.63 1367.38 1520.63 L1369.54 1520.63 L1369.54 1523.4 Q1366.2 1523.13 1356.67 1523.13 Q1347.05 1523.13 1343.71 1523.4 L1343.71 1520.63 L1345.91 1520.63 Q1350.78 1520.63 1351.88 1519.84 Q1352.98 1519.01 1352.98 1516.37 L1352.98 1464.77 L1352.89 1464.77 L1330.8 1521.68 Q1330.19 1523.4 1329.18 1523.4 Q1328.08 1523.4 1327.37 1521.42 L1305.68 1465.47 L1305.59 1465.47 L1305.59 1513.96 Q1305.59 1515.32 1305.77 1516.15 Q1305.94 1516.94 1306.69 1518.17 Q1307.48 1519.36 1309.54 1520.02 Q1311.61 1520.63 1314.86 1520.63 L1314.86 1523.4 Q1305.42 1523.13 1304.32 1523.13 Q1303.26 1523.13 1293.82 1523.4 Z\" fill=\"#000000\" fill-rule=\"nonzero\" fill-opacity=\"1\" /><path clip-path=\"url(#clip690)\" d=\"M1385.82 1503.59 Q1385.82 1495.11 1391.26 1489.1 Q1396.71 1483.08 1404.52 1483.08 Q1412.43 1483.08 1416.51 1488.22 Q1420.64 1493.36 1420.64 1500.74 Q1420.64 1502.1 1420.29 1502.36 Q1419.94 1502.62 1418.4 1502.62 L1393.28 1502.62 Q1393.28 1511.8 1396 1516.11 Q1399.78 1522.12 1406.15 1522.12 Q1407.03 1522.12 1408.08 1521.95 Q1409.14 1521.77 1411.29 1521.03 Q1413.44 1520.24 1415.33 1518.17 Q1417.22 1516.11 1418.31 1512.86 Q1418.58 1511.58 1419.46 1511.63 Q1420.64 1511.63 1420.64 1512.68 Q1420.64 1513.47 1419.76 1515.27 Q1418.93 1517.03 1417.3 1519.14 Q1415.68 1521.25 1412.52 1522.83 Q1409.4 1524.41 1405.62 1524.41 Q1397.72 1524.41 1391.74 1518.43 Q1385.82 1512.42 1385.82 1503.59 M1393.37 1500.74 L1414.71 1500.74 Q1414.71 1498.85 1414.36 1496.74 Q1414.05 1494.63 1413.09 1491.73 Q1412.17 1488.79 1409.97 1486.95 Q1407.77 1485.1 1404.52 1485.1 Q1403.08 1485.1 1401.49 1485.72 Q1399.96 1486.33 1398.07 1487.82 Q1396.18 1489.32 1394.86 1492.7 Q1393.55 1496.08 1393.37 1500.74 Z\" fill=\"#000000\" fill-rule=\"nonzero\" fill-opacity=\"1\" /><path clip-path=\"url(#clip690)\" d=\"M1427.15 1464.77 L1427.15 1461.96 Q1436.86 1462.22 1438.57 1462.22 Q1448.19 1462.22 1451.44 1461.96 L1451.44 1464.77 Q1444.06 1464.77 1444.06 1467.36 Q1444.06 1467.71 1444.59 1468.98 L1461.76 1514.39 L1478.23 1471.05 Q1478.67 1469.69 1478.67 1469.25 Q1478.67 1467.45 1477 1466.17 Q1475.37 1464.86 1472.12 1464.77 L1472.12 1461.96 Q1479.15 1462.22 1482.36 1462.22 Q1486.92 1462.22 1491.1 1461.96 L1491.1 1464.77 Q1483.54 1464.86 1481.3 1470.78 L1461.23 1523.66 Q1460.88 1524.76 1460.53 1525.07 Q1460.18 1525.37 1459.08 1525.37 Q1458.2 1525.37 1457.72 1525.02 Q1457.28 1524.67 1456.84 1523.4 L1435.98 1468.19 Q1435.1 1465.78 1433.52 1465.29 Q1431.94 1464.77 1427.15 1464.77 Z\" fill=\"#000000\" fill-rule=\"nonzero\" fill-opacity=\"1\" /><path clip-path=\"url(#clip690)\" d=\"M1493.96 1543.82 L1501.52 1543.82 L1501.52 1458 L1493.96 1458 L1493.96 1455.94 L1507.53 1455.94 L1507.53 1545.88 L1493.96 1545.88 L1493.96 1543.82 Z\" fill=\"#000000\" fill-rule=\"nonzero\" fill-opacity=\"1\" /><polyline clip-path=\"url(#clip692)\" style=\"stroke:#000000; stroke-linecap:round; stroke-linejoin:round; stroke-width:2; stroke-opacity:0.1; fill:none\" points=\"329.462,955.106 2321.26,955.106 \"/>\n",
       "<polyline clip-path=\"url(#clip692)\" style=\"stroke:#000000; stroke-linecap:round; stroke-linejoin:round; stroke-width:2; stroke-opacity:0.1; fill:none\" points=\"329.462,317.101 2321.26,317.101 \"/>\n",
       "<polyline clip-path=\"url(#clip690)\" style=\"stroke:#000000; stroke-linecap:round; stroke-linejoin:round; stroke-width:4; stroke-opacity:1; fill:none\" points=\"329.462,1374.4 329.462,159.288 \"/>\n",
       "<polyline clip-path=\"url(#clip690)\" style=\"stroke:#000000; stroke-linecap:round; stroke-linejoin:round; stroke-width:4; stroke-opacity:1; fill:none\" points=\"329.462,955.106 348.36,955.106 \"/>\n",
       "<polyline clip-path=\"url(#clip690)\" style=\"stroke:#000000; stroke-linecap:round; stroke-linejoin:round; stroke-width:4; stroke-opacity:1; fill:none\" points=\"329.462,317.101 348.36,317.101 \"/>\n",
       "<path clip-path=\"url(#clip690)\" d=\"M193.322 974.898 L200.961 974.898 L200.961 948.533 L192.651 950.2 L192.651 945.94 L200.915 944.274 L205.591 944.274 L205.591 974.898 L213.23 974.898 L213.23 978.834 L193.322 978.834 L193.322 974.898 Z\" fill=\"#000000\" fill-rule=\"nonzero\" fill-opacity=\"1\" /><path clip-path=\"url(#clip690)\" d=\"M232.674 947.352 Q229.063 947.352 227.234 950.917 Q225.429 954.459 225.429 961.588 Q225.429 968.695 227.234 972.26 Q229.063 975.801 232.674 975.801 Q236.308 975.801 238.114 972.26 Q239.943 968.695 239.943 961.588 Q239.943 954.459 238.114 950.917 Q236.308 947.352 232.674 947.352 M232.674 943.649 Q238.484 943.649 241.54 948.255 Q244.618 952.838 244.618 961.588 Q244.618 970.315 241.54 974.922 Q238.484 979.505 232.674 979.505 Q226.864 979.505 223.785 974.922 Q220.73 970.315 220.73 961.588 Q220.73 952.838 223.785 948.255 Q226.864 943.649 232.674 943.649 Z\" fill=\"#000000\" fill-rule=\"nonzero\" fill-opacity=\"1\" /><path clip-path=\"url(#clip690)\" d=\"M244.618 937.75 L268.73 937.75 L268.73 940.947 L244.618 940.947 L244.618 937.75 Z\" fill=\"#000000\" fill-rule=\"nonzero\" fill-opacity=\"1\" /><path clip-path=\"url(#clip690)\" d=\"M280.203 948.226 L293.462 948.226 L293.462 951.423 L275.633 951.423 L275.633 948.226 Q277.795 945.988 281.519 942.226 Q285.262 938.446 286.221 937.355 Q288.046 935.305 288.76 933.894 Q289.494 932.465 289.494 931.092 Q289.494 928.854 287.914 927.443 Q286.353 926.033 283.833 926.033 Q282.046 926.033 280.052 926.653 Q278.078 927.274 275.821 928.534 L275.821 924.697 Q278.115 923.776 280.109 923.306 Q282.102 922.835 283.757 922.835 Q288.121 922.835 290.716 925.017 Q293.312 927.199 293.312 930.848 Q293.312 932.578 292.654 934.139 Q292.014 935.681 290.303 937.788 Q289.832 938.333 287.312 940.947 Q284.792 943.543 280.203 948.226 Z\" fill=\"#000000\" fill-rule=\"nonzero\" fill-opacity=\"1\" /><path clip-path=\"url(#clip690)\" d=\"M222.757 336.893 L230.395 336.893 L230.395 310.527 L222.085 312.194 L222.085 307.935 L230.349 306.268 L235.025 306.268 L235.025 336.893 L242.664 336.893 L242.664 340.828 L222.757 340.828 L222.757 336.893 Z\" fill=\"#000000\" fill-rule=\"nonzero\" fill-opacity=\"1\" /><path clip-path=\"url(#clip690)\" d=\"M262.108 309.347 Q258.497 309.347 256.668 312.912 Q254.863 316.453 254.863 323.583 Q254.863 330.689 256.668 334.254 Q258.497 337.796 262.108 337.796 Q265.743 337.796 267.548 334.254 Q269.377 330.689 269.377 323.583 Q269.377 316.453 267.548 312.912 Q265.743 309.347 262.108 309.347 M262.108 305.643 Q267.918 305.643 270.974 310.25 Q274.053 314.833 274.053 323.583 Q274.053 332.31 270.974 336.916 Q267.918 341.5 262.108 341.5 Q256.298 341.5 253.219 336.916 Q250.164 332.31 250.164 323.583 Q250.164 314.833 253.219 310.25 Q256.298 305.643 262.108 305.643 Z\" fill=\"#000000\" fill-rule=\"nonzero\" fill-opacity=\"1\" /><path clip-path=\"url(#clip690)\" d=\"M283.757 287.839 Q280.823 287.839 279.338 290.736 Q277.871 293.613 277.871 299.406 Q277.871 305.18 279.338 308.076 Q280.823 310.954 283.757 310.954 Q286.71 310.954 288.177 308.076 Q289.663 305.18 289.663 299.406 Q289.663 293.613 288.177 290.736 Q286.71 287.839 283.757 287.839 M283.757 284.83 Q288.478 284.83 290.961 288.573 Q293.462 292.297 293.462 299.406 Q293.462 306.497 290.961 310.239 Q288.478 313.963 283.757 313.963 Q279.037 313.963 276.535 310.239 Q274.053 306.497 274.053 299.406 Q274.053 292.297 276.535 288.573 Q279.037 284.83 283.757 284.83 Z\" fill=\"#000000\" fill-rule=\"nonzero\" fill-opacity=\"1\" /><path clip-path=\"url(#clip690)\" d=\"M95.522 1154.94 Q99.9577 1154.94 104.393 1157.22 Q108.829 1159.51 112.254 1163.24 Q115.636 1166.97 117.832 1172.07 Q120.028 1177.16 120.203 1182.47 L133.598 1185.9 Q136.848 1186.56 137.199 1186.91 Q137.551 1187.26 137.551 1187.79 Q137.551 1188.89 136.541 1188.89 Q136.233 1188.89 128.636 1186.91 L120.203 1184.8 Q119.764 1192.8 115.153 1197.45 Q110.542 1202.11 103.91 1202.11 Q99.4307 1202.11 94.995 1199.82 Q90.5155 1197.49 87.1339 1193.76 Q83.7523 1189.98 81.6003 1184.89 Q79.4484 1179.8 79.2727 1174.57 L58.4999 1169.34 Q57.3142 1169.08 57.0068 1168.86 Q56.6993 1168.64 56.6993 1167.98 Q56.6993 1167.5 56.9189 1167.24 Q57.1385 1166.97 57.3581 1166.97 L57.5777 1166.93 L58.8513 1167.19 L79.2727 1172.24 Q79.5801 1167.76 81.1612 1164.29 Q82.7422 1160.82 85.1137 1158.85 Q87.4413 1156.87 90.0763 1155.91 Q92.7113 1154.94 95.522 1154.94 M81.249 1175.1 Q81.6882 1179.93 84.0597 1184.01 Q86.4312 1188.1 89.9446 1190.73 Q93.414 1193.37 97.5861 1194.82 Q101.714 1196.26 105.799 1196.26 Q109.005 1196.26 111.464 1195.21 Q113.923 1194.11 115.329 1192.31 Q116.69 1190.51 117.437 1188.54 Q118.139 1186.52 118.227 1184.36 L81.249 1175.1 M93.6336 1160.82 Q87.9244 1160.82 84.7184 1164.12 Q81.5125 1167.41 81.249 1172.77 L118.227 1182.04 Q117.92 1178.13 116.295 1174.7 Q114.626 1171.23 112.167 1168.73 Q109.663 1166.23 106.589 1164.42 Q103.471 1162.62 100.177 1161.75 Q96.8396 1160.82 93.6336 1160.82 Z\" fill=\"#000000\" fill-rule=\"nonzero\" fill-opacity=\"1\" /><path clip-path=\"url(#clip690)\" d=\"M124.22 1117.77 L124.22 1133.67 L122.843 1133.67 L122.843 1117.77 L124.22 1117.77 Z\" fill=\"#000000\" fill-rule=\"nonzero\" fill-opacity=\"1\" /><path clip-path=\"url(#clip690)\" d=\"M132.621 1115.17 Q132.898 1115.17 133.851 1115.41 Q134.773 1115.63 136.587 1116.34 Q138.37 1117.01 140.368 1118.06 Q142.336 1119.07 144.826 1120.95 Q147.316 1122.82 149.498 1125.16 Q153.618 1129.55 155.831 1134.26 Q158.045 1138.93 158.752 1142.93 L158.752 1143.82 Q158.752 1144.8 157.983 1144.8 L155.155 1144.13 L139.753 1140.28 Q135.05 1139.08 134.65 1139.08 Q134.281 1139.08 134.097 1139.24 Q133.882 1139.36 133.728 1140.1 Q133.574 1140.81 133.574 1142.22 Q133.574 1142.8 133.543 1143.08 Q133.513 1143.33 133.359 1143.54 Q133.174 1143.76 132.806 1143.76 Q132.283 1143.76 132.006 1143.54 Q131.699 1143.3 131.637 1143.11 Q131.576 1142.93 131.545 1142.56 Q131.514 1142.04 131.361 1140.28 Q131.176 1138.53 131.053 1137.02 Q130.93 1135.52 130.93 1134.87 Q130.93 1134.5 131.115 1134.29 Q131.268 1134.07 131.453 1134.07 L131.607 1134.04 L156.661 1140.22 Q155.924 1137.95 154.694 1135.7 Q153.464 1133.43 151.435 1130.97 Q149.375 1128.51 146.824 1126.42 Q144.272 1124.33 140.706 1122.48 Q137.109 1120.61 132.99 1119.44 Q132.16 1119.23 131.668 1118.7 Q131.176 1118.15 131.053 1117.75 Q130.93 1117.35 130.93 1116.98 Q130.93 1116.15 131.391 1115.66 Q131.822 1115.17 132.621 1115.17 Z\" fill=\"#000000\" fill-rule=\"nonzero\" fill-opacity=\"1\" /><path clip-path=\"url(#clip690)\" d=\"M165.223 1090.82 Q165.417 1090.65 165.611 1090.65 Q165.804 1090.65 166.364 1091.08 Q166.923 1091.49 167.677 1092.37 Q168.43 1093.25 169.14 1094.39 Q169.85 1095.53 170.323 1097.21 Q170.818 1098.89 170.818 1100.65 Q170.818 1103.82 168.559 1105.71 Q166.299 1107.58 162.835 1107.58 Q160.618 1107.58 158.66 1106.85 Q156.68 1106.12 155.281 1104.94 Q153.883 1103.73 152.871 1102.22 Q151.838 1100.7 151.343 1099.1 Q150.848 1097.51 150.848 1096.03 Q150.848 1093.85 151.946 1092.58 Q153.043 1091.31 154.593 1091.31 Q154.959 1091.31 155.41 1091.42 Q155.862 1091.51 156.573 1091.81 Q157.283 1092.09 157.993 1092.82 Q158.681 1093.55 159.133 1094.63 Q160.145 1097.02 160.145 1101.36 L160.145 1103.71 Q162.921 1104.4 164.728 1104.4 Q165.439 1104.4 166.17 1104.27 Q166.88 1104.14 167.784 1103.8 Q168.688 1103.43 169.269 1102.61 Q169.828 1101.77 169.828 1100.57 Q169.828 1100.18 169.807 1099.77 Q169.785 1099.34 169.549 1098.27 Q169.312 1097.17 168.903 1096.2 Q168.494 1095.23 167.612 1094 Q166.708 1092.76 165.482 1091.77 Q165.03 1091.42 165.03 1091.19 Q165.03 1090.99 165.223 1090.82 M154.593 1092.78 Q153.409 1092.78 152.613 1093.66 Q151.817 1094.52 151.817 1096.03 Q151.817 1096.5 151.924 1097.08 Q152.032 1097.66 152.484 1098.63 Q152.936 1099.58 153.689 1100.42 Q154.421 1101.26 155.862 1102.1 Q157.283 1102.93 159.176 1103.43 L159.176 1101.62 Q159.176 1101 159.176 1100.55 Q159.155 1100.09 159.069 1099.1 Q158.983 1098.09 158.832 1097.36 Q158.66 1096.63 158.316 1095.7 Q157.971 1094.78 157.519 1094.2 Q157.046 1093.6 156.293 1093.19 Q155.54 1092.78 154.593 1092.78 Z\" fill=\"#000000\" fill-rule=\"nonzero\" fill-opacity=\"1\" /><path clip-path=\"url(#clip690)\" d=\"M141.591 1050.73 L51.6489 1050.73 L51.6489 1037.16 L53.713 1037.16 L53.713 1044.71 L139.527 1044.71 L139.527 1037.16 L141.591 1037.16 L141.591 1050.73 Z\" fill=\"#000000\" fill-rule=\"nonzero\" fill-opacity=\"1\" /><path clip-path=\"url(#clip690)\" d=\"M119.106 1033.54 L116.339 1033.54 Q116.339 1030.29 115.724 1028.23 Q115.065 1026.16 113.879 1025.42 Q112.65 1024.63 111.859 1024.45 Q111.025 1024.27 109.663 1024.27 L64.6922 1024.27 Q62.1011 1024.27 61.3106 1025.42 Q60.4762 1026.51 60.4762 1031.39 L60.4762 1033.54 L57.6655 1033.54 L57.6655 1018.35 Q57.6655 1016.72 57.9729 1016.28 Q58.2364 1015.84 59.6418 1015.18 L110.015 995.684 L59.3783 976.009 Q58.1047 975.57 57.8851 975.175 Q57.6655 974.736 57.6655 973.023 L57.6655 957.828 L60.4762 957.828 L60.4762 959.979 Q60.4762 964.854 61.3106 965.996 Q62.1011 967.094 64.6922 967.094 L112.079 967.094 Q114.67 967.094 115.504 965.996 Q116.339 964.854 116.339 959.979 L116.339 957.828 L119.106 957.828 Q118.842 961.165 118.842 970.695 Q118.842 980.313 119.106 983.651 L116.339 983.651 L116.339 981.455 Q116.339 976.58 115.548 975.482 Q114.714 974.384 112.079 974.384 L60.4762 974.384 L60.4762 974.472 L117.393 996.562 Q119.106 997.177 119.106 998.187 Q119.106 999.285 117.129 999.988 L61.1789 1021.68 L61.1789 1021.77 L109.663 1021.77 Q111.025 1021.77 111.859 1021.6 Q112.65 1021.42 113.879 1020.67 Q115.065 1019.88 115.724 1017.82 Q116.339 1015.75 116.339 1012.5 L119.106 1012.5 Q118.842 1021.95 118.842 1023.04 Q118.842 1024.1 119.106 1033.54 Z\" fill=\"#000000\" fill-rule=\"nonzero\" fill-opacity=\"1\" /><path clip-path=\"url(#clip690)\" d=\"M99.2989 941.547 Q90.8229 941.547 84.8063 936.101 Q78.7896 930.656 78.7896 922.838 Q78.7896 914.933 83.9279 910.849 Q89.0662 906.721 96.4443 906.721 Q97.8057 906.721 98.0692 907.072 Q98.3327 907.424 98.3327 908.961 L98.3327 934.081 Q107.511 934.081 111.815 931.358 Q117.832 927.582 117.832 921.214 Q117.832 920.335 117.656 919.281 Q117.481 918.227 116.734 916.075 Q115.943 913.923 113.879 912.035 Q111.815 910.146 108.565 909.048 Q107.292 908.785 107.336 907.907 Q107.336 906.721 108.39 906.721 Q109.18 906.721 110.981 907.599 Q112.738 908.434 114.846 910.059 Q116.954 911.684 118.535 914.846 Q120.116 917.964 120.116 921.741 Q120.116 929.646 114.143 935.618 Q108.126 941.547 99.2989 941.547 M96.4443 933.993 L96.4443 912.65 Q94.5559 912.65 92.4478 913.001 Q90.3398 913.308 87.4413 914.275 Q84.4989 915.197 82.6543 917.393 Q80.8098 919.589 80.8098 922.838 Q80.8098 924.288 81.4247 925.869 Q82.0395 927.406 83.5327 929.294 Q85.0259 931.183 88.4075 932.5 Q91.7891 933.818 96.4443 933.993 Z\" fill=\"#000000\" fill-rule=\"nonzero\" fill-opacity=\"1\" /><path clip-path=\"url(#clip690)\" d=\"M60.4762 902.01 L57.6655 902.01 Q57.929 892.304 57.929 890.592 Q57.929 880.974 57.6655 877.724 L60.4762 877.724 Q60.4762 885.102 63.0673 885.102 Q63.4187 885.102 64.6922 884.575 L110.103 867.403 L66.7564 850.934 Q65.3949 850.495 64.9558 850.495 Q63.1552 850.495 61.8816 852.164 Q60.564 853.789 60.4762 857.039 L57.6655 857.039 Q57.929 850.012 57.929 846.806 Q57.929 842.239 57.6655 838.067 L60.4762 838.067 Q60.564 845.62 66.4929 847.86 L119.369 867.93 Q120.467 868.282 120.774 868.633 Q121.082 868.984 121.082 870.082 Q121.082 870.961 120.73 871.444 Q120.379 871.883 119.106 872.322 L63.9017 893.183 Q61.4863 894.061 61.0032 895.642 Q60.4762 897.223 60.4762 902.01 Z\" fill=\"#000000\" fill-rule=\"nonzero\" fill-opacity=\"1\" /><path clip-path=\"url(#clip690)\" d=\"M54.0893 787.519 Q54.4582 787.15 54.9808 787.15 Q55.5034 787.15 55.8723 787.519 Q56.2412 787.888 56.2412 788.41 L56.2412 827.821 Q56.2412 828.344 55.8723 828.713 Q55.5034 829.082 54.9808 829.082 Q54.4582 829.082 54.0893 828.713 Q53.7204 828.344 53.7204 827.821 L53.7204 788.41 Q53.7204 787.888 54.0893 787.519 Z\" fill=\"#000000\" fill-rule=\"nonzero\" fill-opacity=\"1\" /><path clip-path=\"url(#clip690)\" d=\"M34.7833 780.58 L32.8158 780.58 Q32.8158 773.018 28.7886 769.114 Q28.7886 768.038 29.0346 767.853 Q29.2805 767.669 30.418 767.669 L65.7405 767.669 Q67.6157 767.669 68.1998 766.747 Q68.7839 765.824 68.7839 761.797 L68.7839 759.799 L70.7207 759.799 Q70.5362 762.012 70.5362 770.005 Q70.5362 777.998 70.7207 780.181 L68.7839 780.181 L68.7839 778.183 Q68.7839 774.217 68.2306 773.264 Q67.6465 772.311 65.7405 772.311 L33.1233 772.311 Q34.7833 775.6 34.7833 780.58 Z\" fill=\"#000000\" fill-rule=\"nonzero\" fill-opacity=\"1\" /><path clip-path=\"url(#clip690)\" d=\"M114.187 710.327 Q108.214 716.037 99.6942 716.037 Q91.1303 716.037 84.9819 710.415 Q78.7896 704.794 78.7896 696.538 Q78.7896 691.048 81.4247 686.92 Q84.0158 682.791 88.4514 682.791 Q90.4277 682.791 91.5695 683.977 Q92.6674 685.119 92.6674 686.92 Q92.6674 688.808 91.5256 689.95 Q90.3398 691.048 88.5392 691.048 Q87.7487 691.048 86.9582 690.784 Q86.1677 690.521 85.3333 689.555 Q84.4989 688.545 84.3671 686.832 Q81.0733 690.038 81.0733 696.274 Q81.0733 696.362 81.0733 696.45 Q81.0733 701.017 85.3772 704.794 Q89.6811 708.571 99.5185 708.571 Q104.657 708.571 108.434 707.341 Q112.167 706.068 114.099 704.003 Q116.031 701.939 116.954 699.919 Q117.832 697.899 117.832 695.923 Q117.832 687.095 108.39 684.109 Q107.511 683.845 107.511 682.967 Q107.511 681.781 108.39 681.781 Q108.829 681.781 109.971 682.133 Q111.113 682.484 112.913 683.582 Q114.714 684.68 116.295 686.261 Q117.832 687.798 118.974 690.565 Q120.116 693.288 120.116 696.713 Q120.116 704.618 114.187 710.327 Z\" fill=\"#000000\" fill-rule=\"nonzero\" fill-opacity=\"1\" /><path clip-path=\"url(#clip690)\" d=\"M119.106 676.5 L116.339 676.5 Q116.339 671.713 115.768 670.615 Q115.153 669.517 112.254 669.517 L88.144 669.517 Q84.8063 669.517 83.9718 670.703 Q83.1374 671.844 83.1374 676.5 L80.3267 676.5 L79.3606 663.851 L88.8027 663.851 Q79.3606 659.635 79.3606 650.545 Q79.3606 640.004 88.144 638.555 Q84.7184 637.018 82.0395 633.812 Q79.3606 630.562 79.3606 625.512 Q79.3606 618.749 82.6983 616.07 Q84.938 614.093 87.4413 613.698 Q89.9446 613.303 96.4443 613.303 L113.616 613.303 Q115.504 613.215 115.943 611.766 Q116.339 610.317 116.339 606.276 L119.106 606.276 Q118.842 615.455 118.842 616.333 Q118.842 617.036 119.106 626.522 L116.339 626.522 Q116.339 621.735 115.768 620.637 Q115.153 619.495 112.254 619.495 L91.306 619.495 Q86.7386 619.495 84.0597 620.901 Q81.3368 622.306 81.3368 626.171 Q81.3368 630.826 85.2454 634.559 Q89.1541 638.292 95.7416 638.292 L112.254 638.292 Q115.153 638.292 115.768 637.194 Q116.339 636.052 116.339 631.265 L119.106 631.265 Q118.842 640.444 118.842 641.366 Q118.842 642.069 119.106 651.511 L116.339 651.511 Q116.339 646.724 115.768 645.626 Q115.153 644.484 112.254 644.484 L91.306 644.484 Q86.7386 644.484 84.0597 645.889 Q81.3368 647.295 81.3368 651.159 Q81.3368 655.815 85.2454 659.548 Q89.1541 663.281 95.7416 663.281 L112.254 663.281 Q115.153 663.281 115.768 662.183 Q116.339 661.041 116.339 656.298 L119.106 656.298 Q118.842 665.476 118.842 666.355 Q118.842 667.057 119.106 676.5 Z\" fill=\"#000000\" fill-rule=\"nonzero\" fill-opacity=\"1\" /><path clip-path=\"url(#clip690)\" d=\"M75.5736 555.79 Q75.9426 555.421 76.4652 555.421 Q76.9878 555.421 77.3567 555.79 Q77.7256 556.158 77.7256 556.681 L77.7256 596.092 Q77.7256 596.615 77.3567 596.984 Q76.9878 597.353 76.4652 597.353 Q75.9426 597.353 75.5736 596.984 Q75.2047 596.615 75.2047 596.092 L75.2047 556.681 Q75.2047 556.158 75.5736 555.79 Z\" fill=\"#000000\" fill-rule=\"nonzero\" fill-opacity=\"1\" /><path clip-path=\"url(#clip690)\" d=\"M92.205 548.851 Q91.0676 548.851 90.7294 548.759 Q90.3913 548.636 89.8687 548.144 L76.4037 536.063 Q68.9641 529.453 62.4776 529.453 Q58.2659 529.453 55.2532 531.666 Q52.2405 533.849 52.2405 537.876 Q52.2405 540.643 53.9313 542.98 Q55.6221 545.316 58.6348 546.392 Q58.5733 546.207 58.5733 545.562 Q58.5733 543.994 59.5571 543.133 Q60.5408 542.242 61.8627 542.242 Q63.5535 542.242 64.3836 543.348 Q65.1829 544.424 65.1829 545.5 Q65.1829 545.931 65.0906 546.515 Q64.9984 547.068 64.1376 547.96 Q63.2461 548.851 61.6783 548.851 Q57.2822 548.851 53.7776 545.531 Q50.273 542.18 50.273 537.077 Q50.273 531.298 53.7161 527.516 Q57.1285 523.704 62.4776 523.704 Q64.3528 523.704 66.0744 524.288 Q67.7652 524.842 69.0871 525.61 Q70.409 526.348 72.5302 528.377 Q74.6514 530.406 76.1577 532.035 Q77.6641 533.665 80.8613 537.323 L87.3478 543.994 L87.3478 532.65 Q87.3478 527.117 86.8559 526.686 Q85.9644 526.071 81.2609 525.303 L81.2609 523.704 L92.205 525.487 L92.205 548.851 Z\" fill=\"#000000\" fill-rule=\"nonzero\" fill-opacity=\"1\" /><path clip-path=\"url(#clip690)\" d=\"M117.92 484.308 L106.062 484.308 Q105.052 484.308 104.701 484.264 Q104.349 484.22 104.086 483.956 Q103.822 483.693 103.822 483.166 Q103.822 482.551 104.086 482.331 Q104.349 482.068 105.359 481.892 Q111.552 480.531 114.846 477.632 Q118.095 474.69 118.095 469.376 Q118.095 464.325 115.856 461.778 Q113.616 459.231 109.927 459.231 Q103.339 459.231 101.67 468.585 Q100.573 473.987 99.8698 476.227 Q99.1232 478.467 97.4983 480.443 Q94.3363 484.308 89.8567 484.308 Q85.3772 484.308 82.0834 480.926 Q78.7896 477.5 78.7896 469.947 Q78.7896 464.896 81.3368 461.471 Q80.5463 460.461 79.8876 459.934 Q78.7896 458.748 78.7896 458.133 Q78.7896 457.43 79.2727 457.299 Q79.7119 457.167 80.9855 457.167 L90.0324 457.167 Q91.0425 457.167 91.3938 457.211 Q91.7452 457.255 92.0087 457.518 Q92.2283 457.782 92.2283 458.353 Q92.2283 459.363 91.3938 459.407 Q80.5024 460.109 80.5024 469.947 Q80.5024 475.261 82.5665 477.632 Q84.5867 480.004 87.3535 480.004 Q88.8906 480.004 90.0763 479.301 Q91.2182 478.554 91.9208 477.632 Q92.5796 476.666 93.2384 474.909 Q93.8532 473.153 94.0728 472.099 Q94.2924 471.001 94.7315 468.937 Q96.093 461.734 99.0354 458.704 Q102.812 454.927 107.599 454.927 Q112.913 454.927 116.514 458.528 Q120.116 462.129 120.116 469.376 Q120.116 475.217 116.207 479.301 Q116.734 479.828 117.217 480.223 Q117.656 480.618 117.832 480.794 Q118.008 480.926 118.139 480.97 Q118.227 481.014 118.315 481.102 Q120.116 482.902 120.116 483.341 Q120.116 484.044 119.633 484.176 Q119.193 484.308 117.92 484.308 Z\" fill=\"#000000\" fill-rule=\"nonzero\" fill-opacity=\"1\" /><path clip-path=\"url(#clip690)\" d=\"M75.0111 404.051 Q75.3801 403.682 75.9027 403.682 Q76.4253 403.682 76.7942 404.051 Q77.1631 404.42 77.1631 404.942 L77.1631 444.353 Q77.1631 444.876 76.7942 445.245 Q76.4253 445.614 75.9027 445.614 Q75.3801 445.614 75.0111 445.245 Q74.6422 444.876 74.6422 444.353 L74.6422 404.942 Q74.6422 404.42 75.0111 404.051 Z\" fill=\"#000000\" fill-rule=\"nonzero\" fill-opacity=\"1\" /><path clip-path=\"url(#clip690)\" d=\"M55.7052 397.112 L53.7377 397.112 Q53.7377 389.55 49.7105 385.646 Q49.7105 384.57 49.9565 384.385 Q50.2024 384.201 51.3398 384.201 L86.6624 384.201 Q88.5376 384.201 89.1217 383.278 Q89.7058 382.356 89.7058 378.329 L89.7058 376.331 L91.6425 376.331 Q91.4581 378.544 91.4581 386.537 Q91.4581 394.53 91.6425 396.713 L89.7058 396.713 L89.7058 394.714 Q89.7058 390.749 89.1524 389.796 Q88.5684 388.843 86.6624 388.843 L54.0451 388.843 Q55.7052 392.132 55.7052 397.112 Z\" fill=\"#000000\" fill-rule=\"nonzero\" fill-opacity=\"1\" /><path clip-path=\"url(#clip690)\" d=\"M139.527 356.335 L139.527 348.781 L53.713 348.781 L53.713 356.335 L51.6489 356.335 L51.6489 342.765 L141.591 342.765 L141.591 356.335 L139.527 356.335 Z\" fill=\"#000000\" fill-rule=\"nonzero\" fill-opacity=\"1\" /><path clip-path=\"url(#clip690)\" d=\"M1147.66 41.1683 Q1147.66 41.5635 1147.31 42.925 Q1147 44.2425 1145.99 46.8336 Q1145.03 49.3808 1143.53 52.2354 Q1142.08 55.0461 1139.4 58.6034 Q1136.73 62.1607 1133.39 65.2788 Q1127.11 71.1637 1120.39 74.3257 Q1113.71 77.4877 1108 78.4978 L1106.73 78.4978 Q1105.32 78.4978 1105.32 77.3999 L1106.29 73.3595 L1111.78 51.3571 Q1113.49 44.6377 1113.49 44.0668 Q1113.49 43.5398 1113.27 43.2763 Q1113.1 42.9689 1112.04 42.7493 Q1111.03 42.5297 1109.01 42.5297 Q1108.18 42.5297 1107.78 42.4858 Q1107.43 42.4419 1107.13 42.2223 Q1106.82 41.9588 1106.82 41.4318 Q1106.82 40.6852 1107.13 40.2899 Q1107.48 39.8508 1107.74 39.7629 Q1108 39.6751 1108.53 39.6312 Q1109.28 39.5873 1111.78 39.3677 Q1114.28 39.1042 1116.44 38.9285 Q1118.59 38.7529 1119.51 38.7529 Q1120.04 38.7529 1120.34 39.0164 Q1120.65 39.2359 1120.65 39.4994 L1120.7 39.719 L1111.87 75.5115 Q1115.12 74.4574 1118.32 72.7008 Q1121.57 70.9441 1125.09 68.0455 Q1128.6 65.1031 1131.59 61.458 Q1134.57 57.8129 1137.21 52.7185 Q1139.89 47.5802 1141.56 41.6953 Q1141.86 40.5095 1142.61 39.8069 Q1143.4 39.1042 1143.97 38.9285 Q1144.54 38.7529 1145.07 38.7529 Q1146.26 38.7529 1146.96 39.4116 Q1147.66 40.0264 1147.66 41.1683 Z\" fill=\"#000000\" fill-rule=\"nonzero\" fill-opacity=\"1\" /><path clip-path=\"url(#clip690)\" d=\"M1156.85 67.4783 L1156.85 65.5108 Q1164.41 65.5108 1168.31 61.4836 Q1169.39 61.4836 1169.57 61.7295 Q1169.76 61.9755 1169.76 63.1129 L1169.76 98.4354 Q1169.76 100.311 1170.68 100.895 Q1171.6 101.479 1175.63 101.479 L1177.63 101.479 L1177.63 103.416 Q1175.41 103.231 1167.42 103.231 Q1159.43 103.231 1157.25 103.416 L1157.25 101.479 L1159.24 101.479 Q1163.21 101.479 1164.16 100.926 Q1165.12 100.341 1165.12 98.4354 L1165.12 65.8182 Q1161.83 67.4783 1156.85 67.4783 Z\" fill=\"#000000\" fill-rule=\"nonzero\" fill-opacity=\"1\" /><path clip-path=\"url(#clip690)\" d=\"M1187.02 99.7098 Q1187.02 99.2706 1187.37 98.3044 L1219.12 13.4566 Q1219.12 13.3688 1219.34 12.8857 Q1219.56 12.4026 1219.69 12.0952 Q1219.83 11.7438 1220.09 11.4803 Q1220.4 11.2168 1220.75 11.2168 Q1221.63 11.2168 1221.63 12.3148 Q1221.63 12.4026 1221.36 13.4566 L1189.52 98.3923 Q1189 99.9293 1188.64 100.369 Q1188.34 100.808 1187.81 100.808 Q1187.02 100.808 1187.02 99.7098 Z\" fill=\"#000000\" fill-rule=\"nonzero\" fill-opacity=\"1\" /><path clip-path=\"url(#clip690)\" d=\"M1271.6 29.1673 L1248.89 29.1673 L1248.89 27.1998 L1271.6 27.1998 L1271.6 29.1673 Z\" fill=\"#000000\" fill-rule=\"nonzero\" fill-opacity=\"1\" /><path clip-path=\"url(#clip690)\" d=\"M1275.89 41.1683 Q1275.89 41.5635 1275.54 42.925 Q1275.24 44.2425 1274.23 46.8336 Q1273.26 49.3808 1271.77 52.2354 Q1270.32 55.0461 1267.64 58.6034 Q1264.96 62.1607 1261.62 65.2788 Q1255.34 71.1637 1248.62 74.3257 Q1241.95 77.4877 1236.24 78.4978 L1234.96 78.4978 Q1233.56 78.4978 1233.56 77.3999 L1234.53 73.3595 L1240.01 51.3571 Q1241.73 44.6377 1241.73 44.0668 Q1241.73 43.5398 1241.51 43.2763 Q1241.33 42.9689 1240.28 42.7493 Q1239.27 42.5297 1237.25 42.5297 Q1236.41 42.5297 1236.02 42.4858 Q1235.67 42.4419 1235.36 42.2223 Q1235.05 41.9588 1235.05 41.4318 Q1235.05 40.6852 1235.36 40.2899 Q1235.71 39.8508 1235.97 39.7629 Q1236.24 39.6751 1236.76 39.6312 Q1237.51 39.5873 1240.01 39.3677 Q1242.52 39.1042 1244.67 38.9285 Q1246.82 38.7529 1247.74 38.7529 Q1248.27 38.7529 1248.58 39.0164 Q1248.89 39.2359 1248.89 39.4994 L1248.93 39.719 L1240.1 75.5115 Q1243.35 74.4574 1246.56 72.7008 Q1249.81 70.9441 1253.32 68.0455 Q1256.83 65.1031 1259.82 61.458 Q1262.81 57.8129 1265.44 52.7185 Q1268.12 47.5802 1269.79 41.6953 Q1270.1 40.5095 1270.84 39.8069 Q1271.63 39.1042 1272.21 38.9285 Q1272.78 38.7529 1273.3 38.7529 Q1274.49 38.7529 1275.19 39.4116 Q1275.89 40.0264 1275.89 41.1683 Z\" fill=\"#000000\" fill-rule=\"nonzero\" fill-opacity=\"1\" /><path clip-path=\"url(#clip690)\" d=\"M1286.16 67.4783 L1286.16 65.5108 Q1293.72 65.5108 1297.63 61.4836 Q1298.7 61.4836 1298.89 61.7295 Q1299.07 61.9755 1299.07 63.1129 L1299.07 98.4354 Q1299.07 100.311 1299.99 100.895 Q1300.91 101.479 1304.94 101.479 L1306.94 101.479 L1306.94 103.416 Q1304.73 103.231 1296.73 103.231 Q1288.74 103.231 1286.56 103.416 L1286.56 101.479 L1288.56 101.479 Q1292.52 101.479 1293.48 100.926 Q1294.43 100.341 1294.43 98.4354 L1294.43 65.8182 Q1291.14 67.4783 1286.16 67.4783 Z\" fill=\"#000000\" fill-rule=\"nonzero\" fill-opacity=\"1\" /><path clip-path=\"url(#clip690)\" d=\"M1420.07 54.8265 Q1420.86 55.1339 1420.86 56.0123 Q1420.86 56.8906 1420.07 57.198 Q1413.49 59.3939 1407.73 66.5524 Q1403.65 71.8663 1402.51 77.9708 Q1402.38 78.5856 1401.89 78.9809 Q1401.41 79.3762 1400.75 79.3762 Q1400 79.3762 1399.48 78.8491 Q1398.95 78.3661 1398.95 77.6195 Q1398.95 77.5756 1398.99 77.4438 Q1399.04 77.2681 1399.04 77.2242 Q1400.36 70.1096 1404.97 64.2687 Q1407.87 60.5796 1411.99 57.8129 L1343.09 57.8129 Q1342.34 57.8129 1341.81 57.2859 Q1341.29 56.7589 1341.29 56.0123 Q1341.29 55.2657 1341.81 54.7387 Q1342.34 54.2117 1343.09 54.2117 L1411.99 54.2117 Q1407.87 51.4449 1404.97 47.7559 Q1400.36 41.9149 1399.04 34.8003 Q1399.04 34.7564 1398.99 34.6246 Q1398.95 34.449 1398.95 34.4051 Q1398.95 33.6585 1399.48 33.1754 Q1400 32.6484 1400.75 32.6484 Q1401.41 32.6484 1401.89 33.0436 Q1402.38 33.4389 1402.51 34.0537 Q1403.65 40.1582 1407.73 45.4722 Q1413.49 52.6307 1420.07 54.8265 Z\" fill=\"#000000\" fill-rule=\"nonzero\" fill-opacity=\"1\" /><path clip-path=\"url(#clip690)\" d=\"M1495.37 29.1673 L1472.65 29.1673 L1472.65 27.1998 L1495.37 27.1998 L1495.37 29.1673 Z\" fill=\"#000000\" fill-rule=\"nonzero\" fill-opacity=\"1\" /><path clip-path=\"url(#clip690)\" d=\"M1499.66 41.1683 Q1499.66 41.5635 1499.3 42.925 Q1499 44.2425 1497.99 46.8336 Q1497.02 49.3808 1495.53 52.2354 Q1494.08 55.0461 1491.4 58.6034 Q1488.72 62.1607 1485.38 65.2788 Q1479.1 71.1637 1472.38 74.3257 Q1465.71 77.4877 1460 78.4978 L1458.73 78.4978 Q1457.32 78.4978 1457.32 77.3999 L1458.29 73.3595 L1463.78 51.3571 Q1465.49 44.6377 1465.49 44.0668 Q1465.49 43.5398 1465.27 43.2763 Q1465.09 42.9689 1464.04 42.7493 Q1463.03 42.5297 1461.01 42.5297 Q1460.17 42.5297 1459.78 42.4858 Q1459.43 42.4419 1459.12 42.2223 Q1458.81 41.9588 1458.81 41.4318 Q1458.81 40.6852 1459.12 40.2899 Q1459.47 39.8508 1459.74 39.7629 Q1460 39.6751 1460.53 39.6312 Q1461.27 39.5873 1463.78 39.3677 Q1466.28 39.1042 1468.43 38.9285 Q1470.58 38.7529 1471.51 38.7529 Q1472.03 38.7529 1472.34 39.0164 Q1472.65 39.2359 1472.65 39.4994 L1472.69 39.719 L1463.86 75.5115 Q1467.11 74.4574 1470.32 72.7008 Q1473.57 70.9441 1477.08 68.0455 Q1480.6 65.1031 1483.58 61.458 Q1486.57 57.8129 1489.2 52.7185 Q1491.88 47.5802 1493.55 41.6953 Q1493.86 40.5095 1494.61 39.8069 Q1495.4 39.1042 1495.97 38.9285 Q1496.54 38.7529 1497.06 38.7529 Q1498.25 38.7529 1498.95 39.4116 Q1499.66 40.0264 1499.66 41.1683 Z\" fill=\"#000000\" fill-rule=\"nonzero\" fill-opacity=\"1\" /><path clip-path=\"url(#clip690)\" d=\"M1509.92 94.9308 Q1509.92 93.0556 1511 92.1641 Q1512.07 91.2726 1513.45 91.2726 Q1514.9 91.2726 1515.91 92.2256 Q1516.96 93.1478 1516.96 94.7771 Q1516.96 96.5294 1515.73 97.5132 Q1514.53 98.4969 1512.81 98.251 Q1514.32 100.772 1517.08 101.909 Q1519.88 103.047 1522.46 103.047 Q1525.17 103.047 1527.35 100.71 Q1529.56 98.3739 1529.56 92.6559 Q1529.56 87.7987 1527.66 85.0012 Q1525.78 82.2037 1522.06 82.2037 L1519.3 82.2037 Q1518.34 82.2037 1518.07 82.1114 Q1517.79 82.0192 1517.79 81.4966 Q1517.79 80.8818 1518.74 80.7588 Q1519.7 80.7588 1521.2 80.5743 Q1524.86 80.4514 1526.8 77.285 Q1528.55 74.3337 1528.55 70.1221 Q1528.55 66.2793 1526.7 64.6808 Q1524.89 63.0514 1522.52 63.0514 Q1520.31 63.0514 1517.88 63.9737 Q1515.45 64.896 1514.13 66.9557 Q1518.04 66.9557 1518.04 70.1221 Q1518.04 71.5055 1517.14 72.4277 Q1516.28 73.3192 1514.84 73.3192 Q1513.45 73.3192 1512.53 72.4585 Q1511.61 71.567 1511.61 70.0606 Q1511.61 66.4638 1514.81 63.9737 Q1518.04 61.4836 1522.77 61.4836 Q1527.44 61.4836 1530.89 63.943 Q1534.36 66.4023 1534.36 70.1836 Q1534.36 73.9033 1531.9 76.9468 Q1529.44 79.9903 1525.54 81.2507 Q1530.33 82.2037 1533.19 85.4623 Q1536.05 88.6902 1536.05 92.6559 Q1536.05 97.5747 1532.18 101.202 Q1528.3 104.799 1522.65 104.799 Q1517.42 104.799 1513.67 101.971 Q1509.92 99.1425 1509.92 94.9308 Z\" fill=\"#000000\" fill-rule=\"nonzero\" fill-opacity=\"1\" /><path clip-path=\"url(#clip692)\" d=\"M385.834 591.173 L404.814 457.464 L423.795 390.56 L442.775 352.721 L461.755 330.735 L480.736 318.458 L499.716 312.562 L518.696 311.064 L537.677 312.707 L556.657 316.657 L575.637 322.341 L594.618 329.355 L613.598 337.406 L632.578 346.368 L651.559 355.904 L670.539 365.972 L689.519 376.478 L708.5 387.342 L727.48 398.503 L746.46 409.91 L765.441 421.521 L784.421 433.301 L803.402 445.22 L822.382 457.254 L841.362 469.379 L860.343 481.579 L879.323 493.837 L898.303 506.138 L917.284 518.38 L936.264 530.736 L955.244 543.104 L974.225 555.475 L993.205 567.842 L1012.19 580.199 L1031.17 592.541 L1050.15 604.862 L1069.13 617.158 L1088.11 629.425 L1107.09 641.661 L1126.07 653.861 L1145.05 666.024 L1164.03 678.148 L1183.01 690.23 L1201.99 702.27 L1220.97 714.264 L1239.95 726.213 L1258.93 738.114 L1277.91 749.969 L1296.89 761.771 L1315.87 773.496 L1334.85 785.137 L1353.83 796.799 L1372.81 808.41 L1391.79 819.971 L1410.77 831.48 L1429.75 842.946 L1448.73 854.351 L1467.71 865.705 L1486.69 877.008 L1505.67 888.259 L1524.65 899.458 L1543.64 910.607 L1562.62 921.723 L1581.6 932.767 L1600.58 943.76 L1619.56 954.703 L1638.54 965.594 L1657.52 976.435 L1676.5 987.226 L1695.48 997.966 L1714.46 1008.66 L1733.44 1019.35 L1752.42 1029.93 L1771.4 1040.47 L1790.38 1050.96 L1809.36 1061.39 L1828.34 1071.78 L1847.32 1082.12 L1866.3 1092.41 L1885.28 1102.65 L1904.26 1112.85 L1923.24 1122.99 L1942.22 1133.09 L1961.2 1143.32 L1980.18 1153.3 L1999.16 1163.25 L2018.14 1173.14 L2037.12 1182.99 L2056.1 1192.79 L2075.08 1202.54 L2094.07 1212.25 L2113.05 1221.91 L2132.03 1231.53 L2151.01 1241.1 L2169.99 1250.62 L2188.97 1260.1 L2207.95 1269.53 L2226.93 1278.92 L2245.91 1288.27 L2264.89 1297.57 L2264.89 1180.18 L2245.91 1170.88 L2226.93 1161.54 L2207.95 1152.15 L2188.97 1142.72 L2169.99 1133.24 L2151.01 1123.71 L2132.03 1114.14 L2113.05 1104.53 L2094.07 1094.87 L2075.08 1085.16 L2056.1 1075.4 L2037.12 1065.6 L2018.14 1055.76 L1999.16 1045.86 L1980.18 1035.92 L1961.2 1025.93 L1942.22 1015.7 L1923.24 1005.6 L1904.26 995.46 L1885.28 985.267 L1866.3 975.026 L1847.32 964.736 L1828.34 954.397 L1809.36 944.009 L1790.38 933.572 L1771.4 923.085 L1752.42 912.549 L1733.44 901.963 L1714.46 891.27 L1695.48 880.58 L1676.5 869.84 L1657.52 859.05 L1638.54 848.209 L1619.56 837.317 L1600.58 826.375 L1581.6 815.381 L1562.62 804.337 L1543.64 793.221 L1524.65 782.073 L1505.67 770.873 L1486.69 759.622 L1467.71 748.319 L1448.73 736.966 L1429.75 725.56 L1410.77 714.094 L1391.79 702.585 L1372.81 691.025 L1353.83 679.414 L1334.85 667.752 L1315.87 656.11 L1296.89 644.386 L1277.91 632.583 L1258.93 620.728 L1239.95 608.827 L1220.97 596.878 L1201.99 584.884 L1183.01 572.845 L1164.03 560.762 L1145.05 548.639 L1126.07 536.476 L1107.09 524.275 L1088.11 512.04 L1069.13 499.772 L1050.15 487.476 L1031.17 475.155 L1012.19 462.814 L993.205 450.456 L974.225 438.089 L955.244 425.718 L936.264 413.35 L917.284 400.994 L898.303 388.753 L879.323 376.451 L860.343 364.194 L841.362 351.994 L822.382 339.868 L803.402 327.835 L784.421 315.916 L765.441 304.136 L746.46 292.525 L727.48 281.117 L708.5 269.956 L689.519 259.092 L670.539 248.587 L651.559 238.518 L632.578 228.983 L613.598 220.021 L594.618 211.969 L575.637 204.955 L556.657 199.271 L537.677 195.321 L518.696 193.678 L499.716 195.176 L480.736 201.073 L461.755 213.349 L442.775 235.335 L423.795 273.174 L404.814 340.079 L385.834 473.787  Z\" fill=\"#008000\" fill-rule=\"evenodd\" fill-opacity=\"0.2\"/>\n",
       "<polyline clip-path=\"url(#clip692)\" style=\"stroke:#009af9; stroke-linecap:round; stroke-linejoin:round; stroke-width:4; stroke-opacity:0; fill:none\" points=\"385.834,591.173 404.814,457.464 423.795,390.56 442.775,352.721 461.755,330.735 480.736,318.458 499.716,312.562 518.696,311.064 537.677,312.707 556.657,316.657 575.637,322.341 594.618,329.355 613.598,337.406 632.578,346.368 651.559,355.904 670.539,365.972 689.519,376.478 708.5,387.342 727.48,398.503 746.46,409.91 765.441,421.521 784.421,433.301 803.402,445.22 822.382,457.254 841.362,469.379 860.343,481.579 879.323,493.837 898.303,506.138 917.284,518.38 936.264,530.736 955.244,543.104 974.225,555.475 993.205,567.842 1012.19,580.199 1031.17,592.541 1050.15,604.862 1069.13,617.158 1088.11,629.425 1107.09,641.661 1126.07,653.861 1145.05,666.024 1164.03,678.148 1183.01,690.23 1201.99,702.27 1220.97,714.264 1239.95,726.213 1258.93,738.114 1277.91,749.969 1296.89,761.771 1315.87,773.496 1334.85,785.137 1353.83,796.799 1372.81,808.41 1391.79,819.971 1410.77,831.48 1429.75,842.946 1448.73,854.351 1467.71,865.705 1486.69,877.008 1505.67,888.259 1524.65,899.458 1543.64,910.607 1562.62,921.723 1581.6,932.767 1600.58,943.76 1619.56,954.703 1638.54,965.594 1657.52,976.435 1676.5,987.226 1695.48,997.966 1714.46,1008.66 1733.44,1019.35 1752.42,1029.93 1771.4,1040.47 1790.38,1050.96 1809.36,1061.39 1828.34,1071.78 1847.32,1082.12 1866.3,1092.41 1885.28,1102.65 1904.26,1112.85 1923.24,1122.99 1942.22,1133.09 1961.2,1143.32 1980.18,1153.3 1999.16,1163.25 2018.14,1173.14 2037.12,1182.99 2056.1,1192.79 2075.08,1202.54 2094.07,1212.25 2113.05,1221.91 2132.03,1231.53 2151.01,1241.1 2169.99,1250.62 2188.97,1260.1 2207.95,1269.53 2226.93,1278.92 2245.91,1288.27 2264.89,1297.57 \"/>\n",
       "<polyline clip-path=\"url(#clip692)\" style=\"stroke:#000000; stroke-linecap:round; stroke-linejoin:round; stroke-width:6; stroke-opacity:1; fill:none\" points=\"385.834,520.402 404.814,386.694 423.795,319.789 442.775,281.95 461.755,259.964 480.736,247.688 499.716,241.792 518.696,240.293 537.677,241.937 556.657,245.886 575.637,251.57 594.618,258.584 613.598,266.636 632.578,275.598 651.559,285.133 670.539,295.202 689.519,305.707 708.5,316.572 727.48,327.733 746.46,339.14 765.441,350.751 784.421,362.531 803.402,374.45 822.382,386.483 841.362,398.609 860.343,410.809 879.323,423.066 898.303,435.368 917.284,447.61 936.264,459.966 955.244,472.333 974.225,484.704 993.205,497.072 1012.19,509.429 1031.17,521.771 1050.15,534.092 1069.13,546.388 1088.11,558.655 1107.09,570.891 1126.07,583.091 1145.05,595.254 1164.03,607.378 1183.01,619.46 1201.99,631.499 1220.97,643.493 1239.95,655.442 1258.93,667.344 1277.91,679.199 1296.89,691.001 1315.87,702.726 1334.85,714.367 1353.83,726.029 1372.81,737.64 1391.79,749.2 1410.77,760.709 1429.75,772.175 1448.73,783.581 1467.71,794.935 1486.69,806.237 1505.67,817.489 1524.65,828.688 1543.64,839.836 1562.62,850.953 1581.6,861.997 1600.58,872.99 1619.56,883.932 1638.54,894.824 1657.52,905.665 1676.5,916.455 1695.48,927.195 1714.46,937.885 1733.44,948.579 1752.42,959.164 1771.4,969.701 1790.38,980.187 1809.36,990.624 1828.34,1001.01 1847.32,1011.35 1866.3,1021.64 1885.28,1031.88 1904.26,1042.08 1923.24,1052.22 1942.22,1062.32 1961.2,1072.54 1980.18,1082.53 1999.16,1092.48 2018.14,1102.37 2037.12,1112.22 2056.1,1122.02 2075.08,1131.77 2094.07,1141.48 2113.05,1151.14 2132.03,1160.76 2151.01,1170.33 2169.99,1179.85 2188.97,1189.33 2207.95,1198.76 2226.93,1208.15 2245.91,1217.5 2264.89,1226.8 \"/>\n",
       "<polyline clip-path=\"url(#clip692)\" style=\"stroke:#0000ff; stroke-linecap:round; stroke-linejoin:round; stroke-width:6; stroke-opacity:1; fill:none\" points=\"385.834,567.849 404.814,494.261 423.795,445.711 442.775,415.557 461.755,397.472 480.736,387.451 499.716,382.987 518.696,382.463 537.677,384.806 556.657,389.278 575.637,395.366 594.618,402.7 613.598,411.01 632.578,420.181 651.559,429.893 670.539,440.109 689.519,450.736 708.5,461.701 727.48,472.944 746.46,484.421 765.441,496.079 784.421,507.89 803.402,519.825 822.382,531.857 841.362,543.967 860.343,556.134 879.323,568.343 898.303,580.58 917.284,592.744 936.264,604.999 955.244,617.252 974.225,629.493 993.205,641.713 1012.19,653.906 1031.17,666.066 1050.15,678.188 1069.13,690.269 1088.11,702.304 1107.09,714.29 1126.07,726.225 1145.05,738.106 1164.03,749.932 1183.01,761.7 1201.99,773.409 1220.97,785.058 1239.95,796.648 1258.93,808.175 1277.91,819.641 1296.89,831.039 1315.87,842.291 1334.85,853.58 1353.83,864.803 1372.81,875.964 1391.79,887.063 1410.77,898.1 1429.75,909.082 1448.73,919.998 1467.71,930.852 1486.69,941.648 1505.67,952.385 1524.65,963.064 1543.64,973.685 1562.62,984.263 1581.6,994.77 1600.58,1005.22 1619.56,1015.62 1638.54,1025.96 1657.52,1036.25 1676.5,1046.48 1695.48,1056.67 1714.46,1066.8 1733.44,1076.92 1752.42,1086.94 1771.4,1096.92 1790.38,1106.85 1809.36,1116.73 1828.34,1126.55 1847.32,1136.34 1866.3,1146.07 1885.28,1155.76 1904.26,1165.39 1923.24,1174.99 1942.22,1184.53 1961.2,1194.16 1980.18,1203.6 1999.16,1213 2018.14,1222.36 2037.12,1231.67 2056.1,1240.94 2075.08,1250.16 2094.07,1259.34 2113.05,1268.48 2132.03,1277.57 2151.01,1286.62 2169.99,1295.63 2188.97,1304.59 2207.95,1313.51 2226.93,1322.39 2245.91,1331.22 2264.89,1340.01 \"/>\n",
       "<path clip-path=\"url(#clip690)\" d=\"M1546.44 542.432 L2254.87 542.432 L2254.87 199.792 L1546.44 199.792  Z\" fill=\"#ffffff\" fill-rule=\"evenodd\" fill-opacity=\"1\"/>\n",
       "<polyline clip-path=\"url(#clip690)\" style=\"stroke:#000000; stroke-linecap:round; stroke-linejoin:round; stroke-width:4; stroke-opacity:1; fill:none\" points=\"1546.44,542.432 2254.87,542.432 2254.87,199.792 1546.44,199.792 1546.44,542.432 \"/>\n",
       "<polyline clip-path=\"url(#clip690)\" style=\"stroke:#000000; stroke-linecap:round; stroke-linejoin:round; stroke-width:9.75; stroke-opacity:1; fill:none\" points=\"1568.57,314.005 1701.36,314.005 \"/>\n",
       "<path clip-path=\"url(#clip690)\" d=\"M1723.49 332.873 L1723.49 330.475 Q1727.64 330.475 1728.59 329.98 Q1729.54 329.447 1729.54 326.935 L1729.54 306.039 Q1729.54 303.147 1728.52 302.423 Q1727.53 301.7 1723.49 301.7 L1723.49 299.264 L1734.45 298.427 L1734.45 306.61 Q1738.11 298.427 1745.99 298.427 Q1751.85 298.427 1754.17 301.32 Q1755.88 303.261 1756.22 305.43 Q1756.61 307.6 1756.61 313.233 L1756.61 328.115 Q1756.68 329.751 1757.94 330.132 Q1759.19 330.475 1762.7 330.475 L1762.7 332.873 Q1754.74 332.644 1753.94 332.644 Q1753.33 332.644 1745.15 332.873 L1745.15 330.475 Q1749.3 330.475 1750.25 329.98 Q1751.24 329.447 1751.24 326.935 L1751.24 308.78 Q1751.24 304.821 1750.02 302.499 Q1748.8 300.14 1745.45 300.14 Q1741.42 300.14 1738.18 303.527 Q1734.95 306.915 1734.95 312.624 L1734.95 326.935 Q1734.95 329.447 1735.9 329.98 Q1736.89 330.475 1741 330.475 L1741 332.873 Q1733.05 332.644 1732.28 332.644 Q1731.68 332.644 1723.49 332.873 Z\" fill=\"#000000\" fill-rule=\"nonzero\" fill-opacity=\"1\" /><path clip-path=\"url(#clip690)\" d=\"M1773.33 328.686 Q1768.19 323.586 1768.19 316.202 Q1768.19 308.78 1773.21 303.375 Q1778.27 297.932 1785.51 297.932 Q1792.58 297.932 1797.65 303.337 Q1802.75 308.703 1802.75 316.202 Q1802.75 323.547 1797.61 328.648 Q1792.51 333.748 1785.43 333.748 Q1778.5 333.748 1773.33 328.686 M1774.66 315.555 Q1774.66 323.129 1776.64 326.554 Q1779.68 331.769 1785.51 331.769 Q1788.4 331.769 1790.8 330.208 Q1793.23 328.648 1794.56 326.021 Q1796.28 322.596 1796.28 315.555 Q1796.28 308.056 1794.22 304.745 Q1791.18 299.683 1785.43 299.683 Q1782.92 299.683 1780.44 301.015 Q1778.01 302.309 1776.52 304.897 Q1774.66 308.323 1774.66 315.555 Z\" fill=\"#000000\" fill-rule=\"nonzero\" fill-opacity=\"1\" /><path clip-path=\"url(#clip690)\" d=\"M1827.39 316.125 Q1827.39 308.703 1832.56 303.565 Q1837.74 298.427 1844.74 298.427 Q1850.68 298.427 1854.56 303.261 L1854.56 286.399 Q1854.56 283.507 1853.53 282.784 Q1852.54 282.06 1848.51 282.06 L1848.51 279.625 L1859.74 278.787 L1859.74 326.098 Q1859.74 328.99 1860.73 329.751 Q1861.75 330.475 1865.79 330.475 L1865.79 332.873 L1854.33 333.748 L1854.33 328.572 Q1850.3 333.71 1843.9 333.748 Q1837.2 333.748 1832.29 328.61 Q1827.39 323.471 1827.39 316.125 M1833.86 316.202 Q1833.86 323.433 1836.1 327.011 Q1839.22 331.997 1844.28 331.997 Q1850.07 331.997 1853.5 326.554 Q1854.37 325.222 1854.33 323.662 L1854.33 307.676 Q1854.33 306.115 1853.5 304.821 Q1850.3 300.14 1845.08 300.14 Q1839.64 300.14 1836.25 305.126 Q1833.86 308.856 1833.86 316.202 Z\" fill=\"#000000\" fill-rule=\"nonzero\" fill-opacity=\"1\" /><path clip-path=\"url(#clip690)\" d=\"M1870.52 315.707 Q1870.52 308.361 1875.24 303.147 Q1879.96 297.932 1886.73 297.932 Q1893.59 297.932 1897.13 302.385 Q1900.7 306.838 1900.7 313.233 Q1900.7 314.413 1900.4 314.641 Q1900.09 314.869 1898.76 314.869 L1876.99 314.869 Q1876.99 322.824 1879.35 326.554 Q1882.62 331.769 1888.14 331.769 Q1888.9 331.769 1889.82 331.616 Q1890.73 331.464 1892.6 330.817 Q1894.46 330.132 1896.1 328.343 Q1897.73 326.554 1898.69 323.738 Q1898.91 322.634 1899.68 322.672 Q1900.7 322.672 1900.7 323.586 Q1900.7 324.271 1899.94 325.831 Q1899.22 327.354 1897.81 329.181 Q1896.4 331.007 1893.66 332.378 Q1890.96 333.748 1887.69 333.748 Q1880.84 333.748 1875.66 328.572 Q1870.52 323.357 1870.52 315.707 M1877.07 313.233 L1895.57 313.233 Q1895.57 311.596 1895.26 309.769 Q1894.99 307.942 1894.16 305.43 Q1893.36 302.88 1891.45 301.281 Q1889.55 299.683 1886.73 299.683 Q1885.48 299.683 1884.11 300.216 Q1882.78 300.749 1881.14 302.043 Q1879.5 303.337 1878.36 306.268 Q1877.22 309.198 1877.07 313.233 Z\" fill=\"#000000\" fill-rule=\"nonzero\" fill-opacity=\"1\" /><path clip-path=\"url(#clip690)\" d=\"M1909.74 328.61 Q1904.79 323.433 1904.79 316.049 Q1904.79 308.627 1909.66 303.299 Q1914.53 297.932 1921.69 297.932 Q1926.44 297.932 1930.02 300.216 Q1933.6 302.461 1933.6 306.306 Q1933.6 308.018 1932.57 309.008 Q1931.58 309.96 1930.02 309.96 Q1928.39 309.96 1927.4 308.97 Q1926.44 307.942 1926.44 306.382 Q1926.44 305.697 1926.67 305.012 Q1926.9 304.326 1927.74 303.603 Q1928.61 302.88 1930.1 302.766 Q1927.32 299.911 1921.91 299.911 Q1921.84 299.911 1921.76 299.911 Q1917.8 299.911 1914.53 303.641 Q1911.26 307.371 1911.26 315.897 Q1911.26 320.35 1912.32 323.624 Q1913.43 326.859 1915.22 328.534 Q1917 330.208 1918.76 331.007 Q1920.51 331.769 1922.22 331.769 Q1929.87 331.769 1932.46 323.586 Q1932.69 322.824 1933.45 322.824 Q1934.47 322.824 1934.47 323.586 Q1934.47 323.966 1934.17 324.956 Q1933.87 325.945 1932.91 327.506 Q1931.96 329.066 1930.59 330.437 Q1929.26 331.769 1926.86 332.758 Q1924.5 333.748 1921.53 333.748 Q1914.68 333.748 1909.74 328.61 Z\" fill=\"#000000\" fill-rule=\"nonzero\" fill-opacity=\"1\" /><path clip-path=\"url(#clip690)\" d=\"M1938.43 325.451 Q1938.43 318.828 1946.23 315.326 Q1950.91 313.081 1960.58 312.51 L1960.58 309.655 Q1960.58 304.821 1958.03 302.271 Q1955.52 299.683 1952.32 299.683 Q1946.61 299.683 1943.87 303.261 Q1946.19 303.337 1947.03 304.517 Q1947.87 305.659 1947.87 306.838 Q1947.87 308.399 1946.88 309.427 Q1945.93 310.416 1944.29 310.416 Q1942.73 310.416 1941.7 309.465 Q1940.68 308.475 1940.68 306.762 Q1940.68 302.956 1944.1 300.444 Q1947.56 297.932 1952.47 297.932 Q1958.87 297.932 1963.13 302.233 Q1964.46 303.565 1965.11 305.278 Q1965.8 306.991 1965.87 308.133 Q1965.95 309.236 1965.95 311.444 L1965.95 327.011 Q1965.95 327.468 1966.1 328.229 Q1966.25 328.99 1966.94 329.98 Q1967.66 330.931 1968.84 330.931 Q1971.66 330.931 1971.62 325.945 L1971.62 321.568 L1973.6 321.568 L1973.6 325.945 Q1973.6 330.094 1971.39 331.731 Q1969.22 333.329 1967.2 333.329 Q1964.62 333.329 1962.98 331.426 Q1961.34 329.523 1961.11 326.935 Q1959.93 329.904 1957.23 331.845 Q1954.57 333.748 1950.91 333.748 Q1948.1 333.748 1945.43 333.025 Q1942.81 332.34 1940.6 330.399 Q1938.43 328.419 1938.43 325.451 M1944.44 325.374 Q1944.44 328.267 1946.5 330.132 Q1948.55 331.997 1951.45 331.997 Q1954.72 331.997 1957.65 329.485 Q1960.58 326.935 1960.58 321.949 L1960.58 314.146 Q1951.94 314.451 1948.17 317.914 Q1944.44 321.34 1944.44 325.374 Z\" fill=\"#000000\" fill-rule=\"nonzero\" fill-opacity=\"1\" /><path clip-path=\"url(#clip690)\" d=\"M1972.97 342.54 Q1972.97 340.903 1973.92 340.028 Q1974.91 339.191 1976.24 339.191 Q1977.65 339.191 1978.57 340.066 Q1979.52 340.98 1979.52 342.464 Q1979.52 345.357 1976.47 345.737 Q1977.96 347.146 1980.13 347.146 Q1982.45 347.146 1984.31 345.433 Q1986.22 343.72 1987.02 342.083 Q1987.85 340.447 1989.03 337.478 Q1990.14 335.156 1990.97 332.873 L1979.29 304.403 Q1978.53 302.538 1977.35 302.119 Q1976.17 301.7 1972.97 301.7 L1972.97 299.264 Q1976.47 299.493 1980.55 299.493 Q1982.94 299.493 1989.03 299.264 L1989.03 301.7 Q1984.66 301.7 1984.66 303.717 Q1984.66 303.946 1985.11 305.126 L1993.79 326.098 L2001.67 306.915 Q2002.13 305.811 2002.13 305.05 Q2002.13 301.852 1998.47 301.7 L1998.47 299.264 Q2003.61 299.493 2005.25 299.493 Q2008.44 299.493 2011.07 299.264 L2011.07 301.7 Q2005.86 301.7 2003.84 306.686 L1990.1 339.952 Q1986.37 348.82 1980.13 348.858 Q1977.16 348.858 1975.06 347.031 Q1972.97 345.204 1972.97 342.54 Z\" fill=\"#000000\" fill-rule=\"nonzero\" fill-opacity=\"1\" /><polyline clip-path=\"url(#clip690)\" style=\"stroke:#0000ff; stroke-linecap:round; stroke-linejoin:round; stroke-width:9.75; stroke-opacity:1; fill:none\" points=\"1568.57,428.219 1701.36,428.219 \"/>\n",
       "<path clip-path=\"url(#clip690)\" d=\"M1767.22 433.028 Q1767.15 433.409 1767 434.094 Q1766.84 434.741 1766.16 436.797 Q1765.47 438.852 1764.56 440.945 Q1763.68 443.001 1761.97 445.893 Q1760.3 448.748 1758.24 451.336 Q1757.67 452.021 1757.56 452.44 Q1757.48 452.82 1757.48 454.076 Q1757.48 461.993 1759.88 461.993 Q1759.99 461.993 1760.18 461.993 Q1760.41 461.955 1760.98 461.765 Q1761.59 461.537 1762.12 461.194 Q1762.66 460.813 1763.27 460.052 Q1763.88 459.253 1764.26 458.187 Q1764.6 457.426 1765.28 457.426 Q1766.2 457.426 1766.2 458.187 Q1766.2 459.557 1764.29 461.651 Q1762.39 463.744 1759.65 463.744 Q1757.02 463.744 1755.16 462.031 Q1753.33 460.281 1752.57 457.159 Q1744.35 463.744 1736.13 463.744 Q1730.34 463.744 1726.92 459.976 Q1723.49 456.17 1723.49 450.537 Q1723.49 445.132 1726.46 439.994 Q1729.47 434.855 1734.34 431.658 Q1739.25 428.423 1744.46 428.423 Q1746.29 428.423 1748.04 428.918 Q1749.79 429.375 1751.54 430.554 Q1753.29 431.734 1754.59 433.523 Q1755.88 435.312 1756.68 438.129 Q1757.48 440.945 1757.48 444.485 L1757.48 449.319 Q1762.5 442.963 1765.13 433.866 Q1765.51 432.496 1765.74 432.343 Q1765.89 432.229 1766.27 432.229 Q1766.65 432.229 1766.88 432.458 Q1767.15 432.648 1767.19 432.838 L1767.22 433.028 M1752.27 455.142 Q1752.11 453.81 1752.11 446.426 Q1752.11 445.018 1752.11 444.257 Q1752.11 443.457 1752.04 441.935 Q1751.96 440.412 1751.81 439.461 Q1751.7 438.509 1751.43 437.139 Q1751.16 435.769 1750.78 434.894 Q1750.4 434.018 1749.79 433.028 Q1749.22 432.039 1748.46 431.468 Q1747.74 430.897 1746.67 430.516 Q1745.64 430.136 1744.39 430.136 Q1742.83 430.136 1741.19 430.707 Q1739.59 431.24 1737.54 432.952 Q1735.48 434.627 1733.77 437.291 Q1731.98 440.108 1730.61 445.284 Q1729.28 450.423 1729.28 453.506 Q1729.28 457.388 1731.07 459.71 Q1732.85 461.993 1736.28 461.993 Q1744.46 461.993 1752.27 455.142 Z\" fill=\"#000000\" fill-rule=\"nonzero\" fill-opacity=\"1\" /><path clip-path=\"url(#clip690)\" d=\"M1775.12 454.18 L1775.12 452.474 Q1781.68 452.474 1785.06 448.984 Q1785.99 448.984 1786.15 449.197 Q1786.31 449.41 1786.31 450.396 L1786.31 481.009 Q1786.31 482.634 1787.11 483.141 Q1787.91 483.647 1791.4 483.647 L1793.13 483.647 L1793.13 485.325 Q1791.22 485.165 1784.29 485.165 Q1777.36 485.165 1775.47 485.325 L1775.47 483.647 L1777.2 483.647 Q1780.64 483.647 1781.47 483.167 Q1782.29 482.661 1782.29 481.009 L1782.29 452.741 Q1779.44 454.18 1775.12 454.18 Z\" fill=\"#000000\" fill-rule=\"nonzero\" fill-opacity=\"1\" /><path clip-path=\"url(#clip690)\" d=\"M1822.9 451.032 Q1822.97 450.08 1824.46 450.08 L1872.23 450.08 Q1874.47 450.08 1874.51 450.955 Q1874.51 451.907 1872.38 451.869 L1824.99 451.869 Q1822.9 451.907 1822.9 451.032 M1822.9 435.807 Q1822.9 434.855 1824.54 434.894 L1872.15 434.894 Q1874.47 434.894 1874.51 435.807 Q1874.51 436.682 1872.53 436.682 L1824.46 436.682 Q1822.9 436.682 1822.9 435.807 Z\" fill=\"#000000\" fill-rule=\"nonzero\" fill-opacity=\"1\" /><path clip-path=\"url(#clip690)\" d=\"M1904.58 418.375 L1904.58 415.939 Q1913.94 415.939 1918.77 410.953 Q1920.1 410.953 1920.33 411.257 Q1920.56 411.562 1920.56 412.97 L1920.56 456.703 Q1920.56 459.024 1921.7 459.748 Q1922.85 460.471 1927.83 460.471 L1930.31 460.471 L1930.31 462.869 Q1927.56 462.64 1917.67 462.64 Q1907.77 462.64 1905.07 462.869 L1905.07 460.471 L1907.54 460.471 Q1912.45 460.471 1913.63 459.786 Q1914.81 459.063 1914.81 456.703 L1914.81 416.32 Q1910.74 418.375 1904.58 418.375 Z\" fill=\"#000000\" fill-rule=\"nonzero\" fill-opacity=\"1\" /><path clip-path=\"url(#clip690)\" d=\"M1943.18 437.938 Q1943.18 426.482 1946.07 420.24 Q1950.1 410.953 1959.62 410.953 Q1961.64 410.953 1963.73 411.524 Q1965.86 412.057 1968.53 414.15 Q1971.23 416.243 1972.87 419.669 Q1975.99 426.292 1975.99 437.938 Q1975.99 449.319 1973.09 455.523 Q1968.87 464.581 1959.54 464.581 Q1956.04 464.581 1952.46 462.793 Q1948.92 461.004 1946.68 456.703 Q1943.18 450.27 1943.18 437.938 M1949.65 436.987 Q1949.65 448.748 1950.48 453.429 Q1951.44 458.492 1954.02 460.699 Q1956.65 462.869 1959.54 462.869 Q1962.66 462.869 1965.25 460.547 Q1967.88 458.187 1968.68 453.125 Q1969.55 448.139 1969.52 436.987 Q1969.52 426.139 1968.75 421.8 Q1967.73 416.738 1964.99 414.721 Q1962.28 412.666 1959.54 412.666 Q1958.52 412.666 1957.41 412.97 Q1956.35 413.275 1954.79 414.15 Q1953.23 415.025 1952.01 417.195 Q1950.83 419.364 1950.26 422.638 Q1949.65 426.863 1949.65 436.987 Z\" fill=\"#000000\" fill-rule=\"nonzero\" fill-opacity=\"1\" /><path clip-path=\"url(#clip690)\" d=\"M2020 408.012 Q2020.32 408.332 2020.32 408.785 Q2020.32 409.238 2020 409.557 Q2019.68 409.877 2019.23 409.877 L1985.07 409.877 Q1984.62 409.877 1984.3 409.557 Q1983.98 409.238 1983.98 408.785 Q1983.98 408.332 1984.3 408.012 Q1984.62 407.692 1985.07 407.692 L2019.23 407.692 Q2019.68 407.692 2020 408.012 Z\" fill=\"#000000\" fill-rule=\"nonzero\" fill-opacity=\"1\" /><path clip-path=\"url(#clip690)\" d=\"M2026.02 422.426 Q2026.02 421.44 2026.1 421.147 Q2026.2 420.854 2026.63 420.401 L2037.1 408.731 Q2042.83 402.284 2042.83 396.662 Q2042.83 393.012 2040.91 390.401 Q2039.02 387.79 2035.53 387.79 Q2033.13 387.79 2031.11 389.255 Q2029.08 390.721 2028.15 393.332 Q2028.31 393.278 2028.87 393.278 Q2030.23 393.278 2030.97 394.131 Q2031.75 394.984 2031.75 396.129 Q2031.75 397.595 2030.79 398.314 Q2029.85 399.007 2028.92 399.007 Q2028.55 399.007 2028.04 398.927 Q2027.56 398.847 2026.79 398.101 Q2026.02 397.328 2026.02 395.969 Q2026.02 392.159 2028.89 389.122 Q2031.8 386.085 2036.22 386.085 Q2041.23 386.085 2044.51 389.069 Q2047.81 392.026 2047.81 396.662 Q2047.81 398.287 2047.31 399.779 Q2046.83 401.245 2046.16 402.39 Q2045.52 403.536 2043.76 405.374 Q2042 407.213 2040.59 408.518 Q2039.18 409.824 2036.01 412.595 L2030.23 418.216 L2040.06 418.216 Q2044.85 418.216 2045.23 417.79 Q2045.76 417.017 2046.43 412.941 L2047.81 412.941 L2046.27 422.426 L2026.02 422.426 Z\" fill=\"#000000\" fill-rule=\"nonzero\" fill-opacity=\"1\" /><path clip-path=\"url(#clip690)\" d=\"M2047.88 413.421 L2047.88 411.742 L2064.64 386.138 Q2065.06 385.472 2065.73 385.499 Q2066.34 385.499 2066.47 385.738 Q2066.61 385.978 2066.61 386.911 L2066.61 411.742 L2072.07 411.742 L2072.07 413.421 L2066.61 413.421 L2066.61 418.163 Q2066.61 419.735 2067.25 420.241 Q2067.91 420.747 2070.74 420.747 L2071.88 420.747 L2071.88 422.426 Q2069.64 422.266 2064.48 422.266 Q2059.33 422.266 2057.1 422.426 L2057.1 420.747 L2058.24 420.747 Q2061.07 420.747 2061.73 420.268 Q2062.4 419.762 2062.4 418.163 L2062.4 413.421 L2047.88 413.421 M2049.42 411.742 L2062.72 411.742 L2062.72 391.387 L2049.42 411.742 Z\" fill=\"#000000\" fill-rule=\"nonzero\" fill-opacity=\"1\" /><path clip-path=\"url(#clip690)\" d=\"M2103.81 445.703 Q2103.81 438.357 2108.53 433.143 Q2113.25 427.928 2120.03 427.928 Q2126.88 427.928 2130.42 432.381 Q2134 436.835 2134 443.229 Q2134 444.409 2133.69 444.637 Q2133.39 444.866 2132.06 444.866 L2110.28 444.866 Q2110.28 452.82 2112.64 456.55 Q2115.92 461.765 2121.44 461.765 Q2122.2 461.765 2123.11 461.613 Q2124.03 461.46 2125.89 460.813 Q2127.76 460.128 2129.39 458.339 Q2131.03 456.55 2131.98 453.734 Q2132.21 452.63 2132.97 452.668 Q2134 452.668 2134 453.582 Q2134 454.267 2133.24 455.827 Q2132.51 457.35 2131.1 459.177 Q2129.7 461.004 2126.96 462.374 Q2124.25 463.744 2120.98 463.744 Q2114.13 463.744 2108.95 458.568 Q2103.81 453.353 2103.81 445.703 M2110.36 443.229 L2128.86 443.229 Q2128.86 441.592 2128.55 439.765 Q2128.29 437.938 2127.45 435.426 Q2126.65 432.876 2124.75 431.278 Q2122.85 429.679 2120.03 429.679 Q2118.77 429.679 2117.4 430.212 Q2116.07 430.745 2114.43 432.039 Q2112.8 433.333 2111.66 436.264 Q2110.51 439.194 2110.36 443.229 Z\" fill=\"#000000\" fill-rule=\"nonzero\" fill-opacity=\"1\" /><path clip-path=\"url(#clip690)\" d=\"M2139.64 412.057 L2139.64 409.621 Q2148.05 409.849 2149.54 409.849 Q2157.87 409.849 2160.69 409.621 L2160.69 412.057 Q2154.29 412.057 2154.29 414.302 Q2154.29 414.607 2154.75 415.711 L2169.63 455.066 L2183.91 417.499 Q2184.29 416.32 2184.29 415.939 Q2184.29 414.378 2182.84 413.275 Q2181.43 412.133 2178.62 412.057 L2178.62 409.621 Q2184.71 409.849 2187.48 409.849 Q2191.44 409.849 2195.06 409.621 L2195.06 412.057 Q2188.51 412.133 2186.57 417.271 L2169.18 463.097 Q2168.87 464.049 2168.57 464.315 Q2168.26 464.581 2167.31 464.581 Q2166.55 464.581 2166.13 464.277 Q2165.75 463.972 2165.37 462.869 L2147.29 415.025 Q2146.53 412.932 2145.16 412.513 Q2143.79 412.057 2139.64 412.057 Z\" fill=\"#000000\" fill-rule=\"nonzero\" fill-opacity=\"1\" /><path clip-path=\"url(#clip690)\" d=\"M2202.84 407.107 Q2202.84 406.121 2202.92 405.828 Q2203.02 405.535 2203.45 405.082 L2213.92 393.413 Q2219.65 386.965 2219.65 381.343 Q2219.65 377.693 2217.73 375.082 Q2215.84 372.471 2212.35 372.471 Q2209.95 372.471 2207.92 373.937 Q2205.9 375.402 2204.97 378.013 Q2205.13 377.96 2205.69 377.96 Q2207.05 377.96 2207.79 378.812 Q2208.56 379.665 2208.56 380.811 Q2208.56 382.276 2207.6 382.995 Q2206.67 383.688 2205.74 383.688 Q2205.37 383.688 2204.86 383.608 Q2204.38 383.528 2203.61 382.782 Q2202.84 382.01 2202.84 380.651 Q2202.84 376.841 2205.71 373.803 Q2208.62 370.766 2213.04 370.766 Q2218.05 370.766 2221.33 373.75 Q2224.63 376.708 2224.63 381.343 Q2224.63 382.969 2224.12 384.461 Q2223.64 385.926 2222.98 387.072 Q2222.34 388.217 2220.58 390.056 Q2218.82 391.894 2217.41 393.2 Q2216 394.505 2212.83 397.276 L2207.05 402.898 L2216.88 402.898 Q2221.67 402.898 2222.05 402.471 Q2222.58 401.699 2223.24 397.622 L2224.63 397.622 L2223.08 407.107 L2202.84 407.107 Z\" fill=\"#000000\" fill-rule=\"nonzero\" fill-opacity=\"1\" /></svg>\n"
      ]
     },
     "execution_count": 119,
     "metadata": {},
     "output_type": "execute_result"
    }
   ],
   "source": [
    "plot(\n",
    "    es_dsnb,\n",
    "    dsnb_nodecay_IO_nuebar_low,\n",
    "    alpha=0,\n",
    "    fillrange=dsnb_nodecay_IO_nuebar_high,\n",
    "    fillalpha=0.2,\n",
    "    fillcolor=:green,\n",
    "    yscale=:log10,\n",
    "    label=false,\n",
    "    xlabel=L\"E_\\nu~[\\mathrm{MeV}]\",\n",
    "    ylabel=L\"\\phi_{\\bar{\\nu}_e}~\\mathrm{[MeV^{-1}~cm^{-2}~s^{-1}]}\",\n",
    "    xlabelfontsize=15,\n",
    "    ylabelfontsize=15,\n",
    "    margins=3Plots.mm\n",
    ")\n",
    "plot!(\n",
    "    es_dsnb,\n",
    "    dsnb_nodecay_IO_nuebar,\n",
    "    lw=1.5,\n",
    "    c=:black,\n",
    "    label=L\"\\mathrm{no~decay}\",\n",
    "    legendfontsize=13\n",
    ")\n",
    "plot!(\n",
    "    es_dsnb,\n",
    "    dsnb_vdecay_1to3_nuebar,\n",
    "    lw=1.5,\n",
    "    c=:blue,\n",
    "    label=L\"\\alpha_1 = 10^{-24}~\\mathrm{eV}^2\",\n",
    "    title=L\"\\nu_1/\\bar{\\nu}_1 \\to \\bar{\\nu}_3\",\n",
    "    titlefontsize=15\n",
    ")"
   ]
  },
  {
   "cell_type": "code",
   "execution_count": null,
   "metadata": {},
   "outputs": [],
   "source": [
    "range()"
   ]
  },
  {
   "cell_type": "code",
   "execution_count": 19,
   "metadata": {},
   "outputs": [],
   "source": [
    "# 3ν NO SH treatment\n",
    "\n",
    "function branch_3ν_NO(j, i)\n",
    "    if j == 3\n",
    "        return 0.25\n",
    "    elseif j == 2\n",
    "        return 0.5\n",
    "    else\n",
    "        return println(\"error: j is not a valid index\")\n",
    "    end\n",
    "end\n",
    "\n",
    "#=\n",
    "function DSNB_vdecay_3_NO(E, z0, α3, threebar, bh_frac, normchoice)\n",
    "    function decay_integrand(E, z0, z, α3, threebar, bh_frac, normchoice)\n",
    "        if α3 == 0\n",
    "            return DSNB_integrand(E, z0, z, 3, threebar, \"NO\", bh_frac, normchoice)\n",
    "        else\n",
    "            int = DSNB_integrand(E, z0, z, 3, threebar, \"NO\", bh_frac, normchoice)*decay(E, α3, z0, z) \n",
    "            if isnan(int) || isinf(int)\n",
    "                return 0.0\n",
    "            else\n",
    "                return int\n",
    "            end\n",
    "        end\n",
    "    end\n",
    "    return 1/(1+z0) * quadgk(z -> decay_integrand(E, z0, z, α3, threebar, bh_frac, normchoice), z0, 5, rtol=1e-2)[1]\n",
    "end\n",
    "=#\n",
    "\n",
    "function q3icontrib_NO(E, z0, z, α3, threebar, i, ibar, bh_frac, normchoice)\n",
    "    if threebar == ibar\n",
    "        hc = true\n",
    "    else\n",
    "        hc = false\n",
    "    end\n",
    "\n",
    "    Ers = E*(1+z)/(1+z0)\n",
    "\n",
    "    qnorm = 3.086e19 * 1.516e15 * 1e6 / (3e8 * 1e12)\n",
    "    integrand(Eprime, z) = qnorm * (c0/Hubble(z))*DSNB_idecay(Eprime, z, α3, 3, threebar, \"NO\", bh_frac, normchoice) * (α3 * branch_3ν_NO(3, i)/Eprime) * ψSH(Eprime, Ers, hc)\n",
    "    \n",
    "    Emax = Ers + 50\n",
    "\n",
    "    return quadgk(Eprime -> integrand(Eprime, z), Ers, Emax, rtol=1e-2)[1]\n",
    "\n",
    "end\n",
    "\n",
    "function DSNB_vdecay_2_NO(E, z0, α3, α2, twobar, bh_frac, normchoice)\n",
    "    integrand(z) = (DSNB_integrand(E, z0, z, 2, twobar, \"NO\", bh_frac, normchoice) +\n",
    "                          q3icontrib_NO(E, z0, z, α3, true, 2, twobar, bh_frac, normchoice) + q3icontrib_NO(E, z0, z, α3, false, 2, twobar, bh_frac, normchoice))*decay(E, α2, z0, z)\n",
    "    zcut = zcutoff(E, α2, z0)\n",
    "    if zcut > z0 && zcut < 5 && decay(E, α2, z0, zcut) < 0.1\n",
    "        return (1/(1+z0)) * quadgk(z -> integrand(z), z0, zcut, 5, rtol=1e-2)[1]\n",
    "    else\n",
    "        return (1/(1+z0)) * quadgk(z -> integrand(z), z0, 5, rtol=1e-2)[1]\n",
    "    end\n",
    "end\n",
    "\n",
    "# Old and slower implementation\n",
    "#=\n",
    "function q21contrib_NO(E, z0, z, α3, α2, twobar, onebar, bh_frac, normchoice)\n",
    "    if twobar == onebar\n",
    "        hc = true\n",
    "    else\n",
    "        hc = false\n",
    "    end\n",
    "\n",
    "    Ers = E*(1+z)/(1+z0)\n",
    "\n",
    "    qnorm = 3.086e19 * 1.516e15 * 1e6 / (3e8 * 1e12)\n",
    "    integrand(Eprime, z) = qnorm * (c0/Hubble(z))*DSNB_vdecay_2_NO(Eprime, z, α3, α2, twobar, bh_frac, normchoice) * (α2 * branch_3ν_NO(2, 1)/Eprime) * ψSH(Eprime, Ers, hc)\n",
    "    \n",
    "    Emax = Ers + 50\n",
    "\n",
    "    return quadgk(Eprime -> integrand(Eprime, z), Ers, Emax, rtol=1e-2)[1]\n",
    "\n",
    "end\n",
    "=#\n",
    "\n",
    "function q21contrib_NO(E, z0, z, α3, α2, twobar, onebar, bh_frac, normchoice)\n",
    "    if twobar == onebar\n",
    "        hc = true\n",
    "    else\n",
    "        hc = false\n",
    "    end\n",
    "\n",
    "    Ers = E*(1+z)/(1+z0)\n",
    "\n",
    "    qnorm = 3.086e19 * 1.516e15 * 1e6 / (3e8 * 1e12)\n",
    "    integrand(Eprime, z) = qnorm * (c0/Hubble(z))*DSNB_vdecay_2_NO(Eprime, z, α3, α2, twobar, bh_frac, normchoice) * (α2 * branch_3ν_NO(2, 1)/Eprime) * ψSH(Eprime, Ers, hc)\n",
    "    \n",
    "    Emax = Ers + 50\n",
    "\n",
    "    Ecutoff = 1.5*100^(1/3)*Ers\n",
    "    if Ecutoff < Emax && (ψSH(Ecutoff, Ers, hc)/Ecutoff)/(ψSH(Ers, Ers, hc)/Ers) < 0.1\n",
    "        return quadgk(Eprime -> integrand(Eprime, z), Ers, Ecutoff, Emax, rtol=1e-2)[1]\n",
    "    else\n",
    "        return quadgk(Eprime -> integrand(Eprime, z), Ers, Emax, rtol=1e-2)[1]\n",
    "    end\n",
    "end\n",
    "\n",
    "# z0 is always 0 here because we're only concerned with the flux at Earth\n",
    "function DSNB_vdecay_1_NO(E, α3, α2, onebar, bh_frac, normchoice)\n",
    "    integrand(z) = (DSNB_integrand(E, 0, z, 1, onebar, \"NO\", bh_frac, normchoice)\n",
    "                    + q21contrib_NO(E, 0, z, α3, α2, true, onebar, bh_frac, normchoice)\n",
    "                    + q21contrib_NO(E, 0, z, α3, α2, false, onebar, bh_frac, normchoice)\n",
    "                    + q3icontrib_NO(E, 0, z, α3, true, 1, onebar, bh_frac, normchoice)\n",
    "                    + q3icontrib_NO(E, 0, z, α3, false, 1, onebar, bh_frac, normchoice))\n",
    "    return quadgk(z -> integrand(z), 0, 5, rtol=1e-2)[1]\n",
    "end\n",
    "\n",
    "function DSNB_vdecay_3ν_νe_NO(E, α3, α2, nubar, bh_frac, normchoice)\n",
    "    ν3 = DSNB_idecay(E, 0, α3, 3, nubar, \"NO\", bh_frac, normchoice)\n",
    "    ν2 = DSNB_vdecay_2_NO(E, 0, α3, α2, nubar, bh_frac, normchoice)\n",
    "    ν1 = DSNB_vdecay_1_NO(E, α3, α2, nubar, bh_frac, normchoice)\n",
    "    return Usqred(\"NO\")[1, 1]*ν1 + Usqred(\"NO\")[1, 2]*ν2 + Usqred(\"NO\")[1, 3]*ν3\n",
    "end;  "
   ]
  },
  {
   "cell_type": "code",
   "execution_count": 26,
   "metadata": {},
   "outputs": [
    {
     "name": "stdout",
     "output_type": "stream",
     "text": [
      "  1.251210 seconds (14.35 M allocations: 225.513 MiB, 7.05% gc time)\n"
     ]
    },
    {
     "data": {
      "text/plain": [
       "0.1971904354140483"
      ]
     },
     "execution_count": 26,
     "metadata": {},
     "output_type": "execute_result"
    }
   ],
   "source": [
    "@time q21contrib_NO(10, 0, 0, 10^(-25), 10^(-25), true, true, \"21\", SNRnorm)"
   ]
  },
  {
   "cell_type": "code",
   "execution_count": 22,
   "metadata": {},
   "outputs": [
    {
     "name": "stdout",
     "output_type": "stream",
     "text": [
      "111.439053 seconds (1.49 G allocations: 22.971 GiB, 10.52% gc time)\n"
     ]
    },
    {
     "data": {
      "text/plain": [
       "0.5866483555543647"
      ]
     },
     "execution_count": 22,
     "metadata": {},
     "output_type": "execute_result"
    }
   ],
   "source": [
    "@time DSNB_vdecay_3ν_νe_NO(10, 0, 0, true, \"21\", SNRnorm)"
   ]
  },
  {
   "cell_type": "code",
   "execution_count": 20,
   "metadata": {},
   "outputs": [],
   "source": [
    "# 3ν IO treatment (2 → 1 QD, 2/1 → 3 SH)\n",
    "\n",
    "# Case A\n",
    "# ν2 → ν1, ν2 → ν3, no ν1 → ν3:\n",
    "# B_21 = 0.5 (no hf), B_23 = 0.25, B_13 = 0\n",
    "# NB: here if we want to only consider visible decays, we should set α1 to 0 always\n",
    "\n",
    "# Case B\n",
    "# ν2 → ν1, ν1 → ν3, no ν2 → ν3:\n",
    "# B_21 = 1 (no hf), B_13 = 0.5, B_23 = 0\n",
    "\n",
    "# Case C\n",
    "# ν2 → ν3, ν1 → ν3, no ν2 → ν1\n",
    "# B_23 = 0.5, B_13 = 0.5, B_21 = 0\n",
    "\n",
    "# Democratic\n",
    "# ν2 → ν3, ν1 → ν3, ν2 → ν1\n",
    "# B_21 = B_23 = 1/3, B_13 = 0.5\n",
    "\n",
    "# Note: supposing validity of SH and QD approximations, branching ratios are set in B and C\n",
    "\n",
    "function branching_3ν_IO(casechoice, j, jbar, i, ibar)\n",
    "    if casechoice == \"A\"\n",
    "        if j == 2 && i == 1 && jbar == ibar\n",
    "            return 0.5\n",
    "        elseif j == 2 && i == 3\n",
    "            return 0.25\n",
    "        else\n",
    "            return 0.0\n",
    "        end\n",
    "    elseif casechoice == \"B\"\n",
    "        if j == 2 && i == 1 && jbar == ibar\n",
    "            return 1.0\n",
    "        elseif j == 1 && i == 3\n",
    "            return 0.5\n",
    "        else \n",
    "            return 0.0\n",
    "        end\n",
    "    elseif casechoice == \"C\"\n",
    "        if j == 2 && i == 3\n",
    "            return 0.5\n",
    "        elseif j == 1 && i == 3\n",
    "            return 0.5\n",
    "        else\n",
    "            return 0.0\n",
    "        end\n",
    "    elseif casechoice == \"democratic\"\n",
    "        if (j == 2 && i == 1 && jbar == ibar) || (j == 2 && i == 3)\n",
    "            return 1/3\n",
    "        elseif j == 1 && i == 3\n",
    "            return 0.5\n",
    "        else\n",
    "            return 0.0\n",
    "        end\n",
    "    else\n",
    "        return 0.0\n",
    "    end\n",
    "end\n",
    "\n",
    "#=\n",
    "function DSNB_vdecay_2_IO(E, z0, α2, twobar, bh_frac, normchoice)\n",
    "    function decay_integrand(E, z0, z, α2, twobar, bh_frac, normchoice)\n",
    "        if α2 == 0\n",
    "            return DSNB_integrand(E, z0, z, 2, twobar, \"IO\", bh_frac, normchoice)\n",
    "        else\n",
    "            int = DSNB_integrand(E, z0, z, 2, twobar, \"IO\", bh_frac, normchoice)*decay(E, α2, z0, z) \n",
    "            if isnan(int) || isinf(int)\n",
    "                return 0.0\n",
    "            else\n",
    "                return int\n",
    "            end\n",
    "        end\n",
    "    end\n",
    "    return 1/(1+z0) * quadgk(z -> decay_integrand(E, z0, z, α2, twobar, bh_frac, normchoice), z0, 5, rtol=1e-2)[1]\n",
    "end\n",
    "=#\n",
    "\n",
    "function q21contrib_IO(E, z0, z, α2, nubar, casechoice, bh_frac, normchoice)\n",
    "\n",
    "    Ers = E*(1+z)/(1+z0)\n",
    "\n",
    "    qnorm = 3.086e19 * 1.516e15 * 1e6 / (3e8 * 1e12)\n",
    "    return qnorm * (c0/Hubble(z)) *  DSNB_idecay(Ers, z, α2, 2, nubar, \"IO\", bh_frac, normchoice) * (α2 * branching_3ν_IO(casechoice, 2, nubar, 1, nubar)/Ers)\n",
    "end\n",
    "\n",
    "function DSNB_vdecay_1_IO(E, z0, α2, α1, nubar, casechoice, bh_frac, normchoice)\n",
    "    if casechoice == \"A\"\n",
    "        α1 = 0\n",
    "    end\n",
    "    integrand(z) = (DSNB_integrand(E, z0, z, 1, nubar, \"IO\", bh_frac, normchoice) +\n",
    "                        q21contrib_IO(E, z0, z, α2, nubar, casechoice, bh_frac, normchoice))*decay(E, α1, z0, z)\n",
    "    zcut = zcutoff(E, α1, z0)\n",
    "    if zcut > z0 && zcut < 5 && decay(E, α1, z0, zcut) < 0.1\n",
    "        return (1/(1+z0)) * quadgk(z -> integrand(z), z0, zcut, 5, rtol=1e-2)[1]\n",
    "    else\n",
    "        return (1/(1+z0)) * quadgk(z -> integrand(z), z0, 5, rtol=1e-2)[1]\n",
    "    end\n",
    "end\n",
    "\n",
    "function q23contrib_IO(E, z0, z, α2, twobar, threebar, casechoice, bh_frac, normchoice)\n",
    "\n",
    "    if twobar == threebar\n",
    "        hc = true\n",
    "    else\n",
    "        hc = false\n",
    "    end\n",
    "\n",
    "    Ers = E*(1+z)/(1+z0)\n",
    "\n",
    "    qnorm = 3.086e19 * 1.516e15 * 1e6 / (3e8 * 1e12)\n",
    "    integrand(Eprime, z) = qnorm * (c0/Hubble(z))*DSNB_idecay(Eprime, z, α2, 2, twobar, \"IO\", bh_frac, normchoice) * (α2 * branching_3ν_IO(casechoice, 2, twobar, 3, threebar)/Eprime) * ψSH(Eprime, Ers, hc)\n",
    "\n",
    "    Emax = Ers + 50\n",
    "\n",
    "    Ecutoff = 1.5*100^(1/3)*Ers\n",
    "    if Ecutoff < Emax && (ψSH(Ecutoff, Ers, hc)/Ecutoff)/(ψSH(Ers, Ers, hc)/Ers) < 0.1\n",
    "        return quadgk(Eprime -> integrand(Eprime, z), Ers, Ecutoff, Emax, rtol=1e-2)[1]\n",
    "    else\n",
    "        return quadgk(Eprime -> integrand(Eprime, z), Ers, Emax, rtol=1e-2)[1]\n",
    "    end\n",
    "end\n",
    "\n",
    "function q13contrib_IO(E, z0, z, α2, α1, onebar, threebar, casechoice, bh_frac, normchoice)\n",
    "\n",
    "    if onebar == threebar\n",
    "        hc = true\n",
    "    else\n",
    "        hc = false\n",
    "    end\n",
    "\n",
    "    Ers = E*(1+z)/(1+z0)\n",
    "\n",
    "    qnorm = 3.086e19 * 1.516e15 * 1e6 / (3e8 * 1e12)\n",
    "    integrand(Eprime, z) = qnorm * (c0/Hubble(z))*DSNB_vdecay_1_IO(Eprime, z, α2, α1, onebar, casechoice, bh_frac, normchoice) * (α1 * branching_3ν_IO(casechoice, 1, onebar, 3, threebar)/Eprime) * ψSH(Eprime, Ers, hc)\n",
    "\n",
    "    Emax = Ers + 50\n",
    "\n",
    "    Ecutoff = 1.5*100^(1/3)*Ers\n",
    "    if Ecutoff < Emax && (ψSH(Ecutoff, Ers, hc)/Ecutoff)/(ψSH(Ers, Ers, hc)/Ers) < 0.1\n",
    "        return quadgk(Eprime -> integrand(Eprime, z), Ers, Ecutoff, Emax, rtol=1e-2)[1]\n",
    "    else\n",
    "        return quadgk(Eprime -> integrand(Eprime, z), Ers, Emax, rtol=1e-2)[1]\n",
    "    end\n",
    "end\n",
    "\n",
    "function q13contrib_IO_test(E, z0, z, α2, α1, onebar, threebar, casechoice, bh_frac, normchoice)\n",
    "\n",
    "    if onebar == threebar\n",
    "        hc = true\n",
    "    else\n",
    "        hc = false\n",
    "    end\n",
    "\n",
    "    Ers = E*(1+z)/(1+z0)\n",
    "\n",
    "    qnorm = 3.086e19 * 1.516e15 * 1e6 / (3e8 * 1e12)\n",
    "    integrand(Eprime) = qnorm * (c0/Hubble(z))*DSNB_vdecay_1_IO(Eprime, z, α2, α1, onebar, casechoice, bh_frac, normchoice) * (α1 * branching_3ν_IO(casechoice, 1, onebar, 3, threebar)/Eprime) * ψSH(Eprime, Ers, hc)\n",
    "\n",
    "    Emax = Ers + 50\n",
    "    #=\n",
    "    if Emax > 100\n",
    "        return quadgk(Eprime -> integrand(Eprime), Ers, 100, Inf, rtol=1e-2)[1]\n",
    "    else\n",
    "        return quadgk(Eprime -> integrand(Eprime), Ers, Emax, rtol=1e-2)[1]\n",
    "    end\n",
    "    =#\n",
    "    return quadgk(u -> integrand(u*(1+z))*(1+z), E/(1+z0), (E/(1+z0))+50, rtol=1e-2)[1]\n",
    "end\n",
    "\n",
    "function DSNB_vdecay_3_IO(E, α2, α1, threebar, casechoice, bh_frac, normchoice)\n",
    "    integrand(z) = (DSNB_integrand(E, 0, z, 3, threebar, \"IO\", bh_frac, normchoice)\n",
    "                    + q23contrib_IO(E, 0, z, α2, true, threebar, casechoice, bh_frac, normchoice)\n",
    "                    + q23contrib_IO(E, 0, z, α2, false, threebar, casechoice, bh_frac, normchoice)\n",
    "                    + q13contrib_IO(E, 0, z, α2, α1, true, threebar, casechoice, bh_frac, normchoice)\n",
    "                    + q13contrib_IO(E, 0, z, α2, α1, false, threebar, casechoice, bh_frac, normchoice))\n",
    "    return quadgk(z -> integrand(z), 0, 5, rtol=1e-2)[1]\n",
    "end\n",
    "\n",
    "function DSNB_vdecay_3ν_νe_IO(E, α2, α1, nubar, casechoice, bh_frac, normchoice)\n",
    "\n",
    "    ν3 = DSNB_vdecay_3_IO(E, α2, α1, nubar, casechoice, bh_frac, normchoice)\n",
    "    ν2 = DSNB_idecay(E, 0, α2, 2, nubar, \"IO\", bh_frac, normchoice)\n",
    "    ν1 = DSNB_vdecay_1_IO(E, 0, α2, α1, nubar, casechoice, bh_frac, normchoice)\n",
    "    \n",
    "    return Usqred(\"IO\")[1, 1]*ν1 + Usqred(\"IO\")[1, 2]*ν2 + Usqred(\"IO\")[1, 3]*ν3\n",
    "end\n",
    "\n",
    "#######################################\n",
    "\n",
    "# Per progenitor:\n",
    "\n",
    "function q21contrib_IO_1pc(E, z0, z, α2, nubar, casechoice, sm, normchoice)\n",
    "\n",
    "    Ers = E*(1+z)/(1+z0)\n",
    "\n",
    "    qnorm = 3.086e19 * 1.516e15 * 1e6 / (3e8 * 1e12)\n",
    "    return qnorm * (c0/Hubble(z)) *  DSNB_idecay_1pc(Ers, z, α2, 2, nubar, \"IO\", sm, normchoice) * (α2 * branching_3ν_IO(casechoice, 2, nubar, 1, nubar)/Ers)\n",
    "end\n",
    "\n",
    "function DSNB_vdecay_1_IO_1pc(E, z0, α2, α1, nubar, casechoice, sm, normchoice)\n",
    "    if casechoice == \"A\"\n",
    "        α1 = 0\n",
    "    end\n",
    "    integrand(z) = (DSNB_integrand_1pc(E, z0, z, 1, nubar, \"IO\", sm, normchoice) +\n",
    "                        q21contrib_IO_1pc(E, z0, z, α2, nubar, casechoice, sm, normchoice))*decay(E, α1, z0, z)\n",
    "    zcut = zcutoff(E, α1, z0)\n",
    "    if zcut > z0 && zcut < 5 && decay(E, α1, z0, zcut) < 0.1\n",
    "        return (1/(1+z0)) * quadgk(z -> integrand(z), z0, zcut, 5, rtol=1e-2)[1]\n",
    "    else\n",
    "        return (1/(1+z0)) * quadgk(z -> integrand(z), z0, 5, rtol=1e-2)[1]\n",
    "    end\n",
    "end\n",
    "\n",
    "function q23contrib_IO_1pc(E, z0, z, α2, twobar, threebar, casechoice, sm, normchoice)\n",
    "\n",
    "    if twobar == threebar\n",
    "        hc = true\n",
    "    else\n",
    "        hc = false\n",
    "    end\n",
    "\n",
    "    Ers = E*(1+z)/(1+z0)\n",
    "\n",
    "    qnorm = 3.086e19 * 1.516e15 * 1e6 / (3e8 * 1e12)\n",
    "    integrand(Eprime, z) = qnorm * (c0/Hubble(z))*DSNB_idecay_1pc(Eprime, z, α2, 2, twobar, \"IO\", sm, normchoice) * (α2 * branching_3ν_IO(casechoice, 2, twobar, 3, threebar)/Eprime) * ψSH(Eprime, Ers, hc)\n",
    "\n",
    "    Emax = Ers + 50\n",
    "\n",
    "    Ecutoff = 1.5*100^(1/3)*Ers\n",
    "    if Ecutoff < Emax && (ψSH(Ecutoff, Ers, hc)/Ecutoff)/(ψSH(Ers, Ers, hc)/Ers) < 0.1\n",
    "        return quadgk(Eprime -> integrand(Eprime, z), Ers, Ecutoff, Emax, rtol=1e-2)[1]\n",
    "    else\n",
    "        return quadgk(Eprime -> integrand(Eprime, z), Ers, Emax, rtol=1e-2)[1]\n",
    "    end\n",
    "end\n",
    "\n",
    "function q13contrib_IO_1pc(E, z0, z, α2, α1, onebar, threebar, casechoice, sm, normchoice)\n",
    "\n",
    "    if onebar == threebar\n",
    "        hc = true\n",
    "    else\n",
    "        hc = false\n",
    "    end\n",
    "\n",
    "    Ers = E*(1+z)/(1+z0)\n",
    "\n",
    "    qnorm = 3.086e19 * 1.516e15 * 1e6 / (3e8 * 1e12)\n",
    "    integrand(Eprime, z) = qnorm * (c0/Hubble(z))*DSNB_vdecay_1_IO_1pc(Eprime, z, α2, α1, onebar, casechoice, sm, normchoice) * (α1 * branching_3ν_IO(casechoice, 1, onebar, 3, threebar)/Eprime) * ψSH(Eprime, Ers, hc)\n",
    "\n",
    "    Emax = Ers + 50\n",
    "\n",
    "    Ecutoff = 1.5*100^(1/3)*Ers\n",
    "    if Ecutoff < Emax && (ψSH(Ecutoff, Ers, hc)/Ecutoff)/(ψSH(Ers, Ers, hc)/Ers) < 0.1\n",
    "        return quadgk(Eprime -> integrand(Eprime, z), Ers, Ecutoff, Emax, rtol=1e-2)[1]\n",
    "    else\n",
    "        return quadgk(Eprime -> integrand(Eprime, z), Ers, Emax, rtol=1e-2)[1]\n",
    "    end\n",
    "end\n",
    "\n",
    "#=\n",
    "function q13contrib_IO_test(E, z0, z, α2, α1, onebar, threebar, casechoice, bh_frac, normchoice)\n",
    "\n",
    "    if onebar == threebar\n",
    "        hc = true\n",
    "    else\n",
    "        hc = false\n",
    "    end\n",
    "\n",
    "    Ers = E*(1+z)/(1+z0)\n",
    "\n",
    "    qnorm = 3.086e19 * 1.516e15 * 1e6 / (3e8 * 1e12)\n",
    "    integrand(Eprime) = qnorm * (c0/Hubble(z))*DSNB_vdecay_1_IO(Eprime, z, α2, α1, onebar, casechoice, bh_frac, normchoice) * (α1 * branching_3ν_IO(casechoice, 1, onebar, 3, threebar)/Eprime) * ψSH(Eprime, Ers, hc)\n",
    "\n",
    "    Emax = Ers + 50\n",
    "    #=\n",
    "    if Emax > 100\n",
    "        return quadgk(Eprime -> integrand(Eprime), Ers, 100, Inf, rtol=1e-2)[1]\n",
    "    else\n",
    "        return quadgk(Eprime -> integrand(Eprime), Ers, Emax, rtol=1e-2)[1]\n",
    "    end\n",
    "    =#\n",
    "    return quadgk(u -> integrand(u*(1+z))*(1+z), E/(1+z0), (E/(1+z0))+50, rtol=1e-2)[1]\n",
    "end\n",
    "=#\n",
    "\n",
    "function DSNB_vdecay_3_IO_1pc(E, α2, α1, threebar, casechoice, sm, normchoice)\n",
    "    integrand(z) = (DSNB_integrand_1pc(E, 0, z, 3, threebar, \"IO\", sm, normchoice)\n",
    "                    + q23contrib_IO_1pc(E, 0, z, α2, true, threebar, casechoice, sm, normchoice)\n",
    "                    + q23contrib_IO_1pc(E, 0, z, α2, false, threebar, casechoice, sm, normchoice)\n",
    "                    + q13contrib_IO_1pc(E, 0, z, α2, α1, true, threebar, casechoice, sm, normchoice)\n",
    "                    + q13contrib_IO_1pc(E, 0, z, α2, α1, false, threebar, casechoice, sm, normchoice))\n",
    "    return quadgk(z -> integrand(z), 0, 5, rtol=1e-2)[1]\n",
    "end\n",
    "\n",
    "function DSNB_vdecay_3ν_νe_IO_1pc(E, α2, α1, nubar, casechoice, sm, normchoice)\n",
    "\n",
    "    ν3 = DSNB_vdecay_3_IO_1pc(E, α2, α1, nubar, casechoice, sm, normchoice)\n",
    "    ν2 = DSNB_idecay_1pc(E, 0, α2, 2, nubar, \"IO\", sm, normchoice)\n",
    "    ν1 = DSNB_vdecay_1_IO_1pc(E, 0, α2, α1, nubar, casechoice, sm, normchoice)\n",
    "    \n",
    "    return Usqred(\"IO\")[1, 1]*ν1 + Usqred(\"IO\")[1, 2]*ν2 + Usqred(\"IO\")[1, 3]*ν3\n",
    "end;"
   ]
  },
  {
   "cell_type": "code",
   "execution_count": 23,
   "metadata": {},
   "outputs": [],
   "source": [
    "es_dsnb = range(0.5, 40, 100);"
   ]
  },
  {
   "cell_type": "code",
   "execution_count": 47,
   "metadata": {},
   "outputs": [
    {
     "data": {
      "text/plain": [
       "507"
      ]
     },
     "execution_count": 47,
     "metadata": {},
     "output_type": "execute_result"
    }
   ],
   "source": [
    "(13*13*3)"
   ]
  },
  {
   "cell_type": "code",
   "execution_count": 50,
   "metadata": {},
   "outputs": [
    {
     "name": "stdout",
     "output_type": "stream",
     "text": [
      "  1.153572 seconds (14.54 M allocations: 236.680 MiB, 6.78% gc time)\n"
     ]
    },
    {
     "data": {
      "text/plain": [
       "0.17661294323361465"
      ]
     },
     "execution_count": 50,
     "metadata": {},
     "output_type": "execute_result"
    }
   ],
   "source": [
    "@time DSNB_vdecay_3ν_νe_IO_1pc(1, 10^(-24), 10^(-24), false, \"democratic\", \"small\", SNRnorm) "
   ]
  },
  {
   "cell_type": "code",
   "execution_count": 138,
   "metadata": {},
   "outputs": [],
   "source": [
    "dsnb_IO_D_24_24_270sm = DSNB_vdecay_3ν_νe_IO_1pc.(es_dsnb, 10^(-24), 10^(-24), false, \"democratic\", \"large\", SNRnorm);"
   ]
  },
  {
   "cell_type": "code",
   "execution_count": 139,
   "metadata": {},
   "outputs": [],
   "source": [
    "dsnb_IO_D_24_24_bh = DSNB_vdecay_3ν_νe_IO_1pc.(es_dsnb, 10^(-24), 10^(-24), false, \"democratic\", \"bh\", SNRnorm);"
   ]
  },
  {
   "cell_type": "code",
   "execution_count": 141,
   "metadata": {},
   "outputs": [
    {
     "data": {
      "text/plain": [
       "100-element Vector{Float64}:\n",
       " -1.9960941233243545e-10\n",
       "  1.8958509206967733e-9\n",
       "  1.6839600824880563e-9\n",
       " -4.379308859991937e-10\n",
       "  3.2880561051662482e-9\n",
       " -4.841940182132021e-10\n",
       " -9.259956135210246e-10\n",
       " -4.798868247224419e-10\n",
       "  2.646495939062632e-10\n",
       "  1.538346394713841e-10\n",
       " -4.13943088140023e-10\n",
       "  2.4703070838905106e-9\n",
       " -3.080095900553914e-10\n",
       "  ⋮\n",
       "  2.2910171264441115e-11\n",
       "  3.8651315221321925e-12\n",
       "  1.8479989131840735e-11\n",
       " -1.8590747040761468e-10\n",
       " -5.085867409724068e-11\n",
       " -1.3948578023951358e-10\n",
       " -2.210641032208971e-10\n",
       " -1.2145328492918495e-10\n",
       " -1.6521643384989626e-10\n",
       "  3.039863420662911e-10\n",
       " -3.69184603677894e-12\n",
       "  6.503974778453853e-11"
      ]
     },
     "execution_count": 141,
     "metadata": {},
     "output_type": "execute_result"
    }
   ],
   "source": [
    "# (ηAD(15, 8)*Fmass(E*(1+z)/(1+z0), i, \"small\", ordering, nubar) \n",
    "# + (ηAD(22, 15)+ηAD(27, 25))*Fmass(E*(1+z)/(1+z0), i, \"large\", ordering, nubar) + (ηAD(25, 22)+ηAD(125, 27))*Fmass(E*(1+z)/(1+z0), i, \"bh\", ordering, nubar))\n",
    "\n",
    "((ηAD(15, 8)*dsnb_IO_D_24_24_112sm .+ (ηAD(22, 15)+ηAD(27, 25))*dsnb_IO_D_24_24_270sm .+ (ηAD(25, 22)+ηAD(125, 27))*dsnb_IO_D_24_24_bh) ./ ηAD(125, 8)) .- dsnb_IO_D_24_24"
   ]
  },
  {
   "cell_type": "code",
   "execution_count": 53,
   "metadata": {},
   "outputs": [],
   "source": [
    "dsnb_IO_nodecay_f21 = DSNB.(es_dsnb, 0, true, \"IO\", \"21\", SNRnorm);"
   ]
  },
  {
   "cell_type": "code",
   "execution_count": 151,
   "metadata": {},
   "outputs": [],
   "source": [
    "dsnb_IO_idecay = DSNB_idecay.(es_dsnb, 0, 10^(-23), 10^(-23), 0, true, \"IO\", \"21\", SNRnorm);\n",
    "\n",
    "dsnb_IO_iidecay = DSNB_idecay.(es_dsnb, 0, 10^(-22), 10^(-22), 0, true, \"IO\", \"21\", SNRnorm);\n",
    "\n",
    "dsnb_IO_iiidecay = DSNB_idecay.(es_dsnb, 0, 10^(-21), 10^(-21), 0, true, \"IO\", \"21\", SNRnorm);"
   ]
  },
  {
   "cell_type": "code",
   "execution_count": 128,
   "metadata": {},
   "outputs": [],
   "source": [
    "dsnb_IO_D_24_24 = DSNB_vdecay_3ν_νe_IO.(es_dsnb, 10^(-24), 10^(-24), false, \"democratic\", \"21\", SNRnorm);"
   ]
  },
  {
   "cell_type": "code",
   "execution_count": 130,
   "metadata": {},
   "outputs": [],
   "source": [
    "dsnb_IO_D_24_24_bar = DSNB_vdecay_3ν_νe_IO.(es_dsnb, 10^(-24), 10^(-24), true, \"democratic\", \"21\", SNRnorm);"
   ]
  },
  {
   "cell_type": "code",
   "execution_count": 132,
   "metadata": {},
   "outputs": [
    {
     "name": "stdout",
     "output_type": "stream",
     "text": [
      "294.917899 seconds (3.42 G allocations: 52.528 GiB, 5.89% gc time)\n"
     ]
    },
    {
     "data": {
      "text/plain": [
       "100-element Vector{Float64}:\n",
       " 0.18644934643454444\n",
       " 0.17725151734786423\n",
       " 0.16746280666696736\n",
       " 0.157085221697662\n",
       " 0.14631524289027453\n",
       " 0.1354360711024642\n",
       " 0.12472568300381817\n",
       " 0.11440718416993163\n",
       " 0.10463541704142838\n",
       " 0.09550300933668544\n",
       " 0.08705346559477398\n",
       " 0.07929489671414772\n",
       " 0.07221159241932128\n",
       " ⋮\n",
       " 0.0007910317268733975\n",
       " 0.0007492119743155278\n",
       " 0.0007096024746176171\n",
       " 0.000672091511459509\n",
       " 0.00063657323116868\n",
       " 0.0006029447851094963\n",
       " 0.000571113521866223\n",
       " 0.0005409831697467944\n",
       " 0.0005124669629840424\n",
       " 0.00048547838139038435\n",
       " 0.0004599426207769035\n",
       " 0.0004357801500017789"
      ]
     },
     "execution_count": 132,
     "metadata": {},
     "output_type": "execute_result"
    }
   ],
   "source": [
    "@time dsnb_IO_B_24_24_bar = DSNB_vdecay_3ν_νe_IO.(es_dsnb, 10^(-24), 10^(-24), true, \"B\", \"21\", SNRnorm)"
   ]
  },
  {
   "cell_type": "code",
   "execution_count": 133,
   "metadata": {},
   "outputs": [
    {
     "name": "stdout",
     "output_type": "stream",
     "text": [
      "272.101753 seconds (3.71 G allocations: 56.827 GiB, 6.17% gc time)\n"
     ]
    },
    {
     "data": {
      "text/plain": [
       "100-element Vector{Float64}:\n",
       " 0.186614467276504\n",
       " 0.17740803472796834\n",
       " 0.16760335034964755\n",
       " 0.1572001078535418\n",
       " 0.14639325950480905\n",
       " 0.1354651667878384\n",
       " 0.12469360271736438\n",
       " 0.11430198653664933\n",
       " 0.10444593476208057\n",
       " 0.09521917709109022\n",
       " 0.08666650922694172\n",
       " 0.07879752476821439\n",
       " 0.07159806810507037\n",
       " ⋮\n",
       " 0.0005085070289433625\n",
       " 0.000481826222671268\n",
       " 0.0004565725561617388\n",
       " 0.0004326675816616731\n",
       " 0.0004100453777881757\n",
       " 0.0003886289015572139\n",
       " 0.0003683653334875874\n",
       " 0.0003491866503106889\n",
       " 0.0003310373864054647\n",
       " 0.00031386007126371835\n",
       " 0.0002976047044342923\n",
       " 0.0002822214659841881"
      ]
     },
     "execution_count": 133,
     "metadata": {},
     "output_type": "execute_result"
    }
   ],
   "source": [
    "@time dsnb_IO_C_24_24_bar = DSNB_vdecay_3ν_νe_IO.(es_dsnb, 10^(-24), 10^(-24), true, \"C\", \"21\", SNRnorm)"
   ]
  },
  {
   "cell_type": "code",
   "execution_count": 143,
   "metadata": {},
   "outputs": [
    {
     "data": {
      "text/plain": [
       "100-element Vector{Float64}:\n",
       " 0.18671709402781675\n",
       " 0.17751020493124797\n",
       " 0.1676997594212544\n",
       " 0.15728359920153528\n",
       " 0.14645549872798055\n",
       " 0.1354973241451725\n",
       " 0.12468676141005583\n",
       " 0.11424768465134655\n",
       " 0.10433634682268042\n",
       " 0.09504741185101069\n",
       " 0.08642672965384744\n",
       " 0.07848503605572416\n",
       " 0.07120931432551546\n",
       " ⋮\n",
       " 0.00031061822136026223\n",
       " 0.00029395920966234786\n",
       " 0.0002782311936876002\n",
       " 0.00026338305859974795\n",
       " 0.00024936278326687106\n",
       " 0.00023612279756766123\n",
       " 0.00022361831180670998\n",
       " 0.00021180628351717383\n",
       " 0.00020064514619086914\n",
       " 0.0001901034568901563\n",
       " 0.00018014305348471076\n",
       " 0.00017073054382513479"
      ]
     },
     "execution_count": 143,
     "metadata": {},
     "output_type": "execute_result"
    }
   ],
   "source": [
    "dsnb_IO_C_235_235_bar = DSNB_vdecay_3ν_νe_IO.(es_dsnb, 10^(-23.5), 10^(-23.5), true, \"B\", \"21\", SNRnorm)"
   ]
  },
  {
   "cell_type": "code",
   "execution_count": 157,
   "metadata": {},
   "outputs": [
    {
     "data": {
      "text/plain": [
       "6.596306068601583e6"
      ]
     },
     "execution_count": 157,
     "metadata": {},
     "output_type": "execute_result"
    }
   ],
   "source": [
    "α_to_τoverm(10^(-22))"
   ]
  },
  {
   "cell_type": "code",
   "execution_count": 163,
   "metadata": {},
   "outputs": [
    {
     "data": {
      "text/plain": [
       "11"
      ]
     },
     "execution_count": 163,
     "metadata": {},
     "output_type": "execute_result"
    }
   ],
   "source": [
    "length(24:0.2:26)"
   ]
  },
  {
   "cell_type": "code",
   "execution_count": 160,
   "metadata": {},
   "outputs": [
    {
     "data": {
      "text/plain": [
       "100-element Vector{Float64}:\n",
       " 0.020783092149722893\n",
       " 0.021397485201513897\n",
       " 0.02186175288010143\n",
       " 0.022209877619535027\n",
       " 0.022469926867384835\n",
       " 0.02266558300540473\n",
       " 0.02281497583833802\n",
       " 0.022931082719251022\n",
       " 0.023022859700203846\n",
       " 0.02309635980212847\n",
       " 0.02315569083620804\n",
       " 0.0232036842141848\n",
       " 0.02324235491738941\n",
       " ⋮\n",
       " 0.022380881549179003\n",
       " 0.02236029831639141\n",
       " 0.022339490614605086\n",
       " 0.022318463799369116\n",
       " 0.02229722733807494\n",
       " 0.02227579287404849\n",
       " 0.0222541708630816\n",
       " 0.02223237379601104\n",
       " 0.022210415742114582\n",
       " 0.02218831119276421\n",
       " 0.02216607565513508\n",
       " 0.02214372797317004"
      ]
     },
     "execution_count": 160,
     "metadata": {},
     "output_type": "execute_result"
    }
   ],
   "source": [
    "dsnb_IO_iidecay ./ dsnb_IO_nodecay_f21"
   ]
  },
  {
   "cell_type": "code",
   "execution_count": 152,
   "metadata": {},
   "outputs": [
    {
     "data": {
      "image/png": "[encoded data removed]",
      "image/svg+xml": "<?xml version=\"1.0\" encoding=\"utf-8\"?>\n<svg xmlns=\"http://www.w3.org/2000/svg\" xmlns:xlink=\"http://www.w3.org/1999/xlink\" width=\"600\" height=\"400\" viewBox=\"0 0 2400 1600\">\n<defs>\n  <clipPath id=\"clip080\">\n    <rect x=\"0\" y=\"0\" width=\"2400\" height=\"1600\"/>\n  </clipPath>\n</defs>\n<path clip-path=\"url(#clip080)\" d=\"M0 1600 L2400 1600 L2400 0 L0 0  Z\" fill=\"#ffffff\" fill-rule=\"evenodd\" fill-opacity=\"1\"/>\n<defs>\n  <clipPath id=\"clip081\">\n    <rect x=\"480\" y=\"0\" width=\"1681\" height=\"1600\"/>\n  </clipPath>\n</defs>\n<path clip-path=\"url(#clip080)\" d=\"M149.191 1486.45 L2352.76 1486.45 L2352.76 47.2441 L149.191 47.2441  Z\" fill=\"#ffffff\" fill-rule=\"evenodd\" fill-opacity=\"1\"/>\n<defs>\n  <clipPath id=\"clip082\">\n    <rect x=\"149\" y=\"47\" width=\"2205\" height=\"1440\"/>\n  </clipPath>\n</defs>\n<polyline clip-path=\"url(#clip082)\" style=\"stroke:#000000; stroke-linecap:round; stroke-linejoin:round; stroke-width:2; stroke-opacity:0.1; fill:none\" points=\"185.242,1486.45 185.242,47.2441 \"/>\n<polyline clip-path=\"url(#clip082)\" style=\"stroke:#000000; stroke-linecap:round; stroke-linejoin:round; stroke-width:2; stroke-opacity:0.1; fill:none\" points=\"711.529,1486.45 711.529,47.2441 \"/>\n<polyline clip-path=\"url(#clip082)\" style=\"stroke:#000000; stroke-linecap:round; stroke-linejoin:round; stroke-width:2; stroke-opacity:0.1; fill:none\" points=\"1237.82,1486.45 1237.82,47.2441 \"/>\n<polyline clip-path=\"url(#clip082)\" style=\"stroke:#000000; stroke-linecap:round; stroke-linejoin:round; stroke-width:2; stroke-opacity:0.1; fill:none\" points=\"1764.1,1486.45 1764.1,47.2441 \"/>\n<polyline clip-path=\"url(#clip082)\" style=\"stroke:#000000; stroke-linecap:round; stroke-linejoin:round; stroke-width:2; stroke-opacity:0.1; fill:none\" points=\"2290.39,1486.45 2290.39,47.2441 \"/>\n<polyline clip-path=\"url(#clip080)\" style=\"stroke:#000000; stroke-linecap:round; stroke-linejoin:round; stroke-width:4; stroke-opacity:1; fill:none\" points=\"149.191,1486.45 2352.76,1486.45 \"/>\n<polyline clip-path=\"url(#clip080)\" style=\"stroke:#000000; stroke-linecap:round; stroke-linejoin:round; stroke-width:4; stroke-opacity:1; fill:none\" points=\"185.242,1486.45 185.242,1467.55 \"/>\n<polyline clip-path=\"url(#clip080)\" style=\"stroke:#000000; stroke-linecap:round; stroke-linejoin:round; stroke-width:4; stroke-opacity:1; fill:none\" points=\"711.529,1486.45 711.529,1467.55 \"/>\n<polyline clip-path=\"url(#clip080)\" style=\"stroke:#000000; stroke-linecap:round; stroke-linejoin:round; stroke-width:4; stroke-opacity:1; fill:none\" points=\"1237.82,1486.45 1237.82,1467.55 \"/>\n<polyline clip-path=\"url(#clip080)\" style=\"stroke:#000000; stroke-linecap:round; stroke-linejoin:round; stroke-width:4; stroke-opacity:1; fill:none\" points=\"1764.1,1486.45 1764.1,1467.55 \"/>\n<polyline clip-path=\"url(#clip080)\" style=\"stroke:#000000; stroke-linecap:round; stroke-linejoin:round; stroke-width:4; stroke-opacity:1; fill:none\" points=\"2290.39,1486.45 2290.39,1467.55 \"/>\n<path clip-path=\"url(#clip080)\" d=\"M185.242 1517.37 Q181.63 1517.37 179.802 1520.93 Q177.996 1524.47 177.996 1531.6 Q177.996 1538.71 179.802 1542.27 Q181.63 1545.82 185.242 1545.82 Q188.876 1545.82 190.681 1542.27 Q192.51 1538.71 192.51 1531.6 Q192.51 1524.47 190.681 1520.93 Q188.876 1517.37 185.242 1517.37 M185.242 1513.66 Q191.052 1513.66 194.107 1518.27 Q197.186 1522.85 197.186 1531.6 Q197.186 1540.33 194.107 1544.94 Q191.052 1549.52 185.242 1549.52 Q179.431 1549.52 176.353 1544.94 Q173.297 1540.33 173.297 1531.6 Q173.297 1522.85 176.353 1518.27 Q179.431 1513.66 185.242 1513.66 Z\" fill=\"#000000\" fill-rule=\"nonzero\" fill-opacity=\"1\" /><path clip-path=\"url(#clip080)\" d=\"M686.217 1544.91 L693.855 1544.91 L693.855 1518.55 L685.545 1520.21 L685.545 1515.95 L693.809 1514.29 L698.485 1514.29 L698.485 1544.91 L706.124 1544.91 L706.124 1548.85 L686.217 1548.85 L686.217 1544.91 Z\" fill=\"#000000\" fill-rule=\"nonzero\" fill-opacity=\"1\" /><path clip-path=\"url(#clip080)\" d=\"M725.568 1517.37 Q721.957 1517.37 720.128 1520.93 Q718.323 1524.47 718.323 1531.6 Q718.323 1538.71 720.128 1542.27 Q721.957 1545.82 725.568 1545.82 Q729.202 1545.82 731.008 1542.27 Q732.837 1538.71 732.837 1531.6 Q732.837 1524.47 731.008 1520.93 Q729.202 1517.37 725.568 1517.37 M725.568 1513.66 Q731.378 1513.66 734.434 1518.27 Q737.513 1522.85 737.513 1531.6 Q737.513 1540.33 734.434 1544.94 Q731.378 1549.52 725.568 1549.52 Q719.758 1549.52 716.679 1544.94 Q713.624 1540.33 713.624 1531.6 Q713.624 1522.85 716.679 1518.27 Q719.758 1513.66 725.568 1513.66 Z\" fill=\"#000000\" fill-rule=\"nonzero\" fill-opacity=\"1\" /><path clip-path=\"url(#clip080)\" d=\"M1216.59 1544.91 L1232.91 1544.91 L1232.91 1548.85 L1210.96 1548.85 L1210.96 1544.91 Q1213.63 1542.16 1218.21 1537.53 Q1222.82 1532.88 1224 1531.53 Q1226.24 1529.01 1227.12 1527.27 Q1228.02 1525.51 1228.02 1523.82 Q1228.02 1521.07 1226.08 1519.33 Q1224.16 1517.6 1221.06 1517.6 Q1218.86 1517.6 1216.4 1518.36 Q1213.97 1519.13 1211.2 1520.68 L1211.2 1515.95 Q1214.02 1514.82 1216.47 1514.24 Q1218.93 1513.66 1220.96 1513.66 Q1226.33 1513.66 1229.53 1516.35 Q1232.72 1519.03 1232.72 1523.52 Q1232.72 1525.65 1231.91 1527.57 Q1231.13 1529.47 1229.02 1532.07 Q1228.44 1532.74 1225.34 1535.95 Q1222.24 1539.15 1216.59 1544.91 Z\" fill=\"#000000\" fill-rule=\"nonzero\" fill-opacity=\"1\" /><path clip-path=\"url(#clip080)\" d=\"M1252.72 1517.37 Q1249.11 1517.37 1247.28 1520.93 Q1245.48 1524.47 1245.48 1531.6 Q1245.48 1538.71 1247.28 1542.27 Q1249.11 1545.82 1252.72 1545.82 Q1256.36 1545.82 1258.16 1542.27 Q1259.99 1538.71 1259.99 1531.6 Q1259.99 1524.47 1258.16 1520.93 Q1256.36 1517.37 1252.72 1517.37 M1252.72 1513.66 Q1258.53 1513.66 1261.59 1518.27 Q1264.67 1522.85 1264.67 1531.6 Q1264.67 1540.33 1261.59 1544.94 Q1258.53 1549.52 1252.72 1549.52 Q1246.91 1549.52 1243.83 1544.94 Q1240.78 1540.33 1240.78 1531.6 Q1240.78 1522.85 1243.83 1518.27 Q1246.91 1513.66 1252.72 1513.66 Z\" fill=\"#000000\" fill-rule=\"nonzero\" fill-opacity=\"1\" /><path clip-path=\"url(#clip080)\" d=\"M1752.95 1530.21 Q1756.3 1530.93 1758.18 1533.2 Q1760.08 1535.47 1760.08 1538.8 Q1760.08 1543.92 1756.56 1546.72 Q1753.04 1549.52 1746.56 1549.52 Q1744.38 1549.52 1742.07 1549.08 Q1739.77 1548.66 1737.32 1547.81 L1737.32 1543.29 Q1739.27 1544.43 1741.58 1545.01 Q1743.9 1545.58 1746.42 1545.58 Q1750.82 1545.58 1753.11 1543.85 Q1755.42 1542.11 1755.42 1538.8 Q1755.42 1535.75 1753.27 1534.03 Q1751.14 1532.3 1747.32 1532.3 L1743.29 1532.3 L1743.29 1528.45 L1747.51 1528.45 Q1750.96 1528.45 1752.78 1527.09 Q1754.61 1525.7 1754.61 1523.11 Q1754.61 1520.45 1752.71 1519.03 Q1750.84 1517.6 1747.32 1517.6 Q1745.4 1517.6 1743.2 1518.01 Q1741 1518.43 1738.36 1519.31 L1738.36 1515.14 Q1741.02 1514.4 1743.34 1514.03 Q1745.68 1513.66 1747.74 1513.66 Q1753.06 1513.66 1756.16 1516.09 Q1759.27 1518.5 1759.27 1522.62 Q1759.27 1525.49 1757.62 1527.48 Q1755.98 1529.45 1752.95 1530.21 Z\" fill=\"#000000\" fill-rule=\"nonzero\" fill-opacity=\"1\" /><path clip-path=\"url(#clip080)\" d=\"M1778.94 1517.37 Q1775.33 1517.37 1773.5 1520.93 Q1771.7 1524.47 1771.7 1531.6 Q1771.7 1538.71 1773.5 1542.27 Q1775.33 1545.82 1778.94 1545.82 Q1782.58 1545.82 1784.38 1542.27 Q1786.21 1538.71 1786.21 1531.6 Q1786.21 1524.47 1784.38 1520.93 Q1782.58 1517.37 1778.94 1517.37 M1778.94 1513.66 Q1784.75 1513.66 1787.81 1518.27 Q1790.89 1522.85 1790.89 1531.6 Q1790.89 1540.33 1787.81 1544.94 Q1784.75 1549.52 1778.94 1549.52 Q1773.13 1549.52 1770.05 1544.94 Q1767 1540.33 1767 1531.6 Q1767 1522.85 1770.05 1518.27 Q1773.13 1513.66 1778.94 1513.66 Z\" fill=\"#000000\" fill-rule=\"nonzero\" fill-opacity=\"1\" /><path clip-path=\"url(#clip080)\" d=\"M2278.56 1518.36 L2266.76 1536.81 L2278.56 1536.81 L2278.56 1518.36 M2277.34 1514.29 L2283.21 1514.29 L2283.21 1536.81 L2288.15 1536.81 L2288.15 1540.7 L2283.21 1540.7 L2283.21 1548.85 L2278.56 1548.85 L2278.56 1540.7 L2262.96 1540.7 L2262.96 1536.19 L2277.34 1514.29 Z\" fill=\"#000000\" fill-rule=\"nonzero\" fill-opacity=\"1\" /><path clip-path=\"url(#clip080)\" d=\"M2305.88 1517.37 Q2302.27 1517.37 2300.44 1520.93 Q2298.63 1524.47 2298.63 1531.6 Q2298.63 1538.71 2300.44 1542.27 Q2302.27 1545.82 2305.88 1545.82 Q2309.51 1545.82 2311.32 1542.27 Q2313.15 1538.71 2313.15 1531.6 Q2313.15 1524.47 2311.32 1520.93 Q2309.51 1517.37 2305.88 1517.37 M2305.88 1513.66 Q2311.69 1513.66 2314.74 1518.27 Q2317.82 1522.85 2317.82 1531.6 Q2317.82 1540.33 2314.74 1544.94 Q2311.69 1549.52 2305.88 1549.52 Q2300.07 1549.52 2296.99 1544.94 Q2293.93 1540.33 2293.93 1531.6 Q2293.93 1522.85 2296.99 1518.27 Q2300.07 1513.66 2305.88 1513.66 Z\" fill=\"#000000\" fill-rule=\"nonzero\" fill-opacity=\"1\" /><polyline clip-path=\"url(#clip082)\" style=\"stroke:#000000; stroke-linecap:round; stroke-linejoin:round; stroke-width:2; stroke-opacity:0.1; fill:none\" points=\"149.191,1292.36 2352.76,1292.36 \"/>\n<polyline clip-path=\"url(#clip082)\" style=\"stroke:#000000; stroke-linecap:round; stroke-linejoin:round; stroke-width:2; stroke-opacity:0.1; fill:none\" points=\"149.191,1008.36 2352.76,1008.36 \"/>\n<polyline clip-path=\"url(#clip082)\" style=\"stroke:#000000; stroke-linecap:round; stroke-linejoin:round; stroke-width:2; stroke-opacity:0.1; fill:none\" points=\"149.191,724.358 2352.76,724.358 \"/>\n<polyline clip-path=\"url(#clip082)\" style=\"stroke:#000000; stroke-linecap:round; stroke-linejoin:round; stroke-width:2; stroke-opacity:0.1; fill:none\" points=\"149.191,440.357 2352.76,440.357 \"/>\n<polyline clip-path=\"url(#clip082)\" style=\"stroke:#000000; stroke-linecap:round; stroke-linejoin:round; stroke-width:2; stroke-opacity:0.1; fill:none\" points=\"149.191,156.356 2352.76,156.356 \"/>\n<polyline clip-path=\"url(#clip080)\" style=\"stroke:#000000; stroke-linecap:round; stroke-linejoin:round; stroke-width:4; stroke-opacity:1; fill:none\" points=\"149.191,1486.45 149.191,47.2441 \"/>\n<polyline clip-path=\"url(#clip080)\" style=\"stroke:#000000; stroke-linecap:round; stroke-linejoin:round; stroke-width:4; stroke-opacity:1; fill:none\" points=\"149.191,1292.36 168.089,1292.36 \"/>\n<polyline clip-path=\"url(#clip080)\" style=\"stroke:#000000; stroke-linecap:round; stroke-linejoin:round; stroke-width:4; stroke-opacity:1; fill:none\" points=\"149.191,1008.36 168.089,1008.36 \"/>\n<polyline clip-path=\"url(#clip080)\" style=\"stroke:#000000; stroke-linecap:round; stroke-linejoin:round; stroke-width:4; stroke-opacity:1; fill:none\" points=\"149.191,724.358 168.089,724.358 \"/>\n<polyline clip-path=\"url(#clip080)\" style=\"stroke:#000000; stroke-linecap:round; stroke-linejoin:round; stroke-width:4; stroke-opacity:1; fill:none\" points=\"149.191,440.357 168.089,440.357 \"/>\n<polyline clip-path=\"url(#clip080)\" style=\"stroke:#000000; stroke-linecap:round; stroke-linejoin:round; stroke-width:4; stroke-opacity:1; fill:none\" points=\"149.191,156.356 168.089,156.356 \"/>\n<path clip-path=\"url(#clip080)\" d=\"M50.9921 1292.81 L80.6679 1292.81 L80.6679 1296.75 L50.9921 1296.75 L50.9921 1292.81 Z\" fill=\"#000000\" fill-rule=\"nonzero\" fill-opacity=\"1\" /><path clip-path=\"url(#clip080)\" d=\"M103.608 1279.15 L91.8021 1297.6 L103.608 1297.6 L103.608 1279.15 M102.381 1275.08 L108.26 1275.08 L108.26 1297.6 L113.191 1297.6 L113.191 1301.49 L108.26 1301.49 L108.26 1309.64 L103.608 1309.64 L103.608 1301.49 L88.0058 1301.49 L88.0058 1296.98 L102.381 1275.08 Z\" fill=\"#000000\" fill-rule=\"nonzero\" fill-opacity=\"1\" /><path clip-path=\"url(#clip080)\" d=\"M52.1264 1008.81 L81.8021 1008.81 L81.8021 1012.75 L52.1264 1012.75 L52.1264 1008.81 Z\" fill=\"#000000\" fill-rule=\"nonzero\" fill-opacity=\"1\" /><path clip-path=\"url(#clip080)\" d=\"M106.061 1007 Q109.418 1007.72 111.293 1009.99 Q113.191 1012.26 113.191 1015.59 Q113.191 1020.71 109.672 1023.51 Q106.154 1026.31 99.6724 1026.31 Q97.4965 1026.31 95.1817 1025.87 Q92.89 1025.45 90.4364 1024.6 L90.4364 1020.08 Q92.3808 1021.22 94.6956 1021.8 Q97.0104 1022.37 99.5335 1022.37 Q103.932 1022.37 106.223 1020.64 Q108.538 1018.9 108.538 1015.59 Q108.538 1012.54 106.385 1010.82 Q104.256 1009.09 100.436 1009.09 L96.4085 1009.09 L96.4085 1005.25 L100.621 1005.25 Q104.071 1005.25 105.899 1003.88 Q107.728 1002.49 107.728 999.898 Q107.728 997.236 105.83 995.824 Q103.955 994.389 100.436 994.389 Q98.515 994.389 96.316 994.806 Q94.1169 995.222 91.478 996.102 L91.478 991.935 Q94.14 991.195 96.4548 990.824 Q98.7928 990.454 100.853 990.454 Q106.177 990.454 109.279 992.884 Q112.381 995.292 112.381 999.412 Q112.381 1002.28 110.737 1004.27 Q109.094 1006.24 106.061 1007 Z\" fill=\"#000000\" fill-rule=\"nonzero\" fill-opacity=\"1\" /><path clip-path=\"url(#clip080)\" d=\"M53.0754 724.809 L82.7512 724.809 L82.7512 728.744 L53.0754 728.744 L53.0754 724.809 Z\" fill=\"#000000\" fill-rule=\"nonzero\" fill-opacity=\"1\" /><path clip-path=\"url(#clip080)\" d=\"M96.8715 737.703 L113.191 737.703 L113.191 741.638 L91.2465 741.638 L91.2465 737.703 Q93.9086 734.948 98.4919 730.319 Q103.098 725.666 104.279 724.323 Q106.524 721.8 107.404 720.064 Q108.307 718.305 108.307 716.615 Q108.307 713.86 106.362 712.124 Q104.441 710.388 101.339 710.388 Q99.14 710.388 96.6863 711.152 Q94.2558 711.916 91.478 713.467 L91.478 708.745 Q94.3021 707.61 96.7558 707.032 Q99.2095 706.453 101.246 706.453 Q106.617 706.453 109.811 709.138 Q113.006 711.823 113.006 716.314 Q113.006 718.444 112.196 720.365 Q111.408 722.263 109.302 724.856 Q108.723 725.527 105.621 728.744 Q102.52 731.939 96.8715 737.703 Z\" fill=\"#000000\" fill-rule=\"nonzero\" fill-opacity=\"1\" /><path clip-path=\"url(#clip080)\" d=\"M52.7051 440.808 L82.3808 440.808 L82.3808 444.743 L52.7051 444.743 L52.7051 440.808 Z\" fill=\"#000000\" fill-rule=\"nonzero\" fill-opacity=\"1\" /><path clip-path=\"url(#clip080)\" d=\"M93.2836 453.702 L100.922 453.702 L100.922 427.336 L92.6123 429.003 L92.6123 424.744 L100.876 423.077 L105.552 423.077 L105.552 453.702 L113.191 453.702 L113.191 457.637 L93.2836 457.637 L93.2836 453.702 Z\" fill=\"#000000\" fill-rule=\"nonzero\" fill-opacity=\"1\" /><path clip-path=\"url(#clip080)\" d=\"M101.246 142.155 Q97.6354 142.155 95.8067 145.719 Q94.0012 149.261 94.0012 156.391 Q94.0012 163.497 95.8067 167.062 Q97.6354 170.604 101.246 170.604 Q104.881 170.604 106.686 167.062 Q108.515 163.497 108.515 156.391 Q108.515 149.261 106.686 145.719 Q104.881 142.155 101.246 142.155 M101.246 138.451 Q107.057 138.451 110.112 143.057 Q113.191 147.641 113.191 156.391 Q113.191 165.117 110.112 169.724 Q107.057 174.307 101.246 174.307 Q95.4363 174.307 92.3576 169.724 Q89.3021 165.117 89.3021 156.391 Q89.3021 147.641 92.3576 143.057 Q95.4363 138.451 101.246 138.451 Z\" fill=\"#000000\" fill-rule=\"nonzero\" fill-opacity=\"1\" /><polyline clip-path=\"url(#clip082)\" style=\"stroke:#0000ff; stroke-linecap:round; stroke-linejoin:round; stroke-width:4; stroke-opacity:1; fill:none\" points=\"211.556,337.351 232.554,218.313 253.553,158.75 274.551,125.062 295.549,105.489 316.548,94.5593 337.546,89.3101 358.544,87.9763 379.543,89.439 400.541,92.9555 421.539,98.0159 442.538,104.26 463.536,111.428 484.534,119.407 505.533,127.896 526.531,136.86 547.529,146.213 568.528,155.885 589.526,165.821 610.524,175.977 631.523,186.314 652.521,196.801 673.519,207.413 694.518,218.126 715.516,228.921 736.514,239.782 757.513,250.695 778.511,261.647 799.509,272.545 820.508,283.545 841.506,294.556 862.504,305.57 883.503,316.58 904.501,327.582 925.499,338.569 946.498,349.538 967.496,360.485 988.494,371.406 1009.49,382.299 1030.49,393.161 1051.49,403.99 1072.49,414.783 1093.49,425.54 1114.48,436.258 1135.48,446.936 1156.48,457.574 1177.48,468.169 1198.48,478.724 1219.48,489.231 1240.47,499.669 1261.47,510.033 1282.47,520.416 1303.47,530.753 1324.47,541.045 1345.47,551.291 1366.46,561.499 1387.46,571.653 1408.46,581.761 1429.46,591.823 1450.46,601.84 1471.46,611.811 1492.45,621.736 1513.45,631.632 1534.45,641.465 1555.45,651.252 1576.45,660.994 1597.45,670.69 1618.44,680.342 1639.44,689.948 1660.44,699.51 1681.44,709.026 1702.44,718.547 1723.44,727.971 1744.43,737.351 1765.43,746.687 1786.43,755.979 1807.43,765.227 1828.43,774.432 1849.43,783.593 1870.42,792.71 1891.42,801.785 1912.42,810.816 1933.42,819.804 1954.42,828.911 1975.42,837.804 1996.41,846.655 2017.41,855.464 2038.41,864.231 2059.41,872.957 2080.41,881.641 2101.41,890.283 2122.4,898.885 2143.4,907.445 2164.4,915.965 2185.4,924.444 2206.4,932.883 2227.4,941.281 2248.39,949.639 2269.39,957.958 2290.39,966.238 \"/>\n<polyline clip-path=\"url(#clip082)\" style=\"stroke:#ff0000; stroke-linecap:round; stroke-linejoin:round; stroke-width:4; stroke-opacity:1; fill:none\" points=\"211.556,815.123 232.554,692.493 253.553,630.282 274.551,594.647 295.549,573.639 316.548,561.641 337.546,555.584 358.544,553.626 379.543,554.6 400.541,557.727 421.539,562.475 442.538,568.469 463.536,575.438 484.534,583.261 505.533,591.63 526.531,600.506 547.529,609.798 568.528,619.433 589.526,629.354 610.524,639.512 631.523,649.867 652.521,660.387 673.519,671.044 694.518,681.813 715.516,692.673 736.514,703.609 757.513,714.603 778.511,725.643 799.509,736.636 820.508,747.736 841.506,758.852 862.504,769.975 883.503,781.1 904.501,792.219 925.499,803.328 946.498,814.423 967.496,825.499 988.494,836.552 1009.49,847.581 1030.49,858.582 1051.49,869.552 1072.49,880.49 1093.49,891.395 1114.48,902.264 1135.48,913.096 1156.48,923.891 1177.48,934.646 1198.48,945.363 1219.48,955.944 1240.47,966.586 1261.47,977.189 1282.47,987.747 1303.47,998.262 1324.47,1008.74 1345.47,1019.17 1366.46,1029.56 1387.46,1039.9 1408.46,1050.2 1429.46,1060.46 1450.46,1070.68 1471.46,1080.85 1492.45,1090.98 1513.45,1101.08 1534.45,1111.13 1555.45,1121.13 1576.45,1131.09 1597.45,1141.01 1618.44,1150.89 1639.44,1160.72 1660.44,1170.52 1681.44,1180.27 1702.44,1190.01 1723.44,1199.68 1744.43,1209.31 1765.43,1218.89 1786.43,1228.43 1807.43,1237.94 1828.43,1247.4 1849.43,1256.83 1870.42,1266.21 1891.42,1275.55 1912.42,1284.86 1933.42,1294.12 1954.42,1303.46 1975.42,1312.64 1996.41,1321.78 2017.41,1330.88 2038.41,1339.94 2059.41,1348.97 2080.41,1357.95 2101.41,1366.9 2122.4,1375.81 2143.4,1384.68 2164.4,1393.51 2185.4,1402.3 2206.4,1411.06 2227.4,1419.78 2248.39,1428.46 2269.39,1437.11 2290.39,1445.72 \"/>\n<polyline clip-path=\"url(#clip082)\" style=\"stroke:#ffa500; stroke-linecap:round; stroke-linejoin:round; stroke-width:4; stroke-opacity:1; fill:none\" points=\"211.556,363.34 232.554,369.577 253.553,376.589 274.551,384.499 295.549,393.296 316.548,402.888 337.546,413.144 358.544,423.928 379.543,435.121 400.541,446.622 421.539,458.349 442.538,470.238 463.536,482.237 484.534,494.305 505.533,506.411 526.531,518.526 547.529,530.629 568.528,542.701 589.526,554.723 610.524,566.684 631.523,578.568 652.521,590.365 673.519,602.066 694.518,613.66 715.516,625.14 736.514,636.498 757.513,647.729 778.511,658.828 799.509,669.789 820.508,680.61 841.506,691.288 862.504,701.82 883.503,712.207 904.501,722.447 925.499,732.54 946.498,742.489 967.496,752.293 988.494,761.956 1009.49,771.479 1030.49,780.867 1051.49,790.081 1072.49,799.212 1093.49,808.217 1114.48,817.101 1135.48,825.869 1156.48,834.524 1177.48,843.073 1198.48,851.519 1219.48,859.867 1240.47,868.122 1261.47,876.29 1282.47,884.373 1303.47,892.377 1324.47,900.306 1345.47,908.165 1366.46,915.959 1387.46,923.689 1408.46,931.359 1429.46,938.975 1450.46,946.539 1471.46,954.054 1492.45,961.523 1513.45,968.954 1534.45,976.34 1555.45,983.689 1576.45,991.002 1597.45,998.282 1618.44,1005.53 1639.44,1012.75 1660.44,1019.94 1681.44,1027.1 1702.44,1034.25 1723.44,1041.37 1744.43,1048.46 1765.43,1055.53 1786.43,1062.58 1807.43,1069.61 1828.43,1076.62 1849.43,1083.61 1870.42,1090.58 1891.42,1097.54 1912.42,1104.47 1933.42,1111.39 1954.42,1118.32 1975.42,1125.2 1996.41,1132.07 2017.41,1138.92 2038.41,1145.75 2059.41,1152.57 2080.41,1159.37 2101.41,1166.15 2122.4,1172.91 2143.4,1179.66 2164.4,1186.39 2185.4,1193.1 2206.4,1199.79 2227.4,1206.47 2248.39,1213.13 2269.39,1219.76 2290.39,1226.38 \"/>\n<polyline clip-path=\"url(#clip082)\" style=\"stroke:#a52a2a; stroke-linecap:round; stroke-linejoin:round; stroke-width:4; stroke-opacity:1; fill:none\" points=\"211.556,815.123 232.554,692.492 253.553,630.281 274.551,594.645 295.549,573.635 316.548,561.637 337.546,555.577 358.544,553.617 379.543,554.587 400.541,557.711 421.539,562.455 442.538,568.444 463.536,575.406 484.534,583.222 505.533,591.583 526.531,600.449 547.529,609.731 568.528,619.354 589.526,629.261 610.524,639.404 631.523,649.743 652.521,660.245 673.519,670.881 694.518,681.628 715.516,692.465 736.514,703.374 757.513,714.339 778.511,725.349 799.509,736.309 820.508,747.373 841.506,758.451 862.504,769.534 883.503,780.615 904.501,791.688 925.499,802.748 946.498,813.791 967.496,824.812 988.494,835.809 1009.49,846.777 1030.49,857.714 1051.49,868.618 1072.49,879.486 1093.49,890.318 1114.48,901.112 1135.48,911.865 1156.48,922.578 1177.48,933.248 1198.48,943.877 1219.48,954.369 1240.47,964.916 1261.47,975.422 1282.47,985.879 1303.47,996.292 1324.47,1006.66 1345.47,1016.98 1366.46,1027.26 1387.46,1037.49 1408.46,1047.67 1429.46,1057.81 1450.46,1067.91 1471.46,1077.95 1492.45,1087.95 1513.45,1097.92 1534.45,1107.83 1555.45,1117.7 1576.45,1127.52 1597.45,1137.3 1618.44,1147.03 1639.44,1156.72 1660.44,1166.37 1681.44,1175.97 1702.44,1185.56 1723.44,1195.07 1744.43,1204.54 1765.43,1213.96 1786.43,1223.34 1807.43,1232.68 1828.43,1241.98 1849.43,1251.24 1870.42,1260.45 1891.42,1269.62 1912.42,1278.75 1933.42,1287.84 1954.42,1297 1975.42,1306 1996.41,1314.96 2017.41,1323.88 2038.41,1332.76 2059.41,1341.59 2080.41,1350.39 2101.41,1359.15 2122.4,1367.87 2143.4,1376.54 2164.4,1385.18 2185.4,1393.78 2206.4,1402.34 2227.4,1410.86 2248.39,1419.34 2269.39,1427.78 2290.39,1436.19 \"/>\n<polyline clip-path=\"url(#clip082)\" style=\"stroke:#000000; stroke-linecap:round; stroke-linejoin:round; stroke-width:4; stroke-opacity:1; fill:none\" points=\"211.556,815.119 232.554,692.484 253.553,630.267 274.551,594.622 295.549,573.601 316.548,561.587 337.546,555.508 358.544,553.523 379.543,554.463 400.541,557.549 421.539,562.249 442.538,568.185 463.536,575.086 484.534,582.83 505.533,591.108 526.531,599.881 547.529,609.056 568.528,618.56 589.526,628.332 610.524,638.326 631.523,648.499 652.521,658.818 673.519,669.253 694.518,679.781 715.516,690.378 736.514,701.027 757.513,711.712 778.511,722.419 799.509,733.056 820.508,743.773 841.506,754.479 862.504,765.167 883.503,775.828 904.501,786.458 925.499,797.049 946.498,807.598 967.496,818.1 988.494,828.552 1009.49,838.951 1030.49,849.294 1051.49,859.579 1072.49,869.804 1093.49,879.968 1114.48,890.07 1135.48,900.108 1156.48,910.083 1177.48,919.993 1198.48,929.839 1219.48,939.538 1240.47,949.261 1261.47,958.921 1282.47,968.515 1303.47,978.045 1324.47,987.511 1345.47,996.915 1366.46,1006.26 1387.46,1015.54 1408.46,1024.76 1429.46,1033.92 1450.46,1043.02 1471.46,1052.07 1492.45,1061.06 1513.45,1070 1534.45,1078.87 1555.45,1087.69 1576.45,1096.46 1597.45,1105.18 1618.44,1113.84 1639.44,1122.45 1660.44,1131.02 1681.44,1139.53 1702.44,1148.02 1723.44,1156.44 1744.43,1164.81 1765.43,1173.14 1786.43,1181.42 1807.43,1189.65 1828.43,1197.84 1849.43,1205.99 1870.42,1214.1 1891.42,1222.16 1912.42,1230.18 1933.42,1238.16 1954.42,1246.17 1975.42,1254.07 1996.41,1261.92 2017.41,1269.74 2038.41,1277.51 2059.41,1285.25 2080.41,1292.95 2101.41,1300.61 2122.4,1308.23 2143.4,1315.82 2164.4,1323.37 2185.4,1330.88 2206.4,1338.35 2227.4,1345.79 2248.39,1353.19 2269.39,1360.56 2290.39,1367.89 \"/>\n<path clip-path=\"url(#clip080)\" d=\"M2004.8 406.258 L2279.3 406.258 L2279.3 95.2176 L2004.8 95.2176  Z\" fill=\"#ffffff\" fill-rule=\"evenodd\" fill-opacity=\"1\"/>\n<polyline clip-path=\"url(#clip080)\" style=\"stroke:#000000; stroke-linecap:round; stroke-linejoin:round; stroke-width:4; stroke-opacity:1; fill:none\" points=\"2004.8,406.258 2279.3,406.258 2279.3,95.2176 2004.8,95.2176 2004.8,406.258 \"/>\n<polyline clip-path=\"url(#clip080)\" style=\"stroke:#0000ff; stroke-linecap:round; stroke-linejoin:round; stroke-width:4; stroke-opacity:1; fill:none\" points=\"2029.29,147.058 2176.19,147.058 \"/>\n<path clip-path=\"url(#clip080)\" d=\"M2214.52 166.745 Q2212.71 171.375 2211 172.787 Q2209.29 174.199 2206.42 174.199 L2203.01 174.199 L2203.01 170.634 L2205.51 170.634 Q2207.27 170.634 2208.25 169.8 Q2209.22 168.967 2210.4 165.865 L2211.16 163.921 L2200.68 138.412 L2205.19 138.412 L2213.29 158.689 L2221.39 138.412 L2225.91 138.412 L2214.52 166.745 Z\" fill=\"#000000\" fill-rule=\"nonzero\" fill-opacity=\"1\" /><path clip-path=\"url(#clip080)\" d=\"M2233.2 160.402 L2240.84 160.402 L2240.84 134.037 L2232.53 135.703 L2232.53 131.444 L2240.79 129.778 L2245.47 129.778 L2245.47 160.402 L2253.11 160.402 L2253.11 164.338 L2233.2 164.338 L2233.2 160.402 Z\" fill=\"#000000\" fill-rule=\"nonzero\" fill-opacity=\"1\" /><polyline clip-path=\"url(#clip080)\" style=\"stroke:#ff0000; stroke-linecap:round; stroke-linejoin:round; stroke-width:4; stroke-opacity:1; fill:none\" points=\"2029.29,198.898 2176.19,198.898 \"/>\n<path clip-path=\"url(#clip080)\" d=\"M2214.52 218.585 Q2212.71 223.215 2211 224.627 Q2209.29 226.039 2206.42 226.039 L2203.01 226.039 L2203.01 222.474 L2205.51 222.474 Q2207.27 222.474 2208.25 221.64 Q2209.22 220.807 2210.4 217.705 L2211.16 215.761 L2200.68 190.252 L2205.19 190.252 L2213.29 210.529 L2221.39 190.252 L2225.91 190.252 L2214.52 218.585 Z\" fill=\"#000000\" fill-rule=\"nonzero\" fill-opacity=\"1\" /><path clip-path=\"url(#clip080)\" d=\"M2236.42 212.242 L2252.74 212.242 L2252.74 216.178 L2230.79 216.178 L2230.79 212.242 Q2233.45 209.488 2238.04 204.858 Q2242.64 200.205 2243.82 198.863 Q2246.07 196.34 2246.95 194.604 Q2247.85 192.844 2247.85 191.155 Q2247.85 188.4 2245.91 186.664 Q2243.99 184.928 2240.88 184.928 Q2238.69 184.928 2236.23 185.692 Q2233.8 186.455 2231.02 188.006 L2231.02 183.284 Q2233.85 182.15 2236.3 181.571 Q2238.75 180.993 2240.79 180.993 Q2246.16 180.993 2249.36 183.678 Q2252.55 186.363 2252.55 190.854 Q2252.55 192.983 2251.74 194.905 Q2250.95 196.803 2248.85 199.395 Q2248.27 200.067 2245.17 203.284 Q2242.07 206.479 2236.42 212.242 Z\" fill=\"#000000\" fill-rule=\"nonzero\" fill-opacity=\"1\" /><polyline clip-path=\"url(#clip080)\" style=\"stroke:#ffa500; stroke-linecap:round; stroke-linejoin:round; stroke-width:4; stroke-opacity:1; fill:none\" points=\"2029.29,250.738 2176.19,250.738 \"/>\n<path clip-path=\"url(#clip080)\" d=\"M2214.52 270.425 Q2212.71 275.055 2211 276.467 Q2209.29 277.879 2206.42 277.879 L2203.01 277.879 L2203.01 274.314 L2205.51 274.314 Q2207.27 274.314 2208.25 273.48 Q2209.22 272.647 2210.4 269.545 L2211.16 267.601 L2200.68 242.092 L2205.19 242.092 L2213.29 262.369 L2221.39 242.092 L2225.91 242.092 L2214.52 270.425 Z\" fill=\"#000000\" fill-rule=\"nonzero\" fill-opacity=\"1\" /><path clip-path=\"url(#clip080)\" d=\"M2246.56 249.383 Q2249.91 250.101 2251.79 252.369 Q2253.69 254.638 2253.69 257.971 Q2253.69 263.087 2250.17 265.888 Q2246.65 268.689 2240.17 268.689 Q2237.99 268.689 2235.68 268.249 Q2233.38 267.832 2230.93 266.976 L2230.93 262.462 Q2232.88 263.596 2235.19 264.175 Q2237.5 264.754 2240.03 264.754 Q2244.43 264.754 2246.72 263.018 Q2249.03 261.281 2249.03 257.971 Q2249.03 254.916 2246.88 253.203 Q2244.75 251.467 2240.93 251.467 L2236.9 251.467 L2236.9 247.624 L2241.12 247.624 Q2244.57 247.624 2246.39 246.258 Q2248.22 244.87 2248.22 242.277 Q2248.22 239.615 2246.32 238.203 Q2244.45 236.768 2240.93 236.768 Q2239.01 236.768 2236.81 237.184 Q2234.61 237.601 2231.97 238.481 L2231.97 234.314 Q2234.63 233.573 2236.95 233.203 Q2239.29 232.833 2241.35 232.833 Q2246.67 232.833 2249.77 235.263 Q2252.88 237.67 2252.88 241.791 Q2252.88 244.661 2251.23 246.652 Q2249.59 248.62 2246.56 249.383 Z\" fill=\"#000000\" fill-rule=\"nonzero\" fill-opacity=\"1\" /><polyline clip-path=\"url(#clip080)\" style=\"stroke:#a52a2a; stroke-linecap:round; stroke-linejoin:round; stroke-width:4; stroke-opacity:1; fill:none\" points=\"2029.29,302.578 2176.19,302.578 \"/>\n<path clip-path=\"url(#clip080)\" d=\"M2214.52 322.265 Q2212.71 326.895 2211 328.307 Q2209.29 329.719 2206.42 329.719 L2203.01 329.719 L2203.01 326.154 L2205.51 326.154 Q2207.27 326.154 2208.25 325.32 Q2209.22 324.487 2210.4 321.385 L2211.16 319.441 L2200.68 293.932 L2205.19 293.932 L2213.29 314.209 L2221.39 293.932 L2225.91 293.932 L2214.52 322.265 Z\" fill=\"#000000\" fill-rule=\"nonzero\" fill-opacity=\"1\" /><path clip-path=\"url(#clip080)\" d=\"M2245.24 289.372 L2233.43 307.821 L2245.24 307.821 L2245.24 289.372 M2244.01 285.298 L2249.89 285.298 L2249.89 307.821 L2254.82 307.821 L2254.82 311.709 L2249.89 311.709 L2249.89 319.858 L2245.24 319.858 L2245.24 311.709 L2229.63 311.709 L2229.63 307.196 L2244.01 285.298 Z\" fill=\"#000000\" fill-rule=\"nonzero\" fill-opacity=\"1\" /><polyline clip-path=\"url(#clip080)\" style=\"stroke:#000000; stroke-linecap:round; stroke-linejoin:round; stroke-width:4; stroke-opacity:1; fill:none\" points=\"2029.29,354.418 2176.19,354.418 \"/>\n<path clip-path=\"url(#clip080)\" d=\"M2214.52 374.105 Q2212.71 378.735 2211 380.147 Q2209.29 381.559 2206.42 381.559 L2203.01 381.559 L2203.01 377.994 L2205.51 377.994 Q2207.27 377.994 2208.25 377.16 Q2209.22 376.327 2210.4 373.225 L2211.16 371.281 L2200.68 345.772 L2205.19 345.772 L2213.29 366.049 L2221.39 345.772 L2225.91 345.772 L2214.52 374.105 Z\" fill=\"#000000\" fill-rule=\"nonzero\" fill-opacity=\"1\" /><path clip-path=\"url(#clip080)\" d=\"M2232.44 337.138 L2250.79 337.138 L2250.79 341.073 L2236.72 341.073 L2236.72 349.545 Q2237.74 349.198 2238.75 349.036 Q2239.77 348.85 2240.79 348.85 Q2246.58 348.85 2249.96 352.022 Q2253.34 355.193 2253.34 360.61 Q2253.34 366.188 2249.87 369.29 Q2246.39 372.369 2240.07 372.369 Q2237.9 372.369 2235.63 371.998 Q2233.38 371.628 2230.98 370.887 L2230.98 366.188 Q2233.06 367.323 2235.28 367.878 Q2237.5 368.434 2239.98 368.434 Q2243.99 368.434 2246.32 366.327 Q2248.66 364.221 2248.66 360.61 Q2248.66 356.999 2246.32 354.892 Q2243.99 352.786 2239.98 352.786 Q2238.11 352.786 2236.23 353.202 Q2234.38 353.619 2232.44 354.499 L2232.44 337.138 Z\" fill=\"#000000\" fill-rule=\"nonzero\" fill-opacity=\"1\" /></svg>\n",
      "text/html": [
       "<?xml version=\"1.0\" encoding=\"utf-8\"?>\n",
       "<svg xmlns=\"http://www.w3.org/2000/svg\" xmlns:xlink=\"http://www.w3.org/1999/xlink\" width=\"600\" height=\"400\" viewBox=\"0 0 2400 1600\">\n",
       "<defs>\n",
       "  <clipPath id=\"clip130\">\n",
       "    <rect x=\"0\" y=\"0\" width=\"2400\" height=\"1600\"/>\n",
       "  </clipPath>\n",
       "</defs>\n",
       "<path clip-path=\"url(#clip130)\" d=\"M0 1600 L2400 1600 L2400 0 L0 0  Z\" fill=\"#ffffff\" fill-rule=\"evenodd\" fill-opacity=\"1\"/>\n",
       "<defs>\n",
       "  <clipPath id=\"clip131\">\n",
       "    <rect x=\"480\" y=\"0\" width=\"1681\" height=\"1600\"/>\n",
       "  </clipPath>\n",
       "</defs>\n",
       "<path clip-path=\"url(#clip130)\" d=\"M149.191 1486.45 L2352.76 1486.45 L2352.76 47.2441 L149.191 47.2441  Z\" fill=\"#ffffff\" fill-rule=\"evenodd\" fill-opacity=\"1\"/>\n",
       "<defs>\n",
       "  <clipPath id=\"clip132\">\n",
       "    <rect x=\"149\" y=\"47\" width=\"2205\" height=\"1440\"/>\n",
       "  </clipPath>\n",
       "</defs>\n",
       "<polyline clip-path=\"url(#clip132)\" style=\"stroke:#000000; stroke-linecap:round; stroke-linejoin:round; stroke-width:2; stroke-opacity:0.1; fill:none\" points=\"185.242,1486.45 185.242,47.2441 \"/>\n",
       "<polyline clip-path=\"url(#clip132)\" style=\"stroke:#000000; stroke-linecap:round; stroke-linejoin:round; stroke-width:2; stroke-opacity:0.1; fill:none\" points=\"711.529,1486.45 711.529,47.2441 \"/>\n",
       "<polyline clip-path=\"url(#clip132)\" style=\"stroke:#000000; stroke-linecap:round; stroke-linejoin:round; stroke-width:2; stroke-opacity:0.1; fill:none\" points=\"1237.82,1486.45 1237.82,47.2441 \"/>\n",
       "<polyline clip-path=\"url(#clip132)\" style=\"stroke:#000000; stroke-linecap:round; stroke-linejoin:round; stroke-width:2; stroke-opacity:0.1; fill:none\" points=\"1764.1,1486.45 1764.1,47.2441 \"/>\n",
       "<polyline clip-path=\"url(#clip132)\" style=\"stroke:#000000; stroke-linecap:round; stroke-linejoin:round; stroke-width:2; stroke-opacity:0.1; fill:none\" points=\"2290.39,1486.45 2290.39,47.2441 \"/>\n",
       "<polyline clip-path=\"url(#clip130)\" style=\"stroke:#000000; stroke-linecap:round; stroke-linejoin:round; stroke-width:4; stroke-opacity:1; fill:none\" points=\"149.191,1486.45 2352.76,1486.45 \"/>\n",
       "<polyline clip-path=\"url(#clip130)\" style=\"stroke:#000000; stroke-linecap:round; stroke-linejoin:round; stroke-width:4; stroke-opacity:1; fill:none\" points=\"185.242,1486.45 185.242,1467.55 \"/>\n",
       "<polyline clip-path=\"url(#clip130)\" style=\"stroke:#000000; stroke-linecap:round; stroke-linejoin:round; stroke-width:4; stroke-opacity:1; fill:none\" points=\"711.529,1486.45 711.529,1467.55 \"/>\n",
       "<polyline clip-path=\"url(#clip130)\" style=\"stroke:#000000; stroke-linecap:round; stroke-linejoin:round; stroke-width:4; stroke-opacity:1; fill:none\" points=\"1237.82,1486.45 1237.82,1467.55 \"/>\n",
       "<polyline clip-path=\"url(#clip130)\" style=\"stroke:#000000; stroke-linecap:round; stroke-linejoin:round; stroke-width:4; stroke-opacity:1; fill:none\" points=\"1764.1,1486.45 1764.1,1467.55 \"/>\n",
       "<polyline clip-path=\"url(#clip130)\" style=\"stroke:#000000; stroke-linecap:round; stroke-linejoin:round; stroke-width:4; stroke-opacity:1; fill:none\" points=\"2290.39,1486.45 2290.39,1467.55 \"/>\n",
       "<path clip-path=\"url(#clip130)\" d=\"M185.242 1517.37 Q181.63 1517.37 179.802 1520.93 Q177.996 1524.47 177.996 1531.6 Q177.996 1538.71 179.802 1542.27 Q181.63 1545.82 185.242 1545.82 Q188.876 1545.82 190.681 1542.27 Q192.51 1538.71 192.51 1531.6 Q192.51 1524.47 190.681 1520.93 Q188.876 1517.37 185.242 1517.37 M185.242 1513.66 Q191.052 1513.66 194.107 1518.27 Q197.186 1522.85 197.186 1531.6 Q197.186 1540.33 194.107 1544.94 Q191.052 1549.52 185.242 1549.52 Q179.431 1549.52 176.353 1544.94 Q173.297 1540.33 173.297 1531.6 Q173.297 1522.85 176.353 1518.27 Q179.431 1513.66 185.242 1513.66 Z\" fill=\"#000000\" fill-rule=\"nonzero\" fill-opacity=\"1\" /><path clip-path=\"url(#clip130)\" d=\"M686.217 1544.91 L693.855 1544.91 L693.855 1518.55 L685.545 1520.21 L685.545 1515.95 L693.809 1514.29 L698.485 1514.29 L698.485 1544.91 L706.124 1544.91 L706.124 1548.85 L686.217 1548.85 L686.217 1544.91 Z\" fill=\"#000000\" fill-rule=\"nonzero\" fill-opacity=\"1\" /><path clip-path=\"url(#clip130)\" d=\"M725.568 1517.37 Q721.957 1517.37 720.128 1520.93 Q718.323 1524.47 718.323 1531.6 Q718.323 1538.71 720.128 1542.27 Q721.957 1545.82 725.568 1545.82 Q729.202 1545.82 731.008 1542.27 Q732.837 1538.71 732.837 1531.6 Q732.837 1524.47 731.008 1520.93 Q729.202 1517.37 725.568 1517.37 M725.568 1513.66 Q731.378 1513.66 734.434 1518.27 Q737.513 1522.85 737.513 1531.6 Q737.513 1540.33 734.434 1544.94 Q731.378 1549.52 725.568 1549.52 Q719.758 1549.52 716.679 1544.94 Q713.624 1540.33 713.624 1531.6 Q713.624 1522.85 716.679 1518.27 Q719.758 1513.66 725.568 1513.66 Z\" fill=\"#000000\" fill-rule=\"nonzero\" fill-opacity=\"1\" /><path clip-path=\"url(#clip130)\" d=\"M1216.59 1544.91 L1232.91 1544.91 L1232.91 1548.85 L1210.96 1548.85 L1210.96 1544.91 Q1213.63 1542.16 1218.21 1537.53 Q1222.82 1532.88 1224 1531.53 Q1226.24 1529.01 1227.12 1527.27 Q1228.02 1525.51 1228.02 1523.82 Q1228.02 1521.07 1226.08 1519.33 Q1224.16 1517.6 1221.06 1517.6 Q1218.86 1517.6 1216.4 1518.36 Q1213.97 1519.13 1211.2 1520.68 L1211.2 1515.95 Q1214.02 1514.82 1216.47 1514.24 Q1218.93 1513.66 1220.96 1513.66 Q1226.33 1513.66 1229.53 1516.35 Q1232.72 1519.03 1232.72 1523.52 Q1232.72 1525.65 1231.91 1527.57 Q1231.13 1529.47 1229.02 1532.07 Q1228.44 1532.74 1225.34 1535.95 Q1222.24 1539.15 1216.59 1544.91 Z\" fill=\"#000000\" fill-rule=\"nonzero\" fill-opacity=\"1\" /><path clip-path=\"url(#clip130)\" d=\"M1252.72 1517.37 Q1249.11 1517.37 1247.28 1520.93 Q1245.48 1524.47 1245.48 1531.6 Q1245.48 1538.71 1247.28 1542.27 Q1249.11 1545.82 1252.72 1545.82 Q1256.36 1545.82 1258.16 1542.27 Q1259.99 1538.71 1259.99 1531.6 Q1259.99 1524.47 1258.16 1520.93 Q1256.36 1517.37 1252.72 1517.37 M1252.72 1513.66 Q1258.53 1513.66 1261.59 1518.27 Q1264.67 1522.85 1264.67 1531.6 Q1264.67 1540.33 1261.59 1544.94 Q1258.53 1549.52 1252.72 1549.52 Q1246.91 1549.52 1243.83 1544.94 Q1240.78 1540.33 1240.78 1531.6 Q1240.78 1522.85 1243.83 1518.27 Q1246.91 1513.66 1252.72 1513.66 Z\" fill=\"#000000\" fill-rule=\"nonzero\" fill-opacity=\"1\" /><path clip-path=\"url(#clip130)\" d=\"M1752.95 1530.21 Q1756.3 1530.93 1758.18 1533.2 Q1760.08 1535.47 1760.08 1538.8 Q1760.08 1543.92 1756.56 1546.72 Q1753.04 1549.52 1746.56 1549.52 Q1744.38 1549.52 1742.07 1549.08 Q1739.77 1548.66 1737.32 1547.81 L1737.32 1543.29 Q1739.27 1544.43 1741.58 1545.01 Q1743.9 1545.58 1746.42 1545.58 Q1750.82 1545.58 1753.11 1543.85 Q1755.42 1542.11 1755.42 1538.8 Q1755.42 1535.75 1753.27 1534.03 Q1751.14 1532.3 1747.32 1532.3 L1743.29 1532.3 L1743.29 1528.45 L1747.51 1528.45 Q1750.96 1528.45 1752.78 1527.09 Q1754.61 1525.7 1754.61 1523.11 Q1754.61 1520.45 1752.71 1519.03 Q1750.84 1517.6 1747.32 1517.6 Q1745.4 1517.6 1743.2 1518.01 Q1741 1518.43 1738.36 1519.31 L1738.36 1515.14 Q1741.02 1514.4 1743.34 1514.03 Q1745.68 1513.66 1747.74 1513.66 Q1753.06 1513.66 1756.16 1516.09 Q1759.27 1518.5 1759.27 1522.62 Q1759.27 1525.49 1757.62 1527.48 Q1755.98 1529.45 1752.95 1530.21 Z\" fill=\"#000000\" fill-rule=\"nonzero\" fill-opacity=\"1\" /><path clip-path=\"url(#clip130)\" d=\"M1778.94 1517.37 Q1775.33 1517.37 1773.5 1520.93 Q1771.7 1524.47 1771.7 1531.6 Q1771.7 1538.71 1773.5 1542.27 Q1775.33 1545.82 1778.94 1545.82 Q1782.58 1545.82 1784.38 1542.27 Q1786.21 1538.71 1786.21 1531.6 Q1786.21 1524.47 1784.38 1520.93 Q1782.58 1517.37 1778.94 1517.37 M1778.94 1513.66 Q1784.75 1513.66 1787.81 1518.27 Q1790.89 1522.85 1790.89 1531.6 Q1790.89 1540.33 1787.81 1544.94 Q1784.75 1549.52 1778.94 1549.52 Q1773.13 1549.52 1770.05 1544.94 Q1767 1540.33 1767 1531.6 Q1767 1522.85 1770.05 1518.27 Q1773.13 1513.66 1778.94 1513.66 Z\" fill=\"#000000\" fill-rule=\"nonzero\" fill-opacity=\"1\" /><path clip-path=\"url(#clip130)\" d=\"M2278.56 1518.36 L2266.76 1536.81 L2278.56 1536.81 L2278.56 1518.36 M2277.34 1514.29 L2283.21 1514.29 L2283.21 1536.81 L2288.15 1536.81 L2288.15 1540.7 L2283.21 1540.7 L2283.21 1548.85 L2278.56 1548.85 L2278.56 1540.7 L2262.96 1540.7 L2262.96 1536.19 L2277.34 1514.29 Z\" fill=\"#000000\" fill-rule=\"nonzero\" fill-opacity=\"1\" /><path clip-path=\"url(#clip130)\" d=\"M2305.88 1517.37 Q2302.27 1517.37 2300.44 1520.93 Q2298.63 1524.47 2298.63 1531.6 Q2298.63 1538.71 2300.44 1542.27 Q2302.27 1545.82 2305.88 1545.82 Q2309.51 1545.82 2311.32 1542.27 Q2313.15 1538.71 2313.15 1531.6 Q2313.15 1524.47 2311.32 1520.93 Q2309.51 1517.37 2305.88 1517.37 M2305.88 1513.66 Q2311.69 1513.66 2314.74 1518.27 Q2317.82 1522.85 2317.82 1531.6 Q2317.82 1540.33 2314.74 1544.94 Q2311.69 1549.52 2305.88 1549.52 Q2300.07 1549.52 2296.99 1544.94 Q2293.93 1540.33 2293.93 1531.6 Q2293.93 1522.85 2296.99 1518.27 Q2300.07 1513.66 2305.88 1513.66 Z\" fill=\"#000000\" fill-rule=\"nonzero\" fill-opacity=\"1\" /><polyline clip-path=\"url(#clip132)\" style=\"stroke:#000000; stroke-linecap:round; stroke-linejoin:round; stroke-width:2; stroke-opacity:0.1; fill:none\" points=\"149.191,1292.36 2352.76,1292.36 \"/>\n",
       "<polyline clip-path=\"url(#clip132)\" style=\"stroke:#000000; stroke-linecap:round; stroke-linejoin:round; stroke-width:2; stroke-opacity:0.1; fill:none\" points=\"149.191,1008.36 2352.76,1008.36 \"/>\n",
       "<polyline clip-path=\"url(#clip132)\" style=\"stroke:#000000; stroke-linecap:round; stroke-linejoin:round; stroke-width:2; stroke-opacity:0.1; fill:none\" points=\"149.191,724.358 2352.76,724.358 \"/>\n",
       "<polyline clip-path=\"url(#clip132)\" style=\"stroke:#000000; stroke-linecap:round; stroke-linejoin:round; stroke-width:2; stroke-opacity:0.1; fill:none\" points=\"149.191,440.357 2352.76,440.357 \"/>\n",
       "<polyline clip-path=\"url(#clip132)\" style=\"stroke:#000000; stroke-linecap:round; stroke-linejoin:round; stroke-width:2; stroke-opacity:0.1; fill:none\" points=\"149.191,156.356 2352.76,156.356 \"/>\n",
       "<polyline clip-path=\"url(#clip130)\" style=\"stroke:#000000; stroke-linecap:round; stroke-linejoin:round; stroke-width:4; stroke-opacity:1; fill:none\" points=\"149.191,1486.45 149.191,47.2441 \"/>\n",
       "<polyline clip-path=\"url(#clip130)\" style=\"stroke:#000000; stroke-linecap:round; stroke-linejoin:round; stroke-width:4; stroke-opacity:1; fill:none\" points=\"149.191,1292.36 168.089,1292.36 \"/>\n",
       "<polyline clip-path=\"url(#clip130)\" style=\"stroke:#000000; stroke-linecap:round; stroke-linejoin:round; stroke-width:4; stroke-opacity:1; fill:none\" points=\"149.191,1008.36 168.089,1008.36 \"/>\n",
       "<polyline clip-path=\"url(#clip130)\" style=\"stroke:#000000; stroke-linecap:round; stroke-linejoin:round; stroke-width:4; stroke-opacity:1; fill:none\" points=\"149.191,724.358 168.089,724.358 \"/>\n",
       "<polyline clip-path=\"url(#clip130)\" style=\"stroke:#000000; stroke-linecap:round; stroke-linejoin:round; stroke-width:4; stroke-opacity:1; fill:none\" points=\"149.191,440.357 168.089,440.357 \"/>\n",
       "<polyline clip-path=\"url(#clip130)\" style=\"stroke:#000000; stroke-linecap:round; stroke-linejoin:round; stroke-width:4; stroke-opacity:1; fill:none\" points=\"149.191,156.356 168.089,156.356 \"/>\n",
       "<path clip-path=\"url(#clip130)\" d=\"M50.9921 1292.81 L80.6679 1292.81 L80.6679 1296.75 L50.9921 1296.75 L50.9921 1292.81 Z\" fill=\"#000000\" fill-rule=\"nonzero\" fill-opacity=\"1\" /><path clip-path=\"url(#clip130)\" d=\"M103.608 1279.15 L91.8021 1297.6 L103.608 1297.6 L103.608 1279.15 M102.381 1275.08 L108.26 1275.08 L108.26 1297.6 L113.191 1297.6 L113.191 1301.49 L108.26 1301.49 L108.26 1309.64 L103.608 1309.64 L103.608 1301.49 L88.0058 1301.49 L88.0058 1296.98 L102.381 1275.08 Z\" fill=\"#000000\" fill-rule=\"nonzero\" fill-opacity=\"1\" /><path clip-path=\"url(#clip130)\" d=\"M52.1264 1008.81 L81.8021 1008.81 L81.8021 1012.75 L52.1264 1012.75 L52.1264 1008.81 Z\" fill=\"#000000\" fill-rule=\"nonzero\" fill-opacity=\"1\" /><path clip-path=\"url(#clip130)\" d=\"M106.061 1007 Q109.418 1007.72 111.293 1009.99 Q113.191 1012.26 113.191 1015.59 Q113.191 1020.71 109.672 1023.51 Q106.154 1026.31 99.6724 1026.31 Q97.4965 1026.31 95.1817 1025.87 Q92.89 1025.45 90.4364 1024.6 L90.4364 1020.08 Q92.3808 1021.22 94.6956 1021.8 Q97.0104 1022.37 99.5335 1022.37 Q103.932 1022.37 106.223 1020.64 Q108.538 1018.9 108.538 1015.59 Q108.538 1012.54 106.385 1010.82 Q104.256 1009.09 100.436 1009.09 L96.4085 1009.09 L96.4085 1005.25 L100.621 1005.25 Q104.071 1005.25 105.899 1003.88 Q107.728 1002.49 107.728 999.898 Q107.728 997.236 105.83 995.824 Q103.955 994.389 100.436 994.389 Q98.515 994.389 96.316 994.806 Q94.1169 995.222 91.478 996.102 L91.478 991.935 Q94.14 991.195 96.4548 990.824 Q98.7928 990.454 100.853 990.454 Q106.177 990.454 109.279 992.884 Q112.381 995.292 112.381 999.412 Q112.381 1002.28 110.737 1004.27 Q109.094 1006.24 106.061 1007 Z\" fill=\"#000000\" fill-rule=\"nonzero\" fill-opacity=\"1\" /><path clip-path=\"url(#clip130)\" d=\"M53.0754 724.809 L82.7512 724.809 L82.7512 728.744 L53.0754 728.744 L53.0754 724.809 Z\" fill=\"#000000\" fill-rule=\"nonzero\" fill-opacity=\"1\" /><path clip-path=\"url(#clip130)\" d=\"M96.8715 737.703 L113.191 737.703 L113.191 741.638 L91.2465 741.638 L91.2465 737.703 Q93.9086 734.948 98.4919 730.319 Q103.098 725.666 104.279 724.323 Q106.524 721.8 107.404 720.064 Q108.307 718.305 108.307 716.615 Q108.307 713.86 106.362 712.124 Q104.441 710.388 101.339 710.388 Q99.14 710.388 96.6863 711.152 Q94.2558 711.916 91.478 713.467 L91.478 708.745 Q94.3021 707.61 96.7558 707.032 Q99.2095 706.453 101.246 706.453 Q106.617 706.453 109.811 709.138 Q113.006 711.823 113.006 716.314 Q113.006 718.444 112.196 720.365 Q111.408 722.263 109.302 724.856 Q108.723 725.527 105.621 728.744 Q102.52 731.939 96.8715 737.703 Z\" fill=\"#000000\" fill-rule=\"nonzero\" fill-opacity=\"1\" /><path clip-path=\"url(#clip130)\" d=\"M52.7051 440.808 L82.3808 440.808 L82.3808 444.743 L52.7051 444.743 L52.7051 440.808 Z\" fill=\"#000000\" fill-rule=\"nonzero\" fill-opacity=\"1\" /><path clip-path=\"url(#clip130)\" d=\"M93.2836 453.702 L100.922 453.702 L100.922 427.336 L92.6123 429.003 L92.6123 424.744 L100.876 423.077 L105.552 423.077 L105.552 453.702 L113.191 453.702 L113.191 457.637 L93.2836 457.637 L93.2836 453.702 Z\" fill=\"#000000\" fill-rule=\"nonzero\" fill-opacity=\"1\" /><path clip-path=\"url(#clip130)\" d=\"M101.246 142.155 Q97.6354 142.155 95.8067 145.719 Q94.0012 149.261 94.0012 156.391 Q94.0012 163.497 95.8067 167.062 Q97.6354 170.604 101.246 170.604 Q104.881 170.604 106.686 167.062 Q108.515 163.497 108.515 156.391 Q108.515 149.261 106.686 145.719 Q104.881 142.155 101.246 142.155 M101.246 138.451 Q107.057 138.451 110.112 143.057 Q113.191 147.641 113.191 156.391 Q113.191 165.117 110.112 169.724 Q107.057 174.307 101.246 174.307 Q95.4363 174.307 92.3576 169.724 Q89.3021 165.117 89.3021 156.391 Q89.3021 147.641 92.3576 143.057 Q95.4363 138.451 101.246 138.451 Z\" fill=\"#000000\" fill-rule=\"nonzero\" fill-opacity=\"1\" /><polyline clip-path=\"url(#clip132)\" style=\"stroke:#0000ff; stroke-linecap:round; stroke-linejoin:round; stroke-width:4; stroke-opacity:1; fill:none\" points=\"211.556,337.351 232.554,218.313 253.553,158.75 274.551,125.062 295.549,105.489 316.548,94.5593 337.546,89.3101 358.544,87.9763 379.543,89.439 400.541,92.9555 421.539,98.0159 442.538,104.26 463.536,111.428 484.534,119.407 505.533,127.896 526.531,136.86 547.529,146.213 568.528,155.885 589.526,165.821 610.524,175.977 631.523,186.314 652.521,196.801 673.519,207.413 694.518,218.126 715.516,228.921 736.514,239.782 757.513,250.695 778.511,261.647 799.509,272.545 820.508,283.545 841.506,294.556 862.504,305.57 883.503,316.58 904.501,327.582 925.499,338.569 946.498,349.538 967.496,360.485 988.494,371.406 1009.49,382.299 1030.49,393.161 1051.49,403.99 1072.49,414.783 1093.49,425.54 1114.48,436.258 1135.48,446.936 1156.48,457.574 1177.48,468.169 1198.48,478.724 1219.48,489.231 1240.47,499.669 1261.47,510.033 1282.47,520.416 1303.47,530.753 1324.47,541.045 1345.47,551.291 1366.46,561.499 1387.46,571.653 1408.46,581.761 1429.46,591.823 1450.46,601.84 1471.46,611.811 1492.45,621.736 1513.45,631.632 1534.45,641.465 1555.45,651.252 1576.45,660.994 1597.45,670.69 1618.44,680.342 1639.44,689.948 1660.44,699.51 1681.44,709.026 1702.44,718.547 1723.44,727.971 1744.43,737.351 1765.43,746.687 1786.43,755.979 1807.43,765.227 1828.43,774.432 1849.43,783.593 1870.42,792.71 1891.42,801.785 1912.42,810.816 1933.42,819.804 1954.42,828.911 1975.42,837.804 1996.41,846.655 2017.41,855.464 2038.41,864.231 2059.41,872.957 2080.41,881.641 2101.41,890.283 2122.4,898.885 2143.4,907.445 2164.4,915.965 2185.4,924.444 2206.4,932.883 2227.4,941.281 2248.39,949.639 2269.39,957.958 2290.39,966.238 \"/>\n",
       "<polyline clip-path=\"url(#clip132)\" style=\"stroke:#ff0000; stroke-linecap:round; stroke-linejoin:round; stroke-width:4; stroke-opacity:1; fill:none\" points=\"211.556,815.123 232.554,692.493 253.553,630.282 274.551,594.647 295.549,573.639 316.548,561.641 337.546,555.584 358.544,553.626 379.543,554.6 400.541,557.727 421.539,562.475 442.538,568.469 463.536,575.438 484.534,583.261 505.533,591.63 526.531,600.506 547.529,609.798 568.528,619.433 589.526,629.354 610.524,639.512 631.523,649.867 652.521,660.387 673.519,671.044 694.518,681.813 715.516,692.673 736.514,703.609 757.513,714.603 778.511,725.643 799.509,736.636 820.508,747.736 841.506,758.852 862.504,769.975 883.503,781.1 904.501,792.219 925.499,803.328 946.498,814.423 967.496,825.499 988.494,836.552 1009.49,847.581 1030.49,858.582 1051.49,869.552 1072.49,880.49 1093.49,891.395 1114.48,902.264 1135.48,913.096 1156.48,923.891 1177.48,934.646 1198.48,945.363 1219.48,955.944 1240.47,966.586 1261.47,977.189 1282.47,987.747 1303.47,998.262 1324.47,1008.74 1345.47,1019.17 1366.46,1029.56 1387.46,1039.9 1408.46,1050.2 1429.46,1060.46 1450.46,1070.68 1471.46,1080.85 1492.45,1090.98 1513.45,1101.08 1534.45,1111.13 1555.45,1121.13 1576.45,1131.09 1597.45,1141.01 1618.44,1150.89 1639.44,1160.72 1660.44,1170.52 1681.44,1180.27 1702.44,1190.01 1723.44,1199.68 1744.43,1209.31 1765.43,1218.89 1786.43,1228.43 1807.43,1237.94 1828.43,1247.4 1849.43,1256.83 1870.42,1266.21 1891.42,1275.55 1912.42,1284.86 1933.42,1294.12 1954.42,1303.46 1975.42,1312.64 1996.41,1321.78 2017.41,1330.88 2038.41,1339.94 2059.41,1348.97 2080.41,1357.95 2101.41,1366.9 2122.4,1375.81 2143.4,1384.68 2164.4,1393.51 2185.4,1402.3 2206.4,1411.06 2227.4,1419.78 2248.39,1428.46 2269.39,1437.11 2290.39,1445.72 \"/>\n",
       "<polyline clip-path=\"url(#clip132)\" style=\"stroke:#ffa500; stroke-linecap:round; stroke-linejoin:round; stroke-width:4; stroke-opacity:1; fill:none\" points=\"211.556,363.34 232.554,369.577 253.553,376.589 274.551,384.499 295.549,393.296 316.548,402.888 337.546,413.144 358.544,423.928 379.543,435.121 400.541,446.622 421.539,458.349 442.538,470.238 463.536,482.237 484.534,494.305 505.533,506.411 526.531,518.526 547.529,530.629 568.528,542.701 589.526,554.723 610.524,566.684 631.523,578.568 652.521,590.365 673.519,602.066 694.518,613.66 715.516,625.14 736.514,636.498 757.513,647.729 778.511,658.828 799.509,669.789 820.508,680.61 841.506,691.288 862.504,701.82 883.503,712.207 904.501,722.447 925.499,732.54 946.498,742.489 967.496,752.293 988.494,761.956 1009.49,771.479 1030.49,780.867 1051.49,790.081 1072.49,799.212 1093.49,808.217 1114.48,817.101 1135.48,825.869 1156.48,834.524 1177.48,843.073 1198.48,851.519 1219.48,859.867 1240.47,868.122 1261.47,876.29 1282.47,884.373 1303.47,892.377 1324.47,900.306 1345.47,908.165 1366.46,915.959 1387.46,923.689 1408.46,931.359 1429.46,938.975 1450.46,946.539 1471.46,954.054 1492.45,961.523 1513.45,968.954 1534.45,976.34 1555.45,983.689 1576.45,991.002 1597.45,998.282 1618.44,1005.53 1639.44,1012.75 1660.44,1019.94 1681.44,1027.1 1702.44,1034.25 1723.44,1041.37 1744.43,1048.46 1765.43,1055.53 1786.43,1062.58 1807.43,1069.61 1828.43,1076.62 1849.43,1083.61 1870.42,1090.58 1891.42,1097.54 1912.42,1104.47 1933.42,1111.39 1954.42,1118.32 1975.42,1125.2 1996.41,1132.07 2017.41,1138.92 2038.41,1145.75 2059.41,1152.57 2080.41,1159.37 2101.41,1166.15 2122.4,1172.91 2143.4,1179.66 2164.4,1186.39 2185.4,1193.1 2206.4,1199.79 2227.4,1206.47 2248.39,1213.13 2269.39,1219.76 2290.39,1226.38 \"/>\n",
       "<polyline clip-path=\"url(#clip132)\" style=\"stroke:#a52a2a; stroke-linecap:round; stroke-linejoin:round; stroke-width:4; stroke-opacity:1; fill:none\" points=\"211.556,815.123 232.554,692.492 253.553,630.281 274.551,594.645 295.549,573.635 316.548,561.637 337.546,555.577 358.544,553.617 379.543,554.587 400.541,557.711 421.539,562.455 442.538,568.444 463.536,575.406 484.534,583.222 505.533,591.583 526.531,600.449 547.529,609.731 568.528,619.354 589.526,629.261 610.524,639.404 631.523,649.743 652.521,660.245 673.519,670.881 694.518,681.628 715.516,692.465 736.514,703.374 757.513,714.339 778.511,725.349 799.509,736.309 820.508,747.373 841.506,758.451 862.504,769.534 883.503,780.615 904.501,791.688 925.499,802.748 946.498,813.791 967.496,824.812 988.494,835.809 1009.49,846.777 1030.49,857.714 1051.49,868.618 1072.49,879.486 1093.49,890.318 1114.48,901.112 1135.48,911.865 1156.48,922.578 1177.48,933.248 1198.48,943.877 1219.48,954.369 1240.47,964.916 1261.47,975.422 1282.47,985.879 1303.47,996.292 1324.47,1006.66 1345.47,1016.98 1366.46,1027.26 1387.46,1037.49 1408.46,1047.67 1429.46,1057.81 1450.46,1067.91 1471.46,1077.95 1492.45,1087.95 1513.45,1097.92 1534.45,1107.83 1555.45,1117.7 1576.45,1127.52 1597.45,1137.3 1618.44,1147.03 1639.44,1156.72 1660.44,1166.37 1681.44,1175.97 1702.44,1185.56 1723.44,1195.07 1744.43,1204.54 1765.43,1213.96 1786.43,1223.34 1807.43,1232.68 1828.43,1241.98 1849.43,1251.24 1870.42,1260.45 1891.42,1269.62 1912.42,1278.75 1933.42,1287.84 1954.42,1297 1975.42,1306 1996.41,1314.96 2017.41,1323.88 2038.41,1332.76 2059.41,1341.59 2080.41,1350.39 2101.41,1359.15 2122.4,1367.87 2143.4,1376.54 2164.4,1385.18 2185.4,1393.78 2206.4,1402.34 2227.4,1410.86 2248.39,1419.34 2269.39,1427.78 2290.39,1436.19 \"/>\n",
       "<polyline clip-path=\"url(#clip132)\" style=\"stroke:#000000; stroke-linecap:round; stroke-linejoin:round; stroke-width:4; stroke-opacity:1; fill:none\" points=\"211.556,815.119 232.554,692.484 253.553,630.267 274.551,594.622 295.549,573.601 316.548,561.587 337.546,555.508 358.544,553.523 379.543,554.463 400.541,557.549 421.539,562.249 442.538,568.185 463.536,575.086 484.534,582.83 505.533,591.108 526.531,599.881 547.529,609.056 568.528,618.56 589.526,628.332 610.524,638.326 631.523,648.499 652.521,658.818 673.519,669.253 694.518,679.781 715.516,690.378 736.514,701.027 757.513,711.712 778.511,722.419 799.509,733.056 820.508,743.773 841.506,754.479 862.504,765.167 883.503,775.828 904.501,786.458 925.499,797.049 946.498,807.598 967.496,818.1 988.494,828.552 1009.49,838.951 1030.49,849.294 1051.49,859.579 1072.49,869.804 1093.49,879.968 1114.48,890.07 1135.48,900.108 1156.48,910.083 1177.48,919.993 1198.48,929.839 1219.48,939.538 1240.47,949.261 1261.47,958.921 1282.47,968.515 1303.47,978.045 1324.47,987.511 1345.47,996.915 1366.46,1006.26 1387.46,1015.54 1408.46,1024.76 1429.46,1033.92 1450.46,1043.02 1471.46,1052.07 1492.45,1061.06 1513.45,1070 1534.45,1078.87 1555.45,1087.69 1576.45,1096.46 1597.45,1105.18 1618.44,1113.84 1639.44,1122.45 1660.44,1131.02 1681.44,1139.53 1702.44,1148.02 1723.44,1156.44 1744.43,1164.81 1765.43,1173.14 1786.43,1181.42 1807.43,1189.65 1828.43,1197.84 1849.43,1205.99 1870.42,1214.1 1891.42,1222.16 1912.42,1230.18 1933.42,1238.16 1954.42,1246.17 1975.42,1254.07 1996.41,1261.92 2017.41,1269.74 2038.41,1277.51 2059.41,1285.25 2080.41,1292.95 2101.41,1300.61 2122.4,1308.23 2143.4,1315.82 2164.4,1323.37 2185.4,1330.88 2206.4,1338.35 2227.4,1345.79 2248.39,1353.19 2269.39,1360.56 2290.39,1367.89 \"/>\n",
       "<path clip-path=\"url(#clip130)\" d=\"M2004.8 406.258 L2279.3 406.258 L2279.3 95.2176 L2004.8 95.2176  Z\" fill=\"#ffffff\" fill-rule=\"evenodd\" fill-opacity=\"1\"/>\n",
       "<polyline clip-path=\"url(#clip130)\" style=\"stroke:#000000; stroke-linecap:round; stroke-linejoin:round; stroke-width:4; stroke-opacity:1; fill:none\" points=\"2004.8,406.258 2279.3,406.258 2279.3,95.2176 2004.8,95.2176 2004.8,406.258 \"/>\n",
       "<polyline clip-path=\"url(#clip130)\" style=\"stroke:#0000ff; stroke-linecap:round; stroke-linejoin:round; stroke-width:4; stroke-opacity:1; fill:none\" points=\"2029.29,147.058 2176.19,147.058 \"/>\n",
       "<path clip-path=\"url(#clip130)\" d=\"M2214.52 166.745 Q2212.71 171.375 2211 172.787 Q2209.29 174.199 2206.42 174.199 L2203.01 174.199 L2203.01 170.634 L2205.51 170.634 Q2207.27 170.634 2208.25 169.8 Q2209.22 168.967 2210.4 165.865 L2211.16 163.921 L2200.68 138.412 L2205.19 138.412 L2213.29 158.689 L2221.39 138.412 L2225.91 138.412 L2214.52 166.745 Z\" fill=\"#000000\" fill-rule=\"nonzero\" fill-opacity=\"1\" /><path clip-path=\"url(#clip130)\" d=\"M2233.2 160.402 L2240.84 160.402 L2240.84 134.037 L2232.53 135.703 L2232.53 131.444 L2240.79 129.778 L2245.47 129.778 L2245.47 160.402 L2253.11 160.402 L2253.11 164.338 L2233.2 164.338 L2233.2 160.402 Z\" fill=\"#000000\" fill-rule=\"nonzero\" fill-opacity=\"1\" /><polyline clip-path=\"url(#clip130)\" style=\"stroke:#ff0000; stroke-linecap:round; stroke-linejoin:round; stroke-width:4; stroke-opacity:1; fill:none\" points=\"2029.29,198.898 2176.19,198.898 \"/>\n",
       "<path clip-path=\"url(#clip130)\" d=\"M2214.52 218.585 Q2212.71 223.215 2211 224.627 Q2209.29 226.039 2206.42 226.039 L2203.01 226.039 L2203.01 222.474 L2205.51 222.474 Q2207.27 222.474 2208.25 221.64 Q2209.22 220.807 2210.4 217.705 L2211.16 215.761 L2200.68 190.252 L2205.19 190.252 L2213.29 210.529 L2221.39 190.252 L2225.91 190.252 L2214.52 218.585 Z\" fill=\"#000000\" fill-rule=\"nonzero\" fill-opacity=\"1\" /><path clip-path=\"url(#clip130)\" d=\"M2236.42 212.242 L2252.74 212.242 L2252.74 216.178 L2230.79 216.178 L2230.79 212.242 Q2233.45 209.488 2238.04 204.858 Q2242.64 200.205 2243.82 198.863 Q2246.07 196.34 2246.95 194.604 Q2247.85 192.844 2247.85 191.155 Q2247.85 188.4 2245.91 186.664 Q2243.99 184.928 2240.88 184.928 Q2238.69 184.928 2236.23 185.692 Q2233.8 186.455 2231.02 188.006 L2231.02 183.284 Q2233.85 182.15 2236.3 181.571 Q2238.75 180.993 2240.79 180.993 Q2246.16 180.993 2249.36 183.678 Q2252.55 186.363 2252.55 190.854 Q2252.55 192.983 2251.74 194.905 Q2250.95 196.803 2248.85 199.395 Q2248.27 200.067 2245.17 203.284 Q2242.07 206.479 2236.42 212.242 Z\" fill=\"#000000\" fill-rule=\"nonzero\" fill-opacity=\"1\" /><polyline clip-path=\"url(#clip130)\" style=\"stroke:#ffa500; stroke-linecap:round; stroke-linejoin:round; stroke-width:4; stroke-opacity:1; fill:none\" points=\"2029.29,250.738 2176.19,250.738 \"/>\n",
       "<path clip-path=\"url(#clip130)\" d=\"M2214.52 270.425 Q2212.71 275.055 2211 276.467 Q2209.29 277.879 2206.42 277.879 L2203.01 277.879 L2203.01 274.314 L2205.51 274.314 Q2207.27 274.314 2208.25 273.48 Q2209.22 272.647 2210.4 269.545 L2211.16 267.601 L2200.68 242.092 L2205.19 242.092 L2213.29 262.369 L2221.39 242.092 L2225.91 242.092 L2214.52 270.425 Z\" fill=\"#000000\" fill-rule=\"nonzero\" fill-opacity=\"1\" /><path clip-path=\"url(#clip130)\" d=\"M2246.56 249.383 Q2249.91 250.101 2251.79 252.369 Q2253.69 254.638 2253.69 257.971 Q2253.69 263.087 2250.17 265.888 Q2246.65 268.689 2240.17 268.689 Q2237.99 268.689 2235.68 268.249 Q2233.38 267.832 2230.93 266.976 L2230.93 262.462 Q2232.88 263.596 2235.19 264.175 Q2237.5 264.754 2240.03 264.754 Q2244.43 264.754 2246.72 263.018 Q2249.03 261.281 2249.03 257.971 Q2249.03 254.916 2246.88 253.203 Q2244.75 251.467 2240.93 251.467 L2236.9 251.467 L2236.9 247.624 L2241.12 247.624 Q2244.57 247.624 2246.39 246.258 Q2248.22 244.87 2248.22 242.277 Q2248.22 239.615 2246.32 238.203 Q2244.45 236.768 2240.93 236.768 Q2239.01 236.768 2236.81 237.184 Q2234.61 237.601 2231.97 238.481 L2231.97 234.314 Q2234.63 233.573 2236.95 233.203 Q2239.29 232.833 2241.35 232.833 Q2246.67 232.833 2249.77 235.263 Q2252.88 237.67 2252.88 241.791 Q2252.88 244.661 2251.23 246.652 Q2249.59 248.62 2246.56 249.383 Z\" fill=\"#000000\" fill-rule=\"nonzero\" fill-opacity=\"1\" /><polyline clip-path=\"url(#clip130)\" style=\"stroke:#a52a2a; stroke-linecap:round; stroke-linejoin:round; stroke-width:4; stroke-opacity:1; fill:none\" points=\"2029.29,302.578 2176.19,302.578 \"/>\n",
       "<path clip-path=\"url(#clip130)\" d=\"M2214.52 322.265 Q2212.71 326.895 2211 328.307 Q2209.29 329.719 2206.42 329.719 L2203.01 329.719 L2203.01 326.154 L2205.51 326.154 Q2207.27 326.154 2208.25 325.32 Q2209.22 324.487 2210.4 321.385 L2211.16 319.441 L2200.68 293.932 L2205.19 293.932 L2213.29 314.209 L2221.39 293.932 L2225.91 293.932 L2214.52 322.265 Z\" fill=\"#000000\" fill-rule=\"nonzero\" fill-opacity=\"1\" /><path clip-path=\"url(#clip130)\" d=\"M2245.24 289.372 L2233.43 307.821 L2245.24 307.821 L2245.24 289.372 M2244.01 285.298 L2249.89 285.298 L2249.89 307.821 L2254.82 307.821 L2254.82 311.709 L2249.89 311.709 L2249.89 319.858 L2245.24 319.858 L2245.24 311.709 L2229.63 311.709 L2229.63 307.196 L2244.01 285.298 Z\" fill=\"#000000\" fill-rule=\"nonzero\" fill-opacity=\"1\" /><polyline clip-path=\"url(#clip130)\" style=\"stroke:#000000; stroke-linecap:round; stroke-linejoin:round; stroke-width:4; stroke-opacity:1; fill:none\" points=\"2029.29,354.418 2176.19,354.418 \"/>\n",
       "<path clip-path=\"url(#clip130)\" d=\"M2214.52 374.105 Q2212.71 378.735 2211 380.147 Q2209.29 381.559 2206.42 381.559 L2203.01 381.559 L2203.01 377.994 L2205.51 377.994 Q2207.27 377.994 2208.25 377.16 Q2209.22 376.327 2210.4 373.225 L2211.16 371.281 L2200.68 345.772 L2205.19 345.772 L2213.29 366.049 L2221.39 345.772 L2225.91 345.772 L2214.52 374.105 Z\" fill=\"#000000\" fill-rule=\"nonzero\" fill-opacity=\"1\" /><path clip-path=\"url(#clip130)\" d=\"M2232.44 337.138 L2250.79 337.138 L2250.79 341.073 L2236.72 341.073 L2236.72 349.545 Q2237.74 349.198 2238.75 349.036 Q2239.77 348.85 2240.79 348.85 Q2246.58 348.85 2249.96 352.022 Q2253.34 355.193 2253.34 360.61 Q2253.34 366.188 2249.87 369.29 Q2246.39 372.369 2240.07 372.369 Q2237.9 372.369 2235.63 371.998 Q2233.38 371.628 2230.98 370.887 L2230.98 366.188 Q2233.06 367.323 2235.28 367.878 Q2237.5 368.434 2239.98 368.434 Q2243.99 368.434 2246.32 366.327 Q2248.66 364.221 2248.66 360.61 Q2248.66 356.999 2246.32 354.892 Q2243.99 352.786 2239.98 352.786 Q2238.11 352.786 2236.23 353.202 Q2234.38 353.619 2232.44 354.499 L2232.44 337.138 Z\" fill=\"#000000\" fill-rule=\"nonzero\" fill-opacity=\"1\" /></svg>\n"
      ]
     },
     "execution_count": 152,
     "metadata": {},
     "output_type": "execute_result"
    }
   ],
   "source": [
    "plot(\n",
    "    es_dsnb,\n",
    "    [log10.(dsnb_IO_nodecay_f21) log10.(dsnb_IO_iiidecay) log10.(dsnb_IO_C_235_235_bar) log10.(dsnb_IO_iidecay) log10.(dsnb_IO_idecay)],\n",
    "    c=[:blue :red :orange :brown :black]\n",
    ")"
   ]
  },
  {
   "cell_type": "code",
   "execution_count": 63,
   "metadata": {},
   "outputs": [],
   "source": [
    "function branching_3ν_test(casechoice, j, jbar, i, ibar)\n",
    "    if casechoice == \"A\"\n",
    "        if j == 2 && i == 1 && jbar == ibar\n",
    "            return 0.5\n",
    "        elseif j == 2 && i == 3\n",
    "            return 0.25\n",
    "        else\n",
    "            return 0.0\n",
    "        end\n",
    "    elseif casechoice == \"B\"\n",
    "        if j == 2 && i == 1 && jbar == ibar\n",
    "            return 1.0\n",
    "        elseif j == 1 && i == 3\n",
    "            return 0.5\n",
    "        else \n",
    "            return 0.0\n",
    "        end\n",
    "    elseif casechoice == \"C\"\n",
    "        if j == 2 && i == 3\n",
    "            return 0.5\n",
    "        elseif j == 1 && i == 3\n",
    "            return 0.5\n",
    "        else\n",
    "            return 0.0\n",
    "        end\n",
    "    elseif casechoice == \"democratic\"\n",
    "        if (j == 2 && i == 1 && jbar == ibar) || (j == 2 && i == 3)\n",
    "            return 1/3\n",
    "        elseif j == 1 && i == 3\n",
    "            return 0.5\n",
    "        else\n",
    "            return 0.0\n",
    "        end\n",
    "    else\n",
    "        return 0.0\n",
    "    end\n",
    "end\n",
    "\n",
    "function DSNB_vdecay_2_IO_test(E, z0, α2, twobar, bh_frac, normchoice)\n",
    "    function decay_integrand(E, z0, z, α2, twobar, bh_frac, normchoice)\n",
    "        if α2 == 0\n",
    "            return DSNB_integrand(E, z0, z, 2, twobar, \"IO\", bh_frac, normchoice)\n",
    "        else\n",
    "            int = DSNB_integrand(E, z0, z, 2, twobar, \"IO\", bh_frac, normchoice)*decay(E, α2, z0, z) \n",
    "            if isnan(int) || isinf(int)\n",
    "                return 0.0\n",
    "            else\n",
    "                return int\n",
    "            end\n",
    "        end\n",
    "    end\n",
    "    return 1/(1+z0) * quadgk(z -> decay_integrand(E, z0, z, α2, twobar, bh_frac, normchoice), z0, 5, rtol=1e-2)[1]\n",
    "end\n",
    "\n",
    "function q21contrib_IO_test(E, z0, z, α2, nubar, casechoice, bh_frac, normchoice)\n",
    "\n",
    "    Ers = E*(1+z)/(1+z0)\n",
    "\n",
    "    qnorm = 3.086e19 * 1.516e15 * 1e6 / (3e8 * 1e12)\n",
    "    return qnorm * (c0/Hubble(z)) * DSNB_vdecay_2_IO_test(Ers, z, α2, nubar, bh_frac, normchoice) * (α2 * branching_3ν_test(casechoice, 2, nubar, 1, nubar)/Ers)\n",
    "end\n",
    "\n",
    "function DSNB_vdecay_1_IO_test(E, z0, α2, α1, nubar, casechoice, bh_frac, normchoice)\n",
    "    if casechoice == \"A\"\n",
    "        α1 = 0\n",
    "    end\n",
    "    integrand(z) = (DSNB_integrand(E, z0, z, 1, nubar, \"IO\", bh_frac, normchoice) +\n",
    "                        q21contrib_IO_test(E, z0, z, α2, nubar, casechoice, bh_frac, normchoice))*decay(E, α1, z0, z)\n",
    "    return (1/(1+z0)) * quadgk(z -> integrand(z), z0, 5, rtol=1e-2)[1]\n",
    "end\n",
    "\n",
    "function q23contrib_IO_test(E, z0, z, α2, twobar, threebar, casechoice, bh_frac, normchoice)\n",
    "\n",
    "    if twobar == threebar\n",
    "        hc = true\n",
    "    else\n",
    "        hc = false\n",
    "    end\n",
    "\n",
    "    Ers = E*(1+z)/(1+z0)\n",
    "\n",
    "    qnorm = 3.086e19 * 1.516e15 * 1e6 / (3e8 * 1e12)\n",
    "    integrand(Eprime, z) = qnorm * (c0/Hubble(z))*DSNB_vdecay_2_IO_test(Eprime, z, α2, twobar, bh_frac, normchoice) * (α2 * branching_3ν_test(casechoice, 2, twobar, 3, threebar)/Eprime) * ψSH(Eprime, Ers, hc)\n",
    "\n",
    "    Emax = Ers + 50\n",
    "    return quadgk(Eprime -> integrand(Eprime, z), Ers, Emax, rtol=1e-2)[1]\n",
    "end\n",
    "\n",
    "function q13contrib_IO_test(E, z0, z, α2, α1, onebar, threebar, casechoice, bh_frac, normchoice)\n",
    "\n",
    "    if onebar == threebar\n",
    "        hc = true\n",
    "    else\n",
    "        hc = false\n",
    "    end\n",
    "\n",
    "    Ers = E*(1+z)/(1+z0)\n",
    "\n",
    "    qnorm = 3.086e19 * 1.516e15 * 1e6 / (3e8 * 1e12)\n",
    "    integrand(Eprime) = qnorm * (c0/Hubble(z))*DSNB_vdecay_1_IO_test(Eprime, z, α2, α1, onebar, casechoice, bh_frac, normchoice) * (α1 * branching_3ν_test(casechoice, 1, onebar, 3, threebar)/Eprime) * ψSH(Eprime, Ers, hc)\n",
    "\n",
    "    Emax = Ers + 50\n",
    "    #=\n",
    "    if Emax > 100\n",
    "        return quadgk(Eprime -> integrand(Eprime), Ers, 100, Inf, rtol=1e-2)[1]\n",
    "    else\n",
    "        return quadgk(Eprime -> integrand(Eprime), Ers, Emax, rtol=1e-2)[1]\n",
    "    end\n",
    "    =#\n",
    "    return quadgk(Eprime -> integrand(Eprime), Ers, Emax, rtol=1e-2)[1]\n",
    "end\n",
    "\n",
    "function DSNB_vdecay_3_IO_test(E, α2, α1, threebar, casechoice, bh_frac, normchoice)\n",
    "    integrand(z) = (DSNB_integrand(E, 0, z, 3, threebar, \"IO\", bh_frac, normchoice)\n",
    "                    + q23contrib_IO_test(E, 0, z, α2, true, threebar, casechoice, bh_frac, normchoice)\n",
    "                    + q23contrib_IO_test(E, 0, z, α2, false, threebar, casechoice, bh_frac, normchoice)\n",
    "                    + q13contrib_IO_test(E, 0, z, α2, α1, true, threebar, casechoice, bh_frac, normchoice)\n",
    "                    + q13contrib_IO_test(E, 0, z, α2, α1, false, threebar, casechoice, bh_frac, normchoice))\n",
    "    return quadgk(z -> integrand(z), 0, 5, rtol=1e-2)[1]\n",
    "end\n",
    "\n",
    "function DSNB_vdecay_3ν_νe_IO_test(E, α2, α1, nubar, casechoice, bh_frac, normchoice)\n",
    "\n",
    "    ν3 = DSNB_vdecay_3_IO_test(E, α2, α1, nubar, casechoice, bh_frac, normchoice)\n",
    "    ν2 = DSNB_vdecay_2_IO_test(E, 0, α2, nubar, bh_frac, normchoice)\n",
    "    ν1 = DSNB_vdecay_1_IO_test(E, 0, α2, α1, nubar, casechoice, bh_frac, normchoice)\n",
    "    \n",
    "    return Usqred(\"IO\")[1, 1]*ν1 + Usqred(\"IO\")[1, 2]*ν2 + Usqred(\"IO\")[1, 3]*ν3\n",
    "end;"
   ]
  },
  {
   "cell_type": "code",
   "execution_count": 109,
   "metadata": {},
   "outputs": [
    {
     "data": {
      "text/plain": [
       "q23contrib_IO_ttest (generic function with 1 method)"
      ]
     },
     "execution_count": 109,
     "metadata": {},
     "output_type": "execute_result"
    }
   ],
   "source": [
    "function q23contrib_IO_ttest(E, z0, z, α2, twobar, threebar, casechoice, bh_frac, normchoice)\n",
    "\n",
    "    if twobar == threebar\n",
    "        hc = true\n",
    "    else\n",
    "        hc = false\n",
    "    end\n",
    "\n",
    "    Ers = E*(1+z)/(1+z0)\n",
    "\n",
    "    qnorm = 3.086e19 * 1.516e15 * 1e6 / (3e8 * 1e12)\n",
    "    integrand(Eprime, z) = qnorm * (c0/Hubble(z))*DSNB_idecay(Eprime, z, α2, 2, twobar, \"IO\", bh_frac, normchoice) * (α2 * branching_3ν_IO(casechoice, 2, twobar, 3, threebar)/Eprime) * ψSH(Eprime, Ers, hc)\n",
    "\n",
    "    Emax = Ers + 50\n",
    "    #=\n",
    "    Ecutoff = 1.5*100^(1/3)*Ers\n",
    "    if Ecutoff < Emax && (ψSH(Ecutoff, Ers, hc)/Ecutoff)/(ψSH(Ers, Ers, hc)/Ers) < 0.1\n",
    "        return quadgk(Eprime -> integrand(Eprime, z), Ers, Ecutoff, Emax, rtol=1e-2)[1]\n",
    "    else\n",
    "        return quadgk(Eprime -> integrand(Eprime, z), Ers, Emax, rtol=1e-2)[1]\n",
    "    end\n",
    "    =#\n",
    "    return quadgk(Eprime -> integrand(Eprime, z), Ers, Emax, rtol=1e-2)[1]\n",
    "end"
   ]
  },
  {
   "cell_type": "code",
   "execution_count": 113,
   "metadata": {},
   "outputs": [
    {
     "name": "stdout",
     "output_type": "stream",
     "text": [
      "  0.003268 seconds (21.86 k allocations: 357.125 KiB)\n"
     ]
    },
    {
     "data": {
      "text/plain": [
       "0.06795983773616145"
      ]
     },
     "execution_count": 113,
     "metadata": {},
     "output_type": "execute_result"
    }
   ],
   "source": [
    "@time q23contrib_IO_ttest(1, 0, 0, 10^(-25), true, true, \"democratic\", \"21\", SNRnorm)"
   ]
  },
  {
   "cell_type": "code",
   "execution_count": 102,
   "metadata": {},
   "outputs": [
    {
     "name": "stdout",
     "output_type": "stream",
     "text": [
      "  0.003291 seconds (27.42 k allocations: 445.641 KiB)\n"
     ]
    },
    {
     "data": {
      "text/plain": [
       "0.06796411578023187"
      ]
     },
     "execution_count": 102,
     "metadata": {},
     "output_type": "execute_result"
    }
   ],
   "source": [
    "@time q23contrib_IO_test(1, 0, 0, 10^(-25), true, true, \"democratic\", \"21\", SNRnorm)"
   ]
  },
  {
   "cell_type": "code",
   "execution_count": 120,
   "metadata": {},
   "outputs": [
    {
     "name": "stdout",
     "output_type": "stream",
     "text": [
      "  0.861707 seconds (9.75 M allocations: 154.568 MiB, 6.79% gc time)\n"
     ]
    },
    {
     "data": {
      "text/plain": [
       "4.496545182035049"
      ]
     },
     "execution_count": 120,
     "metadata": {},
     "output_type": "execute_result"
    }
   ],
   "source": [
    "@time DSNB_vdecay_3_IO(1, 10^(-26), 10^(-26), true, \"democratic\", \"21\", SNRnorm)"
   ]
  },
  {
   "cell_type": "code",
   "execution_count": 122,
   "metadata": {},
   "outputs": [
    {
     "name": "stdout",
     "output_type": "stream",
     "text": [
      "  3.734973 seconds (50.00 M allocations: 785.670 MiB, 6.27% gc time)\n"
     ]
    },
    {
     "data": {
      "text/plain": [
       "4.4965698967209065"
      ]
     },
     "execution_count": 122,
     "metadata": {},
     "output_type": "execute_result"
    }
   ],
   "source": [
    "@time DSNB_vdecay_3_IO_test(1, 10^(-26), 10^(-26), true, \"democratic\", \"21\", SNRnorm)"
   ]
  },
  {
   "cell_type": "code",
   "execution_count": 123,
   "metadata": {},
   "outputs": [
    {
     "name": "stdout",
     "output_type": "stream",
     "text": [
      "  2.025173 seconds (8.96 M allocations: 164.078 MiB, 5.73% gc time, 53.77% compilation time)\n"
     ]
    },
    {
     "data": {
      "text/plain": [
       "0.16996901039535156"
      ]
     },
     "execution_count": 123,
     "metadata": {},
     "output_type": "execute_result"
    }
   ],
   "source": [
    "@time DSNB_vdecay_3ν_νe_IO(1, 10^(-25), 10^(-25), true, \"democratic\", \"21\", SNRnorm)"
   ]
  },
  {
   "cell_type": "code",
   "execution_count": 124,
   "metadata": {},
   "outputs": [
    {
     "name": "stdout",
     "output_type": "stream",
     "text": [
      "  3.760607 seconds (46.90 M allocations: 736.831 MiB, 5.82% gc time, 0.84% compilation time: 100% of which was recompilation)\n"
     ]
    },
    {
     "data": {
      "text/plain": [
       "0.1699707746953167"
      ]
     },
     "execution_count": 124,
     "metadata": {},
     "output_type": "execute_result"
    }
   ],
   "source": [
    "@time DSNB_vdecay_3ν_νe_IO_test(1, 10^(-25), 10^(-25), true, \"democratic\", \"21\", SNRnorm)"
   ]
  }
 ],
 "metadata": {
  "kernelspec": {
   "display_name": "Julia 1.9.2",
   "language": "julia",
   "name": "julia-1.9"
  },
  "language_info": {
   "file_extension": ".jl",
   "mimetype": "application/julia",
   "name": "julia",
   "version": "1.9.2"
  },
  "orig_nbformat": 4
 },
 "nbformat": 4,
 "nbformat_minor": 2
}
