{
 "cells": [
  {
   "cell_type": "code",
   "execution_count": 27,
   "metadata": {},
   "outputs": [],
   "source": [
    "include(\"F_calculations.jl\");\n",
    "using BenchmarkTools"
   ]
  },
  {
   "cell_type": "code",
   "execution_count": 4,
   "metadata": {},
   "outputs": [],
   "source": [
    "# We can take normchoice to be SNRnorm, SNRnorm_low, or SNRnorm_high\n",
    "function DSNB_integrand(E, z0, z, i, nubar, ordering, bh_frac, normchoice)\n",
    "    c0 = 3e8 # m s^(-1)\n",
    "    if bh_frac == \"21\"\n",
    "        return 0.00208 * (c0*normchoice*SFR(z)/Hubble(z)) * (ηAD(15, 8)*Fmass(E*(1+z)/(1+z0), i, \"small\", ordering, nubar) \n",
    "        + (ηAD(22, 15)+ηAD(27, 25))*Fmass(E*(1+z)/(1+z0), i, \"large\", ordering, nubar) + (ηAD(25, 22)+ηAD(125, 27))*Fmass(E*(1+z)/(1+z0), i, \"bh\", ordering, nubar))\n",
    "    elseif bh_frac == \"41\"\n",
    "        return 0.00208 * (c0*normchoice*SFR(z)/Hubble(z)) * (ηAD(15, 8)*Fmass(E*(1+z)/(1+z0), i, \"small\", ordering, nubar) \n",
    "        + ηAD(125, 15)*Fmass(E*(1+z)/(1+z0), i, \"bh\", ordering, nubar))\n",
    "    elseif bh_frac == \"09\"\n",
    "        return 0.00208 * (c0*normchoice*SFR(z)/Hubble(z)) * (ηAD(15, 8)*Fmass(E*(1+z)/(1+z0), i, \"small\", ordering, nubar)\n",
    "        + ηAD(40, 15)*Fmass(E*(1+z)/(1+z0), i, \"large\", ordering, nubar) + ηAD(125, 40)*Fmass(E*(1+z)/(1+z0), i, \"bh\", ordering, nubar))\n",
    "    else\n",
    "        return 0\n",
    "    end\n",
    "end\n",
    "\n",
    "# Mass method\n",
    "DSNB(E, z0, i, nubar, ordering, bh_frac, normchoice) = 1/(1+z0) * quadgk(z -> DSNB_integrand(E, z0, z, i, nubar, ordering, bh_frac, normchoice), z0, 5, rtol=1e-2)[1]\n",
    "\n",
    "# νe method\n",
    "function DSNB(E, z0, nubar, ordering, bh_frac, normchoice)\n",
    "    ν1 = DSNB(E, z0, 1, nubar, ordering, bh_frac, normchoice)\n",
    "    ν2 = DSNB(E, z0, 2, nubar, ordering, bh_frac, normchoice)\n",
    "    ν3 = DSNB(E, z0, 3, nubar, ordering, bh_frac, normchoice)\n",
    "    return Usqred(ordering)[1, 1]*ν1 + Usqred(ordering)[1, 2]*ν2 + Usqred(ordering)[1, 3]*ν3\n",
    "end\n",
    "\n",
    "\n",
    "# Separating the progenitors: 1pc ≡ one progenitor contribution\n",
    "\n",
    "function DSNB_integrand_1pc(E, z0, z, i, nubar, ordering, sm, normchoice)\n",
    "    c0 = 3e8 # m s^(-1)\n",
    "    # Adding in this integrated mass function so we can multiply by bh fractions at the end\n",
    "    return 0.00208 * ηAD(125, 8) * (c0*normchoice*SFR(z)/Hubble(z)) * Fmass(E*(1+z)/(1+z0), i, sm, ordering, nubar)\n",
    "end\n",
    "\n",
    "DSNB_1pc(E, z0, i, nubar, ordering, sm, normchoice) = 1/(1+z0) * quadgk(z -> DSNB_integrand_1pc(E, z0, z, i, nubar, ordering, sm, normchoice), z0, 5, rtol=1e-2)[1]\n",
    "\n",
    "function DSNB_1pc(E, z0, nubar, ordering, sm, normchoice)\n",
    "    ν1 = DSNB_1pc(E, z0, 1, nubar, ordering, sm, normchoice)\n",
    "    ν2 = DSNB_1pc(E, z0, 2, nubar, ordering, sm, normchoice)\n",
    "    ν3 = DSNB_1pc(E, z0, 3, nubar, ordering, sm, normchoice)\n",
    "    return Usqred(ordering)[1, 1]*ν1 + Usqred(ordering)[1, 2]*ν2 + Usqred(ordering)[1, 3]*ν3\n",
    "end;"
   ]
  },
  {
   "cell_type": "code",
   "execution_count": 37,
   "metadata": {},
   "outputs": [
    {
     "name": "stdout",
     "output_type": "stream",
     "text": [
      "  0.000035 seconds (12 allocations: 192 bytes)\n"
     ]
    },
    {
     "data": {
      "text/plain": [
       "0.013501347362099852"
      ]
     },
     "execution_count": 37,
     "metadata": {},
     "output_type": "execute_result"
    }
   ],
   "source": [
    "@time DSNB_integrand(1, 0, 0.1, 1, true, \"IO\", \"21\", SNRnorm)"
   ]
  },
  {
   "cell_type": "code",
   "execution_count": 38,
   "metadata": {},
   "outputs": [
    {
     "name": "stdout",
     "output_type": "stream",
     "text": [
      "  28.357 μs (730 allocations: 12.05 KiB)\n"
     ]
    },
    {
     "data": {
      "text/plain": [
       "0.7095897823701633"
      ]
     },
     "execution_count": 38,
     "metadata": {},
     "output_type": "execute_result"
    }
   ],
   "source": [
    "@btime @fastmath DSNB(1, 0, 1, true, \"IO\", \"21\", SNRnorm)"
   ]
  },
  {
   "cell_type": "code",
   "execution_count": 7,
   "metadata": {},
   "outputs": [
    {
     "data": {
      "text/plain": [
       "decay (generic function with 1 method)"
      ]
     },
     "execution_count": 7,
     "metadata": {},
     "output_type": "execute_result"
    }
   ],
   "source": [
    "# Define this effective length function\n",
    "LeffIntegrand(z) = (H0*sqrt(energy_matter*(1+z)^3 + energy_dark))^(-1)*(1+z)^(-2)\n",
    "\n",
    "leff_quadint(z0) = quadgk(z -> LeffIntegrand(z), 0, z0)[1]\n",
    "\n",
    "zs_leff = range(0, 5, 1000)\n",
    "leff_ne = Interpolations.interpolate((vec(zs_leff),), leff_quadint.(zs_leff), Gridded(Linear()))\n",
    "lefftrue = extrapolate(leff_ne, 0.0)\n",
    "\n",
    "# Approximating with a 14 degree polynomial\n",
    "\n",
    "# Procedure for fitting the polynomial\n",
    "#=\n",
    "xsvec = range(0, 5, 100)\n",
    "leffsvec = 70*leff.(xsvec)\n",
    "\n",
    "p = Polynomials.fit(xsvec, leffsvec, 14)\n",
    "=#\n",
    "\n",
    "function leff(x) \n",
    "    if x == 0.0\n",
    "        return 0.0\n",
    "    else\n",
    "        (3.844126829887412e-6 + 0.9994711237154343*x - 1.2171757160998375*x^2 + 1.2011732904692138*x^3 - 1.0258795580085436*x^4 + 0.7535135022231549*x^5 - 0.4576091931617817*x^6 + 0.2207326320476638*x^7 - 0.0820545498767346*x^8 + 0.022953521018636694*x^9 - 0.004712524469463747*x^(10) + 0.0006858791896371295*x^(11) - 6.682066367256103e-5*x^(12) + 3.9015397017829775e-6*x^(13) - 1.0310563080271216e-7*x^(14))/70\n",
    "    end\n",
    "end\n",
    "\n",
    "# Decay function \n",
    "function decay(E, α, z0, z)\n",
    "    scalefactor = 4.68e28\n",
    "    return exp(-scalefactor*α*(leff(z) - leff(z0))*(1+z0)/E)\n",
    "end"
   ]
  },
  {
   "cell_type": "code",
   "execution_count": 9,
   "metadata": {},
   "outputs": [
    {
     "name": "stdout",
     "output_type": "stream",
     "text": [
      "  0.000001 seconds\n"
     ]
    },
    {
     "data": {
      "text/plain": [
       "0.09355412803774756"
      ]
     },
     "execution_count": 9,
     "metadata": {},
     "output_type": "execute_result"
    }
   ],
   "source": [
    "@time decay(1, 10^(-26), 0.1, 1)"
   ]
  },
  {
   "cell_type": "code",
   "execution_count": 10,
   "metadata": {},
   "outputs": [],
   "source": [
    "# This function returns the redshift point where the decay function has attenuated by \n",
    "# roughly two orders of magnitude, and if we break the integral bounds at this point the integral might run faster\n",
    "# with QuadGK.jl\n",
    "function zcutoff(E, α, z0)\n",
    "    innerpart = 0.007+(E/(4.68e28*α))*log(0.01*exp(-4.68e28*α*leff(z0)/E))\n",
    "    if innerpart > 0.0\n",
    "        return -0.555*(log(350*(innerpart))-0.9)\n",
    "    else\n",
    "        return 0.0\n",
    "    end\n",
    "end;"
   ]
  },
  {
   "cell_type": "code",
   "execution_count": 11,
   "metadata": {},
   "outputs": [],
   "source": [
    "# Invisible decay implementation\n",
    "\n",
    "# Mass method\n",
    "function DSNB_idecay(E, z0, α, i, nubar, ordering, bh_frac, normchoice)\n",
    "    zcut = zcutoff(E, α, z0)\n",
    "    if zcut > z0 && zcut < 5 && decay(E, α, z0, zcut) < 0.1\n",
    "        return quadgk(z -> 1/(1+z0) * DSNB_integrand(E, z0, z, i, nubar, ordering, bh_frac, normchoice)*decay(E, α, z0, z), z0, zcut, 5, rtol=1e-2)[1]\n",
    "    else\n",
    "        return quadgk(z -> 1/(1+z0) * DSNB_integrand(E, z0, z, i, nubar, ordering, bh_frac, normchoice)*decay(E, α, z0, z), z0, 5, rtol=1e-2)[1]\n",
    "    end\n",
    "end\n",
    "\n",
    "# νe method\n",
    "function DSNB_idecay(E, z0, α1, α2, α3, nubar, ordering, bh_frac, normchoice)\n",
    "    ν1 = DSNB_idecay(E, z0, α1, 1, nubar, ordering, bh_frac, normchoice)\n",
    "    ν2 = DSNB_idecay(E, z0, α2, 2, nubar, ordering, bh_frac, normchoice)\n",
    "    ν3 = DSNB_idecay(E, z0, α3, 3, nubar, ordering, bh_frac, normchoice)\n",
    "    return Usqred(ordering)[1, 1]*ν1 + Usqred(ordering)[1, 2]*ν2 + Usqred(ordering)[1, 3]*ν3\n",
    "end\n",
    "\n",
    "# Single progenitor versions\n",
    "function DSNB_idecay_1pc(E, z0, α, i, nubar, ordering, sm, normchoice)\n",
    "    zcut = zcutoff(E, α, z0)\n",
    "    if zcut > z0 && zcut < 5 && decay(E, α, z0, zcut) < 0.1\n",
    "        return quadgk(z -> 1/(1+z0) * DSNB_integrand_1pc(E, z0, z, i, nubar, ordering, sm, normchoice)*decay(E, α, z0, z), z0, zcut, 5, rtol=1e-2)[1]\n",
    "    else\n",
    "        return quadgk(z -> 1/(1+z0) * DSNB_integrand_1pc(E, z0, z, i, nubar, ordering, sm, normchoice)*decay(E, α, z0, z), z0, 5, rtol=1e-2)[1]\n",
    "    end\n",
    "end\n",
    "\n",
    "function DSNB_idecay_1pc(E, z0, α1, α2, α3, nubar, ordering, sm, normchoice)\n",
    "    ν1 = DSNB_idecay_1pc(E, z0, α1, 1, nubar, ordering, sm, normchoice)\n",
    "    ν2 = DSNB_idecay_1pc(E, z0, α2, 2, nubar, ordering, sm, normchoice)\n",
    "    ν3 = DSNB_idecay_1pc(E, z0, α3, 3, nubar, ordering, sm, normchoice)\n",
    "    return Usqred(ordering)[1, 1]*ν1 + Usqred(ordering)[1, 2]*ν2 + Usqred(ordering)[1, 3]*ν3\n",
    "end;"
   ]
  },
  {
   "cell_type": "code",
   "execution_count": 13,
   "metadata": {},
   "outputs": [
    {
     "name": "stdout",
     "output_type": "stream",
     "text": [
      "  0.000118 seconds (1.07 k allocations: 17.828 KiB)\n"
     ]
    },
    {
     "data": {
      "text/plain": [
       "0.0026975589069186266"
      ]
     },
     "execution_count": 13,
     "metadata": {},
     "output_type": "execute_result"
    }
   ],
   "source": [
    "@time DSNB_idecay_1pc(10, 0, 10^(-24), 10^(-24), 10^(-24), true, \"IO\", \"small\", SNRnorm)"
   ]
  },
  {
   "cell_type": "code",
   "execution_count": 14,
   "metadata": {},
   "outputs": [],
   "source": [
    "# Energy spectrum function for SH case\n",
    "function ψSH(Eh, El, hc)\n",
    "    if hc\n",
    "        return 2*El/Eh^2\n",
    "    else\n",
    "        return (2/Eh)*(1-(El/Eh))\n",
    "    end\n",
    "end;"
   ]
  },
  {
   "cell_type": "code",
   "execution_count": 15,
   "metadata": {},
   "outputs": [],
   "source": [
    "# 2ν SH treatment assuming the smallest mass state has a mass of ≈0 (so all channels are SH except for IO ν2 → ν1, which is QD)\n",
    "\n",
    "# We take m_j > m_i\n",
    "function qcontrib_2ν(E, z0, z, j, jbar, i, ibar, αj, ordering, bh_frac, normchoice)\n",
    "\n",
    "    if ordering == \"NO\" && j <= i\n",
    "        return println(\"error: not kinematically allowed\")\n",
    "    elseif ordering == \"IO\" && j == 1 && i == 2\n",
    "        return println(\"error: not kinematically allowed\")\n",
    "    elseif ordering == \"IO\" && j == 3 && i == 1\n",
    "        return println(\"error: not kinematically allowed\")\n",
    "    elseif ordering == \"IO\" && j == 3 && i == 2\n",
    "        return println(\"error: not kinematically allowed\")\n",
    "    elseif ordering == \"IO\" && j == 2 && i == 1\n",
    "        if jbar != ibar\n",
    "            return 0.0\n",
    "        else\n",
    "            Ers = E*(1+z)/(1+z0)\n",
    "            qnorm = 3.086e19 * 1.516e15 * 1e6 / (3e8 * 1e12)\n",
    "            return qnorm * (c0/Hubble(z))*DSNB_idecay(Ers, z, αj, j, jbar, ordering, bh_frac, normchoice) * (αj/Ers)\n",
    "        end\n",
    "    else\n",
    "        if jbar == ibar\n",
    "            hc = true\n",
    "        else\n",
    "            hc = false\n",
    "        end\n",
    "\n",
    "        Ers = E*(1+z)/(1+z0)\n",
    "\n",
    "        qnorm = 3.086e19 * 1.516e15 * 1e6 / (3e8 * 1e12)\n",
    "        integrand(Eprime) = qnorm * (c0/Hubble(z))*DSNB_idecay(Eprime, z, αj, j, jbar, ordering, bh_frac, normchoice) * (αj * 0.5/Eprime) * ψSH(Eprime, Ers, hc)\n",
    "        Emax = Ers + 50\n",
    "\n",
    "        return quadgk(Eprime -> integrand(Eprime), Ers, Emax, rtol=1e-2)[1]\n",
    "    end\n",
    "end\n",
    "\n",
    "function DSNB_vdecay_2ν(E, αj, i, ibar, ordering, bh_frac, normchoice)\n",
    "    if αj == 0\n",
    "        return DSNB_idecay(E, 0, 0, i, ibar, ordering, bh_frac, normchoice)\n",
    "    elseif ordering == \"NO\" && i == 3\n",
    "        return DSNB_idecay(E, 0, αj, i, ibar, \"NO\", bh_frac, normchoice)\n",
    "    elseif ordering == \"IO\" && i == 2\n",
    "        return DSNB_idecay(E, 0, αj, i, ibar, \"IO\", bh_frac, normchoice)\n",
    "    else\n",
    "        # Here, for NO we take ν2 to be stable and for IO we take ν1 to be stable, and we take the lightest mass states to be stable as well\n",
    "        if ordering == \"NO\"\n",
    "            qint = quadgk(z -> (qcontrib_2ν(E, 0, z, 3, false, i, ibar, αj, \"NO\", bh_frac, normchoice)+qcontrib_2ν(E, 0, z, 3, true, i, ibar, αj, \"NO\", bh_frac, normchoice)), 0, 5, rtol=1e-2)[1]\n",
    "        elseif ordering == \"IO\"\n",
    "            qint = quadgk(z -> (qcontrib_2ν(E, 0, z, 2, false, i, ibar, αj, \"IO\", bh_frac, normchoice)+qcontrib_2ν(E, 0, z, 2, true, i, ibar, αj, \"IO\", bh_frac, normchoice)), 0, 5, rtol=1e-2)[1]\n",
    "        else\n",
    "            return println(\"error: ordering takes either 'NO' or 'IO'\")\n",
    "        end\n",
    "        return DSNB_idecay(E, 0, 0, i, ibar, ordering, bh_frac, normchoice) + qint\n",
    "    end\n",
    "end;\n",
    "\n",
    "# Other few cases where the heaviest mass state and lightest mass state are stable, and the middle mass state decays into the lightest mass state\n",
    "function DSNB_vdecay_2ν_alt(E, αj, i, ibar, ordering, bh_frac, normchoice)\n",
    "    if αj == 0\n",
    "        return DSNB_idecay(E, 0, 0, i, ibar, ordering, bh_frac, normchoice)\n",
    "    elseif ordering == \"NO\" && i == 2\n",
    "        return DSNB_idecay(E, 0, αj, i, ibar, \"NO\", bh_frac, normchoice)\n",
    "    elseif ordering == \"IO\" && i == 1\n",
    "        return DSNB_idecay(E, 0, αj, i, ibar, \"IO\", bh_frac, normchoice)\n",
    "    elseif ordering == \"NO\" && i == 3\n",
    "        return DSNB_idecay(E, 0, 0, i, ibar, \"NO\", bh_frac, normchoice)\n",
    "    elseif ordering == \"IO\" && i == 2\n",
    "        return DSNB_idecay(E, 0, 0, i, ibar, \"IO\", bh_frac, normchoice)\n",
    "    else\n",
    "        # Here, for NO we take ν1 to be stable and for IO we take ν2 to be stable, and we take the lightest mass states to be stable as well\n",
    "        if ordering == \"NO\"\n",
    "            qint = quadgk(z -> (qcontrib_2ν(E, 0, z, 2, false, i, ibar, αj, \"NO\", bh_frac, normchoice)+qcontrib_2ν(E, 0, z, 2, true, i, ibar, αj, \"NO\", bh_frac, normchoice)), 0, 5, rtol=1e-2)[1]\n",
    "        elseif ordering == \"IO\"\n",
    "            qint = quadgk(z -> (qcontrib_2ν(E, 0, z, 1, false, i, ibar, αj, \"IO\", bh_frac, normchoice)+qcontrib_2ν(E, 0, z, 1, true, i, ibar, αj, \"IO\", bh_frac, normchoice)), 0, 5, rtol=1e-2)[1]\n",
    "        else\n",
    "            return println(\"error: ordering takes either 'NO' or 'IO'\")\n",
    "        end\n",
    "        return DSNB_idecay(E, 0, 0, i, ibar, ordering, bh_frac, normchoice) + qint\n",
    "    end\n",
    "end\n",
    "\n",
    "# daughter specifies the state the heaviest mass state decays into in our 2ν framework\n",
    "function DSNB_vdecay_2ν_νe(E, α, daughter, ebar, ordering, bh_frac, normchoice)\n",
    "    if ordering == \"NO\"\n",
    "        if daughter == 1\n",
    "            α1, α2, α3 = α, 0.0, α\n",
    "        elseif daughter == 2\n",
    "            α1, α2, α3 = 0.0, α, α\n",
    "        else\n",
    "            return println(\"error: for NO, 'daughter' must be either ν1 or ν2\")\n",
    "        end\n",
    "    elseif ordering == \"IO\"\n",
    "        if daughter == 3\n",
    "            α3, α1, α2 = α, 0.0, α\n",
    "        elseif daughter == 1\n",
    "            α3, α1, α2 = 0.0, α, α\n",
    "        else\n",
    "            return println(\"error: for IO, 'daughter' must be either ν1 or ν3\")\n",
    "        end\n",
    "    else\n",
    "        return println(\"error: ordering must take either 'NO' or 'IO'\")\n",
    "    end\n",
    "    ν3 = DSNB_vdecay_2ν(E, α3, 3, ebar, ordering, bh_frac, normchoice)\n",
    "    ν2 = DSNB_vdecay_2ν(E, α2, 2, ebar, ordering, bh_frac, normchoice)\n",
    "    ν1 = DSNB_vdecay_2ν(E, α1, 1, ebar, ordering, bh_frac, normchoice)\n",
    "    return Usqred(\"NO\")[1, 1]*ν1 + Usqred(\"NO\")[1, 2]*ν2 + Usqred(\"NO\")[1, 3]*ν3\n",
    "end\n",
    "\n",
    "# If we don't specify a daughter, the decay channel is assumed to be from the second lightest to the lightest state\n",
    "function DSNB_vdecay_2ν_νe(E, α, ebar, ordering, bh_frac, normchoice)\n",
    "    if ordering == \"NO\"\n",
    "        α1, α2, α3 = α, α, 0.0\n",
    "    elseif ordering == \"IO\"\n",
    "        α1, α2, α3 = α, 0.0, α\n",
    "    else\n",
    "        return println(\"error: ordering must take either 'NO' or 'IO'\")\n",
    "    end\n",
    "    ν3 = DSNB_vdecay_2ν_alt(E, α3, 3, ebar, ordering, bh_frac, normchoice)\n",
    "    ν2 = DSNB_vdecay_2ν_alt(E, α2, 2, ebar, ordering, bh_frac, normchoice)\n",
    "    ν1 = DSNB_vdecay_2ν_alt(E, α1, 1, ebar, ordering, bh_frac, normchoice)\n",
    "    return Usqred(\"NO\")[1, 1]*ν1 + Usqred(\"NO\")[1, 2]*ν2 + Usqred(\"NO\")[1, 3]*ν3\n",
    "end\n",
    "\n",
    "\n",
    "# Single progenitor versions\n",
    "function qcontrib_2ν_1pc(E, z0, z, j, jbar, i, ibar, αj, ordering, sm, normchoice)\n",
    "\n",
    "    if ordering == \"NO\" && j <= i\n",
    "        return println(\"error: not kinematically allowed\")\n",
    "    elseif ordering == \"IO\" && j == 1 && i == 2\n",
    "        return println(\"error: not kinematically allowed\")\n",
    "    elseif ordering == \"IO\" && j == 3 && i == 1\n",
    "        return println(\"error: not kinematically allowed\")\n",
    "    elseif ordering == \"IO\" && j == 3 && i == 2\n",
    "        return println(\"error: not kinematically allowed\")\n",
    "    elseif ordering == \"IO\" && j == 2 && i == 1\n",
    "        if jbar != ibar\n",
    "            return 0.0\n",
    "        else\n",
    "            Ers = E*(1+z)/(1+z0)\n",
    "            qnorm = 3.086e19 * 1.516e15 * 1e6 / (3e8 * 1e12)\n",
    "            return qnorm * (c0/Hubble(z))*DSNB_idecay_1pc(Ers, z, αj, j, jbar, ordering, sm, normchoice) * (αj/Ers)\n",
    "        end\n",
    "    else\n",
    "        if jbar == ibar\n",
    "            hc = true\n",
    "        else\n",
    "            hc = false\n",
    "        end\n",
    "\n",
    "        Ers = E*(1+z)/(1+z0)\n",
    "\n",
    "        qnorm = 3.086e19 * 1.516e15 * 1e6 / (3e8 * 1e12)\n",
    "        integrand(Eprime) = qnorm * (c0/Hubble(z))*DSNB_idecay_1pc(Eprime, z, αj, j, jbar, ordering, sm, normchoice) * (αj * 0.5/Eprime) * ψSH(Eprime, Ers, hc)\n",
    "        Emax = Ers + 50\n",
    "\n",
    "        return quadgk(Eprime -> integrand(Eprime), Ers, Emax, rtol=1e-2)[1]\n",
    "    end\n",
    "end\n",
    "\n",
    "function DSNB_vdecay_2ν_1pc(E, αj, i, ibar, ordering, sm, normchoice)\n",
    "    if αj == 0\n",
    "        return DSNB_idecay_1pc(E, 0, 0, i, ibar, ordering, sm, normchoice)\n",
    "    elseif ordering == \"NO\" && i == 3\n",
    "        return DSNB_idecay_1pc(E, 0, αj, i, ibar, \"NO\", sm, normchoice)\n",
    "    elseif ordering == \"IO\" && i == 2\n",
    "        return DSNB_idecay_1pc(E, 0, αj, i, ibar, \"IO\", sm, normchoice)\n",
    "    else\n",
    "        # Here, for NO we take ν2 to be stable and for IO we take ν1 to be stable, and we take the lightest mass states to be stable as well\n",
    "        if ordering == \"NO\"\n",
    "            qint = quadgk(z -> (qcontrib_2ν_1pc(E, 0, z, 3, false, i, ibar, αj, \"NO\", sm, normchoice)+qcontrib_2ν_1pc(E, 0, z, 3, true, i, ibar, αj, \"NO\", sm, normchoice)), 0, 5, rtol=1e-2)[1]\n",
    "        elseif ordering == \"IO\"\n",
    "            qint = quadgk(z -> (qcontrib_2ν_1pc(E, 0, z, 2, false, i, ibar, αj, \"IO\", sm, normchoice)+qcontrib_2ν_1pc(E, 0, z, 2, true, i, ibar, αj, \"IO\", sm, normchoice)), 0, 5, rtol=1e-2)[1]\n",
    "        else\n",
    "            return println(\"error: ordering takes either 'NO' or 'IO'\")\n",
    "        end\n",
    "        return DSNB_idecay_1pc(E, 0, 0, i, ibar, ordering, sm, normchoice) + qint\n",
    "    end\n",
    "end;\n",
    "\n",
    "# Other few cases where the heaviest mass state and lightest mass state are stable, and the middle mass state decays into the lightest mass state\n",
    "function DSNB_vdecay_2ν_alt_1pc(E, αj, i, ibar, ordering, sm, normchoice)\n",
    "    if αj == 0\n",
    "        return DSNB_idecay_1pc(E, 0, 0, i, ibar, ordering, sm, normchoice)\n",
    "    elseif ordering == \"NO\" && i == 2\n",
    "        return DSNB_idecay_1pc(E, 0, αj, i, ibar, \"NO\", sm, normchoice)\n",
    "    elseif ordering == \"IO\" && i == 1\n",
    "        return DSNB_idecay_1pc(E, 0, αj, i, ibar, \"IO\", sm, normchoice)\n",
    "    elseif ordering == \"NO\" && i == 3\n",
    "        return DSNB_idecay_1pc(E, 0, 0, i, ibar, \"NO\", sm, normchoice)\n",
    "    elseif ordering == \"IO\" && i == 2\n",
    "        return DSNB_idecay_1pc(E, 0, 0, i, ibar, \"IO\", sm, normchoice)\n",
    "    else\n",
    "        # Here, for NO we take ν1 to be stable and for IO we take ν2 to be stable, and we take the lightest mass states to be stable as well\n",
    "        if ordering == \"NO\"\n",
    "            qint = quadgk(z -> (qcontrib_2ν_1pc(E, 0, z, 2, false, i, ibar, αj, \"NO\", sm, normchoice)+qcontrib_2ν_1pc(E, 0, z, 2, true, i, ibar, αj, \"NO\", sm, normchoice)), 0, 5, rtol=1e-2)[1]\n",
    "        elseif ordering == \"IO\"\n",
    "            qint = quadgk(z -> (qcontrib_2ν_1pc(E, 0, z, 1, false, i, ibar, αj, \"IO\", sm, normchoice)+qcontrib_2ν_1pc(E, 0, z, 1, true, i, ibar, αj, \"IO\", sm, normchoice)), 0, 5, rtol=1e-2)[1]\n",
    "        else\n",
    "            return println(\"error: ordering takes either 'NO' or 'IO'\")\n",
    "        end\n",
    "        return DSNB_idecay_1pc(E, 0, 0, i, ibar, ordering, sm, normchoice) + qint\n",
    "    end\n",
    "end\n",
    "\n",
    "# daughter specifies the state the heaviest mass state decays into in our 2ν framework\n",
    "function DSNB_vdecay_2ν_νe_1pc(E, α, daughter, ebar, ordering, sm, normchoice)\n",
    "    if ordering == \"NO\"\n",
    "        if daughter == 1\n",
    "            α1, α2, α3 = α, 0.0, α\n",
    "        elseif daughter == 2\n",
    "            α1, α2, α3 = 0.0, α, α\n",
    "        else\n",
    "            return println(\"error: for NO, 'daughter' must be either ν1 or ν2\")\n",
    "        end\n",
    "    elseif ordering == \"IO\"\n",
    "        if daughter == 3\n",
    "            α3, α1, α2 = α, 0.0, α\n",
    "        elseif daughter == 1\n",
    "            α3, α1, α2 = 0.0, α, α\n",
    "        else\n",
    "            return println(\"error: for IO, 'daughter' must be either ν1 or ν3\")\n",
    "        end\n",
    "    else\n",
    "        return println(\"error: ordering must take either 'NO' or 'IO'\")\n",
    "    end\n",
    "    ν3 = DSNB_vdecay_2ν_1pc(E, α3, 3, ebar, ordering, sm, normchoice)\n",
    "    ν2 = DSNB_vdecay_2ν_1pc(E, α2, 2, ebar, ordering, sm, normchoice)\n",
    "    ν1 = DSNB_vdecay_2ν_1pc(E, α1, 1, ebar, ordering, sm, normchoice)\n",
    "    return Usqred(\"NO\")[1, 1]*ν1 + Usqred(\"NO\")[1, 2]*ν2 + Usqred(\"NO\")[1, 3]*ν3\n",
    "end\n",
    "\n",
    "# If we don't specify a daughter, the decay channel is assumed to be from the second lightest to the lightest state\n",
    "function DSNB_vdecay_2ν_νe_1pc(E, α, ebar, ordering, sm, normchoice)\n",
    "    if ordering == \"NO\"\n",
    "        α1, α2, α3 = α, α, 0.0\n",
    "    elseif ordering == \"IO\"\n",
    "        α1, α2, α3 = α, 0.0, α\n",
    "    else\n",
    "        return println(\"error: ordering must take either 'NO' or 'IO'\")\n",
    "    end\n",
    "    ν3 = DSNB_vdecay_2ν_alt_1pc(E, α3, 3, ebar, ordering, sm, normchoice)\n",
    "    ν2 = DSNB_vdecay_2ν_alt_1pc(E, α2, 2, ebar, ordering, sm, normchoice)\n",
    "    ν1 = DSNB_vdecay_2ν_alt_1pc(E, α1, 1, ebar, ordering, sm, normchoice)\n",
    "    return Usqred(\"NO\")[1, 1]*ν1 + Usqred(\"NO\")[1, 2]*ν2 + Usqred(\"NO\")[1, 3]*ν3\n",
    "end;"
   ]
  },
  {
   "cell_type": "code",
   "execution_count": 18,
   "metadata": {},
   "outputs": [
    {
     "name": "stdout",
     "output_type": "stream",
     "text": [
      "  0.028561 seconds (169.32 k allocations: 2.763 MiB)\n"
     ]
    },
    {
     "data": {
      "text/plain": [
       "0.4817981208265538"
      ]
     },
     "execution_count": 18,
     "metadata": {},
     "output_type": "execute_result"
    }
   ],
   "source": [
    "@time DSNB_vdecay_2ν_νe_1pc(10, 10^(-26), true, \"NO\", \"small\", SNRnorm)"
   ]
  },
  {
   "cell_type": "code",
   "execution_count": 19,
   "metadata": {},
   "outputs": [],
   "source": [
    "# 3ν NO SH treatment\n",
    "\n",
    "function branch_3ν_NO(j, i)\n",
    "    if j == 3\n",
    "        return 0.25\n",
    "    elseif j == 2\n",
    "        return 0.5\n",
    "    else\n",
    "        return println(\"error: j is not a valid index\")\n",
    "    end\n",
    "end\n",
    "\n",
    "#=\n",
    "function DSNB_vdecay_3_NO(E, z0, α3, threebar, bh_frac, normchoice)\n",
    "    function decay_integrand(E, z0, z, α3, threebar, bh_frac, normchoice)\n",
    "        if α3 == 0\n",
    "            return DSNB_integrand(E, z0, z, 3, threebar, \"NO\", bh_frac, normchoice)\n",
    "        else\n",
    "            int = DSNB_integrand(E, z0, z, 3, threebar, \"NO\", bh_frac, normchoice)*decay(E, α3, z0, z) \n",
    "            if isnan(int) || isinf(int)\n",
    "                return 0.0\n",
    "            else\n",
    "                return int\n",
    "            end\n",
    "        end\n",
    "    end\n",
    "    return 1/(1+z0) * quadgk(z -> decay_integrand(E, z0, z, α3, threebar, bh_frac, normchoice), z0, 5, rtol=1e-2)[1]\n",
    "end\n",
    "=#\n",
    "\n",
    "function q3icontrib_NO(E, z0, z, α3, threebar, i, ibar, bh_frac, normchoice)\n",
    "    if threebar == ibar\n",
    "        hc = true\n",
    "    else\n",
    "        hc = false\n",
    "    end\n",
    "\n",
    "    Ers = E*(1+z)/(1+z0)\n",
    "\n",
    "    qnorm = 3.086e19 * 1.516e15 * 1e6 / (3e8 * 1e12)\n",
    "    integrand(Eprime, z) = qnorm * (c0/Hubble(z))*DSNB_idecay(Eprime, z, α3, 3, threebar, \"NO\", bh_frac, normchoice) * (α3 * branch_3ν_NO(3, i)/Eprime) * ψSH(Eprime, Ers, hc)\n",
    "    \n",
    "    Emax = Ers + 50\n",
    "\n",
    "    return quadgk(Eprime -> integrand(Eprime, z), Ers, Emax, rtol=1e-2)[1]\n",
    "\n",
    "end\n",
    "\n",
    "function DSNB_vdecay_2_NO(E, z0, α3, α2, twobar, bh_frac, normchoice)\n",
    "    integrand(z) = (DSNB_integrand(E, z0, z, 2, twobar, \"NO\", bh_frac, normchoice) +\n",
    "                          q3icontrib_NO(E, z0, z, α3, true, 2, twobar, bh_frac, normchoice) + q3icontrib_NO(E, z0, z, α3, false, 2, twobar, bh_frac, normchoice))*decay(E, α2, z0, z)\n",
    "    zcut = zcutoff(E, α2, z0)\n",
    "    if zcut > z0 && zcut < 5 && decay(E, α2, z0, zcut) < 0.1\n",
    "        return (1/(1+z0)) * quadgk(z -> integrand(z), z0, zcut, 5, rtol=1e-2)[1]\n",
    "    else\n",
    "        return (1/(1+z0)) * quadgk(z -> integrand(z), z0, 5, rtol=1e-2)[1]\n",
    "    end\n",
    "end\n",
    "\n",
    "# Old and slower implementation\n",
    "#=\n",
    "function q21contrib_NO(E, z0, z, α3, α2, twobar, onebar, bh_frac, normchoice)\n",
    "    if twobar == onebar\n",
    "        hc = true\n",
    "    else\n",
    "        hc = false\n",
    "    end\n",
    "\n",
    "    Ers = E*(1+z)/(1+z0)\n",
    "\n",
    "    qnorm = 3.086e19 * 1.516e15 * 1e6 / (3e8 * 1e12)\n",
    "    integrand(Eprime, z) = qnorm * (c0/Hubble(z))*DSNB_vdecay_2_NO(Eprime, z, α3, α2, twobar, bh_frac, normchoice) * (α2 * branch_3ν_NO(2, 1)/Eprime) * ψSH(Eprime, Ers, hc)\n",
    "    \n",
    "    Emax = Ers + 50\n",
    "\n",
    "    return quadgk(Eprime -> integrand(Eprime, z), Ers, Emax, rtol=1e-2)[1]\n",
    "\n",
    "end\n",
    "=#\n",
    "\n",
    "function q21contrib_NO(E, z0, z, α3, α2, twobar, onebar, bh_frac, normchoice)\n",
    "    if twobar == onebar\n",
    "        hc = true\n",
    "    else\n",
    "        hc = false\n",
    "    end\n",
    "\n",
    "    Ers = E*(1+z)/(1+z0)\n",
    "\n",
    "    qnorm = 3.086e19 * 1.516e15 * 1e6 / (3e8 * 1e12)\n",
    "    integrand(Eprime, z) = qnorm * (c0/Hubble(z))*DSNB_vdecay_2_NO(Eprime, z, α3, α2, twobar, bh_frac, normchoice) * (α2 * branch_3ν_NO(2, 1)/Eprime) * ψSH(Eprime, Ers, hc)\n",
    "    \n",
    "    Emax = Ers + 50\n",
    "\n",
    "    Ecutoff = 1.5*100^(1/3)*Ers\n",
    "    if Ecutoff < Emax && (ψSH(Ecutoff, Ers, hc)/Ecutoff)/(ψSH(Ers, Ers, hc)/Ers) < 0.1\n",
    "        return quadgk(Eprime -> integrand(Eprime, z), Ers, Ecutoff, Emax, rtol=1e-2)[1]\n",
    "    else\n",
    "        return quadgk(Eprime -> integrand(Eprime, z), Ers, Emax, rtol=1e-2)[1]\n",
    "    end\n",
    "end\n",
    "\n",
    "# z0 is always 0 here because we're only concerned with the flux at Earth\n",
    "function DSNB_vdecay_1_NO(E, α3, α2, onebar, bh_frac, normchoice)\n",
    "    integrand(z) = (DSNB_integrand(E, 0, z, 1, onebar, \"NO\", bh_frac, normchoice)\n",
    "                    + q21contrib_NO(E, 0, z, α3, α2, true, onebar, bh_frac, normchoice)\n",
    "                    + q21contrib_NO(E, 0, z, α3, α2, false, onebar, bh_frac, normchoice)\n",
    "                    + q3icontrib_NO(E, 0, z, α3, true, 1, onebar, bh_frac, normchoice)\n",
    "                    + q3icontrib_NO(E, 0, z, α3, false, 1, onebar, bh_frac, normchoice))\n",
    "    return quadgk(z -> integrand(z), 0, 5, rtol=1e-2)[1]\n",
    "end\n",
    "\n",
    "function DSNB_vdecay_3ν_νe_NO(E, α3, α2, nubar, bh_frac, normchoice)\n",
    "    ν3 = DSNB_idecay(E, 0, α3, 3, nubar, \"NO\", bh_frac, normchoice)\n",
    "    ν2 = DSNB_vdecay_2_NO(E, 0, α3, α2, nubar, bh_frac, normchoice)\n",
    "    ν1 = DSNB_vdecay_1_NO(E, α3, α2, nubar, bh_frac, normchoice)\n",
    "    return Usqred(\"NO\")[1, 1]*ν1 + Usqred(\"NO\")[1, 2]*ν2 + Usqred(\"NO\")[1, 3]*ν3\n",
    "end;  "
   ]
  },
  {
   "cell_type": "code",
   "execution_count": 26,
   "metadata": {},
   "outputs": [
    {
     "name": "stdout",
     "output_type": "stream",
     "text": [
      "  1.251210 seconds (14.35 M allocations: 225.513 MiB, 7.05% gc time)\n"
     ]
    },
    {
     "data": {
      "text/plain": [
       "0.1971904354140483"
      ]
     },
     "execution_count": 26,
     "metadata": {},
     "output_type": "execute_result"
    }
   ],
   "source": [
    "@time q21contrib_NO(10, 0, 0, 10^(-25), 10^(-25), true, true, \"21\", SNRnorm)"
   ]
  },
  {
   "cell_type": "code",
   "execution_count": 22,
   "metadata": {},
   "outputs": [
    {
     "name": "stdout",
     "output_type": "stream",
     "text": [
      "111.439053 seconds (1.49 G allocations: 22.971 GiB, 10.52% gc time)\n"
     ]
    },
    {
     "data": {
      "text/plain": [
       "0.5866483555543647"
      ]
     },
     "execution_count": 22,
     "metadata": {},
     "output_type": "execute_result"
    }
   ],
   "source": [
    "@time DSNB_vdecay_3ν_νe_NO(10, 0, 0, true, \"21\", SNRnorm)"
   ]
  },
  {
   "cell_type": "code",
   "execution_count": 20,
   "metadata": {},
   "outputs": [],
   "source": [
    "# 3ν IO treatment (2 → 1 QD, 2/1 → 3 SH)\n",
    "\n",
    "# Case A\n",
    "# ν2 → ν1, ν2 → ν3, no ν1 → ν3:\n",
    "# B_21 = 0.5 (no hf), B_23 = 0.25, B_13 = 0\n",
    "# NB: here if we want to only consider visible decays, we should set α1 to 0 always\n",
    "\n",
    "# Case B\n",
    "# ν2 → ν1, ν1 → ν3, no ν2 → ν3:\n",
    "# B_21 = 1 (no hf), B_13 = 0.5, B_23 = 0\n",
    "\n",
    "# Case C\n",
    "# ν2 → ν3, ν1 → ν3, no ν2 → ν1\n",
    "# B_23 = 0.5, B_13 = 0.5, B_21 = 0\n",
    "\n",
    "# Democratic\n",
    "# ν2 → ν3, ν1 → ν3, ν2 → ν1\n",
    "# B_21 = B_23 = 1/3, B_13 = 0.5\n",
    "\n",
    "# Note: supposing validity of SH and QD approximations, branching ratios are set in B and C\n",
    "\n",
    "function branching_3ν_IO(casechoice, j, jbar, i, ibar)\n",
    "    if casechoice == \"A\"\n",
    "        if j == 2 && i == 1 && jbar == ibar\n",
    "            return 0.5\n",
    "        elseif j == 2 && i == 3\n",
    "            return 0.25\n",
    "        else\n",
    "            return 0.0\n",
    "        end\n",
    "    elseif casechoice == \"B\"\n",
    "        if j == 2 && i == 1 && jbar == ibar\n",
    "            return 1.0\n",
    "        elseif j == 1 && i == 3\n",
    "            return 0.5\n",
    "        else \n",
    "            return 0.0\n",
    "        end\n",
    "    elseif casechoice == \"C\"\n",
    "        if j == 2 && i == 3\n",
    "            return 0.5\n",
    "        elseif j == 1 && i == 3\n",
    "            return 0.5\n",
    "        else\n",
    "            return 0.0\n",
    "        end\n",
    "    elseif casechoice == \"democratic\"\n",
    "        if (j == 2 && i == 1 && jbar == ibar) || (j == 2 && i == 3)\n",
    "            return 1/3\n",
    "        elseif j == 1 && i == 3\n",
    "            return 0.5\n",
    "        else\n",
    "            return 0.0\n",
    "        end\n",
    "    else\n",
    "        return 0.0\n",
    "    end\n",
    "end\n",
    "\n",
    "#=\n",
    "function DSNB_vdecay_2_IO(E, z0, α2, twobar, bh_frac, normchoice)\n",
    "    function decay_integrand(E, z0, z, α2, twobar, bh_frac, normchoice)\n",
    "        if α2 == 0\n",
    "            return DSNB_integrand(E, z0, z, 2, twobar, \"IO\", bh_frac, normchoice)\n",
    "        else\n",
    "            int = DSNB_integrand(E, z0, z, 2, twobar, \"IO\", bh_frac, normchoice)*decay(E, α2, z0, z) \n",
    "            if isnan(int) || isinf(int)\n",
    "                return 0.0\n",
    "            else\n",
    "                return int\n",
    "            end\n",
    "        end\n",
    "    end\n",
    "    return 1/(1+z0) * quadgk(z -> decay_integrand(E, z0, z, α2, twobar, bh_frac, normchoice), z0, 5, rtol=1e-2)[1]\n",
    "end\n",
    "=#\n",
    "\n",
    "function q21contrib_IO(E, z0, z, α2, nubar, casechoice, bh_frac, normchoice)\n",
    "\n",
    "    Ers = E*(1+z)/(1+z0)\n",
    "\n",
    "    qnorm = 3.086e19 * 1.516e15 * 1e6 / (3e8 * 1e12)\n",
    "    return qnorm * (c0/Hubble(z)) *  DSNB_idecay(Ers, z, α2, 2, nubar, \"IO\", bh_frac, normchoice) * (α2 * branching_3ν_IO(casechoice, 2, nubar, 1, nubar)/Ers)\n",
    "end\n",
    "\n",
    "function DSNB_vdecay_1_IO(E, z0, α2, α1, nubar, casechoice, bh_frac, normchoice)\n",
    "    if casechoice == \"A\"\n",
    "        α1 = 0\n",
    "    end\n",
    "    integrand(z) = (DSNB_integrand(E, z0, z, 1, nubar, \"IO\", bh_frac, normchoice) +\n",
    "                        q21contrib_IO(E, z0, z, α2, nubar, casechoice, bh_frac, normchoice))*decay(E, α1, z0, z)\n",
    "    zcut = zcutoff(E, α1, z0)\n",
    "    if zcut > z0 && zcut < 5 && decay(E, α1, z0, zcut) < 0.1\n",
    "        return (1/(1+z0)) * quadgk(z -> integrand(z), z0, zcut, 5, rtol=1e-2)[1]\n",
    "    else\n",
    "        return (1/(1+z0)) * quadgk(z -> integrand(z), z0, 5, rtol=1e-2)[1]\n",
    "    end\n",
    "end\n",
    "\n",
    "function q23contrib_IO(E, z0, z, α2, twobar, threebar, casechoice, bh_frac, normchoice)\n",
    "\n",
    "    if twobar == threebar\n",
    "        hc = true\n",
    "    else\n",
    "        hc = false\n",
    "    end\n",
    "\n",
    "    Ers = E*(1+z)/(1+z0)\n",
    "\n",
    "    qnorm = 3.086e19 * 1.516e15 * 1e6 / (3e8 * 1e12)\n",
    "    integrand(Eprime, z) = qnorm * (c0/Hubble(z))*DSNB_idecay(Eprime, z, α2, 2, twobar, \"IO\", bh_frac, normchoice) * (α2 * branching_3ν_IO(casechoice, 2, twobar, 3, threebar)/Eprime) * ψSH(Eprime, Ers, hc)\n",
    "\n",
    "    Emax = Ers + 50\n",
    "\n",
    "    Ecutoff = 1.5*100^(1/3)*Ers\n",
    "    if Ecutoff < Emax && (ψSH(Ecutoff, Ers, hc)/Ecutoff)/(ψSH(Ers, Ers, hc)/Ers) < 0.1\n",
    "        return quadgk(Eprime -> integrand(Eprime, z), Ers, Ecutoff, Emax, rtol=1e-2)[1]\n",
    "    else\n",
    "        return quadgk(Eprime -> integrand(Eprime, z), Ers, Emax, rtol=1e-2)[1]\n",
    "    end\n",
    "end\n",
    "\n",
    "function q13contrib_IO(E, z0, z, α2, α1, onebar, threebar, casechoice, bh_frac, normchoice)\n",
    "\n",
    "    if onebar == threebar\n",
    "        hc = true\n",
    "    else\n",
    "        hc = false\n",
    "    end\n",
    "\n",
    "    Ers = E*(1+z)/(1+z0)\n",
    "\n",
    "    qnorm = 3.086e19 * 1.516e15 * 1e6 / (3e8 * 1e12)\n",
    "    integrand(Eprime, z) = qnorm * (c0/Hubble(z))*DSNB_vdecay_1_IO(Eprime, z, α2, α1, onebar, casechoice, bh_frac, normchoice) * (α1 * branching_3ν_IO(casechoice, 1, onebar, 3, threebar)/Eprime) * ψSH(Eprime, Ers, hc)\n",
    "\n",
    "    Emax = Ers + 50\n",
    "\n",
    "    Ecutoff = 1.5*100^(1/3)*Ers\n",
    "    if Ecutoff < Emax && (ψSH(Ecutoff, Ers, hc)/Ecutoff)/(ψSH(Ers, Ers, hc)/Ers) < 0.1\n",
    "        return quadgk(Eprime -> integrand(Eprime, z), Ers, Ecutoff, Emax, rtol=1e-2)[1]\n",
    "    else\n",
    "        return quadgk(Eprime -> integrand(Eprime, z), Ers, Emax, rtol=1e-2)[1]\n",
    "    end\n",
    "end\n",
    "\n",
    "function q13contrib_IO_test(E, z0, z, α2, α1, onebar, threebar, casechoice, bh_frac, normchoice)\n",
    "\n",
    "    if onebar == threebar\n",
    "        hc = true\n",
    "    else\n",
    "        hc = false\n",
    "    end\n",
    "\n",
    "    Ers = E*(1+z)/(1+z0)\n",
    "\n",
    "    qnorm = 3.086e19 * 1.516e15 * 1e6 / (3e8 * 1e12)\n",
    "    integrand(Eprime) = qnorm * (c0/Hubble(z))*DSNB_vdecay_1_IO(Eprime, z, α2, α1, onebar, casechoice, bh_frac, normchoice) * (α1 * branching_3ν_IO(casechoice, 1, onebar, 3, threebar)/Eprime) * ψSH(Eprime, Ers, hc)\n",
    "\n",
    "    Emax = Ers + 50\n",
    "    #=\n",
    "    if Emax > 100\n",
    "        return quadgk(Eprime -> integrand(Eprime), Ers, 100, Inf, rtol=1e-2)[1]\n",
    "    else\n",
    "        return quadgk(Eprime -> integrand(Eprime), Ers, Emax, rtol=1e-2)[1]\n",
    "    end\n",
    "    =#\n",
    "    return quadgk(u -> integrand(u*(1+z))*(1+z), E/(1+z0), (E/(1+z0))+50, rtol=1e-2)[1]\n",
    "end\n",
    "\n",
    "function DSNB_vdecay_3_IO(E, α2, α1, threebar, casechoice, bh_frac, normchoice)\n",
    "    integrand(z) = (DSNB_integrand(E, 0, z, 3, threebar, \"IO\", bh_frac, normchoice)\n",
    "                    + q23contrib_IO(E, 0, z, α2, true, threebar, casechoice, bh_frac, normchoice)\n",
    "                    + q23contrib_IO(E, 0, z, α2, false, threebar, casechoice, bh_frac, normchoice)\n",
    "                    + q13contrib_IO(E, 0, z, α2, α1, true, threebar, casechoice, bh_frac, normchoice)\n",
    "                    + q13contrib_IO(E, 0, z, α2, α1, false, threebar, casechoice, bh_frac, normchoice))\n",
    "    return quadgk(z -> integrand(z), 0, 5, rtol=1e-2)[1]\n",
    "end\n",
    "\n",
    "function DSNB_vdecay_3ν_νe_IO(E, α2, α1, nubar, casechoice, bh_frac, normchoice)\n",
    "\n",
    "    ν3 = DSNB_vdecay_3_IO(E, α2, α1, nubar, casechoice, bh_frac, normchoice)\n",
    "    ν2 = DSNB_idecay(E, 0, α2, 2, nubar, \"IO\", bh_frac, normchoice)\n",
    "    ν1 = DSNB_vdecay_1_IO(E, 0, α2, α1, nubar, casechoice, bh_frac, normchoice)\n",
    "    \n",
    "    return Usqred(\"IO\")[1, 1]*ν1 + Usqred(\"IO\")[1, 2]*ν2 + Usqred(\"IO\")[1, 3]*ν3\n",
    "end\n",
    "\n",
    "#######################################\n",
    "\n",
    "# Per progenitor:\n",
    "\n",
    "function q21contrib_IO_1pc(E, z0, z, α2, nubar, casechoice, sm, normchoice)\n",
    "\n",
    "    Ers = E*(1+z)/(1+z0)\n",
    "\n",
    "    qnorm = 3.086e19 * 1.516e15 * 1e6 / (3e8 * 1e12)\n",
    "    return qnorm * (c0/Hubble(z)) *  DSNB_idecay_1pc(Ers, z, α2, 2, nubar, \"IO\", sm, normchoice) * (α2 * branching_3ν_IO(casechoice, 2, nubar, 1, nubar)/Ers)\n",
    "end\n",
    "\n",
    "function DSNB_vdecay_1_IO_1pc(E, z0, α2, α1, nubar, casechoice, sm, normchoice)\n",
    "    if casechoice == \"A\"\n",
    "        α1 = 0\n",
    "    end\n",
    "    integrand(z) = (DSNB_integrand_1pc(E, z0, z, 1, nubar, \"IO\", sm, normchoice) +\n",
    "                        q21contrib_IO_1pc(E, z0, z, α2, nubar, casechoice, sm, normchoice))*decay(E, α1, z0, z)\n",
    "    zcut = zcutoff(E, α1, z0)\n",
    "    if zcut > z0 && zcut < 5 && decay(E, α1, z0, zcut) < 0.1\n",
    "        return (1/(1+z0)) * quadgk(z -> integrand(z), z0, zcut, 5, rtol=1e-2)[1]\n",
    "    else\n",
    "        return (1/(1+z0)) * quadgk(z -> integrand(z), z0, 5, rtol=1e-2)[1]\n",
    "    end\n",
    "end\n",
    "\n",
    "function q23contrib_IO_1pc(E, z0, z, α2, twobar, threebar, casechoice, sm, normchoice)\n",
    "\n",
    "    if twobar == threebar\n",
    "        hc = true\n",
    "    else\n",
    "        hc = false\n",
    "    end\n",
    "\n",
    "    Ers = E*(1+z)/(1+z0)\n",
    "\n",
    "    qnorm = 3.086e19 * 1.516e15 * 1e6 / (3e8 * 1e12)\n",
    "    integrand(Eprime, z) = qnorm * (c0/Hubble(z))*DSNB_idecay_1pc(Eprime, z, α2, 2, twobar, \"IO\", sm, normchoice) * (α2 * branching_3ν_IO(casechoice, 2, twobar, 3, threebar)/Eprime) * ψSH(Eprime, Ers, hc)\n",
    "\n",
    "    Emax = Ers + 50\n",
    "\n",
    "    Ecutoff = 1.5*100^(1/3)*Ers\n",
    "    if Ecutoff < Emax && (ψSH(Ecutoff, Ers, hc)/Ecutoff)/(ψSH(Ers, Ers, hc)/Ers) < 0.1\n",
    "        return quadgk(Eprime -> integrand(Eprime, z), Ers, Ecutoff, Emax, rtol=1e-2)[1]\n",
    "    else\n",
    "        return quadgk(Eprime -> integrand(Eprime, z), Ers, Emax, rtol=1e-2)[1]\n",
    "    end\n",
    "end\n",
    "\n",
    "function q13contrib_IO_1pc(E, z0, z, α2, α1, onebar, threebar, casechoice, sm, normchoice)\n",
    "\n",
    "    if onebar == threebar\n",
    "        hc = true\n",
    "    else\n",
    "        hc = false\n",
    "    end\n",
    "\n",
    "    Ers = E*(1+z)/(1+z0)\n",
    "\n",
    "    qnorm = 3.086e19 * 1.516e15 * 1e6 / (3e8 * 1e12)\n",
    "    integrand(Eprime, z) = qnorm * (c0/Hubble(z))*DSNB_vdecay_1_IO_1pc(Eprime, z, α2, α1, onebar, casechoice, sm, normchoice) * (α1 * branching_3ν_IO(casechoice, 1, onebar, 3, threebar)/Eprime) * ψSH(Eprime, Ers, hc)\n",
    "\n",
    "    Emax = Ers + 50\n",
    "\n",
    "    Ecutoff = 1.5*100^(1/3)*Ers\n",
    "    if Ecutoff < Emax && (ψSH(Ecutoff, Ers, hc)/Ecutoff)/(ψSH(Ers, Ers, hc)/Ers) < 0.1\n",
    "        return quadgk(Eprime -> integrand(Eprime, z), Ers, Ecutoff, Emax, rtol=1e-2)[1]\n",
    "    else\n",
    "        return quadgk(Eprime -> integrand(Eprime, z), Ers, Emax, rtol=1e-2)[1]\n",
    "    end\n",
    "end\n",
    "\n",
    "#=\n",
    "function q13contrib_IO_test(E, z0, z, α2, α1, onebar, threebar, casechoice, bh_frac, normchoice)\n",
    "\n",
    "    if onebar == threebar\n",
    "        hc = true\n",
    "    else\n",
    "        hc = false\n",
    "    end\n",
    "\n",
    "    Ers = E*(1+z)/(1+z0)\n",
    "\n",
    "    qnorm = 3.086e19 * 1.516e15 * 1e6 / (3e8 * 1e12)\n",
    "    integrand(Eprime) = qnorm * (c0/Hubble(z))*DSNB_vdecay_1_IO(Eprime, z, α2, α1, onebar, casechoice, bh_frac, normchoice) * (α1 * branching_3ν_IO(casechoice, 1, onebar, 3, threebar)/Eprime) * ψSH(Eprime, Ers, hc)\n",
    "\n",
    "    Emax = Ers + 50\n",
    "    #=\n",
    "    if Emax > 100\n",
    "        return quadgk(Eprime -> integrand(Eprime), Ers, 100, Inf, rtol=1e-2)[1]\n",
    "    else\n",
    "        return quadgk(Eprime -> integrand(Eprime), Ers, Emax, rtol=1e-2)[1]\n",
    "    end\n",
    "    =#\n",
    "    return quadgk(u -> integrand(u*(1+z))*(1+z), E/(1+z0), (E/(1+z0))+50, rtol=1e-2)[1]\n",
    "end\n",
    "=#\n",
    "\n",
    "function DSNB_vdecay_3_IO_1pc(E, α2, α1, threebar, casechoice, sm, normchoice)\n",
    "    integrand(z) = (DSNB_integrand_1pc(E, 0, z, 3, threebar, \"IO\", sm, normchoice)\n",
    "                    + q23contrib_IO_1pc(E, 0, z, α2, true, threebar, casechoice, sm, normchoice)\n",
    "                    + q23contrib_IO_1pc(E, 0, z, α2, false, threebar, casechoice, sm, normchoice)\n",
    "                    + q13contrib_IO_1pc(E, 0, z, α2, α1, true, threebar, casechoice, sm, normchoice)\n",
    "                    + q13contrib_IO_1pc(E, 0, z, α2, α1, false, threebar, casechoice, sm, normchoice))\n",
    "    return quadgk(z -> integrand(z), 0, 5, rtol=1e-2)[1]\n",
    "end\n",
    "\n",
    "function DSNB_vdecay_3ν_νe_IO_1pc(E, α2, α1, nubar, casechoice, sm, normchoice)\n",
    "\n",
    "    ν3 = DSNB_vdecay_3_IO_1pc(E, α2, α1, nubar, casechoice, sm, normchoice)\n",
    "    ν2 = DSNB_idecay_1pc(E, 0, α2, 2, nubar, \"IO\", sm, normchoice)\n",
    "    ν1 = DSNB_vdecay_1_IO_1pc(E, 0, α2, α1, nubar, casechoice, sm, normchoice)\n",
    "    \n",
    "    return Usqred(\"IO\")[1, 1]*ν1 + Usqred(\"IO\")[1, 2]*ν2 + Usqred(\"IO\")[1, 3]*ν3\n",
    "end;"
   ]
  },
  {
   "cell_type": "code",
   "execution_count": 23,
   "metadata": {},
   "outputs": [],
   "source": [
    "es_dsnb = range(0.5, 40, 100);"
   ]
  },
  {
   "cell_type": "code",
   "execution_count": 47,
   "metadata": {},
   "outputs": [
    {
     "data": {
      "text/plain": [
       "507"
      ]
     },
     "execution_count": 47,
     "metadata": {},
     "output_type": "execute_result"
    }
   ],
   "source": [
    "(13*13*3)"
   ]
  },
  {
   "cell_type": "code",
   "execution_count": 50,
   "metadata": {},
   "outputs": [
    {
     "name": "stdout",
     "output_type": "stream",
     "text": [
      "  1.153572 seconds (14.54 M allocations: 236.680 MiB, 6.78% gc time)\n"
     ]
    },
    {
     "data": {
      "text/plain": [
       "0.17661294323361465"
      ]
     },
     "execution_count": 50,
     "metadata": {},
     "output_type": "execute_result"
    }
   ],
   "source": [
    "@time DSNB_vdecay_3ν_νe_IO_1pc(1, 10^(-24), 10^(-24), false, \"democratic\", \"small\", SNRnorm) "
   ]
  },
  {
   "cell_type": "code",
   "execution_count": 138,
   "metadata": {},
   "outputs": [],
   "source": [
    "dsnb_IO_D_24_24_270sm = DSNB_vdecay_3ν_νe_IO_1pc.(es_dsnb, 10^(-24), 10^(-24), false, \"democratic\", \"large\", SNRnorm);"
   ]
  },
  {
   "cell_type": "code",
   "execution_count": 139,
   "metadata": {},
   "outputs": [],
   "source": [
    "dsnb_IO_D_24_24_bh = DSNB_vdecay_3ν_νe_IO_1pc.(es_dsnb, 10^(-24), 10^(-24), false, \"democratic\", \"bh\", SNRnorm);"
   ]
  },
  {
   "cell_type": "code",
   "execution_count": 141,
   "metadata": {},
   "outputs": [
    {
     "data": {
      "text/plain": [
       "100-element Vector{Float64}:\n",
       " -1.9960941233243545e-10\n",
       "  1.8958509206967733e-9\n",
       "  1.6839600824880563e-9\n",
       " -4.379308859991937e-10\n",
       "  3.2880561051662482e-9\n",
       " -4.841940182132021e-10\n",
       " -9.259956135210246e-10\n",
       " -4.798868247224419e-10\n",
       "  2.646495939062632e-10\n",
       "  1.538346394713841e-10\n",
       " -4.13943088140023e-10\n",
       "  2.4703070838905106e-9\n",
       " -3.080095900553914e-10\n",
       "  ⋮\n",
       "  2.2910171264441115e-11\n",
       "  3.8651315221321925e-12\n",
       "  1.8479989131840735e-11\n",
       " -1.8590747040761468e-10\n",
       " -5.085867409724068e-11\n",
       " -1.3948578023951358e-10\n",
       " -2.210641032208971e-10\n",
       " -1.2145328492918495e-10\n",
       " -1.6521643384989626e-10\n",
       "  3.039863420662911e-10\n",
       " -3.69184603677894e-12\n",
       "  6.503974778453853e-11"
      ]
     },
     "execution_count": 141,
     "metadata": {},
     "output_type": "execute_result"
    }
   ],
   "source": [
    "# (ηAD(15, 8)*Fmass(E*(1+z)/(1+z0), i, \"small\", ordering, nubar) \n",
    "# + (ηAD(22, 15)+ηAD(27, 25))*Fmass(E*(1+z)/(1+z0), i, \"large\", ordering, nubar) + (ηAD(25, 22)+ηAD(125, 27))*Fmass(E*(1+z)/(1+z0), i, \"bh\", ordering, nubar))\n",
    "\n",
    "((ηAD(15, 8)*dsnb_IO_D_24_24_112sm .+ (ηAD(22, 15)+ηAD(27, 25))*dsnb_IO_D_24_24_270sm .+ (ηAD(25, 22)+ηAD(125, 27))*dsnb_IO_D_24_24_bh) ./ ηAD(125, 8)) .- dsnb_IO_D_24_24"
   ]
  },
  {
   "cell_type": "code",
   "execution_count": 53,
   "metadata": {},
   "outputs": [],
   "source": [
    "dsnb_IO_nodecay_f21 = DSNB.(es_dsnb, 0, true, \"IO\", \"21\", SNRnorm);"
   ]
  },
  {
   "cell_type": "code",
   "execution_count": 151,
   "metadata": {},
   "outputs": [],
   "source": [
    "dsnb_IO_idecay = DSNB_idecay.(es_dsnb, 0, 10^(-23), 10^(-23), 0, true, \"IO\", \"21\", SNRnorm);\n",
    "\n",
    "dsnb_IO_iidecay = DSNB_idecay.(es_dsnb, 0, 10^(-22), 10^(-22), 0, true, \"IO\", \"21\", SNRnorm);\n",
    "\n",
    "dsnb_IO_iiidecay = DSNB_idecay.(es_dsnb, 0, 10^(-21), 10^(-21), 0, true, \"IO\", \"21\", SNRnorm);"
   ]
  },
  {
   "cell_type": "code",
   "execution_count": 128,
   "metadata": {},
   "outputs": [],
   "source": [
    "dsnb_IO_D_24_24 = DSNB_vdecay_3ν_νe_IO.(es_dsnb, 10^(-24), 10^(-24), false, \"democratic\", \"21\", SNRnorm);"
   ]
  },
  {
   "cell_type": "code",
   "execution_count": 130,
   "metadata": {},
   "outputs": [],
   "source": [
    "dsnb_IO_D_24_24_bar = DSNB_vdecay_3ν_νe_IO.(es_dsnb, 10^(-24), 10^(-24), true, \"democratic\", \"21\", SNRnorm);"
   ]
  },
  {
   "cell_type": "code",
   "execution_count": 132,
   "metadata": {},
   "outputs": [
    {
     "name": "stdout",
     "output_type": "stream",
     "text": [
      "294.917899 seconds (3.42 G allocations: 52.528 GiB, 5.89% gc time)\n"
     ]
    },
    {
     "data": {
      "text/plain": [
       "100-element Vector{Float64}:\n",
       " 0.18644934643454444\n",
       " 0.17725151734786423\n",
       " 0.16746280666696736\n",
       " 0.157085221697662\n",
       " 0.14631524289027453\n",
       " 0.1354360711024642\n",
       " 0.12472568300381817\n",
       " 0.11440718416993163\n",
       " 0.10463541704142838\n",
       " 0.09550300933668544\n",
       " 0.08705346559477398\n",
       " 0.07929489671414772\n",
       " 0.07221159241932128\n",
       " ⋮\n",
       " 0.0007910317268733975\n",
       " 0.0007492119743155278\n",
       " 0.0007096024746176171\n",
       " 0.000672091511459509\n",
       " 0.00063657323116868\n",
       " 0.0006029447851094963\n",
       " 0.000571113521866223\n",
       " 0.0005409831697467944\n",
       " 0.0005124669629840424\n",
       " 0.00048547838139038435\n",
       " 0.0004599426207769035\n",
       " 0.0004357801500017789"
      ]
     },
     "execution_count": 132,
     "metadata": {},
     "output_type": "execute_result"
    }
   ],
   "source": [
    "@time dsnb_IO_B_24_24_bar = DSNB_vdecay_3ν_νe_IO.(es_dsnb, 10^(-24), 10^(-24), true, \"B\", \"21\", SNRnorm)"
   ]
  },
  {
   "cell_type": "code",
   "execution_count": 133,
   "metadata": {},
   "outputs": [
    {
     "name": "stdout",
     "output_type": "stream",
     "text": [
      "272.101753 seconds (3.71 G allocations: 56.827 GiB, 6.17% gc time)\n"
     ]
    },
    {
     "data": {
      "text/plain": [
       "100-element Vector{Float64}:\n",
       " 0.186614467276504\n",
       " 0.17740803472796834\n",
       " 0.16760335034964755\n",
       " 0.1572001078535418\n",
       " 0.14639325950480905\n",
       " 0.1354651667878384\n",
       " 0.12469360271736438\n",
       " 0.11430198653664933\n",
       " 0.10444593476208057\n",
       " 0.09521917709109022\n",
       " 0.08666650922694172\n",
       " 0.07879752476821439\n",
       " 0.07159806810507037\n",
       " ⋮\n",
       " 0.0005085070289433625\n",
       " 0.000481826222671268\n",
       " 0.0004565725561617388\n",
       " 0.0004326675816616731\n",
       " 0.0004100453777881757\n",
       " 0.0003886289015572139\n",
       " 0.0003683653334875874\n",
       " 0.0003491866503106889\n",
       " 0.0003310373864054647\n",
       " 0.00031386007126371835\n",
       " 0.0002976047044342923\n",
       " 0.0002822214659841881"
      ]
     },
     "execution_count": 133,
     "metadata": {},
     "output_type": "execute_result"
    }
   ],
   "source": [
    "@time dsnb_IO_C_24_24_bar = DSNB_vdecay_3ν_νe_IO.(es_dsnb, 10^(-24), 10^(-24), true, \"C\", \"21\", SNRnorm)"
   ]
  },
  {
   "cell_type": "code",
   "execution_count": 143,
   "metadata": {},
   "outputs": [
    {
     "data": {
      "text/plain": [
       "100-element Vector{Float64}:\n",
       " 0.18671709402781675\n",
       " 0.17751020493124797\n",
       " 0.1676997594212544\n",
       " 0.15728359920153528\n",
       " 0.14645549872798055\n",
       " 0.1354973241451725\n",
       " 0.12468676141005583\n",
       " 0.11424768465134655\n",
       " 0.10433634682268042\n",
       " 0.09504741185101069\n",
       " 0.08642672965384744\n",
       " 0.07848503605572416\n",
       " 0.07120931432551546\n",
       " ⋮\n",
       " 0.00031061822136026223\n",
       " 0.00029395920966234786\n",
       " 0.0002782311936876002\n",
       " 0.00026338305859974795\n",
       " 0.00024936278326687106\n",
       " 0.00023612279756766123\n",
       " 0.00022361831180670998\n",
       " 0.00021180628351717383\n",
       " 0.00020064514619086914\n",
       " 0.0001901034568901563\n",
       " 0.00018014305348471076\n",
       " 0.00017073054382513479"
      ]
     },
     "execution_count": 143,
     "metadata": {},
     "output_type": "execute_result"
    }
   ],
   "source": [
    "dsnb_IO_C_235_235_bar = DSNB_vdecay_3ν_νe_IO.(es_dsnb, 10^(-23.5), 10^(-23.5), true, \"B\", \"21\", SNRnorm)"
   ]
  },
  {
   "cell_type": "code",
   "execution_count": 157,
   "metadata": {},
   "outputs": [
    {
     "data": {
      "text/plain": [
       "6.596306068601583e6"
      ]
     },
     "execution_count": 157,
     "metadata": {},
     "output_type": "execute_result"
    }
   ],
   "source": [
    "α_to_τoverm(10^(-22))"
   ]
  },
  {
   "cell_type": "code",
   "execution_count": 163,
   "metadata": {},
   "outputs": [
    {
     "data": {
      "text/plain": [
       "11"
      ]
     },
     "execution_count": 163,
     "metadata": {},
     "output_type": "execute_result"
    }
   ],
   "source": [
    "length(24:0.2:26)"
   ]
  },
  {
   "cell_type": "code",
   "execution_count": 160,
   "metadata": {},
   "outputs": [
    {
     "data": {
      "text/plain": [
       "100-element Vector{Float64}:\n",
       " 0.020783092149722893\n",
       " 0.021397485201513897\n",
       " 0.02186175288010143\n",
       " 0.022209877619535027\n",
       " 0.022469926867384835\n",
       " 0.02266558300540473\n",
       " 0.02281497583833802\n",
       " 0.022931082719251022\n",
       " 0.023022859700203846\n",
       " 0.02309635980212847\n",
       " 0.02315569083620804\n",
       " 0.0232036842141848\n",
       " 0.02324235491738941\n",
       " ⋮\n",
       " 0.022380881549179003\n",
       " 0.02236029831639141\n",
       " 0.022339490614605086\n",
       " 0.022318463799369116\n",
       " 0.02229722733807494\n",
       " 0.02227579287404849\n",
       " 0.0222541708630816\n",
       " 0.02223237379601104\n",
       " 0.022210415742114582\n",
       " 0.02218831119276421\n",
       " 0.02216607565513508\n",
       " 0.02214372797317004"
      ]
     },
     "execution_count": 160,
     "metadata": {},
     "output_type": "execute_result"
    }
   ],
   "source": [
    "dsnb_IO_iidecay ./ dsnb_IO_nodecay_f21"
   ]
  },
  {
   "cell_type": "code",
   "execution_count": 152,
   "metadata": {},
   "outputs": [
    {
     "data": {
      "image/png": "[encoded data removed]",
      "image/svg+xml": "<?xml version=\"1.0\" encoding=\"utf-8\"?>\n<svg xmlns=\"http://www.w3.org/2000/svg\" xmlns:xlink=\"http://www.w3.org/1999/xlink\" width=\"600\" height=\"400\" viewBox=\"0 0 2400 1600\">\n<defs>\n  <clipPath id=\"clip080\">\n    <rect x=\"0\" y=\"0\" width=\"2400\" height=\"1600\"/>\n  </clipPath>\n</defs>\n<path clip-path=\"url(#clip080)\" d=\"M0 1600 L2400 1600 L2400 0 L0 0  Z\" fill=\"#ffffff\" fill-rule=\"evenodd\" fill-opacity=\"1\"/>\n<defs>\n  <clipPath id=\"clip081\">\n    <rect x=\"480\" y=\"0\" width=\"1681\" height=\"1600\"/>\n  </clipPath>\n</defs>\n<path clip-path=\"url(#clip080)\" d=\"M149.191 1486.45 L2352.76 1486.45 L2352.76 47.2441 L149.191 47.2441  Z\" fill=\"#ffffff\" fill-rule=\"evenodd\" fill-opacity=\"1\"/>\n<defs>\n  <clipPath id=\"clip082\">\n    <rect x=\"149\" y=\"47\" width=\"2205\" height=\"1440\"/>\n  </clipPath>\n</defs>\n<polyline clip-path=\"url(#clip082)\" style=\"stroke:#000000; stroke-linecap:round; stroke-linejoin:round; stroke-width:2; stroke-opacity:0.1; fill:none\" points=\"185.242,1486.45 185.242,47.2441 \"/>\n<polyline clip-path=\"url(#clip082)\" style=\"stroke:#000000; stroke-linecap:round; stroke-linejoin:round; stroke-width:2; stroke-opacity:0.1; fill:none\" points=\"711.529,1486.45 711.529,47.2441 \"/>\n<polyline clip-path=\"url(#clip082)\" style=\"stroke:#000000; stroke-linecap:round; stroke-linejoin:round; stroke-width:2; stroke-opacity:0.1; fill:none\" points=\"1237.82,1486.45 1237.82,47.2441 \"/>\n<polyline clip-path=\"url(#clip082)\" style=\"stroke:#000000; stroke-linecap:round; stroke-linejoin:round; stroke-width:2; stroke-opacity:0.1; fill:none\" points=\"1764.1,1486.45 1764.1,47.2441 \"/>\n<polyline clip-path=\"url(#clip082)\" style=\"stroke:#000000; stroke-linecap:round; stroke-linejoin:round; stroke-width:2; stroke-opacity:0.1; fill:none\" points=\"2290.39,1486.45 2290.39,47.2441 \"/>\n<polyline clip-path=\"url(#clip080)\" style=\"stroke:#000000; stroke-linecap:round; stroke-linejoin:round; stroke-width:4; stroke-opacity:1; fill:none\" points=\"149.191,1486.45 2352.76,1486.45 \"/>\n<polyline clip-path=\"url(#clip080)\" style=\"stroke:#000000; stroke-linecap:round; stroke-linejoin:round; stroke-width:4; stroke-opacity:1; fill:none\" points=\"185.242,1486.45 185.242,1467.55 \"/>\n<polyline clip-path=\"url(#clip080)\" style=\"stroke:#000000; stroke-linecap:round; stroke-linejoin:round; stroke-width:4; stroke-opacity:1; fill:none\" points=\"711.529,1486.45 711.529,1467.55 \"/>\n<polyline clip-path=\"url(#clip080)\" style=\"stroke:#000000; stroke-linecap:round; stroke-linejoin:round; stroke-width:4; stroke-opacity:1; fill:none\" points=\"1237.82,1486.45 1237.82,1467.55 \"/>\n<polyline clip-path=\"url(#clip080)\" style=\"stroke:#000000; stroke-linecap:round; stroke-linejoin:round; stroke-width:4; stroke-opacity:1; fill:none\" points=\"1764.1,1486.45 1764.1,1467.55 \"/>\n<polyline clip-path=\"url(#clip080)\" style=\"stroke:#000000; stroke-linecap:round; stroke-linejoin:round; stroke-width:4; stroke-opacity:1; fill:none\" points=\"2290.39,1486.45 2290.39,1467.55 \"/>\n<path clip-path=\"url(#clip080)\" d=\"M185.242 1517.37 Q181.63 1517.37 179.802 1520.93 Q177.996 1524.47 177.996 1531.6 Q177.996 1538.71 179.802 1542.27 Q181.63 1545.82 185.242 1545.82 Q188.876 1545.82 190.681 1542.27 Q192.51 1538.71 192.51 1531.6 Q192.51 1524.47 190.681 1520.93 Q188.876 1517.37 185.242 1517.37 M185.242 1513.66 Q191.052 1513.66 194.107 1518.27 Q197.186 1522.85 197.186 1531.6 Q197.186 1540.33 194.107 1544.94 Q191.052 1549.52 185.242 1549.52 Q179.431 1549.52 176.353 1544.94 Q173.297 1540.33 173.297 1531.6 Q173.297 1522.85 176.353 1518.27 Q179.431 1513.66 185.242 1513.66 Z\" fill=\"#000000\" fill-rule=\"nonzero\" fill-opacity=\"1\" /><path clip-path=\"url(#clip080)\" d=\"M686.217 1544.91 L693.855 1544.91 L693.855 1518.55 L685.545 1520.21 L685.545 1515.95 L693.809 1514.29 L698.485 1514.29 L698.485 1544.91 L706.124 1544.91 L706.124 1548.85 L686.217 1548.85 L686.217 1544.91 Z\" fill=\"#000000\" fill-rule=\"nonzero\" fill-opacity=\"1\" /><path clip-path=\"url(#clip080)\" d=\"M725.568 1517.37 Q721.957 1517.37 720.128 1520.93 Q718.323 1524.47 718.323 1531.6 Q718.323 1538.71 720.128 1542.27 Q721.957 1545.82 725.568 1545.82 Q729.202 1545.82 731.008 1542.27 Q732.837 1538.71 732.837 1531.6 Q732.837 1524.47 731.008 1520.93 Q729.202 1517.37 725.568 1517.37 M725.568 1513.66 Q731.378 1513.66 734.434 1518.27 Q737.513 1522.85 737.513 1531.6 Q737.513 1540.33 734.434 1544.94 Q731.378 1549.52 725.568 1549.52 Q719.758 1549.52 716.679 1544.94 Q713.624 1540.33 713.624 1531.6 Q713.624 1522.85 716.679 1518.27 Q719.758 1513.66 725.568 1513.66 Z\" fill=\"#000000\" fill-rule=\"nonzero\" fill-opacity=\"1\" /><path clip-path=\"url(#clip080)\" d=\"M1216.59 1544.91 L1232.91 1544.91 L1232.91 1548.85 L1210.96 1548.85 L1210.96 1544.91 Q1213.63 1542.16 1218.21 1537.53 Q1222.82 1532.88 1224 1531.53 Q1226.24 1529.01 1227.12 1527.27 Q1228.02 1525.51 1228.02 1523.82 Q1228.02 1521.07 1226.08 1519.33 Q1224.16 1517.6 1221.06 1517.6 Q1218.86 1517.6 1216.4 1518.36 Q1213.97 1519.13 1211.2 1520.68 L1211.2 1515.95 Q1214.02 1514.82 1216.47 1514.24 Q1218.93 1513.66 1220.96 1513.66 Q1226.33 1513.66 1229.53 1516.35 Q1232.72 1519.03 1232.72 1523.52 Q1232.72 1525.65 1231.91 1527.57 Q1231.13 1529.47 1229.02 1532.07 Q1228.44 1532.74 1225.34 1535.95 Q1222.24 1539.15 1216.59 1544.91 Z\" fill=\"#000000\" fill-rule=\"nonzero\" fill-opacity=\"1\" /><path clip-path=\"url(#clip080)\" d=\"M1252.72 1517.37 Q1249.11 1517.37 1247.28 1520.93 Q1245.48 1524.47 1245.48 1531.6 Q1245.48 1538.71 1247.28 1542.27 Q1249.11 1545.82 1252.72 1545.82 Q1256.36 1545.82 1258.16 1542.27 Q1259.99 1538.71 1259.99 1531.6 Q1259.99 1524.47 1258.16 1520.93 Q1256.36 1517.37 1252.72 1517.37 M1252.72 1513.66 Q1258.53 1513.66 1261.59 1518.27 Q1264.67 1522.85 1264.67 1531.6 Q1264.67 1540.33 1261.59 1544.94 Q1258.53 1549.52 1252.72 1549.52 Q1246.91 1549.52 1243.83 1544.94 Q1240.78 1540.33 1240.78 1531.6 Q1240.78 1522.85 1243.83 1518.27 Q1246.91 1513.66 1252.72 1513.66 Z\" fill=\"#000000\" fill-rule=\"nonzero\" fill-opacity=\"1\" /><path clip-path=\"url(#clip080)\" d=\"M1752.95 1530.21 Q1756.3 1530.93 1758.18 1533.2 Q1760.08 1535.47 1760.08 1538.8 Q1760.08 1543.92 1756.56 1546.72 Q1753.04 1549.52 1746.56 1549.52 Q1744.38 1549.52 1742.07 1549.08 Q1739.77 1548.66 1737.32 1547.81 L1737.32 1543.29 Q1739.27 1544.43 1741.58 1545.01 Q1743.9 1545.58 1746.42 1545.58 Q1750.82 1545.58 1753.11 1543.85 Q1755.42 1542.11 1755.42 1538.8 Q1755.42 1535.75 1753.27 1534.03 Q1751.14 1532.3 1747.32 1532.3 L1743.29 1532.3 L1743.29 1528.45 L1747.51 1528.45 Q1750.96 1528.45 1752.78 1527.09 Q1754.61 1525.7 1754.61 1523.11 Q1754.61 1520.45 1752.71 1519.03 Q1750.84 1517.6 1747.32 1517.6 Q1745.4 1517.6 1743.2 1518.01 Q1741 1518.43 1738.36 1519.31 L1738.36 1515.14 Q1741.02 1514.4 1743.34 1514.03 Q1745.68 1513.66 1747.74 1513.66 Q1753.06 1513.66 1756.16 1516.09 Q1759.27 1518.5 1759.27 1522.62 Q1759.27 1525.49 1757.62 1527.48 Q1755.98 1529.45 1752.95 1530.21 Z\" fill=\"#000000\" fill-rule=\"nonzero\" fill-opacity=\"1\" /><path clip-path=\"url(#clip080)\" d=\"M1778.94 1517.37 Q1775.33 1517.37 1773.5 1520.93 Q1771.7 1524.47 1771.7 1531.6 Q1771.7 1538.71 1773.5 1542.27 Q1775.33 1545.82 1778.94 1545.82 Q1782.58 1545.82 1784.38 1542.27 Q1786.21 1538.71 1786.21 1531.6 Q1786.21 1524.47 1784.38 1520.93 Q1782.58 1517.37 1778.94 1517.37 M1778.94 1513.66 Q1784.75 1513.66 1787.81 1518.27 Q1790.89 1522.85 1790.89 1531.6 Q1790.89 1540.33 1787.81 1544.94 Q1784.75 1549.52 1778.94 1549.52 Q1773.13 1549.52 1770.05 1544.94 Q1767 1540.33 1767 1531.6 Q1767 1522.85 1770.05 1518.27 Q1773.13 1513.66 1778.94 1513.66 Z\" fill=\"#000000\" fill-rule=\"nonzero\" fill-opacity=\"1\" /><path clip-path=\"url(#clip080)\" d=\"M2278.56 1518.36 L2266.76 1536.81 L2278.56 1536.81 L2278.56 1518.36 M2277.34 1514.29 L2283.21 1514.29 L2283.21 1536.81 L2288.15 1536.81 L2288.15 1540.7 L2283.21 1540.7 L2283.21 1548.85 L2278.56 1548.85 L2278.56 1540.7 L2262.96 1540.7 L2262.96 1536.19 L2277.34 1514.29 Z\" fill=\"#000000\" fill-rule=\"nonzero\" fill-opacity=\"1\" /><path clip-path=\"url(#clip080)\" d=\"M2305.88 1517.37 Q2302.27 1517.37 2300.44 1520.93 Q2298.63 1524.47 2298.63 1531.6 Q2298.63 1538.71 2300.44 1542.27 Q2302.27 1545.82 2305.88 1545.82 Q2309.51 1545.82 2311.32 1542.27 Q2313.15 1538.71 2313.15 1531.6 Q2313.15 1524.47 2311.32 1520.93 Q2309.51 1517.37 2305.88 1517.37 M2305.88 1513.66 Q2311.69 1513.66 2314.74 1518.27 Q2317.82 1522.85 2317.82 1531.6 Q2317.82 1540.33 2314.74 1544.94 Q2311.69 1549.52 2305.88 1549.52 Q2300.07 1549.52 2296.99 1544.94 Q2293.93 1540.33 2293.93 1531.6 Q2293.93 1522.85 2296.99 1518.27 Q2300.07 1513.66 2305.88 1513.66 Z\" fill=\"#000000\" fill-rule=\"nonzero\" fill-opacity=\"1\" /><polyline clip-path=\"url(#clip082)\" style=\"stroke:#000000; stroke-linecap:round; stroke-linejoin:round; stroke-width:2; stroke-opacity:0.1; fill:none\" points=\"149.191,1292.36 2352.76,1292.36 \"/>\n<polyline clip-path=\"url(#clip082)\" style=\"stroke:#000000; stroke-linecap:round; stroke-linejoin:round; stroke-width:2; stroke-opacity:0.1; fill:none\" points=\"149.191,1008.36 2352.76,1008.36 \"/>\n<polyline clip-path=\"url(#clip082)\" style=\"stroke:#000000; stroke-linecap:round; stroke-linejoin:round; stroke-width:2; stroke-opacity:0.1; fill:none\" points=\"149.191,724.358 2352.76,724.358 \"/>\n<polyline clip-path=\"url(#clip082)\" style=\"stroke:#000000; stroke-linecap:round; stroke-linejoin:round; stroke-width:2; stroke-opacity:0.1; fill:none\" points=\"149.191,440.357 2352.76,440.357 \"/>\n<polyline clip-path=\"url(#clip082)\" style=\"stroke:#000000; stroke-linecap:round; stroke-linejoin:round; stroke-width:2; stroke-opacity:0.1; fill:none\" points=\"149.191,156.356 2352.76,156.356 \"/>\n<polyline clip-path=\"url(#clip080)\" style=\"stroke:#000000; stroke-linecap:round; stroke-linejoin:round; stroke-width:4; stroke-opacity:1; fill:none\" points=\"149.191,1486.45 149.191,47.2441 \"/>\n<polyline clip-path=\"url(#clip080)\" style=\"stroke:#000000; stroke-linecap:round; stroke-linejoin:round; stroke-width:4; stroke-opacity:1; fill:none\" points=\"149.191,1292.36 168.089,1292.36 \"/>\n<polyline clip-path=\"url(#clip080)\" style=\"stroke:#000000; stroke-linecap:round; stroke-linejoin:round; stroke-width:4; stroke-opacity:1; fill:none\" points=\"149.191,1008.36 168.089,1008.36 \"/>\n<polyline clip-path=\"url(#clip080)\" style=\"stroke:#000000; stroke-linecap:round; stroke-linejoin:round; stroke-width:4; stroke-opacity:1; fill:none\" points=\"149.191,724.358 168.089,724.358 \"/>\n<polyline clip-path=\"url(#clip080)\" style=\"stroke:#000000; stroke-linecap:round; stroke-linejoin:round; stroke-width:4; stroke-opacity:1; fill:none\" points=\"149.191,440.357 168.089,440.357 \"/>\n<polyline clip-path=\"url(#clip080)\" style=\"stroke:#000000; stroke-linecap:round; stroke-linejoin:round; stroke-width:4; stroke-opacity:1; fill:none\" points=\"149.191,156.356 168.089,156.356 \"/>\n<path clip-path=\"url(#clip080)\" d=\"M50.9921 1292.81 L80.6679 1292.81 L80.6679 1296.75 L50.9921 1296.75 L50.9921 1292.81 Z\" fill=\"#000000\" fill-rule=\"nonzero\" fill-opacity=\"1\" /><path clip-path=\"url(#clip080)\" d=\"M103.608 1279.15 L91.8021 1297.6 L103.608 1297.6 L103.608 1279.15 M102.381 1275.08 L108.26 1275.08 L108.26 1297.6 L113.191 1297.6 L113.191 1301.49 L108.26 1301.49 L108.26 1309.64 L103.608 1309.64 L103.608 1301.49 L88.0058 1301.49 L88.0058 1296.98 L102.381 1275.08 Z\" fill=\"#000000\" fill-rule=\"nonzero\" fill-opacity=\"1\" /><path clip-path=\"url(#clip080)\" d=\"M52.1264 1008.81 L81.8021 1008.81 L81.8021 1012.75 L52.1264 1012.75 L52.1264 1008.81 Z\" fill=\"#000000\" fill-rule=\"nonzero\" fill-opacity=\"1\" /><path clip-path=\"url(#clip080)\" d=\"M106.061 1007 Q109.418 1007.72 111.293 1009.99 Q113.191 1012.26 113.191 1015.59 Q113.191 1020.71 109.672 1023.51 Q106.154 1026.31 99.6724 1026.31 Q97.4965 1026.31 95.1817 1025.87 Q92.89 1025.45 90.4364 1024.6 L90.4364 1020.08 Q92.3808 1021.22 94.6956 1021.8 Q97.0104 1022.37 99.5335 1022.37 Q103.932 1022.37 106.223 1020.64 Q108.538 1018.9 108.538 1015.59 Q108.538 1012.54 106.385 1010.82 Q104.256 1009.09 100.436 1009.09 L96.4085 1009.09 L96.4085 1005.25 L100.621 1005.25 Q104.071 1005.25 105.899 1003.88 Q107.728 1002.49 107.728 999.898 Q107.728 997.236 105.83 995.824 Q103.955 994.389 100.436 994.389 Q98.515 994.389 96.316 994.806 Q94.1169 995.222 91.478 996.102 L91.478 991.935 Q94.14 991.195 96.4548 990.824 Q98.7928 990.454 100.853 990.454 Q106.177 990.454 109.279 992.884 Q112.381 995.292 112.381 999.412 Q112.381 1002.28 110.737 1004.27 Q109.094 1006.24 106.061 1007 Z\" fill=\"#000000\" fill-rule=\"nonzero\" fill-opacity=\"1\" /><path clip-path=\"url(#clip080)\" d=\"M53.0754 724.809 L82.7512 724.809 L82.7512 728.744 L53.0754 728.744 L53.0754 724.809 Z\" fill=\"#000000\" fill-rule=\"nonzero\" fill-opacity=\"1\" /><path clip-path=\"url(#clip080)\" d=\"M96.8715 737.703 L113.191 737.703 L113.191 741.638 L91.2465 741.638 L91.2465 737.703 Q93.9086 734.948 98.4919 730.319 Q103.098 725.666 104.279 724.323 Q106.524 721.8 107.404 720.064 Q108.307 718.305 108.307 716.615 Q108.307 713.86 106.362 712.124 Q104.441 710.388 101.339 710.388 Q99.14 710.388 96.6863 711.152 Q94.2558 711.916 91.478 713.467 L91.478 708.745 Q94.3021 707.61 96.7558 707.032 Q99.2095 706.453 101.246 706.453 Q106.617 706.453 109.811 709.138 Q113.006 711.823 113.006 716.314 Q113.006 718.444 112.196 720.365 Q111.408 722.263 109.302 724.856 Q108.723 725.527 105.621 728.744 Q102.52 731.939 96.8715 737.703 Z\" fill=\"#000000\" fill-rule=\"nonzero\" fill-opacity=\"1\" /><path clip-path=\"url(#clip080)\" d=\"M52.7051 440.808 L82.3808 440.808 L82.3808 444.743 L52.7051 444.743 L52.7051 440.808 Z\" fill=\"#000000\" fill-rule=\"nonzero\" fill-opacity=\"1\" /><path clip-path=\"url(#clip080)\" d=\"M93.2836 453.702 L100.922 453.702 L100.922 427.336 L92.6123 429.003 L92.6123 424.744 L100.876 423.077 L105.552 423.077 L105.552 453.702 L113.191 453.702 L113.191 457.637 L93.2836 457.637 L93.2836 453.702 Z\" fill=\"#000000\" fill-rule=\"nonzero\" fill-opacity=\"1\" /><path clip-path=\"url(#clip080)\" d=\"M101.246 142.155 Q97.6354 142.155 95.8067 145.719 Q94.0012 149.261 94.0012 156.391 Q94.0012 163.497 95.8067 167.062 Q97.6354 170.604 101.246 170.604 Q104.881 170.604 106.686 167.062 Q108.515 163.497 108.515 156.391 Q108.515 149.261 106.686 145.719 Q104.881 142.155 101.246 142.155 M101.246 138.451 Q107.057 138.451 110.112 143.057 Q113.191 147.641 113.191 156.391 Q113.191 165.117 110.112 169.724 Q107.057 174.307 101.246 174.307 Q95.4363 174.307 92.3576 169.724 Q89.3021 165.117 89.3021 156.391 Q89.3021 147.641 92.3576 143.057 Q95.4363 138.451 101.246 138.451 Z\" fill=\"#000000\" fill-rule=\"nonzero\" fill-opacity=\"1\" /><polyline clip-path=\"url(#clip082)\" style=\"stroke:#0000ff; stroke-linecap:round; stroke-linejoin:round; stroke-width:4; stroke-opacity:1; fill:none\" points=\"211.556,337.351 232.554,218.313 253.553,158.75 274.551,125.062 295.549,105.489 316.548,94.5593 337.546,89.3101 358.544,87.9763 379.543,89.439 400.541,92.9555 421.539,98.0159 442.538,104.26 463.536,111.428 484.534,119.407 505.533,127.896 526.531,136.86 547.529,146.213 568.528,155.885 589.526,165.821 610.524,175.977 631.523,186.314 652.521,196.801 673.519,207.413 694.518,218.126 715.516,228.921 736.514,239.782 757.513,250.695 778.511,261.647 799.509,272.545 820.508,283.545 841.506,294.556 862.504,305.57 883.503,316.58 904.501,327.582 925.499,338.569 946.498,349.538 967.496,360.485 988.494,371.406 1009.49,382.299 1030.49,393.161 1051.49,403.99 1072.49,414.783 1093.49,425.54 1114.48,436.258 1135.48,446.936 1156.48,457.574 1177.48,468.169 1198.48,478.724 1219.48,489.231 1240.47,499.669 1261.47,510.033 1282.47,520.416 1303.47,530.753 1324.47,541.045 1345.47,551.291 1366.46,561.499 1387.46,571.653 1408.46,581.761 1429.46,591.823 1450.46,601.84 1471.46,611.811 1492.45,621.736 1513.45,631.632 1534.45,641.465 1555.45,651.252 1576.45,660.994 1597.45,670.69 1618.44,680.342 1639.44,689.948 1660.44,699.51 1681.44,709.026 1702.44,718.547 1723.44,727.971 1744.43,737.351 1765.43,746.687 1786.43,755.979 1807.43,765.227 1828.43,774.432 1849.43,783.593 1870.42,792.71 1891.42,801.785 1912.42,810.816 1933.42,819.804 1954.42,828.911 1975.42,837.804 1996.41,846.655 2017.41,855.464 2038.41,864.231 2059.41,872.957 2080.41,881.641 2101.41,890.283 2122.4,898.885 2143.4,907.445 2164.4,915.965 2185.4,924.444 2206.4,932.883 2227.4,941.281 2248.39,949.639 2269.39,957.958 2290.39,966.238 \"/>\n<polyline clip-path=\"url(#clip082)\" style=\"stroke:#ff0000; stroke-linecap:round; stroke-linejoin:round; stroke-width:4; stroke-opacity:1; fill:none\" points=\"211.556,815.123 232.554,692.493 253.553,630.282 274.551,594.647 295.549,573.639 316.548,561.641 337.546,555.584 358.544,553.626 379.543,554.6 400.541,557.727 421.539,562.475 442.538,568.469 463.536,575.438 484.534,583.261 505.533,591.63 526.531,600.506 547.529,609.798 568.528,619.433 589.526,629.354 610.524,639.512 631.523,649.867 652.521,660.387 673.519,671.044 694.518,681.813 715.516,692.673 736.514,703.609 757.513,714.603 778.511,725.643 799.509,736.636 820.508,747.736 841.506,758.852 862.504,769.975 883.503,781.1 904.501,792.219 925.499,803.328 946.498,814.423 967.496,825.499 988.494,836.552 1009.49,847.581 1030.49,858.582 1051.49,869.552 1072.49,880.49 1093.49,891.395 1114.48,902.264 1135.48,913.096 1156.48,923.891 1177.48,934.646 1198.48,945.363 1219.48,955.944 1240.47,966.586 1261.47,977.189 1282.47,987.747 1303.47,998.262 1324.47,1008.74 1345.47,1019.17 1366.46,1029.56 1387.46,1039.9 1408.46,1050.2 1429.46,1060.46 1450.46,1070.68 1471.46,1080.85 1492.45,1090.98 1513.45,1101.08 1534.45,1111.13 1555.45,1121.13 1576.45,1131.09 1597.45,1141.01 1618.44,1150.89 1639.44,1160.72 1660.44,1170.52 1681.44,1180.27 1702.44,1190.01 1723.44,1199.68 1744.43,1209.31 1765.43,1218.89 1786.43,1228.43 1807.43,1237.94 1828.43,1247.4 1849.43,1256.83 1870.42,1266.21 1891.42,1275.55 1912.42,1284.86 1933.42,1294.12 1954.42,1303.46 1975.42,1312.64 1996.41,1321.78 2017.41,1330.88 2038.41,1339.94 2059.41,1348.97 2080.41,1357.95 2101.41,1366.9 2122.4,1375.81 2143.4,1384.68 2164.4,1393.51 2185.4,1402.3 2206.4,1411.06 2227.4,1419.78 2248.39,1428.46 2269.39,1437.11 2290.39,1445.72 \"/>\n<polyline clip-path=\"url(#clip082)\" style=\"stroke:#ffa500; stroke-linecap:round; stroke-linejoin:round; stroke-width:4; stroke-opacity:1; fill:none\" points=\"211.556,363.34 232.554,369.577 253.553,376.589 274.551,384.499 295.549,393.296 316.548,402.888 337.546,413.144 358.544,423.928 379.543,435.121 400.541,446.622 421.539,458.349 442.538,470.238 463.536,482.237 484.534,494.305 505.533,506.411 526.531,518.526 547.529,530.629 568.528,542.701 589.526,554.723 610.524,566.684 631.523,578.568 652.521,590.365 673.519,602.066 694.518,613.66 715.516,625.14 736.514,636.498 757.513,647.729 778.511,658.828 799.509,669.789 820.508,680.61 841.506,691.288 862.504,701.82 883.503,712.207 904.501,722.447 925.499,732.54 946.498,742.489 967.496,752.293 988.494,761.956 1009.49,771.479 1030.49,780.867 1051.49,790.081 1072.49,799.212 1093.49,808.217 1114.48,817.101 1135.48,825.869 1156.48,834.524 1177.48,843.073 1198.48,851.519 1219.48,859.867 1240.47,868.122 1261.47,876.29 1282.47,884.373 1303.47,892.377 1324.47,900.306 1345.47,908.165 1366.46,915.959 1387.46,923.689 1408.46,931.359 1429.46,938.975 1450.46,946.539 1471.46,954.054 1492.45,961.523 1513.45,968.954 1534.45,976.34 1555.45,983.689 1576.45,991.002 1597.45,998.282 1618.44,1005.53 1639.44,1012.75 1660.44,1019.94 1681.44,1027.1 1702.44,1034.25 1723.44,1041.37 1744.43,1048.46 1765.43,1055.53 1786.43,1062.58 1807.43,1069.61 1828.43,1076.62 1849.43,1083.61 1870.42,1090.58 1891.42,1097.54 1912.42,1104.47 1933.42,1111.39 1954.42,1118.32 1975.42,1125.2 1996.41,1132.07 2017.41,1138.92 2038.41,1145.75 2059.41,1152.57 2080.41,1159.37 2101.41,1166.15 2122.4,1172.91 2143.4,1179.66 2164.4,1186.39 2185.4,1193.1 2206.4,1199.79 2227.4,1206.47 2248.39,1213.13 2269.39,1219.76 2290.39,1226.38 \"/>\n<polyline clip-path=\"url(#clip082)\" style=\"stroke:#a52a2a; stroke-linecap:round; stroke-linejoin:round; stroke-width:4; stroke-opacity:1; fill:none\" points=\"211.556,815.123 232.554,692.492 253.553,630.281 274.551,594.645 295.549,573.635 316.548,561.637 337.546,555.577 358.544,553.617 379.543,554.587 400.541,557.711 421.539,562.455 442.538,568.444 463.536,575.406 484.534,583.222 505.533,591.583 526.531,600.449 547.529,609.731 568.528,619.354 589.526,629.261 610.524,639.404 631.523,649.743 652.521,660.245 673.519,670.881 694.518,681.628 715.516,692.465 736.514,703.374 757.513,714.339 778.511,725.349 799.509,736.309 820.508,747.373 841.506,758.451 862.504,769.534 883.503,780.615 904.501,791.688 925.499,802.748 946.498,813.791 967.496,824.812 988.494,835.809 1009.49,846.777 1030.49,857.714 1051.49,868.618 1072.49,879.486 1093.49,890.318 1114.48,901.112 1135.48,911.865 1156.48,922.578 1177.48,933.248 1198.48,943.877 1219.48,954.369 1240.47,964.916 1261.47,975.422 1282.47,985.879 1303.47,996.292 1324.47,1006.66 1345.47,1016.98 1366.46,1027.26 1387.46,1037.49 1408.46,1047.67 1429.46,1057.81 1450.46,1067.91 1471.46,1077.95 1492.45,1087.95 1513.45,1097.92 1534.45,1107.83 1555.45,1117.7 1576.45,1127.52 1597.45,1137.3 1618.44,1147.03 1639.44,1156.72 1660.44,1166.37 1681.44,1175.97 1702.44,1185.56 1723.44,1195.07 1744.43,1204.54 1765.43,1213.96 1786.43,1223.34 1807.43,1232.68 1828.43,1241.98 1849.43,1251.24 1870.42,1260.45 1891.42,1269.62 1912.42,1278.75 1933.42,1287.84 1954.42,1297 1975.42,1306 1996.41,1314.96 2017.41,1323.88 2038.41,1332.76 2059.41,1341.59 2080.41,1350.39 2101.41,1359.15 2122.4,1367.87 2143.4,1376.54 2164.4,1385.18 2185.4,1393.78 2206.4,1402.34 2227.4,1410.86 2248.39,1419.34 2269.39,1427.78 2290.39,1436.19 \"/>\n<polyline clip-path=\"url(#clip082)\" style=\"stroke:#000000; stroke-linecap:round; stroke-linejoin:round; stroke-width:4; stroke-opacity:1; fill:none\" points=\"211.556,815.119 232.554,692.484 253.553,630.267 274.551,594.622 295.549,573.601 316.548,561.587 337.546,555.508 358.544,553.523 379.543,554.463 400.541,557.549 421.539,562.249 442.538,568.185 463.536,575.086 484.534,582.83 505.533,591.108 526.531,599.881 547.529,609.056 568.528,618.56 589.526,628.332 610.524,638.326 631.523,648.499 652.521,658.818 673.519,669.253 694.518,679.781 715.516,690.378 736.514,701.027 757.513,711.712 778.511,722.419 799.509,733.056 820.508,743.773 841.506,754.479 862.504,765.167 883.503,775.828 904.501,786.458 925.499,797.049 946.498,807.598 967.496,818.1 988.494,828.552 1009.49,838.951 1030.49,849.294 1051.49,859.579 1072.49,869.804 1093.49,879.968 1114.48,890.07 1135.48,900.108 1156.48,910.083 1177.48,919.993 1198.48,929.839 1219.48,939.538 1240.47,949.261 1261.47,958.921 1282.47,968.515 1303.47,978.045 1324.47,987.511 1345.47,996.915 1366.46,1006.26 1387.46,1015.54 1408.46,1024.76 1429.46,1033.92 1450.46,1043.02 1471.46,1052.07 1492.45,1061.06 1513.45,1070 1534.45,1078.87 1555.45,1087.69 1576.45,1096.46 1597.45,1105.18 1618.44,1113.84 1639.44,1122.45 1660.44,1131.02 1681.44,1139.53 1702.44,1148.02 1723.44,1156.44 1744.43,1164.81 1765.43,1173.14 1786.43,1181.42 1807.43,1189.65 1828.43,1197.84 1849.43,1205.99 1870.42,1214.1 1891.42,1222.16 1912.42,1230.18 1933.42,1238.16 1954.42,1246.17 1975.42,1254.07 1996.41,1261.92 2017.41,1269.74 2038.41,1277.51 2059.41,1285.25 2080.41,1292.95 2101.41,1300.61 2122.4,1308.23 2143.4,1315.82 2164.4,1323.37 2185.4,1330.88 2206.4,1338.35 2227.4,1345.79 2248.39,1353.19 2269.39,1360.56 2290.39,1367.89 \"/>\n<path clip-path=\"url(#clip080)\" d=\"M2004.8 406.258 L2279.3 406.258 L2279.3 95.2176 L2004.8 95.2176  Z\" fill=\"#ffffff\" fill-rule=\"evenodd\" fill-opacity=\"1\"/>\n<polyline clip-path=\"url(#clip080)\" style=\"stroke:#000000; stroke-linecap:round; stroke-linejoin:round; stroke-width:4; stroke-opacity:1; fill:none\" points=\"2004.8,406.258 2279.3,406.258 2279.3,95.2176 2004.8,95.2176 2004.8,406.258 \"/>\n<polyline clip-path=\"url(#clip080)\" style=\"stroke:#0000ff; stroke-linecap:round; stroke-linejoin:round; stroke-width:4; stroke-opacity:1; fill:none\" points=\"2029.29,147.058 2176.19,147.058 \"/>\n<path clip-path=\"url(#clip080)\" d=\"M2214.52 166.745 Q2212.71 171.375 2211 172.787 Q2209.29 174.199 2206.42 174.199 L2203.01 174.199 L2203.01 170.634 L2205.51 170.634 Q2207.27 170.634 2208.25 169.8 Q2209.22 168.967 2210.4 165.865 L2211.16 163.921 L2200.68 138.412 L2205.19 138.412 L2213.29 158.689 L2221.39 138.412 L2225.91 138.412 L2214.52 166.745 Z\" fill=\"#000000\" fill-rule=\"nonzero\" fill-opacity=\"1\" /><path clip-path=\"url(#clip080)\" d=\"M2233.2 160.402 L2240.84 160.402 L2240.84 134.037 L2232.53 135.703 L2232.53 131.444 L2240.79 129.778 L2245.47 129.778 L2245.47 160.402 L2253.11 160.402 L2253.11 164.338 L2233.2 164.338 L2233.2 160.402 Z\" fill=\"#000000\" fill-rule=\"nonzero\" fill-opacity=\"1\" /><polyline clip-path=\"url(#clip080)\" style=\"stroke:#ff0000; stroke-linecap:round; stroke-linejoin:round; stroke-width:4; stroke-opacity:1; fill:none\" points=\"2029.29,198.898 2176.19,198.898 \"/>\n<path clip-path=\"url(#clip080)\" d=\"M2214.52 218.585 Q2212.71 223.215 2211 224.627 Q2209.29 226.039 2206.42 226.039 L2203.01 226.039 L2203.01 222.474 L2205.51 222.474 Q2207.27 222.474 2208.25 221.64 Q2209.22 220.807 2210.4 217.705 L2211.16 215.761 L2200.68 190.252 L2205.19 190.252 L2213.29 210.529 L2221.39 190.252 L2225.91 190.252 L2214.52 218.585 Z\" fill=\"#000000\" fill-rule=\"nonzero\" fill-opacity=\"1\" /><path clip-path=\"url(#clip080)\" d=\"M2236.42 212.242 L2252.74 212.242 L2252.74 216.178 L2230.79 216.178 L2230.79 212.242 Q2233.45 209.488 2238.04 204.858 Q2242.64 200.205 2243.82 198.863 Q2246.07 196.34 2246.95 194.604 Q2247.85 192.844 2247.85 191.155 Q2247.85 188.4 2245.91 186.664 Q2243.99 184.928 2240.88 184.928 Q2238.69 184.928 2236.23 185.692 Q2233.8 186.455 2231.02 188.006 L2231.02 183.284 Q2233.85 182.15 2236.3 181.571 Q2238.75 180.993 2240.79 180.993 Q2246.16 180.993 2249.36 183.678 Q2252.55 186.363 2252.55 190.854 Q2252.55 192.983 2251.74 194.905 Q2250.95 196.803 2248.85 199.395 Q2248.27 200.067 2245.17 203.284 Q2242.07 206.479 2236.42 212.242 Z\" fill=\"#000000\" fill-rule=\"nonzero\" fill-opacity=\"1\" /><polyline clip-path=\"url(#clip080)\" style=\"stroke:#ffa500; stroke-linecap:round; stroke-linejoin:round; stroke-width:4; stroke-opacity:1; fill:none\" points=\"2029.29,250.738 2176.19,250.738 \"/>\n<path clip-path=\"url(#clip080)\" d=\"M2214.52 270.425 Q2212.71 275.055 2211 276.467 Q2209.29 277.879 2206.42 277.879 L2203.01 277.879 L2203.01 274.314 L2205.51 274.314 Q2207.27 274.314 2208.25 273.48 Q2209.22 272.647 2210.4 269.545 L2211.16 267.601 L2200.68 242.092 L2205.19 242.092 L2213.29 262.369 L2221.39 242.092 L2225.91 242.092 L2214.52 270.425 Z\" fill=\"#000000\" fill-rule=\"nonzero\" fill-opacity=\"1\" /><path clip-path=\"url(#clip080)\" d=\"M2246.56 249.383 Q2249.91 250.101 2251.79 252.369 Q2253.69 254.638 2253.69 257.971 Q2253.69 263.087 2250.17 265.888 Q2246.65 268.689 2240.17 268.689 Q2237.99 268.689 2235.68 268.249 Q2233.38 267.832 2230.93 266.976 L2230.93 262.462 Q2232.88 263.596 2235.19 264.175 Q2237.5 264.754 2240.03 264.754 Q2244.43 264.754 2246.72 263.018 Q2249.03 261.281 2249.03 257.971 Q2249.03 254.916 2246.88 253.203 Q2244.75 251.467 2240.93 251.467 L2236.9 251.467 L2236.9 247.624 L2241.12 247.624 Q2244.57 247.624 2246.39 246.258 Q2248.22 244.87 2248.22 242.277 Q2248.22 239.615 2246.32 238.203 Q2244.45 236.768 2240.93 236.768 Q2239.01 236.768 2236.81 237.184 Q2234.61 237.601 2231.97 238.481 L2231.97 234.314 Q2234.63 233.573 2236.95 233.203 Q2239.29 232.833 2241.35 232.833 Q2246.67 232.833 2249.77 235.263 Q2252.88 237.67 2252.88 241.791 Q2252.88 244.661 2251.23 246.652 Q2249.59 248.62 2246.56 249.383 Z\" fill=\"#000000\" fill-rule=\"nonzero\" fill-opacity=\"1\" /><polyline clip-path=\"url(#clip080)\" style=\"stroke:#a52a2a; stroke-linecap:round; stroke-linejoin:round; stroke-width:4; stroke-opacity:1; fill:none\" points=\"2029.29,302.578 2176.19,302.578 \"/>\n<path clip-path=\"url(#clip080)\" d=\"M2214.52 322.265 Q2212.71 326.895 2211 328.307 Q2209.29 329.719 2206.42 329.719 L2203.01 329.719 L2203.01 326.154 L2205.51 326.154 Q2207.27 326.154 2208.25 325.32 Q2209.22 324.487 2210.4 321.385 L2211.16 319.441 L2200.68 293.932 L2205.19 293.932 L2213.29 314.209 L2221.39 293.932 L2225.91 293.932 L2214.52 322.265 Z\" fill=\"#000000\" fill-rule=\"nonzero\" fill-opacity=\"1\" /><path clip-path=\"url(#clip080)\" d=\"M2245.24 289.372 L2233.43 307.821 L2245.24 307.821 L2245.24 289.372 M2244.01 285.298 L2249.89 285.298 L2249.89 307.821 L2254.82 307.821 L2254.82 311.709 L2249.89 311.709 L2249.89 319.858 L2245.24 319.858 L2245.24 311.709 L2229.63 311.709 L2229.63 307.196 L2244.01 285.298 Z\" fill=\"#000000\" fill-rule=\"nonzero\" fill-opacity=\"1\" /><polyline clip-path=\"url(#clip080)\" style=\"stroke:#000000; stroke-linecap:round; stroke-linejoin:round; stroke-width:4; stroke-opacity:1; fill:none\" points=\"2029.29,354.418 2176.19,354.418 \"/>\n<path clip-path=\"url(#clip080)\" d=\"M2214.52 374.105 Q2212.71 378.735 2211 380.147 Q2209.29 381.559 2206.42 381.559 L2203.01 381.559 L2203.01 377.994 L2205.51 377.994 Q2207.27 377.994 2208.25 377.16 Q2209.22 376.327 2210.4 373.225 L2211.16 371.281 L2200.68 345.772 L2205.19 345.772 L2213.29 366.049 L2221.39 345.772 L2225.91 345.772 L2214.52 374.105 Z\" fill=\"#000000\" fill-rule=\"nonzero\" fill-opacity=\"1\" /><path clip-path=\"url(#clip080)\" d=\"M2232.44 337.138 L2250.79 337.138 L2250.79 341.073 L2236.72 341.073 L2236.72 349.545 Q2237.74 349.198 2238.75 349.036 Q2239.77 348.85 2240.79 348.85 Q2246.58 348.85 2249.96 352.022 Q2253.34 355.193 2253.34 360.61 Q2253.34 366.188 2249.87 369.29 Q2246.39 372.369 2240.07 372.369 Q2237.9 372.369 2235.63 371.998 Q2233.38 371.628 2230.98 370.887 L2230.98 366.188 Q2233.06 367.323 2235.28 367.878 Q2237.5 368.434 2239.98 368.434 Q2243.99 368.434 2246.32 366.327 Q2248.66 364.221 2248.66 360.61 Q2248.66 356.999 2246.32 354.892 Q2243.99 352.786 2239.98 352.786 Q2238.11 352.786 2236.23 353.202 Q2234.38 353.619 2232.44 354.499 L2232.44 337.138 Z\" fill=\"#000000\" fill-rule=\"nonzero\" fill-opacity=\"1\" /></svg>\n",
      "text/html": [
       "<?xml version=\"1.0\" encoding=\"utf-8\"?>\n",
       "<svg xmlns=\"http://www.w3.org/2000/svg\" xmlns:xlink=\"http://www.w3.org/1999/xlink\" width=\"600\" height=\"400\" viewBox=\"0 0 2400 1600\">\n",
       "<defs>\n",
       "  <clipPath id=\"clip130\">\n",
       "    <rect x=\"0\" y=\"0\" width=\"2400\" height=\"1600\"/>\n",
       "  </clipPath>\n",
       "</defs>\n",
       "<path clip-path=\"url(#clip130)\" d=\"M0 1600 L2400 1600 L2400 0 L0 0  Z\" fill=\"#ffffff\" fill-rule=\"evenodd\" fill-opacity=\"1\"/>\n",
       "<defs>\n",
       "  <clipPath id=\"clip131\">\n",
       "    <rect x=\"480\" y=\"0\" width=\"1681\" height=\"1600\"/>\n",
       "  </clipPath>\n",
       "</defs>\n",
       "<path clip-path=\"url(#clip130)\" d=\"M149.191 1486.45 L2352.76 1486.45 L2352.76 47.2441 L149.191 47.2441  Z\" fill=\"#ffffff\" fill-rule=\"evenodd\" fill-opacity=\"1\"/>\n",
       "<defs>\n",
       "  <clipPath id=\"clip132\">\n",
       "    <rect x=\"149\" y=\"47\" width=\"2205\" height=\"1440\"/>\n",
       "  </clipPath>\n",
       "</defs>\n",
       "<polyline clip-path=\"url(#clip132)\" style=\"stroke:#000000; stroke-linecap:round; stroke-linejoin:round; stroke-width:2; stroke-opacity:0.1; fill:none\" points=\"185.242,1486.45 185.242,47.2441 \"/>\n",
       "<polyline clip-path=\"url(#clip132)\" style=\"stroke:#000000; stroke-linecap:round; stroke-linejoin:round; stroke-width:2; stroke-opacity:0.1; fill:none\" points=\"711.529,1486.45 711.529,47.2441 \"/>\n",
       "<polyline clip-path=\"url(#clip132)\" style=\"stroke:#000000; stroke-linecap:round; stroke-linejoin:round; stroke-width:2; stroke-opacity:0.1; fill:none\" points=\"1237.82,1486.45 1237.82,47.2441 \"/>\n",
       "<polyline clip-path=\"url(#clip132)\" style=\"stroke:#000000; stroke-linecap:round; stroke-linejoin:round; stroke-width:2; stroke-opacity:0.1; fill:none\" points=\"1764.1,1486.45 1764.1,47.2441 \"/>\n",
       "<polyline clip-path=\"url(#clip132)\" style=\"stroke:#000000; stroke-linecap:round; stroke-linejoin:round; stroke-width:2; stroke-opacity:0.1; fill:none\" points=\"2290.39,1486.45 2290.39,47.2441 \"/>\n",
       "<polyline clip-path=\"url(#clip130)\" style=\"stroke:#000000; stroke-linecap:round; stroke-linejoin:round; stroke-width:4; stroke-opacity:1; fill:none\" points=\"149.191,1486.45 2352.76,1486.45 \"/>\n",
       "<polyline clip-path=\"url(#clip130)\" style=\"stroke:#000000; stroke-linecap:round; stroke-linejoin:round; stroke-width:4; stroke-opacity:1; fill:none\" points=\"185.242,1486.45 185.242,1467.55 \"/>\n",
       "<polyline clip-path=\"url(#clip130)\" style=\"stroke:#000000; stroke-linecap:round; stroke-linejoin:round; stroke-width:4; stroke-opacity:1; fill:none\" points=\"711.529,1486.45 711.529,1467.55 \"/>\n",
       "<polyline clip-path=\"url(#clip130)\" style=\"stroke:#000000; stroke-linecap:round; stroke-linejoin:round; stroke-width:4; stroke-opacity:1; fill:none\" points=\"1237.82,1486.45 1237.82,1467.55 \"/>\n",
       "<polyline clip-path=\"url(#clip130)\" style=\"stroke:#000000; stroke-linecap:round; stroke-linejoin:round; stroke-width:4; stroke-opacity:1; fill:none\" points=\"1764.1,1486.45 1764.1,1467.55 \"/>\n",
       "<polyline clip-path=\"url(#clip130)\" style=\"stroke:#000000; stroke-linecap:round; stroke-linejoin:round; stroke-width:4; stroke-opacity:1; fill:none\" points=\"2290.39,1486.45 2290.39,1467.55 \"/>\n",
       "<path clip-path=\"url(#clip130)\" d=\"M185.242 1517.37 Q181.63 1517.37 179.802 1520.93 Q177.996 1524.47 177.996 1531.6 Q177.996 1538.71 179.802 1542.27 Q181.63 1545.82 185.242 1545.82 Q188.876 1545.82 190.681 1542.27 Q192.51 1538.71 192.51 1531.6 Q192.51 1524.47 190.681 1520.93 Q188.876 1517.37 185.242 1517.37 M185.242 1513.66 Q191.052 1513.66 194.107 1518.27 Q197.186 1522.85 197.186 1531.6 Q197.186 1540.33 194.107 1544.94 Q191.052 1549.52 185.242 1549.52 Q179.431 1549.52 176.353 1544.94 Q173.297 1540.33 173.297 1531.6 Q173.297 1522.85 176.353 1518.27 Q179.431 1513.66 185.242 1513.66 Z\" fill=\"#000000\" fill-rule=\"nonzero\" fill-opacity=\"1\" /><path clip-path=\"url(#clip130)\" d=\"M686.217 1544.91 L693.855 1544.91 L693.855 1518.55 L685.545 1520.21 L685.545 1515.95 L693.809 1514.29 L698.485 1514.29 L698.485 1544.91 L706.124 1544.91 L706.124 1548.85 L686.217 1548.85 L686.217 1544.91 Z\" fill=\"#000000\" fill-rule=\"nonzero\" fill-opacity=\"1\" /><path clip-path=\"url(#clip130)\" d=\"M725.568 1517.37 Q721.957 1517.37 720.128 1520.93 Q718.323 1524.47 718.323 1531.6 Q718.323 1538.71 720.128 1542.27 Q721.957 1545.82 725.568 1545.82 Q729.202 1545.82 731.008 1542.27 Q732.837 1538.71 732.837 1531.6 Q732.837 1524.47 731.008 1520.93 Q729.202 1517.37 725.568 1517.37 M725.568 1513.66 Q731.378 1513.66 734.434 1518.27 Q737.513 1522.85 737.513 1531.6 Q737.513 1540.33 734.434 1544.94 Q731.378 1549.52 725.568 1549.52 Q719.758 1549.52 716.679 1544.94 Q713.624 1540.33 713.624 1531.6 Q713.624 1522.85 716.679 1518.27 Q719.758 1513.66 725.568 1513.66 Z\" fill=\"#000000\" fill-rule=\"nonzero\" fill-opacity=\"1\" /><path clip-path=\"url(#clip130)\" d=\"M1216.59 1544.91 L1232.91 1544.91 L1232.91 1548.85 L1210.96 1548.85 L1210.96 1544.91 Q1213.63 1542.16 1218.21 1537.53 Q1222.82 1532.88 1224 1531.53 Q1226.24 1529.01 1227.12 1527.27 Q1228.02 1525.51 1228.02 1523.82 Q1228.02 1521.07 1226.08 1519.33 Q1224.16 1517.6 1221.06 1517.6 Q1218.86 1517.6 1216.4 1518.36 Q1213.97 1519.13 1211.2 1520.68 L1211.2 1515.95 Q1214.02 1514.82 1216.47 1514.24 Q1218.93 1513.66 1220.96 1513.66 Q1226.33 1513.66 1229.53 1516.35 Q1232.72 1519.03 1232.72 1523.52 Q1232.72 1525.65 1231.91 1527.57 Q1231.13 1529.47 1229.02 1532.07 Q1228.44 1532.74 1225.34 1535.95 Q1222.24 1539.15 1216.59 1544.91 Z\" fill=\"#000000\" fill-rule=\"nonzero\" fill-opacity=\"1\" /><path clip-path=\"url(#clip130)\" d=\"M1252.72 1517.37 Q1249.11 1517.37 1247.28 1520.93 Q1245.48 1524.47 1245.48 1531.6 Q1245.48 1538.71 1247.28 1542.27 Q1249.11 1545.82 1252.72 1545.82 Q1256.36 1545.82 1258.16 1542.27 Q1259.99 1538.71 1259.99 1531.6 Q1259.99 1524.47 1258.16 1520.93 Q1256.36 1517.37 1252.72 1517.37 M1252.72 1513.66 Q1258.53 1513.66 1261.59 1518.27 Q1264.67 1522.85 1264.67 1531.6 Q1264.67 1540.33 1261.59 1544.94 Q1258.53 1549.52 1252.72 1549.52 Q1246.91 1549.52 1243.83 1544.94 Q1240.78 1540.33 1240.78 1531.6 Q1240.78 1522.85 1243.83 1518.27 Q1246.91 1513.66 1252.72 1513.66 Z\" fill=\"#000000\" fill-rule=\"nonzero\" fill-opacity=\"1\" /><path clip-path=\"url(#clip130)\" d=\"M1752.95 1530.21 Q1756.3 1530.93 1758.18 1533.2 Q1760.08 1535.47 1760.08 1538.8 Q1760.08 1543.92 1756.56 1546.72 Q1753.04 1549.52 1746.56 1549.52 Q1744.38 1549.52 1742.07 1549.08 Q1739.77 1548.66 1737.32 1547.81 L1737.32 1543.29 Q1739.27 1544.43 1741.58 1545.01 Q1743.9 1545.58 1746.42 1545.58 Q1750.82 1545.58 1753.11 1543.85 Q1755.42 1542.11 1755.42 1538.8 Q1755.42 1535.75 1753.27 1534.03 Q1751.14 1532.3 1747.32 1532.3 L1743.29 1532.3 L1743.29 1528.45 L1747.51 1528.45 Q1750.96 1528.45 1752.78 1527.09 Q1754.61 1525.7 1754.61 1523.11 Q1754.61 1520.45 1752.71 1519.03 Q1750.84 1517.6 1747.32 1517.6 Q1745.4 1517.6 1743.2 1518.01 Q1741 1518.43 1738.36 1519.31 L1738.36 1515.14 Q1741.02 1514.4 1743.34 1514.03 Q1745.68 1513.66 1747.74 1513.66 Q1753.06 1513.66 1756.16 1516.09 Q1759.27 1518.5 1759.27 1522.62 Q1759.27 1525.49 1757.62 1527.48 Q1755.98 1529.45 1752.95 1530.21 Z\" fill=\"#000000\" fill-rule=\"nonzero\" fill-opacity=\"1\" /><path clip-path=\"url(#clip130)\" d=\"M1778.94 1517.37 Q1775.33 1517.37 1773.5 1520.93 Q1771.7 1524.47 1771.7 1531.6 Q1771.7 1538.71 1773.5 1542.27 Q1775.33 1545.82 1778.94 1545.82 Q1782.58 1545.82 1784.38 1542.27 Q1786.21 1538.71 1786.21 1531.6 Q1786.21 1524.47 1784.38 1520.93 Q1782.58 1517.37 1778.94 1517.37 M1778.94 1513.66 Q1784.75 1513.66 1787.81 1518.27 Q1790.89 1522.85 1790.89 1531.6 Q1790.89 1540.33 1787.81 1544.94 Q1784.75 1549.52 1778.94 1549.52 Q1773.13 1549.52 1770.05 1544.94 Q1767 1540.33 1767 1531.6 Q1767 1522.85 1770.05 1518.27 Q1773.13 1513.66 1778.94 1513.66 Z\" fill=\"#000000\" fill-rule=\"nonzero\" fill-opacity=\"1\" /><path clip-path=\"url(#clip130)\" d=\"M2278.56 1518.36 L2266.76 1536.81 L2278.56 1536.81 L2278.56 1518.36 M2277.34 1514.29 L2283.21 1514.29 L2283.21 1536.81 L2288.15 1536.81 L2288.15 1540.7 L2283.21 1540.7 L2283.21 1548.85 L2278.56 1548.85 L2278.56 1540.7 L2262.96 1540.7 L2262.96 1536.19 L2277.34 1514.29 Z\" fill=\"#000000\" fill-rule=\"nonzero\" fill-opacity=\"1\" /><path clip-path=\"url(#clip130)\" d=\"M2305.88 1517.37 Q2302.27 1517.37 2300.44 1520.93 Q2298.63 1524.47 2298.63 1531.6 Q2298.63 1538.71 2300.44 1542.27 Q2302.27 1545.82 2305.88 1545.82 Q2309.51 1545.82 2311.32 1542.27 Q2313.15 1538.71 2313.15 1531.6 Q2313.15 1524.47 2311.32 1520.93 Q2309.51 1517.37 2305.88 1517.37 M2305.88 1513.66 Q2311.69 1513.66 2314.74 1518.27 Q2317.82 1522.85 2317.82 1531.6 Q2317.82 1540.33 2314.74 1544.94 Q2311.69 1549.52 2305.88 1549.52 Q2300.07 1549.52 2296.99 1544.94 Q2293.93 1540.33 2293.93 1531.6 Q2293.93 1522.85 2296.99 1518.27 Q2300.07 1513.66 2305.88 1513.66 Z\" fill=\"#000000\" fill-rule=\"nonzero\" fill-opacity=\"1\" /><polyline clip-path=\"url(#clip132)\" style=\"stroke:#000000; stroke-linecap:round; stroke-linejoin:round; stroke-width:2; stroke-opacity:0.1; fill:none\" points=\"149.191,1292.36 2352.76,1292.36 \"/>\n",
       "<polyline clip-path=\"url(#clip132)\" style=\"stroke:#000000; stroke-linecap:round; stroke-linejoin:round; stroke-width:2; stroke-opacity:0.1; fill:none\" points=\"149.191,1008.36 2352.76,1008.36 \"/>\n",
       "<polyline clip-path=\"url(#clip132)\" style=\"stroke:#000000; stroke-linecap:round; stroke-linejoin:round; stroke-width:2; stroke-opacity:0.1; fill:none\" points=\"149.191,724.358 2352.76,724.358 \"/>\n",
       "<polyline clip-path=\"url(#clip132)\" style=\"stroke:#000000; stroke-linecap:round; stroke-linejoin:round; stroke-width:2; stroke-opacity:0.1; fill:none\" points=\"149.191,440.357 2352.76,440.357 \"/>\n",
       "<polyline clip-path=\"url(#clip132)\" style=\"stroke:#000000; stroke-linecap:round; stroke-linejoin:round; stroke-width:2; stroke-opacity:0.1; fill:none\" points=\"149.191,156.356 2352.76,156.356 \"/>\n",
       "<polyline clip-path=\"url(#clip130)\" style=\"stroke:#000000; stroke-linecap:round; stroke-linejoin:round; stroke-width:4; stroke-opacity:1; fill:none\" points=\"149.191,1486.45 149.191,47.2441 \"/>\n",
       "<polyline clip-path=\"url(#clip130)\" style=\"stroke:#000000; stroke-linecap:round; stroke-linejoin:round; stroke-width:4; stroke-opacity:1; fill:none\" points=\"149.191,1292.36 168.089,1292.36 \"/>\n",
       "<polyline clip-path=\"url(#clip130)\" style=\"stroke:#000000; stroke-linecap:round; stroke-linejoin:round; stroke-width:4; stroke-opacity:1; fill:none\" points=\"149.191,1008.36 168.089,1008.36 \"/>\n",
       "<polyline clip-path=\"url(#clip130)\" style=\"stroke:#000000; stroke-linecap:round; stroke-linejoin:round; stroke-width:4; stroke-opacity:1; fill:none\" points=\"149.191,724.358 168.089,724.358 \"/>\n",
       "<polyline clip-path=\"url(#clip130)\" style=\"stroke:#000000; stroke-linecap:round; stroke-linejoin:round; stroke-width:4; stroke-opacity:1; fill:none\" points=\"149.191,440.357 168.089,440.357 \"/>\n",
       "<polyline clip-path=\"url(#clip130)\" style=\"stroke:#000000; stroke-linecap:round; stroke-linejoin:round; stroke-width:4; stroke-opacity:1; fill:none\" points=\"149.191,156.356 168.089,156.356 \"/>\n",
       "<path clip-path=\"url(#clip130)\" d=\"M50.9921 1292.81 L80.6679 1292.81 L80.6679 1296.75 L50.9921 1296.75 L50.9921 1292.81 Z\" fill=\"#000000\" fill-rule=\"nonzero\" fill-opacity=\"1\" /><path clip-path=\"url(#clip130)\" d=\"M103.608 1279.15 L91.8021 1297.6 L103.608 1297.6 L103.608 1279.15 M102.381 1275.08 L108.26 1275.08 L108.26 1297.6 L113.191 1297.6 L113.191 1301.49 L108.26 1301.49 L108.26 1309.64 L103.608 1309.64 L103.608 1301.49 L88.0058 1301.49 L88.0058 1296.98 L102.381 1275.08 Z\" fill=\"#000000\" fill-rule=\"nonzero\" fill-opacity=\"1\" /><path clip-path=\"url(#clip130)\" d=\"M52.1264 1008.81 L81.8021 1008.81 L81.8021 1012.75 L52.1264 1012.75 L52.1264 1008.81 Z\" fill=\"#000000\" fill-rule=\"nonzero\" fill-opacity=\"1\" /><path clip-path=\"url(#clip130)\" d=\"M106.061 1007 Q109.418 1007.72 111.293 1009.99 Q113.191 1012.26 113.191 1015.59 Q113.191 1020.71 109.672 1023.51 Q106.154 1026.31 99.6724 1026.31 Q97.4965 1026.31 95.1817 1025.87 Q92.89 1025.45 90.4364 1024.6 L90.4364 1020.08 Q92.3808 1021.22 94.6956 1021.8 Q97.0104 1022.37 99.5335 1022.37 Q103.932 1022.37 106.223 1020.64 Q108.538 1018.9 108.538 1015.59 Q108.538 1012.54 106.385 1010.82 Q104.256 1009.09 100.436 1009.09 L96.4085 1009.09 L96.4085 1005.25 L100.621 1005.25 Q104.071 1005.25 105.899 1003.88 Q107.728 1002.49 107.728 999.898 Q107.728 997.236 105.83 995.824 Q103.955 994.389 100.436 994.389 Q98.515 994.389 96.316 994.806 Q94.1169 995.222 91.478 996.102 L91.478 991.935 Q94.14 991.195 96.4548 990.824 Q98.7928 990.454 100.853 990.454 Q106.177 990.454 109.279 992.884 Q112.381 995.292 112.381 999.412 Q112.381 1002.28 110.737 1004.27 Q109.094 1006.24 106.061 1007 Z\" fill=\"#000000\" fill-rule=\"nonzero\" fill-opacity=\"1\" /><path clip-path=\"url(#clip130)\" d=\"M53.0754 724.809 L82.7512 724.809 L82.7512 728.744 L53.0754 728.744 L53.0754 724.809 Z\" fill=\"#000000\" fill-rule=\"nonzero\" fill-opacity=\"1\" /><path clip-path=\"url(#clip130)\" d=\"M96.8715 737.703 L113.191 737.703 L113.191 741.638 L91.2465 741.638 L91.2465 737.703 Q93.9086 734.948 98.4919 730.319 Q103.098 725.666 104.279 724.323 Q106.524 721.8 107.404 720.064 Q108.307 718.305 108.307 716.615 Q108.307 713.86 106.362 712.124 Q104.441 710.388 101.339 710.388 Q99.14 710.388 96.6863 711.152 Q94.2558 711.916 91.478 713.467 L91.478 708.745 Q94.3021 707.61 96.7558 707.032 Q99.2095 706.453 101.246 706.453 Q106.617 706.453 109.811 709.138 Q113.006 711.823 113.006 716.314 Q113.006 718.444 112.196 720.365 Q111.408 722.263 109.302 724.856 Q108.723 725.527 105.621 728.744 Q102.52 731.939 96.8715 737.703 Z\" fill=\"#000000\" fill-rule=\"nonzero\" fill-opacity=\"1\" /><path clip-path=\"url(#clip130)\" d=\"M52.7051 440.808 L82.3808 440.808 L82.3808 444.743 L52.7051 444.743 L52.7051 440.808 Z\" fill=\"#000000\" fill-rule=\"nonzero\" fill-opacity=\"1\" /><path clip-path=\"url(#clip130)\" d=\"M93.2836 453.702 L100.922 453.702 L100.922 427.336 L92.6123 429.003 L92.6123 424.744 L100.876 423.077 L105.552 423.077 L105.552 453.702 L113.191 453.702 L113.191 457.637 L93.2836 457.637 L93.2836 453.702 Z\" fill=\"#000000\" fill-rule=\"nonzero\" fill-opacity=\"1\" /><path clip-path=\"url(#clip130)\" d=\"M101.246 142.155 Q97.6354 142.155 95.8067 145.719 Q94.0012 149.261 94.0012 156.391 Q94.0012 163.497 95.8067 167.062 Q97.6354 170.604 101.246 170.604 Q104.881 170.604 106.686 167.062 Q108.515 163.497 108.515 156.391 Q108.515 149.261 106.686 145.719 Q104.881 142.155 101.246 142.155 M101.246 138.451 Q107.057 138.451 110.112 143.057 Q113.191 147.641 113.191 156.391 Q113.191 165.117 110.112 169.724 Q107.057 174.307 101.246 174.307 Q95.4363 174.307 92.3576 169.724 Q89.3021 165.117 89.3021 156.391 Q89.3021 147.641 92.3576 143.057 Q95.4363 138.451 101.246 138.451 Z\" fill=\"#000000\" fill-rule=\"nonzero\" fill-opacity=\"1\" /><polyline clip-path=\"url(#clip132)\" style=\"stroke:#0000ff; stroke-linecap:round; stroke-linejoin:round; stroke-width:4; stroke-opacity:1; fill:none\" points=\"211.556,337.351 232.554,218.313 253.553,158.75 274.551,125.062 295.549,105.489 316.548,94.5593 337.546,89.3101 358.544,87.9763 379.543,89.439 400.541,92.9555 421.539,98.0159 442.538,104.26 463.536,111.428 484.534,119.407 505.533,127.896 526.531,136.86 547.529,146.213 568.528,155.885 589.526,165.821 610.524,175.977 631.523,186.314 652.521,196.801 673.519,207.413 694.518,218.126 715.516,228.921 736.514,239.782 757.513,250.695 778.511,261.647 799.509,272.545 820.508,283.545 841.506,294.556 862.504,305.57 883.503,316.58 904.501,327.582 925.499,338.569 946.498,349.538 967.496,360.485 988.494,371.406 1009.49,382.299 1030.49,393.161 1051.49,403.99 1072.49,414.783 1093.49,425.54 1114.48,436.258 1135.48,446.936 1156.48,457.574 1177.48,468.169 1198.48,478.724 1219.48,489.231 1240.47,499.669 1261.47,510.033 1282.47,520.416 1303.47,530.753 1324.47,541.045 1345.47,551.291 1366.46,561.499 1387.46,571.653 1408.46,581.761 1429.46,591.823 1450.46,601.84 1471.46,611.811 1492.45,621.736 1513.45,631.632 1534.45,641.465 1555.45,651.252 1576.45,660.994 1597.45,670.69 1618.44,680.342 1639.44,689.948 1660.44,699.51 1681.44,709.026 1702.44,718.547 1723.44,727.971 1744.43,737.351 1765.43,746.687 1786.43,755.979 1807.43,765.227 1828.43,774.432 1849.43,783.593 1870.42,792.71 1891.42,801.785 1912.42,810.816 1933.42,819.804 1954.42,828.911 1975.42,837.804 1996.41,846.655 2017.41,855.464 2038.41,864.231 2059.41,872.957 2080.41,881.641 2101.41,890.283 2122.4,898.885 2143.4,907.445 2164.4,915.965 2185.4,924.444 2206.4,932.883 2227.4,941.281 2248.39,949.639 2269.39,957.958 2290.39,966.238 \"/>\n",
       "<polyline clip-path=\"url(#clip132)\" style=\"stroke:#ff0000; stroke-linecap:round; stroke-linejoin:round; stroke-width:4; stroke-opacity:1; fill:none\" points=\"211.556,815.123 232.554,692.493 253.553,630.282 274.551,594.647 295.549,573.639 316.548,561.641 337.546,555.584 358.544,553.626 379.543,554.6 400.541,557.727 421.539,562.475 442.538,568.469 463.536,575.438 484.534,583.261 505.533,591.63 526.531,600.506 547.529,609.798 568.528,619.433 589.526,629.354 610.524,639.512 631.523,649.867 652.521,660.387 673.519,671.044 694.518,681.813 715.516,692.673 736.514,703.609 757.513,714.603 778.511,725.643 799.509,736.636 820.508,747.736 841.506,758.852 862.504,769.975 883.503,781.1 904.501,792.219 925.499,803.328 946.498,814.423 967.496,825.499 988.494,836.552 1009.49,847.581 1030.49,858.582 1051.49,869.552 1072.49,880.49 1093.49,891.395 1114.48,902.264 1135.48,913.096 1156.48,923.891 1177.48,934.646 1198.48,945.363 1219.48,955.944 1240.47,966.586 1261.47,977.189 1282.47,987.747 1303.47,998.262 1324.47,1008.74 1345.47,1019.17 1366.46,1029.56 1387.46,1039.9 1408.46,1050.2 1429.46,1060.46 1450.46,1070.68 1471.46,1080.85 1492.45,1090.98 1513.45,1101.08 1534.45,1111.13 1555.45,1121.13 1576.45,1131.09 1597.45,1141.01 1618.44,1150.89 1639.44,1160.72 1660.44,1170.52 1681.44,1180.27 1702.44,1190.01 1723.44,1199.68 1744.43,1209.31 1765.43,1218.89 1786.43,1228.43 1807.43,1237.94 1828.43,1247.4 1849.43,1256.83 1870.42,1266.21 1891.42,1275.55 1912.42,1284.86 1933.42,1294.12 1954.42,1303.46 1975.42,1312.64 1996.41,1321.78 2017.41,1330.88 2038.41,1339.94 2059.41,1348.97 2080.41,1357.95 2101.41,1366.9 2122.4,1375.81 2143.4,1384.68 2164.4,1393.51 2185.4,1402.3 2206.4,1411.06 2227.4,1419.78 2248.39,1428.46 2269.39,1437.11 2290.39,1445.72 \"/>\n",
       "<polyline clip-path=\"url(#clip132)\" style=\"stroke:#ffa500; stroke-linecap:round; stroke-linejoin:round; stroke-width:4; stroke-opacity:1; fill:none\" points=\"211.556,363.34 232.554,369.577 253.553,376.589 274.551,384.499 295.549,393.296 316.548,402.888 337.546,413.144 358.544,423.928 379.543,435.121 400.541,446.622 421.539,458.349 442.538,470.238 463.536,482.237 484.534,494.305 505.533,506.411 526.531,518.526 547.529,530.629 568.528,542.701 589.526,554.723 610.524,566.684 631.523,578.568 652.521,590.365 673.519,602.066 694.518,613.66 715.516,625.14 736.514,636.498 757.513,647.729 778.511,658.828 799.509,669.789 820.508,680.61 841.506,691.288 862.504,701.82 883.503,712.207 904.501,722.447 925.499,732.54 946.498,742.489 967.496,752.293 988.494,761.956 1009.49,771.479 1030.49,780.867 1051.49,790.081 1072.49,799.212 1093.49,808.217 1114.48,817.101 1135.48,825.869 1156.48,834.524 1177.48,843.073 1198.48,851.519 1219.48,859.867 1240.47,868.122 1261.47,876.29 1282.47,884.373 1303.47,892.377 1324.47,900.306 1345.47,908.165 1366.46,915.959 1387.46,923.689 1408.46,931.359 1429.46,938.975 1450.46,946.539 1471.46,954.054 1492.45,961.523 1513.45,968.954 1534.45,976.34 1555.45,983.689 1576.45,991.002 1597.45,998.282 1618.44,1005.53 1639.44,1012.75 1660.44,1019.94 1681.44,1027.1 1702.44,1034.25 1723.44,1041.37 1744.43,1048.46 1765.43,1055.53 1786.43,1062.58 1807.43,1069.61 1828.43,1076.62 1849.43,1083.61 1870.42,1090.58 1891.42,1097.54 1912.42,1104.47 1933.42,1111.39 1954.42,1118.32 1975.42,1125.2 1996.41,1132.07 2017.41,1138.92 2038.41,1145.75 2059.41,1152.57 2080.41,1159.37 2101.41,1166.15 2122.4,1172.91 2143.4,1179.66 2164.4,1186.39 2185.4,1193.1 2206.4,1199.79 2227.4,1206.47 2248.39,1213.13 2269.39,1219.76 2290.39,1226.38 \"/>\n",
       "<polyline clip-path=\"url(#clip132)\" style=\"stroke:#a52a2a; stroke-linecap:round; stroke-linejoin:round; stroke-width:4; stroke-opacity:1; fill:none\" points=\"211.556,815.123 232.554,692.492 253.553,630.281 274.551,594.645 295.549,573.635 316.548,561.637 337.546,555.577 358.544,553.617 379.543,554.587 400.541,557.711 421.539,562.455 442.538,568.444 463.536,575.406 484.534,583.222 505.533,591.583 526.531,600.449 547.529,609.731 568.528,619.354 589.526,629.261 610.524,639.404 631.523,649.743 652.521,660.245 673.519,670.881 694.518,681.628 715.516,692.465 736.514,703.374 757.513,714.339 778.511,725.349 799.509,736.309 820.508,747.373 841.506,758.451 862.504,769.534 883.503,780.615 904.501,791.688 925.499,802.748 946.498,813.791 967.496,824.812 988.494,835.809 1009.49,846.777 1030.49,857.714 1051.49,868.618 1072.49,879.486 1093.49,890.318 1114.48,901.112 1135.48,911.865 1156.48,922.578 1177.48,933.248 1198.48,943.877 1219.48,954.369 1240.47,964.916 1261.47,975.422 1282.47,985.879 1303.47,996.292 1324.47,1006.66 1345.47,1016.98 1366.46,1027.26 1387.46,1037.49 1408.46,1047.67 1429.46,1057.81 1450.46,1067.91 1471.46,1077.95 1492.45,1087.95 1513.45,1097.92 1534.45,1107.83 1555.45,1117.7 1576.45,1127.52 1597.45,1137.3 1618.44,1147.03 1639.44,1156.72 1660.44,1166.37 1681.44,1175.97 1702.44,1185.56 1723.44,1195.07 1744.43,1204.54 1765.43,1213.96 1786.43,1223.34 1807.43,1232.68 1828.43,1241.98 1849.43,1251.24 1870.42,1260.45 1891.42,1269.62 1912.42,1278.75 1933.42,1287.84 1954.42,1297 1975.42,1306 1996.41,1314.96 2017.41,1323.88 2038.41,1332.76 2059.41,1341.59 2080.41,1350.39 2101.41,1359.15 2122.4,1367.87 2143.4,1376.54 2164.4,1385.18 2185.4,1393.78 2206.4,1402.34 2227.4,1410.86 2248.39,1419.34 2269.39,1427.78 2290.39,1436.19 \"/>\n",
       "<polyline clip-path=\"url(#clip132)\" style=\"stroke:#000000; stroke-linecap:round; stroke-linejoin:round; stroke-width:4; stroke-opacity:1; fill:none\" points=\"211.556,815.119 232.554,692.484 253.553,630.267 274.551,594.622 295.549,573.601 316.548,561.587 337.546,555.508 358.544,553.523 379.543,554.463 400.541,557.549 421.539,562.249 442.538,568.185 463.536,575.086 484.534,582.83 505.533,591.108 526.531,599.881 547.529,609.056 568.528,618.56 589.526,628.332 610.524,638.326 631.523,648.499 652.521,658.818 673.519,669.253 694.518,679.781 715.516,690.378 736.514,701.027 757.513,711.712 778.511,722.419 799.509,733.056 820.508,743.773 841.506,754.479 862.504,765.167 883.503,775.828 904.501,786.458 925.499,797.049 946.498,807.598 967.496,818.1 988.494,828.552 1009.49,838.951 1030.49,849.294 1051.49,859.579 1072.49,869.804 1093.49,879.968 1114.48,890.07 1135.48,900.108 1156.48,910.083 1177.48,919.993 1198.48,929.839 1219.48,939.538 1240.47,949.261 1261.47,958.921 1282.47,968.515 1303.47,978.045 1324.47,987.511 1345.47,996.915 1366.46,1006.26 1387.46,1015.54 1408.46,1024.76 1429.46,1033.92 1450.46,1043.02 1471.46,1052.07 1492.45,1061.06 1513.45,1070 1534.45,1078.87 1555.45,1087.69 1576.45,1096.46 1597.45,1105.18 1618.44,1113.84 1639.44,1122.45 1660.44,1131.02 1681.44,1139.53 1702.44,1148.02 1723.44,1156.44 1744.43,1164.81 1765.43,1173.14 1786.43,1181.42 1807.43,1189.65 1828.43,1197.84 1849.43,1205.99 1870.42,1214.1 1891.42,1222.16 1912.42,1230.18 1933.42,1238.16 1954.42,1246.17 1975.42,1254.07 1996.41,1261.92 2017.41,1269.74 2038.41,1277.51 2059.41,1285.25 2080.41,1292.95 2101.41,1300.61 2122.4,1308.23 2143.4,1315.82 2164.4,1323.37 2185.4,1330.88 2206.4,1338.35 2227.4,1345.79 2248.39,1353.19 2269.39,1360.56 2290.39,1367.89 \"/>\n",
       "<path clip-path=\"url(#clip130)\" d=\"M2004.8 406.258 L2279.3 406.258 L2279.3 95.2176 L2004.8 95.2176  Z\" fill=\"#ffffff\" fill-rule=\"evenodd\" fill-opacity=\"1\"/>\n",
       "<polyline clip-path=\"url(#clip130)\" style=\"stroke:#000000; stroke-linecap:round; stroke-linejoin:round; stroke-width:4; stroke-opacity:1; fill:none\" points=\"2004.8,406.258 2279.3,406.258 2279.3,95.2176 2004.8,95.2176 2004.8,406.258 \"/>\n",
       "<polyline clip-path=\"url(#clip130)\" style=\"stroke:#0000ff; stroke-linecap:round; stroke-linejoin:round; stroke-width:4; stroke-opacity:1; fill:none\" points=\"2029.29,147.058 2176.19,147.058 \"/>\n",
       "<path clip-path=\"url(#clip130)\" d=\"M2214.52 166.745 Q2212.71 171.375 2211 172.787 Q2209.29 174.199 2206.42 174.199 L2203.01 174.199 L2203.01 170.634 L2205.51 170.634 Q2207.27 170.634 2208.25 169.8 Q2209.22 168.967 2210.4 165.865 L2211.16 163.921 L2200.68 138.412 L2205.19 138.412 L2213.29 158.689 L2221.39 138.412 L2225.91 138.412 L2214.52 166.745 Z\" fill=\"#000000\" fill-rule=\"nonzero\" fill-opacity=\"1\" /><path clip-path=\"url(#clip130)\" d=\"M2233.2 160.402 L2240.84 160.402 L2240.84 134.037 L2232.53 135.703 L2232.53 131.444 L2240.79 129.778 L2245.47 129.778 L2245.47 160.402 L2253.11 160.402 L2253.11 164.338 L2233.2 164.338 L2233.2 160.402 Z\" fill=\"#000000\" fill-rule=\"nonzero\" fill-opacity=\"1\" /><polyline clip-path=\"url(#clip130)\" style=\"stroke:#ff0000; stroke-linecap:round; stroke-linejoin:round; stroke-width:4; stroke-opacity:1; fill:none\" points=\"2029.29,198.898 2176.19,198.898 \"/>\n",
       "<path clip-path=\"url(#clip130)\" d=\"M2214.52 218.585 Q2212.71 223.215 2211 224.627 Q2209.29 226.039 2206.42 226.039 L2203.01 226.039 L2203.01 222.474 L2205.51 222.474 Q2207.27 222.474 2208.25 221.64 Q2209.22 220.807 2210.4 217.705 L2211.16 215.761 L2200.68 190.252 L2205.19 190.252 L2213.29 210.529 L2221.39 190.252 L2225.91 190.252 L2214.52 218.585 Z\" fill=\"#000000\" fill-rule=\"nonzero\" fill-opacity=\"1\" /><path clip-path=\"url(#clip130)\" d=\"M2236.42 212.242 L2252.74 212.242 L2252.74 216.178 L2230.79 216.178 L2230.79 212.242 Q2233.45 209.488 2238.04 204.858 Q2242.64 200.205 2243.82 198.863 Q2246.07 196.34 2246.95 194.604 Q2247.85 192.844 2247.85 191.155 Q2247.85 188.4 2245.91 186.664 Q2243.99 184.928 2240.88 184.928 Q2238.69 184.928 2236.23 185.692 Q2233.8 186.455 2231.02 188.006 L2231.02 183.284 Q2233.85 182.15 2236.3 181.571 Q2238.75 180.993 2240.79 180.993 Q2246.16 180.993 2249.36 183.678 Q2252.55 186.363 2252.55 190.854 Q2252.55 192.983 2251.74 194.905 Q2250.95 196.803 2248.85 199.395 Q2248.27 200.067 2245.17 203.284 Q2242.07 206.479 2236.42 212.242 Z\" fill=\"#000000\" fill-rule=\"nonzero\" fill-opacity=\"1\" /><polyline clip-path=\"url(#clip130)\" style=\"stroke:#ffa500; stroke-linecap:round; stroke-linejoin:round; stroke-width:4; stroke-opacity:1; fill:none\" points=\"2029.29,250.738 2176.19,250.738 \"/>\n",
       "<path clip-path=\"url(#clip130)\" d=\"M2214.52 270.425 Q2212.71 275.055 2211 276.467 Q2209.29 277.879 2206.42 277.879 L2203.01 277.879 L2203.01 274.314 L2205.51 274.314 Q2207.27 274.314 2208.25 273.48 Q2209.22 272.647 2210.4 269.545 L2211.16 267.601 L2200.68 242.092 L2205.19 242.092 L2213.29 262.369 L2221.39 242.092 L2225.91 242.092 L2214.52 270.425 Z\" fill=\"#000000\" fill-rule=\"nonzero\" fill-opacity=\"1\" /><path clip-path=\"url(#clip130)\" d=\"M2246.56 249.383 Q2249.91 250.101 2251.79 252.369 Q2253.69 254.638 2253.69 257.971 Q2253.69 263.087 2250.17 265.888 Q2246.65 268.689 2240.17 268.689 Q2237.99 268.689 2235.68 268.249 Q2233.38 267.832 2230.93 266.976 L2230.93 262.462 Q2232.88 263.596 2235.19 264.175 Q2237.5 264.754 2240.03 264.754 Q2244.43 264.754 2246.72 263.018 Q2249.03 261.281 2249.03 257.971 Q2249.03 254.916 2246.88 253.203 Q2244.75 251.467 2240.93 251.467 L2236.9 251.467 L2236.9 247.624 L2241.12 247.624 Q2244.57 247.624 2246.39 246.258 Q2248.22 244.87 2248.22 242.277 Q2248.22 239.615 2246.32 238.203 Q2244.45 236.768 2240.93 236.768 Q2239.01 236.768 2236.81 237.184 Q2234.61 237.601 2231.97 238.481 L2231.97 234.314 Q2234.63 233.573 2236.95 233.203 Q2239.29 232.833 2241.35 232.833 Q2246.67 232.833 2249.77 235.263 Q2252.88 237.67 2252.88 241.791 Q2252.88 244.661 2251.23 246.652 Q2249.59 248.62 2246.56 249.383 Z\" fill=\"#000000\" fill-rule=\"nonzero\" fill-opacity=\"1\" /><polyline clip-path=\"url(#clip130)\" style=\"stroke:#a52a2a; stroke-linecap:round; stroke-linejoin:round; stroke-width:4; stroke-opacity:1; fill:none\" points=\"2029.29,302.578 2176.19,302.578 \"/>\n",
       "<path clip-path=\"url(#clip130)\" d=\"M2214.52 322.265 Q2212.71 326.895 2211 328.307 Q2209.29 329.719 2206.42 329.719 L2203.01 329.719 L2203.01 326.154 L2205.51 326.154 Q2207.27 326.154 2208.25 325.32 Q2209.22 324.487 2210.4 321.385 L2211.16 319.441 L2200.68 293.932 L2205.19 293.932 L2213.29 314.209 L2221.39 293.932 L2225.91 293.932 L2214.52 322.265 Z\" fill=\"#000000\" fill-rule=\"nonzero\" fill-opacity=\"1\" /><path clip-path=\"url(#clip130)\" d=\"M2245.24 289.372 L2233.43 307.821 L2245.24 307.821 L2245.24 289.372 M2244.01 285.298 L2249.89 285.298 L2249.89 307.821 L2254.82 307.821 L2254.82 311.709 L2249.89 311.709 L2249.89 319.858 L2245.24 319.858 L2245.24 311.709 L2229.63 311.709 L2229.63 307.196 L2244.01 285.298 Z\" fill=\"#000000\" fill-rule=\"nonzero\" fill-opacity=\"1\" /><polyline clip-path=\"url(#clip130)\" style=\"stroke:#000000; stroke-linecap:round; stroke-linejoin:round; stroke-width:4; stroke-opacity:1; fill:none\" points=\"2029.29,354.418 2176.19,354.418 \"/>\n",
       "<path clip-path=\"url(#clip130)\" d=\"M2214.52 374.105 Q2212.71 378.735 2211 380.147 Q2209.29 381.559 2206.42 381.559 L2203.01 381.559 L2203.01 377.994 L2205.51 377.994 Q2207.27 377.994 2208.25 377.16 Q2209.22 376.327 2210.4 373.225 L2211.16 371.281 L2200.68 345.772 L2205.19 345.772 L2213.29 366.049 L2221.39 345.772 L2225.91 345.772 L2214.52 374.105 Z\" fill=\"#000000\" fill-rule=\"nonzero\" fill-opacity=\"1\" /><path clip-path=\"url(#clip130)\" d=\"M2232.44 337.138 L2250.79 337.138 L2250.79 341.073 L2236.72 341.073 L2236.72 349.545 Q2237.74 349.198 2238.75 349.036 Q2239.77 348.85 2240.79 348.85 Q2246.58 348.85 2249.96 352.022 Q2253.34 355.193 2253.34 360.61 Q2253.34 366.188 2249.87 369.29 Q2246.39 372.369 2240.07 372.369 Q2237.9 372.369 2235.63 371.998 Q2233.38 371.628 2230.98 370.887 L2230.98 366.188 Q2233.06 367.323 2235.28 367.878 Q2237.5 368.434 2239.98 368.434 Q2243.99 368.434 2246.32 366.327 Q2248.66 364.221 2248.66 360.61 Q2248.66 356.999 2246.32 354.892 Q2243.99 352.786 2239.98 352.786 Q2238.11 352.786 2236.23 353.202 Q2234.38 353.619 2232.44 354.499 L2232.44 337.138 Z\" fill=\"#000000\" fill-rule=\"nonzero\" fill-opacity=\"1\" /></svg>\n"
      ]
     },
     "execution_count": 152,
     "metadata": {},
     "output_type": "execute_result"
    }
   ],
   "source": [
    "plot(\n",
    "    es_dsnb,\n",
    "    [log10.(dsnb_IO_nodecay_f21) log10.(dsnb_IO_iiidecay) log10.(dsnb_IO_C_235_235_bar) log10.(dsnb_IO_iidecay) log10.(dsnb_IO_idecay)],\n",
    "    c=[:blue :red :orange :brown :black]\n",
    ")"
   ]
  },
  {
   "cell_type": "code",
   "execution_count": 63,
   "metadata": {},
   "outputs": [],
   "source": [
    "function branching_3ν_test(casechoice, j, jbar, i, ibar)\n",
    "    if casechoice == \"A\"\n",
    "        if j == 2 && i == 1 && jbar == ibar\n",
    "            return 0.5\n",
    "        elseif j == 2 && i == 3\n",
    "            return 0.25\n",
    "        else\n",
    "            return 0.0\n",
    "        end\n",
    "    elseif casechoice == \"B\"\n",
    "        if j == 2 && i == 1 && jbar == ibar\n",
    "            return 1.0\n",
    "        elseif j == 1 && i == 3\n",
    "            return 0.5\n",
    "        else \n",
    "            return 0.0\n",
    "        end\n",
    "    elseif casechoice == \"C\"\n",
    "        if j == 2 && i == 3\n",
    "            return 0.5\n",
    "        elseif j == 1 && i == 3\n",
    "            return 0.5\n",
    "        else\n",
    "            return 0.0\n",
    "        end\n",
    "    elseif casechoice == \"democratic\"\n",
    "        if (j == 2 && i == 1 && jbar == ibar) || (j == 2 && i == 3)\n",
    "            return 1/3\n",
    "        elseif j == 1 && i == 3\n",
    "            return 0.5\n",
    "        else\n",
    "            return 0.0\n",
    "        end\n",
    "    else\n",
    "        return 0.0\n",
    "    end\n",
    "end\n",
    "\n",
    "function DSNB_vdecay_2_IO_test(E, z0, α2, twobar, bh_frac, normchoice)\n",
    "    function decay_integrand(E, z0, z, α2, twobar, bh_frac, normchoice)\n",
    "        if α2 == 0\n",
    "            return DSNB_integrand(E, z0, z, 2, twobar, \"IO\", bh_frac, normchoice)\n",
    "        else\n",
    "            int = DSNB_integrand(E, z0, z, 2, twobar, \"IO\", bh_frac, normchoice)*decay(E, α2, z0, z) \n",
    "            if isnan(int) || isinf(int)\n",
    "                return 0.0\n",
    "            else\n",
    "                return int\n",
    "            end\n",
    "        end\n",
    "    end\n",
    "    return 1/(1+z0) * quadgk(z -> decay_integrand(E, z0, z, α2, twobar, bh_frac, normchoice), z0, 5, rtol=1e-2)[1]\n",
    "end\n",
    "\n",
    "function q21contrib_IO_test(E, z0, z, α2, nubar, casechoice, bh_frac, normchoice)\n",
    "\n",
    "    Ers = E*(1+z)/(1+z0)\n",
    "\n",
    "    qnorm = 3.086e19 * 1.516e15 * 1e6 / (3e8 * 1e12)\n",
    "    return qnorm * (c0/Hubble(z)) * DSNB_vdecay_2_IO_test(Ers, z, α2, nubar, bh_frac, normchoice) * (α2 * branching_3ν_test(casechoice, 2, nubar, 1, nubar)/Ers)\n",
    "end\n",
    "\n",
    "function DSNB_vdecay_1_IO_test(E, z0, α2, α1, nubar, casechoice, bh_frac, normchoice)\n",
    "    if casechoice == \"A\"\n",
    "        α1 = 0\n",
    "    end\n",
    "    integrand(z) = (DSNB_integrand(E, z0, z, 1, nubar, \"IO\", bh_frac, normchoice) +\n",
    "                        q21contrib_IO_test(E, z0, z, α2, nubar, casechoice, bh_frac, normchoice))*decay(E, α1, z0, z)\n",
    "    return (1/(1+z0)) * quadgk(z -> integrand(z), z0, 5, rtol=1e-2)[1]\n",
    "end\n",
    "\n",
    "function q23contrib_IO_test(E, z0, z, α2, twobar, threebar, casechoice, bh_frac, normchoice)\n",
    "\n",
    "    if twobar == threebar\n",
    "        hc = true\n",
    "    else\n",
    "        hc = false\n",
    "    end\n",
    "\n",
    "    Ers = E*(1+z)/(1+z0)\n",
    "\n",
    "    qnorm = 3.086e19 * 1.516e15 * 1e6 / (3e8 * 1e12)\n",
    "    integrand(Eprime, z) = qnorm * (c0/Hubble(z))*DSNB_vdecay_2_IO_test(Eprime, z, α2, twobar, bh_frac, normchoice) * (α2 * branching_3ν_test(casechoice, 2, twobar, 3, threebar)/Eprime) * ψSH(Eprime, Ers, hc)\n",
    "\n",
    "    Emax = Ers + 50\n",
    "    return quadgk(Eprime -> integrand(Eprime, z), Ers, Emax, rtol=1e-2)[1]\n",
    "end\n",
    "\n",
    "function q13contrib_IO_test(E, z0, z, α2, α1, onebar, threebar, casechoice, bh_frac, normchoice)\n",
    "\n",
    "    if onebar == threebar\n",
    "        hc = true\n",
    "    else\n",
    "        hc = false\n",
    "    end\n",
    "\n",
    "    Ers = E*(1+z)/(1+z0)\n",
    "\n",
    "    qnorm = 3.086e19 * 1.516e15 * 1e6 / (3e8 * 1e12)\n",
    "    integrand(Eprime) = qnorm * (c0/Hubble(z))*DSNB_vdecay_1_IO_test(Eprime, z, α2, α1, onebar, casechoice, bh_frac, normchoice) * (α1 * branching_3ν_test(casechoice, 1, onebar, 3, threebar)/Eprime) * ψSH(Eprime, Ers, hc)\n",
    "\n",
    "    Emax = Ers + 50\n",
    "    #=\n",
    "    if Emax > 100\n",
    "        return quadgk(Eprime -> integrand(Eprime), Ers, 100, Inf, rtol=1e-2)[1]\n",
    "    else\n",
    "        return quadgk(Eprime -> integrand(Eprime), Ers, Emax, rtol=1e-2)[1]\n",
    "    end\n",
    "    =#\n",
    "    return quadgk(Eprime -> integrand(Eprime), Ers, Emax, rtol=1e-2)[1]\n",
    "end\n",
    "\n",
    "function DSNB_vdecay_3_IO_test(E, α2, α1, threebar, casechoice, bh_frac, normchoice)\n",
    "    integrand(z) = (DSNB_integrand(E, 0, z, 3, threebar, \"IO\", bh_frac, normchoice)\n",
    "                    + q23contrib_IO_test(E, 0, z, α2, true, threebar, casechoice, bh_frac, normchoice)\n",
    "                    + q23contrib_IO_test(E, 0, z, α2, false, threebar, casechoice, bh_frac, normchoice)\n",
    "                    + q13contrib_IO_test(E, 0, z, α2, α1, true, threebar, casechoice, bh_frac, normchoice)\n",
    "                    + q13contrib_IO_test(E, 0, z, α2, α1, false, threebar, casechoice, bh_frac, normchoice))\n",
    "    return quadgk(z -> integrand(z), 0, 5, rtol=1e-2)[1]\n",
    "end\n",
    "\n",
    "function DSNB_vdecay_3ν_νe_IO_test(E, α2, α1, nubar, casechoice, bh_frac, normchoice)\n",
    "\n",
    "    ν3 = DSNB_vdecay_3_IO_test(E, α2, α1, nubar, casechoice, bh_frac, normchoice)\n",
    "    ν2 = DSNB_vdecay_2_IO_test(E, 0, α2, nubar, bh_frac, normchoice)\n",
    "    ν1 = DSNB_vdecay_1_IO_test(E, 0, α2, α1, nubar, casechoice, bh_frac, normchoice)\n",
    "    \n",
    "    return Usqred(\"IO\")[1, 1]*ν1 + Usqred(\"IO\")[1, 2]*ν2 + Usqred(\"IO\")[1, 3]*ν3\n",
    "end;"
   ]
  },
  {
   "cell_type": "code",
   "execution_count": 109,
   "metadata": {},
   "outputs": [
    {
     "data": {
      "text/plain": [
       "q23contrib_IO_ttest (generic function with 1 method)"
      ]
     },
     "execution_count": 109,
     "metadata": {},
     "output_type": "execute_result"
    }
   ],
   "source": [
    "function q23contrib_IO_ttest(E, z0, z, α2, twobar, threebar, casechoice, bh_frac, normchoice)\n",
    "\n",
    "    if twobar == threebar\n",
    "        hc = true\n",
    "    else\n",
    "        hc = false\n",
    "    end\n",
    "\n",
    "    Ers = E*(1+z)/(1+z0)\n",
    "\n",
    "    qnorm = 3.086e19 * 1.516e15 * 1e6 / (3e8 * 1e12)\n",
    "    integrand(Eprime, z) = qnorm * (c0/Hubble(z))*DSNB_idecay(Eprime, z, α2, 2, twobar, \"IO\", bh_frac, normchoice) * (α2 * branching_3ν_IO(casechoice, 2, twobar, 3, threebar)/Eprime) * ψSH(Eprime, Ers, hc)\n",
    "\n",
    "    Emax = Ers + 50\n",
    "    #=\n",
    "    Ecutoff = 1.5*100^(1/3)*Ers\n",
    "    if Ecutoff < Emax && (ψSH(Ecutoff, Ers, hc)/Ecutoff)/(ψSH(Ers, Ers, hc)/Ers) < 0.1\n",
    "        return quadgk(Eprime -> integrand(Eprime, z), Ers, Ecutoff, Emax, rtol=1e-2)[1]\n",
    "    else\n",
    "        return quadgk(Eprime -> integrand(Eprime, z), Ers, Emax, rtol=1e-2)[1]\n",
    "    end\n",
    "    =#\n",
    "    return quadgk(Eprime -> integrand(Eprime, z), Ers, Emax, rtol=1e-2)[1]\n",
    "end"
   ]
  },
  {
   "cell_type": "code",
   "execution_count": 113,
   "metadata": {},
   "outputs": [
    {
     "name": "stdout",
     "output_type": "stream",
     "text": [
      "  0.003268 seconds (21.86 k allocations: 357.125 KiB)\n"
     ]
    },
    {
     "data": {
      "text/plain": [
       "0.06795983773616145"
      ]
     },
     "execution_count": 113,
     "metadata": {},
     "output_type": "execute_result"
    }
   ],
   "source": [
    "@time q23contrib_IO_ttest(1, 0, 0, 10^(-25), true, true, \"democratic\", \"21\", SNRnorm)"
   ]
  },
  {
   "cell_type": "code",
   "execution_count": 102,
   "metadata": {},
   "outputs": [
    {
     "name": "stdout",
     "output_type": "stream",
     "text": [
      "  0.003291 seconds (27.42 k allocations: 445.641 KiB)\n"
     ]
    },
    {
     "data": {
      "text/plain": [
       "0.06796411578023187"
      ]
     },
     "execution_count": 102,
     "metadata": {},
     "output_type": "execute_result"
    }
   ],
   "source": [
    "@time q23contrib_IO_test(1, 0, 0, 10^(-25), true, true, \"democratic\", \"21\", SNRnorm)"
   ]
  },
  {
   "cell_type": "code",
   "execution_count": 120,
   "metadata": {},
   "outputs": [
    {
     "name": "stdout",
     "output_type": "stream",
     "text": [
      "  0.861707 seconds (9.75 M allocations: 154.568 MiB, 6.79% gc time)\n"
     ]
    },
    {
     "data": {
      "text/plain": [
       "4.496545182035049"
      ]
     },
     "execution_count": 120,
     "metadata": {},
     "output_type": "execute_result"
    }
   ],
   "source": [
    "@time DSNB_vdecay_3_IO(1, 10^(-26), 10^(-26), true, \"democratic\", \"21\", SNRnorm)"
   ]
  },
  {
   "cell_type": "code",
   "execution_count": 122,
   "metadata": {},
   "outputs": [
    {
     "name": "stdout",
     "output_type": "stream",
     "text": [
      "  3.734973 seconds (50.00 M allocations: 785.670 MiB, 6.27% gc time)\n"
     ]
    },
    {
     "data": {
      "text/plain": [
       "4.4965698967209065"
      ]
     },
     "execution_count": 122,
     "metadata": {},
     "output_type": "execute_result"
    }
   ],
   "source": [
    "@time DSNB_vdecay_3_IO_test(1, 10^(-26), 10^(-26), true, \"democratic\", \"21\", SNRnorm)"
   ]
  },
  {
   "cell_type": "code",
   "execution_count": 123,
   "metadata": {},
   "outputs": [
    {
     "name": "stdout",
     "output_type": "stream",
     "text": [
      "  2.025173 seconds (8.96 M allocations: 164.078 MiB, 5.73% gc time, 53.77% compilation time)\n"
     ]
    },
    {
     "data": {
      "text/plain": [
       "0.16996901039535156"
      ]
     },
     "execution_count": 123,
     "metadata": {},
     "output_type": "execute_result"
    }
   ],
   "source": [
    "@time DSNB_vdecay_3ν_νe_IO(1, 10^(-25), 10^(-25), true, \"democratic\", \"21\", SNRnorm)"
   ]
  },
  {
   "cell_type": "code",
   "execution_count": 124,
   "metadata": {},
   "outputs": [
    {
     "name": "stdout",
     "output_type": "stream",
     "text": [
      "  3.760607 seconds (46.90 M allocations: 736.831 MiB, 5.82% gc time, 0.84% compilation time: 100% of which was recompilation)\n"
     ]
    },
    {
     "data": {
      "text/plain": [
       "0.1699707746953167"
      ]
     },
     "execution_count": 124,
     "metadata": {},
     "output_type": "execute_result"
    }
   ],
   "source": [
    "@time DSNB_vdecay_3ν_νe_IO_test(1, 10^(-25), 10^(-25), true, \"democratic\", \"21\", SNRnorm)"
   ]
  }
 ],
 "metadata": {
  "kernelspec": {
   "display_name": "Julia 1.9.2",
   "language": "julia",
   "name": "julia-1.9"
  },
  "language_info": {
   "file_extension": ".jl",
   "mimetype": "application/julia",
   "name": "julia",
   "version": "1.9.2"
  },
  "orig_nbformat": 4
 },
 "nbformat": 4,
 "nbformat_minor": 2
}
