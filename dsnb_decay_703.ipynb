{
 "cells": [
  {
   "cell_type": "code",
   "execution_count": 1,
   "metadata": {},
   "outputs": [],
   "source": [
    "include(\"cosmology_vars.jl\")\n",
    "include(\"nu_osc_params.jl\")\n",
    "\n",
    "using DelimitedFiles\n",
    "using Plots\n",
    "using Interpolations\n",
    "using LaTeXStrings\n",
    "using QuadGK\n",
    "using SpecialFunctions\n",
    "using BenchmarkTools\n",
    "using Polynomials;"
   ]
  },
  {
   "cell_type": "code",
   "execution_count": 2,
   "metadata": {},
   "outputs": [],
   "source": [
    "function F0_tint_func(F0vec::Vector{Float64})\n",
    "    es = range(0, 100, 2000)\n",
    "    F0int_ne = Interpolations.interpolate((vec(es),), F0vec, Gridded(Linear()))\n",
    "    return extrapolate(F0int_ne, 0.0)\n",
    "end\n",
    "\n",
    "F0s_vec = readdlm(\"F0s_vec.txt\", comments=true)\n",
    "\n",
    "F0_νe_270sm, F0_νebar_270sm, F0_νx_270sm = F0_tint_func(vec(F0s_vec[:, 1])), F0_tint_func(vec(F0s_vec[:, 2])), F0_tint_func(vec(F0s_vec[:, 3]))\n",
    "F0_νe_112sm, F0_νebar_112sm, F0_νx_112sm = F0_tint_func(vec(F0s_vec[:, 4])), F0_tint_func(vec(F0s_vec[:, 5])), F0_tint_func(vec(F0s_vec[:, 6]))\n",
    "F0_νe_bh, F0_νebar_bh, F0_νx_bh = F0_tint_func(vec(F0s_vec[:, 7])), F0_tint_func(vec(F0s_vec[:, 8])), F0_tint_func(vec(F0s_vec[:, 9]))\n",
    "\n",
    "function F0(E, β, sm)\n",
    "    if β == \"e\" && sm == \"small\"\n",
    "        return F0_νe_112sm(E)\n",
    "    elseif β == \"e\" && sm == \"large\"\n",
    "        return F0_νe_270sm(E)\n",
    "    elseif β == \"e\" && sm == \"bh\"\n",
    "        return F0_νe_bh(E)\n",
    "    elseif β == \"ebar\" && sm == \"small\"\n",
    "        return F0_νebar_112sm(E)\n",
    "    elseif β == \"ebar\" && sm == \"large\"\n",
    "        return F0_νebar_270sm(E)\n",
    "    elseif β == \"ebar\" && sm == \"bh\"\n",
    "        return F0_νebar_bh(E)   \n",
    "    elseif β == \"x\" && sm == \"small\"\n",
    "        return F0_νx_112sm(E)\n",
    "    elseif β == \"x\" && sm == \"large\"\n",
    "        return F0_νx_270sm(E)\n",
    "    elseif β == \"x\" && sm == \"bh\"\n",
    "        return F0_νx_bh(E)\n",
    "    else\n",
    "        return 0\n",
    "    end\n",
    "end\n",
    "\n",
    "# Oscillations thru the SN medium\n",
    "# Accounting for oscillations thru the SN medium\n",
    "\n",
    "s12 = 0.297\n",
    "c12 = 1 - s12\n",
    "PH = 0\n",
    "\n",
    "# ordering = \"NO\" (normal ordering) or \"IO\" (inverted ordering)\n",
    "function F(E, β, sm, ordering)\n",
    "    if ordering == \"NO\"\n",
    "        if β == \"e\"\n",
    "            return F0(E, \"x\", sm)\n",
    "        elseif β == \"ebar\"\n",
    "            return c12*F0(E, \"ebar\", sm) + s12*F0(E, \"x\", sm)\n",
    "        elseif β == \"x\"\n",
    "            return 0.5*(F0(E, \"e\", sm) + F0(E, \"x\", sm))\n",
    "        elseif β == \"xbar\"\n",
    "            return 0.5*(s12*F0(E, \"ebar\", sm) + (1 + c12)*F0(E, \"x\", sm))\n",
    "        else\n",
    "            return 0\n",
    "        end\n",
    "    elseif ordering == \"IO\"\n",
    "        if β == \"e\"\n",
    "            return s12*F0(E, \"e\", sm) + c12*F0(E, \"x\", sm)\n",
    "        elseif β == \"ebar\"\n",
    "            return F0(E, \"x\", sm)\n",
    "        elseif β == \"x\"\n",
    "            return 0.5*(c12*F0(E, \"e\", sm) + (1 + s12)*F0(E, \"x\", sm))\n",
    "        elseif β == \"xbar\"\n",
    "            return 0.5*(F0(E, \"ebar\", sm) + F0(E, \"x\", sm))\n",
    "        else\n",
    "            return 0\n",
    "        end\n",
    "    else\n",
    "        return 0\n",
    "    end\n",
    "end\n",
    "\n",
    "# In the mass basis now: i = 1, 2, 3, nubar = true or false\n",
    "function Fmass_old(E, i, sm, ordering, nubar)\n",
    "    if nubar==false\n",
    "        return Usqred(ordering)[1, i]*F(E, \"e\", sm, ordering) + (1 - Usqred(ordering)[1, i])*F(E, \"x\", sm, ordering)\n",
    "    elseif nubar==true\n",
    "        return Usqred(ordering)[1, i]*F(E, \"ebar\", sm, ordering) + (1 - Usqred(ordering)[1, i])*F(E, \"xbar\", sm, ordering)\n",
    "    else\n",
    "        return 0\n",
    "    end\n",
    "end;"
   ]
  },
  {
   "cell_type": "code",
   "execution_count": 3,
   "metadata": {},
   "outputs": [],
   "source": [
    "function Fmass_tint_func(i, sm, ordering, nubar)\n",
    "    es = range(0, 100, 2000)\n",
    "    Fmassint_ne = Interpolations.interpolate((vec(es),), Fmass_old.(es, i, sm, ordering, nubar), Gridded(Linear()))\n",
    "    return extrapolate(Fmassint_ne, 0.0)\n",
    "end\n",
    "\n",
    "Fm_1_112sm_NO_nu = Fmass_tint_func(1, \"small\", \"NO\", false)\n",
    "Fm_1_112sm_NO_nubar = Fmass_tint_func(1, \"small\", \"NO\", true)\n",
    "Fm_1_112sm_IO_nu = Fmass_tint_func(1, \"small\", \"IO\", false)\n",
    "Fm_1_112sm_IO_nubar = Fmass_tint_func(1, \"small\", \"IO\", true)\n",
    "Fm_1_270sm_NO_nu = Fmass_tint_func(1, \"large\", \"NO\", false)\n",
    "Fm_1_270sm_NO_nubar = Fmass_tint_func(1, \"large\", \"NO\", true)\n",
    "Fm_1_270sm_IO_nu = Fmass_tint_func(1, \"large\", \"IO\", false)\n",
    "Fm_1_270sm_IO_nubar = Fmass_tint_func(1, \"large\", \"IO\", true)\n",
    "Fm_1_bh_NO_nu = Fmass_tint_func(1, \"bh\", \"NO\", false)\n",
    "Fm_1_bh_NO_nubar = Fmass_tint_func(1, \"bh\", \"NO\", true)\n",
    "Fm_1_bh_IO_nu = Fmass_tint_func(1, \"bh\", \"IO\", false)\n",
    "Fm_1_bh_IO_nubar = Fmass_tint_func(1, \"bh\", \"IO\", true)\n",
    "\n",
    "Fm_2_112sm_NO_nu = Fmass_tint_func(2, \"small\", \"NO\", false)\n",
    "Fm_2_112sm_NO_nubar = Fmass_tint_func(2, \"small\", \"NO\", true)\n",
    "Fm_2_112sm_IO_nu = Fmass_tint_func(2, \"small\", \"IO\", false)\n",
    "Fm_2_112sm_IO_nubar = Fmass_tint_func(2, \"small\", \"IO\", true)\n",
    "Fm_2_270sm_NO_nu = Fmass_tint_func(2, \"large\", \"NO\", false)\n",
    "Fm_2_270sm_NO_nubar = Fmass_tint_func(2, \"large\", \"NO\", true)\n",
    "Fm_2_270sm_IO_nu = Fmass_tint_func(2, \"large\", \"IO\", false)\n",
    "Fm_2_270sm_IO_nubar = Fmass_tint_func(2, \"large\", \"IO\", true)\n",
    "Fm_2_bh_NO_nu = Fmass_tint_func(2, \"bh\", \"NO\", false)\n",
    "Fm_2_bh_NO_nubar = Fmass_tint_func(2, \"bh\", \"NO\", true)\n",
    "Fm_2_bh_IO_nu = Fmass_tint_func(2, \"bh\", \"IO\", false)\n",
    "Fm_2_bh_IO_nubar = Fmass_tint_func(2, \"bh\", \"IO\", true)\n",
    "\n",
    "Fm_3_112sm_NO_nu = Fmass_tint_func(3, \"small\", \"NO\", false)\n",
    "Fm_3_112sm_NO_nubar = Fmass_tint_func(3, \"small\", \"NO\", true)\n",
    "Fm_3_112sm_IO_nu = Fmass_tint_func(3, \"small\", \"IO\", false)\n",
    "Fm_3_112sm_IO_nubar = Fmass_tint_func(3, \"small\", \"IO\", true)\n",
    "Fm_3_270sm_NO_nu = Fmass_tint_func(3, \"large\", \"NO\", false)\n",
    "Fm_3_270sm_NO_nubar = Fmass_tint_func(3, \"large\", \"NO\", true)\n",
    "Fm_3_270sm_IO_nu = Fmass_tint_func(3, \"large\", \"IO\", false)\n",
    "Fm_3_270sm_IO_nubar = Fmass_tint_func(3, \"large\", \"IO\", true)\n",
    "Fm_3_bh_NO_nu = Fmass_tint_func(3, \"bh\", \"NO\", false)\n",
    "Fm_3_bh_NO_nubar = Fmass_tint_func(3, \"bh\", \"NO\", true)\n",
    "Fm_3_bh_IO_nu = Fmass_tint_func(3, \"bh\", \"IO\", false)\n",
    "Fm_3_bh_IO_nubar = Fmass_tint_func(3, \"bh\", \"IO\", true)\n",
    "\n",
    "function Fmass_test1(E, sm, ordering, nubar)\n",
    "    if sm == \"small\"\n",
    "        if ordering == \"NO\"\n",
    "            if nubar == false\n",
    "                return Fm_1_112sm_NO_nu(E)\n",
    "            elseif nubar == true\n",
    "                return Fm_1_112sm_NO_nubar(E)\n",
    "            else\n",
    "                return 0.0\n",
    "            end\n",
    "        elseif ordering == \"IO\"\n",
    "            if nubar == false\n",
    "                return Fm_1_112sm_IO_nu(E)\n",
    "            elseif nubar == true\n",
    "                return Fm_1_112sm_IO_nubar(E)\n",
    "            else\n",
    "                return 0.0\n",
    "            end\n",
    "        else\n",
    "            return 0.0\n",
    "        end\n",
    "    elseif sm == \"large\"\n",
    "        if ordering == \"NO\"\n",
    "            if nubar == false\n",
    "                return Fm_1_270sm_NO_nu(E)\n",
    "            elseif nubar == true\n",
    "                return Fm_1_270sm_NO_nubar(E)\n",
    "            else\n",
    "                return 0.0\n",
    "            end\n",
    "        elseif ordering == \"IO\"\n",
    "            if nubar == false\n",
    "                return Fm_1_270sm_IO_nu(E)\n",
    "            elseif nubar == true\n",
    "                return Fm_1_270sm_IO_nubar(E)\n",
    "            else\n",
    "                return 0.0\n",
    "            end\n",
    "        else\n",
    "            return 0.0\n",
    "        end\n",
    "    elseif sm == \"bh\"\n",
    "        if ordering == \"NO\"\n",
    "            if nubar == false\n",
    "                return Fm_1_bh_NO_nu(E)\n",
    "            elseif nubar == true\n",
    "                return Fm_1_bh_NO_nubar(E)\n",
    "            else\n",
    "                return 0.0\n",
    "            end\n",
    "        elseif ordering == \"IO\"\n",
    "            if nubar == false\n",
    "                return Fm_1_bh_IO_nu(E)\n",
    "            elseif nubar == true\n",
    "                return Fm_1_bh_IO_nubar(E)\n",
    "            else\n",
    "                return 0.0\n",
    "            end\n",
    "        else\n",
    "            return 0.0\n",
    "        end\n",
    "    else\n",
    "        return 0.0\n",
    "    end\n",
    "end\n",
    "function Fmass_test2(E, sm, ordering, nubar)\n",
    "    if sm == \"small\"\n",
    "        if ordering == \"NO\"\n",
    "            if nubar == false\n",
    "                return Fm_2_112sm_NO_nu(E)\n",
    "            elseif nubar == true\n",
    "                return Fm_2_112sm_NO_nubar(E)\n",
    "            else\n",
    "                return 0.0\n",
    "            end\n",
    "        elseif ordering == \"IO\"\n",
    "            if nubar == false\n",
    "                return Fm_2_112sm_IO_nu(E)\n",
    "            elseif nubar == true\n",
    "                return Fm_2_112sm_IO_nubar(E)\n",
    "            else\n",
    "                return 0.0\n",
    "            end\n",
    "        else\n",
    "            return 0.0\n",
    "        end\n",
    "    elseif sm == \"large\"\n",
    "        if ordering == \"NO\"\n",
    "            if nubar == false\n",
    "                return Fm_2_270sm_NO_nu(E)\n",
    "            elseif nubar == true\n",
    "                return Fm_2_270sm_NO_nubar(E)\n",
    "            else\n",
    "                return 0.0\n",
    "            end\n",
    "        elseif ordering == \"IO\"\n",
    "            if nubar == false\n",
    "                return Fm_2_270sm_IO_nu(E)\n",
    "            elseif nubar == true\n",
    "                return Fm_2_270sm_IO_nubar(E)\n",
    "            else\n",
    "                return 0.0\n",
    "            end\n",
    "        else\n",
    "            return 0.0\n",
    "        end\n",
    "    elseif sm == \"bh\"\n",
    "        if ordering == \"NO\"\n",
    "            if nubar == false\n",
    "                return Fm_2_bh_NO_nu(E)\n",
    "            elseif nubar == true\n",
    "                return Fm_2_bh_NO_nubar(E)\n",
    "            else\n",
    "                return 0.0\n",
    "            end\n",
    "        elseif ordering == \"IO\"\n",
    "            if nubar == false\n",
    "                return Fm_2_bh_IO_nu(E)\n",
    "            elseif nubar == true\n",
    "                return Fm_2_bh_IO_nubar(E)\n",
    "            else\n",
    "                return 0.0\n",
    "            end\n",
    "        else\n",
    "            return 0.0\n",
    "        end\n",
    "    else\n",
    "        return 0.0\n",
    "    end\n",
    "end\n",
    "function Fmass_test3(E, sm, ordering, nubar)\n",
    "    if sm == \"small\"\n",
    "        if ordering == \"NO\"\n",
    "            if nubar == false\n",
    "                return Fm_3_112sm_NO_nu(E)\n",
    "            elseif nubar == true\n",
    "                return Fm_3_112sm_NO_nubar(E)\n",
    "            else\n",
    "                return 0.0\n",
    "            end\n",
    "        elseif ordering == \"IO\"\n",
    "            if nubar == false\n",
    "                return Fm_3_112sm_IO_nu(E)\n",
    "            elseif nubar == true\n",
    "                return Fm_3_112sm_IO_nubar(E)\n",
    "            else\n",
    "                return 0.0\n",
    "            end\n",
    "        else\n",
    "            return 0.0\n",
    "        end\n",
    "    elseif sm == \"large\"\n",
    "        if ordering == \"NO\"\n",
    "            if nubar == false\n",
    "                return Fm_3_270sm_NO_nu(E)\n",
    "            elseif nubar == true\n",
    "                return Fm_3_270sm_NO_nubar(E)\n",
    "            else\n",
    "                return 0.0\n",
    "            end\n",
    "        elseif ordering == \"IO\"\n",
    "            if nubar == false\n",
    "                return Fm_3_270sm_IO_nu(E)\n",
    "            elseif nubar == true\n",
    "                return Fm_3_270sm_IO_nubar(E)\n",
    "            else\n",
    "                return 0.0\n",
    "            end\n",
    "        else\n",
    "            return 0.0\n",
    "        end\n",
    "    elseif sm == \"bh\"\n",
    "        if ordering == \"NO\"\n",
    "            if nubar == false\n",
    "                return Fm_3_bh_NO_nu(E)\n",
    "            elseif nubar == true\n",
    "                return Fm_3_bh_NO_nubar(E)\n",
    "            else\n",
    "                return 0.0\n",
    "            end\n",
    "        elseif ordering == \"IO\"\n",
    "            if nubar == false\n",
    "                return Fm_3_bh_IO_nu(E)\n",
    "            elseif nubar == true\n",
    "                return Fm_3_bh_IO_nubar(E)\n",
    "            else\n",
    "                return 0.0\n",
    "            end\n",
    "        else\n",
    "            return 0.0\n",
    "        end\n",
    "    else\n",
    "        return 0.0\n",
    "    end\n",
    "end\n",
    "\n",
    "function Fmass(E, i, sm, ordering, nubar)\n",
    "    if i == 1\n",
    "        return Fmass_test1(E, sm, ordering, nubar)\n",
    "    elseif i == 2\n",
    "        return Fmass_test2(E, sm, ordering, nubar)\n",
    "    elseif i == 3\n",
    "        return Fmass_test3(E, sm, ordering, nubar)\n",
    "    else\n",
    "        return 0.0\n",
    "    end\n",
    "end;"
   ]
  },
  {
   "cell_type": "code",
   "execution_count": 4,
   "metadata": {},
   "outputs": [],
   "source": [
    "# We can take normchoice to be SNRnorm, SNRnorm_low, or SNRnorm_high\n",
    "function DSNB_integrand(E, z0, z, i, nubar, ordering, bh_frac, normchoice)\n",
    "    c0 = 3e8 # m s^(-1)\n",
    "    if bh_frac == \"21\"\n",
    "        return 0.00208 * (c0*normchoice*SFR(z)/Hubble(z)) * (ηAD(15, 8)*Fmass(E*(1+z)/(1+z0), i, \"small\", ordering, nubar) \n",
    "        + (ηAD(22, 15)+ηAD(27, 25))*Fmass(E*(1+z)/(1+z0), i, \"large\", ordering, nubar) + (ηAD(25, 22)+ηAD(125, 27))*Fmass(E*(1+z)/(1+z0), i, \"bh\", ordering, nubar))\n",
    "    elseif bh_frac == \"41\"\n",
    "        return 0.00208 * (c0*normchoice*SFR(z)/Hubble(z)) * (ηAD(15, 8)*Fmass(E*(1+z)/(1+z0), i, \"small\", ordering, nubar) \n",
    "        + ηAD(125, 15)*Fmass(E*(1+z)/(1+z0), i, \"bh\", ordering, nubar))\n",
    "    elseif bh_frac == \"09\"\n",
    "        return 0.00208 * (c0*normchoice*SFR(z)/Hubble(z)) * (ηAD(15, 8)*Fmass(E*(1+z)/(1+z0), i, \"small\", ordering, nubar)\n",
    "        + ηAD(40, 15)*Fmass(E*(1+z)/(1+z0), i, \"large\", ordering, nubar) + ηAD(125, 40)*Fmass(E*(1+z)/(1+z0), i, \"bh\", ordering, nubar))\n",
    "    else\n",
    "        return 0\n",
    "    end\n",
    "end\n",
    "\n",
    "# Mass method\n",
    "DSNB(E, z0, i, nubar, ordering, bh_frac, normchoice) = 1/(1+z0) * quadgk(z -> DSNB_integrand(E, z0, z, i, nubar, ordering, bh_frac, normchoice), z0, 5, rtol=1e-2)[1]\n",
    "\n",
    "# νe method\n",
    "function DSNB(E, z0, nubar, ordering, bh_frac, normchoice)\n",
    "    ν1 = DSNB(E, z0, 1, nubar, ordering, bh_frac, normchoice)\n",
    "    ν2 = DSNB(E, z0, 2, nubar, ordering, bh_frac, normchoice)\n",
    "    ν3 = DSNB(E, z0, 3, nubar, ordering, bh_frac, normchoice)\n",
    "    return Usqred(ordering)[1, 1]*ν1 + Usqred(ordering)[1, 2]*ν2 + Usqred(ordering)[1, 3]*ν3\n",
    "end;"
   ]
  },
  {
   "cell_type": "code",
   "execution_count": 5,
   "metadata": {},
   "outputs": [
    {
     "name": "stdout",
     "output_type": "stream",
     "text": [
      "  1.363716 seconds (550.75 k allocations: 37.190 MiB, 3.49% gc time, 99.96% compilation time)\n"
     ]
    },
    {
     "data": {
      "text/plain": [
       "0.7095897823701633"
      ]
     },
     "execution_count": 5,
     "metadata": {},
     "output_type": "execute_result"
    }
   ],
   "source": [
    "@time DSNB(1, 0, 1, true, \"IO\", \"21\", SNRnorm)"
   ]
  },
  {
   "cell_type": "code",
   "execution_count": 6,
   "metadata": {},
   "outputs": [],
   "source": [
    "# Separating the progenitors: 1pc ≡ one progenitor contribution\n",
    "\n",
    "function DSNB_integrand_1pc(E, z0, z, i, nubar, ordering, sm, normchoice)\n",
    "    c0 = 3e8 # m s^(-1)\n",
    "    # Adding in this integrated mass function so we can multiply by bh fractions at the end\n",
    "    return 0.00208 * ηAD(125, 8) * (c0*normchoice*SFR(z)/Hubble(z)) * Fmass(E*(1+z)/(1+z0), i, sm, ordering, nubar)\n",
    "end\n",
    "\n",
    "DSNB_1pc(E, z0, i, nubar, ordering, sm, normchoice) = 1/(1+z0) * quadgk(z -> DSNB_integrand_1pc(E, z0, z, i, nubar, ordering, sm, normchoice), z0, 5, rtol=1e-2)[1]\n",
    "\n",
    "function DSNB_1pc(E, z0, nubar, ordering, sm, normchoice)\n",
    "    ν1 = DSNB_1pc(E, z0, 1, nubar, ordering, sm, normchoice)\n",
    "    ν2 = DSNB_1pc(E, z0, 2, nubar, ordering, sm, normchoice)\n",
    "    ν3 = DSNB_1pc(E, z0, 3, nubar, ordering, sm, normchoice)\n",
    "    return Usqred(ordering)[1, 1]*ν1 + Usqred(ordering)[1, 2]*ν2 + Usqred(ordering)[1, 3]*ν3\n",
    "end;"
   ]
  },
  {
   "cell_type": "code",
   "execution_count": 7,
   "metadata": {},
   "outputs": [],
   "source": [
    "# Define this effective length function\n",
    "LeffIntegrand(z) = (H0*sqrt(energy_matter*(1+z)^3 + energy_dark))^(-1)*(1+z)^(-2)\n",
    "\n",
    "leff_quadint(z0) = quadgk(z -> LeffIntegrand(z), 0, z0)[1]\n",
    "\n",
    "zs_leff = range(0, 5, 1000)\n",
    "leff_ne = Interpolations.interpolate((vec(zs_leff),), leff_quadint.(zs_leff), Gridded(Linear()))\n",
    "leff = extrapolate(leff_ne, 0.0)\n",
    "\n",
    "function decay(E, α, z0, z)\n",
    "    scalefactor = 4.68e28\n",
    "    return exp(-scalefactor*α*(leff(z) - leff(z0))*(1+z0)/E)\n",
    "end;"
   ]
  },
  {
   "cell_type": "code",
   "execution_count": 10,
   "metadata": {},
   "outputs": [
    {
     "data": {
      "text/plain": [
       "0.00587198999598493"
      ]
     },
     "execution_count": 10,
     "metadata": {},
     "output_type": "execute_result"
    }
   ],
   "source": [
    "leff(1)"
   ]
  },
  {
   "cell_type": "code",
   "execution_count": 12,
   "metadata": {},
   "outputs": [
    {
     "name": "stdout",
     "output_type": "stream",
     "text": [
      "  0.264354 seconds (110.66 k allocations: 7.568 MiB, 94.48% compilation time)\n"
     ]
    },
    {
     "data": {
      "text/html": [
       "3.844126829887412e-6 &#43; 0.9994711237154343&#8729;x &#45; 1.2171757160998375&#8729;x<sup>2</sup> &#43; 1.2011732904692138&#8729;x<sup>3</sup> &#45; 1.0258795580085436&#8729;x<sup>4</sup> &#43; 0.7535135022231549&#8729;x<sup>5</sup> &#45; 0.4576091931617817&#8729;x<sup>6</sup> &#43; 0.2207326320476638&#8729;x<sup>7</sup> &#45; 0.0820545498767346&#8729;x<sup>8</sup> &#43; 0.022953521018636694&#8729;x<sup>9</sup> &#45; 0.004712524469463747&#8729;x<sup>10</sup> &#43; 0.0006858791896371295&#8729;x<sup>11</sup> &#45; 6.682066367256103e-5&#8729;x<sup>12</sup> &#43; 3.9015397017829775e-6&#8729;x<sup>13</sup> &#45; 1.0310563080271216e-7&#8729;x<sup>14</sup>"
      ],
      "text/latex": [
       "$3.844126829887412e-6 + 0.9994711237154343\\cdot x - 1.2171757160998375\\cdot x^{2} + 1.2011732904692138\\cdot x^{3} - 1.0258795580085436\\cdot x^{4} + 0.7535135022231549\\cdot x^{5} - 0.4576091931617817\\cdot x^{6} + 0.2207326320476638\\cdot x^{7} - 0.0820545498767346\\cdot x^{8} + 0.022953521018636694\\cdot x^{9} - 0.004712524469463747\\cdot x^{10} + 0.0006858791896371295\\cdot x^{11} - 6.682066367256103e-5\\cdot x^{12} + 3.9015397017829775e-6\\cdot x^{13} - 1.0310563080271216e-7\\cdot x^{14}$"
      ],
      "text/plain": [
       "Polynomial(3.844126829887412e-6 + 0.9994711237154343*x - 1.2171757160998375*x^2 + 1.2011732904692138*x^3 - 1.0258795580085436*x^4 + 0.7535135022231549*x^5 - 0.4576091931617817*x^6 + 0.2207326320476638*x^7 - 0.0820545498767346*x^8 + 0.022953521018636694*x^9 - 0.004712524469463747*x^10 + 0.0006858791896371295*x^11 - 6.682066367256103e-5*x^12 + 3.9015397017829775e-6*x^13 - 1.0310563080271216e-7*x^14)"
      ]
     },
     "execution_count": 12,
     "metadata": {},
     "output_type": "execute_result"
    }
   ],
   "source": [
    "xsvec = range(0, 5, 100)\n",
    "leffsvec = 70*leff.(xsvec)\n",
    "\n",
    "@time p = Polynomials.fit(xsvec, leffsvec, 14)"
   ]
  },
  {
   "cell_type": "code",
   "execution_count": 13,
   "metadata": {},
   "outputs": [],
   "source": [
    "function lefftest(x) \n",
    "    if x == 0.0\n",
    "        return 0.0\n",
    "    else\n",
    "        (3.844126829887412e-6 + 0.9994711237154343*x - 1.2171757160998375*x^2 + 1.2011732904692138*x^3 - 1.0258795580085436*x^4 + 0.7535135022231549*x^5 - 0.4576091931617817*x^6 + 0.2207326320476638*x^7 - 0.0820545498767346*x^8 + 0.022953521018636694*x^9 - 0.004712524469463747*x^(10) + 0.0006858791896371295*x^(11) - 6.682066367256103e-5*x^(12) + 3.9015397017829775e-6*x^(13) - 1.0310563080271216e-7*x^(14))/70\n",
    "    end\n",
    "end;"
   ]
  },
  {
   "cell_type": "code",
   "execution_count": 18,
   "metadata": {},
   "outputs": [
    {
     "data": {
      "text/plain": [
       "decaytest (generic function with 1 method)"
      ]
     },
     "execution_count": 18,
     "metadata": {},
     "output_type": "execute_result"
    }
   ],
   "source": [
    "function decaytest(E, α, z0, z)\n",
    "    scalefactor = 4.68e28\n",
    "    return exp(-scalefactor*α*(lefftest(z) - lefftest(z0))*(1+z0)/E)\n",
    "end"
   ]
  },
  {
   "cell_type": "code",
   "execution_count": 23,
   "metadata": {},
   "outputs": [
    {
     "name": "stdout",
     "output_type": "stream",
     "text": [
      "  0.000021 seconds (9 allocations: 144 bytes)\n"
     ]
    },
    {
     "data": {
      "text/plain": [
       "0.09355817485923254"
      ]
     },
     "execution_count": 23,
     "metadata": {},
     "output_type": "execute_result"
    }
   ],
   "source": [
    "@time decay(1, 10^(-26), 0.1, 1)"
   ]
  },
  {
   "cell_type": "code",
   "execution_count": 8,
   "metadata": {},
   "outputs": [],
   "source": [
    "# Invisible decay\n",
    "\n",
    "# mass method\n",
    "function DSNB_idecay(E, z0, α, i, nubar, ordering, bh_frac, normchoice)\n",
    "    return quadgk(z -> 1/(1+z0) * DSNB_integrand(E, z0, z, i, nubar, ordering, bh_frac, normchoice)*decay(E, α, z0, z), z0, 5, rtol=1e-2)[1]\n",
    "end\n",
    "\n",
    "# νe method\n",
    "function DSNB_idecay(E, z0, α1, α2, α3, nubar, ordering, bh_frac, normchoice)\n",
    "    ν1 = DSNB_idecay(E, z0, α1, 1, nubar, ordering, bh_frac, normchoice)\n",
    "    ν2 = DSNB_idecay(E, z0, α2, 2, nubar, ordering, bh_frac, normchoice)\n",
    "    ν3 = DSNB_idecay(E, z0, α3, 3, nubar, ordering, bh_frac, normchoice)\n",
    "    return Usqred(ordering)[1, 1]*ν1 + Usqred(ordering)[1, 2]*ν2 + Usqred(ordering)[1, 3]*ν3\n",
    "end\n",
    "\n",
    "# Single progenitor versions\n",
    "function DSNB_idecay_1pc(E, z0, α, i, nubar, ordering, sm, normchoice)\n",
    "    return quadgk(z -> 1/(1+z0) * DSNB_integrand_1pc(E, z0, z, i, nubar, ordering, sm, normchoice)*decay(E, α, z0, z), z0, 5, rtol=1e-2)[1]\n",
    "end\n",
    "\n",
    "function DSNB_idecay_1pc(E, z0, α1, α2, α3, nubar, ordering, sm, normchoice)\n",
    "    ν1 = DSNB_idecay_1pc(E, z0, α1, 1, nubar, ordering, sm, normchoice)\n",
    "    ν2 = DSNB_idecay_1pc(E, z0, α2, 2, nubar, ordering, sm, normchoice)\n",
    "    ν3 = DSNB_idecay_1pc(E, z0, α3, 3, nubar, ordering, sm, normchoice)\n",
    "    return Usqred(ordering)[1, 1]*ν1 + Usqred(ordering)[1, 2]*ν2 + Usqred(ordering)[1, 3]*ν3\n",
    "end;"
   ]
  },
  {
   "cell_type": "code",
   "execution_count": 9,
   "metadata": {},
   "outputs": [
    {
     "data": {
      "text/plain": [
       "choicez (generic function with 1 method)"
      ]
     },
     "execution_count": 9,
     "metadata": {},
     "output_type": "execute_result"
    }
   ],
   "source": [
    "function choicez(E, α, z0)\n",
    "    innerpart = 0.007+(E/(4.68e28*α))*log(0.01*exp(-4.68e28*α*lefftest(z0)/E))\n",
    "    if innerpart > 0.0\n",
    "        return -0.555*(log(350*(innerpart))-0.9)\n",
    "    else\n",
    "        return 0.0\n",
    "    end\n",
    "end"
   ]
  },
  {
   "cell_type": "code",
   "execution_count": 10,
   "metadata": {},
   "outputs": [
    {
     "data": {
      "text/plain": [
       "DSNB_idecay_test (generic function with 1 method)"
      ]
     },
     "execution_count": 10,
     "metadata": {},
     "output_type": "execute_result"
    }
   ],
   "source": [
    "function DSNB_idecay_test(E, z0, α, i, nubar, ordering, bh_frac, normchoice)\n",
    "    zcut = choicez(E, α, z0)\n",
    "    if zcut > z0 && zcut < 5 && decaytest(E, α, z0, zcut) < 0.1\n",
    "        return quadgk(z -> 1/(1+z0) * DSNB_integrand(E, z0, z, i, nubar, ordering, bh_frac, normchoice)*decaytest(E, α, z0, z), z0, zcut, 5, rtol=1e-2)[1]\n",
    "    else\n",
    "        return quadgk(z -> 1/(1+z0) * DSNB_integrand(E, z0, z, i, nubar, ordering, bh_frac, normchoice)*decaytest(E, α, z0, z), z0, zcut, 5, rtol=1e-2)[1]\n",
    "    end\n",
    "end"
   ]
  },
  {
   "cell_type": "code",
   "execution_count": 525,
   "metadata": {},
   "outputs": [
    {
     "data": {
      "image/png": "[encoded data removed]",
      "image/svg+xml": "<?xml version=\"1.0\" encoding=\"utf-8\"?>\n<svg xmlns=\"http://www.w3.org/2000/svg\" xmlns:xlink=\"http://www.w3.org/1999/xlink\" width=\"600\" height=\"400\" viewBox=\"0 0 2400 1600\">\n<defs>\n  <clipPath id=\"clip280\">\n    <rect x=\"0\" y=\"0\" width=\"2400\" height=\"1600\"/>\n  </clipPath>\n</defs>\n<path clip-path=\"url(#clip280)\" d=\"M0 1600 L2400 1600 L2400 0 L0 0  Z\" fill=\"#ffffff\" fill-rule=\"evenodd\" fill-opacity=\"1\"/>\n<defs>\n  <clipPath id=\"clip281\">\n    <rect x=\"480\" y=\"0\" width=\"1681\" height=\"1600\"/>\n  </clipPath>\n</defs>\n<path clip-path=\"url(#clip280)\" d=\"M186.76 1486.45 L2352.76 1486.45 L2352.76 47.2441 L186.76 47.2441  Z\" fill=\"#ffffff\" fill-rule=\"evenodd\" fill-opacity=\"1\"/>\n<defs>\n  <clipPath id=\"clip282\">\n    <rect x=\"186\" y=\"47\" width=\"2167\" height=\"1440\"/>\n  </clipPath>\n</defs>\n<polyline clip-path=\"url(#clip282)\" style=\"stroke:#000000; stroke-linecap:round; stroke-linejoin:round; stroke-width:2; stroke-opacity:0.1; fill:none\" points=\"248.062,1486.45 248.062,47.2441 \"/>\n<polyline clip-path=\"url(#clip282)\" style=\"stroke:#000000; stroke-linecap:round; stroke-linejoin:round; stroke-width:2; stroke-opacity:0.1; fill:none\" points=\"758.91,1486.45 758.91,47.2441 \"/>\n<polyline clip-path=\"url(#clip282)\" style=\"stroke:#000000; stroke-linecap:round; stroke-linejoin:round; stroke-width:2; stroke-opacity:0.1; fill:none\" points=\"1269.76,1486.45 1269.76,47.2441 \"/>\n<polyline clip-path=\"url(#clip282)\" style=\"stroke:#000000; stroke-linecap:round; stroke-linejoin:round; stroke-width:2; stroke-opacity:0.1; fill:none\" points=\"1780.61,1486.45 1780.61,47.2441 \"/>\n<polyline clip-path=\"url(#clip282)\" style=\"stroke:#000000; stroke-linecap:round; stroke-linejoin:round; stroke-width:2; stroke-opacity:0.1; fill:none\" points=\"2291.45,1486.45 2291.45,47.2441 \"/>\n<polyline clip-path=\"url(#clip280)\" style=\"stroke:#000000; stroke-linecap:round; stroke-linejoin:round; stroke-width:4; stroke-opacity:1; fill:none\" points=\"186.76,1486.45 2352.76,1486.45 \"/>\n<polyline clip-path=\"url(#clip280)\" style=\"stroke:#000000; stroke-linecap:round; stroke-linejoin:round; stroke-width:4; stroke-opacity:1; fill:none\" points=\"248.062,1486.45 248.062,1467.55 \"/>\n<polyline clip-path=\"url(#clip280)\" style=\"stroke:#000000; stroke-linecap:round; stroke-linejoin:round; stroke-width:4; stroke-opacity:1; fill:none\" points=\"758.91,1486.45 758.91,1467.55 \"/>\n<polyline clip-path=\"url(#clip280)\" style=\"stroke:#000000; stroke-linecap:round; stroke-linejoin:round; stroke-width:4; stroke-opacity:1; fill:none\" points=\"1269.76,1486.45 1269.76,1467.55 \"/>\n<polyline clip-path=\"url(#clip280)\" style=\"stroke:#000000; stroke-linecap:round; stroke-linejoin:round; stroke-width:4; stroke-opacity:1; fill:none\" points=\"1780.61,1486.45 1780.61,1467.55 \"/>\n<polyline clip-path=\"url(#clip280)\" style=\"stroke:#000000; stroke-linecap:round; stroke-linejoin:round; stroke-width:4; stroke-opacity:1; fill:none\" points=\"2291.45,1486.45 2291.45,1467.55 \"/>\n<path clip-path=\"url(#clip280)\" d=\"M238.444 1544.91 L246.083 1544.91 L246.083 1518.55 L237.773 1520.21 L237.773 1515.95 L246.036 1514.29 L250.712 1514.29 L250.712 1544.91 L258.351 1544.91 L258.351 1548.85 L238.444 1548.85 L238.444 1544.91 Z\" fill=\"#000000\" fill-rule=\"nonzero\" fill-opacity=\"1\" /><path clip-path=\"url(#clip280)\" d=\"M753.563 1544.91 L769.882 1544.91 L769.882 1548.85 L747.938 1548.85 L747.938 1544.91 Q750.6 1542.16 755.183 1537.53 Q759.79 1532.88 760.97 1531.53 Q763.215 1529.01 764.095 1527.27 Q764.998 1525.51 764.998 1523.82 Q764.998 1521.07 763.053 1519.33 Q761.132 1517.6 758.03 1517.6 Q755.831 1517.6 753.378 1518.36 Q750.947 1519.13 748.169 1520.68 L748.169 1515.95 Q750.993 1514.82 753.447 1514.24 Q755.901 1513.66 757.938 1513.66 Q763.308 1513.66 766.502 1516.35 Q769.697 1519.03 769.697 1523.52 Q769.697 1525.65 768.887 1527.57 Q768.1 1529.47 765.993 1532.07 Q765.415 1532.74 762.313 1535.95 Q759.211 1539.15 753.563 1544.91 Z\" fill=\"#000000\" fill-rule=\"nonzero\" fill-opacity=\"1\" /><path clip-path=\"url(#clip280)\" d=\"M1274.01 1530.21 Q1277.36 1530.93 1279.24 1533.2 Q1281.14 1535.47 1281.14 1538.8 Q1281.14 1543.92 1277.62 1546.72 Q1274.1 1549.52 1267.62 1549.52 Q1265.44 1549.52 1263.13 1549.08 Q1260.83 1548.66 1258.38 1547.81 L1258.38 1543.29 Q1260.33 1544.43 1262.64 1545.01 Q1264.95 1545.58 1267.48 1545.58 Q1271.88 1545.58 1274.17 1543.85 Q1276.48 1542.11 1276.48 1538.8 Q1276.48 1535.75 1274.33 1534.03 Q1272.2 1532.3 1268.38 1532.3 L1264.35 1532.3 L1264.35 1528.45 L1268.57 1528.45 Q1272.01 1528.45 1273.84 1527.09 Q1275.67 1525.7 1275.67 1523.11 Q1275.67 1520.45 1273.77 1519.03 Q1271.9 1517.6 1268.38 1517.6 Q1266.46 1517.6 1264.26 1518.01 Q1262.06 1518.43 1259.42 1519.31 L1259.42 1515.14 Q1262.08 1514.4 1264.4 1514.03 Q1266.74 1513.66 1268.8 1513.66 Q1274.12 1513.66 1277.22 1516.09 Q1280.33 1518.5 1280.33 1522.62 Q1280.33 1525.49 1278.68 1527.48 Q1277.04 1529.45 1274.01 1530.21 Z\" fill=\"#000000\" fill-rule=\"nonzero\" fill-opacity=\"1\" /><path clip-path=\"url(#clip280)\" d=\"M1783.62 1518.36 L1771.81 1536.81 L1783.62 1536.81 L1783.62 1518.36 M1782.39 1514.29 L1788.27 1514.29 L1788.27 1536.81 L1793.2 1536.81 L1793.2 1540.7 L1788.27 1540.7 L1788.27 1548.85 L1783.62 1548.85 L1783.62 1540.7 L1768.01 1540.7 L1768.01 1536.19 L1782.39 1514.29 Z\" fill=\"#000000\" fill-rule=\"nonzero\" fill-opacity=\"1\" /><path clip-path=\"url(#clip280)\" d=\"M2281.73 1514.29 L2300.09 1514.29 L2300.09 1518.22 L2286.01 1518.22 L2286.01 1526.7 Q2287.03 1526.35 2288.05 1526.19 Q2289.07 1526 2290.09 1526 Q2295.88 1526 2299.26 1529.17 Q2302.63 1532.34 2302.63 1537.76 Q2302.63 1543.34 2299.16 1546.44 Q2295.69 1549.52 2289.37 1549.52 Q2287.19 1549.52 2284.93 1549.15 Q2282.68 1548.78 2280.27 1548.04 L2280.27 1543.34 Q2282.36 1544.47 2284.58 1545.03 Q2286.8 1545.58 2289.28 1545.58 Q2293.28 1545.58 2295.62 1543.48 Q2297.96 1541.37 2297.96 1537.76 Q2297.96 1534.15 2295.62 1532.04 Q2293.28 1529.94 2289.28 1529.94 Q2287.4 1529.94 2285.53 1530.35 Q2283.68 1530.77 2281.73 1531.65 L2281.73 1514.29 Z\" fill=\"#000000\" fill-rule=\"nonzero\" fill-opacity=\"1\" /><polyline clip-path=\"url(#clip282)\" style=\"stroke:#000000; stroke-linecap:round; stroke-linejoin:round; stroke-width:2; stroke-opacity:0.1; fill:none\" points=\"186.76,1445.72 2352.76,1445.72 \"/>\n<polyline clip-path=\"url(#clip282)\" style=\"stroke:#000000; stroke-linecap:round; stroke-linejoin:round; stroke-width:2; stroke-opacity:0.1; fill:none\" points=\"186.76,1157.44 2352.76,1157.44 \"/>\n<polyline clip-path=\"url(#clip282)\" style=\"stroke:#000000; stroke-linecap:round; stroke-linejoin:round; stroke-width:2; stroke-opacity:0.1; fill:none\" points=\"186.76,869.157 2352.76,869.157 \"/>\n<polyline clip-path=\"url(#clip282)\" style=\"stroke:#000000; stroke-linecap:round; stroke-linejoin:round; stroke-width:2; stroke-opacity:0.1; fill:none\" points=\"186.76,580.877 2352.76,580.877 \"/>\n<polyline clip-path=\"url(#clip282)\" style=\"stroke:#000000; stroke-linecap:round; stroke-linejoin:round; stroke-width:2; stroke-opacity:0.1; fill:none\" points=\"186.76,292.598 2352.76,292.598 \"/>\n<polyline clip-path=\"url(#clip280)\" style=\"stroke:#000000; stroke-linecap:round; stroke-linejoin:round; stroke-width:4; stroke-opacity:1; fill:none\" points=\"186.76,1486.45 186.76,47.2441 \"/>\n<polyline clip-path=\"url(#clip280)\" style=\"stroke:#000000; stroke-linecap:round; stroke-linejoin:round; stroke-width:4; stroke-opacity:1; fill:none\" points=\"186.76,1445.72 205.658,1445.72 \"/>\n<polyline clip-path=\"url(#clip280)\" style=\"stroke:#000000; stroke-linecap:round; stroke-linejoin:round; stroke-width:4; stroke-opacity:1; fill:none\" points=\"186.76,1157.44 205.658,1157.44 \"/>\n<polyline clip-path=\"url(#clip280)\" style=\"stroke:#000000; stroke-linecap:round; stroke-linejoin:round; stroke-width:4; stroke-opacity:1; fill:none\" points=\"186.76,869.157 205.658,869.157 \"/>\n<polyline clip-path=\"url(#clip280)\" style=\"stroke:#000000; stroke-linecap:round; stroke-linejoin:round; stroke-width:4; stroke-opacity:1; fill:none\" points=\"186.76,580.877 205.658,580.877 \"/>\n<polyline clip-path=\"url(#clip280)\" style=\"stroke:#000000; stroke-linecap:round; stroke-linejoin:round; stroke-width:4; stroke-opacity:1; fill:none\" points=\"186.76,292.598 205.658,292.598 \"/>\n<path clip-path=\"url(#clip280)\" d=\"M63.4226 1431.51 Q59.8115 1431.51 57.9828 1435.08 Q56.1773 1438.62 56.1773 1445.75 Q56.1773 1452.86 57.9828 1456.42 Q59.8115 1459.96 63.4226 1459.96 Q67.0569 1459.96 68.8624 1456.42 Q70.6911 1452.86 70.6911 1445.75 Q70.6911 1438.62 68.8624 1435.08 Q67.0569 1431.51 63.4226 1431.51 M63.4226 1427.81 Q69.2328 1427.81 72.2883 1432.42 Q75.367 1437 75.367 1445.75 Q75.367 1454.48 72.2883 1459.08 Q69.2328 1463.67 63.4226 1463.67 Q57.6125 1463.67 54.5338 1459.08 Q51.4782 1454.48 51.4782 1445.75 Q51.4782 1437 54.5338 1432.42 Q57.6125 1427.81 63.4226 1427.81 Z\" fill=\"#000000\" fill-rule=\"nonzero\" fill-opacity=\"1\" /><path clip-path=\"url(#clip280)\" d=\"M83.5845 1457.12 L88.4688 1457.12 L88.4688 1463 L83.5845 1463 L83.5845 1457.12 Z\" fill=\"#000000\" fill-rule=\"nonzero\" fill-opacity=\"1\" /><path clip-path=\"url(#clip280)\" d=\"M108.654 1431.51 Q105.043 1431.51 103.214 1435.08 Q101.409 1438.62 101.409 1445.75 Q101.409 1452.86 103.214 1456.42 Q105.043 1459.96 108.654 1459.96 Q112.288 1459.96 114.094 1456.42 Q115.922 1452.86 115.922 1445.75 Q115.922 1438.62 114.094 1435.08 Q112.288 1431.51 108.654 1431.51 M108.654 1427.81 Q114.464 1427.81 117.52 1432.42 Q120.598 1437 120.598 1445.75 Q120.598 1454.48 117.52 1459.08 Q114.464 1463.67 108.654 1463.67 Q102.844 1463.67 99.765 1459.08 Q96.7095 1454.48 96.7095 1445.75 Q96.7095 1437 99.765 1432.42 Q102.844 1427.81 108.654 1427.81 Z\" fill=\"#000000\" fill-rule=\"nonzero\" fill-opacity=\"1\" /><path clip-path=\"url(#clip280)\" d=\"M138.816 1431.51 Q135.205 1431.51 133.376 1435.08 Q131.57 1438.62 131.57 1445.75 Q131.57 1452.86 133.376 1456.42 Q135.205 1459.96 138.816 1459.96 Q142.45 1459.96 144.256 1456.42 Q146.084 1452.86 146.084 1445.75 Q146.084 1438.62 144.256 1435.08 Q142.45 1431.51 138.816 1431.51 M138.816 1427.81 Q144.626 1427.81 147.681 1432.42 Q150.76 1437 150.76 1445.75 Q150.76 1454.48 147.681 1459.08 Q144.626 1463.67 138.816 1463.67 Q133.006 1463.67 129.927 1459.08 Q126.871 1454.48 126.871 1445.75 Q126.871 1437 129.927 1432.42 Q133.006 1427.81 138.816 1427.81 Z\" fill=\"#000000\" fill-rule=\"nonzero\" fill-opacity=\"1\" /><path clip-path=\"url(#clip280)\" d=\"M64.6495 1143.24 Q61.0384 1143.24 59.2097 1146.8 Q57.4041 1150.34 57.4041 1157.47 Q57.4041 1164.58 59.2097 1168.14 Q61.0384 1171.68 64.6495 1171.68 Q68.2837 1171.68 70.0892 1168.14 Q71.9179 1164.58 71.9179 1157.47 Q71.9179 1150.34 70.0892 1146.8 Q68.2837 1143.24 64.6495 1143.24 M64.6495 1139.53 Q70.4596 1139.53 73.5152 1144.14 Q76.5938 1148.72 76.5938 1157.47 Q76.5938 1166.2 73.5152 1170.8 Q70.4596 1175.39 64.6495 1175.39 Q58.8393 1175.39 55.7606 1170.8 Q52.7051 1166.2 52.7051 1157.47 Q52.7051 1148.72 55.7606 1144.14 Q58.8393 1139.53 64.6495 1139.53 Z\" fill=\"#000000\" fill-rule=\"nonzero\" fill-opacity=\"1\" /><path clip-path=\"url(#clip280)\" d=\"M84.8114 1168.84 L89.6956 1168.84 L89.6956 1174.72 L84.8114 1174.72 L84.8114 1168.84 Z\" fill=\"#000000\" fill-rule=\"nonzero\" fill-opacity=\"1\" /><path clip-path=\"url(#clip280)\" d=\"M109.881 1143.24 Q106.27 1143.24 104.441 1146.8 Q102.635 1150.34 102.635 1157.47 Q102.635 1164.58 104.441 1168.14 Q106.27 1171.68 109.881 1171.68 Q113.515 1171.68 115.32 1168.14 Q117.149 1164.58 117.149 1157.47 Q117.149 1150.34 115.32 1146.8 Q113.515 1143.24 109.881 1143.24 M109.881 1139.53 Q115.691 1139.53 118.746 1144.14 Q121.825 1148.72 121.825 1157.47 Q121.825 1166.2 118.746 1170.8 Q115.691 1175.39 109.881 1175.39 Q104.071 1175.39 100.992 1170.8 Q97.9363 1166.2 97.9363 1157.47 Q97.9363 1148.72 100.992 1144.14 Q104.071 1139.53 109.881 1139.53 Z\" fill=\"#000000\" fill-rule=\"nonzero\" fill-opacity=\"1\" /><path clip-path=\"url(#clip280)\" d=\"M130.853 1170.78 L138.492 1170.78 L138.492 1144.42 L130.182 1146.08 L130.182 1141.82 L138.445 1140.16 L143.121 1140.16 L143.121 1170.78 L150.76 1170.78 L150.76 1174.72 L130.853 1174.72 L130.853 1170.78 Z\" fill=\"#000000\" fill-rule=\"nonzero\" fill-opacity=\"1\" /><path clip-path=\"url(#clip280)\" d=\"M65.0198 854.955 Q61.4087 854.955 59.58 858.52 Q57.7745 862.062 57.7745 869.192 Q57.7745 876.298 59.58 879.863 Q61.4087 883.404 65.0198 883.404 Q68.6541 883.404 70.4596 879.863 Q72.2883 876.298 72.2883 869.192 Q72.2883 862.062 70.4596 858.52 Q68.6541 854.955 65.0198 854.955 M65.0198 851.252 Q70.83 851.252 73.8855 855.858 Q76.9642 860.442 76.9642 869.192 Q76.9642 877.918 73.8855 882.525 Q70.83 887.108 65.0198 887.108 Q59.2097 887.108 56.131 882.525 Q53.0754 877.918 53.0754 869.192 Q53.0754 860.442 56.131 855.858 Q59.2097 851.252 65.0198 851.252 Z\" fill=\"#000000\" fill-rule=\"nonzero\" fill-opacity=\"1\" /><path clip-path=\"url(#clip280)\" d=\"M85.1818 880.557 L90.066 880.557 L90.066 886.437 L85.1818 886.437 L85.1818 880.557 Z\" fill=\"#000000\" fill-rule=\"nonzero\" fill-opacity=\"1\" /><path clip-path=\"url(#clip280)\" d=\"M110.251 854.955 Q106.64 854.955 104.811 858.52 Q103.006 862.062 103.006 869.192 Q103.006 876.298 104.811 879.863 Q106.64 883.404 110.251 883.404 Q113.885 883.404 115.691 879.863 Q117.52 876.298 117.52 869.192 Q117.52 862.062 115.691 858.52 Q113.885 854.955 110.251 854.955 M110.251 851.252 Q116.061 851.252 119.117 855.858 Q122.195 860.442 122.195 869.192 Q122.195 877.918 119.117 882.525 Q116.061 887.108 110.251 887.108 Q104.441 887.108 101.362 882.525 Q98.3067 877.918 98.3067 869.192 Q98.3067 860.442 101.362 855.858 Q104.441 851.252 110.251 851.252 Z\" fill=\"#000000\" fill-rule=\"nonzero\" fill-opacity=\"1\" /><path clip-path=\"url(#clip280)\" d=\"M134.441 882.502 L150.76 882.502 L150.76 886.437 L128.816 886.437 L128.816 882.502 Q131.478 879.747 136.061 875.117 Q140.668 870.465 141.848 869.122 Q144.093 866.599 144.973 864.863 Q145.876 863.104 145.876 861.414 Q145.876 858.659 143.931 856.923 Q142.01 855.187 138.908 855.187 Q136.709 855.187 134.256 855.951 Q131.825 856.715 129.047 858.266 L129.047 853.543 Q131.871 852.409 134.325 851.83 Q136.779 851.252 138.816 851.252 Q144.186 851.252 147.38 853.937 Q150.575 856.622 150.575 861.113 Q150.575 863.242 149.765 865.164 Q148.978 867.062 146.871 869.654 Q146.293 870.326 143.191 873.543 Q140.089 876.738 134.441 882.502 Z\" fill=\"#000000\" fill-rule=\"nonzero\" fill-opacity=\"1\" /><path clip-path=\"url(#clip280)\" d=\"M64.0708 566.676 Q60.4597 566.676 58.631 570.241 Q56.8254 573.782 56.8254 580.912 Q56.8254 588.018 58.631 591.583 Q60.4597 595.125 64.0708 595.125 Q67.705 595.125 69.5105 591.583 Q71.3392 588.018 71.3392 580.912 Q71.3392 573.782 69.5105 570.241 Q67.705 566.676 64.0708 566.676 M64.0708 562.972 Q69.8809 562.972 72.9365 567.579 Q76.0151 572.162 76.0151 580.912 Q76.0151 589.639 72.9365 594.245 Q69.8809 598.828 64.0708 598.828 Q58.2606 598.828 55.1819 594.245 Q52.1264 589.639 52.1264 580.912 Q52.1264 572.162 55.1819 567.579 Q58.2606 562.972 64.0708 562.972 Z\" fill=\"#000000\" fill-rule=\"nonzero\" fill-opacity=\"1\" /><path clip-path=\"url(#clip280)\" d=\"M84.2327 592.278 L89.1169 592.278 L89.1169 598.157 L84.2327 598.157 L84.2327 592.278 Z\" fill=\"#000000\" fill-rule=\"nonzero\" fill-opacity=\"1\" /><path clip-path=\"url(#clip280)\" d=\"M109.302 566.676 Q105.691 566.676 103.862 570.241 Q102.057 573.782 102.057 580.912 Q102.057 588.018 103.862 591.583 Q105.691 595.125 109.302 595.125 Q112.936 595.125 114.742 591.583 Q116.57 588.018 116.57 580.912 Q116.57 573.782 114.742 570.241 Q112.936 566.676 109.302 566.676 M109.302 562.972 Q115.112 562.972 118.168 567.579 Q121.246 572.162 121.246 580.912 Q121.246 589.639 118.168 594.245 Q115.112 598.828 109.302 598.828 Q103.492 598.828 100.413 594.245 Q97.3576 589.639 97.3576 580.912 Q97.3576 572.162 100.413 567.579 Q103.492 562.972 109.302 562.972 Z\" fill=\"#000000\" fill-rule=\"nonzero\" fill-opacity=\"1\" /><path clip-path=\"url(#clip280)\" d=\"M143.631 579.523 Q146.987 580.241 148.862 582.509 Q150.76 584.778 150.76 588.111 Q150.76 593.227 147.242 596.028 Q143.723 598.828 137.242 598.828 Q135.066 598.828 132.751 598.389 Q130.459 597.972 128.006 597.116 L128.006 592.602 Q129.95 593.736 132.265 594.315 Q134.58 594.893 137.103 594.893 Q141.501 594.893 143.793 593.157 Q146.107 591.421 146.107 588.111 Q146.107 585.055 143.955 583.342 Q141.825 581.606 138.006 581.606 L133.978 581.606 L133.978 577.764 L138.191 577.764 Q141.64 577.764 143.468 576.398 Q145.297 575.009 145.297 572.417 Q145.297 569.755 143.399 568.343 Q141.524 566.907 138.006 566.907 Q136.084 566.907 133.885 567.324 Q131.686 567.741 129.047 568.62 L129.047 564.454 Q131.709 563.713 134.024 563.343 Q136.362 562.972 138.422 562.972 Q143.746 562.972 146.848 565.403 Q149.95 567.81 149.95 571.93 Q149.95 574.801 148.306 576.792 Q146.663 578.759 143.631 579.523 Z\" fill=\"#000000\" fill-rule=\"nonzero\" fill-opacity=\"1\" /><path clip-path=\"url(#clip280)\" d=\"M62.9365 278.396 Q59.3254 278.396 57.4967 281.961 Q55.6912 285.503 55.6912 292.632 Q55.6912 299.739 57.4967 303.304 Q59.3254 306.845 62.9365 306.845 Q66.5707 306.845 68.3763 303.304 Q70.205 299.739 70.205 292.632 Q70.205 285.503 68.3763 281.961 Q66.5707 278.396 62.9365 278.396 M62.9365 274.693 Q68.7467 274.693 71.8022 279.299 Q74.8809 283.882 74.8809 292.632 Q74.8809 301.359 71.8022 305.966 Q68.7467 310.549 62.9365 310.549 Q57.1264 310.549 54.0477 305.966 Q50.9921 301.359 50.9921 292.632 Q50.9921 283.882 54.0477 279.299 Q57.1264 274.693 62.9365 274.693 Z\" fill=\"#000000\" fill-rule=\"nonzero\" fill-opacity=\"1\" /><path clip-path=\"url(#clip280)\" d=\"M83.0984 303.998 L87.9827 303.998 L87.9827 309.878 L83.0984 309.878 L83.0984 303.998 Z\" fill=\"#000000\" fill-rule=\"nonzero\" fill-opacity=\"1\" /><path clip-path=\"url(#clip280)\" d=\"M108.168 278.396 Q104.557 278.396 102.728 281.961 Q100.922 285.503 100.922 292.632 Q100.922 299.739 102.728 303.304 Q104.557 306.845 108.168 306.845 Q111.802 306.845 113.608 303.304 Q115.436 299.739 115.436 292.632 Q115.436 285.503 113.608 281.961 Q111.802 278.396 108.168 278.396 M108.168 274.693 Q113.978 274.693 117.033 279.299 Q120.112 283.882 120.112 292.632 Q120.112 301.359 117.033 305.966 Q113.978 310.549 108.168 310.549 Q102.358 310.549 99.2789 305.966 Q96.2234 301.359 96.2234 292.632 Q96.2234 283.882 99.2789 279.299 Q102.358 274.693 108.168 274.693 Z\" fill=\"#000000\" fill-rule=\"nonzero\" fill-opacity=\"1\" /><path clip-path=\"url(#clip280)\" d=\"M141.177 279.392 L129.371 297.841 L141.177 297.841 L141.177 279.392 M139.95 275.318 L145.83 275.318 L145.83 297.841 L150.76 297.841 L150.76 301.73 L145.83 301.73 L145.83 309.878 L141.177 309.878 L141.177 301.73 L125.575 301.73 L125.575 297.216 L139.95 275.318 Z\" fill=\"#000000\" fill-rule=\"nonzero\" fill-opacity=\"1\" /><polyline clip-path=\"url(#clip282)\" style=\"stroke:#009af9; stroke-linecap:round; stroke-linejoin:round; stroke-width:4; stroke-opacity:1; fill:none\" points=\"248.062,87.9763 250.107,181.252 252.153,267.688 254.198,347.866 256.244,422.262 258.289,491.314 260.335,555.426 262.38,614.969 264.425,670.286 266.471,721.69 268.516,769.474 270.562,813.904 272.607,855.228 274.653,893.674 276.698,929.452 278.743,962.758 280.789,993.77 282.834,1022.66 284.88,1049.57 286.925,1074.65 288.971,1098.03 291.016,1119.83 293.062,1140.16 295.107,1159.13 297.152,1176.84 299.198,1193.37 301.243,1208.78 303.289,1223.16 305.334,1236.61 307.38,1249.17 309.425,1260.93 311.47,1271.92 313.516,1282.2 315.561,1291.83 317.607,1300.84 319.652,1309.28 321.698,1317.19 323.743,1324.6 325.789,1331.54 327.834,1338.06 329.879,1344.16 331.925,1349.89 333.97,1355.27 336.016,1360.32 338.061,1365.06 340.107,1369.52 342.152,1373.7 344.197,1377.64 346.243,1381.34 348.288,1384.82 350.334,1388.09 352.379,1391.17 354.425,1394.06 356.47,1396.78 358.516,1399.35 360.561,1401.77 362.606,1404.05 364.652,1406.2 366.697,1408.23 368.743,1410.15 370.788,1411.95 372.834,1413.66 374.879,1415.27 376.924,1416.79 378.97,1418.23 381.015,1419.59 383.061,1420.87 385.106,1422.08 387.152,1423.23 389.197,1424.32 391.243,1425.35 393.288,1426.32 395.333,1427.25 397.379,1428.12 399.424,1428.95 401.47,1429.73 403.515,1430.48 405.561,1431.18 407.606,1431.85 409.651,1432.48 411.697,1433.08 413.742,1433.65 415.788,1434.2 417.833,1434.71 419.879,1435.2 421.924,1435.67 423.97,1436.11 426.015,1436.53 428.06,1436.93 430.106,1437.31 432.151,1437.67 434.197,1438.02 436.242,1438.35 438.288,1438.66 440.333,1438.96 442.378,1439.24 444.424,1439.51 446.469,1439.77 448.515,1440.01 450.56,1440.25 452.606,1440.47 454.651,1440.68 456.697,1440.89 458.742,1441.08 460.787,1441.27 462.833,1441.44 464.878,1441.61 466.924,1441.77 468.969,1441.93 471.015,1442.07 473.06,1442.22 475.105,1442.35 477.151,1442.48 479.196,1442.6 481.242,1442.72 483.287,1442.83 485.333,1442.94 487.378,1443.04 489.424,1443.14 491.469,1443.24 493.514,1443.33 495.56,1443.42 497.605,1443.5 499.651,1443.58 501.696,1443.66 503.742,1443.73 505.787,1443.8 507.832,1443.87 509.878,1443.93 511.923,1444 513.969,1444.06 516.014,1444.11 518.06,1444.17 520.105,1444.22 522.151,1444.27 524.196,1444.32 526.241,1444.37 528.287,1444.42 530.332,1444.46 532.378,1444.5 534.423,1444.54 536.469,1444.58 538.514,1444.62 540.559,1444.65 542.605,1444.69 544.65,1444.72 546.696,1444.75 548.741,1444.78 550.787,1444.81 552.832,1444.84 554.878,1444.87 556.923,1444.9 558.968,1444.92 561.014,1444.95 563.059,1444.97 565.105,1444.99 567.15,1445.01 569.196,1445.04 571.241,1445.06 573.286,1445.08 575.332,1445.1 577.377,1445.11 579.423,1445.13 581.468,1445.15 583.514,1445.17 585.559,1445.18 587.605,1445.2 589.65,1445.21 591.695,1445.23 593.741,1445.24 595.786,1445.25 597.832,1445.27 599.877,1445.28 601.923,1445.29 603.968,1445.3 606.013,1445.32 608.059,1445.33 610.104,1445.34 612.15,1445.35 614.195,1445.36 616.241,1445.37 618.286,1445.38 620.332,1445.39 622.377,1445.39 624.422,1445.4 626.468,1445.41 628.513,1445.42 630.559,1445.43 632.604,1445.43 634.65,1445.44 636.695,1445.45 638.74,1445.46 640.786,1445.46 642.831,1445.47 644.877,1445.48 646.922,1445.48 648.968,1445.49 651.013,1445.49 653.059,1445.5 655.104,1445.5 657.149,1445.51 659.195,1445.51 661.24,1445.52 663.286,1445.52 665.331,1445.53 667.377,1445.53 669.422,1445.54 671.467,1445.54 673.513,1445.55 675.558,1445.55 677.604,1445.55 679.649,1445.56 681.695,1445.56 683.74,1445.57 685.786,1445.57 687.831,1445.57 689.876,1445.58 691.922,1445.58 693.967,1445.58 696.013,1445.58 698.058,1445.59 700.104,1445.59 702.149,1445.59 704.194,1445.6 706.24,1445.6 708.285,1445.6 710.331,1445.6 712.376,1445.61 714.422,1445.61 716.467,1445.61 718.513,1445.61 720.558,1445.62 722.603,1445.62 724.649,1445.62 726.694,1445.62 728.74,1445.62 730.785,1445.63 732.831,1445.63 734.876,1445.63 736.921,1445.63 738.967,1445.63 741.012,1445.63 743.058,1445.64 745.103,1445.64 747.149,1445.64 749.194,1445.64 751.24,1445.64 753.285,1445.64 755.33,1445.65 757.376,1445.65 759.421,1445.65 761.467,1445.65 763.512,1445.65 765.558,1445.65 767.603,1445.65 769.648,1445.65 771.694,1445.66 773.739,1445.66 775.785,1445.66 777.83,1445.66 779.876,1445.66 781.921,1445.66 783.967,1445.66 786.012,1445.66 788.057,1445.66 790.103,1445.66 792.148,1445.67 794.194,1445.67 796.239,1445.67 798.285,1445.67 800.33,1445.67 802.375,1445.67 804.421,1445.67 806.466,1445.67 808.512,1445.67 810.557,1445.67 812.603,1445.67 814.648,1445.67 816.694,1445.68 818.739,1445.68 820.784,1445.68 822.83,1445.68 824.875,1445.68 826.921,1445.68 828.966,1445.68 831.012,1445.68 833.057,1445.68 835.102,1445.68 837.148,1445.68 839.193,1445.68 841.239,1445.68 843.284,1445.68 845.33,1445.68 847.375,1445.68 849.421,1445.69 851.466,1445.69 853.511,1445.69 855.557,1445.69 857.602,1445.69 859.648,1445.69 861.693,1445.69 863.739,1445.69 865.784,1445.69 867.83,1445.69 869.875,1445.69 871.92,1445.69 873.966,1445.69 876.011,1445.69 878.057,1445.69 880.102,1445.69 882.148,1445.69 884.193,1445.69 886.238,1445.69 888.284,1445.69 890.329,1445.69 892.375,1445.69 894.42,1445.69 896.466,1445.69 898.511,1445.69 900.557,1445.69 902.602,1445.7 904.647,1445.7 906.693,1445.7 908.738,1445.7 910.784,1445.7 912.829,1445.7 914.875,1445.7 916.92,1445.7 918.965,1445.7 921.011,1445.7 923.056,1445.7 925.102,1445.7 927.147,1445.7 929.193,1445.7 931.238,1445.7 933.284,1445.7 935.329,1445.7 937.374,1445.7 939.42,1445.7 941.465,1445.7 943.511,1445.7 945.556,1445.7 947.602,1445.7 949.647,1445.7 951.692,1445.7 953.738,1445.7 955.783,1445.7 957.829,1445.7 959.874,1445.7 961.92,1445.7 963.965,1445.7 966.011,1445.7 968.056,1445.7 970.101,1445.7 972.147,1445.7 974.192,1445.7 976.238,1445.7 978.283,1445.7 980.329,1445.7 982.374,1445.7 984.419,1445.7 986.465,1445.7 988.51,1445.7 990.556,1445.7 992.601,1445.7 994.647,1445.7 996.692,1445.7 998.738,1445.7 1000.78,1445.71 1002.83,1445.71 1004.87,1445.71 1006.92,1445.71 1008.96,1445.71 1011.01,1445.71 1013.06,1445.71 1015.1,1445.71 1017.15,1445.71 1019.19,1445.71 1021.24,1445.71 1023.28,1445.71 1025.33,1445.71 1027.37,1445.71 1029.42,1445.71 1031.46,1445.71 1033.51,1445.71 1035.56,1445.71 1037.6,1445.71 1039.65,1445.71 1041.69,1445.71 1043.74,1445.71 1045.78,1445.71 1047.83,1445.71 1049.87,1445.71 1051.92,1445.71 1053.96,1445.71 1056.01,1445.71 1058.06,1445.71 1060.1,1445.71 1062.15,1445.71 1064.19,1445.71 1066.24,1445.71 1068.28,1445.71 1070.33,1445.71 1072.37,1445.71 1074.42,1445.71 1076.46,1445.71 1078.51,1445.71 1080.56,1445.71 1082.6,1445.71 1084.65,1445.71 1086.69,1445.71 1088.74,1445.71 1090.78,1445.71 1092.83,1445.71 1094.87,1445.71 1096.92,1445.71 1098.96,1445.71 1101.01,1445.71 1103.05,1445.71 1105.1,1445.71 1107.15,1445.71 1109.19,1445.71 1111.24,1445.71 1113.28,1445.71 1115.33,1445.71 1117.37,1445.71 1119.42,1445.71 1121.46,1445.71 1123.51,1445.71 1125.55,1445.71 1127.6,1445.71 1129.65,1445.71 1131.69,1445.71 1133.74,1445.71 1135.78,1445.71 1137.83,1445.71 1139.87,1445.71 1141.92,1445.71 1143.96,1445.71 1146.01,1445.71 1148.05,1445.71 1150.1,1445.71 1152.15,1445.71 1154.19,1445.71 1156.24,1445.71 1158.28,1445.71 1160.33,1445.71 1162.37,1445.71 1164.42,1445.71 1166.46,1445.71 1168.51,1445.71 1170.55,1445.71 1172.6,1445.71 1174.65,1445.71 1176.69,1445.71 1178.74,1445.71 1180.78,1445.71 1182.83,1445.71 1184.87,1445.71 1186.92,1445.71 1188.96,1445.71 1191.01,1445.71 1193.05,1445.71 1195.1,1445.71 1197.14,1445.71 1199.19,1445.71 1201.24,1445.71 1203.28,1445.71 1205.33,1445.71 1207.37,1445.71 1209.42,1445.71 1211.46,1445.71 1213.51,1445.71 1215.55,1445.71 1217.6,1445.71 1219.64,1445.71 1221.69,1445.71 1223.74,1445.71 1225.78,1445.71 1227.83,1445.71 1229.87,1445.71 1231.92,1445.71 1233.96,1445.71 1236.01,1445.71 1238.05,1445.71 1240.1,1445.71 1242.14,1445.71 1244.19,1445.71 1246.24,1445.71 1248.28,1445.71 1250.33,1445.71 1252.37,1445.71 1254.42,1445.71 1256.46,1445.71 1258.51,1445.71 1260.55,1445.71 1262.6,1445.71 1264.64,1445.71 1266.69,1445.71 1268.74,1445.71 1270.78,1445.71 1272.83,1445.71 1274.87,1445.71 1276.92,1445.71 1278.96,1445.71 1281.01,1445.71 1283.05,1445.71 1285.1,1445.71 1287.14,1445.71 1289.19,1445.71 1291.24,1445.71 1293.28,1445.71 1295.33,1445.71 1297.37,1445.71 1299.42,1445.71 1301.46,1445.71 1303.51,1445.71 1305.55,1445.71 1307.6,1445.71 1309.64,1445.71 1311.69,1445.71 1313.73,1445.71 1315.78,1445.71 1317.83,1445.71 1319.87,1445.71 1321.92,1445.71 1323.96,1445.71 1326.01,1445.71 1328.05,1445.71 1330.1,1445.71 1332.14,1445.71 1334.19,1445.71 1336.23,1445.71 1338.28,1445.71 1340.33,1445.71 1342.37,1445.71 1344.42,1445.71 1346.46,1445.71 1348.51,1445.71 1350.55,1445.71 1352.6,1445.71 1354.64,1445.71 1356.69,1445.71 1358.73,1445.71 1360.78,1445.71 1362.83,1445.71 1364.87,1445.71 1366.92,1445.71 1368.96,1445.71 1371.01,1445.71 1373.05,1445.71 1375.1,1445.71 1377.14,1445.71 1379.19,1445.71 1381.23,1445.71 1383.28,1445.71 1385.33,1445.71 1387.37,1445.71 1389.42,1445.71 1391.46,1445.71 1393.51,1445.71 1395.55,1445.71 1397.6,1445.71 1399.64,1445.71 1401.69,1445.71 1403.73,1445.71 1405.78,1445.71 1407.83,1445.71 1409.87,1445.71 1411.92,1445.71 1413.96,1445.71 1416.01,1445.71 1418.05,1445.71 1420.1,1445.71 1422.14,1445.71 1424.19,1445.71 1426.23,1445.71 1428.28,1445.71 1430.32,1445.71 1432.37,1445.71 1434.42,1445.71 1436.46,1445.71 1438.51,1445.71 1440.55,1445.71 1442.6,1445.71 1444.64,1445.71 1446.69,1445.71 1448.73,1445.71 1450.78,1445.71 1452.82,1445.71 1454.87,1445.71 1456.92,1445.71 1458.96,1445.71 1461.01,1445.71 1463.05,1445.71 1465.1,1445.71 1467.14,1445.71 1469.19,1445.71 1471.23,1445.71 1473.28,1445.71 1475.32,1445.71 1477.37,1445.71 1479.42,1445.71 1481.46,1445.71 1483.51,1445.71 1485.55,1445.71 1487.6,1445.71 1489.64,1445.71 1491.69,1445.71 1493.73,1445.71 1495.78,1445.71 1497.82,1445.71 1499.87,1445.71 1501.92,1445.71 1503.96,1445.71 1506.01,1445.71 1508.05,1445.71 1510.1,1445.71 1512.14,1445.71 1514.19,1445.71 1516.23,1445.71 1518.28,1445.71 1520.32,1445.71 1522.37,1445.71 1524.42,1445.71 1526.46,1445.71 1528.51,1445.71 1530.55,1445.71 1532.6,1445.71 1534.64,1445.71 1536.69,1445.71 1538.73,1445.71 1540.78,1445.71 1542.82,1445.71 1544.87,1445.71 1546.91,1445.71 1548.96,1445.71 1551.01,1445.71 1553.05,1445.71 1555.1,1445.71 1557.14,1445.71 1559.19,1445.71 1561.23,1445.71 1563.28,1445.71 1565.32,1445.71 1567.37,1445.71 1569.41,1445.71 1571.46,1445.71 1573.51,1445.71 1575.55,1445.71 1577.6,1445.71 1579.64,1445.71 1581.69,1445.71 1583.73,1445.71 1585.78,1445.71 1587.82,1445.71 1589.87,1445.71 1591.91,1445.71 1593.96,1445.71 1596.01,1445.71 1598.05,1445.71 1600.1,1445.71 1602.14,1445.71 1604.19,1445.71 1606.23,1445.71 1608.28,1445.71 1610.32,1445.71 1612.37,1445.71 1614.41,1445.71 1616.46,1445.71 1618.51,1445.71 1620.55,1445.71 1622.6,1445.71 1624.64,1445.71 1626.69,1445.71 1628.73,1445.71 1630.78,1445.71 1632.82,1445.71 1634.87,1445.71 1636.91,1445.71 1638.96,1445.71 1641,1445.71 1643.05,1445.71 1645.1,1445.71 1647.14,1445.71 1649.19,1445.71 1651.23,1445.71 1653.28,1445.71 1655.32,1445.71 1657.37,1445.71 1659.41,1445.71 1661.46,1445.71 1663.5,1445.71 1665.55,1445.71 1667.6,1445.71 1669.64,1445.71 1671.69,1445.71 1673.73,1445.71 1675.78,1445.71 1677.82,1445.71 1679.87,1445.71 1681.91,1445.71 1683.96,1445.71 1686,1445.71 1688.05,1445.71 1690.1,1445.71 1692.14,1445.71 1694.19,1445.71 1696.23,1445.71 1698.28,1445.71 1700.32,1445.71 1702.37,1445.71 1704.41,1445.71 1706.46,1445.71 1708.5,1445.71 1710.55,1445.72 1712.6,1445.72 1714.64,1445.72 1716.69,1445.72 1718.73,1445.72 1720.78,1445.72 1722.82,1445.72 1724.87,1445.72 1726.91,1445.72 1728.96,1445.72 1731,1445.72 1733.05,1445.72 1735.1,1445.72 1737.14,1445.72 1739.19,1445.72 1741.23,1445.72 1743.28,1445.72 1745.32,1445.72 1747.37,1445.72 1749.41,1445.72 1751.46,1445.72 1753.5,1445.72 1755.55,1445.72 1757.59,1445.72 1759.64,1445.72 1761.69,1445.72 1763.73,1445.72 1765.78,1445.72 1767.82,1445.72 1769.87,1445.72 1771.91,1445.72 1773.96,1445.72 1776,1445.72 1778.05,1445.72 1780.09,1445.72 1782.14,1445.72 1784.19,1445.72 1786.23,1445.72 1788.28,1445.72 1790.32,1445.72 1792.37,1445.72 1794.41,1445.72 1796.46,1445.72 1798.5,1445.72 1800.55,1445.72 1802.59,1445.72 1804.64,1445.72 1806.69,1445.72 1808.73,1445.72 1810.78,1445.72 1812.82,1445.72 1814.87,1445.72 1816.91,1445.72 1818.96,1445.72 1821,1445.72 1823.05,1445.72 1825.09,1445.72 1827.14,1445.72 1829.19,1445.72 1831.23,1445.72 1833.28,1445.72 1835.32,1445.72 1837.37,1445.72 1839.41,1445.72 1841.46,1445.72 1843.5,1445.72 1845.55,1445.72 1847.59,1445.72 1849.64,1445.72 1851.69,1445.72 1853.73,1445.72 1855.78,1445.72 1857.82,1445.72 1859.87,1445.72 1861.91,1445.72 1863.96,1445.72 1866,1445.72 1868.05,1445.72 1870.09,1445.72 1872.14,1445.72 1874.18,1445.72 1876.23,1445.72 1878.28,1445.72 1880.32,1445.72 1882.37,1445.72 1884.41,1445.72 1886.46,1445.72 1888.5,1445.72 1890.55,1445.72 1892.59,1445.72 1894.64,1445.72 1896.68,1445.72 1898.73,1445.72 1900.78,1445.72 1902.82,1445.72 1904.87,1445.72 1906.91,1445.72 1908.96,1445.72 1911,1445.72 1913.05,1445.72 1915.09,1445.72 1917.14,1445.72 1919.18,1445.72 1921.23,1445.72 1923.28,1445.72 1925.32,1445.72 1927.37,1445.72 1929.41,1445.72 1931.46,1445.72 1933.5,1445.72 1935.55,1445.72 1937.59,1445.72 1939.64,1445.72 1941.68,1445.72 1943.73,1445.72 1945.78,1445.72 1947.82,1445.72 1949.87,1445.72 1951.91,1445.72 1953.96,1445.72 1956,1445.72 1958.05,1445.72 1960.09,1445.72 1962.14,1445.72 1964.18,1445.72 1966.23,1445.72 1968.27,1445.72 1970.32,1445.72 1972.37,1445.72 1974.41,1445.72 1976.46,1445.72 1978.5,1445.72 1980.55,1445.72 1982.59,1445.72 1984.64,1445.72 1986.68,1445.72 1988.73,1445.72 1990.77,1445.72 1992.82,1445.72 1994.87,1445.72 1996.91,1445.72 1998.96,1445.72 2001,1445.72 2003.05,1445.72 2005.09,1445.72 2007.14,1445.72 2009.18,1445.72 2011.23,1445.72 2013.27,1445.72 2015.32,1445.72 2017.37,1445.72 2019.41,1445.72 2021.46,1445.72 2023.5,1445.72 2025.55,1445.72 2027.59,1445.72 2029.64,1445.72 2031.68,1445.72 2033.73,1445.72 2035.77,1445.72 2037.82,1445.72 2039.87,1445.72 2041.91,1445.72 2043.96,1445.72 2046,1445.72 2048.05,1445.72 2050.09,1445.72 2052.14,1445.72 2054.18,1445.72 2056.23,1445.72 2058.27,1445.72 2060.32,1445.72 2062.37,1445.72 2064.41,1445.72 2066.46,1445.72 2068.5,1445.72 2070.55,1445.72 2072.59,1445.72 2074.64,1445.72 2076.68,1445.72 2078.73,1445.72 2080.77,1445.72 2082.82,1445.72 2084.86,1445.72 2086.91,1445.72 2088.96,1445.72 2091,1445.72 2093.05,1445.72 2095.09,1445.72 2097.14,1445.72 2099.18,1445.72 2101.23,1445.72 2103.27,1445.72 2105.32,1445.72 2107.36,1445.72 2109.41,1445.72 2111.46,1445.72 2113.5,1445.72 2115.55,1445.72 2117.59,1445.72 2119.64,1445.72 2121.68,1445.72 2123.73,1445.72 2125.77,1445.72 2127.82,1445.72 2129.86,1445.72 2131.91,1445.72 2133.96,1445.72 2136,1445.72 2138.05,1445.72 2140.09,1445.72 2142.14,1445.72 2144.18,1445.72 2146.23,1445.72 2148.27,1445.72 2150.32,1445.72 2152.36,1445.72 2154.41,1445.72 2156.46,1445.72 2158.5,1445.72 2160.55,1445.72 2162.59,1445.72 2164.64,1445.72 2166.68,1445.72 2168.73,1445.72 2170.77,1445.72 2172.82,1445.72 2174.86,1445.72 2176.91,1445.72 2178.96,1445.72 2181,1445.72 2183.05,1445.72 2185.09,1445.72 2187.14,1445.72 2189.18,1445.72 2191.23,1445.72 2193.27,1445.72 2195.32,1445.72 2197.36,1445.72 2199.41,1445.72 2201.45,1445.72 2203.5,1445.72 2205.55,1445.72 2207.59,1445.72 2209.64,1445.72 2211.68,1445.72 2213.73,1445.72 2215.77,1445.72 2217.82,1445.72 2219.86,1445.72 2221.91,1445.72 2223.95,1445.72 2226,1445.72 2228.05,1445.72 2230.09,1445.72 2232.14,1445.72 2234.18,1445.72 2236.23,1445.72 2238.27,1445.72 2240.32,1445.72 2242.36,1445.72 2244.41,1445.72 2246.45,1445.72 2248.5,1445.72 2250.55,1445.72 2252.59,1445.72 2254.64,1445.72 2256.68,1445.72 2258.73,1445.72 2260.77,1445.72 2262.82,1445.72 2264.86,1445.72 2266.91,1445.72 2268.95,1445.72 2271,1445.72 2273.05,1445.72 2275.09,1445.72 2277.14,1445.72 2279.18,1445.72 2281.23,1445.72 2283.27,1445.72 2285.32,1445.72 2287.36,1445.72 2289.41,1445.72 2291.45,1445.72 \"/>\n<path clip-path=\"url(#clip280)\" d=\"M2011.53 198.898 L2280.56 198.898 L2280.56 95.2176 L2011.53 95.2176  Z\" fill=\"#ffffff\" fill-rule=\"evenodd\" fill-opacity=\"1\"/>\n<polyline clip-path=\"url(#clip280)\" style=\"stroke:#000000; stroke-linecap:round; stroke-linejoin:round; stroke-width:4; stroke-opacity:1; fill:none\" points=\"2011.53,198.898 2280.56,198.898 2280.56,95.2176 2011.53,95.2176 2011.53,198.898 \"/>\n<polyline clip-path=\"url(#clip280)\" style=\"stroke:#009af9; stroke-linecap:round; stroke-linejoin:round; stroke-width:4; stroke-opacity:1; fill:none\" points=\"2035.59,147.058 2179.99,147.058 \"/>\n<path clip-path=\"url(#clip280)\" d=\"M2217.9 166.745 Q2216.1 171.375 2214.38 172.787 Q2212.67 174.199 2209.8 174.199 L2206.4 174.199 L2206.4 170.634 L2208.9 170.634 Q2210.66 170.634 2211.63 169.8 Q2212.6 168.967 2213.78 165.865 L2214.55 163.921 L2204.06 138.412 L2208.57 138.412 L2216.67 158.689 L2224.78 138.412 L2229.29 138.412 L2217.9 166.745 Z\" fill=\"#000000\" fill-rule=\"nonzero\" fill-opacity=\"1\" /><path clip-path=\"url(#clip280)\" d=\"M2236.58 160.402 L2244.22 160.402 L2244.22 134.037 L2235.91 135.703 L2235.91 131.444 L2244.17 129.778 L2248.85 129.778 L2248.85 160.402 L2256.49 160.402 L2256.49 164.338 L2236.58 164.338 L2236.58 160.402 Z\" fill=\"#000000\" fill-rule=\"nonzero\" fill-opacity=\"1\" /></svg>\n",
      "text/html": [
       "<?xml version=\"1.0\" encoding=\"utf-8\"?>\n",
       "<svg xmlns=\"http://www.w3.org/2000/svg\" xmlns:xlink=\"http://www.w3.org/1999/xlink\" width=\"600\" height=\"400\" viewBox=\"0 0 2400 1600\">\n",
       "<defs>\n",
       "  <clipPath id=\"clip330\">\n",
       "    <rect x=\"0\" y=\"0\" width=\"2400\" height=\"1600\"/>\n",
       "  </clipPath>\n",
       "</defs>\n",
       "<path clip-path=\"url(#clip330)\" d=\"M0 1600 L2400 1600 L2400 0 L0 0  Z\" fill=\"#ffffff\" fill-rule=\"evenodd\" fill-opacity=\"1\"/>\n",
       "<defs>\n",
       "  <clipPath id=\"clip331\">\n",
       "    <rect x=\"480\" y=\"0\" width=\"1681\" height=\"1600\"/>\n",
       "  </clipPath>\n",
       "</defs>\n",
       "<path clip-path=\"url(#clip330)\" d=\"M186.76 1486.45 L2352.76 1486.45 L2352.76 47.2441 L186.76 47.2441  Z\" fill=\"#ffffff\" fill-rule=\"evenodd\" fill-opacity=\"1\"/>\n",
       "<defs>\n",
       "  <clipPath id=\"clip332\">\n",
       "    <rect x=\"186\" y=\"47\" width=\"2167\" height=\"1440\"/>\n",
       "  </clipPath>\n",
       "</defs>\n",
       "<polyline clip-path=\"url(#clip332)\" style=\"stroke:#000000; stroke-linecap:round; stroke-linejoin:round; stroke-width:2; stroke-opacity:0.1; fill:none\" points=\"248.062,1486.45 248.062,47.2441 \"/>\n",
       "<polyline clip-path=\"url(#clip332)\" style=\"stroke:#000000; stroke-linecap:round; stroke-linejoin:round; stroke-width:2; stroke-opacity:0.1; fill:none\" points=\"758.91,1486.45 758.91,47.2441 \"/>\n",
       "<polyline clip-path=\"url(#clip332)\" style=\"stroke:#000000; stroke-linecap:round; stroke-linejoin:round; stroke-width:2; stroke-opacity:0.1; fill:none\" points=\"1269.76,1486.45 1269.76,47.2441 \"/>\n",
       "<polyline clip-path=\"url(#clip332)\" style=\"stroke:#000000; stroke-linecap:round; stroke-linejoin:round; stroke-width:2; stroke-opacity:0.1; fill:none\" points=\"1780.61,1486.45 1780.61,47.2441 \"/>\n",
       "<polyline clip-path=\"url(#clip332)\" style=\"stroke:#000000; stroke-linecap:round; stroke-linejoin:round; stroke-width:2; stroke-opacity:0.1; fill:none\" points=\"2291.45,1486.45 2291.45,47.2441 \"/>\n",
       "<polyline clip-path=\"url(#clip330)\" style=\"stroke:#000000; stroke-linecap:round; stroke-linejoin:round; stroke-width:4; stroke-opacity:1; fill:none\" points=\"186.76,1486.45 2352.76,1486.45 \"/>\n",
       "<polyline clip-path=\"url(#clip330)\" style=\"stroke:#000000; stroke-linecap:round; stroke-linejoin:round; stroke-width:4; stroke-opacity:1; fill:none\" points=\"248.062,1486.45 248.062,1467.55 \"/>\n",
       "<polyline clip-path=\"url(#clip330)\" style=\"stroke:#000000; stroke-linecap:round; stroke-linejoin:round; stroke-width:4; stroke-opacity:1; fill:none\" points=\"758.91,1486.45 758.91,1467.55 \"/>\n",
       "<polyline clip-path=\"url(#clip330)\" style=\"stroke:#000000; stroke-linecap:round; stroke-linejoin:round; stroke-width:4; stroke-opacity:1; fill:none\" points=\"1269.76,1486.45 1269.76,1467.55 \"/>\n",
       "<polyline clip-path=\"url(#clip330)\" style=\"stroke:#000000; stroke-linecap:round; stroke-linejoin:round; stroke-width:4; stroke-opacity:1; fill:none\" points=\"1780.61,1486.45 1780.61,1467.55 \"/>\n",
       "<polyline clip-path=\"url(#clip330)\" style=\"stroke:#000000; stroke-linecap:round; stroke-linejoin:round; stroke-width:4; stroke-opacity:1; fill:none\" points=\"2291.45,1486.45 2291.45,1467.55 \"/>\n",
       "<path clip-path=\"url(#clip330)\" d=\"M238.444 1544.91 L246.083 1544.91 L246.083 1518.55 L237.773 1520.21 L237.773 1515.95 L246.036 1514.29 L250.712 1514.29 L250.712 1544.91 L258.351 1544.91 L258.351 1548.85 L238.444 1548.85 L238.444 1544.91 Z\" fill=\"#000000\" fill-rule=\"nonzero\" fill-opacity=\"1\" /><path clip-path=\"url(#clip330)\" d=\"M753.563 1544.91 L769.882 1544.91 L769.882 1548.85 L747.938 1548.85 L747.938 1544.91 Q750.6 1542.16 755.183 1537.53 Q759.79 1532.88 760.97 1531.53 Q763.215 1529.01 764.095 1527.27 Q764.998 1525.51 764.998 1523.82 Q764.998 1521.07 763.053 1519.33 Q761.132 1517.6 758.03 1517.6 Q755.831 1517.6 753.378 1518.36 Q750.947 1519.13 748.169 1520.68 L748.169 1515.95 Q750.993 1514.82 753.447 1514.24 Q755.901 1513.66 757.938 1513.66 Q763.308 1513.66 766.502 1516.35 Q769.697 1519.03 769.697 1523.52 Q769.697 1525.65 768.887 1527.57 Q768.1 1529.47 765.993 1532.07 Q765.415 1532.74 762.313 1535.95 Q759.211 1539.15 753.563 1544.91 Z\" fill=\"#000000\" fill-rule=\"nonzero\" fill-opacity=\"1\" /><path clip-path=\"url(#clip330)\" d=\"M1274.01 1530.21 Q1277.36 1530.93 1279.24 1533.2 Q1281.14 1535.47 1281.14 1538.8 Q1281.14 1543.92 1277.62 1546.72 Q1274.1 1549.52 1267.62 1549.52 Q1265.44 1549.52 1263.13 1549.08 Q1260.83 1548.66 1258.38 1547.81 L1258.38 1543.29 Q1260.33 1544.43 1262.64 1545.01 Q1264.95 1545.58 1267.48 1545.58 Q1271.88 1545.58 1274.17 1543.85 Q1276.48 1542.11 1276.48 1538.8 Q1276.48 1535.75 1274.33 1534.03 Q1272.2 1532.3 1268.38 1532.3 L1264.35 1532.3 L1264.35 1528.45 L1268.57 1528.45 Q1272.01 1528.45 1273.84 1527.09 Q1275.67 1525.7 1275.67 1523.11 Q1275.67 1520.45 1273.77 1519.03 Q1271.9 1517.6 1268.38 1517.6 Q1266.46 1517.6 1264.26 1518.01 Q1262.06 1518.43 1259.42 1519.31 L1259.42 1515.14 Q1262.08 1514.4 1264.4 1514.03 Q1266.74 1513.66 1268.8 1513.66 Q1274.12 1513.66 1277.22 1516.09 Q1280.33 1518.5 1280.33 1522.62 Q1280.33 1525.49 1278.68 1527.48 Q1277.04 1529.45 1274.01 1530.21 Z\" fill=\"#000000\" fill-rule=\"nonzero\" fill-opacity=\"1\" /><path clip-path=\"url(#clip330)\" d=\"M1783.62 1518.36 L1771.81 1536.81 L1783.62 1536.81 L1783.62 1518.36 M1782.39 1514.29 L1788.27 1514.29 L1788.27 1536.81 L1793.2 1536.81 L1793.2 1540.7 L1788.27 1540.7 L1788.27 1548.85 L1783.62 1548.85 L1783.62 1540.7 L1768.01 1540.7 L1768.01 1536.19 L1782.39 1514.29 Z\" fill=\"#000000\" fill-rule=\"nonzero\" fill-opacity=\"1\" /><path clip-path=\"url(#clip330)\" d=\"M2281.73 1514.29 L2300.09 1514.29 L2300.09 1518.22 L2286.01 1518.22 L2286.01 1526.7 Q2287.03 1526.35 2288.05 1526.19 Q2289.07 1526 2290.09 1526 Q2295.88 1526 2299.26 1529.17 Q2302.63 1532.34 2302.63 1537.76 Q2302.63 1543.34 2299.16 1546.44 Q2295.69 1549.52 2289.37 1549.52 Q2287.19 1549.52 2284.93 1549.15 Q2282.68 1548.78 2280.27 1548.04 L2280.27 1543.34 Q2282.36 1544.47 2284.58 1545.03 Q2286.8 1545.58 2289.28 1545.58 Q2293.28 1545.58 2295.62 1543.48 Q2297.96 1541.37 2297.96 1537.76 Q2297.96 1534.15 2295.62 1532.04 Q2293.28 1529.94 2289.28 1529.94 Q2287.4 1529.94 2285.53 1530.35 Q2283.68 1530.77 2281.73 1531.65 L2281.73 1514.29 Z\" fill=\"#000000\" fill-rule=\"nonzero\" fill-opacity=\"1\" /><polyline clip-path=\"url(#clip332)\" style=\"stroke:#000000; stroke-linecap:round; stroke-linejoin:round; stroke-width:2; stroke-opacity:0.1; fill:none\" points=\"186.76,1445.72 2352.76,1445.72 \"/>\n",
       "<polyline clip-path=\"url(#clip332)\" style=\"stroke:#000000; stroke-linecap:round; stroke-linejoin:round; stroke-width:2; stroke-opacity:0.1; fill:none\" points=\"186.76,1157.44 2352.76,1157.44 \"/>\n",
       "<polyline clip-path=\"url(#clip332)\" style=\"stroke:#000000; stroke-linecap:round; stroke-linejoin:round; stroke-width:2; stroke-opacity:0.1; fill:none\" points=\"186.76,869.157 2352.76,869.157 \"/>\n",
       "<polyline clip-path=\"url(#clip332)\" style=\"stroke:#000000; stroke-linecap:round; stroke-linejoin:round; stroke-width:2; stroke-opacity:0.1; fill:none\" points=\"186.76,580.877 2352.76,580.877 \"/>\n",
       "<polyline clip-path=\"url(#clip332)\" style=\"stroke:#000000; stroke-linecap:round; stroke-linejoin:round; stroke-width:2; stroke-opacity:0.1; fill:none\" points=\"186.76,292.598 2352.76,292.598 \"/>\n",
       "<polyline clip-path=\"url(#clip330)\" style=\"stroke:#000000; stroke-linecap:round; stroke-linejoin:round; stroke-width:4; stroke-opacity:1; fill:none\" points=\"186.76,1486.45 186.76,47.2441 \"/>\n",
       "<polyline clip-path=\"url(#clip330)\" style=\"stroke:#000000; stroke-linecap:round; stroke-linejoin:round; stroke-width:4; stroke-opacity:1; fill:none\" points=\"186.76,1445.72 205.658,1445.72 \"/>\n",
       "<polyline clip-path=\"url(#clip330)\" style=\"stroke:#000000; stroke-linecap:round; stroke-linejoin:round; stroke-width:4; stroke-opacity:1; fill:none\" points=\"186.76,1157.44 205.658,1157.44 \"/>\n",
       "<polyline clip-path=\"url(#clip330)\" style=\"stroke:#000000; stroke-linecap:round; stroke-linejoin:round; stroke-width:4; stroke-opacity:1; fill:none\" points=\"186.76,869.157 205.658,869.157 \"/>\n",
       "<polyline clip-path=\"url(#clip330)\" style=\"stroke:#000000; stroke-linecap:round; stroke-linejoin:round; stroke-width:4; stroke-opacity:1; fill:none\" points=\"186.76,580.877 205.658,580.877 \"/>\n",
       "<polyline clip-path=\"url(#clip330)\" style=\"stroke:#000000; stroke-linecap:round; stroke-linejoin:round; stroke-width:4; stroke-opacity:1; fill:none\" points=\"186.76,292.598 205.658,292.598 \"/>\n",
       "<path clip-path=\"url(#clip330)\" d=\"M63.4226 1431.51 Q59.8115 1431.51 57.9828 1435.08 Q56.1773 1438.62 56.1773 1445.75 Q56.1773 1452.86 57.9828 1456.42 Q59.8115 1459.96 63.4226 1459.96 Q67.0569 1459.96 68.8624 1456.42 Q70.6911 1452.86 70.6911 1445.75 Q70.6911 1438.62 68.8624 1435.08 Q67.0569 1431.51 63.4226 1431.51 M63.4226 1427.81 Q69.2328 1427.81 72.2883 1432.42 Q75.367 1437 75.367 1445.75 Q75.367 1454.48 72.2883 1459.08 Q69.2328 1463.67 63.4226 1463.67 Q57.6125 1463.67 54.5338 1459.08 Q51.4782 1454.48 51.4782 1445.75 Q51.4782 1437 54.5338 1432.42 Q57.6125 1427.81 63.4226 1427.81 Z\" fill=\"#000000\" fill-rule=\"nonzero\" fill-opacity=\"1\" /><path clip-path=\"url(#clip330)\" d=\"M83.5845 1457.12 L88.4688 1457.12 L88.4688 1463 L83.5845 1463 L83.5845 1457.12 Z\" fill=\"#000000\" fill-rule=\"nonzero\" fill-opacity=\"1\" /><path clip-path=\"url(#clip330)\" d=\"M108.654 1431.51 Q105.043 1431.51 103.214 1435.08 Q101.409 1438.62 101.409 1445.75 Q101.409 1452.86 103.214 1456.42 Q105.043 1459.96 108.654 1459.96 Q112.288 1459.96 114.094 1456.42 Q115.922 1452.86 115.922 1445.75 Q115.922 1438.62 114.094 1435.08 Q112.288 1431.51 108.654 1431.51 M108.654 1427.81 Q114.464 1427.81 117.52 1432.42 Q120.598 1437 120.598 1445.75 Q120.598 1454.48 117.52 1459.08 Q114.464 1463.67 108.654 1463.67 Q102.844 1463.67 99.765 1459.08 Q96.7095 1454.48 96.7095 1445.75 Q96.7095 1437 99.765 1432.42 Q102.844 1427.81 108.654 1427.81 Z\" fill=\"#000000\" fill-rule=\"nonzero\" fill-opacity=\"1\" /><path clip-path=\"url(#clip330)\" d=\"M138.816 1431.51 Q135.205 1431.51 133.376 1435.08 Q131.57 1438.62 131.57 1445.75 Q131.57 1452.86 133.376 1456.42 Q135.205 1459.96 138.816 1459.96 Q142.45 1459.96 144.256 1456.42 Q146.084 1452.86 146.084 1445.75 Q146.084 1438.62 144.256 1435.08 Q142.45 1431.51 138.816 1431.51 M138.816 1427.81 Q144.626 1427.81 147.681 1432.42 Q150.76 1437 150.76 1445.75 Q150.76 1454.48 147.681 1459.08 Q144.626 1463.67 138.816 1463.67 Q133.006 1463.67 129.927 1459.08 Q126.871 1454.48 126.871 1445.75 Q126.871 1437 129.927 1432.42 Q133.006 1427.81 138.816 1427.81 Z\" fill=\"#000000\" fill-rule=\"nonzero\" fill-opacity=\"1\" /><path clip-path=\"url(#clip330)\" d=\"M64.6495 1143.24 Q61.0384 1143.24 59.2097 1146.8 Q57.4041 1150.34 57.4041 1157.47 Q57.4041 1164.58 59.2097 1168.14 Q61.0384 1171.68 64.6495 1171.68 Q68.2837 1171.68 70.0892 1168.14 Q71.9179 1164.58 71.9179 1157.47 Q71.9179 1150.34 70.0892 1146.8 Q68.2837 1143.24 64.6495 1143.24 M64.6495 1139.53 Q70.4596 1139.53 73.5152 1144.14 Q76.5938 1148.72 76.5938 1157.47 Q76.5938 1166.2 73.5152 1170.8 Q70.4596 1175.39 64.6495 1175.39 Q58.8393 1175.39 55.7606 1170.8 Q52.7051 1166.2 52.7051 1157.47 Q52.7051 1148.72 55.7606 1144.14 Q58.8393 1139.53 64.6495 1139.53 Z\" fill=\"#000000\" fill-rule=\"nonzero\" fill-opacity=\"1\" /><path clip-path=\"url(#clip330)\" d=\"M84.8114 1168.84 L89.6956 1168.84 L89.6956 1174.72 L84.8114 1174.72 L84.8114 1168.84 Z\" fill=\"#000000\" fill-rule=\"nonzero\" fill-opacity=\"1\" /><path clip-path=\"url(#clip330)\" d=\"M109.881 1143.24 Q106.27 1143.24 104.441 1146.8 Q102.635 1150.34 102.635 1157.47 Q102.635 1164.58 104.441 1168.14 Q106.27 1171.68 109.881 1171.68 Q113.515 1171.68 115.32 1168.14 Q117.149 1164.58 117.149 1157.47 Q117.149 1150.34 115.32 1146.8 Q113.515 1143.24 109.881 1143.24 M109.881 1139.53 Q115.691 1139.53 118.746 1144.14 Q121.825 1148.72 121.825 1157.47 Q121.825 1166.2 118.746 1170.8 Q115.691 1175.39 109.881 1175.39 Q104.071 1175.39 100.992 1170.8 Q97.9363 1166.2 97.9363 1157.47 Q97.9363 1148.72 100.992 1144.14 Q104.071 1139.53 109.881 1139.53 Z\" fill=\"#000000\" fill-rule=\"nonzero\" fill-opacity=\"1\" /><path clip-path=\"url(#clip330)\" d=\"M130.853 1170.78 L138.492 1170.78 L138.492 1144.42 L130.182 1146.08 L130.182 1141.82 L138.445 1140.16 L143.121 1140.16 L143.121 1170.78 L150.76 1170.78 L150.76 1174.72 L130.853 1174.72 L130.853 1170.78 Z\" fill=\"#000000\" fill-rule=\"nonzero\" fill-opacity=\"1\" /><path clip-path=\"url(#clip330)\" d=\"M65.0198 854.955 Q61.4087 854.955 59.58 858.52 Q57.7745 862.062 57.7745 869.192 Q57.7745 876.298 59.58 879.863 Q61.4087 883.404 65.0198 883.404 Q68.6541 883.404 70.4596 879.863 Q72.2883 876.298 72.2883 869.192 Q72.2883 862.062 70.4596 858.52 Q68.6541 854.955 65.0198 854.955 M65.0198 851.252 Q70.83 851.252 73.8855 855.858 Q76.9642 860.442 76.9642 869.192 Q76.9642 877.918 73.8855 882.525 Q70.83 887.108 65.0198 887.108 Q59.2097 887.108 56.131 882.525 Q53.0754 877.918 53.0754 869.192 Q53.0754 860.442 56.131 855.858 Q59.2097 851.252 65.0198 851.252 Z\" fill=\"#000000\" fill-rule=\"nonzero\" fill-opacity=\"1\" /><path clip-path=\"url(#clip330)\" d=\"M85.1818 880.557 L90.066 880.557 L90.066 886.437 L85.1818 886.437 L85.1818 880.557 Z\" fill=\"#000000\" fill-rule=\"nonzero\" fill-opacity=\"1\" /><path clip-path=\"url(#clip330)\" d=\"M110.251 854.955 Q106.64 854.955 104.811 858.52 Q103.006 862.062 103.006 869.192 Q103.006 876.298 104.811 879.863 Q106.64 883.404 110.251 883.404 Q113.885 883.404 115.691 879.863 Q117.52 876.298 117.52 869.192 Q117.52 862.062 115.691 858.52 Q113.885 854.955 110.251 854.955 M110.251 851.252 Q116.061 851.252 119.117 855.858 Q122.195 860.442 122.195 869.192 Q122.195 877.918 119.117 882.525 Q116.061 887.108 110.251 887.108 Q104.441 887.108 101.362 882.525 Q98.3067 877.918 98.3067 869.192 Q98.3067 860.442 101.362 855.858 Q104.441 851.252 110.251 851.252 Z\" fill=\"#000000\" fill-rule=\"nonzero\" fill-opacity=\"1\" /><path clip-path=\"url(#clip330)\" d=\"M134.441 882.502 L150.76 882.502 L150.76 886.437 L128.816 886.437 L128.816 882.502 Q131.478 879.747 136.061 875.117 Q140.668 870.465 141.848 869.122 Q144.093 866.599 144.973 864.863 Q145.876 863.104 145.876 861.414 Q145.876 858.659 143.931 856.923 Q142.01 855.187 138.908 855.187 Q136.709 855.187 134.256 855.951 Q131.825 856.715 129.047 858.266 L129.047 853.543 Q131.871 852.409 134.325 851.83 Q136.779 851.252 138.816 851.252 Q144.186 851.252 147.38 853.937 Q150.575 856.622 150.575 861.113 Q150.575 863.242 149.765 865.164 Q148.978 867.062 146.871 869.654 Q146.293 870.326 143.191 873.543 Q140.089 876.738 134.441 882.502 Z\" fill=\"#000000\" fill-rule=\"nonzero\" fill-opacity=\"1\" /><path clip-path=\"url(#clip330)\" d=\"M64.0708 566.676 Q60.4597 566.676 58.631 570.241 Q56.8254 573.782 56.8254 580.912 Q56.8254 588.018 58.631 591.583 Q60.4597 595.125 64.0708 595.125 Q67.705 595.125 69.5105 591.583 Q71.3392 588.018 71.3392 580.912 Q71.3392 573.782 69.5105 570.241 Q67.705 566.676 64.0708 566.676 M64.0708 562.972 Q69.8809 562.972 72.9365 567.579 Q76.0151 572.162 76.0151 580.912 Q76.0151 589.639 72.9365 594.245 Q69.8809 598.828 64.0708 598.828 Q58.2606 598.828 55.1819 594.245 Q52.1264 589.639 52.1264 580.912 Q52.1264 572.162 55.1819 567.579 Q58.2606 562.972 64.0708 562.972 Z\" fill=\"#000000\" fill-rule=\"nonzero\" fill-opacity=\"1\" /><path clip-path=\"url(#clip330)\" d=\"M84.2327 592.278 L89.1169 592.278 L89.1169 598.157 L84.2327 598.157 L84.2327 592.278 Z\" fill=\"#000000\" fill-rule=\"nonzero\" fill-opacity=\"1\" /><path clip-path=\"url(#clip330)\" d=\"M109.302 566.676 Q105.691 566.676 103.862 570.241 Q102.057 573.782 102.057 580.912 Q102.057 588.018 103.862 591.583 Q105.691 595.125 109.302 595.125 Q112.936 595.125 114.742 591.583 Q116.57 588.018 116.57 580.912 Q116.57 573.782 114.742 570.241 Q112.936 566.676 109.302 566.676 M109.302 562.972 Q115.112 562.972 118.168 567.579 Q121.246 572.162 121.246 580.912 Q121.246 589.639 118.168 594.245 Q115.112 598.828 109.302 598.828 Q103.492 598.828 100.413 594.245 Q97.3576 589.639 97.3576 580.912 Q97.3576 572.162 100.413 567.579 Q103.492 562.972 109.302 562.972 Z\" fill=\"#000000\" fill-rule=\"nonzero\" fill-opacity=\"1\" /><path clip-path=\"url(#clip330)\" d=\"M143.631 579.523 Q146.987 580.241 148.862 582.509 Q150.76 584.778 150.76 588.111 Q150.76 593.227 147.242 596.028 Q143.723 598.828 137.242 598.828 Q135.066 598.828 132.751 598.389 Q130.459 597.972 128.006 597.116 L128.006 592.602 Q129.95 593.736 132.265 594.315 Q134.58 594.893 137.103 594.893 Q141.501 594.893 143.793 593.157 Q146.107 591.421 146.107 588.111 Q146.107 585.055 143.955 583.342 Q141.825 581.606 138.006 581.606 L133.978 581.606 L133.978 577.764 L138.191 577.764 Q141.64 577.764 143.468 576.398 Q145.297 575.009 145.297 572.417 Q145.297 569.755 143.399 568.343 Q141.524 566.907 138.006 566.907 Q136.084 566.907 133.885 567.324 Q131.686 567.741 129.047 568.62 L129.047 564.454 Q131.709 563.713 134.024 563.343 Q136.362 562.972 138.422 562.972 Q143.746 562.972 146.848 565.403 Q149.95 567.81 149.95 571.93 Q149.95 574.801 148.306 576.792 Q146.663 578.759 143.631 579.523 Z\" fill=\"#000000\" fill-rule=\"nonzero\" fill-opacity=\"1\" /><path clip-path=\"url(#clip330)\" d=\"M62.9365 278.396 Q59.3254 278.396 57.4967 281.961 Q55.6912 285.503 55.6912 292.632 Q55.6912 299.739 57.4967 303.304 Q59.3254 306.845 62.9365 306.845 Q66.5707 306.845 68.3763 303.304 Q70.205 299.739 70.205 292.632 Q70.205 285.503 68.3763 281.961 Q66.5707 278.396 62.9365 278.396 M62.9365 274.693 Q68.7467 274.693 71.8022 279.299 Q74.8809 283.882 74.8809 292.632 Q74.8809 301.359 71.8022 305.966 Q68.7467 310.549 62.9365 310.549 Q57.1264 310.549 54.0477 305.966 Q50.9921 301.359 50.9921 292.632 Q50.9921 283.882 54.0477 279.299 Q57.1264 274.693 62.9365 274.693 Z\" fill=\"#000000\" fill-rule=\"nonzero\" fill-opacity=\"1\" /><path clip-path=\"url(#clip330)\" d=\"M83.0984 303.998 L87.9827 303.998 L87.9827 309.878 L83.0984 309.878 L83.0984 303.998 Z\" fill=\"#000000\" fill-rule=\"nonzero\" fill-opacity=\"1\" /><path clip-path=\"url(#clip330)\" d=\"M108.168 278.396 Q104.557 278.396 102.728 281.961 Q100.922 285.503 100.922 292.632 Q100.922 299.739 102.728 303.304 Q104.557 306.845 108.168 306.845 Q111.802 306.845 113.608 303.304 Q115.436 299.739 115.436 292.632 Q115.436 285.503 113.608 281.961 Q111.802 278.396 108.168 278.396 M108.168 274.693 Q113.978 274.693 117.033 279.299 Q120.112 283.882 120.112 292.632 Q120.112 301.359 117.033 305.966 Q113.978 310.549 108.168 310.549 Q102.358 310.549 99.2789 305.966 Q96.2234 301.359 96.2234 292.632 Q96.2234 283.882 99.2789 279.299 Q102.358 274.693 108.168 274.693 Z\" fill=\"#000000\" fill-rule=\"nonzero\" fill-opacity=\"1\" /><path clip-path=\"url(#clip330)\" d=\"M141.177 279.392 L129.371 297.841 L141.177 297.841 L141.177 279.392 M139.95 275.318 L145.83 275.318 L145.83 297.841 L150.76 297.841 L150.76 301.73 L145.83 301.73 L145.83 309.878 L141.177 309.878 L141.177 301.73 L125.575 301.73 L125.575 297.216 L139.95 275.318 Z\" fill=\"#000000\" fill-rule=\"nonzero\" fill-opacity=\"1\" /><polyline clip-path=\"url(#clip332)\" style=\"stroke:#009af9; stroke-linecap:round; stroke-linejoin:round; stroke-width:4; stroke-opacity:1; fill:none\" points=\"248.062,87.9763 250.107,181.252 252.153,267.688 254.198,347.866 256.244,422.262 258.289,491.314 260.335,555.426 262.38,614.969 264.425,670.286 266.471,721.69 268.516,769.474 270.562,813.904 272.607,855.228 274.653,893.674 276.698,929.452 278.743,962.758 280.789,993.77 282.834,1022.66 284.88,1049.57 286.925,1074.65 288.971,1098.03 291.016,1119.83 293.062,1140.16 295.107,1159.13 297.152,1176.84 299.198,1193.37 301.243,1208.78 303.289,1223.16 305.334,1236.61 307.38,1249.17 309.425,1260.93 311.47,1271.92 313.516,1282.2 315.561,1291.83 317.607,1300.84 319.652,1309.28 321.698,1317.19 323.743,1324.6 325.789,1331.54 327.834,1338.06 329.879,1344.16 331.925,1349.89 333.97,1355.27 336.016,1360.32 338.061,1365.06 340.107,1369.52 342.152,1373.7 344.197,1377.64 346.243,1381.34 348.288,1384.82 350.334,1388.09 352.379,1391.17 354.425,1394.06 356.47,1396.78 358.516,1399.35 360.561,1401.77 362.606,1404.05 364.652,1406.2 366.697,1408.23 368.743,1410.15 370.788,1411.95 372.834,1413.66 374.879,1415.27 376.924,1416.79 378.97,1418.23 381.015,1419.59 383.061,1420.87 385.106,1422.08 387.152,1423.23 389.197,1424.32 391.243,1425.35 393.288,1426.32 395.333,1427.25 397.379,1428.12 399.424,1428.95 401.47,1429.73 403.515,1430.48 405.561,1431.18 407.606,1431.85 409.651,1432.48 411.697,1433.08 413.742,1433.65 415.788,1434.2 417.833,1434.71 419.879,1435.2 421.924,1435.67 423.97,1436.11 426.015,1436.53 428.06,1436.93 430.106,1437.31 432.151,1437.67 434.197,1438.02 436.242,1438.35 438.288,1438.66 440.333,1438.96 442.378,1439.24 444.424,1439.51 446.469,1439.77 448.515,1440.01 450.56,1440.25 452.606,1440.47 454.651,1440.68 456.697,1440.89 458.742,1441.08 460.787,1441.27 462.833,1441.44 464.878,1441.61 466.924,1441.77 468.969,1441.93 471.015,1442.07 473.06,1442.22 475.105,1442.35 477.151,1442.48 479.196,1442.6 481.242,1442.72 483.287,1442.83 485.333,1442.94 487.378,1443.04 489.424,1443.14 491.469,1443.24 493.514,1443.33 495.56,1443.42 497.605,1443.5 499.651,1443.58 501.696,1443.66 503.742,1443.73 505.787,1443.8 507.832,1443.87 509.878,1443.93 511.923,1444 513.969,1444.06 516.014,1444.11 518.06,1444.17 520.105,1444.22 522.151,1444.27 524.196,1444.32 526.241,1444.37 528.287,1444.42 530.332,1444.46 532.378,1444.5 534.423,1444.54 536.469,1444.58 538.514,1444.62 540.559,1444.65 542.605,1444.69 544.65,1444.72 546.696,1444.75 548.741,1444.78 550.787,1444.81 552.832,1444.84 554.878,1444.87 556.923,1444.9 558.968,1444.92 561.014,1444.95 563.059,1444.97 565.105,1444.99 567.15,1445.01 569.196,1445.04 571.241,1445.06 573.286,1445.08 575.332,1445.1 577.377,1445.11 579.423,1445.13 581.468,1445.15 583.514,1445.17 585.559,1445.18 587.605,1445.2 589.65,1445.21 591.695,1445.23 593.741,1445.24 595.786,1445.25 597.832,1445.27 599.877,1445.28 601.923,1445.29 603.968,1445.3 606.013,1445.32 608.059,1445.33 610.104,1445.34 612.15,1445.35 614.195,1445.36 616.241,1445.37 618.286,1445.38 620.332,1445.39 622.377,1445.39 624.422,1445.4 626.468,1445.41 628.513,1445.42 630.559,1445.43 632.604,1445.43 634.65,1445.44 636.695,1445.45 638.74,1445.46 640.786,1445.46 642.831,1445.47 644.877,1445.48 646.922,1445.48 648.968,1445.49 651.013,1445.49 653.059,1445.5 655.104,1445.5 657.149,1445.51 659.195,1445.51 661.24,1445.52 663.286,1445.52 665.331,1445.53 667.377,1445.53 669.422,1445.54 671.467,1445.54 673.513,1445.55 675.558,1445.55 677.604,1445.55 679.649,1445.56 681.695,1445.56 683.74,1445.57 685.786,1445.57 687.831,1445.57 689.876,1445.58 691.922,1445.58 693.967,1445.58 696.013,1445.58 698.058,1445.59 700.104,1445.59 702.149,1445.59 704.194,1445.6 706.24,1445.6 708.285,1445.6 710.331,1445.6 712.376,1445.61 714.422,1445.61 716.467,1445.61 718.513,1445.61 720.558,1445.62 722.603,1445.62 724.649,1445.62 726.694,1445.62 728.74,1445.62 730.785,1445.63 732.831,1445.63 734.876,1445.63 736.921,1445.63 738.967,1445.63 741.012,1445.63 743.058,1445.64 745.103,1445.64 747.149,1445.64 749.194,1445.64 751.24,1445.64 753.285,1445.64 755.33,1445.65 757.376,1445.65 759.421,1445.65 761.467,1445.65 763.512,1445.65 765.558,1445.65 767.603,1445.65 769.648,1445.65 771.694,1445.66 773.739,1445.66 775.785,1445.66 777.83,1445.66 779.876,1445.66 781.921,1445.66 783.967,1445.66 786.012,1445.66 788.057,1445.66 790.103,1445.66 792.148,1445.67 794.194,1445.67 796.239,1445.67 798.285,1445.67 800.33,1445.67 802.375,1445.67 804.421,1445.67 806.466,1445.67 808.512,1445.67 810.557,1445.67 812.603,1445.67 814.648,1445.67 816.694,1445.68 818.739,1445.68 820.784,1445.68 822.83,1445.68 824.875,1445.68 826.921,1445.68 828.966,1445.68 831.012,1445.68 833.057,1445.68 835.102,1445.68 837.148,1445.68 839.193,1445.68 841.239,1445.68 843.284,1445.68 845.33,1445.68 847.375,1445.68 849.421,1445.69 851.466,1445.69 853.511,1445.69 855.557,1445.69 857.602,1445.69 859.648,1445.69 861.693,1445.69 863.739,1445.69 865.784,1445.69 867.83,1445.69 869.875,1445.69 871.92,1445.69 873.966,1445.69 876.011,1445.69 878.057,1445.69 880.102,1445.69 882.148,1445.69 884.193,1445.69 886.238,1445.69 888.284,1445.69 890.329,1445.69 892.375,1445.69 894.42,1445.69 896.466,1445.69 898.511,1445.69 900.557,1445.69 902.602,1445.7 904.647,1445.7 906.693,1445.7 908.738,1445.7 910.784,1445.7 912.829,1445.7 914.875,1445.7 916.92,1445.7 918.965,1445.7 921.011,1445.7 923.056,1445.7 925.102,1445.7 927.147,1445.7 929.193,1445.7 931.238,1445.7 933.284,1445.7 935.329,1445.7 937.374,1445.7 939.42,1445.7 941.465,1445.7 943.511,1445.7 945.556,1445.7 947.602,1445.7 949.647,1445.7 951.692,1445.7 953.738,1445.7 955.783,1445.7 957.829,1445.7 959.874,1445.7 961.92,1445.7 963.965,1445.7 966.011,1445.7 968.056,1445.7 970.101,1445.7 972.147,1445.7 974.192,1445.7 976.238,1445.7 978.283,1445.7 980.329,1445.7 982.374,1445.7 984.419,1445.7 986.465,1445.7 988.51,1445.7 990.556,1445.7 992.601,1445.7 994.647,1445.7 996.692,1445.7 998.738,1445.7 1000.78,1445.71 1002.83,1445.71 1004.87,1445.71 1006.92,1445.71 1008.96,1445.71 1011.01,1445.71 1013.06,1445.71 1015.1,1445.71 1017.15,1445.71 1019.19,1445.71 1021.24,1445.71 1023.28,1445.71 1025.33,1445.71 1027.37,1445.71 1029.42,1445.71 1031.46,1445.71 1033.51,1445.71 1035.56,1445.71 1037.6,1445.71 1039.65,1445.71 1041.69,1445.71 1043.74,1445.71 1045.78,1445.71 1047.83,1445.71 1049.87,1445.71 1051.92,1445.71 1053.96,1445.71 1056.01,1445.71 1058.06,1445.71 1060.1,1445.71 1062.15,1445.71 1064.19,1445.71 1066.24,1445.71 1068.28,1445.71 1070.33,1445.71 1072.37,1445.71 1074.42,1445.71 1076.46,1445.71 1078.51,1445.71 1080.56,1445.71 1082.6,1445.71 1084.65,1445.71 1086.69,1445.71 1088.74,1445.71 1090.78,1445.71 1092.83,1445.71 1094.87,1445.71 1096.92,1445.71 1098.96,1445.71 1101.01,1445.71 1103.05,1445.71 1105.1,1445.71 1107.15,1445.71 1109.19,1445.71 1111.24,1445.71 1113.28,1445.71 1115.33,1445.71 1117.37,1445.71 1119.42,1445.71 1121.46,1445.71 1123.51,1445.71 1125.55,1445.71 1127.6,1445.71 1129.65,1445.71 1131.69,1445.71 1133.74,1445.71 1135.78,1445.71 1137.83,1445.71 1139.87,1445.71 1141.92,1445.71 1143.96,1445.71 1146.01,1445.71 1148.05,1445.71 1150.1,1445.71 1152.15,1445.71 1154.19,1445.71 1156.24,1445.71 1158.28,1445.71 1160.33,1445.71 1162.37,1445.71 1164.42,1445.71 1166.46,1445.71 1168.51,1445.71 1170.55,1445.71 1172.6,1445.71 1174.65,1445.71 1176.69,1445.71 1178.74,1445.71 1180.78,1445.71 1182.83,1445.71 1184.87,1445.71 1186.92,1445.71 1188.96,1445.71 1191.01,1445.71 1193.05,1445.71 1195.1,1445.71 1197.14,1445.71 1199.19,1445.71 1201.24,1445.71 1203.28,1445.71 1205.33,1445.71 1207.37,1445.71 1209.42,1445.71 1211.46,1445.71 1213.51,1445.71 1215.55,1445.71 1217.6,1445.71 1219.64,1445.71 1221.69,1445.71 1223.74,1445.71 1225.78,1445.71 1227.83,1445.71 1229.87,1445.71 1231.92,1445.71 1233.96,1445.71 1236.01,1445.71 1238.05,1445.71 1240.1,1445.71 1242.14,1445.71 1244.19,1445.71 1246.24,1445.71 1248.28,1445.71 1250.33,1445.71 1252.37,1445.71 1254.42,1445.71 1256.46,1445.71 1258.51,1445.71 1260.55,1445.71 1262.6,1445.71 1264.64,1445.71 1266.69,1445.71 1268.74,1445.71 1270.78,1445.71 1272.83,1445.71 1274.87,1445.71 1276.92,1445.71 1278.96,1445.71 1281.01,1445.71 1283.05,1445.71 1285.1,1445.71 1287.14,1445.71 1289.19,1445.71 1291.24,1445.71 1293.28,1445.71 1295.33,1445.71 1297.37,1445.71 1299.42,1445.71 1301.46,1445.71 1303.51,1445.71 1305.55,1445.71 1307.6,1445.71 1309.64,1445.71 1311.69,1445.71 1313.73,1445.71 1315.78,1445.71 1317.83,1445.71 1319.87,1445.71 1321.92,1445.71 1323.96,1445.71 1326.01,1445.71 1328.05,1445.71 1330.1,1445.71 1332.14,1445.71 1334.19,1445.71 1336.23,1445.71 1338.28,1445.71 1340.33,1445.71 1342.37,1445.71 1344.42,1445.71 1346.46,1445.71 1348.51,1445.71 1350.55,1445.71 1352.6,1445.71 1354.64,1445.71 1356.69,1445.71 1358.73,1445.71 1360.78,1445.71 1362.83,1445.71 1364.87,1445.71 1366.92,1445.71 1368.96,1445.71 1371.01,1445.71 1373.05,1445.71 1375.1,1445.71 1377.14,1445.71 1379.19,1445.71 1381.23,1445.71 1383.28,1445.71 1385.33,1445.71 1387.37,1445.71 1389.42,1445.71 1391.46,1445.71 1393.51,1445.71 1395.55,1445.71 1397.6,1445.71 1399.64,1445.71 1401.69,1445.71 1403.73,1445.71 1405.78,1445.71 1407.83,1445.71 1409.87,1445.71 1411.92,1445.71 1413.96,1445.71 1416.01,1445.71 1418.05,1445.71 1420.1,1445.71 1422.14,1445.71 1424.19,1445.71 1426.23,1445.71 1428.28,1445.71 1430.32,1445.71 1432.37,1445.71 1434.42,1445.71 1436.46,1445.71 1438.51,1445.71 1440.55,1445.71 1442.6,1445.71 1444.64,1445.71 1446.69,1445.71 1448.73,1445.71 1450.78,1445.71 1452.82,1445.71 1454.87,1445.71 1456.92,1445.71 1458.96,1445.71 1461.01,1445.71 1463.05,1445.71 1465.1,1445.71 1467.14,1445.71 1469.19,1445.71 1471.23,1445.71 1473.28,1445.71 1475.32,1445.71 1477.37,1445.71 1479.42,1445.71 1481.46,1445.71 1483.51,1445.71 1485.55,1445.71 1487.6,1445.71 1489.64,1445.71 1491.69,1445.71 1493.73,1445.71 1495.78,1445.71 1497.82,1445.71 1499.87,1445.71 1501.92,1445.71 1503.96,1445.71 1506.01,1445.71 1508.05,1445.71 1510.1,1445.71 1512.14,1445.71 1514.19,1445.71 1516.23,1445.71 1518.28,1445.71 1520.32,1445.71 1522.37,1445.71 1524.42,1445.71 1526.46,1445.71 1528.51,1445.71 1530.55,1445.71 1532.6,1445.71 1534.64,1445.71 1536.69,1445.71 1538.73,1445.71 1540.78,1445.71 1542.82,1445.71 1544.87,1445.71 1546.91,1445.71 1548.96,1445.71 1551.01,1445.71 1553.05,1445.71 1555.1,1445.71 1557.14,1445.71 1559.19,1445.71 1561.23,1445.71 1563.28,1445.71 1565.32,1445.71 1567.37,1445.71 1569.41,1445.71 1571.46,1445.71 1573.51,1445.71 1575.55,1445.71 1577.6,1445.71 1579.64,1445.71 1581.69,1445.71 1583.73,1445.71 1585.78,1445.71 1587.82,1445.71 1589.87,1445.71 1591.91,1445.71 1593.96,1445.71 1596.01,1445.71 1598.05,1445.71 1600.1,1445.71 1602.14,1445.71 1604.19,1445.71 1606.23,1445.71 1608.28,1445.71 1610.32,1445.71 1612.37,1445.71 1614.41,1445.71 1616.46,1445.71 1618.51,1445.71 1620.55,1445.71 1622.6,1445.71 1624.64,1445.71 1626.69,1445.71 1628.73,1445.71 1630.78,1445.71 1632.82,1445.71 1634.87,1445.71 1636.91,1445.71 1638.96,1445.71 1641,1445.71 1643.05,1445.71 1645.1,1445.71 1647.14,1445.71 1649.19,1445.71 1651.23,1445.71 1653.28,1445.71 1655.32,1445.71 1657.37,1445.71 1659.41,1445.71 1661.46,1445.71 1663.5,1445.71 1665.55,1445.71 1667.6,1445.71 1669.64,1445.71 1671.69,1445.71 1673.73,1445.71 1675.78,1445.71 1677.82,1445.71 1679.87,1445.71 1681.91,1445.71 1683.96,1445.71 1686,1445.71 1688.05,1445.71 1690.1,1445.71 1692.14,1445.71 1694.19,1445.71 1696.23,1445.71 1698.28,1445.71 1700.32,1445.71 1702.37,1445.71 1704.41,1445.71 1706.46,1445.71 1708.5,1445.71 1710.55,1445.72 1712.6,1445.72 1714.64,1445.72 1716.69,1445.72 1718.73,1445.72 1720.78,1445.72 1722.82,1445.72 1724.87,1445.72 1726.91,1445.72 1728.96,1445.72 1731,1445.72 1733.05,1445.72 1735.1,1445.72 1737.14,1445.72 1739.19,1445.72 1741.23,1445.72 1743.28,1445.72 1745.32,1445.72 1747.37,1445.72 1749.41,1445.72 1751.46,1445.72 1753.5,1445.72 1755.55,1445.72 1757.59,1445.72 1759.64,1445.72 1761.69,1445.72 1763.73,1445.72 1765.78,1445.72 1767.82,1445.72 1769.87,1445.72 1771.91,1445.72 1773.96,1445.72 1776,1445.72 1778.05,1445.72 1780.09,1445.72 1782.14,1445.72 1784.19,1445.72 1786.23,1445.72 1788.28,1445.72 1790.32,1445.72 1792.37,1445.72 1794.41,1445.72 1796.46,1445.72 1798.5,1445.72 1800.55,1445.72 1802.59,1445.72 1804.64,1445.72 1806.69,1445.72 1808.73,1445.72 1810.78,1445.72 1812.82,1445.72 1814.87,1445.72 1816.91,1445.72 1818.96,1445.72 1821,1445.72 1823.05,1445.72 1825.09,1445.72 1827.14,1445.72 1829.19,1445.72 1831.23,1445.72 1833.28,1445.72 1835.32,1445.72 1837.37,1445.72 1839.41,1445.72 1841.46,1445.72 1843.5,1445.72 1845.55,1445.72 1847.59,1445.72 1849.64,1445.72 1851.69,1445.72 1853.73,1445.72 1855.78,1445.72 1857.82,1445.72 1859.87,1445.72 1861.91,1445.72 1863.96,1445.72 1866,1445.72 1868.05,1445.72 1870.09,1445.72 1872.14,1445.72 1874.18,1445.72 1876.23,1445.72 1878.28,1445.72 1880.32,1445.72 1882.37,1445.72 1884.41,1445.72 1886.46,1445.72 1888.5,1445.72 1890.55,1445.72 1892.59,1445.72 1894.64,1445.72 1896.68,1445.72 1898.73,1445.72 1900.78,1445.72 1902.82,1445.72 1904.87,1445.72 1906.91,1445.72 1908.96,1445.72 1911,1445.72 1913.05,1445.72 1915.09,1445.72 1917.14,1445.72 1919.18,1445.72 1921.23,1445.72 1923.28,1445.72 1925.32,1445.72 1927.37,1445.72 1929.41,1445.72 1931.46,1445.72 1933.5,1445.72 1935.55,1445.72 1937.59,1445.72 1939.64,1445.72 1941.68,1445.72 1943.73,1445.72 1945.78,1445.72 1947.82,1445.72 1949.87,1445.72 1951.91,1445.72 1953.96,1445.72 1956,1445.72 1958.05,1445.72 1960.09,1445.72 1962.14,1445.72 1964.18,1445.72 1966.23,1445.72 1968.27,1445.72 1970.32,1445.72 1972.37,1445.72 1974.41,1445.72 1976.46,1445.72 1978.5,1445.72 1980.55,1445.72 1982.59,1445.72 1984.64,1445.72 1986.68,1445.72 1988.73,1445.72 1990.77,1445.72 1992.82,1445.72 1994.87,1445.72 1996.91,1445.72 1998.96,1445.72 2001,1445.72 2003.05,1445.72 2005.09,1445.72 2007.14,1445.72 2009.18,1445.72 2011.23,1445.72 2013.27,1445.72 2015.32,1445.72 2017.37,1445.72 2019.41,1445.72 2021.46,1445.72 2023.5,1445.72 2025.55,1445.72 2027.59,1445.72 2029.64,1445.72 2031.68,1445.72 2033.73,1445.72 2035.77,1445.72 2037.82,1445.72 2039.87,1445.72 2041.91,1445.72 2043.96,1445.72 2046,1445.72 2048.05,1445.72 2050.09,1445.72 2052.14,1445.72 2054.18,1445.72 2056.23,1445.72 2058.27,1445.72 2060.32,1445.72 2062.37,1445.72 2064.41,1445.72 2066.46,1445.72 2068.5,1445.72 2070.55,1445.72 2072.59,1445.72 2074.64,1445.72 2076.68,1445.72 2078.73,1445.72 2080.77,1445.72 2082.82,1445.72 2084.86,1445.72 2086.91,1445.72 2088.96,1445.72 2091,1445.72 2093.05,1445.72 2095.09,1445.72 2097.14,1445.72 2099.18,1445.72 2101.23,1445.72 2103.27,1445.72 2105.32,1445.72 2107.36,1445.72 2109.41,1445.72 2111.46,1445.72 2113.5,1445.72 2115.55,1445.72 2117.59,1445.72 2119.64,1445.72 2121.68,1445.72 2123.73,1445.72 2125.77,1445.72 2127.82,1445.72 2129.86,1445.72 2131.91,1445.72 2133.96,1445.72 2136,1445.72 2138.05,1445.72 2140.09,1445.72 2142.14,1445.72 2144.18,1445.72 2146.23,1445.72 2148.27,1445.72 2150.32,1445.72 2152.36,1445.72 2154.41,1445.72 2156.46,1445.72 2158.5,1445.72 2160.55,1445.72 2162.59,1445.72 2164.64,1445.72 2166.68,1445.72 2168.73,1445.72 2170.77,1445.72 2172.82,1445.72 2174.86,1445.72 2176.91,1445.72 2178.96,1445.72 2181,1445.72 2183.05,1445.72 2185.09,1445.72 2187.14,1445.72 2189.18,1445.72 2191.23,1445.72 2193.27,1445.72 2195.32,1445.72 2197.36,1445.72 2199.41,1445.72 2201.45,1445.72 2203.5,1445.72 2205.55,1445.72 2207.59,1445.72 2209.64,1445.72 2211.68,1445.72 2213.73,1445.72 2215.77,1445.72 2217.82,1445.72 2219.86,1445.72 2221.91,1445.72 2223.95,1445.72 2226,1445.72 2228.05,1445.72 2230.09,1445.72 2232.14,1445.72 2234.18,1445.72 2236.23,1445.72 2238.27,1445.72 2240.32,1445.72 2242.36,1445.72 2244.41,1445.72 2246.45,1445.72 2248.5,1445.72 2250.55,1445.72 2252.59,1445.72 2254.64,1445.72 2256.68,1445.72 2258.73,1445.72 2260.77,1445.72 2262.82,1445.72 2264.86,1445.72 2266.91,1445.72 2268.95,1445.72 2271,1445.72 2273.05,1445.72 2275.09,1445.72 2277.14,1445.72 2279.18,1445.72 2281.23,1445.72 2283.27,1445.72 2285.32,1445.72 2287.36,1445.72 2289.41,1445.72 2291.45,1445.72 \"/>\n",
       "<path clip-path=\"url(#clip330)\" d=\"M2011.53 198.898 L2280.56 198.898 L2280.56 95.2176 L2011.53 95.2176  Z\" fill=\"#ffffff\" fill-rule=\"evenodd\" fill-opacity=\"1\"/>\n",
       "<polyline clip-path=\"url(#clip330)\" style=\"stroke:#000000; stroke-linecap:round; stroke-linejoin:round; stroke-width:4; stroke-opacity:1; fill:none\" points=\"2011.53,198.898 2280.56,198.898 2280.56,95.2176 2011.53,95.2176 2011.53,198.898 \"/>\n",
       "<polyline clip-path=\"url(#clip330)\" style=\"stroke:#009af9; stroke-linecap:round; stroke-linejoin:round; stroke-width:4; stroke-opacity:1; fill:none\" points=\"2035.59,147.058 2179.99,147.058 \"/>\n",
       "<path clip-path=\"url(#clip330)\" d=\"M2217.9 166.745 Q2216.1 171.375 2214.38 172.787 Q2212.67 174.199 2209.8 174.199 L2206.4 174.199 L2206.4 170.634 L2208.9 170.634 Q2210.66 170.634 2211.63 169.8 Q2212.6 168.967 2213.78 165.865 L2214.55 163.921 L2204.06 138.412 L2208.57 138.412 L2216.67 158.689 L2224.78 138.412 L2229.29 138.412 L2217.9 166.745 Z\" fill=\"#000000\" fill-rule=\"nonzero\" fill-opacity=\"1\" /><path clip-path=\"url(#clip330)\" d=\"M2236.58 160.402 L2244.22 160.402 L2244.22 134.037 L2235.91 135.703 L2235.91 131.444 L2244.17 129.778 L2248.85 129.778 L2248.85 160.402 L2256.49 160.402 L2256.49 164.338 L2236.58 164.338 L2236.58 160.402 Z\" fill=\"#000000\" fill-rule=\"nonzero\" fill-opacity=\"1\" /></svg>\n"
      ]
     },
     "execution_count": 525,
     "metadata": {},
     "output_type": "execute_result"
    }
   ],
   "source": [
    "z0test = 1\n",
    "zseval = range(z0test, 5, 1000)\n",
    "plot(\n",
    "    zseval,\n",
    "    [DSNB_integrand.(1, z0test, zseval, 1, true, \"IO\", \"21\", SNRnorm) .* decaytest.(1, 10^(-25), z0test, zseval)]\n",
    ")"
   ]
  },
  {
   "cell_type": "code",
   "execution_count": 32,
   "metadata": {},
   "outputs": [
    {
     "name": "stdout",
     "output_type": "stream",
     "text": [
      "  200.103 μs (5826 allocations: 92.14 KiB)\n"
     ]
    },
    {
     "data": {
      "text/plain": [
       "1.2833064466885395e-5"
      ]
     },
     "execution_count": 32,
     "metadata": {},
     "output_type": "execute_result"
    }
   ],
   "source": [
    "@btime DSNB_idecay(1, 0, 10^(-24), 1, true, \"IO\", \"21\", SNRnorm)"
   ]
  },
  {
   "cell_type": "code",
   "execution_count": 31,
   "metadata": {},
   "outputs": [
    {
     "name": "stdout",
     "output_type": "stream",
     "text": [
      "  0.000255 seconds (1.79 k allocations: 28.938 KiB)\n"
     ]
    },
    {
     "data": {
      "text/plain": [
       "0.5451731370514598"
      ]
     },
     "execution_count": 31,
     "metadata": {},
     "output_type": "execute_result"
    }
   ],
   "source": [
    "@time DSNB_idecay_test(10, 0, 10^(-27), 1, true, \"IO\", \"21\", SNRnorm)"
   ]
  },
  {
   "cell_type": "code",
   "execution_count": 36,
   "metadata": {},
   "outputs": [
    {
     "name": "stdout",
     "output_type": "stream",
     "text": [
      "  0.000710 seconds (7.27 k allocations: 116.078 KiB)\n"
     ]
    },
    {
     "data": {
      "text/plain": [
       "0.00269849397528066"
      ]
     },
     "execution_count": 36,
     "metadata": {},
     "output_type": "execute_result"
    }
   ],
   "source": [
    "@time DSNB_idecay_1pc(10, 0, 10^(-24), 10^(-24), 10^(-24), true, \"IO\", \"small\", SNRnorm)"
   ]
  },
  {
   "cell_type": "code",
   "execution_count": 11,
   "metadata": {},
   "outputs": [],
   "source": [
    "# Energy spectrum function for SH case\n",
    "function ψSH(Eh, El, hc)\n",
    "    if hc\n",
    "        return 2*El/Eh^2\n",
    "    else\n",
    "        return (2/Eh)*(1-(El/Eh))\n",
    "    end\n",
    "end;"
   ]
  },
  {
   "cell_type": "code",
   "execution_count": 12,
   "metadata": {},
   "outputs": [],
   "source": [
    "# 2ν SH treatment assuming the smallest mass state has a mass of ≈0 (so all channels are SH except for IO ν2 → ν1, which is QD)\n",
    "\n",
    "# We take m_j > m_i\n",
    "function qcontrib_2ν(E, z0, z, j, jbar, i, ibar, αj, ordering, bh_frac, normchoice)\n",
    "\n",
    "    if ordering == \"NO\" && j <= i\n",
    "        return println(\"error: not kinematically allowed\")\n",
    "    elseif ordering == \"IO\" && j == 1 && i == 2\n",
    "        return println(\"error: not kinematically allowed\")\n",
    "    elseif ordering == \"IO\" && j == 3 && i == 1\n",
    "        return println(\"error: not kinematically allowed\")\n",
    "    elseif ordering == \"IO\" && j == 3 && i == 2\n",
    "        return println(\"error: not kinematically allowed\")\n",
    "    elseif ordering == \"IO\" && j == 2 && i == 1\n",
    "        if jbar != ibar\n",
    "            return 0.0\n",
    "        else\n",
    "            Ers = E*(1+z)/(1+z0)\n",
    "            qnorm = 3.086e19 * 1.516e15 * 1e6 / (3e8 * 1e12)\n",
    "            return qnorm * (c0/Hubble(z))*DSNB_idecay(Ers, z, αj, j, jbar, ordering, bh_frac, normchoice) * (αj/Ers)\n",
    "        end\n",
    "    else\n",
    "        if jbar == ibar\n",
    "            hc = true\n",
    "        else\n",
    "            hc = false\n",
    "        end\n",
    "\n",
    "        Ers = E*(1+z)/(1+z0)\n",
    "\n",
    "        qnorm = 3.086e19 * 1.516e15 * 1e6 / (3e8 * 1e12)\n",
    "        integrand(Eprime) = qnorm * (c0/Hubble(z))*DSNB_idecay(Eprime, z, αj, j, jbar, ordering, bh_frac, normchoice) * (αj * 0.5/Eprime) * ψSH(Eprime, Ers, hc)\n",
    "        Emax = Ers + 50\n",
    "\n",
    "        return quadgk(Eprime -> integrand(Eprime), Ers, Emax, rtol=1e-2)[1]\n",
    "    end\n",
    "end\n",
    "\n",
    "function DSNB_vdecay_2ν(E, αj, i, ibar, ordering, bh_frac, normchoice)\n",
    "    if αj == 0\n",
    "        return DSNB_idecay(E, 0, 0, i, ibar, ordering, bh_frac, normchoice)\n",
    "    elseif ordering == \"NO\" && i == 3\n",
    "        return DSNB_idecay(E, 0, αj, i, ibar, \"NO\", bh_frac, normchoice)\n",
    "    elseif ordering == \"IO\" && i == 2\n",
    "        return DSNB_idecay(E, 0, αj, i, ibar, \"IO\", bh_frac, normchoice)\n",
    "    else\n",
    "        # Here, for NO we take ν2 to be stable and for IO we take ν1 to be stable, and we take the lightest mass states to be stable as well\n",
    "        if ordering == \"NO\"\n",
    "            qint = quadgk(z -> (qcontrib_2ν(E, 0, z, 3, false, i, ibar, αj, \"NO\", bh_frac, normchoice)+qcontrib_2ν(E, 0, z, 3, true, i, ibar, αj, \"NO\", bh_frac, normchoice)), 0, 5, rtol=1e-2)[1]\n",
    "        elseif ordering == \"IO\"\n",
    "            qint = quadgk(z -> (qcontrib_2ν(E, 0, z, 2, false, i, ibar, αj, \"IO\", bh_frac, normchoice)+qcontrib_2ν(E, 0, z, 2, true, i, ibar, αj, \"IO\", bh_frac, normchoice)), 0, 5, rtol=1e-2)[1]\n",
    "        else\n",
    "            return println(\"error: ordering takes either 'NO' or 'IO'\")\n",
    "        end\n",
    "        return DSNB_idecay(E, 0, 0, i, ibar, ordering, bh_frac, normchoice) + qint\n",
    "    end\n",
    "end;\n",
    "\n",
    "# Other few cases where the heaviest mass state and lightest mass state are stable, and the middle mass state decays into the lightest mass state\n",
    "function DSNB_vdecay_2ν_alt(E, αj, i, ibar, ordering, bh_frac, normchoice)\n",
    "    if αj == 0\n",
    "        return DSNB_idecay(E, 0, 0, i, ibar, ordering, bh_frac, normchoice)\n",
    "    elseif ordering == \"NO\" && i == 2\n",
    "        return DSNB_idecay(E, 0, αj, i, ibar, \"NO\", bh_frac, normchoice)\n",
    "    elseif ordering == \"IO\" && i == 1\n",
    "        return DSNB_idecay(E, 0, αj, i, ibar, \"IO\", bh_frac, normchoice)\n",
    "    elseif ordering == \"NO\" && i == 3\n",
    "        return DSNB_idecay(E, 0, 0, i, ibar, \"NO\", bh_frac, normchoice)\n",
    "    elseif ordering == \"IO\" && i == 2\n",
    "        return DSNB_idecay(E, 0, 0, i, ibar, \"IO\", bh_frac, normchoice)\n",
    "    else\n",
    "        # Here, for NO we take ν1 to be stable and for IO we take ν2 to be stable, and we take the lightest mass states to be stable as well\n",
    "        if ordering == \"NO\"\n",
    "            qint = quadgk(z -> (qcontrib_2ν(E, 0, z, 2, false, i, ibar, αj, \"NO\", bh_frac, normchoice)+qcontrib_2ν(E, 0, z, 2, true, i, ibar, αj, \"NO\", bh_frac, normchoice)), 0, 5, rtol=1e-2)[1]\n",
    "        elseif ordering == \"IO\"\n",
    "            qint = quadgk(z -> (qcontrib_2ν(E, 0, z, 1, false, i, ibar, αj, \"IO\", bh_frac, normchoice)+qcontrib_2ν(E, 0, z, 1, true, i, ibar, αj, \"IO\", bh_frac, normchoice)), 0, 5, rtol=1e-2)[1]\n",
    "        else\n",
    "            return println(\"error: ordering takes either 'NO' or 'IO'\")\n",
    "        end\n",
    "        return DSNB_idecay(E, 0, 0, i, ibar, ordering, bh_frac, normchoice) + qint\n",
    "    end\n",
    "end\n",
    "\n",
    "# daughter specifies the state the heaviest mass state decays into in our 2ν framework\n",
    "function DSNB_vdecay_2ν_νe(E, α, daughter, ebar, ordering, bh_frac, normchoice)\n",
    "    if ordering == \"NO\"\n",
    "        if daughter == 1\n",
    "            α1, α2, α3 = α, 0.0, α\n",
    "        elseif daughter == 2\n",
    "            α1, α2, α3 = 0.0, α, α\n",
    "        else\n",
    "            return println(\"error: for NO, 'daughter' must be either ν1 or ν2\")\n",
    "        end\n",
    "    elseif ordering == \"IO\"\n",
    "        if daughter == 3\n",
    "            α3, α1, α2 = α, 0.0, α\n",
    "        elseif daughter == 1\n",
    "            α3, α1, α2 = 0.0, α, α\n",
    "        else\n",
    "            return println(\"error: for IO, 'daughter' must be either ν1 or ν3\")\n",
    "        end\n",
    "    else\n",
    "        return println(\"error: ordering must take either 'NO' or 'IO'\")\n",
    "    end\n",
    "    ν3 = DSNB_vdecay_2ν(E, α3, 3, ebar, ordering, bh_frac, normchoice)\n",
    "    ν2 = DSNB_vdecay_2ν(E, α2, 2, ebar, ordering, bh_frac, normchoice)\n",
    "    ν1 = DSNB_vdecay_2ν(E, α1, 1, ebar, ordering, bh_frac, normchoice)\n",
    "    return Usqred(\"NO\")[1, 1]*ν1 + Usqred(\"NO\")[1, 2]*ν2 + Usqred(\"NO\")[1, 3]*ν3\n",
    "end\n",
    "\n",
    "# If we don't specify a daughter, the decay channel is assumed to be from the second lightest to the lightest state\n",
    "function DSNB_vdecay_2ν_νe(E, α, ebar, ordering, bh_frac, normchoice)\n",
    "    if ordering == \"NO\"\n",
    "        α1, α2, α3 = α, α, 0.0\n",
    "    elseif ordering == \"IO\"\n",
    "        α1, α2, α3 = α, 0.0, α\n",
    "    else\n",
    "        return println(\"error: ordering must take either 'NO' or 'IO'\")\n",
    "    end\n",
    "    ν3 = DSNB_vdecay_2ν_alt(E, α3, 3, ebar, ordering, bh_frac, normchoice)\n",
    "    ν2 = DSNB_vdecay_2ν_alt(E, α2, 2, ebar, ordering, bh_frac, normchoice)\n",
    "    ν1 = DSNB_vdecay_2ν_alt(E, α1, 1, ebar, ordering, bh_frac, normchoice)\n",
    "    return Usqred(\"NO\")[1, 1]*ν1 + Usqred(\"NO\")[1, 2]*ν2 + Usqred(\"NO\")[1, 3]*ν3\n",
    "end\n",
    "\n",
    "\n",
    "# Single progenitor versions\n",
    "function qcontrib_2ν_1pc(E, z0, z, j, jbar, i, ibar, αj, ordering, sm, normchoice)\n",
    "\n",
    "    if ordering == \"NO\" && j <= i\n",
    "        return println(\"error: not kinematically allowed\")\n",
    "    elseif ordering == \"IO\" && j == 1 && i == 2\n",
    "        return println(\"error: not kinematically allowed\")\n",
    "    elseif ordering == \"IO\" && j == 3 && i == 1\n",
    "        return println(\"error: not kinematically allowed\")\n",
    "    elseif ordering == \"IO\" && j == 3 && i == 2\n",
    "        return println(\"error: not kinematically allowed\")\n",
    "    elseif ordering == \"IO\" && j == 2 && i == 1\n",
    "        if jbar != ibar\n",
    "            return 0.0\n",
    "        else\n",
    "            Ers = E*(1+z)/(1+z0)\n",
    "            qnorm = 3.086e19 * 1.516e15 * 1e6 / (3e8 * 1e12)\n",
    "            return qnorm * (c0/Hubble(z))*DSNB_idecay_1pc(Ers, z, αj, j, jbar, ordering, sm, normchoice) * (αj/Ers)\n",
    "        end\n",
    "    else\n",
    "        if jbar == ibar\n",
    "            hc = true\n",
    "        else\n",
    "            hc = false\n",
    "        end\n",
    "\n",
    "        Ers = E*(1+z)/(1+z0)\n",
    "\n",
    "        qnorm = 3.086e19 * 1.516e15 * 1e6 / (3e8 * 1e12)\n",
    "        integrand(Eprime) = qnorm * (c0/Hubble(z))*DSNB_idecay_1pc(Eprime, z, αj, j, jbar, ordering, sm, normchoice) * (αj * 0.5/Eprime) * ψSH(Eprime, Ers, hc)\n",
    "        Emax = Ers + 50\n",
    "\n",
    "        return quadgk(Eprime -> integrand(Eprime), Ers, Emax, rtol=1e-2)[1]\n",
    "    end\n",
    "end\n",
    "\n",
    "function DSNB_vdecay_2ν_1pc(E, αj, i, ibar, ordering, sm, normchoice)\n",
    "    if αj == 0\n",
    "        return DSNB_idecay_1pc(E, 0, 0, i, ibar, ordering, sm, normchoice)\n",
    "    elseif ordering == \"NO\" && i == 3\n",
    "        return DSNB_idecay_1pc(E, 0, αj, i, ibar, \"NO\", sm, normchoice)\n",
    "    elseif ordering == \"IO\" && i == 2\n",
    "        return DSNB_idecay_1pc(E, 0, αj, i, ibar, \"IO\", sm, normchoice)\n",
    "    else\n",
    "        # Here, for NO we take ν2 to be stable and for IO we take ν1 to be stable, and we take the lightest mass states to be stable as well\n",
    "        if ordering == \"NO\"\n",
    "            qint = quadgk(z -> (qcontrib_2ν_1pc(E, 0, z, 3, false, i, ibar, αj, \"NO\", sm, normchoice)+qcontrib_2ν_1pc(E, 0, z, 3, true, i, ibar, αj, \"NO\", sm, normchoice)), 0, 5, rtol=1e-2)[1]\n",
    "        elseif ordering == \"IO\"\n",
    "            qint = quadgk(z -> (qcontrib_2ν_1pc(E, 0, z, 2, false, i, ibar, αj, \"IO\", sm, normchoice)+qcontrib_2ν_1pc(E, 0, z, 2, true, i, ibar, αj, \"IO\", sm, normchoice)), 0, 5, rtol=1e-2)[1]\n",
    "        else\n",
    "            return println(\"error: ordering takes either 'NO' or 'IO'\")\n",
    "        end\n",
    "        return DSNB_idecay_1pc(E, 0, 0, i, ibar, ordering, sm, normchoice) + qint\n",
    "    end\n",
    "end;\n",
    "\n",
    "# Other few cases where the heaviest mass state and lightest mass state are stable, and the middle mass state decays into the lightest mass state\n",
    "function DSNB_vdecay_2ν_alt_1pc(E, αj, i, ibar, ordering, sm, normchoice)\n",
    "    if αj == 0\n",
    "        return DSNB_idecay_1pc(E, 0, 0, i, ibar, ordering, sm, normchoice)\n",
    "    elseif ordering == \"NO\" && i == 2\n",
    "        return DSNB_idecay_1pc(E, 0, αj, i, ibar, \"NO\", sm, normchoice)\n",
    "    elseif ordering == \"IO\" && i == 1\n",
    "        return DSNB_idecay_1pc(E, 0, αj, i, ibar, \"IO\", sm, normchoice)\n",
    "    elseif ordering == \"NO\" && i == 3\n",
    "        return DSNB_idecay_1pc(E, 0, 0, i, ibar, \"NO\", sm, normchoice)\n",
    "    elseif ordering == \"IO\" && i == 2\n",
    "        return DSNB_idecay_1pc(E, 0, 0, i, ibar, \"IO\", sm, normchoice)\n",
    "    else\n",
    "        # Here, for NO we take ν1 to be stable and for IO we take ν2 to be stable, and we take the lightest mass states to be stable as well\n",
    "        if ordering == \"NO\"\n",
    "            qint = quadgk(z -> (qcontrib_2ν_1pc(E, 0, z, 2, false, i, ibar, αj, \"NO\", sm, normchoice)+qcontrib_2ν_1pc(E, 0, z, 2, true, i, ibar, αj, \"NO\", sm, normchoice)), 0, 5, rtol=1e-2)[1]\n",
    "        elseif ordering == \"IO\"\n",
    "            qint = quadgk(z -> (qcontrib_2ν_1pc(E, 0, z, 1, false, i, ibar, αj, \"IO\", sm, normchoice)+qcontrib_2ν_1pc(E, 0, z, 1, true, i, ibar, αj, \"IO\", sm, normchoice)), 0, 5, rtol=1e-2)[1]\n",
    "        else\n",
    "            return println(\"error: ordering takes either 'NO' or 'IO'\")\n",
    "        end\n",
    "        return DSNB_idecay_1pc(E, 0, 0, i, ibar, ordering, sm, normchoice) + qint\n",
    "    end\n",
    "end\n",
    "\n",
    "# daughter specifies the state the heaviest mass state decays into in our 2ν framework\n",
    "function DSNB_vdecay_2ν_νe_1pc(E, α, daughter, ebar, ordering, sm, normchoice)\n",
    "    if ordering == \"NO\"\n",
    "        if daughter == 1\n",
    "            α1, α2, α3 = α, 0.0, α\n",
    "        elseif daughter == 2\n",
    "            α1, α2, α3 = 0.0, α, α\n",
    "        else\n",
    "            return println(\"error: for NO, 'daughter' must be either ν1 or ν2\")\n",
    "        end\n",
    "    elseif ordering == \"IO\"\n",
    "        if daughter == 3\n",
    "            α3, α1, α2 = α, 0.0, α\n",
    "        elseif daughter == 1\n",
    "            α3, α1, α2 = 0.0, α, α\n",
    "        else\n",
    "            return println(\"error: for IO, 'daughter' must be either ν1 or ν3\")\n",
    "        end\n",
    "    else\n",
    "        return println(\"error: ordering must take either 'NO' or 'IO'\")\n",
    "    end\n",
    "    ν3 = DSNB_vdecay_2ν_1pc(E, α3, 3, ebar, ordering, sm, normchoice)\n",
    "    ν2 = DSNB_vdecay_2ν_1pc(E, α2, 2, ebar, ordering, sm, normchoice)\n",
    "    ν1 = DSNB_vdecay_2ν_1pc(E, α1, 1, ebar, ordering, sm, normchoice)\n",
    "    return Usqred(\"NO\")[1, 1]*ν1 + Usqred(\"NO\")[1, 2]*ν2 + Usqred(\"NO\")[1, 3]*ν3\n",
    "end\n",
    "\n",
    "# If we don't specify a daughter, the decay channel is assumed to be from the second lightest to the lightest state\n",
    "function DSNB_vdecay_2ν_νe_1pc(E, α, ebar, ordering, sm, normchoice)\n",
    "    if ordering == \"NO\"\n",
    "        α1, α2, α3 = α, α, 0.0\n",
    "    elseif ordering == \"IO\"\n",
    "        α1, α2, α3 = α, 0.0, α\n",
    "    else\n",
    "        return println(\"error: ordering must take either 'NO' or 'IO'\")\n",
    "    end\n",
    "    ν3 = DSNB_vdecay_2ν_alt_1pc(E, α3, 3, ebar, ordering, sm, normchoice)\n",
    "    ν2 = DSNB_vdecay_2ν_alt_1pc(E, α2, 2, ebar, ordering, sm, normchoice)\n",
    "    ν1 = DSNB_vdecay_2ν_alt_1pc(E, α1, 1, ebar, ordering, sm, normchoice)\n",
    "    return Usqred(\"NO\")[1, 1]*ν1 + Usqred(\"NO\")[1, 2]*ν2 + Usqred(\"NO\")[1, 3]*ν3\n",
    "end;"
   ]
  },
  {
   "cell_type": "code",
   "execution_count": 52,
   "metadata": {},
   "outputs": [
    {
     "name": "stdout",
     "output_type": "stream",
     "text": [
      "  0.020845 seconds (285.98 k allocations: 4.540 MiB)\n"
     ]
    },
    {
     "data": {
      "text/plain": [
       "0.48179810478336715"
      ]
     },
     "execution_count": 52,
     "metadata": {},
     "output_type": "execute_result"
    }
   ],
   "source": [
    "@time DSNB_vdecay_2ν_νe_1pc(10, 10^(-26), true, \"NO\", \"small\", SNRnorm)"
   ]
  },
  {
   "cell_type": "code",
   "execution_count": 10,
   "metadata": {},
   "outputs": [],
   "source": [
    "# Trying to use HCubature to speed up the double integral\n",
    "#=\n",
    "using HCubature\n",
    "function DSNB_vdecay_2ν_IO_2to3_1pc_hcube(E, α2, threebar, sm, normchoice)\n",
    "    if threebar == true\n",
    "        hcs = [true, false]\n",
    "    else\n",
    "        hcs = [false, true]\n",
    "    end\n",
    "    qnorm = 3.086e19 * 1.516e15 * 1e6 / (3e8 * 1e12)\n",
    "    integrand(z, u) = (1+z) * qnorm * (c0/Hubble(z)) * (α2 * 0.5/(u*(1+z))) * (DSNB_idecay_1pc(u*(1+z), z, α2, 2, true, \"IO\", sm, normchoice)*ψSH(u*(1+z), E*(1+z), hcs[1])\n",
    "        + DSNB_idecay_1pc(u*(1+z), z, α2, 2, false, \"IO\", sm, normchoice)*ψSH(u*(1+z), E*(1+z), hcs[2]))\n",
    "    return hcubature(x -> integrand(x[1], x[2]), [0, E], [5, E+50], rtol=1e-2)[1] + DSNB_idecay_1pc(E, 0, 0, 3, threebar, \"IO\", sm, SNRnorm)\n",
    "end\n",
    "=#"
   ]
  },
  {
   "cell_type": "code",
   "execution_count": 13,
   "metadata": {},
   "outputs": [],
   "source": [
    "# 3ν NO SH treatment\n",
    "\n",
    "function branch_3ν_NO(j, i)\n",
    "    if j == 3\n",
    "        return 0.25\n",
    "    elseif j == 2\n",
    "        return 0.5\n",
    "    else\n",
    "        return println(\"error: j is not a valid index\")\n",
    "    end\n",
    "end\n",
    "\n",
    "function DSNB_vdecay_3_NO(E, z0, α3, threebar, bh_frac, normchoice)\n",
    "    function decay_integrand(E, z0, z, α3, threebar, bh_frac, normchoice)\n",
    "        if α3 == 0\n",
    "            return DSNB_integrand(E, z0, z, 3, threebar, \"NO\", bh_frac, normchoice)\n",
    "        else\n",
    "            int = DSNB_integrand(E, z0, z, 3, threebar, \"NO\", bh_frac, normchoice)*decay(E, α3, z0, z) \n",
    "            if isnan(int) || isinf(int)\n",
    "                return 0.0\n",
    "            else\n",
    "                return int\n",
    "            end\n",
    "        end\n",
    "    end\n",
    "    return 1/(1+z0) * quadgk(z -> decay_integrand(E, z0, z, α3, threebar, bh_frac, normchoice), z0, 5, rtol=1e-2)[1]\n",
    "end\n",
    "\n",
    "function q3icontrib_NO(E, z0, z, α3, threebar, i, ibar, bh_frac, normchoice)\n",
    "    if threebar == ibar\n",
    "        hc = true\n",
    "    else\n",
    "        hc = false\n",
    "    end\n",
    "\n",
    "    Ers = E*(1+z)/(1+z0)\n",
    "\n",
    "    qnorm = 3.086e19 * 1.516e15 * 1e6 / (3e8 * 1e12)\n",
    "    integrand(Eprime, z) = qnorm * (c0/Hubble(z))*DSNB_vdecay_3_NO(Eprime, z, α3, threebar, bh_frac, normchoice) * (α3 * branch_3ν_NO(3, i)/Eprime) * ψSH(Eprime, Ers, hc)\n",
    "    \n",
    "    Emax = Ers + 50\n",
    "\n",
    "    return quadgk(Eprime -> integrand(Eprime, z), Ers, Emax, rtol=1e-2)[1]\n",
    "\n",
    "end\n",
    "\n",
    "function DSNB_vdecay_2_NO(E, z0, α3, α2, twobar, bh_frac, normchoice)\n",
    "    integrand(z) = (DSNB_integrand(E, z0, z, 2, twobar, \"NO\", bh_frac, normchoice) +\n",
    "                          q3icontrib_NO(E, z0, z, α3, true, 2, twobar, bh_frac, normchoice) + q3icontrib_NO(E, z0, z, α3, false, 2, twobar, bh_frac, normchoice))*decay(E, α2, z0, z)\n",
    "    return (1/(1+z0)) * quadgk(z -> integrand(z), z0, 5, rtol=1e-2)[1]\n",
    "end\n",
    "\n",
    "function q21contrib_NO(E, z0, z, α3, α2, twobar, onebar, bh_frac, normchoice)\n",
    "    if twobar == onebar\n",
    "        hc = true\n",
    "    else\n",
    "        hc = false\n",
    "    end\n",
    "\n",
    "    Ers = E*(1+z)/(1+z0)\n",
    "\n",
    "    qnorm = 3.086e19 * 1.516e15 * 1e6 / (3e8 * 1e12)\n",
    "    integrand(Eprime, z) = qnorm * (c0/Hubble(z))*DSNB_vdecay_2_NO(Eprime, z, α3, α2, twobar, bh_frac, normchoice) * (α2 * branch_3ν_NO(2, 1)/Eprime) * ψSH(Eprime, Ers, hc)\n",
    "    \n",
    "    Emax = Ers + 50\n",
    "\n",
    "    return quadgk(Eprime -> integrand(Eprime, z), Ers, Emax, rtol=1e-2)[1]\n",
    "\n",
    "end\n",
    "\n",
    "# z0 is always 0 here because we're only concerned with the flux at Earth\n",
    "function DSNB_vdecay_1_NO(E, α3, α2, onebar, bh_frac, normchoice)\n",
    "    integrand(z) = (DSNB_integrand(E, 0, z, 1, onebar, \"NO\", bh_frac, normchoice)\n",
    "                    + q21contrib_NO(E, 0, z, α3, α2, true, onebar, bh_frac, normchoice)\n",
    "                    + q21contrib_NO(E, 0, z, α3, α2, false, onebar, bh_frac, normchoice)\n",
    "                    + q3icontrib_NO(E, 0, z, α3, true, 1, onebar, bh_frac, normchoice)\n",
    "                    + q3icontrib_NO(E, 0, z, α3, false, 1, onebar, bh_frac, normchoice))\n",
    "    return quadgk(z -> integrand(z), 0, 5, rtol=1e-2)[1]\n",
    "end\n",
    "\n",
    "function DSNB_vdecay_3ν_νe_NO(E, α3, α2, nubar, bh_frac, normchoice)\n",
    "    ν3 = DSNB_vdecay_3_NO(E, 0, α3, nubar, bh_frac, normchoice)\n",
    "    ν2 = DSNB_vdecay_2_NO(E, 0, α3, α2, nubar, bh_frac, normchoice)\n",
    "    ν1 = DSNB_vdecay_1_NO(E, α3, α2, nubar, bh_frac, normchoice)\n",
    "    return Usqred(\"NO\")[1, 1]*ν1 + Usqred(\"NO\")[1, 2]*ν2 + Usqred(\"NO\")[1, 3]*ν3\n",
    "end;  "
   ]
  },
  {
   "cell_type": "code",
   "execution_count": 84,
   "metadata": {},
   "outputs": [
    {
     "name": "stdout",
     "output_type": "stream",
     "text": [
      "400.822085 seconds (7.25 G allocations: 110.824 GiB, 8.47% gc time, 2.54% compilation time)\n"
     ]
    },
    {
     "data": {
      "text/plain": [
       "8.44135630458028"
      ]
     },
     "execution_count": 84,
     "metadata": {},
     "output_type": "execute_result"
    }
   ],
   "source": [
    "@time DSNB_vdecay_1_NO(1, 10^(-24), 10^(-24), true, \"21\", SNRnorm)"
   ]
  },
  {
   "cell_type": "code",
   "execution_count": 59,
   "metadata": {},
   "outputs": [
    {
     "name": "stdout",
     "output_type": "stream",
     "text": [
      "  0.004224 seconds (43.40 k allocations: 690.000 KiB)\n"
     ]
    },
    {
     "data": {
      "text/plain": [
       "0.047070546344859396"
      ]
     },
     "execution_count": 59,
     "metadata": {},
     "output_type": "execute_result"
    }
   ],
   "source": [
    "@time q3icontrib_NO(1, 0.1, 0.2, 10^(-24), true, 2, true, \"21\", SNRnorm)"
   ]
  },
  {
   "cell_type": "code",
   "execution_count": 76,
   "metadata": {},
   "outputs": [
    {
     "name": "stdout",
     "output_type": "stream",
     "text": [
      "  0.297391 seconds (5.15 M allocations: 80.585 MiB, 7.91% gc time)\n"
     ]
    },
    {
     "data": {
      "text/plain": [
       "0.005133702035382023"
      ]
     },
     "execution_count": 76,
     "metadata": {},
     "output_type": "execute_result"
    }
   ],
   "source": [
    "@time DSNB_vdecay_2_NO(10, 0.1, 10^(-24), 10^(-24), true, \"21\", SNRnorm)"
   ]
  },
  {
   "cell_type": "code",
   "execution_count": 83,
   "metadata": {},
   "outputs": [
    {
     "name": "stdout",
     "output_type": "stream",
     "text": [
      " 23.498237 seconds (444.97 M allocations: 6.776 GiB, 14.25% gc time)\n"
     ]
    },
    {
     "data": {
      "text/plain": [
       "0.36047986830227596"
      ]
     },
     "execution_count": 83,
     "metadata": {},
     "output_type": "execute_result"
    }
   ],
   "source": [
    "@time q21contrib_NO(1, 0.1, 0.2, 10^(-24), 10^(-24), true, true, \"21\", SNRnorm)"
   ]
  },
  {
   "cell_type": "code",
   "execution_count": null,
   "metadata": {},
   "outputs": [],
   "source": [
    "es_dsnb = range(0.01, 40, 100);"
   ]
  },
  {
   "cell_type": "code",
   "execution_count": null,
   "metadata": {},
   "outputs": [],
   "source": [
    "dsnb_vdecay_NO_1 = DSNB_vdecay_3ν_νe_NO(E, α3, α2, nubar, bh_frac, normchoice)"
   ]
  },
  {
   "cell_type": "code",
   "execution_count": 15,
   "metadata": {},
   "outputs": [
    {
     "name": "stdout",
     "output_type": "stream",
     "text": [
      "500.684965 seconds (7.24 G allocations: 110.334 GiB, 10.31% gc time)\n"
     ]
    },
    {
     "data": {
      "text/plain": [
       "8.44135630458028"
      ]
     },
     "execution_count": 15,
     "metadata": {},
     "output_type": "execute_result"
    }
   ],
   "source": [
    "@time DSNB_vdecay_1_NO(1, 10^(-24), 10^(-24), true, \"21\", SNRnorm)"
   ]
  },
  {
   "cell_type": "code",
   "execution_count": 16,
   "metadata": {},
   "outputs": [
    {
     "name": "stdout",
     "output_type": "stream",
     "text": [
      "515.944643 seconds (7.26 G allocations: 110.567 GiB, 10.40% gc time)\n"
     ]
    },
    {
     "data": {
      "text/plain": [
       "5.634062428462369"
      ]
     },
     "execution_count": 16,
     "metadata": {},
     "output_type": "execute_result"
    }
   ],
   "source": [
    "@time DSNB_vdecay_3ν_νe_NO(1, 10^(-24), 10^(-24), true, \"21\", SNRnorm)"
   ]
  },
  {
   "cell_type": "code",
   "execution_count": 299,
   "metadata": {},
   "outputs": [
    {
     "name": "stdout",
     "output_type": "stream",
     "text": [
      "349.165829 seconds (4.54 G allocations: 68.988 GiB, 12.24% gc time, 0.09% compilation time)\n"
     ]
    },
    {
     "data": {
      "text/plain": [
       "0.5746870673894012"
      ]
     },
     "execution_count": 299,
     "metadata": {},
     "output_type": "execute_result"
    }
   ],
   "source": [
    "@time DSNB_vdecay_3ν_νe_NO(10, 10^(-25), 10^(-25), true, \"21\", SNRnorm)"
   ]
  },
  {
   "cell_type": "code",
   "execution_count": 304,
   "metadata": {},
   "outputs": [
    {
     "data": {
      "text/plain": [
       "6.944444444444444"
      ]
     },
     "execution_count": 304,
     "metadata": {},
     "output_type": "execute_result"
    }
   ],
   "source": [
    "10000/60/24"
   ]
  },
  {
   "cell_type": "code",
   "execution_count": 301,
   "metadata": {},
   "outputs": [
    {
     "data": {
      "text/plain": [
       "6.5875"
      ]
     },
     "execution_count": 301,
     "metadata": {},
     "output_type": "execute_result"
    }
   ],
   "source": [
    "527*0.75 / 60"
   ]
  },
  {
   "cell_type": "code",
   "execution_count": 293,
   "metadata": {},
   "outputs": [
    {
     "name": "stdout",
     "output_type": "stream",
     "text": [
      " 69.107062 seconds (901.97 M allocations: 13.762 GiB, 12.01% gc time)\n"
     ]
    },
    {
     "data": {
      "text/plain": [
       "8.14333841213382"
      ]
     },
     "execution_count": 293,
     "metadata": {},
     "output_type": "execute_result"
    }
   ],
   "source": [
    "@time DSNB_vdecay_1_NO(1, 10^(-25), 10^(-25), true, \"21\", SNRnorm)"
   ]
  },
  {
   "cell_type": "code",
   "execution_count": 14,
   "metadata": {},
   "outputs": [],
   "source": [
    "# 3ν IO treatment (2 → 1 QD, 2/1 → 3 SH)\n",
    "\n",
    "# Case A\n",
    "# ν2 → ν1, ν2 → ν3, no ν1 → ν3:\n",
    "# B_21 = 0.5 (no hf), B_23 = 0.25, B_13 = 0\n",
    "# NB: here if we want to only consider visible decays, we should set α1 to 0 always\n",
    "\n",
    "# Case B\n",
    "# ν2 → ν1, ν1 → ν3, no ν2 → ν3:\n",
    "# B_21 = 1 (no hf), B_13 = 0.5, B_23 = 0\n",
    "\n",
    "# Case C\n",
    "# ν2 → ν3, ν1 → ν3, no ν2 → ν1\n",
    "# B_23 = 0.5, B_13 = 0.5, B_21 = 0\n",
    "\n",
    "# Democratic\n",
    "# ν2 → ν3, ν1 → ν3, ν2 → ν1\n",
    "# B_21 = B_23 = 1/3, B_13 = 0.5\n",
    "\n",
    "# Note: supposing validity of SH and QD approximations, branching ratios are set in B and C\n",
    "\n",
    "function branching_3ν(casechoice, j, jbar, i, ibar)\n",
    "    if casechoice == \"A\"\n",
    "        if j == 2 && i == 1 && jbar == ibar\n",
    "            return 0.5\n",
    "        elseif j == 2 && i == 3\n",
    "            return 0.25\n",
    "        else\n",
    "            return 0.0\n",
    "        end\n",
    "    elseif casechoice == \"B\"\n",
    "        if j == 2 && i == 1 && jbar == ibar\n",
    "            return 1.0\n",
    "        elseif j == 1 && i == 3\n",
    "            return 0.5\n",
    "        else \n",
    "            return 0.0\n",
    "        end\n",
    "    elseif casechoice == \"C\"\n",
    "        if j == 2 && i == 3\n",
    "            return 0.5\n",
    "        elseif j == 1 && i == 3\n",
    "            return 0.5\n",
    "        else\n",
    "            return 0.0\n",
    "        end\n",
    "    elseif casechoice == \"democratic\"\n",
    "        if (j == 2 && i == 1 && jbar == ibar) || (j == 2 && i == 3)\n",
    "            return 1/3\n",
    "        elseif j == 1 && i == 3\n",
    "            return 0.5\n",
    "        else\n",
    "            return 0.0\n",
    "        end\n",
    "    else\n",
    "        return 0.0\n",
    "    end\n",
    "end\n",
    "\n",
    "function DSNB_vdecay_2_IO(E, z0, α2, twobar, bh_frac, normchoice)\n",
    "    function decay_integrand(E, z0, z, α2, twobar, bh_frac, normchoice)\n",
    "        if α2 == 0\n",
    "            return DSNB_integrand(E, z0, z, 2, twobar, \"IO\", bh_frac, normchoice)\n",
    "        else\n",
    "            int = DSNB_integrand(E, z0, z, 2, twobar, \"IO\", bh_frac, normchoice)*decay(E, α2, z0, z) \n",
    "            if isnan(int) || isinf(int)\n",
    "                return 0.0\n",
    "            else\n",
    "                return int\n",
    "            end\n",
    "        end\n",
    "    end\n",
    "    return 1/(1+z0) * quadgk(z -> decay_integrand(E, z0, z, α2, twobar, bh_frac, normchoice), z0, 5, rtol=1e-2)[1]\n",
    "end\n",
    "\n",
    "function q21contrib_IO(E, z0, z, α2, nubar, casechoice, bh_frac, normchoice)\n",
    "\n",
    "    Ers = E*(1+z)/(1+z0)\n",
    "\n",
    "    qnorm = 3.086e19 * 1.516e15 * 1e6 / (3e8 * 1e12)\n",
    "    return qnorm * (c0/Hubble(z)) * DSNB_vdecay_2_IO(Ers, z, α2, nubar, bh_frac, normchoice) * (α2 * branching_3ν(casechoice, 2, nubar, 1, nubar)/Ers)\n",
    "end\n",
    "\n",
    "function DSNB_vdecay_1_IO(E, z0, α2, α1, nubar, casechoice, bh_frac, normchoice)\n",
    "    if casechoice == \"A\"\n",
    "        α1 = 0\n",
    "    end\n",
    "    integrand(z) = (DSNB_integrand(E, z0, z, 1, nubar, \"IO\", bh_frac, normchoice) +\n",
    "                        q21contrib_IO(E, z0, z, α2, nubar, casechoice, bh_frac, normchoice))*decay(E, α1, z0, z)\n",
    "    return (1/(1+z0)) * quadgk(z -> integrand(z), z0, 5, rtol=1e-2)[1]\n",
    "end\n",
    "\n",
    "function q23contrib_IO(E, z0, z, α2, twobar, threebar, casechoice, bh_frac, normchoice)\n",
    "\n",
    "    if twobar == threebar\n",
    "        hc = true\n",
    "    else\n",
    "        hc = false\n",
    "    end\n",
    "\n",
    "    Ers = E*(1+z)/(1+z0)\n",
    "\n",
    "    qnorm = 3.086e19 * 1.516e15 * 1e6 / (3e8 * 1e12)\n",
    "    integrand(Eprime, z) = qnorm * (c0/Hubble(z))*DSNB_vdecay_2_IO(Eprime, z, α2, twobar, bh_frac, normchoice) * (α2 * branching_3ν(casechoice, 2, twobar, 3, threebar)/Eprime) * ψSH(Eprime, Ers, hc)\n",
    "\n",
    "    Emax = Ers + 50\n",
    "    return quadgk(Eprime -> integrand(Eprime, z), Ers, Emax, rtol=1e-2)[1]\n",
    "end\n",
    "\n",
    "function q13contrib_IO(E, z0, z, α2, α1, onebar, threebar, casechoice, bh_frac, normchoice)\n",
    "\n",
    "    if onebar == threebar\n",
    "        hc = true\n",
    "    else\n",
    "        hc = false\n",
    "    end\n",
    "\n",
    "    Ers = E*(1+z)/(1+z0)\n",
    "\n",
    "    qnorm = 3.086e19 * 1.516e15 * 1e6 / (3e8 * 1e12)\n",
    "    integrand(Eprime) = qnorm * (c0/Hubble(z))*DSNB_vdecay_1_IO(Eprime, z, α2, α1, onebar, casechoice, bh_frac, normchoice) * (α1 * branching_3ν(casechoice, 1, onebar, 3, threebar)/Eprime) * ψSH(Eprime, Ers, hc)\n",
    "\n",
    "    Emax = Ers + 50\n",
    "    #=\n",
    "    if Emax > 100\n",
    "        return quadgk(Eprime -> integrand(Eprime), Ers, 100, Inf, rtol=1e-2)[1]\n",
    "    else\n",
    "        return quadgk(Eprime -> integrand(Eprime), Ers, Emax, rtol=1e-2)[1]\n",
    "    end\n",
    "    =#\n",
    "    return quadgk(Eprime -> integrand(Eprime), Ers, Emax, rtol=1e-2)[1]\n",
    "end\n",
    "\n",
    "function q13contrib_IO_test(E, z0, z, α2, α1, onebar, threebar, casechoice, bh_frac, normchoice)\n",
    "\n",
    "    if onebar == threebar\n",
    "        hc = true\n",
    "    else\n",
    "        hc = false\n",
    "    end\n",
    "\n",
    "    Ers = E*(1+z)/(1+z0)\n",
    "\n",
    "    qnorm = 3.086e19 * 1.516e15 * 1e6 / (3e8 * 1e12)\n",
    "    integrand(Eprime) = qnorm * (c0/Hubble(z))*DSNB_vdecay_1_IO(Eprime, z, α2, α1, onebar, casechoice, bh_frac, normchoice) * (α1 * branching_3ν(casechoice, 1, onebar, 3, threebar)/Eprime) * ψSH(Eprime, Ers, hc)\n",
    "\n",
    "    Emax = Ers + 50\n",
    "    #=\n",
    "    if Emax > 100\n",
    "        return quadgk(Eprime -> integrand(Eprime), Ers, 100, Inf, rtol=1e-2)[1]\n",
    "    else\n",
    "        return quadgk(Eprime -> integrand(Eprime), Ers, Emax, rtol=1e-2)[1]\n",
    "    end\n",
    "    =#\n",
    "    return quadgk(u -> integrand(u*(1+z))*(1+z), E/(1+z0), (E/(1+z0))+50, rtol=1e-2)[1]\n",
    "end\n",
    "\n",
    "function DSNB_vdecay_3_IO(E, α2, α1, threebar, casechoice, bh_frac, normchoice)\n",
    "    integrand(z) = (DSNB_integrand(E, 0, z, 3, threebar, \"IO\", bh_frac, normchoice)\n",
    "                    + q23contrib_IO(E, 0, z, α2, true, threebar, casechoice, bh_frac, normchoice)\n",
    "                    + q23contrib_IO(E, 0, z, α2, false, threebar, casechoice, bh_frac, normchoice)\n",
    "                    + q13contrib_IO(E, 0, z, α2, α1, true, threebar, casechoice, bh_frac, normchoice)\n",
    "                    + q13contrib_IO(E, 0, z, α2, α1, false, threebar, casechoice, bh_frac, normchoice))\n",
    "    return quadgk(z -> integrand(z), 0, 5, rtol=1e-2)[1]\n",
    "end\n",
    "\n",
    "function DSNB_vdecay_3ν_νe_IO(E, α2, α1, nubar, casechoice, bh_frac, normchoice)\n",
    "\n",
    "    ν3 = DSNB_vdecay_3_IO(E, α2, α1, nubar, casechoice, bh_frac, normchoice)\n",
    "    ν2 = DSNB_vdecay_2_IO(E, 0, α2, nubar, bh_frac, normchoice)\n",
    "    ν1 = DSNB_vdecay_1_IO(E, 0, α2, α1, nubar, casechoice, bh_frac, normchoice)\n",
    "    \n",
    "    return Usqred(\"IO\")[1, 1]*ν1 + Usqred(\"IO\")[1, 2]*ν2 + Usqred(\"IO\")[1, 3]*ν3\n",
    "end;"
   ]
  },
  {
   "cell_type": "code",
   "execution_count": 22,
   "metadata": {},
   "outputs": [
    {
     "name": "stdout",
     "output_type": "stream",
     "text": [
      "  1.056438 seconds (17.63 M allocations: 276.482 MiB, 11.31% gc time)\n"
     ]
    },
    {
     "data": {
      "text/plain": [
       "0.02120063892514524"
      ]
     },
     "execution_count": 22,
     "metadata": {},
     "output_type": "execute_result"
    }
   ],
   "source": [
    "@time DSNB_vdecay_3ν_νe_IO(1, 10^(-25), 10^(-25), false, \"D\", \"21\", SNRnorm)"
   ]
  },
  {
   "cell_type": "code",
   "execution_count": 23,
   "metadata": {},
   "outputs": [],
   "source": [
    "es_dsnb = range(0.5, 40, 100);"
   ]
  },
  {
   "cell_type": "code",
   "execution_count": 24,
   "metadata": {},
   "outputs": [
    {
     "name": "stdout",
     "output_type": "stream",
     "text": [
      "387.917666 seconds (4.83 G allocations: 73.695 GiB, 8.66% gc time, 2.91% compilation time)\n"
     ]
    },
    {
     "data": {
      "text/plain": [
       "100-element Vector{Float64}:\n",
       " 0.006264532757169715\n",
       " 0.017982285289065227\n",
       " 0.03028671762605343\n",
       " 0.04036773145693192\n",
       " 0.047606075483071005\n",
       " 0.05242924534015282\n",
       " 0.0555804176346547\n",
       " 0.05780793892265453\n",
       " 0.059740507184516387\n",
       " 0.06183070817822498\n",
       " 0.06433976742644767\n",
       " 0.06734490235933971\n",
       " 0.07076258619941692\n",
       " ⋮\n",
       " 0.0018293597993189101\n",
       " 0.0017131577910345437\n",
       " 0.0016046979614875317\n",
       " 0.0015034417583564795\n",
       " 0.0014088936491952616\n",
       " 0.0013205983315883326\n",
       " 0.001238123126637793\n",
       " 0.0011610706988901232\n",
       " 0.0010890736643364787\n",
       " 0.001021783316265251\n",
       " 0.0009588789207534943\n",
       " 0.0009000648243712296"
      ]
     },
     "execution_count": 24,
     "metadata": {},
     "output_type": "execute_result"
    }
   ],
   "source": [
    "@time DSNB_vdecay_3ν_νe_IO.(es_dsnb, 10^(-25), 10^(-25), false, \"D\", \"21\", SNRnorm)"
   ]
  },
  {
   "cell_type": "code",
   "execution_count": 25,
   "metadata": {},
   "outputs": [
    {
     "name": "stdout",
     "output_type": "stream",
     "text": [
      "517.987997 seconds (5.66 G allocations: 86.058 GiB, 8.15% gc time)\n"
     ]
    },
    {
     "data": {
      "text/plain": [
       "100-element Vector{Float64}:\n",
       " 0.006250506605716625\n",
       " 0.017885166737910647\n",
       " 0.029961195484852862\n",
       " 0.03958374303007562\n",
       " 0.04604224502796402\n",
       " 0.049660647217664694\n",
       " 0.051058035943495145\n",
       " 0.050844330958723045\n",
       " 0.04952614619977818\n",
       " 0.047494290254025726\n",
       " 0.045037216042303034\n",
       " 0.042361606964423114\n",
       " 0.039586412919087766\n",
       " ⋮\n",
       " 0.00042165280070970135\n",
       " 0.0003996374390827053\n",
       " 0.0003787936591097276\n",
       " 0.000359060933835747\n",
       " 0.00034038091128869575\n",
       " 0.0003226968619586744\n",
       " 0.00030595623017054535\n",
       " 0.00029010954094783046\n",
       " 0.0002751092213419033\n",
       " 0.000260909882217145\n",
       " 0.00024746850071451047\n",
       " 0.00023474358065359656"
      ]
     },
     "execution_count": 25,
     "metadata": {},
     "output_type": "execute_result"
    }
   ],
   "source": [
    "@time DSNB_vdecay_3ν_νe_IO.(es_dsnb, 10^(-24), 10^(-24), false, \"D\", \"21\", SNRnorm)"
   ]
  },
  {
   "cell_type": "code",
   "execution_count": 329,
   "metadata": {},
   "outputs": [
    {
     "name": "stdout",
     "output_type": "stream",
     "text": [
      "  3.950665 seconds (49.04 M allocations: 762.712 MiB, 11.49% gc time)\n"
     ]
    },
    {
     "data": {
      "text/plain": [
       "0.00825212820807668"
      ]
     },
     "execution_count": 329,
     "metadata": {},
     "output_type": "execute_result"
    }
   ],
   "source": [
    "@time DSNB_vdecay_3ν_νe_IO(30, 10^(-26), 10^(-26), true, \"B\", \"21\", SNRnorm)"
   ]
  },
  {
   "cell_type": "code",
   "execution_count": 26,
   "metadata": {},
   "outputs": [
    {
     "name": "stdout",
     "output_type": "stream",
     "text": [
      "1223.814537 seconds (11.76 G allocations: 186.676 GiB, 11.19% gc time, 17.73% compilation time)\n"
     ]
    },
    {
     "data": {
      "text/plain": [
       "6.8108765562560505"
      ]
     },
     "execution_count": 26,
     "metadata": {},
     "output_type": "execute_result"
    }
   ],
   "source": [
    "@time DSNB_vdecay_3ν_νe_NO(0.5, 10^(-24), 10^(-24), true, \"21\", SNRnorm)"
   ]
  },
  {
   "cell_type": "code",
   "execution_count": 27,
   "metadata": {},
   "outputs": [
    {
     "name": "stdout",
     "output_type": "stream",
     "text": [
      "171.075115 seconds (2.02 G allocations: 30.977 GiB, 11.42% gc time, 4.61% compilation time)\n"
     ]
    },
    {
     "data": {
      "text/plain": [
       "2.107137363737836"
      ]
     },
     "execution_count": 27,
     "metadata": {},
     "output_type": "execute_result"
    }
   ],
   "source": [
    "@time DSNB_vdecay_3ν_νe_NO(5, 10^(-24), 10^(-24), true, \"21\", SNRnorm)"
   ]
  },
  {
   "cell_type": "code",
   "execution_count": 28,
   "metadata": {},
   "outputs": [
    {
     "name": "stdout",
     "output_type": "stream",
     "text": [
      "175.000902 seconds (2.37 G allocations: 36.000 GiB, 11.69% gc time)\n"
     ]
    },
    {
     "data": {
      "text/plain": [
       "0.0010850550363596346"
      ]
     },
     "execution_count": 28,
     "metadata": {},
     "output_type": "execute_result"
    }
   ],
   "source": [
    "@time DSNB_vdecay_3ν_νe_NO(40, 10^(-24), 10^(-24), true, \"21\", SNRnorm)"
   ]
  },
  {
   "cell_type": "code",
   "execution_count": 15,
   "metadata": {},
   "outputs": [],
   "source": [
    "# Function to save an N-dimensional array to a text file\n",
    "function save_array_nd(array, filename)\n",
    "    array2d = reshape(array, size(array, 1), prod(size(array)[2:end]))\n",
    "    writedlm(filename, array2d)\n",
    "end\n",
    "\n",
    "# Function to load an N-dimensional array from a text file\n",
    "# For dims, input size(array), where \"array\" was what you originally read into the text file\n",
    "function load_array_nd(filename, dims)\n",
    "    read_array2d = readdlm(filename, Int)\n",
    "    reshaped_array = reshape(read_array2d, dims)\n",
    "    return reshaped_array\n",
    "end;"
   ]
  },
  {
   "cell_type": "code",
   "execution_count": 16,
   "metadata": {},
   "outputs": [],
   "source": [
    "es_dsnb = range(0.5, 40, 100);"
   ]
  },
  {
   "cell_type": "code",
   "execution_count": 33,
   "metadata": {},
   "outputs": [],
   "source": [
    "dsnb_vdecay_complete = DSNB_vdecay_2ν_νe.(es_dsnb, 10^(-24), 1, false, \"NO\", \"21\", SNRnorm)\n",
    "dsnb_vdecay_partial = DSNB_vdecay_2ν_νe.(es_dsnb, 10^(-26), 1, false, \"NO\", \"21\", SNRnorm)\n",
    "dsnb_nodecay = DSNB.(es_dsnb, 0, false, \"NO\", \"21\", SNRnorm);"
   ]
  },
  {
   "cell_type": "code",
   "execution_count": 39,
   "metadata": {},
   "outputs": [
    {
     "data": {
      "text/plain": [
       "11"
      ]
     },
     "execution_count": 39,
     "metadata": {},
     "output_type": "execute_result"
    }
   ],
   "source": [
    "length(-26:0.2:-24)"
   ]
  },
  {
   "cell_type": "code",
   "execution_count": 48,
   "metadata": {},
   "outputs": [],
   "source": [
    "nubars = [false, true]\n",
    "progenitors = [\"small\", \"large\", \"bh\"]\n",
    "es = range(0.5, 40, 100)\n",
    "logαs = -26:0.2:-24\n",
    "αs = 10 .^ logαs\n",
    "\n",
    "# Inverted ordering\n",
    "dsnb_IO_2to1_matrix = [DSNB_vdecay_2ν_νe_1pc(E, α, 1, bar, \"IO\", sm, SNRnorm) for bar in nubars, sm in progenitors, α in αs, E in es]\n",
    "dsnb_IO_2to3_matrix = [DSNB_vdecay_2ν_νe_1pc(E, α, 3, bar, \"IO\", sm, SNRnorm) for bar in nubars, sm in progenitors, α in αs, E in es]\n",
    "dsnb_IO_1to3_matrix = [DSNB_vdecay_2ν_νe_1pc(E, α, bar, \"IO\", sm, SNRnorm) for bar in nubars, sm in progenitors, α in αs, E in es]\n",
    "\n",
    "# Normal ordering\n",
    "dsnb_NO_3to2_matrix = [DSNB_vdecay_2ν_νe_1pc(E, α, 2, bar, \"NO\", sm, SNRnorm) for bar in nubars, sm in progenitors, α in αs, E in es]\n",
    "dsnb_NO_3to1_matrix = [DSNB_vdecay_2ν_νe_1pc(E, α, 1, bar, \"NO\", sm, SNRnorm) for bar in nubars, sm in progenitors, α in αs, E in es]\n",
    "dsnb_NO_2to1_matrix = [DSNB_vdecay_2ν_νe_1pc(E, α, bar, \"NO\", sm, SNRnorm) for bar in nubars, sm in progenitors, α in αs, E in es];"
   ]
  },
  {
   "cell_type": "code",
   "execution_count": 49,
   "metadata": {},
   "outputs": [],
   "source": [
    "dsnb_matrices = cat(dsnb_IO_2to1_matrix, dsnb_IO_2to3_matrix, dsnb_IO_1to3_matrix, dsnb_NO_3to2_matrix, dsnb_NO_3to1_matrix, dsnb_NO_2to1_matrix, dims=5)\n",
    "\n",
    "save_array_nd(dsnb_matrices, \"dsnb_2nu_matrices_test.txt\");"
   ]
  }
 ],
 "metadata": {
  "kernelspec": {
   "display_name": "Julia 1.9.2",
   "language": "julia",
   "name": "julia-1.9"
  },
  "language_info": {
   "file_extension": ".jl",
   "mimetype": "application/julia",
   "name": "julia",
   "version": "1.9.2"
  },
  "orig_nbformat": 4,
  "vscode": {
   "interpreter": {
    "hash": "aee8b7b246df8f9039afb4144a1f6fd8d2ca17a180786b69acc140d282b71a49"
   }
  }
 },
 "nbformat": 4,
 "nbformat_minor": 2
}
