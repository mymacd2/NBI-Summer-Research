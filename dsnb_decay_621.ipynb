{
 "cells": [
  {
   "cell_type": "code",
   "execution_count": 1,
   "metadata": {},
   "outputs": [],
   "source": [
    "include(\"cosmology_vars.jl\")\n",
    "include(\"nu_osc_params.jl\")\n",
    "\n",
    "using DelimitedFiles\n",
    "using Plots\n",
    "using Interpolations\n",
    "using LaTeXStrings\n",
    "using QuadGK\n",
    "using SpecialFunctions;"
   ]
  },
  {
   "cell_type": "code",
   "execution_count": 2,
   "metadata": {},
   "outputs": [],
   "source": [
    "function F0_tint_func(F0vec::Vector{Float64})\n",
    "    es = range(0, 100, 2000)\n",
    "    F0int_ne = Interpolations.interpolate((vec(es),), F0vec, Gridded(Linear()))\n",
    "    return extrapolate(F0int_ne, 0.0)\n",
    "end\n",
    "\n",
    "F0s_vec = readdlm(\"F0s_vec.txt\", comments=true)\n",
    "\n",
    "F0_νe_270sm, F0_νebar_270sm, F0_νx_270sm = F0_tint_func(vec(F0s_vec[:, 1])), F0_tint_func(vec(F0s_vec[:, 2])), F0_tint_func(vec(F0s_vec[:, 3]))\n",
    "F0_νe_112sm, F0_νebar_112sm, F0_νx_112sm = F0_tint_func(vec(F0s_vec[:, 4])), F0_tint_func(vec(F0s_vec[:, 5])), F0_tint_func(vec(F0s_vec[:, 6]))\n",
    "F0_νe_bh, F0_νebar_bh, F0_νx_bh = F0_tint_func(vec(F0s_vec[:, 7])), F0_tint_func(vec(F0s_vec[:, 8])), F0_tint_func(vec(F0s_vec[:, 9]))\n",
    "\n",
    "function F0(E, β, sm)\n",
    "    if β == \"e\" && sm == \"small\"\n",
    "        return F0_νe_112sm(E)\n",
    "    elseif β == \"e\" && sm == \"large\"\n",
    "        return F0_νe_270sm(E)\n",
    "    elseif β == \"e\" && sm == \"bh\"\n",
    "        return F0_νe_bh(E)\n",
    "    elseif β == \"ebar\" && sm == \"small\"\n",
    "        return F0_νebar_112sm(E)\n",
    "    elseif β == \"ebar\" && sm == \"large\"\n",
    "        return F0_νebar_270sm(E)\n",
    "    elseif β == \"ebar\" && sm == \"bh\"\n",
    "        return F0_νebar_bh(E)   \n",
    "    elseif β == \"x\" && sm == \"small\"\n",
    "        return F0_νx_112sm(E)\n",
    "    elseif β == \"x\" && sm == \"large\"\n",
    "        return F0_νx_270sm(E)\n",
    "    elseif β == \"x\" && sm == \"bh\"\n",
    "        return F0_νx_bh(E)\n",
    "    else\n",
    "        return 0\n",
    "    end\n",
    "end\n",
    "\n",
    "# Oscillations thru the SN medium\n",
    "# Accounting for oscillations thru the SN medium\n",
    "\n",
    "s12 = 0.297\n",
    "c12 = 1 - s12\n",
    "PH = 0\n",
    "\n",
    "# ordering = \"NO\" (normal ordering) or \"IO\" (inverted ordering)\n",
    "function F(E, β, sm, ordering)\n",
    "    if ordering == \"NO\"\n",
    "        if β == \"e\"\n",
    "            return F0(E, \"x\", sm)\n",
    "        elseif β == \"ebar\"\n",
    "            return c12*F0(E, \"ebar\", sm) + s12*F0(E, \"x\", sm)\n",
    "        elseif β == \"x\"\n",
    "            return 0.5*(F0(E, \"e\", sm) + F0(E, \"x\", sm))\n",
    "        elseif β == \"xbar\"\n",
    "            return 0.5*(s12*F0(E, \"ebar\", sm) + (1 + c12)*F0(E, \"x\", sm))\n",
    "        else\n",
    "            return 0\n",
    "        end\n",
    "    elseif ordering == \"IO\"\n",
    "        if β == \"e\"\n",
    "            return s12*F0(E, \"e\", sm) + c12*F0(E, \"x\", sm)\n",
    "        elseif β == \"ebar\"\n",
    "            return F0(E, \"x\", sm)\n",
    "        elseif β == \"x\"\n",
    "            return 0.5*(c12*F0(E, \"e\", sm) + (1 + s12)*F0(E, \"x\", sm))\n",
    "        elseif β == \"xbar\"\n",
    "            return 0.5*(F0(E, \"ebar\", sm) + F0(E, \"x\", sm))\n",
    "        else\n",
    "            return 0\n",
    "        end\n",
    "    else\n",
    "        return 0\n",
    "    end\n",
    "end\n",
    "\n",
    "# In the mass basis now: i = 1, 2, 3, nubar = true or false\n",
    "function Fmass(E, i, sm, ordering, nubar)\n",
    "    if nubar==false\n",
    "        return Usqred(ordering)[1, i]*F(E, \"e\", sm, ordering) + (1 - Usqred(ordering)[1, i])*F(E, \"x\", sm, ordering)\n",
    "    elseif nubar==true\n",
    "        return Usqred(ordering)[1, i]*F(E, \"ebar\", sm, ordering) + (1 - Usqred(ordering)[1, i])*F(E, \"xbar\", sm, ordering)\n",
    "    else\n",
    "        return 0\n",
    "    end\n",
    "end;"
   ]
  },
  {
   "cell_type": "code",
   "execution_count": 3,
   "metadata": {},
   "outputs": [
    {
     "data": {
      "text/plain": [
       "DSNB (generic function with 1 method)"
      ]
     },
     "execution_count": 3,
     "metadata": {},
     "output_type": "execute_result"
    }
   ],
   "source": [
    "# We can take normchoice to be SNRnorm, SNRnorm_low, or SNRnorm_high\n",
    "function DSNB_integrand(E, z0, z, i, nubar, ordering, bh_frac, normchoice)\n",
    "    c0 = 3e8 # m s^(-1)\n",
    "    if bh_frac == \"21\"\n",
    "        return 0.00208 * (c0*normchoice*SFR(z)/Hubble(z)) * (ηAD(15, 8)*Fmass(E*(1+z)/(1+z0), i, \"small\", ordering, nubar) \n",
    "        + (ηAD(22, 15)+ηAD(27, 25))*Fmass(E*(1+z)/(1+z0), i, \"large\", ordering, nubar) + (ηAD(25, 22)+ηAD(125, 27))*Fmass(E*(1+z)/(1+z0), i, \"bh\", ordering, nubar))\n",
    "    elseif bh_frac == \"41\"\n",
    "        return 0.00208 * (c0*normchoice*SFR(z)/Hubble(z)) * (ηAD(15, 8)*Fmass(E*(1+z)/(1+z0), i, \"small\", ordering, nubar) \n",
    "        + ηAD(125, 15)*Fmass(E*(1+z)/(1+z0), i, \"bh\", ordering, nubar))\n",
    "    elseif bh_frac == \"09\"\n",
    "        return 0.00208 * (c0*normchoice*SFR(z)/Hubble(z)) * (ηAD(15, 8)*Fmass(E*(1+z)/(1+z0), i, \"small\", ordering, nubar)\n",
    "        + ηAD(40, 15)*Fmass(E*(1+z)/(1+z0), i, \"large\", ordering, nubar) + ηAD(125, 40)*Fmass(E*(1+z)/(1+z0), i, \"bh\", ordering, nubar))\n",
    "    else\n",
    "        return 0\n",
    "    end\n",
    "end\n",
    "\n",
    "DSNB(E, z0, i, nubar, ordering, bh_frac, normchoice) = 1/(1+z0) * quadgk(z -> DSNB_integrand(E, z0, z, i, nubar, ordering, bh_frac, normchoice), z0, 5, rtol=1e-2)[1]"
   ]
  },
  {
   "cell_type": "code",
   "execution_count": 4,
   "metadata": {},
   "outputs": [],
   "source": [
    "# Define this effective length function\n",
    "LeffIntegrand(z) = (H0*sqrt(energy_matter*(1+z)^3 + energy_dark))^(-1)*(1+z)^(-2)\n",
    "\n",
    "leff_quadint(z0) = quadgk(z -> LeffIntegrand(z), 0, z0)[1]\n",
    "\n",
    "zs_leff = range(0, 5, 1000)\n",
    "leff_ne = Interpolations.interpolate((vec(zs_leff),), leff_quadint.(zs_leff), Gridded(Linear()))\n",
    "leff = extrapolate(leff_ne, 0.0)\n",
    "\n",
    "function decay(E, α, z0, z)\n",
    "    scalefactor = 4.68e28\n",
    "    return exp(-scalefactor*α*(leff(z) - leff(z0))*(1+z0)/E)\n",
    "end;"
   ]
  },
  {
   "cell_type": "code",
   "execution_count": 5,
   "metadata": {},
   "outputs": [],
   "source": [
    "function DSNB_vdecay_3_NO(E, z0, α3, threebar, bh_frac, normchoice)\n",
    "    function decay_integrand(E, z0, z, α3, threebar, bh_frac, normchoice)\n",
    "        if α3 == 0\n",
    "            return DSNB_integrand(E, z0, z, 3, threebar, \"NO\", bh_frac, normchoice)\n",
    "        else\n",
    "            int = DSNB_integrand(E, z0, z, 3, threebar, \"NO\", bh_frac, normchoice)*decay(E, α3, z0, z) \n",
    "            if isnan(int) || isinf(int)\n",
    "                return 0.0\n",
    "            else\n",
    "                return int\n",
    "            end\n",
    "        end\n",
    "    end\n",
    "    return 1/(1+z0) * quadgk(z -> decay_integrand(E, z0, z, α3, threebar, bh_frac, normchoice), z0, 5, rtol=1e-2)[1]\n",
    "end;"
   ]
  },
  {
   "cell_type": "code",
   "execution_count": 6,
   "metadata": {},
   "outputs": [
    {
     "data": {
      "image/png": "[encoded data removed]",
      "image/svg+xml": "<?xml version=\"1.0\" encoding=\"utf-8\"?>\n<svg xmlns=\"http://www.w3.org/2000/svg\" xmlns:xlink=\"http://www.w3.org/1999/xlink\" width=\"600\" height=\"400\" viewBox=\"0 0 2400 1600\">\n<defs>\n  <clipPath id=\"clip830\">\n    <rect x=\"0\" y=\"0\" width=\"2400\" height=\"1600\"/>\n  </clipPath>\n</defs>\n<path clip-path=\"url(#clip830)\" d=\"M0 1600 L2400 1600 L2400 0 L0 0  Z\" fill=\"#ffffff\" fill-rule=\"evenodd\" fill-opacity=\"1\"/>\n<defs>\n  <clipPath id=\"clip831\">\n    <rect x=\"480\" y=\"0\" width=\"1681\" height=\"1600\"/>\n  </clipPath>\n</defs>\n<path clip-path=\"url(#clip830)\" d=\"M149.191 1486.45 L2352.76 1486.45 L2352.76 47.2441 L149.191 47.2441  Z\" fill=\"#ffffff\" fill-rule=\"evenodd\" fill-opacity=\"1\"/>\n<defs>\n  <clipPath id=\"clip832\">\n    <rect x=\"149\" y=\"47\" width=\"2205\" height=\"1440\"/>\n  </clipPath>\n</defs>\n<polyline clip-path=\"url(#clip832)\" style=\"stroke:#000000; stroke-linecap:round; stroke-linejoin:round; stroke-width:2; stroke-opacity:0.1; fill:none\" points=\"185.242,1486.45 185.242,47.2441 \"/>\n<polyline clip-path=\"url(#clip832)\" style=\"stroke:#000000; stroke-linecap:round; stroke-linejoin:round; stroke-width:2; stroke-opacity:0.1; fill:none\" points=\"711.529,1486.45 711.529,47.2441 \"/>\n<polyline clip-path=\"url(#clip832)\" style=\"stroke:#000000; stroke-linecap:round; stroke-linejoin:round; stroke-width:2; stroke-opacity:0.1; fill:none\" points=\"1237.82,1486.45 1237.82,47.2441 \"/>\n<polyline clip-path=\"url(#clip832)\" style=\"stroke:#000000; stroke-linecap:round; stroke-linejoin:round; stroke-width:2; stroke-opacity:0.1; fill:none\" points=\"1764.1,1486.45 1764.1,47.2441 \"/>\n<polyline clip-path=\"url(#clip832)\" style=\"stroke:#000000; stroke-linecap:round; stroke-linejoin:round; stroke-width:2; stroke-opacity:0.1; fill:none\" points=\"2290.39,1486.45 2290.39,47.2441 \"/>\n<polyline clip-path=\"url(#clip830)\" style=\"stroke:#000000; stroke-linecap:round; stroke-linejoin:round; stroke-width:4; stroke-opacity:1; fill:none\" points=\"149.191,1486.45 2352.76,1486.45 \"/>\n<polyline clip-path=\"url(#clip830)\" style=\"stroke:#000000; stroke-linecap:round; stroke-linejoin:round; stroke-width:4; stroke-opacity:1; fill:none\" points=\"185.242,1486.45 185.242,1467.55 \"/>\n<polyline clip-path=\"url(#clip830)\" style=\"stroke:#000000; stroke-linecap:round; stroke-linejoin:round; stroke-width:4; stroke-opacity:1; fill:none\" points=\"711.529,1486.45 711.529,1467.55 \"/>\n<polyline clip-path=\"url(#clip830)\" style=\"stroke:#000000; stroke-linecap:round; stroke-linejoin:round; stroke-width:4; stroke-opacity:1; fill:none\" points=\"1237.82,1486.45 1237.82,1467.55 \"/>\n<polyline clip-path=\"url(#clip830)\" style=\"stroke:#000000; stroke-linecap:round; stroke-linejoin:round; stroke-width:4; stroke-opacity:1; fill:none\" points=\"1764.1,1486.45 1764.1,1467.55 \"/>\n<polyline clip-path=\"url(#clip830)\" style=\"stroke:#000000; stroke-linecap:round; stroke-linejoin:round; stroke-width:4; stroke-opacity:1; fill:none\" points=\"2290.39,1486.45 2290.39,1467.55 \"/>\n<path clip-path=\"url(#clip830)\" d=\"M185.242 1517.37 Q181.63 1517.37 179.802 1520.93 Q177.996 1524.47 177.996 1531.6 Q177.996 1538.71 179.802 1542.27 Q181.63 1545.82 185.242 1545.82 Q188.876 1545.82 190.681 1542.27 Q192.51 1538.71 192.51 1531.6 Q192.51 1524.47 190.681 1520.93 Q188.876 1517.37 185.242 1517.37 M185.242 1513.66 Q191.052 1513.66 194.107 1518.27 Q197.186 1522.85 197.186 1531.6 Q197.186 1540.33 194.107 1544.94 Q191.052 1549.52 185.242 1549.52 Q179.431 1549.52 176.353 1544.94 Q173.297 1540.33 173.297 1531.6 Q173.297 1522.85 176.353 1518.27 Q179.431 1513.66 185.242 1513.66 Z\" fill=\"#000000\" fill-rule=\"nonzero\" fill-opacity=\"1\" /><path clip-path=\"url(#clip830)\" d=\"M686.217 1544.91 L693.855 1544.91 L693.855 1518.55 L685.545 1520.21 L685.545 1515.95 L693.809 1514.29 L698.485 1514.29 L698.485 1544.91 L706.124 1544.91 L706.124 1548.85 L686.217 1548.85 L686.217 1544.91 Z\" fill=\"#000000\" fill-rule=\"nonzero\" fill-opacity=\"1\" /><path clip-path=\"url(#clip830)\" d=\"M725.568 1517.37 Q721.957 1517.37 720.128 1520.93 Q718.323 1524.47 718.323 1531.6 Q718.323 1538.71 720.128 1542.27 Q721.957 1545.82 725.568 1545.82 Q729.202 1545.82 731.008 1542.27 Q732.837 1538.71 732.837 1531.6 Q732.837 1524.47 731.008 1520.93 Q729.202 1517.37 725.568 1517.37 M725.568 1513.66 Q731.378 1513.66 734.434 1518.27 Q737.513 1522.85 737.513 1531.6 Q737.513 1540.33 734.434 1544.94 Q731.378 1549.52 725.568 1549.52 Q719.758 1549.52 716.679 1544.94 Q713.624 1540.33 713.624 1531.6 Q713.624 1522.85 716.679 1518.27 Q719.758 1513.66 725.568 1513.66 Z\" fill=\"#000000\" fill-rule=\"nonzero\" fill-opacity=\"1\" /><path clip-path=\"url(#clip830)\" d=\"M1216.59 1544.91 L1232.91 1544.91 L1232.91 1548.85 L1210.96 1548.85 L1210.96 1544.91 Q1213.63 1542.16 1218.21 1537.53 Q1222.82 1532.88 1224 1531.53 Q1226.24 1529.01 1227.12 1527.27 Q1228.02 1525.51 1228.02 1523.82 Q1228.02 1521.07 1226.08 1519.33 Q1224.16 1517.6 1221.06 1517.6 Q1218.86 1517.6 1216.4 1518.36 Q1213.97 1519.13 1211.2 1520.68 L1211.2 1515.95 Q1214.02 1514.82 1216.47 1514.24 Q1218.93 1513.66 1220.96 1513.66 Q1226.33 1513.66 1229.53 1516.35 Q1232.72 1519.03 1232.72 1523.52 Q1232.72 1525.65 1231.91 1527.57 Q1231.13 1529.47 1229.02 1532.07 Q1228.44 1532.74 1225.34 1535.95 Q1222.24 1539.15 1216.59 1544.91 Z\" fill=\"#000000\" fill-rule=\"nonzero\" fill-opacity=\"1\" /><path clip-path=\"url(#clip830)\" d=\"M1252.72 1517.37 Q1249.11 1517.37 1247.28 1520.93 Q1245.48 1524.47 1245.48 1531.6 Q1245.48 1538.71 1247.28 1542.27 Q1249.11 1545.82 1252.72 1545.82 Q1256.36 1545.82 1258.16 1542.27 Q1259.99 1538.71 1259.99 1531.6 Q1259.99 1524.47 1258.16 1520.93 Q1256.36 1517.37 1252.72 1517.37 M1252.72 1513.66 Q1258.53 1513.66 1261.59 1518.27 Q1264.67 1522.85 1264.67 1531.6 Q1264.67 1540.33 1261.59 1544.94 Q1258.53 1549.52 1252.72 1549.52 Q1246.91 1549.52 1243.83 1544.94 Q1240.78 1540.33 1240.78 1531.6 Q1240.78 1522.85 1243.83 1518.27 Q1246.91 1513.66 1252.72 1513.66 Z\" fill=\"#000000\" fill-rule=\"nonzero\" fill-opacity=\"1\" /><path clip-path=\"url(#clip830)\" d=\"M1752.95 1530.21 Q1756.3 1530.93 1758.18 1533.2 Q1760.08 1535.47 1760.08 1538.8 Q1760.08 1543.92 1756.56 1546.72 Q1753.04 1549.52 1746.56 1549.52 Q1744.38 1549.52 1742.07 1549.08 Q1739.77 1548.66 1737.32 1547.81 L1737.32 1543.29 Q1739.27 1544.43 1741.58 1545.01 Q1743.9 1545.58 1746.42 1545.58 Q1750.82 1545.58 1753.11 1543.85 Q1755.42 1542.11 1755.42 1538.8 Q1755.42 1535.75 1753.27 1534.03 Q1751.14 1532.3 1747.32 1532.3 L1743.29 1532.3 L1743.29 1528.45 L1747.51 1528.45 Q1750.96 1528.45 1752.78 1527.09 Q1754.61 1525.7 1754.61 1523.11 Q1754.61 1520.45 1752.71 1519.03 Q1750.84 1517.6 1747.32 1517.6 Q1745.4 1517.6 1743.2 1518.01 Q1741 1518.43 1738.36 1519.31 L1738.36 1515.14 Q1741.02 1514.4 1743.34 1514.03 Q1745.68 1513.66 1747.74 1513.66 Q1753.06 1513.66 1756.16 1516.09 Q1759.27 1518.5 1759.27 1522.62 Q1759.27 1525.49 1757.62 1527.48 Q1755.98 1529.45 1752.95 1530.21 Z\" fill=\"#000000\" fill-rule=\"nonzero\" fill-opacity=\"1\" /><path clip-path=\"url(#clip830)\" d=\"M1778.94 1517.37 Q1775.33 1517.37 1773.5 1520.93 Q1771.7 1524.47 1771.7 1531.6 Q1771.7 1538.71 1773.5 1542.27 Q1775.33 1545.82 1778.94 1545.82 Q1782.58 1545.82 1784.38 1542.27 Q1786.21 1538.71 1786.21 1531.6 Q1786.21 1524.47 1784.38 1520.93 Q1782.58 1517.37 1778.94 1517.37 M1778.94 1513.66 Q1784.75 1513.66 1787.81 1518.27 Q1790.89 1522.85 1790.89 1531.6 Q1790.89 1540.33 1787.81 1544.94 Q1784.75 1549.52 1778.94 1549.52 Q1773.13 1549.52 1770.05 1544.94 Q1767 1540.33 1767 1531.6 Q1767 1522.85 1770.05 1518.27 Q1773.13 1513.66 1778.94 1513.66 Z\" fill=\"#000000\" fill-rule=\"nonzero\" fill-opacity=\"1\" /><path clip-path=\"url(#clip830)\" d=\"M2278.56 1518.36 L2266.76 1536.81 L2278.56 1536.81 L2278.56 1518.36 M2277.34 1514.29 L2283.21 1514.29 L2283.21 1536.81 L2288.15 1536.81 L2288.15 1540.7 L2283.21 1540.7 L2283.21 1548.85 L2278.56 1548.85 L2278.56 1540.7 L2262.96 1540.7 L2262.96 1536.19 L2277.34 1514.29 Z\" fill=\"#000000\" fill-rule=\"nonzero\" fill-opacity=\"1\" /><path clip-path=\"url(#clip830)\" d=\"M2305.88 1517.37 Q2302.27 1517.37 2300.44 1520.93 Q2298.63 1524.47 2298.63 1531.6 Q2298.63 1538.71 2300.44 1542.27 Q2302.27 1545.82 2305.88 1545.82 Q2309.51 1545.82 2311.32 1542.27 Q2313.15 1538.71 2313.15 1531.6 Q2313.15 1524.47 2311.32 1520.93 Q2309.51 1517.37 2305.88 1517.37 M2305.88 1513.66 Q2311.69 1513.66 2314.74 1518.27 Q2317.82 1522.85 2317.82 1531.6 Q2317.82 1540.33 2314.74 1544.94 Q2311.69 1549.52 2305.88 1549.52 Q2300.07 1549.52 2296.99 1544.94 Q2293.93 1540.33 2293.93 1531.6 Q2293.93 1522.85 2296.99 1518.27 Q2300.07 1513.66 2305.88 1513.66 Z\" fill=\"#000000\" fill-rule=\"nonzero\" fill-opacity=\"1\" /><polyline clip-path=\"url(#clip832)\" style=\"stroke:#000000; stroke-linecap:round; stroke-linejoin:round; stroke-width:2; stroke-opacity:0.1; fill:none\" points=\"149.191,1208.44 2352.76,1208.44 \"/>\n<polyline clip-path=\"url(#clip832)\" style=\"stroke:#000000; stroke-linecap:round; stroke-linejoin:round; stroke-width:2; stroke-opacity:0.1; fill:none\" points=\"149.191,928.442 2352.76,928.442 \"/>\n<polyline clip-path=\"url(#clip832)\" style=\"stroke:#000000; stroke-linecap:round; stroke-linejoin:round; stroke-width:2; stroke-opacity:0.1; fill:none\" points=\"149.191,648.448 2352.76,648.448 \"/>\n<polyline clip-path=\"url(#clip832)\" style=\"stroke:#000000; stroke-linecap:round; stroke-linejoin:round; stroke-width:2; stroke-opacity:0.1; fill:none\" points=\"149.191,368.454 2352.76,368.454 \"/>\n<polyline clip-path=\"url(#clip832)\" style=\"stroke:#000000; stroke-linecap:round; stroke-linejoin:round; stroke-width:2; stroke-opacity:0.1; fill:none\" points=\"149.191,88.4601 2352.76,88.4601 \"/>\n<polyline clip-path=\"url(#clip830)\" style=\"stroke:#000000; stroke-linecap:round; stroke-linejoin:round; stroke-width:4; stroke-opacity:1; fill:none\" points=\"149.191,1486.45 149.191,47.2441 \"/>\n<polyline clip-path=\"url(#clip830)\" style=\"stroke:#000000; stroke-linecap:round; stroke-linejoin:round; stroke-width:4; stroke-opacity:1; fill:none\" points=\"149.191,1208.44 168.089,1208.44 \"/>\n<polyline clip-path=\"url(#clip830)\" style=\"stroke:#000000; stroke-linecap:round; stroke-linejoin:round; stroke-width:4; stroke-opacity:1; fill:none\" points=\"149.191,928.442 168.089,928.442 \"/>\n<polyline clip-path=\"url(#clip830)\" style=\"stroke:#000000; stroke-linecap:round; stroke-linejoin:round; stroke-width:4; stroke-opacity:1; fill:none\" points=\"149.191,648.448 168.089,648.448 \"/>\n<polyline clip-path=\"url(#clip830)\" style=\"stroke:#000000; stroke-linecap:round; stroke-linejoin:round; stroke-width:4; stroke-opacity:1; fill:none\" points=\"149.191,368.454 168.089,368.454 \"/>\n<polyline clip-path=\"url(#clip830)\" style=\"stroke:#000000; stroke-linecap:round; stroke-linejoin:round; stroke-width:4; stroke-opacity:1; fill:none\" points=\"149.191,88.4601 168.089,88.4601 \"/>\n<path clip-path=\"url(#clip830)\" d=\"M50.9921 1208.89 L80.6679 1208.89 L80.6679 1212.82 L50.9921 1212.82 L50.9921 1208.89 Z\" fill=\"#000000\" fill-rule=\"nonzero\" fill-opacity=\"1\" /><path clip-path=\"url(#clip830)\" d=\"M103.608 1195.23 L91.8021 1213.68 L103.608 1213.68 L103.608 1195.23 M102.381 1191.16 L108.26 1191.16 L108.26 1213.68 L113.191 1213.68 L113.191 1217.57 L108.26 1217.57 L108.26 1225.72 L103.608 1225.72 L103.608 1217.57 L88.0058 1217.57 L88.0058 1213.05 L102.381 1191.16 Z\" fill=\"#000000\" fill-rule=\"nonzero\" fill-opacity=\"1\" /><path clip-path=\"url(#clip830)\" d=\"M52.1264 928.894 L81.8021 928.894 L81.8021 932.829 L52.1264 932.829 L52.1264 928.894 Z\" fill=\"#000000\" fill-rule=\"nonzero\" fill-opacity=\"1\" /><path clip-path=\"url(#clip830)\" d=\"M106.061 927.088 Q109.418 927.806 111.293 930.074 Q113.191 932.343 113.191 935.676 Q113.191 940.792 109.672 943.593 Q106.154 946.394 99.6724 946.394 Q97.4965 946.394 95.1817 945.954 Q92.89 945.537 90.4364 944.681 L90.4364 940.167 Q92.3808 941.301 94.6956 941.88 Q97.0104 942.458 99.5335 942.458 Q103.932 942.458 106.223 940.722 Q108.538 938.986 108.538 935.676 Q108.538 932.62 106.385 930.908 Q104.256 929.171 100.436 929.171 L96.4085 929.171 L96.4085 925.329 L100.621 925.329 Q104.071 925.329 105.899 923.963 Q107.728 922.574 107.728 919.982 Q107.728 917.32 105.83 915.908 Q103.955 914.472 100.436 914.472 Q98.515 914.472 96.316 914.889 Q94.1169 915.306 91.478 916.185 L91.478 912.019 Q94.14 911.278 96.4548 910.908 Q98.7928 910.537 100.853 910.537 Q106.177 910.537 109.279 912.968 Q112.381 915.375 112.381 919.496 Q112.381 922.366 110.737 924.357 Q109.094 926.324 106.061 927.088 Z\" fill=\"#000000\" fill-rule=\"nonzero\" fill-opacity=\"1\" /><path clip-path=\"url(#clip830)\" d=\"M53.0754 648.9 L82.7512 648.9 L82.7512 652.835 L53.0754 652.835 L53.0754 648.9 Z\" fill=\"#000000\" fill-rule=\"nonzero\" fill-opacity=\"1\" /><path clip-path=\"url(#clip830)\" d=\"M96.8715 661.793 L113.191 661.793 L113.191 665.728 L91.2465 665.728 L91.2465 661.793 Q93.9086 659.038 98.4919 654.409 Q103.098 649.756 104.279 648.413 Q106.524 645.89 107.404 644.154 Q108.307 642.395 108.307 640.705 Q108.307 637.951 106.362 636.214 Q104.441 634.478 101.339 634.478 Q99.14 634.478 96.6863 635.242 Q94.2558 636.006 91.478 637.557 L91.478 632.835 Q94.3021 631.701 96.7558 631.122 Q99.2095 630.543 101.246 630.543 Q106.617 630.543 109.811 633.228 Q113.006 635.914 113.006 640.404 Q113.006 642.534 112.196 644.455 Q111.408 646.353 109.302 648.946 Q108.723 649.617 105.621 652.835 Q102.52 656.029 96.8715 661.793 Z\" fill=\"#000000\" fill-rule=\"nonzero\" fill-opacity=\"1\" /><path clip-path=\"url(#clip830)\" d=\"M52.7051 368.906 L82.3808 368.906 L82.3808 372.841 L52.7051 372.841 L52.7051 368.906 Z\" fill=\"#000000\" fill-rule=\"nonzero\" fill-opacity=\"1\" /><path clip-path=\"url(#clip830)\" d=\"M93.2836 381.799 L100.922 381.799 L100.922 355.433 L92.6123 357.1 L92.6123 352.841 L100.876 351.174 L105.552 351.174 L105.552 381.799 L113.191 381.799 L113.191 385.734 L93.2836 385.734 L93.2836 381.799 Z\" fill=\"#000000\" fill-rule=\"nonzero\" fill-opacity=\"1\" /><path clip-path=\"url(#clip830)\" d=\"M101.246 74.2587 Q97.6354 74.2587 95.8067 77.8235 Q94.0012 81.3652 94.0012 88.4948 Q94.0012 95.6012 95.8067 99.166 Q97.6354 102.708 101.246 102.708 Q104.881 102.708 106.686 99.166 Q108.515 95.6012 108.515 88.4948 Q108.515 81.3652 106.686 77.8235 Q104.881 74.2587 101.246 74.2587 M101.246 70.5551 Q107.057 70.5551 110.112 75.1615 Q113.191 79.7448 113.191 88.4948 Q113.191 97.2216 110.112 101.828 Q107.057 106.411 101.246 106.411 Q95.4363 106.411 92.3576 101.828 Q89.3021 97.2216 89.3021 88.4948 Q89.3021 79.7448 92.3576 75.1615 Q95.4363 70.5551 101.246 70.5551 Z\" fill=\"#000000\" fill-rule=\"nonzero\" fill-opacity=\"1\" /><polyline clip-path=\"url(#clip832)\" style=\"stroke:#009af9; stroke-linecap:round; stroke-linejoin:round; stroke-width:4; stroke-opacity:1; fill:none\" points=\"211.556,508.951 232.554,355.525 253.553,267.876 274.551,210.682 295.549,171.205 316.548,143.285 337.546,123.409 358.544,109.366 379.543,99.6857 400.541,93.3472 421.539,89.6216 442.538,87.9763 463.536,88.0111 484.534,89.4207 505.533,91.9674 526.531,95.4641 547.529,99.7596 568.528,104.732 589.526,110.281 610.524,116.324 631.523,122.793 652.521,129.628 673.519,136.782 694.518,144.213 715.516,151.884 736.514,159.767 757.513,167.833 778.511,176.062 799.509,184.432 820.508,192.925 841.506,201.528 862.504,210.226 883.503,219.007 904.501,227.86 925.499,236.776 946.498,245.746 967.496,254.763 988.494,263.818 1009.49,272.907 1030.49,282.023 1051.49,291.161 1072.49,300.316 1093.49,309.485 1114.48,318.663 1135.48,327.846 1156.48,337.032 1177.48,346.217 1198.48,355.399 1219.48,364.576 1240.47,373.745 1261.47,382.904 1282.47,392.052 1303.47,401.186 1324.47,410.306 1345.47,419.41 1366.46,428.497 1387.46,437.566 1408.46,446.615 1429.46,455.644 1450.46,464.653 1471.46,473.64 1492.45,482.604 1513.45,491.546 1534.45,500.465 1555.45,509.359 1576.45,518.229 1597.45,527.075 1618.44,535.896 1639.44,544.69 1660.44,553.46 1681.44,562.203 1702.44,570.919 1723.44,579.61 1744.43,588.273 1765.43,596.909 1786.43,605.518 1807.43,614.099 1828.43,622.653 1849.43,631.179 1870.42,639.677 1891.42,648.146 1912.42,656.587 1933.42,664.999 1954.42,673.383 1975.42,681.738 1996.41,690.063 2017.41,698.359 2038.41,706.627 2059.41,714.864 2080.41,723.069 2101.41,731.246 2122.4,739.397 2143.4,747.513 2164.4,755.598 2185.4,763.651 2206.4,771.675 2227.4,779.682 2248.39,787.643 2269.39,795.573 2290.39,803.472 \"/>\n<polyline clip-path=\"url(#clip832)\" style=\"stroke:#e26f46; stroke-linecap:round; stroke-linejoin:round; stroke-width:4; stroke-opacity:1; fill:none\" points=\"211.556,1445.72 232.554,1211.35 253.553,1067.04 274.551,964.308 295.549,885.664 316.548,822.85 337.546,771.274 358.544,728.11 379.543,691.547 400.541,660.29 421.539,633.414 442.538,610.223 463.536,590.176 484.534,572.84 505.533,557.865 526.531,544.953 547.529,533.86 568.528,524.376 589.526,516.321 610.524,509.54 631.523,503.898 652.521,499.277 673.519,495.576 694.518,492.705 715.516,490.586 736.514,489.149 757.513,488.334 778.511,488.087 799.509,488.36 820.508,489.111 841.506,490.301 862.504,491.898 883.503,493.868 904.501,496.185 925.499,498.824 946.498,501.761 967.496,504.976 988.494,508.449 1009.49,512.162 1030.49,516.098 1051.49,520.243 1072.49,524.582 1093.49,529.103 1114.48,533.793 1135.48,538.64 1156.48,543.635 1177.48,548.768 1198.48,554.029 1219.48,559.41 1240.47,564.904 1261.47,570.503 1282.47,576.199 1303.47,581.987 1324.47,587.862 1345.47,593.816 1366.46,599.846 1387.46,605.945 1408.46,612.111 1429.46,618.338 1450.46,624.623 1471.46,630.962 1492.45,637.352 1513.45,643.788 1534.45,650.269 1555.45,656.791 1576.45,663.352 1597.45,669.948 1618.44,676.579 1639.44,683.24 1660.44,689.931 1681.44,696.649 1702.44,703.392 1723.44,710.158 1744.43,716.946 1765.43,723.753 1786.43,730.578 1807.43,737.42 1828.43,744.277 1849.43,751.146 1870.42,758.028 1891.42,764.92 1912.42,771.822 1933.42,778.731 1954.42,785.647 1975.42,792.569 1996.41,799.494 2017.41,806.423 2038.41,813.354 2059.41,820.286 2080.41,827.217 2101.41,834.147 2122.4,841.075 2143.4,848 2164.4,854.921 2185.4,861.836 2206.4,868.745 2227.4,875.649 2248.39,882.544 2269.39,889.43 2290.39,896.308 \"/>\n<path clip-path=\"url(#clip830)\" d=\"M2006.52 250.738 L2279.3 250.738 L2279.3 95.2176 L2006.52 95.2176  Z\" fill=\"#ffffff\" fill-rule=\"evenodd\" fill-opacity=\"1\"/>\n<polyline clip-path=\"url(#clip830)\" style=\"stroke:#000000; stroke-linecap:round; stroke-linejoin:round; stroke-width:4; stroke-opacity:1; fill:none\" points=\"2006.52,250.738 2279.3,250.738 2279.3,95.2176 2006.52,95.2176 2006.52,250.738 \"/>\n<polyline clip-path=\"url(#clip830)\" style=\"stroke:#009af9; stroke-linecap:round; stroke-linejoin:round; stroke-width:4; stroke-opacity:1; fill:none\" points=\"2031,147.058 2177.91,147.058 \"/>\n<path clip-path=\"url(#clip830)\" d=\"M2216.23 166.745 Q2214.43 171.375 2212.71 172.787 Q2211 174.199 2208.13 174.199 L2204.73 174.199 L2204.73 170.634 L2207.23 170.634 Q2208.99 170.634 2209.96 169.8 Q2210.93 168.967 2212.11 165.865 L2212.88 163.921 L2202.39 138.412 L2206.9 138.412 L2215.01 158.689 L2223.11 138.412 L2227.62 138.412 L2216.23 166.745 Z\" fill=\"#000000\" fill-rule=\"nonzero\" fill-opacity=\"1\" /><path clip-path=\"url(#clip830)\" d=\"M2234.91 160.402 L2242.55 160.402 L2242.55 134.037 L2234.24 135.703 L2234.24 131.444 L2242.5 129.778 L2247.18 129.778 L2247.18 160.402 L2254.82 160.402 L2254.82 164.338 L2234.91 164.338 L2234.91 160.402 Z\" fill=\"#000000\" fill-rule=\"nonzero\" fill-opacity=\"1\" /><polyline clip-path=\"url(#clip830)\" style=\"stroke:#e26f46; stroke-linecap:round; stroke-linejoin:round; stroke-width:4; stroke-opacity:1; fill:none\" points=\"2031,198.898 2177.91,198.898 \"/>\n<path clip-path=\"url(#clip830)\" d=\"M2216.23 218.585 Q2214.43 223.215 2212.71 224.627 Q2211 226.039 2208.13 226.039 L2204.73 226.039 L2204.73 222.474 L2207.23 222.474 Q2208.99 222.474 2209.96 221.64 Q2210.93 220.807 2212.11 217.705 L2212.88 215.761 L2202.39 190.252 L2206.9 190.252 L2215.01 210.529 L2223.11 190.252 L2227.62 190.252 L2216.23 218.585 Z\" fill=\"#000000\" fill-rule=\"nonzero\" fill-opacity=\"1\" /><path clip-path=\"url(#clip830)\" d=\"M2238.13 212.242 L2254.45 212.242 L2254.45 216.178 L2232.5 216.178 L2232.5 212.242 Q2235.17 209.488 2239.75 204.858 Q2244.36 200.205 2245.54 198.863 Q2247.78 196.34 2248.66 194.604 Q2249.57 192.844 2249.57 191.155 Q2249.57 188.4 2247.62 186.664 Q2245.7 184.928 2242.6 184.928 Q2240.4 184.928 2237.94 185.692 Q2235.51 186.455 2232.74 188.006 L2232.74 183.284 Q2235.56 182.15 2238.01 181.571 Q2240.47 180.993 2242.5 180.993 Q2247.88 180.993 2251.07 183.678 Q2254.26 186.363 2254.26 190.854 Q2254.26 192.983 2253.45 194.905 Q2252.67 196.803 2250.56 199.395 Q2249.98 200.067 2246.88 203.284 Q2243.78 206.479 2238.13 212.242 Z\" fill=\"#000000\" fill-rule=\"nonzero\" fill-opacity=\"1\" /></svg>\n",
      "text/html": [
       "<?xml version=\"1.0\" encoding=\"utf-8\"?>\n",
       "<svg xmlns=\"http://www.w3.org/2000/svg\" xmlns:xlink=\"http://www.w3.org/1999/xlink\" width=\"600\" height=\"400\" viewBox=\"0 0 2400 1600\">\n",
       "<defs>\n",
       "  <clipPath id=\"clip880\">\n",
       "    <rect x=\"0\" y=\"0\" width=\"2400\" height=\"1600\"/>\n",
       "  </clipPath>\n",
       "</defs>\n",
       "<path clip-path=\"url(#clip880)\" d=\"M0 1600 L2400 1600 L2400 0 L0 0  Z\" fill=\"#ffffff\" fill-rule=\"evenodd\" fill-opacity=\"1\"/>\n",
       "<defs>\n",
       "  <clipPath id=\"clip881\">\n",
       "    <rect x=\"480\" y=\"0\" width=\"1681\" height=\"1600\"/>\n",
       "  </clipPath>\n",
       "</defs>\n",
       "<path clip-path=\"url(#clip880)\" d=\"M149.191 1486.45 L2352.76 1486.45 L2352.76 47.2441 L149.191 47.2441  Z\" fill=\"#ffffff\" fill-rule=\"evenodd\" fill-opacity=\"1\"/>\n",
       "<defs>\n",
       "  <clipPath id=\"clip882\">\n",
       "    <rect x=\"149\" y=\"47\" width=\"2205\" height=\"1440\"/>\n",
       "  </clipPath>\n",
       "</defs>\n",
       "<polyline clip-path=\"url(#clip882)\" style=\"stroke:#000000; stroke-linecap:round; stroke-linejoin:round; stroke-width:2; stroke-opacity:0.1; fill:none\" points=\"185.242,1486.45 185.242,47.2441 \"/>\n",
       "<polyline clip-path=\"url(#clip882)\" style=\"stroke:#000000; stroke-linecap:round; stroke-linejoin:round; stroke-width:2; stroke-opacity:0.1; fill:none\" points=\"711.529,1486.45 711.529,47.2441 \"/>\n",
       "<polyline clip-path=\"url(#clip882)\" style=\"stroke:#000000; stroke-linecap:round; stroke-linejoin:round; stroke-width:2; stroke-opacity:0.1; fill:none\" points=\"1237.82,1486.45 1237.82,47.2441 \"/>\n",
       "<polyline clip-path=\"url(#clip882)\" style=\"stroke:#000000; stroke-linecap:round; stroke-linejoin:round; stroke-width:2; stroke-opacity:0.1; fill:none\" points=\"1764.1,1486.45 1764.1,47.2441 \"/>\n",
       "<polyline clip-path=\"url(#clip882)\" style=\"stroke:#000000; stroke-linecap:round; stroke-linejoin:round; stroke-width:2; stroke-opacity:0.1; fill:none\" points=\"2290.39,1486.45 2290.39,47.2441 \"/>\n",
       "<polyline clip-path=\"url(#clip880)\" style=\"stroke:#000000; stroke-linecap:round; stroke-linejoin:round; stroke-width:4; stroke-opacity:1; fill:none\" points=\"149.191,1486.45 2352.76,1486.45 \"/>\n",
       "<polyline clip-path=\"url(#clip880)\" style=\"stroke:#000000; stroke-linecap:round; stroke-linejoin:round; stroke-width:4; stroke-opacity:1; fill:none\" points=\"185.242,1486.45 185.242,1467.55 \"/>\n",
       "<polyline clip-path=\"url(#clip880)\" style=\"stroke:#000000; stroke-linecap:round; stroke-linejoin:round; stroke-width:4; stroke-opacity:1; fill:none\" points=\"711.529,1486.45 711.529,1467.55 \"/>\n",
       "<polyline clip-path=\"url(#clip880)\" style=\"stroke:#000000; stroke-linecap:round; stroke-linejoin:round; stroke-width:4; stroke-opacity:1; fill:none\" points=\"1237.82,1486.45 1237.82,1467.55 \"/>\n",
       "<polyline clip-path=\"url(#clip880)\" style=\"stroke:#000000; stroke-linecap:round; stroke-linejoin:round; stroke-width:4; stroke-opacity:1; fill:none\" points=\"1764.1,1486.45 1764.1,1467.55 \"/>\n",
       "<polyline clip-path=\"url(#clip880)\" style=\"stroke:#000000; stroke-linecap:round; stroke-linejoin:round; stroke-width:4; stroke-opacity:1; fill:none\" points=\"2290.39,1486.45 2290.39,1467.55 \"/>\n",
       "<path clip-path=\"url(#clip880)\" d=\"M185.242 1517.37 Q181.63 1517.37 179.802 1520.93 Q177.996 1524.47 177.996 1531.6 Q177.996 1538.71 179.802 1542.27 Q181.63 1545.82 185.242 1545.82 Q188.876 1545.82 190.681 1542.27 Q192.51 1538.71 192.51 1531.6 Q192.51 1524.47 190.681 1520.93 Q188.876 1517.37 185.242 1517.37 M185.242 1513.66 Q191.052 1513.66 194.107 1518.27 Q197.186 1522.85 197.186 1531.6 Q197.186 1540.33 194.107 1544.94 Q191.052 1549.52 185.242 1549.52 Q179.431 1549.52 176.353 1544.94 Q173.297 1540.33 173.297 1531.6 Q173.297 1522.85 176.353 1518.27 Q179.431 1513.66 185.242 1513.66 Z\" fill=\"#000000\" fill-rule=\"nonzero\" fill-opacity=\"1\" /><path clip-path=\"url(#clip880)\" d=\"M686.217 1544.91 L693.855 1544.91 L693.855 1518.55 L685.545 1520.21 L685.545 1515.95 L693.809 1514.29 L698.485 1514.29 L698.485 1544.91 L706.124 1544.91 L706.124 1548.85 L686.217 1548.85 L686.217 1544.91 Z\" fill=\"#000000\" fill-rule=\"nonzero\" fill-opacity=\"1\" /><path clip-path=\"url(#clip880)\" d=\"M725.568 1517.37 Q721.957 1517.37 720.128 1520.93 Q718.323 1524.47 718.323 1531.6 Q718.323 1538.71 720.128 1542.27 Q721.957 1545.82 725.568 1545.82 Q729.202 1545.82 731.008 1542.27 Q732.837 1538.71 732.837 1531.6 Q732.837 1524.47 731.008 1520.93 Q729.202 1517.37 725.568 1517.37 M725.568 1513.66 Q731.378 1513.66 734.434 1518.27 Q737.513 1522.85 737.513 1531.6 Q737.513 1540.33 734.434 1544.94 Q731.378 1549.52 725.568 1549.52 Q719.758 1549.52 716.679 1544.94 Q713.624 1540.33 713.624 1531.6 Q713.624 1522.85 716.679 1518.27 Q719.758 1513.66 725.568 1513.66 Z\" fill=\"#000000\" fill-rule=\"nonzero\" fill-opacity=\"1\" /><path clip-path=\"url(#clip880)\" d=\"M1216.59 1544.91 L1232.91 1544.91 L1232.91 1548.85 L1210.96 1548.85 L1210.96 1544.91 Q1213.63 1542.16 1218.21 1537.53 Q1222.82 1532.88 1224 1531.53 Q1226.24 1529.01 1227.12 1527.27 Q1228.02 1525.51 1228.02 1523.82 Q1228.02 1521.07 1226.08 1519.33 Q1224.16 1517.6 1221.06 1517.6 Q1218.86 1517.6 1216.4 1518.36 Q1213.97 1519.13 1211.2 1520.68 L1211.2 1515.95 Q1214.02 1514.82 1216.47 1514.24 Q1218.93 1513.66 1220.96 1513.66 Q1226.33 1513.66 1229.53 1516.35 Q1232.72 1519.03 1232.72 1523.52 Q1232.72 1525.65 1231.91 1527.57 Q1231.13 1529.47 1229.02 1532.07 Q1228.44 1532.74 1225.34 1535.95 Q1222.24 1539.15 1216.59 1544.91 Z\" fill=\"#000000\" fill-rule=\"nonzero\" fill-opacity=\"1\" /><path clip-path=\"url(#clip880)\" d=\"M1252.72 1517.37 Q1249.11 1517.37 1247.28 1520.93 Q1245.48 1524.47 1245.48 1531.6 Q1245.48 1538.71 1247.28 1542.27 Q1249.11 1545.82 1252.72 1545.82 Q1256.36 1545.82 1258.16 1542.27 Q1259.99 1538.71 1259.99 1531.6 Q1259.99 1524.47 1258.16 1520.93 Q1256.36 1517.37 1252.72 1517.37 M1252.72 1513.66 Q1258.53 1513.66 1261.59 1518.27 Q1264.67 1522.85 1264.67 1531.6 Q1264.67 1540.33 1261.59 1544.94 Q1258.53 1549.52 1252.72 1549.52 Q1246.91 1549.52 1243.83 1544.94 Q1240.78 1540.33 1240.78 1531.6 Q1240.78 1522.85 1243.83 1518.27 Q1246.91 1513.66 1252.72 1513.66 Z\" fill=\"#000000\" fill-rule=\"nonzero\" fill-opacity=\"1\" /><path clip-path=\"url(#clip880)\" d=\"M1752.95 1530.21 Q1756.3 1530.93 1758.18 1533.2 Q1760.08 1535.47 1760.08 1538.8 Q1760.08 1543.92 1756.56 1546.72 Q1753.04 1549.52 1746.56 1549.52 Q1744.38 1549.52 1742.07 1549.08 Q1739.77 1548.66 1737.32 1547.81 L1737.32 1543.29 Q1739.27 1544.43 1741.58 1545.01 Q1743.9 1545.58 1746.42 1545.58 Q1750.82 1545.58 1753.11 1543.85 Q1755.42 1542.11 1755.42 1538.8 Q1755.42 1535.75 1753.27 1534.03 Q1751.14 1532.3 1747.32 1532.3 L1743.29 1532.3 L1743.29 1528.45 L1747.51 1528.45 Q1750.96 1528.45 1752.78 1527.09 Q1754.61 1525.7 1754.61 1523.11 Q1754.61 1520.45 1752.71 1519.03 Q1750.84 1517.6 1747.32 1517.6 Q1745.4 1517.6 1743.2 1518.01 Q1741 1518.43 1738.36 1519.31 L1738.36 1515.14 Q1741.02 1514.4 1743.34 1514.03 Q1745.68 1513.66 1747.74 1513.66 Q1753.06 1513.66 1756.16 1516.09 Q1759.27 1518.5 1759.27 1522.62 Q1759.27 1525.49 1757.62 1527.48 Q1755.98 1529.45 1752.95 1530.21 Z\" fill=\"#000000\" fill-rule=\"nonzero\" fill-opacity=\"1\" /><path clip-path=\"url(#clip880)\" d=\"M1778.94 1517.37 Q1775.33 1517.37 1773.5 1520.93 Q1771.7 1524.47 1771.7 1531.6 Q1771.7 1538.71 1773.5 1542.27 Q1775.33 1545.82 1778.94 1545.82 Q1782.58 1545.82 1784.38 1542.27 Q1786.21 1538.71 1786.21 1531.6 Q1786.21 1524.47 1784.38 1520.93 Q1782.58 1517.37 1778.94 1517.37 M1778.94 1513.66 Q1784.75 1513.66 1787.81 1518.27 Q1790.89 1522.85 1790.89 1531.6 Q1790.89 1540.33 1787.81 1544.94 Q1784.75 1549.52 1778.94 1549.52 Q1773.13 1549.52 1770.05 1544.94 Q1767 1540.33 1767 1531.6 Q1767 1522.85 1770.05 1518.27 Q1773.13 1513.66 1778.94 1513.66 Z\" fill=\"#000000\" fill-rule=\"nonzero\" fill-opacity=\"1\" /><path clip-path=\"url(#clip880)\" d=\"M2278.56 1518.36 L2266.76 1536.81 L2278.56 1536.81 L2278.56 1518.36 M2277.34 1514.29 L2283.21 1514.29 L2283.21 1536.81 L2288.15 1536.81 L2288.15 1540.7 L2283.21 1540.7 L2283.21 1548.85 L2278.56 1548.85 L2278.56 1540.7 L2262.96 1540.7 L2262.96 1536.19 L2277.34 1514.29 Z\" fill=\"#000000\" fill-rule=\"nonzero\" fill-opacity=\"1\" /><path clip-path=\"url(#clip880)\" d=\"M2305.88 1517.37 Q2302.27 1517.37 2300.44 1520.93 Q2298.63 1524.47 2298.63 1531.6 Q2298.63 1538.71 2300.44 1542.27 Q2302.27 1545.82 2305.88 1545.82 Q2309.51 1545.82 2311.32 1542.27 Q2313.15 1538.71 2313.15 1531.6 Q2313.15 1524.47 2311.32 1520.93 Q2309.51 1517.37 2305.88 1517.37 M2305.88 1513.66 Q2311.69 1513.66 2314.74 1518.27 Q2317.82 1522.85 2317.82 1531.6 Q2317.82 1540.33 2314.74 1544.94 Q2311.69 1549.52 2305.88 1549.52 Q2300.07 1549.52 2296.99 1544.94 Q2293.93 1540.33 2293.93 1531.6 Q2293.93 1522.85 2296.99 1518.27 Q2300.07 1513.66 2305.88 1513.66 Z\" fill=\"#000000\" fill-rule=\"nonzero\" fill-opacity=\"1\" /><polyline clip-path=\"url(#clip882)\" style=\"stroke:#000000; stroke-linecap:round; stroke-linejoin:round; stroke-width:2; stroke-opacity:0.1; fill:none\" points=\"149.191,1208.44 2352.76,1208.44 \"/>\n",
       "<polyline clip-path=\"url(#clip882)\" style=\"stroke:#000000; stroke-linecap:round; stroke-linejoin:round; stroke-width:2; stroke-opacity:0.1; fill:none\" points=\"149.191,928.442 2352.76,928.442 \"/>\n",
       "<polyline clip-path=\"url(#clip882)\" style=\"stroke:#000000; stroke-linecap:round; stroke-linejoin:round; stroke-width:2; stroke-opacity:0.1; fill:none\" points=\"149.191,648.448 2352.76,648.448 \"/>\n",
       "<polyline clip-path=\"url(#clip882)\" style=\"stroke:#000000; stroke-linecap:round; stroke-linejoin:round; stroke-width:2; stroke-opacity:0.1; fill:none\" points=\"149.191,368.454 2352.76,368.454 \"/>\n",
       "<polyline clip-path=\"url(#clip882)\" style=\"stroke:#000000; stroke-linecap:round; stroke-linejoin:round; stroke-width:2; stroke-opacity:0.1; fill:none\" points=\"149.191,88.4601 2352.76,88.4601 \"/>\n",
       "<polyline clip-path=\"url(#clip880)\" style=\"stroke:#000000; stroke-linecap:round; stroke-linejoin:round; stroke-width:4; stroke-opacity:1; fill:none\" points=\"149.191,1486.45 149.191,47.2441 \"/>\n",
       "<polyline clip-path=\"url(#clip880)\" style=\"stroke:#000000; stroke-linecap:round; stroke-linejoin:round; stroke-width:4; stroke-opacity:1; fill:none\" points=\"149.191,1208.44 168.089,1208.44 \"/>\n",
       "<polyline clip-path=\"url(#clip880)\" style=\"stroke:#000000; stroke-linecap:round; stroke-linejoin:round; stroke-width:4; stroke-opacity:1; fill:none\" points=\"149.191,928.442 168.089,928.442 \"/>\n",
       "<polyline clip-path=\"url(#clip880)\" style=\"stroke:#000000; stroke-linecap:round; stroke-linejoin:round; stroke-width:4; stroke-opacity:1; fill:none\" points=\"149.191,648.448 168.089,648.448 \"/>\n",
       "<polyline clip-path=\"url(#clip880)\" style=\"stroke:#000000; stroke-linecap:round; stroke-linejoin:round; stroke-width:4; stroke-opacity:1; fill:none\" points=\"149.191,368.454 168.089,368.454 \"/>\n",
       "<polyline clip-path=\"url(#clip880)\" style=\"stroke:#000000; stroke-linecap:round; stroke-linejoin:round; stroke-width:4; stroke-opacity:1; fill:none\" points=\"149.191,88.4601 168.089,88.4601 \"/>\n",
       "<path clip-path=\"url(#clip880)\" d=\"M50.9921 1208.89 L80.6679 1208.89 L80.6679 1212.82 L50.9921 1212.82 L50.9921 1208.89 Z\" fill=\"#000000\" fill-rule=\"nonzero\" fill-opacity=\"1\" /><path clip-path=\"url(#clip880)\" d=\"M103.608 1195.23 L91.8021 1213.68 L103.608 1213.68 L103.608 1195.23 M102.381 1191.16 L108.26 1191.16 L108.26 1213.68 L113.191 1213.68 L113.191 1217.57 L108.26 1217.57 L108.26 1225.72 L103.608 1225.72 L103.608 1217.57 L88.0058 1217.57 L88.0058 1213.05 L102.381 1191.16 Z\" fill=\"#000000\" fill-rule=\"nonzero\" fill-opacity=\"1\" /><path clip-path=\"url(#clip880)\" d=\"M52.1264 928.894 L81.8021 928.894 L81.8021 932.829 L52.1264 932.829 L52.1264 928.894 Z\" fill=\"#000000\" fill-rule=\"nonzero\" fill-opacity=\"1\" /><path clip-path=\"url(#clip880)\" d=\"M106.061 927.088 Q109.418 927.806 111.293 930.074 Q113.191 932.343 113.191 935.676 Q113.191 940.792 109.672 943.593 Q106.154 946.394 99.6724 946.394 Q97.4965 946.394 95.1817 945.954 Q92.89 945.537 90.4364 944.681 L90.4364 940.167 Q92.3808 941.301 94.6956 941.88 Q97.0104 942.458 99.5335 942.458 Q103.932 942.458 106.223 940.722 Q108.538 938.986 108.538 935.676 Q108.538 932.62 106.385 930.908 Q104.256 929.171 100.436 929.171 L96.4085 929.171 L96.4085 925.329 L100.621 925.329 Q104.071 925.329 105.899 923.963 Q107.728 922.574 107.728 919.982 Q107.728 917.32 105.83 915.908 Q103.955 914.472 100.436 914.472 Q98.515 914.472 96.316 914.889 Q94.1169 915.306 91.478 916.185 L91.478 912.019 Q94.14 911.278 96.4548 910.908 Q98.7928 910.537 100.853 910.537 Q106.177 910.537 109.279 912.968 Q112.381 915.375 112.381 919.496 Q112.381 922.366 110.737 924.357 Q109.094 926.324 106.061 927.088 Z\" fill=\"#000000\" fill-rule=\"nonzero\" fill-opacity=\"1\" /><path clip-path=\"url(#clip880)\" d=\"M53.0754 648.9 L82.7512 648.9 L82.7512 652.835 L53.0754 652.835 L53.0754 648.9 Z\" fill=\"#000000\" fill-rule=\"nonzero\" fill-opacity=\"1\" /><path clip-path=\"url(#clip880)\" d=\"M96.8715 661.793 L113.191 661.793 L113.191 665.728 L91.2465 665.728 L91.2465 661.793 Q93.9086 659.038 98.4919 654.409 Q103.098 649.756 104.279 648.413 Q106.524 645.89 107.404 644.154 Q108.307 642.395 108.307 640.705 Q108.307 637.951 106.362 636.214 Q104.441 634.478 101.339 634.478 Q99.14 634.478 96.6863 635.242 Q94.2558 636.006 91.478 637.557 L91.478 632.835 Q94.3021 631.701 96.7558 631.122 Q99.2095 630.543 101.246 630.543 Q106.617 630.543 109.811 633.228 Q113.006 635.914 113.006 640.404 Q113.006 642.534 112.196 644.455 Q111.408 646.353 109.302 648.946 Q108.723 649.617 105.621 652.835 Q102.52 656.029 96.8715 661.793 Z\" fill=\"#000000\" fill-rule=\"nonzero\" fill-opacity=\"1\" /><path clip-path=\"url(#clip880)\" d=\"M52.7051 368.906 L82.3808 368.906 L82.3808 372.841 L52.7051 372.841 L52.7051 368.906 Z\" fill=\"#000000\" fill-rule=\"nonzero\" fill-opacity=\"1\" /><path clip-path=\"url(#clip880)\" d=\"M93.2836 381.799 L100.922 381.799 L100.922 355.433 L92.6123 357.1 L92.6123 352.841 L100.876 351.174 L105.552 351.174 L105.552 381.799 L113.191 381.799 L113.191 385.734 L93.2836 385.734 L93.2836 381.799 Z\" fill=\"#000000\" fill-rule=\"nonzero\" fill-opacity=\"1\" /><path clip-path=\"url(#clip880)\" d=\"M101.246 74.2587 Q97.6354 74.2587 95.8067 77.8235 Q94.0012 81.3652 94.0012 88.4948 Q94.0012 95.6012 95.8067 99.166 Q97.6354 102.708 101.246 102.708 Q104.881 102.708 106.686 99.166 Q108.515 95.6012 108.515 88.4948 Q108.515 81.3652 106.686 77.8235 Q104.881 74.2587 101.246 74.2587 M101.246 70.5551 Q107.057 70.5551 110.112 75.1615 Q113.191 79.7448 113.191 88.4948 Q113.191 97.2216 110.112 101.828 Q107.057 106.411 101.246 106.411 Q95.4363 106.411 92.3576 101.828 Q89.3021 97.2216 89.3021 88.4948 Q89.3021 79.7448 92.3576 75.1615 Q95.4363 70.5551 101.246 70.5551 Z\" fill=\"#000000\" fill-rule=\"nonzero\" fill-opacity=\"1\" /><polyline clip-path=\"url(#clip882)\" style=\"stroke:#009af9; stroke-linecap:round; stroke-linejoin:round; stroke-width:4; stroke-opacity:1; fill:none\" points=\"211.556,508.951 232.554,355.525 253.553,267.876 274.551,210.682 295.549,171.205 316.548,143.285 337.546,123.409 358.544,109.366 379.543,99.6857 400.541,93.3472 421.539,89.6216 442.538,87.9763 463.536,88.0111 484.534,89.4207 505.533,91.9674 526.531,95.4641 547.529,99.7596 568.528,104.732 589.526,110.281 610.524,116.324 631.523,122.793 652.521,129.628 673.519,136.782 694.518,144.213 715.516,151.884 736.514,159.767 757.513,167.833 778.511,176.062 799.509,184.432 820.508,192.925 841.506,201.528 862.504,210.226 883.503,219.007 904.501,227.86 925.499,236.776 946.498,245.746 967.496,254.763 988.494,263.818 1009.49,272.907 1030.49,282.023 1051.49,291.161 1072.49,300.316 1093.49,309.485 1114.48,318.663 1135.48,327.846 1156.48,337.032 1177.48,346.217 1198.48,355.399 1219.48,364.576 1240.47,373.745 1261.47,382.904 1282.47,392.052 1303.47,401.186 1324.47,410.306 1345.47,419.41 1366.46,428.497 1387.46,437.566 1408.46,446.615 1429.46,455.644 1450.46,464.653 1471.46,473.64 1492.45,482.604 1513.45,491.546 1534.45,500.465 1555.45,509.359 1576.45,518.229 1597.45,527.075 1618.44,535.896 1639.44,544.69 1660.44,553.46 1681.44,562.203 1702.44,570.919 1723.44,579.61 1744.43,588.273 1765.43,596.909 1786.43,605.518 1807.43,614.099 1828.43,622.653 1849.43,631.179 1870.42,639.677 1891.42,648.146 1912.42,656.587 1933.42,664.999 1954.42,673.383 1975.42,681.738 1996.41,690.063 2017.41,698.359 2038.41,706.627 2059.41,714.864 2080.41,723.069 2101.41,731.246 2122.4,739.397 2143.4,747.513 2164.4,755.598 2185.4,763.651 2206.4,771.675 2227.4,779.682 2248.39,787.643 2269.39,795.573 2290.39,803.472 \"/>\n",
       "<polyline clip-path=\"url(#clip882)\" style=\"stroke:#e26f46; stroke-linecap:round; stroke-linejoin:round; stroke-width:4; stroke-opacity:1; fill:none\" points=\"211.556,1445.72 232.554,1211.35 253.553,1067.04 274.551,964.308 295.549,885.664 316.548,822.85 337.546,771.274 358.544,728.11 379.543,691.547 400.541,660.29 421.539,633.414 442.538,610.223 463.536,590.176 484.534,572.84 505.533,557.865 526.531,544.953 547.529,533.86 568.528,524.376 589.526,516.321 610.524,509.54 631.523,503.898 652.521,499.277 673.519,495.576 694.518,492.705 715.516,490.586 736.514,489.149 757.513,488.334 778.511,488.087 799.509,488.36 820.508,489.111 841.506,490.301 862.504,491.898 883.503,493.868 904.501,496.185 925.499,498.824 946.498,501.761 967.496,504.976 988.494,508.449 1009.49,512.162 1030.49,516.098 1051.49,520.243 1072.49,524.582 1093.49,529.103 1114.48,533.793 1135.48,538.64 1156.48,543.635 1177.48,548.768 1198.48,554.029 1219.48,559.41 1240.47,564.904 1261.47,570.503 1282.47,576.199 1303.47,581.987 1324.47,587.862 1345.47,593.816 1366.46,599.846 1387.46,605.945 1408.46,612.111 1429.46,618.338 1450.46,624.623 1471.46,630.962 1492.45,637.352 1513.45,643.788 1534.45,650.269 1555.45,656.791 1576.45,663.352 1597.45,669.948 1618.44,676.579 1639.44,683.24 1660.44,689.931 1681.44,696.649 1702.44,703.392 1723.44,710.158 1744.43,716.946 1765.43,723.753 1786.43,730.578 1807.43,737.42 1828.43,744.277 1849.43,751.146 1870.42,758.028 1891.42,764.92 1912.42,771.822 1933.42,778.731 1954.42,785.647 1975.42,792.569 1996.41,799.494 2017.41,806.423 2038.41,813.354 2059.41,820.286 2080.41,827.217 2101.41,834.147 2122.4,841.075 2143.4,848 2164.4,854.921 2185.4,861.836 2206.4,868.745 2227.4,875.649 2248.39,882.544 2269.39,889.43 2290.39,896.308 \"/>\n",
       "<path clip-path=\"url(#clip880)\" d=\"M2006.52 250.738 L2279.3 250.738 L2279.3 95.2176 L2006.52 95.2176  Z\" fill=\"#ffffff\" fill-rule=\"evenodd\" fill-opacity=\"1\"/>\n",
       "<polyline clip-path=\"url(#clip880)\" style=\"stroke:#000000; stroke-linecap:round; stroke-linejoin:round; stroke-width:4; stroke-opacity:1; fill:none\" points=\"2006.52,250.738 2279.3,250.738 2279.3,95.2176 2006.52,95.2176 2006.52,250.738 \"/>\n",
       "<polyline clip-path=\"url(#clip880)\" style=\"stroke:#009af9; stroke-linecap:round; stroke-linejoin:round; stroke-width:4; stroke-opacity:1; fill:none\" points=\"2031,147.058 2177.91,147.058 \"/>\n",
       "<path clip-path=\"url(#clip880)\" d=\"M2216.23 166.745 Q2214.43 171.375 2212.71 172.787 Q2211 174.199 2208.13 174.199 L2204.73 174.199 L2204.73 170.634 L2207.23 170.634 Q2208.99 170.634 2209.96 169.8 Q2210.93 168.967 2212.11 165.865 L2212.88 163.921 L2202.39 138.412 L2206.9 138.412 L2215.01 158.689 L2223.11 138.412 L2227.62 138.412 L2216.23 166.745 Z\" fill=\"#000000\" fill-rule=\"nonzero\" fill-opacity=\"1\" /><path clip-path=\"url(#clip880)\" d=\"M2234.91 160.402 L2242.55 160.402 L2242.55 134.037 L2234.24 135.703 L2234.24 131.444 L2242.5 129.778 L2247.18 129.778 L2247.18 160.402 L2254.82 160.402 L2254.82 164.338 L2234.91 164.338 L2234.91 160.402 Z\" fill=\"#000000\" fill-rule=\"nonzero\" fill-opacity=\"1\" /><polyline clip-path=\"url(#clip880)\" style=\"stroke:#e26f46; stroke-linecap:round; stroke-linejoin:round; stroke-width:4; stroke-opacity:1; fill:none\" points=\"2031,198.898 2177.91,198.898 \"/>\n",
       "<path clip-path=\"url(#clip880)\" d=\"M2216.23 218.585 Q2214.43 223.215 2212.71 224.627 Q2211 226.039 2208.13 226.039 L2204.73 226.039 L2204.73 222.474 L2207.23 222.474 Q2208.99 222.474 2209.96 221.64 Q2210.93 220.807 2212.11 217.705 L2212.88 215.761 L2202.39 190.252 L2206.9 190.252 L2215.01 210.529 L2223.11 190.252 L2227.62 190.252 L2216.23 218.585 Z\" fill=\"#000000\" fill-rule=\"nonzero\" fill-opacity=\"1\" /><path clip-path=\"url(#clip880)\" d=\"M2238.13 212.242 L2254.45 212.242 L2254.45 216.178 L2232.5 216.178 L2232.5 212.242 Q2235.17 209.488 2239.75 204.858 Q2244.36 200.205 2245.54 198.863 Q2247.78 196.34 2248.66 194.604 Q2249.57 192.844 2249.57 191.155 Q2249.57 188.4 2247.62 186.664 Q2245.7 184.928 2242.6 184.928 Q2240.4 184.928 2237.94 185.692 Q2235.51 186.455 2232.74 188.006 L2232.74 183.284 Q2235.56 182.15 2238.01 181.571 Q2240.47 180.993 2242.5 180.993 Q2247.88 180.993 2251.07 183.678 Q2254.26 186.363 2254.26 190.854 Q2254.26 192.983 2253.45 194.905 Q2252.67 196.803 2250.56 199.395 Q2249.98 200.067 2246.88 203.284 Q2243.78 206.479 2238.13 212.242 Z\" fill=\"#000000\" fill-rule=\"nonzero\" fill-opacity=\"1\" /></svg>\n"
      ]
     },
     "execution_count": 6,
     "metadata": {},
     "output_type": "execute_result"
    }
   ],
   "source": [
    "es_dsnb = range(0.5, 40, 100)\n",
    "plot(es_dsnb, [log10.(DSNB_vdecay_3_NO.(es_dsnb, 1, 0, false, \"21\", SNRnorm)) log10.(DSNB_vdecay_3_NO.(es_dsnb, 1, 10^(-24), false, \"21\", SNRnorm))])"
   ]
  },
  {
   "cell_type": "code",
   "execution_count": 94,
   "metadata": {},
   "outputs": [
    {
     "data": {
      "text/plain": [
       "DSNB_vdecay_1_NO (generic function with 1 method)"
      ]
     },
     "execution_count": 94,
     "metadata": {},
     "output_type": "execute_result"
    }
   ],
   "source": [
    "function ψSH(Eh, El, hc)\n",
    "    if hc\n",
    "        return 2*El/Eh^2\n",
    "    else\n",
    "        return (2/Eh)*(1-(El/Eh))\n",
    "    end\n",
    "end\n",
    "\n",
    "function branch_3ν(j, i, ordering)\n",
    "    if ordering == \"NO\"\n",
    "        if j == 3\n",
    "            return 0.25\n",
    "        elseif j == 2\n",
    "            return 0.5\n",
    "        else\n",
    "            return println(\"error: j is not a valid index\")\n",
    "        end\n",
    "    elseif ordering == \"IO\"\n",
    "        if j == 2\n",
    "            return 0.25\n",
    "        elseif j == 1\n",
    "            return 0.5\n",
    "        else\n",
    "            return println(\"error: j is not a valid index\")\n",
    "        end\n",
    "    else\n",
    "        return println(\"error: ordering must be either 'NO' or 'IO'\")\n",
    "    end\n",
    "end\n",
    "\n",
    "function q3icontrib(E, z0, z, α3, threebar, i, ibar, bh_frac, normchoice)\n",
    "    if threebar == ibar\n",
    "        hc = true\n",
    "    else\n",
    "        hc = false\n",
    "    end\n",
    "\n",
    "    Ers = E*(1+z)/(1+z0)\n",
    "\n",
    "    qnorm = 3.086e19 * 1.516e15 * 1e6 / (3e8 * 1e12)\n",
    "    integrand(Eprime, z) = qnorm * (c0/Hubble(z))*DSNB_vdecay_3_NO(Eprime, z, α3, threebar, bh_frac, normchoice) * (α3 * branch_3ν(3, i, \"NO\")/Eprime) * ψSH(Eprime, Ers, hc)\n",
    "    \n",
    "    Emax = Ers + 50\n",
    "\n",
    "    return quadgk(Eprime -> integrand(Eprime, z), Ers, Emax, rtol=1e-2)[1]\n",
    "\n",
    "end;\n",
    "\n",
    "function DSNB_vdecay_2_NO(E, z0, α3, α2, twobar, bh_frac, normchoice)\n",
    "    integrand(z) = (DSNB_integrand(E, z0, z, 2, twobar, \"NO\", bh_frac, normchoice) +\n",
    "                          q3icontrib(E, z0, z, α3, true, 2, twobar, bh_frac, normchoice) + q3icontrib(E, z0, z, α3, false, 2, twobar, bh_frac, normchoice))*decay(E, α2, z0, z)\n",
    "    return (1/(1+z0)) * quadgk(z -> integrand(z), z0, 5, rtol=1e-2)[1]\n",
    "end\n",
    "\n",
    "function q21contrib(E, z0, z, α3, α2, twobar, onebar, bh_frac, normchoice)\n",
    "    if twobar == onebar\n",
    "        hc = true\n",
    "    else\n",
    "        hc = false\n",
    "    end\n",
    "\n",
    "    Ers = E*(1+z)/(1+z0)\n",
    "\n",
    "    qnorm = 3.086e19 * 1.516e15 * 1e6 / (3e8 * 1e12)\n",
    "    integrand(Eprime, z) = qnorm * (c0/Hubble(z))*DSNB_vdecay_2_NO(Eprime, z, α3, α2, twobar, bh_frac, normchoice) * (α2 * branch_3ν(2, 1, \"NO\")/Eprime) * ψSH(Eprime, Ers, hc)\n",
    "    \n",
    "    Emax = Ers + 50\n",
    "\n",
    "    return quadgk(Eprime -> integrand(Eprime, z), Ers, Emax, rtol=1e-2)[1]\n",
    "\n",
    "end\n",
    "\n",
    "# z0 is always 0 here because we're only concerned with the flux at Earth\n",
    "function DSNB_vdecay_1_NO(E, α3, α2, onebar, bh_frac, normchoice)\n",
    "    integrand(z) = (DSNB_integrand(E, 0, z, 1, onebar, \"NO\", bh_frac, normchoice)\n",
    "                    + q21contrib(E, 0, z, α3, α2, true, onebar, bh_frac, normchoice)\n",
    "                    + q21contrib(E, 0, z, α3, α2, false, onebar, bh_frac, normchoice)\n",
    "                    + q3icontrib(E, 0, z, α3, true, 1, onebar, bh_frac, normchoice)\n",
    "                    + q3icontrib(E, 0, z, α3, false, 1, onebar, bh_frac, normchoice))\n",
    "\n",
    "    return quadgk(z -> integrand(z), 0, 5, rtol=1e-2)[1]\n",
    "end"
   ]
  },
  {
   "cell_type": "code",
   "execution_count": 61,
   "metadata": {},
   "outputs": [
    {
     "name": "stdout",
     "output_type": "stream",
     "text": [
      "  0.328799 seconds (3.14 M allocations: 48.613 MiB, 39.84% gc time)\n"
     ]
    },
    {
     "data": {
      "text/plain": [
       "1.0793210353250817"
      ]
     },
     "execution_count": 61,
     "metadata": {},
     "output_type": "execute_result"
    }
   ],
   "source": [
    "@time DSNB_vdecay_2_NO(7, 0, 0, 0, true, \"21\", SNRnorm)"
   ]
  },
  {
   "cell_type": "code",
   "execution_count": 95,
   "metadata": {},
   "outputs": [
    {
     "name": "stdout",
     "output_type": "stream",
     "text": [
      "372.726137 seconds (2.70 G allocations: 52.681 GiB, 8.91% gc time, 53.76% compilation time)\n"
     ]
    },
    {
     "data": {
      "text/plain": [
       "8.14333841213382"
      ]
     },
     "execution_count": 95,
     "metadata": {},
     "output_type": "execute_result"
    }
   ],
   "source": [
    "@time DSNB_vdecay_1_NO(1, 10^(-25), 10^(-25), true, \"21\", SNRnorm)"
   ]
  },
  {
   "cell_type": "code",
   "execution_count": 85,
   "metadata": {},
   "outputs": [
    {
     "name": "stdout",
     "output_type": "stream",
     "text": [
      "  7.961052 seconds (83.90 M allocations: 1.262 GiB, 6.79% gc time)\n"
     ]
    },
    {
     "data": {
      "text/plain": [
       "0.580279139617933"
      ]
     },
     "execution_count": 85,
     "metadata": {},
     "output_type": "execute_result"
    }
   ],
   "source": [
    "@time q21contrib(1, 1, 2, 10^(-25), 10^(-25), false, false, \"21\", SNRnorm)"
   ]
  }
 ],
 "metadata": {
  "kernelspec": {
   "display_name": "Julia 1.9.2",
   "language": "julia",
   "name": "julia-1.9"
  },
  "language_info": {
   "file_extension": ".jl",
   "mimetype": "application/julia",
   "name": "julia",
   "version": "1.9.2"
  },
  "orig_nbformat": 4,
  "vscode": {
   "interpreter": {
    "hash": "aee8b7b246df8f9039afb4144a1f6fd8d2ca17a180786b69acc140d282b71a49"
   }
  }
 },
 "nbformat": 4,
 "nbformat_minor": 2
}
